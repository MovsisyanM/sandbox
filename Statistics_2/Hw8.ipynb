{
 "cells": [
  {
   "attachments": {},
   "cell_type": "markdown",
   "metadata": {},
   "source": [
    "# Homework 8\n",
    "###### by Mher Movsisyan\n",
    "---"
   ]
  },
  {
   "cell_type": "markdown",
   "metadata": {},
   "source": [
    "### Problem 1. (30 points)\n",
    "A random variable X follows an exponential distribution with mean 1/𝛽. Assume\n",
    "the prior distribution of 𝛽 is another exponential distribution with parameter 1.5.\n",
    "Suppose a single point is drawn from the distribution of X, which is equal to 1.2 (x = 1.2).  \n",
    "a) Find the posterior distribution of 𝛽 (10 points)  \n",
    "b) Determine the Bayes estimate of 𝛽 under the 0/1 loss function. (10 points)  \n",
    "c) Determine the Bayes estimate of 𝛽 under the squared-error loss function. (10 points)  "
   ]
  },
  {
   "attachments": {},
   "cell_type": "markdown",
   "metadata": {},
   "source": [
    "Answer: a)  \n",
    "$$ \\lambda_X = \\beta $$  \n",
    "$$ \\lambda_{\\beta} = \\frac{1}{1.5} $$  \n",
    "$$ \\bar{\\lambda_{X}^{*}} = 1.2 $$  \n",
    "$$ n_X = 1 $$\n",
    "$$ X \\sim Exp(\\beta) $$\n",
    "$$ \\beta \\sim Exp(1.5) $$"
   ]
  },
  {
   "cell_type": "markdown",
   "metadata": {},
   "source": [
    "$$ \\pi(\\beta \\vert x) \\propto \\pi(x | \\beta) * \\pi(\\beta) $$\n",
    "$$ \\pi(x | \\beta) = \\beta * e^{-1.2 * \\beta} $$\n",
    "$$ \\pi(\\beta) = 1.5 * e^{-1.5\\beta} $$\n",
    "$$ \\pi(\\beta \\vert x) \\propto \\beta * e^{-1.2 * \\beta} * 1.5 * e^{-1.5\\beta} = 1.5 \\beta e^{-2.7\\beta} $$"
   ]
  },
  {
   "attachments": {},
   "cell_type": "markdown",
   "metadata": {},
   "source": [
    "We can see that a gamma distribution emerged where.\n",
    "$$ b = \\frac{1}{2.7}\\ \\ \\ \\ \\ \\ a = 2 $$"
   ]
  },
  {
   "attachments": {},
   "cell_type": "markdown",
   "metadata": {},
   "source": [
    "Answer: b)  \n",
    "This is the mode, which for a gamma distribution is $ \\frac{\\alpha - 1}{\\beta} = 2.7 $"
   ]
  },
  {
   "attachments": {},
   "cell_type": "markdown",
   "metadata": {},
   "source": [
    "Answer: c)  \n",
    "This is the mean, which for a gamma distribution is $ \\frac{\\alpha}{\\beta} = 5.4 $"
   ]
  },
  {
   "attachments": {},
   "cell_type": "markdown",
   "metadata": {},
   "source": [
    "### Problem 2 (20 points)  \n",
    "Suppose that a sample consisting of 12, 9, 7, 11, 10, 8, 7, 13, 10 and 7 outcomes\n",
    "from a Poisson population with mean $ \\lambda $. Assume that the parameter $ \\lambda $ follows a\n",
    "gamma distribution with parameters (4, 2).  \n",
    "a) Find the posterior distribution of $ \\lambda $ (10 points)  \n",
    "b) Under the squared-error loss function, find the Bayes estimate of $ \\lambda $ (10 points)  \n"
   ]
  },
  {
   "attachments": {},
   "cell_type": "markdown",
   "metadata": {},
   "source": [
    "Answer:  \n",
    "$$ \\pi(x \\vert \\lambda) \\sim Poisson(\\lambda) \\propto \\prod_{i = 1}^{n} e^{-\\lambda}\\frac{\\lambda^{x_i}}{x_i!} $$\n",
    "$$ \\pi(\\lambda) \\sim Gamma(4, 2) \\propto \\frac{\\lambda^3}{3^4} * e^{-\\frac{\\lambda}{2}} $$\n",
    "  \n"
   ]
  },
  {
   "attachments": {},
   "cell_type": "markdown",
   "metadata": {},
   "source": [
    "$$ \\pi(\\lambda \\vert x) \\propto e^{-(n + 0.5)\\lambda} \\frac{\\lambda^{(n+3)x_i}}{3^4\\prod_{i=1}^{n} x_i!}"
   ]
  },
  {
   "attachments": {},
   "cell_type": "markdown",
   "metadata": {},
   "source": [
    "$$ \\hat{\\lambda} = 95 * \\frac{1}{11} = 8.63 $$"
   ]
  },
  {
   "attachments": {},
   "cell_type": "markdown",
   "metadata": {},
   "source": [
    "### Problem 3 (20 points)  \n",
    "In Armenia for a person, a probability to have an advanced knowledge of English is\n",
    "4%. Assume a person passed the test of having advanced knowledge of English\n",
    "(Probability to pass test with advanced knowledge is 95%, Probability to fail\n",
    "without advance knowledge is 93%)  \n",
    "a) Calculate the posterior probabilities of having advanced English knowledge\n",
    "𝑃(𝐴| 𝑝𝑎𝑠𝑠𝑒𝑑) and intermediate English or less knowledge 𝑃(𝐼| 𝑝𝑎𝑠𝑠𝑒𝑑)\n",
    "given that test is passed (5 points)  \n",
    "b) Given initial and posterior probabilities calculated in part a, derive Bayes\n",
    "Factor, where 𝐻1 − is having an Intermediate or less knowledge, 𝐻2 − is\n",
    "having advanced knowledge of English(10 points)  \n",
    "c) Based on the results in part b, what can we conclude about evidence against\n",
    "hypothesis of having a less than advanced knowledge? (5 points)"
   ]
  },
  {
   "attachments": {},
   "cell_type": "markdown",
   "metadata": {},
   "source": [
    "Answer:  \n",
    "$$ P(A \\vert passed) = \\frac{0.038}{0.105} = 0.36 $$\n",
    "$$ P(I \\vert passed) = \\frac{0.067}{0.105} = 0.64 $$"
   ]
  },
  {
   "attachments": {},
   "cell_type": "markdown",
   "metadata": {},
   "source": [
    "$$ B[H_2:H_1] = 13.57 $$\n",
    "We can conclude that you have practically-significantly more chances to pass when you know good english"
   ]
  },
  {
   "attachments": {},
   "cell_type": "markdown",
   "metadata": {},
   "source": [
    "### Problem 4 (R) (30 points)  \n",
    "The data in `stay_at_home_covid.csv` represent the level of restrictions (0-no\n",
    "restriction, 2-strong restriction) taken by the government of seven countries.  \n",
    "a) Count mean of every country’s restriction of 2020 and 2021 (5 points)  \n",
    "b) Draw a histograms of mean restriction level for 2020 and 2021 (5 points)  \n",
    "c) Implement a t-test that compares mean restriction for 2020 and 2021 (5\n",
    "points)  \n",
    "d) Implement a Bayes factor test that compares mean restriction for 2020 and\n",
    "2021 (5 points)  \n",
    "e) What conclusions can we make from results in parts c and d? (5 points)  "
   ]
  },
  {
   "cell_type": "code",
   "execution_count": 5,
   "metadata": {},
   "outputs": [
    {
     "data": {
      "text/html": [
       "<div>\n",
       "<style scoped>\n",
       "    .dataframe tbody tr th:only-of-type {\n",
       "        vertical-align: middle;\n",
       "    }\n",
       "\n",
       "    .dataframe tbody tr th {\n",
       "        vertical-align: top;\n",
       "    }\n",
       "\n",
       "    .dataframe thead th {\n",
       "        text-align: right;\n",
       "    }\n",
       "</style>\n",
       "<table border=\"1\" class=\"dataframe\">\n",
       "  <thead>\n",
       "    <tr style=\"text-align: right;\">\n",
       "      <th></th>\n",
       "      <th>country</th>\n",
       "      <th>date</th>\n",
       "      <th>policy</th>\n",
       "    </tr>\n",
       "  </thead>\n",
       "  <tbody>\n",
       "    <tr>\n",
       "      <th>0</th>\n",
       "      <td>Belgium</td>\n",
       "      <td>2020-01-01</td>\n",
       "      <td>0</td>\n",
       "    </tr>\n",
       "    <tr>\n",
       "      <th>1</th>\n",
       "      <td>Belgium</td>\n",
       "      <td>2020-01-02</td>\n",
       "      <td>0</td>\n",
       "    </tr>\n",
       "    <tr>\n",
       "      <th>2</th>\n",
       "      <td>Belgium</td>\n",
       "      <td>2020-01-03</td>\n",
       "      <td>0</td>\n",
       "    </tr>\n",
       "    <tr>\n",
       "      <th>3</th>\n",
       "      <td>Belgium</td>\n",
       "      <td>2020-01-04</td>\n",
       "      <td>0</td>\n",
       "    </tr>\n",
       "    <tr>\n",
       "      <th>4</th>\n",
       "      <td>Belgium</td>\n",
       "      <td>2020-01-05</td>\n",
       "      <td>0</td>\n",
       "    </tr>\n",
       "    <tr>\n",
       "      <th>...</th>\n",
       "      <td>...</td>\n",
       "      <td>...</td>\n",
       "      <td>...</td>\n",
       "    </tr>\n",
       "    <tr>\n",
       "      <th>4381</th>\n",
       "      <td>Spain</td>\n",
       "      <td>2021-12-27</td>\n",
       "      <td>1</td>\n",
       "    </tr>\n",
       "    <tr>\n",
       "      <th>4382</th>\n",
       "      <td>Spain</td>\n",
       "      <td>2021-12-28</td>\n",
       "      <td>1</td>\n",
       "    </tr>\n",
       "    <tr>\n",
       "      <th>4383</th>\n",
       "      <td>Spain</td>\n",
       "      <td>2021-12-29</td>\n",
       "      <td>1</td>\n",
       "    </tr>\n",
       "    <tr>\n",
       "      <th>4384</th>\n",
       "      <td>Spain</td>\n",
       "      <td>2021-12-30</td>\n",
       "      <td>1</td>\n",
       "    </tr>\n",
       "    <tr>\n",
       "      <th>4385</th>\n",
       "      <td>Spain</td>\n",
       "      <td>2021-12-31</td>\n",
       "      <td>1</td>\n",
       "    </tr>\n",
       "  </tbody>\n",
       "</table>\n",
       "<p>4386 rows × 3 columns</p>\n",
       "</div>"
      ],
      "text/plain": [
       "      country       date  policy\n",
       "0     Belgium 2020-01-01       0\n",
       "1     Belgium 2020-01-02       0\n",
       "2     Belgium 2020-01-03       0\n",
       "3     Belgium 2020-01-04       0\n",
       "4     Belgium 2020-01-05       0\n",
       "...       ...        ...     ...\n",
       "4381    Spain 2021-12-27       1\n",
       "4382    Spain 2021-12-28       1\n",
       "4383    Spain 2021-12-29       1\n",
       "4384    Spain 2021-12-30       1\n",
       "4385    Spain 2021-12-31       1\n",
       "\n",
       "[4386 rows x 3 columns]"
      ]
     },
     "execution_count": 5,
     "metadata": {},
     "output_type": "execute_result"
    }
   ],
   "source": [
    "import pandas as pd\n",
    "import numpy as np\n",
    "import matplotlib.pyplot as plt\n",
    "\n",
    "(df := pd.read_csv(\"stay-at-home-covid.csv\", parse_dates=[\"date\"]))"
   ]
  },
  {
   "cell_type": "code",
   "execution_count": 8,
   "metadata": {},
   "outputs": [
    {
     "data": {
      "text/html": [
       "<div>\n",
       "<style scoped>\n",
       "    .dataframe tbody tr th:only-of-type {\n",
       "        vertical-align: middle;\n",
       "    }\n",
       "\n",
       "    .dataframe tbody tr th {\n",
       "        vertical-align: top;\n",
       "    }\n",
       "\n",
       "    .dataframe thead th {\n",
       "        text-align: right;\n",
       "    }\n",
       "</style>\n",
       "<table border=\"1\" class=\"dataframe\">\n",
       "  <thead>\n",
       "    <tr style=\"text-align: right;\">\n",
       "      <th></th>\n",
       "      <th>country</th>\n",
       "      <th>date</th>\n",
       "      <th>policy</th>\n",
       "      <th>year</th>\n",
       "    </tr>\n",
       "  </thead>\n",
       "  <tbody>\n",
       "    <tr>\n",
       "      <th>0</th>\n",
       "      <td>Belgium</td>\n",
       "      <td>2020-01-01</td>\n",
       "      <td>0</td>\n",
       "      <td>2020</td>\n",
       "    </tr>\n",
       "    <tr>\n",
       "      <th>1</th>\n",
       "      <td>Belgium</td>\n",
       "      <td>2020-01-02</td>\n",
       "      <td>0</td>\n",
       "      <td>2020</td>\n",
       "    </tr>\n",
       "    <tr>\n",
       "      <th>2</th>\n",
       "      <td>Belgium</td>\n",
       "      <td>2020-01-03</td>\n",
       "      <td>0</td>\n",
       "      <td>2020</td>\n",
       "    </tr>\n",
       "    <tr>\n",
       "      <th>3</th>\n",
       "      <td>Belgium</td>\n",
       "      <td>2020-01-04</td>\n",
       "      <td>0</td>\n",
       "      <td>2020</td>\n",
       "    </tr>\n",
       "    <tr>\n",
       "      <th>4</th>\n",
       "      <td>Belgium</td>\n",
       "      <td>2020-01-05</td>\n",
       "      <td>0</td>\n",
       "      <td>2020</td>\n",
       "    </tr>\n",
       "    <tr>\n",
       "      <th>...</th>\n",
       "      <td>...</td>\n",
       "      <td>...</td>\n",
       "      <td>...</td>\n",
       "      <td>...</td>\n",
       "    </tr>\n",
       "    <tr>\n",
       "      <th>4381</th>\n",
       "      <td>Spain</td>\n",
       "      <td>2021-12-27</td>\n",
       "      <td>1</td>\n",
       "      <td>2021</td>\n",
       "    </tr>\n",
       "    <tr>\n",
       "      <th>4382</th>\n",
       "      <td>Spain</td>\n",
       "      <td>2021-12-28</td>\n",
       "      <td>1</td>\n",
       "      <td>2021</td>\n",
       "    </tr>\n",
       "    <tr>\n",
       "      <th>4383</th>\n",
       "      <td>Spain</td>\n",
       "      <td>2021-12-29</td>\n",
       "      <td>1</td>\n",
       "      <td>2021</td>\n",
       "    </tr>\n",
       "    <tr>\n",
       "      <th>4384</th>\n",
       "      <td>Spain</td>\n",
       "      <td>2021-12-30</td>\n",
       "      <td>1</td>\n",
       "      <td>2021</td>\n",
       "    </tr>\n",
       "    <tr>\n",
       "      <th>4385</th>\n",
       "      <td>Spain</td>\n",
       "      <td>2021-12-31</td>\n",
       "      <td>1</td>\n",
       "      <td>2021</td>\n",
       "    </tr>\n",
       "  </tbody>\n",
       "</table>\n",
       "<p>4386 rows × 4 columns</p>\n",
       "</div>"
      ],
      "text/plain": [
       "      country       date  policy  year\n",
       "0     Belgium 2020-01-01       0  2020\n",
       "1     Belgium 2020-01-02       0  2020\n",
       "2     Belgium 2020-01-03       0  2020\n",
       "3     Belgium 2020-01-04       0  2020\n",
       "4     Belgium 2020-01-05       0  2020\n",
       "...       ...        ...     ...   ...\n",
       "4381    Spain 2021-12-27       1  2021\n",
       "4382    Spain 2021-12-28       1  2021\n",
       "4383    Spain 2021-12-29       1  2021\n",
       "4384    Spain 2021-12-30       1  2021\n",
       "4385    Spain 2021-12-31       1  2021\n",
       "\n",
       "[4386 rows x 4 columns]"
      ]
     },
     "execution_count": 8,
     "metadata": {},
     "output_type": "execute_result"
    }
   ],
   "source": [
    "df[\"year\"] = df.date.dt.year\n",
    "df"
   ]
  },
  {
   "cell_type": "code",
   "execution_count": 11,
   "metadata": {},
   "outputs": [
    {
     "data": {
      "text/html": [
       "<div>\n",
       "<style scoped>\n",
       "    .dataframe tbody tr th:only-of-type {\n",
       "        vertical-align: middle;\n",
       "    }\n",
       "\n",
       "    .dataframe tbody tr th {\n",
       "        vertical-align: top;\n",
       "    }\n",
       "\n",
       "    .dataframe thead th {\n",
       "        text-align: right;\n",
       "    }\n",
       "</style>\n",
       "<table border=\"1\" class=\"dataframe\">\n",
       "  <thead>\n",
       "    <tr style=\"text-align: right;\">\n",
       "      <th></th>\n",
       "      <th>year</th>\n",
       "      <th>country</th>\n",
       "      <th>policy</th>\n",
       "    </tr>\n",
       "  </thead>\n",
       "  <tbody>\n",
       "    <tr>\n",
       "      <th>0</th>\n",
       "      <td>2020</td>\n",
       "      <td>Belgium</td>\n",
       "      <td>0.997268</td>\n",
       "    </tr>\n",
       "    <tr>\n",
       "      <th>1</th>\n",
       "      <td>2020</td>\n",
       "      <td>France</td>\n",
       "      <td>0.830601</td>\n",
       "    </tr>\n",
       "    <tr>\n",
       "      <th>2</th>\n",
       "      <td>2020</td>\n",
       "      <td>Germany</td>\n",
       "      <td>0.571038</td>\n",
       "    </tr>\n",
       "    <tr>\n",
       "      <th>3</th>\n",
       "      <td>2020</td>\n",
       "      <td>Italy</td>\n",
       "      <td>1.710383</td>\n",
       "    </tr>\n",
       "    <tr>\n",
       "      <th>4</th>\n",
       "      <td>2020</td>\n",
       "      <td>Poland</td>\n",
       "      <td>0.407104</td>\n",
       "    </tr>\n",
       "    <tr>\n",
       "      <th>5</th>\n",
       "      <td>2020</td>\n",
       "      <td>Spain</td>\n",
       "      <td>1.224044</td>\n",
       "    </tr>\n",
       "    <tr>\n",
       "      <th>6</th>\n",
       "      <td>2021</td>\n",
       "      <td>Belgium</td>\n",
       "      <td>0.923288</td>\n",
       "    </tr>\n",
       "    <tr>\n",
       "      <th>7</th>\n",
       "      <td>2021</td>\n",
       "      <td>France</td>\n",
       "      <td>0.931507</td>\n",
       "    </tr>\n",
       "    <tr>\n",
       "      <th>8</th>\n",
       "      <td>2021</td>\n",
       "      <td>Germany</td>\n",
       "      <td>1.328767</td>\n",
       "    </tr>\n",
       "    <tr>\n",
       "      <th>9</th>\n",
       "      <td>2021</td>\n",
       "      <td>Italy</td>\n",
       "      <td>1.912329</td>\n",
       "    </tr>\n",
       "    <tr>\n",
       "      <th>10</th>\n",
       "      <td>2021</td>\n",
       "      <td>Poland</td>\n",
       "      <td>0.994521</td>\n",
       "    </tr>\n",
       "    <tr>\n",
       "      <th>11</th>\n",
       "      <td>2021</td>\n",
       "      <td>Spain</td>\n",
       "      <td>1.356164</td>\n",
       "    </tr>\n",
       "  </tbody>\n",
       "</table>\n",
       "</div>"
      ],
      "text/plain": [
       "    year  country    policy\n",
       "0   2020  Belgium  0.997268\n",
       "1   2020   France  0.830601\n",
       "2   2020  Germany  0.571038\n",
       "3   2020    Italy  1.710383\n",
       "4   2020   Poland  0.407104\n",
       "5   2020    Spain  1.224044\n",
       "6   2021  Belgium  0.923288\n",
       "7   2021   France  0.931507\n",
       "8   2021  Germany  1.328767\n",
       "9   2021    Italy  1.912329\n",
       "10  2021   Poland  0.994521\n",
       "11  2021    Spain  1.356164"
      ]
     },
     "execution_count": 11,
     "metadata": {},
     "output_type": "execute_result"
    }
   ],
   "source": [
    "(means := df.groupby([\"year\", \"country\"]).policy.mean().reset_index(drop=False))"
   ]
  },
  {
   "cell_type": "code",
   "execution_count": 17,
   "metadata": {},
   "outputs": [
    {
     "data": {
      "image/png": "[encoded data removed]",
      "text/plain": [
       "<Figure size 432x288 with 1 Axes>"
      ]
     },
     "metadata": {
      "needs_background": "light"
     },
     "output_type": "display_data"
    }
   ],
   "source": [
    "means.policy.hist();"
   ]
  }
 ],
 "metadata": {
  "kernelspec": {
   "display_name": "Python 3",
   "language": "python",
   "name": "python3"
  },
  "language_info": {
   "codemirror_mode": {
    "name": "ipython",
    "version": 3
   },
   "file_extension": ".py",
   "mimetype": "text/x-python",
   "name": "python",
   "nbconvert_exporter": "python",
   "pygments_lexer": "ipython3",
   "version": "3.10.1 (tags/v3.10.1:2cd268a, Dec  6 2021, 19:10:37) [MSC v.1929 64 bit (AMD64)]"
  },
  "orig_nbformat": 4,
  "vscode": {
   "interpreter": {
    "hash": "26de051ba29f2982a8de78e945f0abaf191376122a1563185a90213a26c5da77"
   }
  }
 },
 "nbformat": 4,
 "nbformat_minor": 2
}
