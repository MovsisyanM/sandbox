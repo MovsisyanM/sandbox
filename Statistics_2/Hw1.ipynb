{
 "cells": [
  {
   "cell_type": "markdown",
   "metadata": {},
   "source": [
    "AUA Fall 2022  \n",
    "DS 110 Statistics 2  \n",
    "by Mher Movsisyan\n",
    "# Homework 1 "
   ]
  },
  {
   "cell_type": "markdown",
   "metadata": {},
   "source": [
    "------\n",
    "### Problem 1 (15 points)  \n",
    "How many percent change in `𝑦` could be expected from one unit change in `𝑥`, if the estimated model is (show the derivation).  \n",
    "$$ ln(y) = \\beta_1 + \\beta_2 * x^2 $$  \n",
    "\n",
    "<br>\n",
    "\n",
    "$$ a) \\beta_2/100 $$\n",
    "$$ b) \\beta_2 $$\n",
    "$$ c) \\beta_2 * 100 $$\n",
    "$$ d) 200\\beta_2 * x $$"
   ]
  },
  {
   "cell_type": "markdown",
   "metadata": {},
   "source": [
    "Answer:  \n",
    "\n",
    "$$ slope = x\\beta_2e^{\\beta_2x^2} $$"
   ]
  },
  {
   "cell_type": "markdown",
   "metadata": {},
   "source": [
    "$$ \\eta = \\frac{f'(x)}{f(x)} = \\frac{2x\\beta_2e^{\\beta_2x^2}}{e^{\\beta_1} * e^{\\beta_2x^2}} * 100 = \\frac{200x\\beta_2}{e^{\\beta_1}} $$\n",
    "$$ \\eta_a = \\frac{x\\beta_2}{50e^{\\beta_1}} $$"
   ]
  },
  {
   "cell_type": "markdown",
   "metadata": {},
   "source": [
    "$$ \\eta_b = \\frac{x\\beta_2}{e^{\\beta_1}} $$"
   ]
  },
  {
   "cell_type": "markdown",
   "metadata": {},
   "source": [
    "$$ \\eta_c = \\frac{200x\\beta_2}{e^{\\beta_1} } $$"
   ]
  },
  {
   "cell_type": "markdown",
   "metadata": {},
   "source": [
    "$$ \\eta_d = \\frac{600\\beta_2x^2}{e^{\\beta_1}} $$"
   ]
  },
  {
   "cell_type": "markdown",
   "metadata": {},
   "source": [
    "Final answer: C  \n",
    "  \n",
    "---  "
   ]
  },
  {
   "cell_type": "markdown",
   "metadata": {},
   "source": [
    "### Problem 2 (15 points)\n",
    "You have estimated the following simple regression model  \n",
    "$$ Productivity = 40 + 1.63 Firm\\_size - 0.05 Firm\\_size^2 $$\n",
    "What is the elasticity when Firm_size = 35.45? Find the turning point, after which an additional unit increase of Firm size has diminishing impact on Productivity."
   ]
  },
  {
   "cell_type": "markdown",
   "metadata": {},
   "source": [
    "Answer:  \n",
    "The turning point will be when `1.63 * x` will be equal to `0.05 * x^2`. This is at approximately `32.6`.\n",
    "$$ slope = 1.63 - 0.1x $$\n",
    "$$ elasticity = slope * x/y = \\frac{1.63x - 0.1x^2}{40 + 1.63 x - 0.05 x^2} $$"
   ]
  },
  {
   "cell_type": "markdown",
   "metadata": {},
   "source": [
    "$$ elasticity(35.45) = -1.94249 $$"
   ]
  },
  {
   "cell_type": "markdown",
   "metadata": {},
   "source": [
    "### Problem 3 (R, Python) (70 points)\n",
    "In the file houses.xlsx contains data on 1000 houses sold in US. The data include sale price and\n",
    "the house size in square feet. Also included is an indicator variable TRADITIONAL indicating\n",
    "whether the house style is traditional or not.  \n",
    "a) For the traditional-style houses estimate the linear regression model\n",
    "$$ Price = \\beta_0 + \\beta_1SQFT + e $$\n",
    "Test the null hypothesis that the slope is zero against the alternative that it is positive,\n",
    "using the 𝛼 = 0.01 level of significance. (15 points)"
   ]
  },
  {
   "cell_type": "code",
   "execution_count": 2,
   "metadata": {},
   "outputs": [
    {
     "data": {
      "text/html": [
       "<div>\n",
       "<style scoped>\n",
       "    .dataframe tbody tr th:only-of-type {\n",
       "        vertical-align: middle;\n",
       "    }\n",
       "\n",
       "    .dataframe tbody tr th {\n",
       "        vertical-align: top;\n",
       "    }\n",
       "\n",
       "    .dataframe thead th {\n",
       "        text-align: right;\n",
       "    }\n",
       "</style>\n",
       "<table border=\"1\" class=\"dataframe\">\n",
       "  <thead>\n",
       "    <tr style=\"text-align: right;\">\n",
       "      <th></th>\n",
       "      <th>price</th>\n",
       "      <th>sqft</th>\n",
       "      <th>Traditional</th>\n",
       "    </tr>\n",
       "  </thead>\n",
       "  <tbody>\n",
       "    <tr>\n",
       "      <th>0</th>\n",
       "      <td>66500</td>\n",
       "      <td>741</td>\n",
       "      <td>1</td>\n",
       "    </tr>\n",
       "    <tr>\n",
       "      <th>1</th>\n",
       "      <td>66000</td>\n",
       "      <td>741</td>\n",
       "      <td>1</td>\n",
       "    </tr>\n",
       "    <tr>\n",
       "      <th>2</th>\n",
       "      <td>68500</td>\n",
       "      <td>790</td>\n",
       "      <td>1</td>\n",
       "    </tr>\n",
       "    <tr>\n",
       "      <th>3</th>\n",
       "      <td>102000</td>\n",
       "      <td>2783</td>\n",
       "      <td>1</td>\n",
       "    </tr>\n",
       "    <tr>\n",
       "      <th>4</th>\n",
       "      <td>54000</td>\n",
       "      <td>1165</td>\n",
       "      <td>1</td>\n",
       "    </tr>\n",
       "    <tr>\n",
       "      <th>...</th>\n",
       "      <td>...</td>\n",
       "      <td>...</td>\n",
       "      <td>...</td>\n",
       "    </tr>\n",
       "    <tr>\n",
       "      <th>995</th>\n",
       "      <td>168000</td>\n",
       "      <td>2985</td>\n",
       "      <td>0</td>\n",
       "    </tr>\n",
       "    <tr>\n",
       "      <th>996</th>\n",
       "      <td>266900</td>\n",
       "      <td>5140</td>\n",
       "      <td>0</td>\n",
       "    </tr>\n",
       "    <tr>\n",
       "      <th>997</th>\n",
       "      <td>235000</td>\n",
       "      <td>3964</td>\n",
       "      <td>0</td>\n",
       "    </tr>\n",
       "    <tr>\n",
       "      <th>998</th>\n",
       "      <td>108900</td>\n",
       "      <td>1755</td>\n",
       "      <td>0</td>\n",
       "    </tr>\n",
       "    <tr>\n",
       "      <th>999</th>\n",
       "      <td>114500</td>\n",
       "      <td>1874</td>\n",
       "      <td>0</td>\n",
       "    </tr>\n",
       "  </tbody>\n",
       "</table>\n",
       "<p>1000 rows × 3 columns</p>\n",
       "</div>"
      ],
      "text/plain": [
       "      price  sqft  Traditional\n",
       "0     66500   741            1\n",
       "1     66000   741            1\n",
       "2     68500   790            1\n",
       "3    102000  2783            1\n",
       "4     54000  1165            1\n",
       "..      ...   ...          ...\n",
       "995  168000  2985            0\n",
       "996  266900  5140            0\n",
       "997  235000  3964            0\n",
       "998  108900  1755            0\n",
       "999  114500  1874            0\n",
       "\n",
       "[1000 rows x 3 columns]"
      ]
     },
     "execution_count": 2,
     "metadata": {},
     "output_type": "execute_result"
    }
   ],
   "source": [
    "import numpy as np\n",
    "import pandas as pd\n",
    "import statsmodels.api as sm\n",
    "from statsmodels.tools import add_constant\n",
    "import scipy.stats as ss\n",
    "\n",
    "alpha = 0.01\n",
    "\n",
    "houses = pd.read_excel(\"Houses.xlsx\")\n",
    "houses"
   ]
  },
  {
   "cell_type": "code",
   "execution_count": 3,
   "metadata": {},
   "outputs": [
    {
     "name": "stdout",
     "output_type": "stream",
     "text": [
      "P-value: 0.0\n",
      "Slope is significantly positive at alpha = 0.01\n"
     ]
    }
   ],
   "source": [
    "# grabbing traditional houses\n",
    "trad_houses = houses.loc[houses.Traditional == 1]\n",
    "\n",
    "# Running ols\n",
    "x = add_constant(trad_houses.sqft)\n",
    "y = trad_houses.price\n",
    "\n",
    "model = sm.OLS(y, x)\n",
    "results = model.fit()\n",
    "one_tailed_p_value = 1 - ss.t.cdf(results.tvalues[1], results.df_resid)\n",
    "print(f\"P-value: {one_tailed_p_value}\")\n",
    "print(\"Slope is \" + (\"significant\" if one_tailed_p_value < alpha else \"insignificant\") + f\"ly positive at alpha = {alpha}\")"
   ]
  },
  {
   "cell_type": "markdown",
   "metadata": {},
   "source": [
    "b) Using the linear model in (a), test the null hypothesis (𝐻0) that the expected price of a\n",
    "house of 1500 square feet is equal to, or less than, $100,000. What is the appropriate\n",
    "alternative hypothesis? Use the 𝛼 = 0.01 level of significance. Obtain the p-value of the\n",
    "test. What is your conclusion? (10 points)"
   ]
  },
  {
   "cell_type": "markdown",
   "metadata": {},
   "source": [
    "Answer: H1 would be that the expected price of a house of 1500 square feet is greater than $100,000"
   ]
  },
  {
   "cell_type": "code",
   "execution_count": 4,
   "metadata": {},
   "outputs": [
    {
     "data": {
      "text/plain": [
       "82250.36379019442"
      ]
     },
     "execution_count": 4,
     "metadata": {},
     "output_type": "execute_result"
    }
   ],
   "source": [
    "expected_price_at_1500 = results.get_prediction((1, 1500))\n",
    "expected_price_at_1500.predicted_mean[0]"
   ]
  },
  {
   "cell_type": "code",
   "execution_count": 5,
   "metadata": {},
   "outputs": [
    {
     "name": "stdout",
     "output_type": "stream",
     "text": [
      "P-value: 0.9999999998284276\n",
      "Null hypothesis was sustained at alpha = 0.01\n"
     ]
    }
   ],
   "source": [
    "second_test = results.t_test(([1, 1500], 100_000))\n",
    "p_value = 1 - ss.t.cdf(second_test.tvalue[0][0], results.df_resid)\n",
    "print(f\"P-value: {p_value}\")\n",
    "print(\"Null hypothesis was \" + (\"rejected\" if p_value < alpha else \"sustained\") + f\" at alpha = {alpha}\")"
   ]
  },
  {
   "cell_type": "markdown",
   "metadata": {},
   "source": [
    "c) Based on the estimated results from part (a), construct a 95% interval estimate of the\n",
    "expected price of a house of 1500 square feet. (15 points)"
   ]
  },
  {
   "cell_type": "code",
   "execution_count": 6,
   "metadata": {},
   "outputs": [
    {
     "data": {
      "text/plain": [
       "(76805.11119491234, 87695.61638547649)"
      ]
     },
     "execution_count": 6,
     "metadata": {},
     "output_type": "execute_result"
    }
   ],
   "source": [
    "se = expected_price_at_1500.se_mean[0]\n",
    "mean = expected_price_at_1500.predicted_mean[0]\n",
    "interval = (-1.96 * se + mean, 1.96 * se + mean)\n",
    "interval"
   ]
  },
  {
   "cell_type": "code",
   "execution_count": 7,
   "metadata": {},
   "outputs": [
    {
     "data": {
      "text/html": [
       "<div>\n",
       "<style scoped>\n",
       "    .dataframe tbody tr th:only-of-type {\n",
       "        vertical-align: middle;\n",
       "    }\n",
       "\n",
       "    .dataframe tbody tr th {\n",
       "        vertical-align: top;\n",
       "    }\n",
       "\n",
       "    .dataframe thead th {\n",
       "        text-align: right;\n",
       "    }\n",
       "</style>\n",
       "<table border=\"1\" class=\"dataframe\">\n",
       "  <thead>\n",
       "    <tr style=\"text-align: right;\">\n",
       "      <th></th>\n",
       "      <th>mean_ci_lower</th>\n",
       "      <th>mean</th>\n",
       "      <th>mean_ci_upper</th>\n",
       "    </tr>\n",
       "  </thead>\n",
       "  <tbody>\n",
       "    <tr>\n",
       "      <th>0</th>\n",
       "      <td>76793.824768</td>\n",
       "      <td>82250.36379</td>\n",
       "      <td>87706.902813</td>\n",
       "    </tr>\n",
       "  </tbody>\n",
       "</table>\n",
       "</div>"
      ],
      "text/plain": [
       "   mean_ci_lower         mean  mean_ci_upper\n",
       "0   76793.824768  82250.36379   87706.902813"
      ]
     },
     "execution_count": 7,
     "metadata": {},
     "output_type": "execute_result"
    }
   ],
   "source": [
    "# shorter version\n",
    "expected_price_at_1500.summary_frame()[[\"mean_ci_lower\", \"mean\", \"mean_ci_upper\"]]"
   ]
  },
  {
   "cell_type": "markdown",
   "metadata": {},
   "source": [
    "d) For the traditional-style houses, estimate the quadratic regression model\n",
    "$$ Price = \\beta_0 + \\beta_1SQFT^2 + e $$\n",
    "Test the null hypothesis that the marginal effect of an additional square foot of living\n",
    "area in a home with 1500 square feet of living space is $60 against the alternative that\n",
    "the effect is less than $60. Use 𝛼 = 0.01 level of significance. Repeat the same test for a\n",
    "home of 3000 square feet of living space. (15 points)"
   ]
  },
  {
   "cell_type": "code",
   "execution_count": 8,
   "metadata": {},
   "outputs": [
    {
     "data": {
      "text/html": [
       "<table class=\"simpletable\">\n",
       "<caption>OLS Regression Results</caption>\n",
       "<tr>\n",
       "  <th>Dep. Variable:</th>          <td>price</td>      <th>  R-squared:         </th> <td>   0.677</td> \n",
       "</tr>\n",
       "<tr>\n",
       "  <th>Model:</th>                   <td>OLS</td>       <th>  Adj. R-squared:    </th> <td>   0.676</td> \n",
       "</tr>\n",
       "<tr>\n",
       "  <th>Method:</th>             <td>Least Squares</td>  <th>  F-statistic:       </th> <td>   1214.</td> \n",
       "</tr>\n",
       "<tr>\n",
       "  <th>Date:</th>             <td>Thu, 08 Sep 2022</td> <th>  Prob (F-statistic):</th> <td>2.56e-144</td>\n",
       "</tr>\n",
       "<tr>\n",
       "  <th>Time:</th>                 <td>23:23:52</td>     <th>  Log-Likelihood:    </th> <td> -7074.6</td> \n",
       "</tr>\n",
       "<tr>\n",
       "  <th>No. Observations:</th>      <td>   582</td>      <th>  AIC:               </th> <td>1.415e+04</td>\n",
       "</tr>\n",
       "<tr>\n",
       "  <th>Df Residuals:</th>          <td>   580</td>      <th>  BIC:               </th> <td>1.416e+04</td>\n",
       "</tr>\n",
       "<tr>\n",
       "  <th>Df Model:</th>              <td>     1</td>      <th>                     </th>     <td> </td>    \n",
       "</tr>\n",
       "<tr>\n",
       "  <th>Covariance Type:</th>      <td>nonrobust</td>    <th>                     </th>     <td> </td>    \n",
       "</tr>\n",
       "</table>\n",
       "<table class=\"simpletable\">\n",
       "<tr>\n",
       "    <td></td>       <th>coef</th>     <th>std err</th>      <th>t</th>      <th>P>|t|</th>  <th>[0.025</th>    <th>0.975]</th>  \n",
       "</tr>\n",
       "<tr>\n",
       "  <th>const</th> <td> 6.871e+04</td> <td> 2873.195</td> <td>   23.914</td> <td> 0.000</td> <td> 6.31e+04</td> <td> 7.44e+04</td>\n",
       "</tr>\n",
       "<tr>\n",
       "  <th>sqft</th>  <td>    0.0121</td> <td>    0.000</td> <td>   34.839</td> <td> 0.000</td> <td>    0.011</td> <td>    0.013</td>\n",
       "</tr>\n",
       "</table>\n",
       "<table class=\"simpletable\">\n",
       "<tr>\n",
       "  <th>Omnibus:</th>       <td>135.517</td> <th>  Durbin-Watson:     </th> <td>   1.355</td>\n",
       "</tr>\n",
       "<tr>\n",
       "  <th>Prob(Omnibus):</th> <td> 0.000</td>  <th>  Jarque-Bera (JB):  </th> <td>3890.005</td>\n",
       "</tr>\n",
       "<tr>\n",
       "  <th>Skew:</th>          <td> 0.257</td>  <th>  Prob(JB):          </th> <td>    0.00</td>\n",
       "</tr>\n",
       "<tr>\n",
       "  <th>Kurtosis:</th>      <td>15.655</td>  <th>  Cond. No.          </th> <td>1.25e+07</td>\n",
       "</tr>\n",
       "</table><br/><br/>Notes:<br/>[1] Standard Errors assume that the covariance matrix of the errors is correctly specified.<br/>[2] The condition number is large, 1.25e+07. This might indicate that there are<br/>strong multicollinearity or other numerical problems."
      ],
      "text/plain": [
       "<class 'statsmodels.iolib.summary.Summary'>\n",
       "\"\"\"\n",
       "                            OLS Regression Results                            \n",
       "==============================================================================\n",
       "Dep. Variable:                  price   R-squared:                       0.677\n",
       "Model:                            OLS   Adj. R-squared:                  0.676\n",
       "Method:                 Least Squares   F-statistic:                     1214.\n",
       "Date:                Thu, 08 Sep 2022   Prob (F-statistic):          2.56e-144\n",
       "Time:                        23:23:52   Log-Likelihood:                -7074.6\n",
       "No. Observations:                 582   AIC:                         1.415e+04\n",
       "Df Residuals:                     580   BIC:                         1.416e+04\n",
       "Df Model:                           1                                         \n",
       "Covariance Type:            nonrobust                                         \n",
       "==============================================================================\n",
       "                 coef    std err          t      P>|t|      [0.025      0.975]\n",
       "------------------------------------------------------------------------------\n",
       "const       6.871e+04   2873.195     23.914      0.000    6.31e+04    7.44e+04\n",
       "sqft           0.0121      0.000     34.839      0.000       0.011       0.013\n",
       "==============================================================================\n",
       "Omnibus:                      135.517   Durbin-Watson:                   1.355\n",
       "Prob(Omnibus):                  0.000   Jarque-Bera (JB):             3890.005\n",
       "Skew:                           0.257   Prob(JB):                         0.00\n",
       "Kurtosis:                      15.655   Cond. No.                     1.25e+07\n",
       "==============================================================================\n",
       "\n",
       "Notes:\n",
       "[1] Standard Errors assume that the covariance matrix of the errors is correctly specified.\n",
       "[2] The condition number is large, 1.25e+07. This might indicate that there are\n",
       "strong multicollinearity or other numerical problems.\n",
       "\"\"\""
      ]
     },
     "execution_count": 8,
     "metadata": {},
     "output_type": "execute_result"
    }
   ],
   "source": [
    "from statsmodels.formula.api import ols\n",
    "\n",
    "x = add_constant(trad_houses.sqft**2)\n",
    "y = trad_houses.price\n",
    "\n",
    "model = sm.OLS(y, x)\n",
    "results = model.fit()\n",
    "\n",
    "results.summary()"
   ]
  },
  {
   "cell_type": "code",
   "execution_count": 9,
   "metadata": {},
   "outputs": [
    {
     "data": {
      "text/plain": [
       "(36.201762488504755, 4697.719875224629)"
      ]
     },
     "execution_count": 9,
     "metadata": {},
     "output_type": "execute_result"
    }
   ],
   "source": [
    "at_1500 = results.get_prediction((1, 1500**2))\n",
    "at_1501 = results.get_prediction((1, 1501**2))\n",
    "mean_15, se_15 = at_1501.predicted_mean[0] - at_1500.predicted_mean[0], at_1501.se_mean[0] + at_1500.se_mean[0]\n",
    "mean_15, se_15"
   ]
  },
  {
   "cell_type": "code",
   "execution_count": 10,
   "metadata": {},
   "outputs": [
    {
     "data": {
      "text/plain": [
       "(72.39146174391499, 4286.783788620144)"
      ]
     },
     "execution_count": 10,
     "metadata": {},
     "output_type": "execute_result"
    }
   ],
   "source": [
    "at_3000 = results.get_prediction((1, 3000**2))\n",
    "at_3001 = results.get_prediction((1, 3001**2))\n",
    "mean_30, se_30 = at_3001.predicted_mean[0] - at_3000.predicted_mean[0], at_3001.se_mean[0] + at_3000.se_mean[0], \n",
    "mean_30, se_30"
   ]
  },
  {
   "cell_type": "code",
   "execution_count": 11,
   "metadata": {},
   "outputs": [
    {
     "data": {
      "text/plain": [
       "Ttest_indResult(statistic=-0.08626938007706489, pvalue=0.9312671925559495)"
      ]
     },
     "execution_count": 11,
     "metadata": {},
     "output_type": "execute_result"
    }
   ],
   "source": [
    "ss.ttest_ind_from_stats(mean_15, se_15, 580, 60, se_15, 580)"
   ]
  },
  {
   "cell_type": "code",
   "execution_count": 12,
   "metadata": {},
   "outputs": [
    {
     "data": {
      "text/plain": [
       "Ttest_indResult(statistic=0.04922548000575708, pvalue=0.9607480944332362)"
      ]
     },
     "execution_count": 12,
     "metadata": {},
     "output_type": "execute_result"
    }
   ],
   "source": [
    "ss.ttest_ind_from_stats(mean_30, se_30, 580, 60, se_30, 580)"
   ]
  },
  {
   "cell_type": "markdown",
   "metadata": {},
   "source": [
    "e) For the traditional-style houses, estimate the log-linear regression model  \n",
    "$$ 𝐿𝑛(𝑃𝑟𝑖𝑐𝑒) = \\beta_0 + \\beta_1𝑆𝑄𝐹𝑇 + 𝑒 $$  \n",
    "Test the null hypothesis that the marginal effect of an additional square foot of living\n",
    "area in a home with 1500 square feet of living space is $60 against the alternative that\n",
    "the effect is less than $60. Use the 𝛼 = 0.01 level of significance. Repeat the same test\n",
    "for a home of 3000 square feet of living space. (15 points)"
   ]
  },
  {
   "cell_type": "code",
   "execution_count": 13,
   "metadata": {},
   "outputs": [
    {
     "data": {
      "text/html": [
       "<table class=\"simpletable\">\n",
       "<caption>OLS Regression Results</caption>\n",
       "<tr>\n",
       "  <th>Dep. Variable:</th>          <td>price</td>      <th>  R-squared:         </th> <td>   0.603</td> \n",
       "</tr>\n",
       "<tr>\n",
       "  <th>Model:</th>                   <td>OLS</td>       <th>  Adj. R-squared:    </th> <td>   0.602</td> \n",
       "</tr>\n",
       "<tr>\n",
       "  <th>Method:</th>             <td>Least Squares</td>  <th>  F-statistic:       </th> <td>   880.4</td> \n",
       "</tr>\n",
       "<tr>\n",
       "  <th>Date:</th>             <td>Thu, 08 Sep 2022</td> <th>  Prob (F-statistic):</th> <td>2.12e-118</td>\n",
       "</tr>\n",
       "<tr>\n",
       "  <th>Time:</th>                 <td>23:23:53</td>     <th>  Log-Likelihood:    </th> <td> -113.66</td> \n",
       "</tr>\n",
       "<tr>\n",
       "  <th>No. Observations:</th>      <td>   582</td>      <th>  AIC:               </th> <td>   231.3</td> \n",
       "</tr>\n",
       "<tr>\n",
       "  <th>Df Residuals:</th>          <td>   580</td>      <th>  BIC:               </th> <td>   240.0</td> \n",
       "</tr>\n",
       "<tr>\n",
       "  <th>Df Model:</th>              <td>     1</td>      <th>                     </th>     <td> </td>    \n",
       "</tr>\n",
       "<tr>\n",
       "  <th>Covariance Type:</th>      <td>nonrobust</td>    <th>                     </th>     <td> </td>    \n",
       "</tr>\n",
       "</table>\n",
       "<table class=\"simpletable\">\n",
       "<tr>\n",
       "    <td></td>       <th>coef</th>     <th>std err</th>      <th>t</th>      <th>P>|t|</th>  <th>[0.025</th>    <th>0.975]</th>  \n",
       "</tr>\n",
       "<tr>\n",
       "  <th>const</th> <td>   10.7989</td> <td>    0.035</td> <td>  311.473</td> <td> 0.000</td> <td>   10.731</td> <td>   10.867</td>\n",
       "</tr>\n",
       "<tr>\n",
       "  <th>sqft</th>  <td>    0.0004</td> <td> 1.39e-05</td> <td>   29.672</td> <td> 0.000</td> <td>    0.000</td> <td>    0.000</td>\n",
       "</tr>\n",
       "</table>\n",
       "<table class=\"simpletable\">\n",
       "<tr>\n",
       "  <th>Omnibus:</th>       <td>135.860</td> <th>  Durbin-Watson:     </th> <td>   1.337</td>\n",
       "</tr>\n",
       "<tr>\n",
       "  <th>Prob(Omnibus):</th> <td> 0.000</td>  <th>  Jarque-Bera (JB):  </th> <td> 402.676</td>\n",
       "</tr>\n",
       "<tr>\n",
       "  <th>Skew:</th>          <td>-1.116</td>  <th>  Prob(JB):          </th> <td>3.63e-88</td>\n",
       "</tr>\n",
       "<tr>\n",
       "  <th>Kurtosis:</th>      <td> 6.409</td>  <th>  Cond. No.          </th> <td>7.07e+03</td>\n",
       "</tr>\n",
       "</table><br/><br/>Notes:<br/>[1] Standard Errors assume that the covariance matrix of the errors is correctly specified.<br/>[2] The condition number is large, 7.07e+03. This might indicate that there are<br/>strong multicollinearity or other numerical problems."
      ],
      "text/plain": [
       "<class 'statsmodels.iolib.summary.Summary'>\n",
       "\"\"\"\n",
       "                            OLS Regression Results                            \n",
       "==============================================================================\n",
       "Dep. Variable:                  price   R-squared:                       0.603\n",
       "Model:                            OLS   Adj. R-squared:                  0.602\n",
       "Method:                 Least Squares   F-statistic:                     880.4\n",
       "Date:                Thu, 08 Sep 2022   Prob (F-statistic):          2.12e-118\n",
       "Time:                        23:23:53   Log-Likelihood:                -113.66\n",
       "No. Observations:                 582   AIC:                             231.3\n",
       "Df Residuals:                     580   BIC:                             240.0\n",
       "Df Model:                           1                                         \n",
       "Covariance Type:            nonrobust                                         \n",
       "==============================================================================\n",
       "                 coef    std err          t      P>|t|      [0.025      0.975]\n",
       "------------------------------------------------------------------------------\n",
       "const         10.7989      0.035    311.473      0.000      10.731      10.867\n",
       "sqft           0.0004   1.39e-05     29.672      0.000       0.000       0.000\n",
       "==============================================================================\n",
       "Omnibus:                      135.860   Durbin-Watson:                   1.337\n",
       "Prob(Omnibus):                  0.000   Jarque-Bera (JB):              402.676\n",
       "Skew:                          -1.116   Prob(JB):                     3.63e-88\n",
       "Kurtosis:                       6.409   Cond. No.                     7.07e+03\n",
       "==============================================================================\n",
       "\n",
       "Notes:\n",
       "[1] Standard Errors assume that the covariance matrix of the errors is correctly specified.\n",
       "[2] The condition number is large, 7.07e+03. This might indicate that there are\n",
       "strong multicollinearity or other numerical problems.\n",
       "\"\"\""
      ]
     },
     "execution_count": 13,
     "metadata": {},
     "output_type": "execute_result"
    }
   ],
   "source": [
    "x = add_constant(trad_houses.sqft)\n",
    "y = np.log(trad_houses.price)\n",
    "\n",
    "model = sm.OLS(y, x)\n",
    "results = model.fit()\n",
    "\n",
    "results.summary()"
   ]
  },
  {
   "cell_type": "code",
   "execution_count": 14,
   "metadata": {},
   "outputs": [
    {
     "data": {
      "text/plain": [
       "(1.240118919378915, 62.64818446622017)"
      ]
     },
     "execution_count": 14,
     "metadata": {},
     "output_type": "execute_result"
    }
   ],
   "source": [
    "at_1500 = results.get_prediction((1, 1500**2))\n",
    "at_1501 = results.get_prediction((1, 1501**2))\n",
    "mean_15, se_15 = at_1501.predicted_mean[0] - at_1500.predicted_mean[0], at_1501.se_mean[0] + at_1500.se_mean[0]\n",
    "mean_15, se_15"
   ]
  },
  {
   "cell_type": "code",
   "execution_count": 15,
   "metadata": {},
   "outputs": [
    {
     "data": {
      "text/plain": [
       "(2.479824603529778, 250.7038033776562)"
      ]
     },
     "execution_count": 15,
     "metadata": {},
     "output_type": "execute_result"
    }
   ],
   "source": [
    "at_3000 = results.get_prediction((1, 3000**2))\n",
    "at_3001 = results.get_prediction((1, 3001**2))\n",
    "mean_30, se_30 = at_3001.predicted_mean[0] - at_3000.predicted_mean[0], at_3001.se_mean[0] + at_3000.se_mean[0], \n",
    "mean_30, se_30"
   ]
  },
  {
   "cell_type": "code",
   "execution_count": 18,
   "metadata": {},
   "outputs": [
    {
     "data": {
      "text/plain": [
       "Ttest_indResult(statistic=-0.7758518728299205, pvalue=0.43799487188678143)"
      ]
     },
     "execution_count": 18,
     "metadata": {},
     "output_type": "execute_result"
    }
   ],
   "source": [
    "ss.ttest_ind_from_stats(mean_15, se_15, 580, np.log(60), se_15, 580)"
   ]
  },
  {
   "cell_type": "code",
   "execution_count": 19,
   "metadata": {},
   "outputs": [
    {
     "data": {
      "text/plain": [
       "Ttest_indResult(statistic=-0.10966839673610433, pvalue=0.9126913663738927)"
      ]
     },
     "execution_count": 19,
     "metadata": {},
     "output_type": "execute_result"
    }
   ],
   "source": [
    "ss.ttest_ind_from_stats(mean_30, se_30, 580, np.log(60), se_30, 580)"
   ]
  },
  {
   "cell_type": "markdown",
   "metadata": {},
   "source": [
    "Please solve more of the last two (3.d, 3.e) in PSS and post on moodle, thanks."
   ]
  }
 ],
 "metadata": {
  "kernelspec": {
   "display_name": "Python 3.10.1 64-bit",
   "language": "python",
   "name": "python3"
  },
  "language_info": {
   "codemirror_mode": {
    "name": "ipython",
    "version": 3
   },
   "file_extension": ".py",
   "mimetype": "text/x-python",
   "name": "python",
   "nbconvert_exporter": "python",
   "pygments_lexer": "ipython3",
   "version": "3.10.1"
  },
  "orig_nbformat": 4,
  "vscode": {
   "interpreter": {
    "hash": "26de051ba29f2982a8de78e945f0abaf191376122a1563185a90213a26c5da77"
   }
  }
 },
 "nbformat": 4,
 "nbformat_minor": 2
}
