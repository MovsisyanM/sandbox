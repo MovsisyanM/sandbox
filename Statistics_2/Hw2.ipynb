{
 "cells": [
  {
   "cell_type": "markdown",
   "metadata": {},
   "source": [
    "# Homework 2\n",
    "###### by Mher Movsisyan\n",
    "---"
   ]
  },
  {
   "cell_type": "markdown",
   "metadata": {},
   "source": [
    "### Problem 1\n",
    "Why is the number of dummy variables of the regression model always equal to the number of\n",
    "groups (n) minus 1 (n-1), but not n?  \n",
    "a. To avoid unsignificant variables  \n",
    "b. To avoid the situation of perfect multicollinearity  \n",
    "c. To increase the 𝑅<sup>2</sup> value  \n",
    "d. To manage other variables in the model  "
   ]
  },
  {
   "cell_type": "markdown",
   "metadata": {},
   "source": [
    "Answer:  \n",
    "d"
   ]
  },
  {
   "cell_type": "markdown",
   "metadata": {},
   "source": [
    "### Problem 2 (10 points)\n",
    "Consider the following model: 𝐲 = 𝛃<sub>0</sub> + 𝛃<sub>1</sub>𝒙  \n",
    "When X is a dummy variable, 𝛃<sub>0</sub> + 𝛃<sub>1</sub> can be interpreted as an estimate for …\n",
    "a. The variance of Y for observations where X=1\n",
    "b. The variance of Y for observations where X=0\n",
    "c. The mean of Y for observations where X=1\n",
    "d. The mean of Y for observations where X=0"
   ]
  },
  {
   "cell_type": "markdown",
   "metadata": {},
   "source": [
    "Answer:  \n",
    "c"
   ]
  },
  {
   "cell_type": "markdown",
   "metadata": {},
   "source": [
    "### Problem 3 (10 points)\n",
    "How do we interpret a dummy variable coefficient?  \n",
    "a. The difference between two means  \n",
    "b. The difference between two coefficients  \n",
    "c. The difference between two R-square values  \n",
    "d. None of the above  "
   ]
  },
  {
   "cell_type": "markdown",
   "metadata": {},
   "source": [
    "Answer:  \n",
    "b"
   ]
  },
  {
   "cell_type": "markdown",
   "metadata": {},
   "source": [
    "### Problem 4 (70 points)\n",
    "\n",
    "Data on 1500 house sales from Stockton, California, are contained in the data file `stockton.csv`.\n",
    "The houses are detached single-family homes that were listed for sale between October 1, 1996,\n",
    "and November 30, 1998. The variables are `PRICE` ($), `LIVAREA` (hundreds of square feet), `BEDS`\n",
    "(number of bedrooms), `BATHS` (number of bathrooms), `LGELOT` ( = 1 if lot size is greater than 0.5\n",
    "acres, zero otherwise), `AGE` (years), and `POOL` (= 1 if home has pool, zero otherwise).  \n",
    "\n",
    "a. Examine the histogram of `PRICE`. What do you observe? Create the variable `ln(PRICE)` and\n",
    "examine its histogram. Comment on the difference. (10 points)"
   ]
  },
  {
   "cell_type": "code",
   "execution_count": 10,
   "metadata": {},
   "outputs": [
    {
     "data": {
      "image/png": "[encoded data removed]",
      "text/plain": [
       "<Figure size 1008x360 with 2 Axes>"
      ]
     },
     "metadata": {
      "needs_background": "light"
     },
     "output_type": "display_data"
    }
   ],
   "source": [
    "import pandas as pd\n",
    "import numpy as np\n",
    "import matplotlib.pyplot as plt\n",
    "\n",
    "df = pd.read_csv(\"stockton.csv\")\n",
    "df[\"lnprice\"] = np.log(df.price)\n",
    "\n",
    "fig, ax = plt.subplots(1, 2, sharex=False, sharey=False, figsize=(14,5))\n",
    "ax[0].hist(df.price)\n",
    "ax[1].hist(df.lnprice)\n",
    "ax[0].set_title(\"Price\")\n",
    "ax[1].set_title(\"ln(Price)\");"
   ]
  },
  {
   "cell_type": "markdown",
   "metadata": {},
   "source": [
    "The distribution is less skewed and we can avoid treating some of our observations as outliers."
   ]
  },
  {
   "cell_type": "markdown",
   "metadata": {},
   "source": [
    "b. Estimate a regression of `ln(PRICE/1000)` on the remaining variables. Discuss the\n",
    "estimation results. Comment on the signs and significance of the variables `LIVAREA`,\n",
    "`BEDS`, `BATHS`, `AGE`, and `POOL`. (10 points)"
   ]
  },
  {
   "cell_type": "code",
   "execution_count": 18,
   "metadata": {},
   "outputs": [
    {
     "name": "stdout",
     "output_type": "stream",
     "text": [
      "                 Results: Ordinary least squares\n",
      "==================================================================\n",
      "Model:              OLS              Adj. R-squared:     0.687    \n",
      "Dependent Variable: price            AIC:                -378.2615\n",
      "Date:               2022-09-21 19:11 BIC:                -341.0690\n",
      "No. Observations:   1500             Log-Likelihood:     196.13   \n",
      "Df Model:           6                F-statistic:        549.6    \n",
      "Df Residuals:       1493             Prob (F-statistic): 0.00     \n",
      "R-squared:          0.688            Scale:              0.045288 \n",
      "--------------------------------------------------------------------\n",
      "           Coef.    Std.Err.      t       P>|t|     [0.025    0.975]\n",
      "--------------------------------------------------------------------\n",
      "const      3.9860     0.0373   106.7462   0.0000    3.9127    4.0592\n",
      "age       -0.0013     0.0005    -2.8500   0.0044   -0.0022   -0.0004\n",
      "baths     -0.0103     0.0165    -0.6216   0.5343   -0.0427    0.0221\n",
      "beds      -0.0382     0.0114    -3.3647   0.0008   -0.0605   -0.0159\n",
      "lgelot     0.2531     0.0255     9.9103   0.0000    0.2030    0.3032\n",
      "livarea    0.0539     0.0017    31.5764   0.0000    0.0506    0.0573\n",
      "pool       0.0787     0.0231     3.4119   0.0007    0.0334    0.1239\n",
      "------------------------------------------------------------------\n",
      "Omnibus:              228.398      Durbin-Watson:         1.303   \n",
      "Prob(Omnibus):        0.000        Jarque-Bera (JB):      3044.172\n",
      "Skew:                 0.199        Prob(JB):              0.000   \n",
      "Kurtosis:             9.968        Condition No.:         210     \n",
      "==================================================================\n",
      "\n"
     ]
    }
   ],
   "source": [
    "import statsmodels.api as sm\n",
    "\n",
    "y = np.log(df.price/1000)\n",
    "x = sm.add_constant(df[df.columns.difference([\"price\", \"lnprice\"])])\n",
    "model = sm.OLS(y, x)\n",
    "results = model.fit()\n",
    "\n",
    "print(results.summary2())"
   ]
  },
  {
   "cell_type": "markdown",
   "metadata": {},
   "source": [
    "Adjusted R<sup>2</sup> tells us that we could explain 66.7% of the variance with this model. The intercept, `livarea`, `age`, `lgelot`, `beds`, and `pool` variables are significant at a = 0.95. The `baths` variable is insignificant at a = 0.95. Out of the significant variables, `age` and `beds` have a negative sign. The sign of the `beds` being negative doesn't match my expectation, there might be strong multicolinearity here."
   ]
  },
  {
   "cell_type": "markdown",
   "metadata": {},
   "source": [
    "c. Discuss the effect of large lot size on the selling price of a house. (10 points)"
   ]
  },
  {
   "cell_type": "markdown",
   "metadata": {},
   "source": [
    "The effect of the `lgelot` variable is significant according to our model. Houses with a large lot size are on average e<sup>0.2531</sup> * 1000 more expensive ($1288). "
   ]
  },
  {
   "cell_type": "markdown",
   "metadata": {},
   "source": [
    "d. Introduce to the model an interaction variable `LGELOT*LIVAREA`. Estimate this model and\n",
    "discuss the interpretation, sign, and significance of the coefficient of the interaction\n",
    "variable. (10 points)"
   ]
  },
  {
   "cell_type": "code",
   "execution_count": 19,
   "metadata": {},
   "outputs": [
    {
     "name": "stdout",
     "output_type": "stream",
     "text": [
      "                 Results: Ordinary least squares\n",
      "==================================================================\n",
      "Model:              OLS              Adj. R-squared:     0.695    \n",
      "Dependent Variable: price            AIC:                -414.6295\n",
      "Date:               2022-09-21 19:19 BIC:                -372.1238\n",
      "No. Observations:   1500             Log-Likelihood:     215.31   \n",
      "Df Model:           7                F-statistic:        488.5    \n",
      "Df Residuals:       1492             Prob (F-statistic): 0.00     \n",
      "R-squared:          0.696            Scale:              0.044174 \n",
      "------------------------------------------------------------------\n",
      "                   Coef.  Std.Err.    t     P>|t|   [0.025  0.975]\n",
      "------------------------------------------------------------------\n",
      "const              3.9649   0.0370 107.0645 0.0000  3.8923  4.0376\n",
      "age               -0.0016   0.0005  -3.5269 0.0004 -0.0025 -0.0007\n",
      "baths             -0.0201   0.0164  -1.2234 0.2214 -0.0522  0.0121\n",
      "beds              -0.0480   0.0113  -4.2368 0.0000 -0.0702 -0.0258\n",
      "lgelot             0.6134   0.0632   9.7050 0.0000  0.4895  0.7374\n",
      "lgelot_livarea    -0.0161   0.0026  -6.2174 0.0000 -0.0212 -0.0110\n",
      "livarea            0.0589   0.0019  31.5824 0.0000  0.0552  0.0625\n",
      "pool               0.0853   0.0228   3.7442 0.0002  0.0406  0.1301\n",
      "------------------------------------------------------------------\n",
      "Omnibus:              235.777      Durbin-Watson:         1.369   \n",
      "Prob(Omnibus):        0.000        Jarque-Bera (JB):      3105.592\n",
      "Skew:                 0.255        Prob(JB):              0.000   \n",
      "Kurtosis:             10.031       Condition No.:         348     \n",
      "==================================================================\n",
      "\n"
     ]
    }
   ],
   "source": [
    "df[\"lgelot_livarea\"] = df.lgelot * df.livarea\n",
    "x = sm.add_constant(df[df.columns.difference([\"price\", \"lnprice\"])])\n",
    "model = sm.OLS(y, x)\n",
    "results = model.fit()\n",
    "\n",
    "print(results.summary2())"
   ]
  },
  {
   "cell_type": "markdown",
   "metadata": {},
   "source": [
    "The new interaction variable `lgelot_livarea` is significant at a = 0.95. The sign of this variable is negative, this means for large lot size houses the `livarea` variable affects the price negatively. For every 100 square feet a large lot house has, the price of the house goes down by e<sup>0.0161</sup> *  1000 ($1016)"
   ]
  },
  {
   "cell_type": "markdown",
   "metadata": {},
   "source": [
    "e. Test a joint hypothesis of non-significance of `BATHS` and `BEDS` variables. (10 points)"
   ]
  },
  {
   "cell_type": "code",
   "execution_count": 20,
   "metadata": {},
   "outputs": [
    {
     "name": "stdout",
     "output_type": "stream",
     "text": [
      "                 Results: Ordinary least squares\n",
      "==================================================================\n",
      "Model:              OLS              Adj. R-squared:     0.698    \n",
      "Dependent Variable: price            AIC:                -427.5065\n",
      "Date:               2022-09-21 19:28 BIC:                -379.6875\n",
      "No. Observations:   1500             Log-Likelihood:     222.75   \n",
      "Df Model:           8                F-statistic:        433.3    \n",
      "Df Residuals:       1491             Prob (F-statistic): 0.00     \n",
      "R-squared:          0.699            Scale:              0.043768 \n",
      "------------------------------------------------------------------\n",
      "                    Coef.  Std.Err.    t    P>|t|   [0.025  0.975]\n",
      "------------------------------------------------------------------\n",
      "const               3.5629   0.1106 32.2094 0.0000  3.3459  3.7799\n",
      "age                -0.0013   0.0005 -2.8773 0.0041 -0.0022 -0.0004\n",
      "baths               0.1532   0.0478  3.2038 0.0014  0.0594  0.2470\n",
      "baths_beds         -0.0503   0.0131 -3.8550 0.0001 -0.0759 -0.0247\n",
      "beds                0.0661   0.0317  2.0863 0.0371  0.0040  0.1282\n",
      "lgelot              0.6155   0.0629  9.7821 0.0000  0.4921  0.7389\n",
      "lgelot_livarea     -0.0163   0.0026 -6.3152 0.0000 -0.0214 -0.0112\n",
      "livarea             0.0597   0.0019 31.9605 0.0000  0.0560  0.0633\n",
      "pool                0.0847   0.0227  3.7333 0.0002  0.0402  0.1292\n",
      "------------------------------------------------------------------\n",
      "Omnibus:              235.462      Durbin-Watson:         1.364   \n",
      "Prob(Omnibus):        0.000        Jarque-Bera (JB):      3029.122\n",
      "Skew:                 0.267        Prob(JB):              0.000   \n",
      "Kurtosis:             9.941        Condition No.:         700     \n",
      "==================================================================\n",
      "\n"
     ]
    }
   ],
   "source": [
    "df[\"baths_beds\"] = df.baths * df.beds\n",
    "x = sm.add_constant(df[df.columns.difference([\"price\", \"lnprice\"])])\n",
    "model = sm.OLS(y, x)\n",
    "results = model.fit()\n",
    "\n",
    "print(results.summary2())"
   ]
  },
  {
   "cell_type": "markdown",
   "metadata": {},
   "source": [
    "The new `baths_beds` variable is significant at a = 0.95. It affects the price negatively"
   ]
  },
  {
   "cell_type": "markdown",
   "metadata": {},
   "source": [
    "f. Drop `BATHS` from the model and re-estimate the equation. Now, what is the estimated\n",
    "effect of having a `POOL`? Discuss why the estimate is different than that obtained in part\n",
    "(b). (10 points)"
   ]
  },
  {
   "cell_type": "code",
   "execution_count": 21,
   "metadata": {},
   "outputs": [
    {
     "name": "stdout",
     "output_type": "stream",
     "text": [
      "                 Results: Ordinary least squares\n",
      "==================================================================\n",
      "Model:              OLS              Adj. R-squared:     0.696    \n",
      "Dependent Variable: price            AIC:                -419.2153\n",
      "Date:               2022-09-21 19:30 BIC:                -376.7095\n",
      "No. Observations:   1500             Log-Likelihood:     217.61   \n",
      "Df Model:           7                F-statistic:        490.7    \n",
      "Df Residuals:       1492             Prob (F-statistic): 0.00     \n",
      "R-squared:          0.697            Scale:              0.044039 \n",
      "------------------------------------------------------------------\n",
      "                    Coef.  Std.Err.    t    P>|t|   [0.025  0.975]\n",
      "------------------------------------------------------------------\n",
      "const               3.8931   0.0403 96.6972 0.0000  3.8142  3.9721\n",
      "age                -0.0017   0.0004 -3.8189 0.0001 -0.0026 -0.0008\n",
      "baths_beds         -0.0110   0.0045 -2.4637 0.0139 -0.0198 -0.0022\n",
      "beds               -0.0211   0.0163 -1.2978 0.1946 -0.0530  0.0108\n",
      "lgelot              0.6173   0.0631  9.7807 0.0000  0.4935  0.7411\n",
      "lgelot_livarea     -0.0164   0.0026 -6.3466 0.0000 -0.0215 -0.0114\n",
      "livarea             0.0602   0.0019 32.2615 0.0000  0.0565  0.0638\n",
      "pool                0.0860   0.0228  3.7805 0.0002  0.0414  0.1307\n",
      "------------------------------------------------------------------\n",
      "Omnibus:              239.858      Durbin-Watson:         1.372   \n",
      "Prob(Omnibus):        0.000        Jarque-Bera (JB):      3245.592\n",
      "Skew:                 0.262        Prob(JB):              0.000   \n",
      "Kurtosis:             10.187       Condition No.:         357     \n",
      "==================================================================\n",
      "\n"
     ]
    }
   ],
   "source": [
    "x = sm.add_constant(df[df.columns.difference([\"price\", \"lnprice\", \"baths\"])])\n",
    "model = sm.OLS(y, x)\n",
    "results = model.fit()\n",
    "\n",
    "print(results.summary2())"
   ]
  },
  {
   "cell_type": "markdown",
   "metadata": {},
   "source": [
    "`pool` affects the price positively. If a house has a pool, it is on average $1090 more expensive. The coefficient is different because it is correlated with a variable (or variables) that we added."
   ]
  },
  {
   "cell_type": "markdown",
   "metadata": {},
   "source": [
    "g. Transform the numeric `AGE` variable to the interval variable with 0-10 years, 11-20 years,\n",
    "21-40 years, and 41+. In regression of point b) replace initial Age variable with this new\n",
    "`AGE` variable. Interpret the coefficients of the new Age variable. (10 points)"
   ]
  },
  {
   "cell_type": "code",
   "execution_count": 34,
   "metadata": {},
   "outputs": [
    {
     "name": "stdout",
     "output_type": "stream",
     "text": [
      "                 Results: Ordinary least squares\n",
      "==================================================================\n",
      "Model:              OLS              Adj. R-squared:     0.696    \n",
      "Dependent Variable: price            AIC:                -420.4738\n",
      "Date:               2022-09-21 19:44 BIC:                -372.6548\n",
      "No. Observations:   1500             Log-Likelihood:     219.24   \n",
      "Df Model:           8                F-statistic:        430.4    \n",
      "Df Residuals:       1491             Prob (F-statistic): 0.00     \n",
      "R-squared:          0.698            Scale:              0.043973 \n",
      "-------------------------------------------------------------------\n",
      "               Coef.   Std.Err.     t      P>|t|    [0.025   0.975]\n",
      "-------------------------------------------------------------------\n",
      "const          4.0387    0.0367  110.1792  0.0000   3.9668   4.1106\n",
      "age_11_20     -0.1089    0.0149   -7.2935  0.0000  -0.1382  -0.0796\n",
      "age_21_40     -0.0626    0.0155   -4.0342  0.0001  -0.0930  -0.0321\n",
      "age_41plus    -0.0932    0.0217   -4.3038  0.0000  -0.1357  -0.0507\n",
      "baths         -0.0064    0.0166   -0.3877  0.6983  -0.0389   0.0261\n",
      "beds          -0.0435    0.0112   -3.8719  0.0001  -0.0655  -0.0214\n",
      "lgelot         0.2502    0.0251    9.9614  0.0000   0.2009   0.2995\n",
      "livarea        0.0537    0.0017   31.6791  0.0000   0.0504   0.0571\n",
      "pool           0.0822    0.0227    3.6185  0.0003   0.0377   0.1268\n",
      "------------------------------------------------------------------\n",
      "Omnibus:              236.120      Durbin-Watson:         1.351   \n",
      "Prob(Omnibus):        0.000        Jarque-Bera (JB):      3483.332\n",
      "Skew:                 0.175        Prob(JB):              0.000   \n",
      "Kurtosis:             10.457       Condition No.:         137     \n",
      "==================================================================\n",
      "\n"
     ]
    }
   ],
   "source": [
    "df = pd.read_csv(\"stockton.csv\")\n",
    "# Reference group\n",
    "# df[\"age_0_10\"] = (df.age <= 10) + 0\n",
    "df[\"age_11_20\"] = ((df.age > 10) & (df.age <= 20)) + 0\n",
    "df[\"age_21_40\"] = ((df.age > 20) & (df.age <= 40)) + 0\n",
    "df[\"age_41plus\"] = (df.age > 40) + 0\n",
    "\n",
    "x = sm.add_constant(df[df.columns.difference([\"price\", \"age\"])])\n",
    "model = sm.OLS(y, x)\n",
    "results = model.fit()\n",
    "\n",
    "print(results.summary2())"
   ]
  },
  {
   "cell_type": "markdown",
   "metadata": {},
   "source": [
    "The new variables are all significant with respect to the new reference variable `age_0_10`. They all affect the average price negatively when compared to houses with less than 10 years of age."
   ]
  }
 ],
 "metadata": {
  "kernelspec": {
   "display_name": "Python 3.10.1 64-bit",
   "language": "python",
   "name": "python3"
  },
  "language_info": {
   "codemirror_mode": {
    "name": "ipython",
    "version": 3
   },
   "file_extension": ".py",
   "mimetype": "text/x-python",
   "name": "python",
   "nbconvert_exporter": "python",
   "pygments_lexer": "ipython3",
   "version": "3.10.1"
  },
  "orig_nbformat": 4,
  "vscode": {
   "interpreter": {
    "hash": "26de051ba29f2982a8de78e945f0abaf191376122a1563185a90213a26c5da77"
   }
  }
 },
 "nbformat": 4,
 "nbformat_minor": 2
}
