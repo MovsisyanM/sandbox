{
 "cells": [
  {
   "cell_type": "markdown",
   "metadata": {},
   "source": [
    "# Homework 5\n",
    "###### by Mher Movsisyan\n",
    "---"
   ]
  },
  {
   "cell_type": "markdown",
   "metadata": {},
   "source": [
    "## Problem 1  \n",
    "  \n",
    "| Year | Company 1 | Company 2 |  \n",
    "| ---- | --------- | --------- |  \n",
    "| 1 | 102 | 173 |  \n",
    "| 2 | 116 | 121 |  \n",
    "| 3 | 132 | 156 |  \n",
    "| 4 | 145 | 133 |  \n",
    "| 5 | 126 | 179 |  \n",
    "| 6 | 126 | 129 |  \n",
    "| 7 | 129 | 153 |  \n",
    "| 8 | 111 | 157 |  \n",
    "| 9 | 124 | 150 |  \n",
    "| 10 | 156 | 124 |  "
   ]
  },
  {
   "cell_type": "markdown",
   "metadata": {},
   "source": [
    "You have observed the profit (mln $) of two companies over 10\n",
    "consecutive years. You want to test whether there is sufficient\n",
    "evidence to indicate that the profit of the `Company 1` exceed \n",
    "to profit of the `Company 2`. Conduct the Sign test for \n",
    "Matched-Pairs Experiment to answer the following questions.\n",
    "\n",
    "a) Define the Null and Alternative hypotheses (2 points)"
   ]
  },
  {
   "cell_type": "markdown",
   "metadata": {},
   "source": [
    "Answer:  \n",
    "H<sub>0</sub>: `Company 1`'s profit distribution is less than or equal to `Company 2`'s profit distribution in terms of <b>location</b>.  \n",
    "H<sub>Alt</sub>: H<sub>0</sub> is false."
   ]
  },
  {
   "cell_type": "markdown",
   "metadata": {},
   "source": [
    "b) What is the rejection region for 1% significance level? (10 points)"
   ]
  },
  {
   "cell_type": "markdown",
   "metadata": {},
   "source": [
    "Answer:"
   ]
  },
  {
   "cell_type": "code",
   "execution_count": 43,
   "metadata": {},
   "outputs": [
    {
     "data": {
      "text/plain": [
       "[0.0009765625, 0.0107421875]"
      ]
     },
     "execution_count": 43,
     "metadata": {},
     "output_type": "execute_result"
    }
   ],
   "source": [
    "from scipy.stats import binom, chi2, spearmanr\n",
    "\n",
    "[1 - binom.cdf(i, 10, 0.5) for i in range(9, 7, -1)]"
   ]
  },
  {
   "cell_type": "markdown",
   "metadata": {},
   "source": [
    "10 or 9 observations of greater profit relative to `Company 2`"
   ]
  },
  {
   "cell_type": "markdown",
   "metadata": {},
   "source": [
    "c) Calculate the p-value for the test? (5 points)"
   ]
  },
  {
   "cell_type": "code",
   "execution_count": 18,
   "metadata": {},
   "outputs": [
    {
     "data": {
      "text/plain": [
       "0.0546875"
      ]
     },
     "execution_count": 18,
     "metadata": {},
     "output_type": "execute_result"
    }
   ],
   "source": [
    "import numpy as np\n",
    "\n",
    "n_pos_obs = (np.array([\n",
    "    102 - 173,\n",
    "    116 - 121,\n",
    "    132 - 156,\n",
    "    145 - 133,\n",
    "    126 - 179,\n",
    "    126 - 129,\n",
    "    129 - 153,\n",
    "    111 - 157,\n",
    "    124 - 150,\n",
    "    156 - 124\n",
    "]) > 0).sum()\n",
    "\n",
    "binom.cdf(n_pos_obs, 10, 0.5)"
   ]
  },
  {
   "cell_type": "markdown",
   "metadata": {},
   "source": [
    "d) Why it might be inappropriate to use the t-test to analyze the data? (5 points)"
   ]
  },
  {
   "cell_type": "markdown",
   "metadata": {},
   "source": [
    "Answer:  \n",
    "Because we have too few samples, we don't know the shape of the profit distribution (t-test assumes normal)"
   ]
  },
  {
   "cell_type": "markdown",
   "metadata": {},
   "source": [
    "e) Do you reject the Null Hypothesis? Why? (3 points)"
   ]
  },
  {
   "cell_type": "markdown",
   "metadata": {},
   "source": [
    "Answer:  \n",
    "No because `p = 0.054` <b>></b> `0.01 = alpha`"
   ]
  },
  {
   "cell_type": "markdown",
   "metadata": {},
   "source": [
    "### Problem 2 (20 points)  \n",
    "Given in Table 2 are weights of horses for samples of two species. Six horses of Auxois and seven of Campeiro.  "
   ]
  },
  {
   "cell_type": "markdown",
   "metadata": {},
   "source": [
    "| Auxois | Campeiro |  \n",
    "| ------ | -------- |  \n",
    "| 390 | 400 |   \n",
    "| 460 | 550 |   \n",
    "| 400 | 640 |   \n",
    "| 420 | 700 |   \n",
    "| 418 | 620 |   \n",
    "| 435 | 600 |   \n",
    "| | 53 |  "
   ]
  },
  {
   "cell_type": "markdown",
   "metadata": {},
   "source": [
    "a) Do the data present sufficient evidence to indicate that the \n",
    "distributions of weights differ for the two species? Use the test \n",
    "based on the Mann-Whitney U statistic with 𝛼 =0.05 (10 points)"
   ]
  },
  {
   "cell_type": "markdown",
   "metadata": {},
   "source": [
    "b) Give the approximate p-value associated with the test. (10 points)"
   ]
  },
  {
   "cell_type": "markdown",
   "metadata": {},
   "source": [
    "Answer:  \n",
    "Ordered data = `53, 390, 400, 400, 418, 420, 435, 460, 550, 600, 620, 640, 700`  \n",
    "Assigned ranks:  \n",
    "  \n",
    "| 53 | 390 | 400 | 400 | 418 | 420 | 435 | 460 | 550 | 600 | 620 | 640 | 700 |  \n",
    "| -- | --- | --- | --- | --- | --- | --- | --- | --- | --- | --- | --- | --- |  \n",
    "| 1  |   2 | 3.5 | 3.5 |   5 |   6 |   7 |   8 |   9 |  10 |  11 |  12 | 13  |  \n",
    "| C  |   A |  C  | A   | A   | A   | A   | A   |  C  |  C  |  C  |  C  |  C  |  \n"
   ]
  },
  {
   "cell_type": "markdown",
   "metadata": {},
   "source": [
    "$$ U_A = 6 * 7 + \\frac{6 * 7}{2} - (2 + 3.5 + 5 + 6 + 7 + 8) = 31.5 $$\n",
    "$$ U_C = 6 * 7 + \\frac{7 * 8}{2} - (1 + 3.5 + 9 + 10 + 11 + 12 + 13) = 10.5 $$\n",
    "$$ U = min(31.5, 10.5) = 10.5 $$\n",
    "$$ U_{expected} = \\frac{6 * 7}{2} = 21 $$"
   ]
  },
  {
   "cell_type": "markdown",
   "metadata": {},
   "source": [
    "$$ \\sigma_{U} = \\sqrt{\\frac{6 * 7}{13 * 12}} * \\sqrt{\\frac{13^3 - 13}{12} - 0} = 7 $$"
   ]
  },
  {
   "cell_type": "markdown",
   "metadata": {},
   "source": [
    "$$ z = \\frac{U - U_{expected}}{\\sigma_U} = -1.5 $$  \n",
    "$$ p = 0.06681 $$"
   ]
  },
  {
   "cell_type": "markdown",
   "metadata": {},
   "source": [
    "We do not reject the null hypothesis of the two species having the same weight distribution location at `alpha = 0.05`."
   ]
  },
  {
   "cell_type": "markdown",
   "metadata": {},
   "source": [
    "### Problem 3 (25 points)  \n",
    "a) Using the data in the Table 3, conduct one-tailed Wilcoxon \n",
    "Signed-Rank Test for Matched-Pairs experiment. Calculate \n",
    "differences as B - A. Interpret the results (10 points)"
   ]
  },
  {
   "cell_type": "code",
   "execution_count": 19,
   "metadata": {},
   "outputs": [
    {
     "data": {
      "text/plain": [
       "array([  -1,   63,   20,  -69, -127,   87,   52,   96,  -70,   30])"
      ]
     },
     "execution_count": 19,
     "metadata": {},
     "output_type": "execute_result"
    }
   ],
   "source": [
    "data = [[54, 53],\n",
    "[25, 88] ,\n",
    "[63, 83] ,\n",
    "[130, 61] ,\n",
    "[174, 47] ,\n",
    "[61, 148] ,\n",
    "[112, 164] ,\n",
    "[53, 149] ,\n",
    "[168, 98] ,\n",
    "[81, 111]]\n",
    "\n",
    "diffs = np.array([(i[1] - i[0]) for i in data])\n",
    "diffs"
   ]
  },
  {
   "cell_type": "code",
   "execution_count": 20,
   "metadata": {},
   "outputs": [
    {
     "data": {
      "text/plain": [
       "array([  -1,   20,   30,   52,   63,  -69,  -70,   87,   96, -127])"
      ]
     },
     "execution_count": 20,
     "metadata": {},
     "output_type": "execute_result"
    }
   ],
   "source": [
    "indices = np.argsort(np.absolute(diffs))\n",
    "diffs[indices]"
   ]
  },
  {
   "cell_type": "markdown",
   "metadata": {},
   "source": [
    "1 + 6 + 7 + 10 = 24  \n",
    "2 + 3 + 4 + 5 + 8 + 9 = 31  \n",
    "31 - 24 = 7  \n",
    "  \n",
    "Having a t-stat of 7 tells us that we have less than 0.025% chance of having a type 1 error."
   ]
  },
  {
   "cell_type": "markdown",
   "metadata": {},
   "source": [
    "b) Conduct two-tailed Wilcoxon Signed-Rank Test to detect \n",
    "differences in distributions differences. Interpret the results. (15 \n",
    "points)"
   ]
  },
  {
   "cell_type": "markdown",
   "metadata": {},
   "source": [
    "Answer:  \n",
    "Same as the previous (`3.a`) problem except now we have less than 0.05% chance of having a type 1 error."
   ]
  },
  {
   "cell_type": "markdown",
   "metadata": {},
   "source": [
    "### Problem 4 (20 points)  \n",
    "There are three different student groups of student. The table 3 contains GPA of students in \n",
    "each Group. Assuming that the samples are independent.\n",
    "  \n",
    "| Student Group_ID | Group 1 | Group 2 | Group 3 |  \n",
    "| ---------------- | ------- | ------- | ------- |  \n",
    "| 1                | 3.5     | 2.5     | 2.6     |  \n",
    "| 2                | 2.5     | 1.9     | 1.7     |  \n",
    "| 3                | 1.7     | 2.6     | 2.7     |  \n",
    "| 4                | 3.1     | 3.4     | 2.2     |  \n",
    "| 5                | 3.9     | 3.0     | 2.8     |  \n",
    "| 6                | 3.5     |         |         |  \n",
    "  \n",
    "a) Do the data in the table 3 provide evidence \n",
    "that the probability distributions of the GPA \n",
    "are differ between groups for at least two of \n",
    "the groups? Use 𝛼 = 0.05 (10 points)  \n",
    "b) Calculate p-value. (10 points)"
   ]
  },
  {
   "cell_type": "markdown",
   "metadata": {},
   "source": [
    "Answer:  \n",
    "We do a Krusal-Wallis test"
   ]
  },
  {
   "cell_type": "code",
   "execution_count": 21,
   "metadata": {},
   "outputs": [
    {
     "data": {
      "text/plain": [
       "[(1.5, 1.7),\n",
       " (1.5, 1.7),\n",
       " (3.0, 1.9),\n",
       " (4.0, 2.2),\n",
       " (5.5, 2.5),\n",
       " (5.5, 2.5),\n",
       " (7.5, 2.6),\n",
       " (7.5, 2.6),\n",
       " (9.0, 2.7),\n",
       " (10.0, 2.8),\n",
       " (11.0, 3.0),\n",
       " (12.0, 3.1),\n",
       " (13.0, 3.4),\n",
       " (14.5, 3.5),\n",
       " (14.5, 3.5),\n",
       " (16.0, 3.9)]"
      ]
     },
     "execution_count": 21,
     "metadata": {},
     "output_type": "execute_result"
    }
   ],
   "source": [
    "g1 = [3.5,2.5,1.7,3.1,3.9,3.5]\n",
    "g2 = [2.5,1.9,2.6,3.4,3.0]\n",
    "g3 = [2.6,1.7,2.7,2.2,2.8]\n",
    "\n",
    "ranks = [1.5, 1.5, 3.0, 4.0, 5.5, 5.5, 7.5, 7.5, 9.0, 10.0, 11.0, 12.0, 13.0, 14.5, 14.5, 16.0]\n",
    "list(zip(ranks, sorted(g1 + g2 + g3)))"
   ]
  },
  {
   "cell_type": "code",
   "execution_count": 37,
   "metadata": {},
   "outputs": [
    {
     "data": {
      "text/plain": [
       "1.0906862745098034"
      ]
     },
     "execution_count": 37,
     "metadata": {},
     "output_type": "execute_result"
    }
   ],
   "source": [
    "rs1 = 1.5 + 5.5 + 14.5 + 14.5 + 16 + 12\n",
    "rs2 = 5.5 + 3 + 7.5 + 13 + 11\n",
    "rs3 = 7.5 + 1.5 + 9 + 4 + 10\n",
    "\n",
    "rsa1 = rs1 / 6\n",
    "rsa2 = rs2 / 5\n",
    "rsa3 = rs3 / 5\n",
    "\n",
    "V = sum([[5, 5, 6][i] * np.power([rsa1, rsa2, rsa3][i] - np.sum(ranks)/len(ranks), 2) for i in range(2)])\n",
    "H = (12 * V) / (16 * 17)\n",
    "H"
   ]
  },
  {
   "cell_type": "code",
   "execution_count": 42,
   "metadata": {},
   "outputs": [
    {
     "data": {
      "text/plain": [
       "0.5796428521543362"
      ]
     },
     "execution_count": 42,
     "metadata": {},
     "output_type": "execute_result"
    }
   ],
   "source": [
    "1 - chi2.cdf(H, df=2)"
   ]
  },
  {
   "cell_type": "markdown",
   "metadata": {},
   "source": [
    "We fail to reject the null hypothesis, our p value is 0.5796"
   ]
  },
  {
   "cell_type": "markdown",
   "metadata": {},
   "source": [
    "### Problem 5 (10 points)\n",
    "a) Calculate the Spearman’s rank correlation coefficient\n",
    "between house price and the area. (5 points)  \n",
    "b) Use the test based on the rank correlation\n",
    "coefficient to determine whether there is a\n",
    "significant positive relationship between price and\n",
    "the area. Use 𝛼 = 0.1 (5 points)  "
   ]
  },
  {
   "cell_type": "code",
   "execution_count": 44,
   "metadata": {},
   "outputs": [
    {
     "data": {
      "text/plain": [
       "SpearmanrResult(correlation=0.7679579332107139, pvalue=7.695060782041737e-05)"
      ]
     },
     "execution_count": 44,
     "metadata": {},
     "output_type": "execute_result"
    }
   ],
   "source": [
    "price = [89950,138950,87000,165000,210000,108000,89000,79000,124500,135000,105500,133650,83500,101000,151500,88500,198000,135000,79500,135050]\n",
    "sqft = [917,1684,1800,1900,2000,1050,1057,954,1350,2134,1313,1671,1200,1314,1877,1132,2198,1525,1208,1450]\n",
    "\n",
    "spearmanr(price, sqft)"
   ]
  },
  {
   "cell_type": "markdown",
   "metadata": {},
   "source": [
    "The coefficient is 0.768 and is significant at a = 0.1"
   ]
  }
 ],
 "metadata": {
  "kernelspec": {
   "display_name": "Python 3.10.1 64-bit",
   "language": "python",
   "name": "python3"
  },
  "language_info": {
   "codemirror_mode": {
    "name": "ipython",
    "version": 3
   },
   "file_extension": ".py",
   "mimetype": "text/x-python",
   "name": "python",
   "nbconvert_exporter": "python",
   "pygments_lexer": "ipython3",
   "version": "3.10.1"
  },
  "orig_nbformat": 4,
  "vscode": {
   "interpreter": {
    "hash": "26de051ba29f2982a8de78e945f0abaf191376122a1563185a90213a26c5da77"
   }
  }
 },
 "nbformat": 4,
 "nbformat_minor": 2
}
