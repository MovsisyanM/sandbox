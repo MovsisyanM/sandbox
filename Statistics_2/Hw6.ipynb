{
 "cells": [
  {
   "cell_type": "markdown",
   "metadata": {},
   "source": [
    "# Homework 3\n",
    "###### by Mher Movsisyan\n",
    "---"
   ]
  },
  {
   "cell_type": "markdown",
   "metadata": {},
   "source": [
    "### Problem 1  \n",
    "Let’s assume the proportions of companies (𝑝) taking business loan from commercial banks is modeled with three discrete values (5%, 10%, and 15%). A prior distribution of the proportion 𝑝 is presented in below table.  \n",
    "  \n",
    "| p | 0.05 | 0.1 | 0.15 |  \n",
    "| - | ---- | --- | ---- |  \n",
    "| π(p) | 0.3 | 0.2 | 0.5 |  \n",
    "\n",
    "From 9 randomly chosen companies only 3 have business loan, find  \n",
    "a) the posterior distribution for the proportion 𝑝 (15 points)  "
   ]
  },
  {
   "cell_type": "markdown",
   "metadata": {},
   "source": [
    "Answer:  \n",
    "$$ g(n, k) = \\sum_p f(x \\vert p)\\pi(p) =\\\\\n",
    "= 0.3\\binom{n}{k}0.05^{k}*0.95^{n-k} + 0.2\\binom{n}{k}0.1^{k}*0.9^{n-k} + 0.5\\binom{n}{k}0.15^{k}*0.85^{n-k} $$  \n",
    "$$ \\pi(p \\vert x, \\pi(p)) = \\frac{\\pi(p)\\binom{n}{k}p^{k}*(1-p)^{n-k}}{0.3\\binom{n}{k}0.05^{k}*0.95^{n-k} + 0.2\\binom{n}{k}0.1^{k}*0.9^{n-k} + 0.5\\binom{n}{k}0.15^{k}*0.85^{n-k}} $$"
   ]
  },
  {
   "cell_type": "markdown",
   "metadata": {},
   "source": [
    "(b) the Bayes estimate of 𝑝 (10 points)"
   ]
  },
  {
   "cell_type": "markdown",
   "metadata": {},
   "source": [
    "$$ \\pi(0.05 \\vert 3/9, \\pi(0.05)) = \\frac{0.3\\binom{9}{3}0.05^{3}*(0.95)^{6}}{0.3\\binom{9}{3}0.05^{3}*0.95^{6} + 0.2\\binom{9}{3}0.1^{3}*0.9^{6} + 0.5\\binom{9}{3}0.15^{3}*0.85^{6}} = 0.0358 $$\n",
    "\n",
    "$$ \\pi(0.1 \\vert 3/9, \\pi(0.1)) = \\frac{0.2\\binom{9}{3}0.1^{3}*(0.9)^{6}}{0.3\\binom{9}{3}0.05^{3}*0.95^{6} + 0.2\\binom{9}{3}0.1^{3}*0.9^{6} + 0.5\\binom{9}{3}0.15^{3}*0.85^{6}} = 0.138 $$\n",
    "\n",
    "$$ \\pi(0.15 \\vert 3/9, \\pi(0.15)) = \\frac{0.5\\binom{9}{3}0.15^{3}*(0.85)^{6}}{0.3\\binom{9}{3}0.05^{3}*0.95^{6} + 0.2\\binom{9}{3}0.1^{3}*0.9^{6} + 0.5\\binom{9}{3}0.15^{3}*0.85^{6}} = 0.826 $$"
   ]
  },
  {
   "cell_type": "markdown",
   "metadata": {},
   "source": [
    "### Problem 2 (25) points)  \n",
    "The developer of a residential properties claims that 3 out of 5 potential buyers will prefer threebedroom apartments, while his banker believes that 70% of buyers will prefer such apartments. Previously the banker has been twice as reliable as the developer. If 13 of the next 15 apartments sold in this complex are three-bedroom units, find  \n",
    "\n",
    "a) the posterior probabilities associated with the claims of the developer and banker (15 points)"
   ]
  },
  {
   "cell_type": "markdown",
   "metadata": {},
   "source": [
    "Answer:  \n",
    "  \n",
    "| p   | $ \\pi(p) $      |  \n",
    "| --- | --------------- |  \n",
    "| 0.6 | $ \\frac{1}{3} $ |  \n",
    "| 0.7 | $ \\frac{2}{3} $ |  "
   ]
  },
  {
   "cell_type": "markdown",
   "metadata": {},
   "source": [
    "Answer:  \n",
    "$$ g(p) = \\binom{n}{k}0.6^{k}*0.4^{n-k}/3 + 2\\binom{n}{k}0.7^{k}*0.3^{n-k}/3 $$  \n",
    "$$ \\pi(0.6 \\vert 13/15, \\pi(0.6)) = \\frac{\\binom{15}{13}0.6^{13}*(0.4)^{2}}{\\binom{15}{13}0.6^{13}*0.4^{2} + 2\\binom{15}{13}0.7^{13}*0.3^{2}} = 0.1 $$\n",
    "$$ \\pi(0.7 \\vert 13/15, \\pi(0.7)) = \\frac{2\\binom{15}{13}0.7^{13}*(0.3)^{2}}{\\binom{15}{13}0.6^{13}*0.4^{2} + 2\\binom{15}{13}0.7^{13}*0.3^{2}} = 0.9 $$"
   ]
  },
  {
   "cell_type": "markdown",
   "metadata": {},
   "source": [
    "(b) a point estimate of the proportion of buyers, who prefer three-bedroom apartments (10 points)  \n",
    "$$ 0.9 * 0.7 + 0.1 * 0.6 = 0.69 $$"
   ]
  },
  {
   "cell_type": "markdown",
   "metadata": {},
   "source": [
    "### Problem 3 (25 points)  \n",
    "According to existing study the percentage of smokers, 𝑝, who have lung cancer follows a beta distribution with mean 70% and standard deviation 10%. Suppose that 79 out of 120 observed smokers have lung cancer.  \n",
    "\n",
    "a) Determine the posterior distribution of the percentage of smokers who have lung cancer by combining the new data and the prior information (15 points)"
   ]
  },
  {
   "cell_type": "markdown",
   "metadata": {},
   "source": [
    "$$ \\frac{a}{a + b} = 0.7 $$  \n",
    "$$ \\frac{ab}{(a + b)^2(a+b+1)} = 0.01 $$\n",
    "$$ \\pi(p \\vert x) = \\frac{\\binom{120}{79}0.7^{79}0.3^{41}}{\\binom{120}{79}0.7^{79}0.3^{41} + \\binom{120}{79}0.7^{79}0.3^{41}}"
   ]
  }
 ],
 "metadata": {
  "language_info": {
   "name": "python"
  },
  "orig_nbformat": 4
 },
 "nbformat": 4,
 "nbformat_minor": 2
}
