{
 "cells": [
  {
   "cell_type": "markdown",
   "metadata": {},
   "source": [
    "# Homework 3  \n",
    "###### by Mher Movsisyan  \n",
    "---  \n",
    "  \n",
    "### Problem 1 (40 points, 10 points for each question)  \n",
    "Many cities in California have passed Inclusionary Zoning policies (also known as below-market housing\n",
    "mandates) as an attempt to make housing more affordable. These policies require developers to sell\n",
    "some units below the market price on a percentage of the new homes built. For example, in a\n",
    "development of 10 new homes each with market value $250,000, the developer may have to sell 5 of\n",
    "the units at $150,000. Means et al. (2007) (“Below-Market Housing Mandates as Takings: Measuring\n",
    "their Impact”) examine the effects of such policies on house prices and number of housing units\n",
    "available using 1990 (before policy impact) and 2000 (after policy impact) census data on California\n",
    "cities. Use `means.xlsx` for the following exercises. For this problem you need the following variables:\n",
    "- `LNPRICE` – log of the house price\n",
    "- `LNUNITS` – log of the number of houses\n",
    "- `YEAR` – a dummy variable for the implemented policy. It equals 1 for year 2000 and 0 for 1990.\n",
    "- `IZLAW` – an indicator variable for cities where Inclusionary Zoning policies have been passed.\n",
    "- `LMEDHHINC` – log median household income\n",
    "- `EDUCATTAIN` – proportion of population with college degree\n",
    "- `PROPPOVERTY` – proportion of population below the poverty level\n",
    "- `LPOP` – log of city population\n",
    "\n",
    "a) Regress `𝐷𝐿𝑁𝑃𝑅𝐼𝐶𝐸` and `𝐷𝐿𝑁𝑈𝑁𝐼𝑇𝑆` on `𝐼𝑍𝐿𝐴𝑊`. Compare the estimate of the treatment\n",
    "effect to those from the differences-in-differences regression of `𝐿𝑁𝑃𝑅𝐼𝐶𝐸` and `𝐿𝑁𝑈𝑁𝐼𝑇𝑆`\n",
    "on the explanatory variables 𝐷, the indicator variable for year 2000 `𝐼𝑍𝐿𝐴𝑊`, and the\n",
    "interaction of 𝐷 and `𝐼𝑍𝐿𝐴𝑊`."
   ]
  },
  {
   "cell_type": "code",
   "execution_count": 6,
   "metadata": {},
   "outputs": [
    {
     "data": {
      "text/html": [
       "<div>\n",
       "<style scoped>\n",
       "    .dataframe tbody tr th:only-of-type {\n",
       "        vertical-align: middle;\n",
       "    }\n",
       "\n",
       "    .dataframe tbody tr th {\n",
       "        vertical-align: top;\n",
       "    }\n",
       "\n",
       "    .dataframe thead th {\n",
       "        text-align: right;\n",
       "    }\n",
       "</style>\n",
       "<table border=\"1\" class=\"dataframe\">\n",
       "  <thead>\n",
       "    <tr style=\"text-align: right;\">\n",
       "      <th></th>\n",
       "      <th>dlnprice</th>\n",
       "      <th>dlnunits</th>\n",
       "      <th>izlaw</th>\n",
       "    </tr>\n",
       "  </thead>\n",
       "  <tbody>\n",
       "    <tr>\n",
       "      <th>1</th>\n",
       "      <td>-0.491435</td>\n",
       "      <td>0.548889</td>\n",
       "      <td>0</td>\n",
       "    </tr>\n",
       "    <tr>\n",
       "      <th>3</th>\n",
       "      <td>0.474356</td>\n",
       "      <td>0.036166</td>\n",
       "      <td>0</td>\n",
       "    </tr>\n",
       "    <tr>\n",
       "      <th>5</th>\n",
       "      <td>0.658540</td>\n",
       "      <td>0.206731</td>\n",
       "      <td>0</td>\n",
       "    </tr>\n",
       "    <tr>\n",
       "      <th>7</th>\n",
       "      <td>0.473806</td>\n",
       "      <td>-0.029902</td>\n",
       "      <td>0</td>\n",
       "    </tr>\n",
       "    <tr>\n",
       "      <th>9</th>\n",
       "      <td>0.123408</td>\n",
       "      <td>0.016150</td>\n",
       "      <td>0</td>\n",
       "    </tr>\n",
       "    <tr>\n",
       "      <th>...</th>\n",
       "      <td>...</td>\n",
       "      <td>...</td>\n",
       "      <td>...</td>\n",
       "    </tr>\n",
       "    <tr>\n",
       "      <th>613</th>\n",
       "      <td>0.207713</td>\n",
       "      <td>0.009758</td>\n",
       "      <td>0</td>\n",
       "    </tr>\n",
       "    <tr>\n",
       "      <th>615</th>\n",
       "      <td>0.066347</td>\n",
       "      <td>0.138002</td>\n",
       "      <td>0</td>\n",
       "    </tr>\n",
       "    <tr>\n",
       "      <th>617</th>\n",
       "      <td>0.433553</td>\n",
       "      <td>0.143294</td>\n",
       "      <td>1</td>\n",
       "    </tr>\n",
       "    <tr>\n",
       "      <th>619</th>\n",
       "      <td>0.171539</td>\n",
       "      <td>0.119082</td>\n",
       "      <td>0</td>\n",
       "    </tr>\n",
       "    <tr>\n",
       "      <th>621</th>\n",
       "      <td>0.073133</td>\n",
       "      <td>0.121171</td>\n",
       "      <td>0</td>\n",
       "    </tr>\n",
       "  </tbody>\n",
       "</table>\n",
       "<p>311 rows × 3 columns</p>\n",
       "</div>"
      ],
      "text/plain": [
       "     dlnprice  dlnunits  izlaw\n",
       "1   -0.491435  0.548889      0\n",
       "3    0.474356  0.036166      0\n",
       "5    0.658540  0.206731      0\n",
       "7    0.473806 -0.029902      0\n",
       "9    0.123408  0.016150      0\n",
       "..        ...       ...    ...\n",
       "613  0.207713  0.009758      0\n",
       "615  0.066347  0.138002      0\n",
       "617  0.433553  0.143294      1\n",
       "619  0.171539  0.119082      0\n",
       "621  0.073133  0.121171      0\n",
       "\n",
       "[311 rows x 3 columns]"
      ]
     },
     "execution_count": 6,
     "metadata": {},
     "output_type": "execute_result"
    }
   ],
   "source": [
    "import numpy as np\n",
    "import pandas as pd\n",
    "import statsmodels.api as sm\n",
    "import statsmodels.formula.api as smf\n",
    "\n",
    "df = pd.read_excel(\"means.xlsx\")\n",
    "df_1 = df[[\"dlnprice\", \"dlnunits\", \"izlaw\"]].dropna()\n",
    "df_1"
   ]
  },
  {
   "cell_type": "code",
   "execution_count": 7,
   "metadata": {},
   "outputs": [
    {
     "name": "stdout",
     "output_type": "stream",
     "text": [
      "Optimization terminated successfully.\n",
      "         Current function value: 0.268362\n",
      "         Iterations 7\n"
     ]
    }
   ],
   "source": [
    "model = smf.logit(\"izlaw ~ dlnprice + dlnunits\", data = df_1)\n",
    "results = model.fit()"
   ]
  },
  {
   "cell_type": "code",
   "execution_count": 9,
   "metadata": {},
   "outputs": [
    {
     "data": {
      "text/html": [
       "<table class=\"simpletable\">\n",
       "<tr>\n",
       "        <td>Model:</td>              <td>Logit</td>      <td>Pseudo R-squared:</td>    <td>0.207</td>  \n",
       "</tr>\n",
       "<tr>\n",
       "  <td>Dependent Variable:</td>       <td>izlaw</td>            <td>AIC:</td>         <td>172.9213</td> \n",
       "</tr>\n",
       "<tr>\n",
       "         <td>Date:</td>        <td>2022-10-08 11:37</td>       <td>BIC:</td>         <td>184.1407</td> \n",
       "</tr>\n",
       "<tr>\n",
       "   <td>No. Observations:</td>         <td>311</td>        <td>Log-Likelihood:</td>    <td>-83.461</td> \n",
       "</tr>\n",
       "<tr>\n",
       "       <td>Df Model:</td>              <td>2</td>            <td>LL-Null:</td>        <td>-105.21</td> \n",
       "</tr>\n",
       "<tr>\n",
       "     <td>Df Residuals:</td>           <td>308</td>         <td>LLR p-value:</td>    <td>3.5764e-10</td>\n",
       "</tr>\n",
       "<tr>\n",
       "      <td>Converged:</td>           <td>1.0000</td>           <td>Scale:</td>         <td>1.0000</td>  \n",
       "</tr>\n",
       "<tr>\n",
       "    <td>No. Iterations:</td>        <td>7.0000</td>              <td></td>               <td></td>     \n",
       "</tr>\n",
       "</table>\n",
       "<table class=\"simpletable\">\n",
       "<tr>\n",
       "      <td></td>       <th>Coef.</th>  <th>Std.Err.</th>    <th>z</th>     <th>P>|z|</th> <th>[0.025</th>  <th>0.975]</th> \n",
       "</tr>\n",
       "<tr>\n",
       "  <th>Intercept</th> <td>-3.9342</td>  <td>0.4739</td>  <td>-8.3022</td> <td>0.0000</td> <td>-4.8630</td> <td>-3.0055</td>\n",
       "</tr>\n",
       "<tr>\n",
       "  <th>dlnprice</th>  <td>4.8587</td>   <td>0.8685</td>  <td>5.5943</td>  <td>0.0000</td> <td>3.1565</td>  <td>6.5610</td> \n",
       "</tr>\n",
       "<tr>\n",
       "  <th>dlnunits</th>  <td>-0.1152</td>  <td>1.0871</td>  <td>-0.1059</td> <td>0.9156</td> <td>-2.2459</td> <td>2.0156</td> \n",
       "</tr>\n",
       "</table>"
      ],
      "text/plain": [
       "<class 'statsmodels.iolib.summary2.Summary'>\n",
       "\"\"\"\n",
       "                         Results: Logit\n",
       "=================================================================\n",
       "Model:              Logit            Pseudo R-squared: 0.207     \n",
       "Dependent Variable: izlaw            AIC:              172.9213  \n",
       "Date:               2022-10-08 11:37 BIC:              184.1407  \n",
       "No. Observations:   311              Log-Likelihood:   -83.461   \n",
       "Df Model:           2                LL-Null:          -105.21   \n",
       "Df Residuals:       308              LLR p-value:      3.5764e-10\n",
       "Converged:          1.0000           Scale:            1.0000    \n",
       "No. Iterations:     7.0000                                       \n",
       "------------------------------------------------------------------\n",
       "               Coef.   Std.Err.     z     P>|z|    [0.025   0.975]\n",
       "------------------------------------------------------------------\n",
       "Intercept     -3.9342    0.4739  -8.3022  0.0000  -4.8630  -3.0055\n",
       "dlnprice       4.8587    0.8685   5.5943  0.0000   3.1565   6.5610\n",
       "dlnunits      -0.1152    1.0871  -0.1059  0.9156  -2.2459   2.0156\n",
       "=================================================================\n",
       "\n",
       "\"\"\""
      ]
     },
     "execution_count": 9,
     "metadata": {},
     "output_type": "execute_result"
    }
   ],
   "source": [
    "results.summary2()"
   ]
  },
  {
   "cell_type": "code",
   "execution_count": null,
   "metadata": {},
   "outputs": [],
   "source": []
  }
 ],
 "metadata": {
  "kernelspec": {
   "display_name": "Python 3.10.1 64-bit",
   "language": "python",
   "name": "python3"
  },
  "language_info": {
   "codemirror_mode": {
    "name": "ipython",
    "version": 3
   },
   "file_extension": ".py",
   "mimetype": "text/x-python",
   "name": "python",
   "nbconvert_exporter": "python",
   "pygments_lexer": "ipython3",
   "version": "3.10.1"
  },
  "orig_nbformat": 4,
  "vscode": {
   "interpreter": {
    "hash": "26de051ba29f2982a8de78e945f0abaf191376122a1563185a90213a26c5da77"
   }
  }
 },
 "nbformat": 4,
 "nbformat_minor": 2
}
