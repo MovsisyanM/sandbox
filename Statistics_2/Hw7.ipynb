{
 "cells": [
  {
   "cell_type": "markdown",
   "metadata": {},
   "source": [
    "# Homework 7\n",
    "###### by Mher Movsisyan\n",
    "---"
   ]
  },
  {
   "cell_type": "markdown",
   "metadata": {},
   "source": [
    "### Problem 1  \n",
    "The average monthly income of Armenian family is a normal random variable with a standard\n",
    "deviation of 0.4k \\$. Assume a normal prior distribution with a mean of 2k \\$ and a standard\n",
    "deviation of 0.3k \\$. If 15 families in Armenia has average income of 2.5k \\$, Find  \n",
    "- A 90% Bayesian interval for µ (20 points)  \n",
    "- The probability that family has more than 2.4 k $ monthly income.  "
   ]
  },
  {
   "cell_type": "markdown",
   "metadata": {},
   "source": [
    "Answer:  \n",
    "$$ \\mu^* = \\frac{0.3^2 * 2.5}{0.3^2 + 0.4^2/15} + \\frac{0.3^2 * 2 / 15}{0.4^2 + 0.3^2/15} \\approx 2.3 $$  \n",
    "$$ \\sigma^{*} = \\sqrt{\\frac{0.3^2 * 0.4^2/15}{0.3^2 + 0.4^2/15}} \\approx 0.0977 $$"
   ]
  },
  {
   "cell_type": "markdown",
   "metadata": {},
   "source": [
    "$$ \\text{Interval}: 2.3 - 1.64485 * 0.0977 = 2.14 < \\mu < 2.46 =  2.3 + 1.64485 * 0.0977 $$"
   ]
  },
  {
   "cell_type": "code",
   "execution_count": 15,
   "metadata": {},
   "outputs": [
    {
     "name": "stdout",
     "output_type": "stream",
     "text": [
      "Probability that a family has more than 2.4k $ monthly income: 15.3\n"
     ]
    }
   ],
   "source": [
    "from scipy.stats import norm\n",
    "import numpy as np\n",
    "\n",
    "print(f\"Probability that a family has more than 2.4k $ monthly income: {norm.sf(2.4, 2.3, 0.0977) * 100:0.1f}\")"
   ]
  },
  {
   "cell_type": "markdown",
   "metadata": {},
   "source": [
    "### Problem 2  \n",
    "The daily electricity consumption, from the AUA is a normal random variable with unknown\n",
    "mean $ \\mu $ and variance $ \\sigma^2 $. The distributor feels that these average daily \n",
    "consumption can best be described by a normal distribution with mean $ \\mu_0 = 50 $ and standard \n",
    "deviation $ \\sigma_0 = 2 $. It was observed 30 days of electricity consumption. Find  \n",
    "- Bayes estimate of the true average daily consumption;  \n",
    "- 99% Bayesian interval of µ;  \n",
    "- The probability that daily consumption is between 50 and 53  "
   ]
  },
  {
   "cell_type": "code",
   "execution_count": 29,
   "metadata": {},
   "outputs": [
    {
     "name": "stdout",
     "output_type": "stream",
     "text": [
      "Mean, std: 50.58258228352338 1.3541164829201622\n"
     ]
    }
   ],
   "source": [
    "post_mean = lambda prior_mean, sample_mean, prior_sigma, pop_sigma, n : (((prior_sigma ** 2) * sample_mean) / ((prior_sigma ** 2) + (pop_sigma ** 2 / n))) + \\\n",
    "    (((pop_sigma ** 2) * prior_mean / n) / ((prior_sigma ** 2) + (pop_sigma ** 2 / n)))\n",
    "    \n",
    "post_sigma = lambda prior_sigma, pop_sigma, n: np.sqrt((prior_sigma ** 2) * pop_sigma ** 2 / (n * (prior_sigma ** 2) + pop_sigma))\n",
    "\n",
    "interval = lambda post_mean, post_sigma, a: (post_mean - norm.ppf((1 - a)/2 + a) * post_sigma, post_mean + norm.ppf((1 - a)/2 + a) * post_sigma)\n",
    "\n",
    "sample = [50, 65, 70, 46, 48, 54, 38, 46, 49, 50, 59, 61, 40, 44, 43, 49, 56, 40, 62, 60, 54, 44, 49, 49, 49, 50, 56, 41, 50, 54]\n",
    "\n",
    "p_mean, p_sigma = post_mean(50, np.mean(sample), 2, np.std(sample), len(sample)), post_sigma(2, np.std(sample), len(sample))\n",
    "\n",
    "print(\"Mean, std:\", p_mean, p_sigma)"
   ]
  },
  {
   "cell_type": "code",
   "execution_count": 36,
   "metadata": {},
   "outputs": [
    {
     "name": "stdout",
     "output_type": "stream",
     "text": [
      "Interval: (47.094609366399055, 54.0705552006477)\n"
     ]
    }
   ],
   "source": [
    "print(f\"Interval: {interval(p_mean, p_sigma, 0.99)}\")"
   ]
  },
  {
   "cell_type": "code",
   "execution_count": 37,
   "metadata": {},
   "outputs": [
    {
     "name": "stdout",
     "output_type": "stream",
     "text": [
      "Between 50 and 53: 62.9\n"
     ]
    }
   ],
   "source": [
    "print(f\"Between 50 and 53: {(norm.cdf(53, p_mean, p_sigma) - norm.cdf(50, p_mean, p_sigma)) * 100:0.1f}\")"
   ]
  },
  {
   "cell_type": "markdown",
   "metadata": {},
   "source": [
    "### Problem 3  \n",
    "Suppose the goals of Armenian National football team per game is independently drown from a\n",
    "Poisson distribution with mean $ \\lambda $. Assume that the prior distribution of $ \\lambda $ is exponential with\n",
    "mean 1.5.  \n",
    "a) Find the posterior distribution of $ \\lambda $ for data of goals of 11 matches provided in below\n",
    "table"
   ]
  },
  {
   "cell_type": "markdown",
   "metadata": {},
   "source": [
    "b) Find the probability that number of goals will be more than 1"
   ]
  }
 ],
 "metadata": {
  "kernelspec": {
   "display_name": "Python 3.10.1 64-bit",
   "language": "python",
   "name": "python3"
  },
  "language_info": {
   "codemirror_mode": {
    "name": "ipython",
    "version": 3
   },
   "file_extension": ".py",
   "mimetype": "text/x-python",
   "name": "python",
   "nbconvert_exporter": "python",
   "pygments_lexer": "ipython3",
   "version": "3.10.1"
  },
  "orig_nbformat": 4,
  "vscode": {
   "interpreter": {
    "hash": "26de051ba29f2982a8de78e945f0abaf191376122a1563185a90213a26c5da77"
   }
  }
 },
 "nbformat": 4,
 "nbformat_minor": 2
}
