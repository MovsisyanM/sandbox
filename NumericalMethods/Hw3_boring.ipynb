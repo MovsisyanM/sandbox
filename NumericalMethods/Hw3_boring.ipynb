{
 "cells": [
  {
   "cell_type": "markdown",
   "metadata": {},
   "source": [
    "## Homework 3\n",
    "###### by Mher Movsisyan\n",
    "---"
   ]
  },
  {
   "cell_type": "markdown",
   "metadata": {},
   "source": [
    "### Problem 2:\n",
    "The equation $$ 8x − x^4 = 0 $$ has 0 and 2 for its solutions. Write the Newton’s iterative scheme for the numerical solution of this equation, simplify the obtained expression. Now assume x<sub>0</sub> = 1."
   ]
  },
  {
   "cell_type": "markdown",
   "metadata": {},
   "source": [
    "a. Carry out by hand two steps of the Newton’s method (i.e., calculate x<sub>1</sub> and x<sub>2</sub>)"
   ]
  },
  {
   "cell_type": "markdown",
   "metadata": {},
   "source": [
    "$$ df = 8 - 4x^3 $$"
   ]
  },
  {
   "cell_type": "markdown",
   "metadata": {},
   "source": [
    "$$ x_1 = x_0 - \\frac {f(x_0)} {f'(x_0)} = 1 - \\frac {7} {4} = 0.75 $$"
   ]
  },
  {
   "cell_type": "markdown",
   "metadata": {},
   "source": [
    "$$ x_2 = x_1 - \\frac {f(x_1)} {f'(x_1)} = 0.75 - \\frac {5.68359} {6.3125} = -0.150371 $$"
   ]
  },
  {
   "cell_type": "markdown",
   "metadata": {},
   "source": [
    "b. Graph the function $$ y = 8x − x^4 $$ (you can use Python to obtain the plot, and then copy the result to your homework), show the initial point x<sub>0</sub> on the OX axis, and then show how to obtain x<sub>1</sub> and x<sub>2</sub> geometrically."
   ]
  },
  {
   "cell_type": "markdown",
   "metadata": {},
   "source": [
    "<img src = \"https://github.com/MovsisyanM/sandbox/blob/main/NumericalMethods/res/Hw3_p2.png?raw=true\"></img>"
   ]
  }
 ],
 "metadata": {
  "interpreter": {
   "hash": "b89b5cfaba6639976dc87ff2fec6d58faec662063367e2c229c520fe71072417"
  },
  "kernelspec": {
   "display_name": "Python 3.10.1 64-bit",
   "language": "python",
   "name": "python3"
  },
  "language_info": {
   "codemirror_mode": {
    "name": "ipython",
    "version": 3
   },
   "file_extension": ".py",
   "mimetype": "text/x-python",
   "name": "python",
   "nbconvert_exporter": "python",
   "pygments_lexer": "ipython3",
   "version": "3.10.1"
  },
  "orig_nbformat": 4
 },
 "nbformat": 4,
 "nbformat_minor": 2
}
