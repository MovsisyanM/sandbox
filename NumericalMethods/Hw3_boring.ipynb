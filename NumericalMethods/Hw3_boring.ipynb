{
 "cells": [
  {
   "cell_type": "markdown",
   "metadata": {},
   "source": [
    "## Homework 3\n",
    "###### by Mher Movsisyan\n",
    "---"
   ]
  },
  {
   "cell_type": "markdown",
   "metadata": {},
   "source": [
    "### Problem 2:\n",
    "The equation $$ 8x − x^4 = 0 $$ has 0 and 2 for its solutions. Write the Newton’s iterative scheme for the numerical solution of this equation, simplify the obtained expression. Now assume x<sub>0</sub> = 1."
   ]
  },
  {
   "cell_type": "markdown",
   "metadata": {},
   "source": [
    "a. Carry out by hand two steps of the Newton’s method (i.e., calculate x<sub>1</sub> and x<sub>2</sub>)"
   ]
  },
  {
   "cell_type": "markdown",
   "metadata": {},
   "source": [
    "$$ df = 8 - 4x^3 $$"
   ]
  },
  {
   "cell_type": "markdown",
   "metadata": {},
   "source": [
    "$$ x_1 = x_0 - \\frac {f(x_0)} {f'(x_0)} = 1 - \\frac {7} {4} = 0.75 $$"
   ]
  },
  {
   "cell_type": "markdown",
   "metadata": {},
   "source": [
    "$$ x_2 = x_1 - \\frac {f(x_1)} {f'(x_1)} = 0.75 - \\frac {5.68359} {6.3125} = -0.150371 $$"
   ]
  },
  {
   "cell_type": "markdown",
   "metadata": {},
   "source": [
    "b. Graph the function $$ y = 8x − x^4 $$ (you can use Python to obtain the plot, and then copy the result to your homework), show the initial point x<sub>0</sub> on the OX axis, and then show how to obtain x<sub>1</sub> and x<sub>2</sub> geometrically."
   ]
  },
  {
   "cell_type": "markdown",
   "metadata": {},
   "source": [
    "<img src = \"https://github.com/MovsisyanM/sandbox/blob/main/NumericalMethods/res/Hw3_p2.png?raw=true\"></img>"
   ]
  },
  {
   "cell_type": "markdown",
   "metadata": {},
   "source": [
    "### Problem 3:\n",
    "Consider the same equation 8x − x<sup>4</sup> = 0 as in the Problem 1.  \n",
    "Now assume that the initial point x<sub>0</sub> = 1.5 and x<sub>1</sub> = 1.  \n",
    "<br>\n",
    "a. Carry out by hand one step of the Secant method (i.e., calculate x<sub>2</sub>)"
   ]
  },
  {
   "cell_type": "markdown",
   "metadata": {},
   "source": [
    "$$ x_2 = x_1 - \\frac {f(x_1)(x_1 - x_0)} {f(x_1) - f(x_0)} = 1 - \\frac {3.5} {0.0625} = -55 $$"
   ]
  },
  {
   "cell_type": "markdown",
   "metadata": {},
   "source": [
    "b. Graph the function y = 8x − x<sup>4</sup>, show the initial points x<sub>0</sub> and x<sub>1</sub> on the OX axis, and then show how to obtain x<sub>2</sub> geometrically."
   ]
  },
  {
   "cell_type": "markdown",
   "metadata": {},
   "source": [
    "<img src=\"https://github.com/MovsisyanM/sandbox/blob/main/NumericalMethods/res/Hw3_p3.JPG?raw=true\"></img>"
   ]
  },
  {
   "cell_type": "markdown",
   "metadata": {},
   "source": [
    "### Problem 4:\n",
    "Give an example (graphically or analytically, one example for each case below) of a function f : R → R having a unique root x<sup>\\*</sup> in R, and example of a point x0<sub>0</sub> ∈ R such that when constructing the approximating sequence x<sub>n</sub> by the Newton’s method for the equation f(x) = 0 with the initial approximation x<sub>0</sub>,  \n",
    "a. x<sub>2</sub> will be undefined;"
   ]
  },
  {
   "cell_type": "markdown",
   "metadata": {},
   "source": [
    "<img src=\"https://github.com/MovsisyanM/sandbox/blob/main/NumericalMethods/res/Hw3_p4a.png?raw=true\" width=\"30%\"></img>"
   ]
  },
  {
   "cell_type": "markdown",
   "metadata": {},
   "source": [
    "b. the distance of x<sup>2</sup> from x<sup>\\*</sup> is greater than the distance of x<sup>1</sup> to x<sup>\\*</sup>."
   ]
  },
  {
   "cell_type": "markdown",
   "metadata": {},
   "source": [
    "<img src=\"https://github.com/MovsisyanM/sandbox/blob/main/NumericalMethods/res/Hw3_p4b.png?raw=true\" width = \"30%\"></img>"
   ]
  },
  {
   "cell_type": "markdown",
   "metadata": {},
   "source": [
    "### Problem 5:\n",
    "Assume $$ x_{n+1} = x_n + \\frac {(2-e^{x_n})(x_n - x_{n-1})} {e^{x_n} - e^{x_{n-1}}} $$  \n",
    "with x<sub>0</sub> = 0 and x<sub>1</sub> = 1. The sequence x<sub>n</sub> convergence (no need to proof) evaluate $$ \\lim_{n \\to \\infty}x_n $$"
   ]
  },
  {
   "cell_type": "markdown",
   "metadata": {},
   "source": [
    "The sequence x<sub>n</sub> is given to us is similar to the secant method applied on the function 2 - e<sup>x</sup>. Therefore the limit will converge to 0.693 which is the root of said function. "
   ]
  }
 ],
 "metadata": {
  "interpreter": {
   "hash": "b89b5cfaba6639976dc87ff2fec6d58faec662063367e2c229c520fe71072417"
  },
  "kernelspec": {
   "display_name": "Python 3.10.1 64-bit",
   "language": "python",
   "name": "python3"
  },
  "language_info": {
   "codemirror_mode": {
    "name": "ipython",
    "version": 3
   },
   "file_extension": ".py",
   "mimetype": "text/x-python",
   "name": "python",
   "nbconvert_exporter": "python",
   "pygments_lexer": "ipython3",
   "version": "3.10.1"
  },
  "orig_nbformat": 4
 },
 "nbformat": 4,
 "nbformat_minor": 2
}
