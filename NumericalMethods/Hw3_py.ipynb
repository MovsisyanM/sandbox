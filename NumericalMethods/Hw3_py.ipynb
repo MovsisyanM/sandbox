{
 "cells": [
  {
   "cell_type": "markdown",
   "metadata": {},
   "source": [
    "## Homework 3\n",
    "###### by Mher Movsisyan\n",
    "---"
   ]
  },
  {
   "cell_type": "markdown",
   "metadata": {},
   "source": [
    "### Problem 1: \n",
    "(Python) Write recursive version of the bisection algorithm and find a root of $$ f(x) = \\frac {1} {x}\\ −\\ tanx $$ in the interval $$ [0.1, \\frac {π} {2}] $$ Use $$ |b_n − a_n| < 10^{−4} $$ as a stopping condition."
   ]
  },
  {
   "cell_type": "code",
   "execution_count": 38,
   "metadata": {},
   "outputs": [],
   "source": [
    "from math import log10, tan, pi\n",
    "\n",
    "def bisect(function: callable, low: float | int, high: float | int, tolerance: float = 1.0e-4, **kwargs) -> float:\n",
    "    \"\"\"\n",
    "    Find the root of a function between two bounds.\n",
    "\n",
    "    func -- The function to find roots of.\n",
    "    low -- The lower bound of the root.\n",
    "    high -- The upper bound of the root.\n",
    "    tolerance -- The tolerance of the error.\n",
    "    kwargs -- Additional arguments to pass to the function.\n",
    "    \n",
    "    returns -- The root of the function.\n",
    "    \"\"\"\n",
    "    # Wrap the function in a lambda to pass kwargs every call\n",
    "    func = lambda p: function(p, **kwargs)\n",
    "    \n",
    "    # Get the value at the midpoint.\n",
    "    x = func(low + ((high - low) / 2))\n",
    "    \n",
    "    # Check if the error is tolerable\n",
    "    if abs(high - low) < tolerance:\n",
    "        return (low + ((high - low) / 2))\n",
    "    \n",
    "    if func(low) * func(high) > 0:\n",
    "        raise ValueError(\"Missing root\")\n",
    "    \n",
    "    if x * func(low) > 0:\n",
    "        return bisect(func, low + ((high - low) / 2), high)\n",
    "    return bisect(func, low, low + ((high - low) / 2))"
   ]
  },
  {
   "cell_type": "code",
   "execution_count": 39,
   "metadata": {},
   "outputs": [
    {
     "data": {
      "text/plain": [
       "0.8603094171014023"
      ]
     },
     "execution_count": 39,
     "metadata": {},
     "output_type": "execute_result"
    }
   ],
   "source": [
    "f = lambda x: 1/x - tan(x)\n",
    "\n",
    "bisect(f, 0.1, pi/2)"
   ]
  },
  {
   "cell_type": "markdown",
   "metadata": {},
   "source": [
    "### Problem 6:\n",
    "Write Python script for computing the cube root of a number $$ x = \\sqrt [3] {a} $$ with only using arithmetic operations using Newton’s method, by finding a root of the function $$ f(x) = x^3 − a $$ Run your program for a = 0, 2, 10. For each of these cases, start with an initial guess reasonable close to the solution. As a stopping condition, require the function value whose root you are searching to be smaller than 10<sup>−8</sup>. Print out the values of x<sub>k</sub> and f(x<sub>k</sub>) in each iteration."
   ]
  },
  {
   "cell_type": "code",
   "execution_count": 52,
   "metadata": {},
   "outputs": [],
   "source": [
    "def f(x, a):\n",
    "    return x**3 - a\n",
    "\n",
    "def df(x, a):\n",
    "    return 3 * x**2\n",
    "\n",
    "def newton(f: callable, df: callable, x0: float, tolerance: float = 1.0e-8, **kwargs) -> float:\n",
    "    \"\"\"\n",
    "    Find the root of a function using Newton's method.\n",
    "\n",
    "    f -- The function to find the root of.\n",
    "    df -- The derivative of the function.\n",
    "    x0 -- The initial guess.\n",
    "    tolerance -- The tolerance of error.\n",
    "    kwargs -- Additional arguments to pass to the function.\n",
    "    \n",
    "    returns -- The root of the function.\n",
    "    \"\"\"\n",
    "    \n",
    "    print(\"Initial guess:\", x0)\n",
    "    x = x0\n",
    "    iteration = 0\n",
    "    \n",
    "    while abs(f(x, **kwargs)) > tolerance:\n",
    "        print(f\"Iteration {iteration}:\\tx = {x:.8f};\\tf(x) = {f(x, **kwargs):.8f}\")\n",
    "        # Get the next guess\n",
    "        x = x - f(x, **kwargs) / df(x, **kwargs)\n",
    "        \n",
    "    print(\"Done iterating.\")\n",
    "    return x"
   ]
  },
  {
   "cell_type": "code",
   "execution_count": 56,
   "metadata": {},
   "outputs": [
    {
     "name": "stdout",
     "output_type": "stream",
     "text": [
      "Initial guess: 1.259918212890625\n",
      "Iteration 0:\tx = 1.25991821;\tf(x) = -0.00001351\n",
      "Done iterating.\n"
     ]
    },
    {
     "data": {
      "text/plain": [
       "1.2599210499012614"
      ]
     },
     "execution_count": 56,
     "metadata": {},
     "output_type": "execute_result"
    }
   ],
   "source": [
    "# Using bisection to find initial point, \n",
    "# then running neutons method to find the root\n",
    "newton(\n",
    "    f, \n",
    "    df, \n",
    "    bisect(f, 0, 2, 1.0e-2, a = 2), \n",
    "    a = 2\n",
    ")"
   ]
  }
 ],
 "metadata": {
  "interpreter": {
   "hash": "b89b5cfaba6639976dc87ff2fec6d58faec662063367e2c229c520fe71072417"
  },
  "kernelspec": {
   "display_name": "Python 3.10.1 64-bit",
   "language": "python",
   "name": "python3"
  },
  "language_info": {
   "codemirror_mode": {
    "name": "ipython",
    "version": 3
   },
   "file_extension": ".py",
   "mimetype": "text/x-python",
   "name": "python",
   "nbconvert_exporter": "python",
   "pygments_lexer": "ipython3",
   "version": "3.10.1"
  },
  "orig_nbformat": 4
 },
 "nbformat": 4,
 "nbformat_minor": 2
}
