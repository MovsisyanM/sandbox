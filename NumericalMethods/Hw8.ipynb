{
 "cells": [
  {
   "cell_type": "markdown",
   "metadata": {},
   "source": [
    "# Homework 8\n",
    "###### by Mher Movsisyan\n",
    "---"
   ]
  },
  {
   "cell_type": "markdown",
   "metadata": {},
   "source": [
    "### Problem 1:  \n",
    "Determine whether the function `f` is unimodal on the given interval `[a, b]`  \n",
    "a. $$ f(x) = x^3 -6x^2+3, [a,b]=[-2,2] $$"
   ]
  },
  {
   "cell_type": "markdown",
   "metadata": {},
   "source": [
    "Answer:  \n",
    "$$ f'(x) = 3x^2-12x, [a,b]=[-2,2] $$"
   ]
  },
  {
   "cell_type": "markdown",
   "metadata": {},
   "source": [
    "$$ f''(x) = 6x - 12, [a,b]=[-2,2] $$"
   ]
  },
  {
   "cell_type": "markdown",
   "metadata": {},
   "source": [
    "$$ 3x^2 - 12x = 0 \\Leftrightarrow x \\in \\{0, 4\\} $$"
   ]
  },
  {
   "cell_type": "markdown",
   "metadata": {},
   "source": [
    "$$ f''(0) = -12, f''(4) = 12 \\Rightarrow Two\\ local\\ minima\\ in\\ [-2, 2]\\ (endpoints) \\Rightarrow f\\ not\\ is\\ unimodal\\ on\\ [-2, 2] $$"
   ]
  },
  {
   "cell_type": "markdown",
   "metadata": {},
   "source": [
    "b. $$ f(x) = x^3 -6x^2+3, [a,b]=[-3,5] $$"
   ]
  },
  {
   "cell_type": "markdown",
   "metadata": {},
   "source": [
    "Answer:  \n",
    "From previous example we observed where f is increasing and decreasing.\n",
    "Since the point `4` is a global minimum and the interval doesn't contain any other critical points, we can conclude that f is unimodal on `[-3, 5]`."
   ]
  },
  {
   "cell_type": "markdown",
   "metadata": {},
   "source": [
    "c. $$ f(x) = ln(x^2+1), [a,b]=[-3, 1] $$"
   ]
  },
  {
   "cell_type": "markdown",
   "metadata": {},
   "source": [
    "$$ f'(x) = \\frac{2x}{x^2+1} $$"
   ]
  },
  {
   "cell_type": "markdown",
   "metadata": {},
   "source": [
    "$$ f''(x) = \\frac{2}{x^2+1} - \\frac{4x^2}{(x^2+1)^2} $$"
   ]
  },
  {
   "cell_type": "markdown",
   "metadata": {},
   "source": [
    "$$ f'(x) = 0 \\Leftrightarrow 2x = 0 \\Leftrightarrow x = 0 $$"
   ]
  },
  {
   "cell_type": "markdown",
   "metadata": {},
   "source": [
    "$$ f''(0) = 2 - 0 = 2 > 0 \\Rightarrow f\\ is\\ unimodal\\ on\\ [-3, 1] $$"
   ]
  },
  {
   "cell_type": "markdown",
   "metadata": {},
   "source": [
    "d. $$ f(x) = x^4 - 3x^2 -10x, [a,b]=[1,4] $$"
   ]
  },
  {
   "cell_type": "markdown",
   "metadata": {},
   "source": [
    "$$ f'(x) = 4x^3 - 6x - 10 $$"
   ]
  },
  {
   "cell_type": "markdown",
   "metadata": {},
   "source": [
    "$$ f''(x) = 12x^2 - 6 $$"
   ]
  },
  {
   "cell_type": "markdown",
   "metadata": {},
   "source": [
    "$$ f''(x) = 0 \\Leftrightarrow x \\in \\{ -\\sqrt{(0.5)}, \\sqrt{(0.5)}\\} $$"
   ]
  },
  {
   "cell_type": "markdown",
   "metadata": {},
   "source": [
    "$$ f'(1) = -12, f'(4) = 256 - 34 = 222 $$\n",
    "by IVT, there is an x in `[1, 4]` for which `f'(x) = 0`, and since the second derivative is never 0 at this interval, we can conclude that `f` is unimodal on `[1, 4]`."
   ]
  },
  {
   "cell_type": "markdown",
   "metadata": {},
   "source": [
    "### Problem 2:  \n",
    "Find the point on the graph of y = 2 − x<sup>2</sup> which is closest to the origin."
   ]
  },
  {
   "cell_type": "markdown",
   "metadata": {},
   "source": [
    "Answer:  \n",
    "The problem above is an optimization problem, which is equivalent to\n",
    "$$ min(\\sqrt{x^2 + y^2}) = min(\\sqrt{x^2 + (2-x^2)^2}) =  min(4 - 3x^2 + x^4)  $$\n",
    "$$ f(x) \\overset{\\Delta}{=} x^4 -3x^2 + 4 $$"
   ]
  },
  {
   "cell_type": "markdown",
   "metadata": {},
   "source": [
    "$$ f'(x) = 4x^3 - 6x = 2x(2x^2 - 3) $$\n",
    "$$ f'(x) = 0 \\Leftrightarrow x \\in \\{0; -\\sqrt{1.5}; \\sqrt{1.5}\\} $$"
   ]
  },
  {
   "cell_type": "markdown",
   "metadata": {},
   "source": [
    "$$ f(0) = 4\\ \\ \\ \\ f(-\\sqrt{1.5}) = 1.75 \\ \\ \\ \\ f(\\sqrt{1.5}) = 1.75 $$"
   ]
  },
  {
   "cell_type": "markdown",
   "metadata": {},
   "source": [
    "There are two solutions to this problem: $$ x = -\\sqrt{1.5} $$ and $$ x = \\sqrt{1.5} $$ "
   ]
  },
  {
   "cell_type": "markdown",
   "metadata": {},
   "source": [
    "### Problem 3:  \n",
    "a. Our aim is to find the minimum point of $$ f(x) = x^2 + 4x + 5 $$ on the interval `[−3, 1]` using the Golden Section algorithm. Calculate the approximation x<sub>2</sub> of the minimum point with $$ \\rho = \\frac{3-\\sqrt{5}}{2} $$"
   ]
  },
  {
   "cell_type": "markdown",
   "metadata": {},
   "source": [
    "Answer:  \n",
    "$$ a_0 = -3; b_0 = 1 $$\n",
    "$$ A = a_0 + \\rho(b_0 - a_0) = 3 - 2\\sqrt{5} \\approx -1.47 $$\n",
    "$$ B = b_0 - \\rho(b_0 - a_0) = -5 + 2\\sqrt{5} \\approx -0.53 $$\n",
    "$$ f(A) \\approx 3 > 1 \\approx f(B) $$"
   ]
  },
  {
   "cell_type": "markdown",
   "metadata": {},
   "source": [
    "$$ a_1 = A \\approx -1.47; b_1 = b_0 = 1 $$\n",
    "$$ A = a_1 + \\rho(b_1 - a_1) = -1.47 + 2.47(\\rho) \\approx -0.53 $$\n",
    "$$ B = b_1 - \\rho(b_1 - a_1) = 1 - 2.47(\\rho) \\approx 0.06 $$\n",
    "$$ f(A) \\approx 3 < 5 \\approx f(B) $$  "
   ]
  },
  {
   "cell_type": "markdown",
   "metadata": {},
   "source": [
    "$$ a_2 \\approx -1.47; b_2 = B \\approx 0.06 $$\n",
    "$$ x_2 = \\frac{a_2 + b_2}{2} \\approx -0.7 $$"
   ]
  },
  {
   "cell_type": "markdown",
   "metadata": {},
   "source": [
    "b. How many evaluations are necessary in the Golden Section algorithm to estimate the minimum point with an error of at most 10<sup>−k</sup>?"
   ]
  },
  {
   "cell_type": "markdown",
   "metadata": {},
   "source": [
    "$$ |x_n - x^*| \\leq 0.5(1-\\rho)^n(b-a) \\leq 10^{-k} $$"
   ]
  },
  {
   "cell_type": "markdown",
   "metadata": {},
   "source": [
    "$$ (1-\\rho)^n \\leq 2 \\times 10^{-k}(b-a)^{-1} $$"
   ]
  },
  {
   "cell_type": "markdown",
   "metadata": {},
   "source": [
    "$$ n = \\frac{ln2 -kln(10) -ln(b-a)}{ln(1-\\rho)}"
   ]
  },
  {
   "cell_type": "markdown",
   "metadata": {},
   "source": [
    "c. (Python) Write a function `gss(f, a, b, ρ, ε)`, which will calculate the minimum of a unimodal\n",
    "function f on [a, b] with the precision ε > 0, using the Golden Section Search Method with ρ ∈ (0, 0.5). \n",
    "Use that function to calculate the minimum point of the function in part `a` with the precision ε = 10<sup>−3</sup> and ρ = 0.25."
   ]
  },
  {
   "cell_type": "code",
   "execution_count": 44,
   "metadata": {},
   "outputs": [],
   "source": [
    "evals = 0\n",
    "def eval_counter(f):\n",
    "    def wrapper(*args, **kwargs):\n",
    "        global evals\n",
    "        evals += 1\n",
    "        return f(*args, **kwargs)\n",
    "    return wrapper\n",
    "\n",
    "@eval_counter\n",
    "def f(x):\n",
    "    return x**2 + 4 *x + 5"
   ]
  },
  {
   "cell_type": "code",
   "execution_count": 45,
   "metadata": {},
   "outputs": [
    {
     "name": "stdout",
     "output_type": "stream",
     "text": [
      "Took 29 iterations, 58 evaluations\n"
     ]
    },
    {
     "data": {
      "text/plain": [
       "-1.9998693387574717"
      ]
     },
     "execution_count": 45,
     "metadata": {},
     "output_type": "execute_result"
    }
   ],
   "source": [
    "def gss(f, a, b, rho, eps=1e-3):\n",
    "    \"\"\"Golden section search: naive\"\"\"\n",
    "    n = 0\n",
    "\n",
    "    while (b - a) > eps:\n",
    "        n += 1\n",
    "        \n",
    "        c = a + rho * (b - a)\n",
    "        d = b - rho * (b- a)\n",
    "        \n",
    "        if f(c) > f(d):\n",
    "            a = c\n",
    "        else:\n",
    "            b = d\n",
    "    \n",
    "    print(f\"Took {n} iterations, {evals} evaluations\")\n",
    "    \n",
    "    return (a + b) / 2\n",
    "\n",
    "gss(f, -3.0, 1.0, .25)"
   ]
  },
  {
   "cell_type": "markdown",
   "metadata": {},
   "source": [
    "d. (Python) As above, write a Python script for $$ \\rho = \\frac{3-\\sqrt{5}}{2} $$\n",
    "such that the implementation reuses function evaluations, saving 1/2 of the evaluations per iteration."
   ]
  },
  {
   "cell_type": "code",
   "execution_count": 46,
   "metadata": {},
   "outputs": [
    {
     "name": "stdout",
     "output_type": "stream",
     "text": [
      "Took 18 iterations, 36 evaluations\n"
     ]
    },
    {
     "data": {
      "text/plain": [
       "-1.9998269297282876"
      ]
     },
     "execution_count": 46,
     "metadata": {},
     "output_type": "execute_result"
    }
   ],
   "source": [
    "import numpy as np\n",
    "\n",
    "evals = 0\n",
    "gss(f, -3.0, 1.0, (3 - np.sqrt(5)) / 2 )"
   ]
  },
  {
   "cell_type": "code",
   "execution_count": 47,
   "metadata": {},
   "outputs": [
    {
     "name": "stdout",
     "output_type": "stream",
     "text": [
      "Took 18 iterations, 20 evaluations\n"
     ]
    },
    {
     "data": {
      "text/plain": [
       "-1.9998269297282878"
      ]
     },
     "execution_count": 47,
     "metadata": {},
     "output_type": "execute_result"
    }
   ],
   "source": [
    "def gss(f, a, b, eps=1e-3):\n",
    "    \"\"\"Golden section search: optimized\"\"\"\n",
    "    \n",
    "    n = 0\n",
    "    rho = (3 - np.sqrt(5)) / 2\n",
    "\n",
    "    c = a + rho * (b - a)\n",
    "    d = b - rho * (b - a)\n",
    "\n",
    "    fc = f(c)\n",
    "    fd = f(d)\n",
    "\n",
    "    while b - a > eps:\n",
    "        n += 1\n",
    "        if fc < fd:\n",
    "            b = d\n",
    "            d = c\n",
    "            fd = fc\n",
    "            \n",
    "            c = a + rho * (b - a)\n",
    "            fc = f(c)\n",
    "        else:\n",
    "            a = c\n",
    "            c = d\n",
    "            fc = fd\n",
    "            \n",
    "            d = b - rho * (b - a)\n",
    "            fd = f(d)\n",
    "\n",
    "    print(f\"Took {n} iterations, {evals} evaluations\")\n",
    "\n",
    "    return (a + b) / 2\n",
    "\n",
    "evals = 0\n",
    "gss(f, -3.0, 1.0)"
   ]
  },
  {
   "cell_type": "markdown",
   "metadata": {},
   "source": [
    "### Problem 4:  \n",
    "Let f: R<sup>n</sup> → R such that f(x) = x<sup>T</sup>Ax, where A is n x n matrix. Compute the gradient and the Hessian of f(x)."
   ]
  },
  {
   "cell_type": "markdown",
   "metadata": {},
   "source": [
    "$$ f(x) = \\sum_{i=1}^n\\sum_{j=1}^na_{ij}x_ix_j= \\sum_{i=1}^n(x_i\\sum_{j=1}^na_{ij}x_j) $$"
   ]
  },
  {
   "cell_type": "markdown",
   "metadata": {},
   "source": [
    "$$ f(x) = \\begin{matrix}\n",
    "x_1^2a_{11} & + & x_1x_2a{12} & + & \\cdots & + & x_1x_na_{1n} \\\\\n",
    "+ &  & + &  &  & & + \\\\\n",
    "x_2x_1a_{21} & + & x_2^2a{22} & + & \\cdots & + & x_2x_na_{2n} \\\\\n",
    "+ &  & + &  &  & & + \\\\\n",
    "\\vdots & + &\\vdots & + & \\vdots & + & \\vdots \\\\\n",
    "+ &  & + &  &  & & + \\\\\n",
    "x_nx_1a_{n1} & + & x_nx_2a_{n2} & + & \\cdots & + & x_n^2a_{nn}\n",
    "\\end{matrix} $$"
   ]
  },
  {
   "cell_type": "markdown",
   "metadata": {},
   "source": [
    "$$ \\nabla f(x) \\begin{bmatrix} \n",
    "\\frac{\\partial f}{\\partial x_1} \\\\ \n",
    "... \\\\ \n",
    "\\frac{\\partial f}{\\partial x_n} \\end{bmatrix} = \\begin{bmatrix} \n",
    "2a_{11}x_1 + \\sum_{j=1;j\\neq i}^nx_ja_{1j} \\\\ \n",
    "... \\\\\n",
    "2a_{nn}x_n + \\sum_{j=1;j\\neq i}^nx_ja_{nj} \\end{bmatrix} = 2Ax $$"
   ]
  },
  {
   "cell_type": "markdown",
   "metadata": {},
   "source": [
    "$$ H_f = \\begin{bmatrix}\n",
    "2a_{11} & a_{12} & \\cdots & a_{1n} \\\\\n",
    "a_{21}& 2a_{22} & \\cdots & a_{2n} \\\\\n",
    "\\vdots & \\vdots & \\vdots & \\vdots \\\\\n",
    "a_{n1} & a_{n2} & \\cdots & 2a_{nn}\n",
    "\\end{bmatrix} $$"
   ]
  },
  {
   "cell_type": "code",
   "execution_count": null,
   "metadata": {},
   "outputs": [],
   "source": []
  },
  {
   "cell_type": "markdown",
   "metadata": {},
   "source": [
    "### Problem 5:  \n",
    "Construct the corresponding quadratic forms for the following matrices:  \n",
    "a. $$ A = [-8] $$"
   ]
  },
  {
   "cell_type": "markdown",
   "metadata": {},
   "source": [
    "b. $$ A = \\begin{bmatrix} 0 & 3 \\\\ 3 & -5 \\end{bmatrix} $$"
   ]
  },
  {
   "cell_type": "markdown",
   "metadata": {},
   "source": [
    "c. $$ A = \\begin{bmatrix} 5 & 0 & 3 \\\\ 0 & -6 & 4 \\\\ 3 & 4 & 15 \\end{bmatrix} $$"
   ]
  },
  {
   "cell_type": "markdown",
   "metadata": {},
   "source": [
    "### Problem 6:  \n",
    "By using only definitions of the positive and negative definiteness, and indefiniteness, prove that the matrix\n",
    "a. $$ A = \\begin{bmatrix} 3 & -4 \\\\ -4 & 6 \\end{bmatrix} $$ \n",
    "is positive definite, the matrix"
   ]
  },
  {
   "cell_type": "markdown",
   "metadata": {},
   "source": [
    "b. $$ A = \\begin{bmatrix} -2 & -4 & 0 \\\\ -4 & -8 & 0 \\\\ 0 & 0 & -3 \\end{bmatrix} $$ \n",
    "is negative semidefinite, and the matrix\n"
   ]
  },
  {
   "cell_type": "markdown",
   "metadata": {},
   "source": [
    "c. $$ A = \\begin{bmatrix} -2 & 3 & 0 \\\\ 3 & -2 & 3 \\\\ 0 & 3 & 3 \\end{bmatrix} $$\n",
    "is indefinite."
   ]
  },
  {
   "cell_type": "markdown",
   "metadata": {},
   "source": [
    "### Problem 7:  \n",
    "Write the first-order necessary conditions (FONC) and find all the stationary points of f:  \n",
    "a. $$ f(x_1, x_2, x_3) = x_1^2 + x_2^2 + 2x_1x_2 - \\frac{x_1^3}{3} - \\frac{x_2^3}{3} + 3x_3^2 -2x_3^3 $$"
   ]
  },
  {
   "cell_type": "markdown",
   "metadata": {},
   "source": [
    "Answer:  \n",
    "$$ \\Delta f(x_1, x_2, x_3) = \\begin{bmatrix} 2x_1 + 2x_2 - x_1^2 \\\\ 2x_2 + 2x_1 - x_1^2 \\\\ 6x_3-6x_3^2 \\end{bmatrix} = \\begin{bmatrix} 0 \\\\ 0 \\\\ 0 \\end{bmatrix} $$"
   ]
  },
  {
   "cell_type": "markdown",
   "metadata": {},
   "source": [
    "b. $$ f(x_1, x_2) = \\frac{x_1^3}{3} - 4x_1 + \\frac{x_2^3}{3} - 16x_2 $$"
   ]
  },
  {
   "cell_type": "markdown",
   "metadata": {},
   "source": [
    "Answer:  \n",
    "$$ \\Delta f(x_1, x_2) = \\begin{bmatrix} x_1^2 - 4 \\\\ x_2^2 - 16 \\end{bmatrix} = \\begin{bmatrix} 0 \\\\ 0 \\end{bmatrix} $$"
   ]
  }
 ],
 "metadata": {
  "interpreter": {
   "hash": "b89b5cfaba6639976dc87ff2fec6d58faec662063367e2c229c520fe71072417"
  },
  "kernelspec": {
   "display_name": "Python 3.10.1 64-bit",
   "language": "python",
   "name": "python3"
  },
  "language_info": {
   "codemirror_mode": {
    "name": "ipython",
    "version": 3
   },
   "file_extension": ".py",
   "mimetype": "text/x-python",
   "name": "python",
   "nbconvert_exporter": "python",
   "pygments_lexer": "ipython3",
   "version": "3.10.1"
  },
  "orig_nbformat": 4
 },
 "nbformat": 4,
 "nbformat_minor": 2
}
