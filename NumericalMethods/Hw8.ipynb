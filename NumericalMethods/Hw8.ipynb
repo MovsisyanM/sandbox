{
 "cells": [
  {
   "cell_type": "markdown",
   "metadata": {},
   "source": [
    "# Homework 8\n",
    "###### by Mher Movsisyan\n",
    "---"
   ]
  },
  {
   "cell_type": "markdown",
   "metadata": {},
   "source": [
    "### Problem 1:  \n",
    "Determine whether the function `f` is unimodal on the given interval `[a, b]`  \n",
    "a. $$ f(x) = x^3 -6x^2+3, [a,b]=[-2,2] $$"
   ]
  },
  {
   "cell_type": "markdown",
   "metadata": {},
   "source": [
    "b. $$ f(x) = x^3 -6x^2+3, [a,b]=[-3,5] $$"
   ]
  },
  {
   "cell_type": "markdown",
   "metadata": {},
   "source": [
    "c. $$ f(x) = ln(x^2+1), [a,b]=[-3, 1] $$"
   ]
  },
  {
   "cell_type": "markdown",
   "metadata": {},
   "source": [
    "d. $$ f(x) = x^4 - 3x^2 -10x, [a,b]=[1,4] $$"
   ]
  },
  {
   "cell_type": "markdown",
   "metadata": {},
   "source": [
    "### Problem 2:  \n",
    "Find the point on the graph of y = 2 − x<sup>2</sup> which is closest to the origin."
   ]
  },
  {
   "cell_type": "markdown",
   "metadata": {},
   "source": [
    "### Problem 3:  \n",
    "a. Our aim is to find the minimum point of $$ f(x) = x^2 + 4x + 5 $$ on the interval `[−3, 1]` using the Golden Section algorithm. Calculate the approximation x<sub>2</sub> of the minimum point with $$ \\rho = \\frac{3-\\sqrt{5}}{2} $$"
   ]
  },
  {
   "cell_type": "markdown",
   "metadata": {},
   "source": [
    "b. How many evaluations are necessary in the Golden Section algorithm to estimate the minimum point with an error of at most 10<sub>−k</sub>?"
   ]
  },
  {
   "cell_type": "markdown",
   "metadata": {},
   "source": [
    "c. (Python) Write a function gss(f, a, b, ρ, ε), which will calculate the minimum of a unimodal\n",
    "function f on [a, b] with the precision ε > 0, using the Golden Section Search Method with ρ ∈ (0, 0.5). \n",
    "Use that function to calculate the minimum point of the function in part `a` with the precision ε = 10<sup>−3</sup> and ρ = 0.25."
   ]
  },
  {
   "cell_type": "markdown",
   "metadata": {},
   "source": [
    "d. (Python) As above, write a Python script for $$ \\rho = \\frac{3-\\sqrt{5}}{2} $$\n",
    "such that the implementation reuses function evaluations, saving 1/2 of the evaluations per iteration."
   ]
  },
  {
   "cell_type": "markdown",
   "metadata": {},
   "source": [
    "### Problem 4:  \n",
    "Let f: R<sup>n</sup> → R such that f(x) = x<sup>T</sup>Ax, where A is n x n matrix. Compute the gradient and the Hessian of f(x)."
   ]
  },
  {
   "cell_type": "markdown",
   "metadata": {},
   "source": [
    "### Problem 5:  \n",
    "Construct the corresponding quadratic forms for the following matrices:  \n",
    "a. A = [-8]"
   ]
  },
  {
   "cell_type": "markdown",
   "metadata": {},
   "source": [
    "b. $$ A = \\begin{bmatrix} 0 & 3 \\\\ 3 & -5 \\end{bmatrix} $$"
   ]
  },
  {
   "cell_type": "markdown",
   "metadata": {},
   "source": [
    "c. $$ A = \\begin{bmatrix} 5 & 0 & 3 \\\\ 0 & -6 & 4 \\\\ 3 & 4 & 15 \\end{bmatrix} $$"
   ]
  },
  {
   "cell_type": "markdown",
   "metadata": {},
   "source": [
    "### Problem 6:  \n",
    "By using only definitions of the positive and negative definiteness, and indefiniteness, prove that the matrix\n",
    "$$ A = \\begin{bmatrix} 3 & -4 \\\\ -4 & 6 \\end{bmatrix} $$ \n",
    "is positive definite, the matrix \n",
    "$$ A = \\begin{bmatrix} -2 & -4 & 0 \\\\ -4 & -8 & 0 \\\\ 0 & 0 & -3 \\end{bmatrix} $$ \n",
    "is negative semidefinite, and the matrix\n",
    "$$ A = \\begin{bmatrix} -2 & 3 & 0 \\\\ 3 & -2 & 3 \\\\ 0 & 3 & 3 \\end{bmatrix} $$\n",
    "is indefinite."
   ]
  },
  {
   "cell_type": "markdown",
   "metadata": {},
   "source": [
    "### Problem 7:  \n",
    "Write the first-order necessary conditions (FONC) and find all the stationary points of f:\n",
    "a. $$ f(x_1, x_2, x_3) = x_1^2 + x_2^2 + 2x_1x_2 - \\frac{x_1^3}{3} - \\frac{x_2^3}{3} + 3x_3^2 -2x_3^3 $$"
   ]
  },
  {
   "cell_type": "markdown",
   "metadata": {},
   "source": [
    "b. $$ f(x_1, x_2) = \\frac{x_1^3}{3} - 4x_1 + \\frac{x_2^3}{3} - 16x_2 $$"
   ]
  }
 ],
 "metadata": {
  "language_info": {
   "name": "python"
  },
  "orig_nbformat": 4
 },
 "nbformat": 4,
 "nbformat_minor": 2
}
