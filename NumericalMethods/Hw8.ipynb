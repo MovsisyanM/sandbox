{
 "cells": [
  {
   "cell_type": "markdown",
   "metadata": {},
   "source": [
    "# Homework 8\n",
    "###### by Mher Movsisyan\n",
    "---"
   ]
  },
  {
   "cell_type": "markdown",
   "metadata": {},
   "source": [
    "### Problem 1:  \n",
    "Determine whether the function `f` is unimodal on the given interval `[a, b]`  \n",
    "a. $$ f(x) = x^3 -6x^2+3, [a,b]=[-2,2] $$"
   ]
  },
  {
   "cell_type": "markdown",
   "metadata": {},
   "source": [
    "Answer:  \n",
    "$$ f'(x) = 3x^2-12x, [a,b]=[-2,2] $$"
   ]
  },
  {
   "cell_type": "markdown",
   "metadata": {},
   "source": [
    "$$ f''(x) = 6x - 12, [a,b]=[-2,2] $$"
   ]
  },
  {
   "cell_type": "markdown",
   "metadata": {},
   "source": [
    "$$ 3x^2 - 12x = 0 \\Leftrightarrow x \\in \\{0, 4\\} $$"
   ]
  },
  {
   "cell_type": "markdown",
   "metadata": {},
   "source": [
    "$$ f''(0) = -12, f''(4) = 12 \\Rightarrow Two\\ local\\ minima\\ in\\ [-2, 2]\\ (endpoints) \\Rightarrow f\\ not\\ is\\ unimodal\\ on\\ [-2, 2] $$"
   ]
  },
  {
   "cell_type": "markdown",
   "metadata": {},
   "source": [
    "b. $$ f(x) = x^3 -6x^2+3, [a,b]=[-3,5] $$"
   ]
  },
  {
   "cell_type": "markdown",
   "metadata": {},
   "source": [
    "Answer:  \n",
    "From previous example we observed where f is increasing and decreasing.\n",
    "Since the point `4` is a global minimum and the interval doesn't contain any other critical points, we can conclude that f is unimodal on `[-3, 5]`."
   ]
  },
  {
   "cell_type": "markdown",
   "metadata": {},
   "source": [
    "c. $$ f(x) = ln(x^2+1), [a,b]=[-3, 1] $$"
   ]
  },
  {
   "cell_type": "markdown",
   "metadata": {},
   "source": [
    "$$ f'(x) = \\frac{2x}{x^2+1} $$"
   ]
  },
  {
   "cell_type": "markdown",
   "metadata": {},
   "source": [
    "$$ f''(x) = \\frac{2}{x^2+1} - \\frac{4x^2}{(x^2+1)^2} $$"
   ]
  },
  {
   "cell_type": "markdown",
   "metadata": {},
   "source": [
    "$$ f'(x) = 0 \\Leftrightarrow 2x = 0 \\Leftrightarrow x = 0 $$"
   ]
  },
  {
   "cell_type": "markdown",
   "metadata": {},
   "source": [
    "$$ f''(0) = 2 - 0 = 2 > 0 \\Rightarrow f\\ is\\ unimodal\\ on\\ [-3, 1] $$"
   ]
  },
  {
   "cell_type": "markdown",
   "metadata": {},
   "source": [
    "d. $$ f(x) = x^4 - 3x^2 -10x, [a,b]=[1,4] $$"
   ]
  },
  {
   "cell_type": "markdown",
   "metadata": {},
   "source": [
    "$$ f'(x) = 4x^3 - 6x - 10 $$"
   ]
  },
  {
   "cell_type": "markdown",
   "metadata": {},
   "source": [
    "$$ f''(x) = 12x^2 - 6 $$"
   ]
  },
  {
   "cell_type": "markdown",
   "metadata": {},
   "source": [
    "$$ f''(x) = 0 \\Leftrightarrow x \\in \\{ -\\sqrt{(0.5)}, \\sqrt{(0.5)}\\} $$"
   ]
  },
  {
   "cell_type": "markdown",
   "metadata": {},
   "source": [
    "$$ f'(1) = -12, f'(4) = 256 - 34 = 222 $$\n",
    "by IVT, there is an x in `[1, 4]` for which `f'(x) = 0`, but since the second derivative is never 0 at this interval, we can conclude that `f` is unimodal on `[1, 4]`."
   ]
  },
  {
   "cell_type": "markdown",
   "metadata": {},
   "source": [
    "### Problem 2:  \n",
    "Find the point on the graph of y = 2 − x<sup>2</sup> which is closest to the origin."
   ]
  },
  {
   "cell_type": "markdown",
   "metadata": {},
   "source": [
    "Answer:  \n",
    "The problem above is an optimization problem, which is equivalent to finding the minimum of \n",
    "$$ \\sqrt{x^2 + y^2} = \\sqrt{x^2 + (2-x^2)^2} = \\sqrt{4 - 3x^2 + x^4}  $$"
   ]
  },
  {
   "cell_type": "markdown",
   "metadata": {},
   "source": [
    "$$ \\frac{x^4} "
   ]
  },
  {
   "cell_type": "markdown",
   "metadata": {},
   "source": [
    "### Problem 3:  \n",
    "a. Our aim is to find the minimum point of $$ f(x) = x^2 + 4x + 5 $$ on the interval `[−3, 1]` using the Golden Section algorithm. Calculate the approximation x<sub>2</sub> of the minimum point with $$ \\rho = \\frac{3-\\sqrt{5}}{2} $$"
   ]
  },
  {
   "cell_type": "markdown",
   "metadata": {},
   "source": [
    "b. How many evaluations are necessary in the Golden Section algorithm to estimate the minimum point with an error of at most 10<sub>−k</sub>?"
   ]
  },
  {
   "cell_type": "markdown",
   "metadata": {},
   "source": [
    "c. (Python) Write a function `gss(f, a, b, ρ, ε)`, which will calculate the minimum of a unimodal\n",
    "function f on [a, b] with the precision ε > 0, using the Golden Section Search Method with ρ ∈ (0, 0.5). \n",
    "Use that function to calculate the minimum point of the function in part `a` with the precision ε = 10<sup>−3</sup> and ρ = 0.25."
   ]
  },
  {
   "cell_type": "markdown",
   "metadata": {},
   "source": [
    "d. (Python) As above, write a Python script for $$ \\rho = \\frac{3-\\sqrt{5}}{2} $$\n",
    "such that the implementation reuses function evaluations, saving 1/2 of the evaluations per iteration."
   ]
  },
  {
   "cell_type": "markdown",
   "metadata": {},
   "source": [
    "### Problem 4:  \n",
    "Let f: R<sup>n</sup> → R such that f(x) = x<sup>T</sup>Ax, where A is n x n matrix. Compute the gradient and the Hessian of f(x)."
   ]
  },
  {
   "cell_type": "markdown",
   "metadata": {},
   "source": [
    "### Problem 5:  \n",
    "Construct the corresponding quadratic forms for the following matrices:  \n",
    "a. $$ A = [-8] $$"
   ]
  },
  {
   "cell_type": "markdown",
   "metadata": {},
   "source": [
    "b. $$ A = \\begin{bmatrix} 0 & 3 \\\\ 3 & -5 \\end{bmatrix} $$"
   ]
  },
  {
   "cell_type": "markdown",
   "metadata": {},
   "source": [
    "c. $$ A = \\begin{bmatrix} 5 & 0 & 3 \\\\ 0 & -6 & 4 \\\\ 3 & 4 & 15 \\end{bmatrix} $$"
   ]
  },
  {
   "cell_type": "markdown",
   "metadata": {},
   "source": [
    "### Problem 6:  \n",
    "By using only definitions of the positive and negative definiteness, and indefiniteness, prove that the matrix\n",
    "a. $$ A = \\begin{bmatrix} 3 & -4 \\\\ -4 & 6 \\end{bmatrix} $$ \n",
    "is positive definite, the matrix"
   ]
  },
  {
   "cell_type": "markdown",
   "metadata": {},
   "source": [
    "b. $$ A = \\begin{bmatrix} -2 & -4 & 0 \\\\ -4 & -8 & 0 \\\\ 0 & 0 & -3 \\end{bmatrix} $$ \n",
    "is negative semidefinite, and the matrix\n"
   ]
  },
  {
   "cell_type": "markdown",
   "metadata": {},
   "source": [
    "c. $$ A = \\begin{bmatrix} -2 & 3 & 0 \\\\ 3 & -2 & 3 \\\\ 0 & 3 & 3 \\end{bmatrix} $$\n",
    "is indefinite."
   ]
  },
  {
   "cell_type": "markdown",
   "metadata": {},
   "source": [
    "### Problem 7:  \n",
    "Write the first-order necessary conditions (FONC) and find all the stationary points of f:  \n",
    "a. $$ f(x_1, x_2, x_3) = x_1^2 + x_2^2 + 2x_1x_2 - \\frac{x_1^3}{3} - \\frac{x_2^3}{3} + 3x_3^2 -2x_3^3 $$"
   ]
  },
  {
   "cell_type": "markdown",
   "metadata": {},
   "source": [
    "Answer:  \n",
    "$$ \\Delta f(x_1, x_2, x_3) = \\begin{bmatrix} 2x_1 + 2x_2 - x_1^2 \\\\ 2x_2 + 2x_1 - x_1^2 \\\\ 6x_3-6x_3^2 \\end{bmatrix} = \\begin{bmatrix} 0 \\\\ 0 \\\\ 0 \\end{bmatrix} $$"
   ]
  },
  {
   "cell_type": "markdown",
   "metadata": {},
   "source": [
    "b. $$ f(x_1, x_2) = \\frac{x_1^3}{3} - 4x_1 + \\frac{x_2^3}{3} - 16x_2 $$"
   ]
  },
  {
   "cell_type": "markdown",
   "metadata": {},
   "source": [
    "$$ \\Delta f(x_1, x_2) = \\begin{bmatrix} x_1^2 - 4 \\\\ x_2^2 - 16 \\end{bmatrix} = \\begin{bmatrix} 0 \\\\ 0 \\end{bmatrix} $$"
   ]
  }
 ],
 "metadata": {
  "interpreter": {
   "hash": "b89b5cfaba6639976dc87ff2fec6d58faec662063367e2c229c520fe71072417"
  },
  "kernelspec": {
   "display_name": "Python 3.10.1 64-bit",
   "language": "python",
   "name": "python3"
  },
  "language_info": {
   "codemirror_mode": {
    "name": "ipython",
    "version": 3
   },
   "file_extension": ".py",
   "mimetype": "text/x-python",
   "name": "python",
   "nbconvert_exporter": "python",
   "pygments_lexer": "ipython3",
   "version": "3.10.1"
  },
  "orig_nbformat": 4
 },
 "nbformat": 4,
 "nbformat_minor": 2
}
