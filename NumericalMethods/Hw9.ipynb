{
 "cells": [
  {
   "cell_type": "markdown",
   "metadata": {},
   "source": [
    "# Homework 9\n",
    "###### by Mher Movsisyan\n",
    "---"
   ]
  },
  {
   "cell_type": "markdown",
   "metadata": {},
   "source": [
    "### Problem 1:  \n",
    "Check if the following functions are convex, strictly convex, concave, strictly concave on none\n",
    "of them in Ω:"
   ]
  },
  {
   "cell_type": "markdown",
   "metadata": {},
   "source": [
    "a. $$ f(x_1, x_2) = -3x_1 - 4x_2 $$"
   ]
  },
  {
   "cell_type": "markdown",
   "metadata": {},
   "source": [
    "Answer:  \n",
    "$$ \\frac{df}{dx_1} = -3 $$\n",
    "$$ \\frac{df}{dx_2} = -4 $$"
   ]
  },
  {
   "cell_type": "markdown",
   "metadata": {},
   "source": [
    "$$ \\frac{d^2f}{dx_1^2} = 0 $$\n",
    "$$ \\frac{d^2f}{dx_2^2} = 0 $$\n",
    "$$ \\frac{d^2f}{dx_2dx_1} = 0 $$\n",
    "$$ \\frac{d^2f}{dx_1dx_2} = 0 $$"
   ]
  },
  {
   "cell_type": "markdown",
   "metadata": {},
   "source": [
    "f is either convex or concave."
   ]
  },
  {
   "cell_type": "markdown",
   "metadata": {},
   "source": [
    "b. $$ f(x_1, x_2) = -\\frac{x_2^2}{x_1},\\ \\ \\ x_1 > 0 $$"
   ]
  },
  {
   "cell_type": "markdown",
   "metadata": {},
   "source": [
    "Answer:  \n",
    "$$ \\frac{df}{dx_1} = \\frac{x_2^2}{x_1^2} $$\n",
    "$$ \\frac{df}{dx_2} = -\\frac{2x_2}{x_1} $$"
   ]
  },
  {
   "cell_type": "markdown",
   "metadata": {},
   "source": [
    "$$ \\frac{d^2f}{dx_1^2} = -\\frac{2x_2^2}{x_1^3} \\leq 0 $$\n",
    "$$ \\frac{d^2f}{dx_2^2} = -\\frac{2}{x_1} < 0 $$\n",
    "$$ \\frac{d^2f}{dx_2dx_1} = \\frac{2x_2}{x_1^2} $$\n",
    "$$ \\frac{d^2f}{dx_1dx_2} = \\frac{2x_2}{x_1^2} $$"
   ]
  },
  {
   "cell_type": "markdown",
   "metadata": {},
   "source": [
    "$$ -\\frac{2x_2^2}{x_1^3} \\times -\\frac{2}{x_1} - \\left ( \\frac{2x_2}{x_1^2} \\right )^2 = $$"
   ]
  },
  {
   "cell_type": "markdown",
   "metadata": {},
   "source": [
    "$$ = \\frac{4x_2^2}{x_1^4} - \\frac{4x_2^2}{x_1^4} = 0 $$"
   ]
  },
  {
   "cell_type": "markdown",
   "metadata": {},
   "source": [
    "`f` is concave."
   ]
  },
  {
   "cell_type": "markdown",
   "metadata": {},
   "source": [
    "c. $$ f(x_1, x_2, x_3) = e^{x_1^2 + x_2^2} + e^{x_3^2} $$"
   ]
  },
  {
   "cell_type": "markdown",
   "metadata": {},
   "source": [
    "Answer:  \n",
    "$$ \\frac{df}{dx_1} = e^{x_1^2 + x_2^2}2x_1 $$\n",
    "$$ \\frac{df}{dx_2} = e^{x_1^2 + x_2^2}2x_2 $$\n",
    "$$ \\frac{df}{dx_3} = e^{x_3^2}2x_3 $$"
   ]
  },
  {
   "cell_type": "markdown",
   "metadata": {},
   "source": [
    "$$ \\nabla^2f = \\begin{bmatrix}\n",
    "    e^{x_1^2 + x_2^2}(2x_1 + 2) & e^{x_1^2 + x_2^2}4x_2x_1 & 0 \\\\\n",
    "    e^{x_1^2 + x_2^2}4x_1x_2 & e^{x_1^2 + x_2^2}(2x_2 + 2) & 0 \\\\\n",
    "    0 & 0 & e^{x_3^2}(2x_3 + 2)\n",
    "    \\end{bmatrix} $$"
   ]
  },
  {
   "cell_type": "markdown",
   "metadata": {},
   "source": [
    "$$ z^T \\nabla^2z = \\begin{bmatrix}\n",
    "    z_1e^{x_1^2 + x_2^2}(2x_1 + 2) + z_2e^{x_1^2 + x_2^2}4x_1x_2 \\\\\n",
    "    z_1e^{x_1^2 + x_2^2}4x_2x_1 + z_2e^{x_1^2 + x_2^2}(2x_2 + 2) \\\\\n",
    "    z_3e^{x_3^2}(2x_3 + 2)\n",
    "    \\end{bmatrix}^T\\begin{bmatrix} z_1 \\\\ z_2 \\\\ z_3 \\end{bmatrix} $$"
   ]
  },
  {
   "cell_type": "markdown",
   "metadata": {},
   "source": [
    "$$ z_1^2e^{x_1^2 + x_2^2}(2x_1 + 2) + 8z_2z_1e^{x_1^2 + x_2^2}x_1x_2 + z_2^2e^{x_1^2 + x_2^2}(2x_2 + 2) +\n",
    "z_3^2e^{x_3^2}(2x_3 + 2) = $$"
   ]
  },
  {
   "cell_type": "markdown",
   "metadata": {},
   "source": [
    "What is this??...  \n",
    "According to wolfram alpha, the eigenvalues of the hessian are positive so the function is convex."
   ]
  },
  {
   "cell_type": "markdown",
   "metadata": {},
   "source": [
    "d. $$ f(x_1, x_2) = ln(2x_1^2 + x_2^2 + 2) $$"
   ]
  },
  {
   "cell_type": "markdown",
   "metadata": {},
   "source": []
  },
  {
   "cell_type": "markdown",
   "metadata": {},
   "source": [
    "### Problem 2:  \n",
    "Find all stationary points of f and check if these points are local maximum, minimum, saddle\n",
    "points or none of them for that function:"
   ]
  },
  {
   "cell_type": "markdown",
   "metadata": {},
   "source": [
    "a. $$ f(x_1, x_2, x_3) = 4x_1^3-48x_1+2x_2^3 - 6x_2 + 2x_3^3 - 3x_3 - 1$$"
   ]
  },
  {
   "cell_type": "markdown",
   "metadata": {},
   "source": []
  },
  {
   "cell_type": "markdown",
   "metadata": {},
   "source": [
    "b. $$ f(x_1, x_2) = x_1x_2(4-x_2) $$"
   ]
  },
  {
   "cell_type": "markdown",
   "metadata": {},
   "source": []
  },
  {
   "cell_type": "markdown",
   "metadata": {},
   "source": [
    "c. $$ f(x_1, x_2) = ln(1 + x_1^2) + x_1x_2 + x_2^2 $$"
   ]
  },
  {
   "cell_type": "markdown",
   "metadata": {},
   "source": []
  },
  {
   "cell_type": "markdown",
   "metadata": {},
   "source": [
    "### Problem 3:\n",
    "$$ f(x_1, x_2, x_3) = e^{x_1^2} + x_2^4 + 2x_2^2x_3^2+x_3^4-8x_2-8x_3 $$"
   ]
  },
  {
   "cell_type": "markdown",
   "metadata": {},
   "source": [
    "a. Find all stationary points of `f`"
   ]
  },
  {
   "cell_type": "markdown",
   "metadata": {},
   "source": []
  },
  {
   "cell_type": "markdown",
   "metadata": {},
   "source": [
    "b. For each stationary point found in question a., check whether it is a local minimizer, local\n",
    "maximizer or none of them"
   ]
  },
  {
   "cell_type": "markdown",
   "metadata": {},
   "source": []
  },
  {
   "cell_type": "markdown",
   "metadata": {},
   "source": [
    "c. Find all global minimizers of `f`"
   ]
  },
  {
   "cell_type": "markdown",
   "metadata": {},
   "source": []
  },
  {
   "cell_type": "markdown",
   "metadata": {},
   "source": [
    "### Problem 4:\n",
    "We are given the following data\n",
    "  \n",
    "| x | y |  \n",
    "|---|---|  \n",
    "| -3 | 2 |  \n",
    "| 1 | 4 |  \n",
    "| 0 | -1 |  \n",
    "| 7 | 3 |  \n",
    "  "
   ]
  },
  {
   "cell_type": "markdown",
   "metadata": {},
   "source": [
    "a. Find the Least Squares linear approximation for this data"
   ]
  },
  {
   "cell_type": "markdown",
   "metadata": {},
   "source": []
  },
  {
   "cell_type": "markdown",
   "metadata": {},
   "source": [
    "b. (Python) Construct, by using Python, the same Least Squares linear approximation for\n",
    "this data, and plot the graph of the Least Squares Line and the data."
   ]
  },
  {
   "cell_type": "code",
   "execution_count": 13,
   "metadata": {},
   "outputs": [
    {
     "data": {
      "image/png": "[encoded data removed]",
      "text/plain": [
       "<Figure size 432x288 with 1 Axes>"
      ]
     },
     "metadata": {
      "needs_background": "light"
     },
     "output_type": "display_data"
    }
   ],
   "source": [
    "import numpy as np\n",
    "import matplotlib.pyplot as plt\n",
    "\n",
    "x = np.array([-3, 1, 0, 7])\n",
    "y = np.array([2, 4, -1, 3])\n",
    "\n",
    "weight, bias = np.polyfit(x, y, 1)\n",
    "\n",
    "line = lambda x: bias + weight * x\n",
    "\n",
    "plt.plot(x, y, linestyle=\"none\", marker=\"o\")\n",
    "plt.plot([-5, 9], [line(-5), line(9)], linestyle='dashed');"
   ]
  }
 ],
 "metadata": {
  "interpreter": {
   "hash": "b89b5cfaba6639976dc87ff2fec6d58faec662063367e2c229c520fe71072417"
  },
  "kernelspec": {
   "display_name": "Python 3.10.1 64-bit",
   "language": "python",
   "name": "python3"
  },
  "language_info": {
   "codemirror_mode": {
    "name": "ipython",
    "version": 3
   },
   "file_extension": ".py",
   "mimetype": "text/x-python",
   "name": "python",
   "nbconvert_exporter": "python",
   "pygments_lexer": "ipython3",
   "version": "3.10.1"
  },
  "orig_nbformat": 4
 },
 "nbformat": 4,
 "nbformat_minor": 2
}
