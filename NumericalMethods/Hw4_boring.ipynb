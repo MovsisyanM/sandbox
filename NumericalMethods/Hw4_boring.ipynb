{
 "cells": [
  {
   "cell_type": "markdown",
   "metadata": {},
   "source": [
    "# Homework 4\n",
    "###### by Mher Movsisyan\n",
    "---"
   ]
  },
  {
   "cell_type": "markdown",
   "metadata": {},
   "source": [
    "### Problem 1.  \n",
    "Consider the function g(x) = 2 + (x - 2)<sup>4</sup>"
   ]
  },
  {
   "cell_type": "markdown",
   "metadata": {},
   "source": [
    "a. This function has two fixed points. What are they?"
   ]
  },
  {
   "cell_type": "markdown",
   "metadata": {},
   "source": [
    "Answer:  \n",
    "x = 2 and x = 3"
   ]
  },
  {
   "cell_type": "markdown",
   "metadata": {},
   "source": [
    "b. Consider the Fixed-Point iteration x<sub>k + 1</sub> = g(x<sub>k</sub>). Assume we choose initial guess such that it converges to the smallest fixed point, what rate of convergence results?"
   ]
  },
  {
   "cell_type": "markdown",
   "metadata": {},
   "source": [
    "Answer:  \n",
    "$$ |x_{n+1} - x| \\leq c|x_n - x|^a $$"
   ]
  },
  {
   "cell_type": "markdown",
   "metadata": {},
   "source": [
    "$$ |2 + (x + 1 - 2)^4 - 2| \\leq c|2 + (x - 2)^4 - 2|^a $$"
   ]
  },
  {
   "cell_type": "markdown",
   "metadata": {},
   "source": [
    "$$ |2 + (x + 1 - 2)^4 - 2| = |(x - 1)^4| = |x^4 -4x^3 +6x^2 -4x + 1| = $$"
   ]
  },
  {
   "cell_type": "markdown",
   "metadata": {},
   "source": [
    "$$ = |x_n -(4x^3 - 18x^2 + 28x - 17)| \\leq |x_n - 2| $$"
   ]
  },
  {
   "cell_type": "markdown",
   "metadata": {},
   "source": [
    "$$ when\\ -(4 x^3 - 18 x^2 + 28 x - 17) \\leq 2 \\Leftrightarrow x \\geq 1.5 $$"
   ]
  },
  {
   "cell_type": "markdown",
   "metadata": {},
   "source": [
    "The fixed-point iteration method will converge at least linearly to the smallest fixed point given the initial guess is greater than 1.5"
   ]
  },
  {
   "cell_type": "markdown",
   "metadata": {},
   "source": [
    "### Problem 2  \n",
    "Show that the function $$ g(x) = 3 − x^2 $$ is contraction mapping on the interval $$ [− \\frac {1} {4} , \\frac {1} {4}] $$ yet it have\n",
    "no fixed points on this domain. Why does this not contradict the Fixed-Pint Iteration theorem?"
   ]
  },
  {
   "cell_type": "markdown",
   "metadata": {},
   "source": [
    "Answer:  \n",
    "At point x = 0, g(x) = 3 which is greater than 0.25. Banach's theorem does not apply to this function, it only applies to mappings from [a, b] to [a, b]"
   ]
  },
  {
   "cell_type": "markdown",
   "metadata": {},
   "source": [
    "### Problem 3  \n",
    "Prove that the function g defined by g(x) = 4x(1 − x) maps interval [0, 1] into itself and it is not a contraction mapping. Prove that it has a fixed point. Why does this not contradict the Fixed-Pint Iteration theorem?"
   ]
  },
  {
   "cell_type": "markdown",
   "metadata": {},
   "source": [
    "Answer:"
   ]
  },
  {
   "cell_type": "markdown",
   "metadata": {},
   "source": [
    "$$ max(g(x)) = 4 \\times 0.5(1 - 0.5) = 1 $$\n",
    "$$ min(g(x)) = 4 \\times 0(1 - 0) = 0 $$"
   ]
  },
  {
   "cell_type": "markdown",
   "metadata": {},
   "source": [
    "$$ \\Rightarrow g: [0, 1] \\rightarrow [0, 1] $$"
   ]
  },
  {
   "cell_type": "markdown",
   "metadata": {},
   "source": [
    "$$ g'(x) = 4 - 8x $$\n",
    "$$ max(g'(x)) = 4 - 8 \\times 0 = 4 $$"
   ]
  },
  {
   "cell_type": "markdown",
   "metadata": {},
   "source": [
    "$$ \\Rightarrow g\\ is\\ not\\ a\\ contraction\\ mapping\\ $$"
   ]
  },
  {
   "cell_type": "markdown",
   "metadata": {},
   "source": [
    "$$ g(x) = x $$\n",
    "$$ 4x(1 - x) = x $$\n",
    "$$ (1 - x) = \\frac {1} {4} $$\n",
    "$$ x = \\frac {3} {4} $$"
   ]
  },
  {
   "cell_type": "markdown",
   "metadata": {},
   "source": [
    "$$ g(3/4) = \\frac {4 \\times 3} {4} (1 - 3/4) = 3 \\times 1/4 = 3/4  $$"
   ]
  },
  {
   "cell_type": "markdown",
   "metadata": {},
   "source": [
    "This doesn't contradict Banach's theorem because it is not a contraction mapping."
   ]
  },
  {
   "cell_type": "markdown",
   "metadata": {},
   "source": [
    "### Problem 4  \n",
    "Our aim is to find the zeros of the following function  \n",
    "$$ f(x) = 4x - sin(x^2 + 1) $$  \n",
    "numerically using the Fixed-Point Iteration method."
   ]
  },
  {
   "cell_type": "markdown",
   "metadata": {},
   "source": [
    "a. Show that f(x) = 0 is equivalent to x = g(x), where $$ g(x) = \\frac {sin(x^2 + 1)} {4} $$"
   ]
  },
  {
   "cell_type": "markdown",
   "metadata": {},
   "source": [
    "Answer:  "
   ]
  },
  {
   "cell_type": "markdown",
   "metadata": {},
   "source": [
    "$$ g(x) = x $$\n",
    "$$ \\Leftrightarrow \\frac {sin(x^2 + 1)} {4} = x $$  \n",
    "$$ \\Leftrightarrow sin(x^2 + 1) = 4x $$  \n",
    "$$ \\Leftrightarrow 4x - sin(x^2 + 1) = 0 $$\n",
    "$$ \\Leftrightarrow f(x) = 0 $$"
   ]
  },
  {
   "cell_type": "markdown",
   "metadata": {},
   "source": [
    "b. Prove that g(x) is a contraction mapping in [−1, 1]"
   ]
  },
  {
   "cell_type": "markdown",
   "metadata": {},
   "source": [
    "Answer:"
   ]
  },
  {
   "cell_type": "markdown",
   "metadata": {},
   "source": [
    "$$ g'(x) = \\frac {xcos(x^2 + 1)} {2} $$"
   ]
  },
  {
   "cell_type": "markdown",
   "metadata": {},
   "source": [
    "$$ max|g'(x)| = max \\left |\\frac {xcos(x^2 + 1)} {2} \\right | \\leq \\frac {1} {2} $$"
   ]
  },
  {
   "cell_type": "markdown",
   "metadata": {},
   "source": [
    "$$ \\Rightarrow g\\ is\\ a\\ contraction\\ mapping\\ $$"
   ]
  },
  {
   "cell_type": "markdown",
   "metadata": {},
   "source": [
    "c. Prove that g : [−1, 1] → [−1, 1];"
   ]
  },
  {
   "cell_type": "markdown",
   "metadata": {},
   "source": [
    "Answer:"
   ]
  },
  {
   "cell_type": "markdown",
   "metadata": {},
   "source": [
    "$$ min(g(x)) = min(\\frac {sin(x^2 + 1)} {4}) = -\\frac {1} {4} $$ "
   ]
  },
  {
   "cell_type": "markdown",
   "metadata": {},
   "source": [
    "$$ max(g(x)) = max(\\frac {sin(x^2 + 1)} {4}) = \\frac {1} {4} $$ "
   ]
  },
  {
   "cell_type": "markdown",
   "metadata": {},
   "source": [
    "d. Prove that if x<sub>0</sub> ∈ [−1, 1], then the sequence defined by x<sub>k+1</sub> = g(x<sub>k</sub>), k = 0, 1, 2, · · · , converges to the unique fixed point r ∈ [−1, 1]."
   ]
  },
  {
   "cell_type": "markdown",
   "metadata": {},
   "source": [
    "Answer:  \n",
    "By Banach's fixed point theorem, since g(x) is a contraction mapping on [-1, 1], it converges to the unique fixed point r ∈ [−1, 1] via the `FPI` method given x<sub>0</sub> ∈ [−1, 1]."
   ]
  },
  {
   "cell_type": "markdown",
   "metadata": {},
   "source": [
    "e. How many iterations we need to calculate r within the precision ε = 10<sup>−5</sup> by the `FPI` Method, if x<sub>0</sub> = 0?"
   ]
  },
  {
   "cell_type": "markdown",
   "metadata": {},
   "source": [
    "$$ |x_n - r| \\leq \\frac {a^n} {1 - a}|x_1 - x_0| $$\n",
    "$$ 10^{-5} \\leq \\frac {0.5^n} {0.5} |g(0) - 0| $$"
   ]
  },
  {
   "cell_type": "markdown",
   "metadata": {},
   "source": [
    "$$ 10^{-5} \\leq \\frac {sin(1)} {4} \\times 0.5^{n-1} \\leq 0.5^{n + 1} $$"
   ]
  },
  {
   "cell_type": "markdown",
   "metadata": {},
   "source": [
    "$$ n = 16 $$"
   ]
  }
 ],
 "metadata": {
  "interpreter": {
   "hash": "b89b5cfaba6639976dc87ff2fec6d58faec662063367e2c229c520fe71072417"
  },
  "kernelspec": {
   "display_name": "Python 3.10.1 64-bit",
   "language": "python",
   "name": "python3"
  },
  "language_info": {
   "name": "python",
   "version": "3.10.1"
  },
  "orig_nbformat": 4
 },
 "nbformat": 4,
 "nbformat_minor": 2
}
