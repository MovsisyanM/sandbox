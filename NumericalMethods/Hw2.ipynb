{
 "cells": [
  {
   "cell_type": "markdown",
   "metadata": {},
   "source": [
    "# Homework 2\n",
    "###### by Mher Movsisyan\n",
    "---"
   ]
  },
  {
   "cell_type": "markdown",
   "metadata": {},
   "source": [
    "### Problem 1:\n",
    "Prove that  \n",
    "a. the sequence $$ x_n = 1 + \\left ( \\frac{1}{2} \\right )^n $$ converges linearly to 1."
   ]
  },
  {
   "cell_type": "markdown",
   "metadata": {},
   "source": [
    "$$ \\lim_{n \\to \\infty} \\frac {|x_{n+1} - 1|} {|x_{n} - 1|} = $$"
   ]
  },
  {
   "cell_type": "markdown",
   "metadata": {},
   "source": [
    "$$ = \\lim_{n \\to \\infty} \\frac {|\\left ( \\frac {1} {2} \\right )^{n + 1}|} {|\\left ( \\frac {1} {2} \\right )^{n}|} = \\frac {1} {2} < 1 $$"
   ]
  },
  {
   "cell_type": "markdown",
   "metadata": {},
   "source": [
    "$$ \\rightarrow linear\\ convergence$$"
   ]
  },
  {
   "cell_type": "markdown",
   "metadata": {},
   "source": [
    "b. the sequence $$ x_n = 1 + \\left ( \\frac{1}{n} \\right )^n $$ converges superlinearly to 1."
   ]
  },
  {
   "cell_type": "markdown",
   "metadata": {},
   "source": [
    "$$ \\lim_{n \\to \\infty} \\frac {|x_{n+1} - 1|} {|x_{n} - 1|} = $$"
   ]
  },
  {
   "cell_type": "markdown",
   "metadata": {},
   "source": [
    "$$ = \\lim_{n \\to \\infty} \\frac {|\\left ( \\frac {1} {n + 1} \\right )^{n + 1}|} {|\\left ( \\frac {1} {n} \\right )^{n}|} = \\lim_{n \\to \\infty} \\frac {n^n} {(n+1)^{n+1}} \\rightarrow $$"
   ]
  },
  {
   "cell_type": "markdown",
   "metadata": {},
   "source": [
    "$$ \\lim_{n \\to \\infty} \\frac {1} {n} \\rightarrow 0 $$"
   ]
  },
  {
   "cell_type": "markdown",
   "metadata": {},
   "source": [
    "$$ superlinear\\ convergence $$"
   ]
  },
  {
   "cell_type": "markdown",
   "metadata": {},
   "source": [
    "c. the sequence $$ x_n = 1 + \\left ( \\frac{1}{n} \\right )^{2^n} $$ converges quadratically to 1."
   ]
  },
  {
   "cell_type": "markdown",
   "metadata": {},
   "source": [
    "$$ |x_{n + 1} - x^*| = |1 + \\left ( \\frac {1} {n+1} \\right )^{2^{n+1}} - 1| = $$"
   ]
  },
  {
   "cell_type": "markdown",
   "metadata": {},
   "source": [
    "$$ = | 1 + \\frac {1} {(n+1)^{2^{n+1}}} - 1| \\leq | 1 + \\frac {1} {n^{2^{2n}}} - 1| = |x_n - 1|^2 $$"
   ]
  },
  {
   "cell_type": "markdown",
   "metadata": {},
   "source": [
    "### Problem 2:  \n",
    "Find the number of roots and isolate each of the roots of the following equations: "
   ]
  },
  {
   "cell_type": "markdown",
   "metadata": {},
   "source": [
    "a. $$ x + 2^x = 0 $$ "
   ]
  },
  {
   "cell_type": "markdown",
   "metadata": {},
   "source": [
    "$$ df = ln(2)2^x + 1 = 0  $$"
   ]
  },
  {
   "cell_type": "markdown",
   "metadata": {},
   "source": [
    "$$ ln(2) = 2^x $$"
   ]
  },
  {
   "cell_type": "markdown",
   "metadata": {},
   "source": [
    "$$ \\frac {ln(ln2)} {ln2} \\approx -0.52877 : critical \\ point $$"
   ]
  },
  {
   "cell_type": "markdown",
   "metadata": {},
   "source": [
    "$$ f(-\\infty) = -\\infty + 2^{-\\infty} = -\\infty $$\n",
    "$$ f\\left (\\frac {ln(ln2)} {ln2} \\right ) = \\frac {ln(ln2)} {ln2} + 2^{\\frac {ln(ln2)} {ln2}} > 0 $$\n",
    "$$ f(\\infty) = inf + 2^{\\infty} = \\infty $$"
   ]
  },
  {
   "cell_type": "markdown",
   "metadata": {},
   "source": [
    "$$ Changes\\ sign\\ between\\ -\\infty\\ and\\ \\frac {ln(ln2)} {ln2} $$"
   ]
  },
  {
   "cell_type": "markdown",
   "metadata": {},
   "source": [
    "$$ f(-10) < 0 $$"
   ]
  },
  {
   "cell_type": "markdown",
   "metadata": {},
   "source": [
    "$$ Unique\\ root\\ isolated\\ at\\ \\left [ -10,\\ \\frac {ln(ln2)} {ln2} \\right ] $$"
   ]
  },
  {
   "cell_type": "markdown",
   "metadata": {},
   "source": [
    "b. $$ x - e^x = 0 $$"
   ]
  },
  {
   "cell_type": "markdown",
   "metadata": {},
   "source": [
    "$$ df = e^x - 1 = 0 $$\n",
    "$$ x = 0 $$"
   ]
  },
  {
   "cell_type": "markdown",
   "metadata": {},
   "source": [
    "$$ f(-\\infty) = -\\infty - e^{-\\infty} < 0 $$\n",
    "$$ f(0) = 0 - e^0 < 0 $$\n",
    "$$ f(\\infty) = \\infty - e^{\\infty} < 0 $$ \n",
    "Doesn't change sign -> no root"
   ]
  },
  {
   "cell_type": "markdown",
   "metadata": {},
   "source": [
    "c. $$ x^3 - 3x + 10 = 0 $$"
   ]
  },
  {
   "cell_type": "markdown",
   "metadata": {},
   "source": [
    "$$ df = 3x^2 - 3 = 0 $$\n",
    "$$ x^2 - 1 = 0 $$\n",
    "$$ x = \\pm 1 $$"
   ]
  },
  {
   "cell_type": "markdown",
   "metadata": {},
   "source": [
    "$$ f(-\\infty) < 0 $$\n",
    "$$ f(-2) = -2^3 + 6 + 10 = 8 $$\n",
    "$$ f(0) = 10 $$\n",
    "$$ f(2) = 2^3 - 6 + 10 = 12 $$\n",
    "$$ f(\\infty) > 0 $$  \n",
    "  \n",
    "$$ f(-5) = -100 $$\n",
    "$$ Isolated\\ unique\\ root\\ at\\ [-100, -2] $$"
   ]
  },
  {
   "cell_type": "markdown",
   "metadata": {},
   "source": [
    "d. $$ x^4 - 4x^3 + 4x^2 - 2 = 0 $$"
   ]
  },
  {
   "cell_type": "markdown",
   "metadata": {},
   "source": [
    "$$ df = 4x^3 - 12x^2 + 8x = 0 $$\n",
    "$$ 4x(x^2 - 3x + 2) = 4x(x - 1)(x - 2) $$"
   ]
  },
  {
   "cell_type": "markdown",
   "metadata": {},
   "source": [
    "$$ Critical\\ points\\ = \\{0;\\ 1;\\ 2\\} $$"
   ]
  },
  {
   "cell_type": "code",
   "execution_count": 4,
   "metadata": {},
   "outputs": [
    {
     "data": {
      "text/plain": [
       "(14398, -2, -1, -2, 6398)"
      ]
     },
     "execution_count": 4,
     "metadata": {},
     "output_type": "execute_result"
    }
   ],
   "source": [
    "f = lambda x: x**4 - 4 * x**3 + 4 * x**2 - 2\n",
    "\n",
    "f(-10), f(0), f(1), f(2), f(10)"
   ]
  },
  {
   "cell_type": "markdown",
   "metadata": {},
   "source": [
    "$$ 2\\ unique\\ roots\\ isolated\\ at\\ [-10, 0]\\ and\\ [2, 10] $$"
   ]
  },
  {
   "cell_type": "markdown",
   "metadata": {},
   "source": [
    "### Problem 3:\n",
    "Show that $$ x^3 + 2^x $$ has exactly one zero in [−2, 2]. Use the Bisection Method to find x<sub>2</sub> approximation of the zero.  "
   ]
  },
  {
   "cell_type": "markdown",
   "metadata": {},
   "source": [
    "$$ df = 3x^2 + ln(2)2^x = 0 $$"
   ]
  },
  {
   "cell_type": "markdown",
   "metadata": {},
   "source": [
    "$$ d^2f = 6x + ln(2)^22^x = 0 $$"
   ]
  },
  {
   "cell_type": "markdown",
   "metadata": {},
   "source": [
    "$$ d^3f = 6 + ln(2)^32^x > 0 \\rightarrow d^2f\\ has\\ no\\ roots \\rightarrow df\\ has\\ no\\ roots $$"
   ]
  },
  {
   "cell_type": "markdown",
   "metadata": {},
   "source": [
    "$$ \\rightarrow f\\ has\\ no\\ critical\\ points \\rightarrow is\\ monotone $$"
   ]
  },
  {
   "cell_type": "code",
   "execution_count": 5,
   "metadata": {},
   "outputs": [
    {
     "data": {
      "text/plain": [
       "(-7.75, 12)"
      ]
     },
     "execution_count": 5,
     "metadata": {},
     "output_type": "execute_result"
    }
   ],
   "source": [
    "f = lambda x: x**3 + 2**x\n",
    "\n",
    "f(-2), f(2)"
   ]
  },
  {
   "cell_type": "markdown",
   "metadata": {},
   "source": [
    "$$ f\\ changes\\ sign\\ and\\ is\\ monotone\\ at\\ [-2,\\ 2] \\rightarrow unique\\ root\\ at\\ [-2,\\ 2]$$"
   ]
  },
  {
   "cell_type": "markdown",
   "metadata": {},
   "source": [
    "$$ a = -2;\\ b = 2;\\ x_n = \\frac {b - a} {2^n} $$"
   ]
  },
  {
   "cell_type": "markdown",
   "metadata": {},
   "source": [
    "$$ x_1 = -2 $$\n",
    "$$ x_2 = -1 $$"
   ]
  },
  {
   "cell_type": "markdown",
   "metadata": {},
   "source": [
    "### Problem 4:\n",
    "The aim is to find where the graphs of y = 3x and y = e<sup>x</sup> intersect by finding roots of $$ e^x - 3x = 0 $$"
   ]
  },
  {
   "cell_type": "markdown",
   "metadata": {},
   "source": [
    "a. Find the number of roots and isolate each of the roots."
   ]
  },
  {
   "cell_type": "markdown",
   "metadata": {},
   "source": [
    "$$ df = e^x - 3 $$\n",
    "$$ critical\\ point:\\ ln(3) $$"
   ]
  },
  {
   "cell_type": "code",
   "execution_count": 10,
   "metadata": {},
   "outputs": [
    {
     "data": {
      "text/plain": [
       "(6.1353, -0.2817, 1.3891)"
      ]
     },
     "execution_count": 10,
     "metadata": {},
     "output_type": "execute_result"
    }
   ],
   "source": [
    "from math import e\n",
    "f = lambda x: round(e**x - 3 * x, 4)\n",
    "\n",
    "f(-2), f(1), f(2)"
   ]
  },
  {
   "cell_type": "markdown",
   "metadata": {},
   "source": [
    "$$ we\\ see\\ two\\ sign\\ changes:\\ at\\ [-2,\\ 1]\\ and\\ at\\ [1,\\ 2] $$\n",
    "$$ \\rightarrow one\\ unique\\ root\\ per\\ interval$$"
   ]
  },
  {
   "cell_type": "markdown",
   "metadata": {},
   "source": [
    "b. For each root estimate the number of iterations that will be needed to calculate that root within the accuracy ε = 10<sup>−5</sup> using Bisection Method."
   ]
  },
  {
   "cell_type": "markdown",
   "metadata": {},
   "source": [
    "$$ |r - x_n| \\leq \\frac {b - a} {2^{n + 1}} \\leq 10^{-5} $$"
   ]
  },
  {
   "cell_type": "markdown",
   "metadata": {},
   "source": [
    "$$ (b - a) \\times 10^5 = 2^{n + 1} $$"
   ]
  },
  {
   "cell_type": "markdown",
   "metadata": {},
   "source": [
    "$$ n = log_2\\left ( (b - a)\\times 10^{-5} \\right )$$"
   ]
  },
  {
   "cell_type": "markdown",
   "metadata": {},
   "source": [
    "### Problem 5:\n",
    "Let $$ f(x) = x^2(x − 2)(x − 5)(x − 4) $$ To which zero of f does the Bisection Method converge when applied on the interval [−1, 7]? Explain your answer."
   ]
  },
  {
   "cell_type": "markdown",
   "metadata": {},
   "source": [
    "The Bisection Method converges to the root of f at x = 4 because on the first iteration the root is exactly equal to the estimation."
   ]
  }
 ],
 "metadata": {
  "interpreter": {
   "hash": "b89b5cfaba6639976dc87ff2fec6d58faec662063367e2c229c520fe71072417"
  },
  "kernelspec": {
   "display_name": "Python 3.10.1 64-bit",
   "language": "python",
   "name": "python3"
  },
  "language_info": {
   "codemirror_mode": {
    "name": "ipython",
    "version": 3
   },
   "file_extension": ".py",
   "mimetype": "text/x-python",
   "name": "python",
   "nbconvert_exporter": "python",
   "pygments_lexer": "ipython3",
   "version": "3.10.1"
  },
  "orig_nbformat": 4
 },
 "nbformat": 4,
 "nbformat_minor": 2
}
