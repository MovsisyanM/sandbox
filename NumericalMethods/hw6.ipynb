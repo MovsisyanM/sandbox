{
 "cells": [
  {
   "cell_type": "markdown",
   "metadata": {},
   "source": [
    "# Homework 6\n",
    "###### by Mher Movsisyan\n",
    "---"
   ]
  },
  {
   "cell_type": "markdown",
   "metadata": {},
   "source": [
    "### Problem 1:  \n",
    "We want to approximate $$ \\int_1^2f(x)dx $$ given the table of values\n",
    "\n",
    "| x    | 1  | 5/4 | 3/2 | 7/4 | 2 |  \n",
    "| ---- | -- | --- | --- | --- | - |  \n",
    "| f(x) | 10 |   8 |   7 |   6 | 5 |  \n",
    "\n",
    "Compute an approximation by the composite trapezoid rule."
   ]
  },
  {
   "cell_type": "markdown",
   "metadata": {},
   "source": []
  },
  {
   "cell_type": "markdown",
   "metadata": {},
   "source": [
    "### Problem 2:  \n",
    "Our aim is to calculate the integral $$ \\int_{-1}^1\\frac{1}{1+x^2}dx $$  \n",
    "\n",
    "a. Compute the approximate value of that integral by using the Composite Midpoint rule\n",
    "with three points;"
   ]
  },
  {
   "cell_type": "markdown",
   "metadata": {},
   "source": []
  },
  {
   "cell_type": "markdown",
   "metadata": {},
   "source": [
    "b. Compute the exact value of that integral and compare the exact and approximate values;"
   ]
  },
  {
   "cell_type": "markdown",
   "metadata": {},
   "source": []
  },
  {
   "cell_type": "markdown",
   "metadata": {},
   "source": [
    "c. Give the theoretical error estimate, and verify numerically that the error obtained above is less than or equal to that upper bound."
   ]
  },
  {
   "cell_type": "markdown",
   "metadata": {},
   "source": []
  },
  {
   "cell_type": "markdown",
   "metadata": {},
   "source": [
    "### Probably 3:  \n",
    "How large must n be if the Composite Trapezoid rule with equal subintervals is to calculate\n",
    "$$ \\int_1^3xe^{-x^2}dx $$ \n",
    "with an error not exceeding 10<sup>-6</sup>?"
   ]
  },
  {
   "cell_type": "markdown",
   "metadata": {},
   "source": []
  },
  {
   "cell_type": "markdown",
   "metadata": {},
   "source": [
    "### Problem 4: \n",
    "Estimate the error of approximation of the integral\n",
    "$$ \\int_1^4sin(x^2)dx $$\n",
    "if we are using the Composite Simpson’s Rule with n = 20."
   ]
  },
  {
   "cell_type": "markdown",
   "metadata": {},
   "source": []
  },
  {
   "cell_type": "markdown",
   "metadata": {},
   "source": [
    "### Problem 5:\n",
    "a. Is the quadrature rule \n",
    "$$ \\int_{-3}^8f(x)dx \\approx 5f(2) + 6f(6) $$\n",
    "exact for the class of all polynomials of degree less than or equal to 1?"
   ]
  },
  {
   "cell_type": "markdown",
   "metadata": {},
   "source": []
  },
  {
   "cell_type": "markdown",
   "metadata": {},
   "source": [
    "b. Find quadrature weights A and B such that the quadrature formula\n",
    "$$ \\int_0^4f(x)dx \\approx Af(1) + Bf(2) $$\n",
    "will be exact for the class of all polynomials of degree ≤ 1;"
   ]
  },
  {
   "cell_type": "markdown",
   "metadata": {},
   "source": []
  },
  {
   "cell_type": "markdown",
   "metadata": {},
   "source": [
    "c. What is the precision degree of the quadrature rule obtained in the part b.?"
   ]
  },
  {
   "cell_type": "markdown",
   "metadata": {},
   "source": []
  },
  {
   "cell_type": "markdown",
   "metadata": {},
   "source": [
    "### Problem 6:  \n",
    "Is the quadrature rule \n",
    "$$ \\int_{-2}^4f(x)dx \\approx 3f(-1) + 3f(3) $$\n",
    "Gaussian? Prove your statement."
   ]
  },
  {
   "cell_type": "markdown",
   "metadata": {},
   "source": []
  },
  {
   "cell_type": "markdown",
   "metadata": {},
   "source": [
    "### Problem 7:  \n",
    "Write two functions `trapezoid_uniform(f, a, b, n)` and `simpson_uniform(f, a, b, n)` to calculate\n",
    "$$ \\int_a^bf(x)dx $$\n",
    "using the Composite Trapezoid Rule and Composite Simpsons Rule with\n",
    "n equal subintervals. Test the code written above on the following functions for the values  \n",
    "`n = 2, 4, 10, 20, 50, 100`:"
   ]
  },
  {
   "cell_type": "markdown",
   "metadata": {},
   "source": [
    "a. $$ \\int_0^\\pi cos(x)dx $$"
   ]
  },
  {
   "cell_type": "markdown",
   "metadata": {},
   "source": [
    "b. $$ \\int_{-1}^13xdx $$"
   ]
  },
  {
   "cell_type": "markdown",
   "metadata": {},
   "source": [
    "c. $$ \\int_{-2}^2x^3-3x^2dx $$\n",
    "In each case, compare with the exact value of the integral"
   ]
  }
 ],
 "metadata": {
  "interpreter": {
   "hash": "b392b17bb912b79173c898bc62d419cb26a8919549a0a618478fecf805bb844e"
  },
  "kernelspec": {
   "display_name": "Python 3.9.10 64-bit (windows store)",
   "language": "python",
   "name": "python3"
  },
  "language_info": {
   "name": "python",
   "version": "3.9.10"
  },
  "orig_nbformat": 4
 },
 "nbformat": 4,
 "nbformat_minor": 2
}
