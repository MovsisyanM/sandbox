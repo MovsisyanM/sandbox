{
 "cells": [
  {
   "cell_type": "markdown",
   "metadata": {},
   "source": [
    "# Homework 6\n",
    "###### by Mher Movsisyan\n",
    "---"
   ]
  },
  {
   "cell_type": "markdown",
   "metadata": {},
   "source": [
    "### Problem 1:  \n",
    "We want to approximate $$ \\int_1^2f(x)dx $$ given the table of values\n",
    "\n",
    "| x    | 1  | 5/4 | 3/2 | 7/4 | 2 |  \n",
    "| ---- | -- | --- | --- | --- | - |  \n",
    "| f(x) | 10 |   8 |   7 |   6 | 5 |  \n",
    "\n",
    "Compute an approximation by the composite trapezoid rule."
   ]
  },
  {
   "cell_type": "markdown",
   "metadata": {},
   "source": [
    "Answer:  \n",
    "$$ \\frac {0.25}{2}(10 + 2 * (8 + 7 + 6) + 5) = \\frac {57}{8} $$"
   ]
  },
  {
   "cell_type": "markdown",
   "metadata": {},
   "source": [
    "### Problem 2:  \n",
    "Our aim is to calculate the integral $$ \\int_{-1}^1\\frac{1}{1+x^2}dx $$  \n",
    "\n",
    "a. Compute the approximate value of that integral by using the Composite Midpoint rule\n",
    "with three points;"
   ]
  },
  {
   "cell_type": "markdown",
   "metadata": {},
   "source": [
    "Answer:  \n",
    "$$ subintervals = \\{-1, -0.\\bar3, 0.\\bar3, 1\\} $$\n",
    "$$ midpoints = \\{ -0.\\bar6, 0, 0.\\bar6 \\} $$\n",
    "\n",
    "$$ \\int_{-1}^1\\frac{1}{1+x^2}dx \\approx \\frac{2}{3}(\\frac{9}{25} + 1 + \\frac{9}{25})) = \\frac{86}{75} \\approx 1.15 $$"
   ]
  },
  {
   "cell_type": "markdown",
   "metadata": {},
   "source": [
    "b. Compute the exact value of that integral and compare the exact and approximate values;"
   ]
  },
  {
   "cell_type": "markdown",
   "metadata": {},
   "source": [
    "Answer:  \n",
    "$$ \\int_{-1}^1\\frac{1}{1+x^2}dx = arctan(x)|_{-1}^1 = \\pi/2 $$\n",
    "$$ |\\frac{86}{75} - \\frac{\\pi}{2}| \\approx 0.424  $$"
   ]
  },
  {
   "cell_type": "markdown",
   "metadata": {},
   "source": [
    "c. Give the theoretical error estimate, and verify numerically that the error obtained above is less than or equal to that upper bound."
   ]
  },
  {
   "cell_type": "markdown",
   "metadata": {},
   "source": [
    "Answer:  \n",
    "$$ M_2 = \\underset{x\\in[-1, 1]}{max}(\\frac{d2x}{(1+x^2)^2dx}) = \\underset{x\\in[-1, 1]}{max}(\\frac{2(3x^2-1)}{(x^2 + 1)^3}) = 0.5 $$"
   ]
  },
  {
   "cell_type": "markdown",
   "metadata": {},
   "source": [
    "$$ \\left | \\int_{-1}^1\\frac{1}{1+x^2}dx - \\frac{11}{3} \\right | \\leq \\frac{M_2}{24}(1+1)\\frac{4}{9} \\approx 0.0185 $$"
   ]
  },
  {
   "cell_type": "markdown",
   "metadata": {},
   "source": [
    "$$ 0.424 < \\frac{2}{3} $$"
   ]
  },
  {
   "cell_type": "markdown",
   "metadata": {},
   "source": [
    "### Probably 3:  \n",
    "How large must n be if the Composite Trapezoid rule with equal subintervals is to calculate\n",
    "$$ \\int_1^3xe^{-x^2}dx $$ \n",
    "with an error not exceeding 10<sup>-4</sup>?"
   ]
  },
  {
   "cell_type": "markdown",
   "metadata": {},
   "source": [
    "Answer:  \n",
    "$$ \\left | \\int_1^3xe^{-x^2}dx - \\frac{h}{2}\\left(f(x_0) + 2\\sum_{k=1}^{n-1}f(x_k) + f(x_n) \\right) \\right | \\leq \\frac{M_2}{12}(b-a)h^2 \\leq 10^{-4} $$"
   ]
  },
  {
   "cell_type": "markdown",
   "metadata": {},
   "source": [
    "$$ h^2 \\leq \\frac{M_2(b - a)}{120,000} $$\n",
    "$$ \\frac{b-a}{n} \\leq \\frac{M_2}{120,000} $$"
   ]
  },
  {
   "cell_type": "markdown",
   "metadata": {},
   "source": [
    "$$ n \\geq ceil(\\frac{120,000(b-a)}{M_2}) = ceil(\\frac{240,000}{max((4x^3-6x)e^{-x^2})}) = ceil(\\frac{240,000e}{108}) = 6041 $$"
   ]
  },
  {
   "cell_type": "markdown",
   "metadata": {},
   "source": [
    "### Problem 4: \n",
    "Estimate the error of approximation of the integral\n",
    "$$ \\int_1^4sin(x^2)dx $$\n",
    "if we are using the Composite Simpson’s Rule with n = 20."
   ]
  },
  {
   "cell_type": "markdown",
   "metadata": {},
   "source": [
    "Answer:  \n",
    "$$ M_4 = \\underset{x\\in[1, 4]}{max}(sin(x^2)'''') = \\underset{x\\in[1, 4]}{max}(2xcos(x^2)''') = \\underset{x\\in[1, 4]}{max}(2cos(x^2)-4x^2sin(x^2)'') = $$\n",
    "$$ = \\underset{x \\in [1, 4]}{max}((-12xsin(x^2) - 8x^3cos(x^2))') = \\underset{x \\in [1, 4]}{max}(-12sin(x^2) -12x^2sin(x^2) - 8x^2cos(x^2) + 8x^4sin(x^2)) \\leq $$\n",
    "$$ \\leq 12 + 8 * 4^4 = 2060 $$\n",
    "$$ |R(f)| \\leq \\frac{M_4}{180}(b-a)h^4 \\leq \\frac{2060}{180}(4-1)\\frac{3^4}{40^4} = \\frac {2781}{2560000} \\leq 0.0011 $$"
   ]
  },
  {
   "cell_type": "markdown",
   "metadata": {},
   "source": [
    "### Problem 5:\n",
    "a. Is the quadrature rule \n",
    "$$ \\int_{-3}^8f(x)dx \\approx 5f(2) + 6f(6) $$\n",
    "exact for the class of all polynomials of degree less than or equal to 1?"
   ]
  },
  {
   "cell_type": "markdown",
   "metadata": {},
   "source": [
    "Answer:  \n",
    "$$ let f(x) = ax + b $$\n",
    "$$ f(2) = 2a + b,\\ f(6) = 6a + b $$\n",
    "$$ 5f(2) + 6f(6) = 10a + 5b + 36a + 6b = 46a + 11b $$\n",
    "$$ \\int_{-3}^8f(x) = (\\frac{ax^2}{2} + bx)|_{-3}^8 = 32a + 8b - (\\frac{9a}{2} - 3b) \\neq 46a + 11b $$\n",
    "Therefore, no"
   ]
  },
  {
   "cell_type": "markdown",
   "metadata": {},
   "source": [
    "b. Find quadrature weights A and B such that the quadrature formula\n",
    "$$ \\int_0^4f(x)dx \\approx Af(1) + Bf(2) $$\n",
    "will be exact for the class of all polynomials of degree ≤ 1;"
   ]
  },
  {
   "cell_type": "markdown",
   "metadata": {},
   "source": [
    "$$ A = \\int_0^4\\frac{x - 2}{1 - 2} = \\left(2x - \\frac{x^2}{2}\\right)|_0^4 = 0 $$\n",
    "$$ B = \\int_0^4\\frac{x - 1}{2 - 1} = \\left(\\frac{x^2}{2} - x\\right)|_0^4 = 4 $$"
   ]
  },
  {
   "cell_type": "markdown",
   "metadata": {},
   "source": [
    "$$ \\int_0^4 f(x)dx \\approx Af(1) + Bf(2) $$\n",
    "$$ \\int_0^4 (ax + b)dx = \\frac{ax^2}{2} + bx |_0^4 = 8a + 4b $$\n",
    "$$ \\int_0^4 (ax + b)dx \\approx 0f(1) + 4f(2) = 8a + 4b $$"
   ]
  },
  {
   "cell_type": "markdown",
   "metadata": {},
   "source": [
    "c. What is the precision degree of the quadrature rule obtained in the part b.?"
   ]
  },
  {
   "cell_type": "markdown",
   "metadata": {},
   "source": [
    "$$ \\int_0^4 f(x)dx \\approx Af(1) + Bf(2) $$\n",
    "$$ \\int_0^4 (ax^2 + bx + c)dx = \\left(\\frac{ax^3}{3} + \\frac{bx^2}{2} + cx\\right) |_0^4 = \\frac{12c + 24b + 64a}{3} $$\n",
    "$$ \\int_0^4 (ax^2 + bx + c)dx \\approx 0f(1) + 4f(2) = 4(4a + 2b + c) \\neq \\frac{12c + 24b + 64a}{3} $$\n",
    "The precission degree is 1"
   ]
  },
  {
   "cell_type": "markdown",
   "metadata": {},
   "source": [
    "### Problem 6:  \n",
    "Is the quadrature rule \n",
    "$$ \\int_{-2}^4f(x)dx \\approx 3f(-1) + 3f(3) $$\n",
    "Gaussian? Prove your statement."
   ]
  },
  {
   "cell_type": "markdown",
   "metadata": {},
   "source": [
    "$$ n = 1 $$\n",
    "$$ 2n + 1 = 3 $$\n",
    "\n",
    "| f    | $$ \\int_{-2}^4fdx $$ | $$ 3f(-1) + 3f(3) $$ |  \n",
    "| ---- | -------------------- | -------------------- |  \n",
    "| ax^3 | 60a                  | $$ -3a + 27a $$      |  \n",
    "\n",
    "$$ -3a + 27a \\neq 60a \\Rightarrow not\\ of\\ precission\\ degree\\ 2n + 1 \\Rightarrow\\ not\\ Gaussian $$"
   ]
  },
  {
   "cell_type": "markdown",
   "metadata": {},
   "source": [
    "Write two functions `trapezoid_uniform(f, a, b, n)` and `simpson_uniform(f, a, b, n)`\n",
    "to calculate $$ \\int_a^bf(x)dx $$ using the Composite Trapezoid Rule and Composite Simpsons Rule with\n",
    "n equal subintervals. Test the code written above on the following functions for the values\n",
    "`n = 2, 4, 10, 20, 50, 100`  \n",
    "In each case, compare with the exact value of the integral."
   ]
  },
  {
   "cell_type": "code",
   "execution_count": 1,
   "metadata": {},
   "outputs": [],
   "source": [
    "def trapezoid_uniform(f, a, b, n):\n",
    "    \"\"\"\n",
    "    Computes the integral of f(x) from a to b using the trapezoid rule\n",
    "    with n intervals.\n",
    "    \"\"\"\n",
    "    h = (b - a) / n\n",
    "    s = 0.5 * (f(a) + f(b))\n",
    "    for i in range(1, n):\n",
    "        s += f(a + i * h)\n",
    "    return h * s"
   ]
  },
  {
   "cell_type": "code",
   "execution_count": 3,
   "metadata": {},
   "outputs": [],
   "source": [
    "def simpson_uniform(f, a, b, n):\n",
    "    \"\"\"\n",
    "    Computes the integral of f(x) from a to b using the Simpson rule\n",
    "    with n intervals.\n",
    "    \"\"\"\n",
    "    h = (b - a) / n\n",
    "    s = f(a) + f(b)\n",
    "    \n",
    "    # Odd intervals\n",
    "    for i in range(1, n, 2):\n",
    "        s += 4 * f(a + i * h)\n",
    "    \n",
    "    # Even intervals\n",
    "    for i in range(2, n, 2):\n",
    "        s += 2 * f(a + i * h)\n",
    "    return h * s / 3"
   ]
  },
  {
   "cell_type": "markdown",
   "metadata": {},
   "source": [
    "a. $$ \\int_0^\\pi cos(x)dx $$"
   ]
  },
  {
   "cell_type": "code",
   "execution_count": 8,
   "metadata": {},
   "outputs": [
    {
     "name": "stdout",
     "output_type": "stream",
     "text": [
      "\n",
      "Intervals: 2\n",
      "Trapezoid rule:  9.618353468608949e-17\n",
      "Simpson rule:  1.2824471291478598e-16\n",
      "\n",
      "Intervals: 4\n",
      "Trapezoid rule:  1.743934249004316e-16\n",
      "Simpson rule:  1.483234614956509e-16\n",
      "\n",
      "Intervals: 10\n",
      "Trapezoid rule:  2.092721098805179e-16\n",
      "Simpson rule:  4.6504913306781755e-17\n",
      "\n",
      "Intervals: 20\n",
      "Trapezoid rule:  1.0463605494025895e-16\n",
      "Simpson rule:  6.975736996017264e-17\n",
      "\n",
      "Intervals: 50\n",
      "Trapezoid rule:  -1.7439342490043161e-16\n",
      "Simpson rule:  -1.4416523125102345e-16\n",
      "\n",
      "Intervals: 100\n",
      "Trapezoid rule:  -1.3951473992034527e-16\n",
      "Simpson rule:  -5.81311416334772e-17\n"
     ]
    }
   ],
   "source": [
    "import numpy as np\n",
    "\n",
    "f = lambda x: np.cos(x)\n",
    "n = [2, 4, 10, 20, 50, 100]\n",
    "\n",
    "for interval in n:\n",
    "    print(f\"\\nIntervals: {interval}\")\n",
    "    print(\"Trapezoid rule: \", trapezoid_uniform(f, 0, np.pi, interval))\n",
    "    print(\"Simpson rule: \", simpson_uniform(f, 0, np.pi, interval))"
   ]
  },
  {
   "cell_type": "markdown",
   "metadata": {},
   "source": [
    "The actual value is 0 which is why python is outputting 1e-16 scale numbers"
   ]
  },
  {
   "cell_type": "markdown",
   "metadata": {},
   "source": [
    "b. $$ \\int_{-1}^13xdx $$"
   ]
  },
  {
   "cell_type": "code",
   "execution_count": 9,
   "metadata": {},
   "outputs": [
    {
     "name": "stdout",
     "output_type": "stream",
     "text": [
      "\n",
      "Intervals: 2\n",
      "Trapezoid rule:  0.0\n",
      "Simpson rule:  0.0\n",
      "\n",
      "Intervals: 4\n",
      "Trapezoid rule:  0.0\n",
      "Simpson rule:  0.0\n",
      "\n",
      "Intervals: 10\n",
      "Trapezoid rule:  2.664535259100376e-16\n",
      "Simpson rule:  4.1448326252672516e-16\n",
      "\n",
      "Intervals: 20\n",
      "Trapezoid rule:  5.329070518200752e-16\n",
      "Simpson rule:  3.256654205567126e-16\n",
      "\n",
      "Intervals: 50\n",
      "Trapezoid rule:  2.486899575160351e-16\n",
      "Simpson rule:  2.6053233644537007e-16\n",
      "\n",
      "Intervals: 100\n",
      "Trapezoid rule:  -4.4408920985006264e-17\n",
      "Simpson rule:  1.7763568394002503e-16\n"
     ]
    }
   ],
   "source": [
    "f = lambda x: 3 * x\n",
    "a, b = -1, 1\n",
    "\n",
    "for interval in n:\n",
    "    print(f\"\\nIntervals: {interval}\")\n",
    "    print(\"Trapezoid rule: \", trapezoid_uniform(f, a, b, interval))\n",
    "    print(\"Simpson rule: \", simpson_uniform(f, a, b, interval))"
   ]
  },
  {
   "cell_type": "markdown",
   "metadata": {},
   "source": [
    "Again, the actual value is 0 which is why python is outputting 1e-16 scale numbers (or exactly 0 for n = 2, 4)"
   ]
  },
  {
   "cell_type": "markdown",
   "metadata": {},
   "source": [
    "c. $$ \\int_{-2}^2x^3-3x^2dx $$"
   ]
  },
  {
   "cell_type": "code",
   "execution_count": 10,
   "metadata": {},
   "outputs": [
    {
     "name": "stdout",
     "output_type": "stream",
     "text": [
      "\n",
      "Intervals: 2\n",
      "Trapezoid rule:  -24.0\n",
      "Simpson rule:  -16.0\n",
      "\n",
      "Intervals: 4\n",
      "Trapezoid rule:  -18.0\n",
      "Simpson rule:  -16.0\n",
      "\n",
      "Intervals: 10\n",
      "Trapezoid rule:  -16.320000000000004\n",
      "Simpson rule:  -16.000000000000004\n",
      "\n",
      "Intervals: 20\n",
      "Trapezoid rule:  -16.080000000000002\n",
      "Simpson rule:  -16.0\n",
      "\n",
      "Intervals: 50\n",
      "Trapezoid rule:  -16.012800000000002\n",
      "Simpson rule:  -16.000000000000004\n",
      "\n",
      "Intervals: 100\n",
      "Trapezoid rule:  -16.003200000000003\n",
      "Simpson rule:  -16.0\n"
     ]
    }
   ],
   "source": [
    "f = lambda x: np.power(x, 3) - 3 * np.power(x, 2)\n",
    "a, b = -2, 2\n",
    "\n",
    "for interval in n:\n",
    "    print(f\"\\nIntervals: {interval}\")\n",
    "    print(\"Trapezoid rule: \", trapezoid_uniform(f, a, b, interval))\n",
    "    print(\"Simpson rule: \", simpson_uniform(f, a, b, interval))"
   ]
  },
  {
   "cell_type": "markdown",
   "metadata": {},
   "source": [
    "The actual value is -16, Simpsons rule mostly outperforms the trapezoid rule here"
   ]
  }
 ],
 "metadata": {
  "interpreter": {
   "hash": "b392b17bb912b79173c898bc62d419cb26a8919549a0a618478fecf805bb844e"
  },
  "kernelspec": {
   "display_name": "Python 3.9.10 64-bit (windows store)",
   "language": "python",
   "name": "python3"
  },
  "language_info": {
   "codemirror_mode": {
    "name": "ipython",
    "version": 3
   },
   "file_extension": ".py",
   "mimetype": "text/x-python",
   "name": "python",
   "nbconvert_exporter": "python",
   "pygments_lexer": "ipython3",
   "version": "3.10.1"
  },
  "orig_nbformat": 4
 },
 "nbformat": 4,
 "nbformat_minor": 2
}
