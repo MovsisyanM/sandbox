{
 "cells": [
  {
   "cell_type": "markdown",
   "metadata": {},
   "source": [
    "# Homework 6\n",
    "###### by Mher Movsisyan\n",
    "---"
   ]
  },
  {
   "cell_type": "markdown",
   "metadata": {},
   "source": [
    "### Problem 1:  \n",
    "We want to approximate $$ \\int_1^2f(x)dx $$ given the table of values\n",
    "\n",
    "| x    | 1  | 5/4 | 3/2 | 7/4 | 2 |  \n",
    "| ---- | -- | --- | --- | --- | - |  \n",
    "| f(x) | 10 |   8 |   7 |   6 | 5 |  \n",
    "\n",
    "Compute an approximation by the composite trapezoid rule."
   ]
  },
  {
   "cell_type": "markdown",
   "metadata": {},
   "source": [
    "Answer:  \n",
    "$$ \\frac {0.25}{2}(10 + 2 * (8 + 7 + 6) + 5) = \\frac {57}{8} $$"
   ]
  },
  {
   "cell_type": "markdown",
   "metadata": {},
   "source": [
    "### Problem 2:  \n",
    "Our aim is to calculate the integral $$ \\int_{-1}^1\\frac{1}{1+x^2}dx $$  \n",
    "\n",
    "a. Compute the approximate value of that integral by using the Composite Midpoint rule\n",
    "with three points;"
   ]
  },
  {
   "cell_type": "markdown",
   "metadata": {},
   "source": [
    "Answer:  \n",
    "$$ subintervals = \\{-1, -0.\\bar3, 0.\\bar3, 1\\} $$\n",
    "$$ midpoints = \\{ -0.\\bar6, 0, 0.\\bar6 \\} $$\n",
    "\n",
    "$$ \\int_{-1}^1\\frac{1}{1+x^2}dx \\approx \\frac{2}{3}(\\frac{9}{25} + 1 + \\frac{9}{25})) = \\frac{86}{75} \\approx 1.15 $$"
   ]
  },
  {
   "cell_type": "markdown",
   "metadata": {},
   "source": [
    "b. Compute the exact value of that integral and compare the exact and approximate values;"
   ]
  },
  {
   "cell_type": "markdown",
   "metadata": {},
   "source": [
    "Answer:  \n",
    "$$ \\int_{-1}^1\\frac{1}{1+x^2}dx = arctan(x)|_{-1}^1 = \\pi/2 $$\n",
    "$$ |\\frac{86}{75} - \\frac{\\pi}{2}| \\approx 0.424  $$"
   ]
  },
  {
   "cell_type": "markdown",
   "metadata": {},
   "source": [
    "c. Give the theoretical error estimate, and verify numerically that the error obtained above is less than or equal to that upper bound."
   ]
  },
  {
   "cell_type": "markdown",
   "metadata": {},
   "source": [
    "Answer:  \n",
    "$$ M_2 = \\underset{x\\in[-1, 1]}{max}(\\frac{d2x}{(1+x^2)^2dx}) = \\underset{x\\in[-1, 1]}{max}(\\frac{2(3x^2-1)}{(x^2 + 1)^3}) = 0.5 $$"
   ]
  },
  {
   "cell_type": "markdown",
   "metadata": {},
   "source": [
    "$$ \\left | \\int_{-1}^1\\frac{1}{1+x^2}dx - \\frac{11}{3} \\right | \\leq \\frac{M_2}{24}(1+1)\\frac{4}{9} \\approx 0.0185 $$"
   ]
  },
  {
   "cell_type": "markdown",
   "metadata": {},
   "source": [
    "$$ 0.424 < \\frac{2}{3} $$"
   ]
  },
  {
   "cell_type": "markdown",
   "metadata": {},
   "source": [
    "### Probably 3:  \n",
    "How large must n be if the Composite Trapezoid rule with equal subintervals is to calculate\n",
    "$$ \\int_1^3xe^{-x^2}dx $$ \n",
    "with an error not exceeding 10<sup>-4</sup>?"
   ]
  },
  {
   "cell_type": "markdown",
   "metadata": {},
   "source": [
    "Answer:  \n",
    "$$ \\left | \\int_1^3xe^{-x^2}dx - \\frac{h}{2}\\left(f(x_0) + 2\\sum_{k=1}^{n-1}f(x_k) + f(x_n) \\right) \\right | \\leq \\frac{M_2}{12}(b-a)h^2 \\leq 10^{-4} $$"
   ]
  },
  {
   "cell_type": "markdown",
   "metadata": {},
   "source": [
    "$$ h^2 \\leq \\frac{M_2(b - a)}{120,000} $$\n",
    "$$ \\frac{b-a}{n} \\leq \\frac{M_2}{120,000} $$"
   ]
  },
  {
   "cell_type": "markdown",
   "metadata": {},
   "source": [
    "$$ n \\geq ceil(\\frac{120,000(b-a)}{M_2}) = ceil(\\frac{240,000}{max((4x^3-6x)e^{-x^2})}) = ceil(\\frac{240,000e}{108}) = 6041 $$"
   ]
  },
  {
   "cell_type": "markdown",
   "metadata": {},
   "source": [
    "### Problem 4: \n",
    "Estimate the error of approximation of the integral\n",
    "$$ \\int_1^4sin(x^2)dx $$\n",
    "if we are using the Composite Simpson’s Rule with n = 20."
   ]
  },
  {
   "cell_type": "markdown",
   "metadata": {},
   "source": [
    "Answer:  \n",
    "$$ M_4 = \\underset{x\\in[1, 4]}{max}(sin(x^2)'''') = \\underset{x\\in[1, 4]}{max}(2xcos(x^2)''') = \\underset{x\\in[1, 4]}{max}(2cos(x^2)-4x^2sin(x^2)'') = $$\n",
    "$$ = \\underset{x \\in [1, 4]}{max}((-12xsin(x^2) - 8x^3cos(x^2))') = \\underset{x \\in [1, 4]}{max}(-12sin(x^2) -12x^2sin(x^2) - 8x^2cos(x^2) + 8x^4sin(x^2)) \\leq $$\n",
    "$$ \\leq 12 + 8 * 4^4 = 2060 $$\n",
    "$$ |R(f)| \\leq \\frac{M_4}{180}(b-a)h^4 \\leq \\frac{2060}{180}(4-1)\\frac{3^4}{40^4} = \\frac {2781}{2560000} \\leq 0.0011 $$"
   ]
  },
  {
   "cell_type": "markdown",
   "metadata": {},
   "source": [
    "### Problem 5:\n",
    "a. Is the quadrature rule \n",
    "$$ \\int_{-3}^8f(x)dx \\approx 5f(2) + 6f(6) $$\n",
    "exact for the class of all polynomials of degree less than or equal to 1?"
   ]
  },
  {
   "cell_type": "markdown",
   "metadata": {},
   "source": [
    "Answer:  \n",
    "$$ let f(x) = ax + b $$\n",
    "$$ f(2) = 2a + b,\\ f(6) = 6a + b $$\n",
    "$$ 5f(2) + 6f(6) = 10a + 5b + 36a + 6b = 46a + 11b $$\n",
    "$$ \\int_{-3}^8f(x) = (\\frac{ax^2}{2} + bx)|_{-3}^8 = 32a + 8b - (\\frac{9a}{2} - 3b) \\neq 46a + 11b $$\n",
    "Therefore, no"
   ]
  },
  {
   "cell_type": "markdown",
   "metadata": {},
   "source": [
    "b. Find quadrature weights A and B such that the quadrature formula\n",
    "$$ \\int_0^4f(x)dx \\approx Af(1) + Bf(2) $$\n",
    "will be exact for the class of all polynomials of degree ≤ 1;"
   ]
  },
  {
   "cell_type": "markdown",
   "metadata": {},
   "source": [
    "$$ A = \\int_0^4\\frac{x - 2}{1 - 2} = \\left(2x - \\frac{x^2}{2}\\right)|_0^4 = 0 $$\n",
    "$$ B = \\int_0^4\\frac{x - 1}{2 - 1} = \\left(\\frac{x^2}{2} - x\\right)|_0^4 = 4 $$"
   ]
  },
  {
   "cell_type": "markdown",
   "metadata": {},
   "source": [
    "$$ \\int_0^4 f(x)dx \\approx Af(1) + Bf(2) $$\n",
    "$$ \\int_0^4 (ax + b)dx = \\frac{ax^2}{2} + bx |_0^4 = 8a + 4b $$\n",
    "$$ \\int_0^4 (ax + b)dx \\approx 0f(1) + 4f(2) = 8a + 4b $$"
   ]
  },
  {
   "cell_type": "markdown",
   "metadata": {},
   "source": [
    "c. What is the precision degree of the quadrature rule obtained in the part b.?"
   ]
  },
  {
   "cell_type": "markdown",
   "metadata": {},
   "source": [
    "$$ \\int_0^4 f(x)dx \\approx Af(1) + Bf(2) $$\n",
    "$$ \\int_0^4 (ax^2 + bx + c)dx = \\left(\\frac{ax^3}{3} + \\frac{bx^2}{2} + cx\\right) |_0^4 = \\frac{12c + 24b + 64a}{3} $$\n",
    "$$ \\int_0^4 (ax^2 + bx + c)dx \\approx 0f(1) + 4f(2) = 4(4a + 2b + c) \\neq \\frac{12c + 24b + 64a}{3} $$\n",
    "The precission degree is 1"
   ]
  },
  {
   "cell_type": "markdown",
   "metadata": {},
   "source": [
    "### Problem 6:  \n",
    "Is the quadrature rule \n",
    "$$ \\int_{-2}^4f(x)dx \\approx 3f(-1) + 3f(3) $$\n",
    "Gaussian? Prove your statement."
   ]
  },
  {
   "cell_type": "markdown",
   "metadata": {},
   "source": [
    "$$ n = 1 $$\n",
    "$$ 2n + 1 = 3 $$\n",
    "\n",
    "| f    | $$ \\int_{-2}^4fdx $$ | $$ 3f(-1) + 3f(3) $$ |  \n",
    "| ---- | -------------------- | -------------------- |  \n",
    "| ax^3 | 60a                  | $$ -3a + 27a $$      |  \n",
    "\n",
    "$$ -3a + 27a \\neq 60a \\Rightarrow not\\ of\\ precission\\ degree\\ 2n + 1 \\Rightarrow\\ not\\ Gaussian $$"
   ]
  }
 ],
 "metadata": {
  "interpreter": {
   "hash": "b392b17bb912b79173c898bc62d419cb26a8919549a0a618478fecf805bb844e"
  },
  "kernelspec": {
   "display_name": "Python 3.9.10 64-bit (windows store)",
   "language": "python",
   "name": "python3"
  },
  "language_info": {
   "name": "python",
   "version": "3.9.10"
  },
  "orig_nbformat": 4
 },
 "nbformat": 4,
 "nbformat_minor": 2
}
