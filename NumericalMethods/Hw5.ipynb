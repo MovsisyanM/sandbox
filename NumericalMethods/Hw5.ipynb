{
 "cells": [
  {
   "cell_type": "markdown",
   "metadata": {},
   "source": [
    "# Homework 5\n",
    "###### by Mher Movsisyan\n",
    "---"
   ]
  },
  {
   "cell_type": "markdown",
   "metadata": {},
   "source": [
    "### Problem 1:  \n",
    "Check if the polynomial P(x) is an Interpolating Polynomial for the given data \n",
    "$$ {(x_i, y_i) : i = 0, 1, ..., n} $$ \n",
    "or given function f(x) at the points (nodes) x<sub>i</sub>, i = 0, 1, ..., n. Explain your reasoning."
   ]
  },
  {
   "cell_type": "markdown",
   "metadata": {},
   "source": [
    "a. $$ P(x) = 5x^2 -x -1 $$  \n",
    "\n",
    "| x   | y   |  \n",
    "| --- | --- |  \n",
    "| -1  |  5  |  \n",
    "|  0  | -1  |  \n",
    "|  2  | 17  |  \n",
    "\n"
   ]
  },
  {
   "cell_type": "markdown",
   "metadata": {},
   "source": [
    "b. $$ P(x) = x^4 + 3x^2 $$  \n",
    "$$ f(x) = sin(2x) $$\n",
    "$$ x_0 = 0,\\ x_1 = \\pi $$"
   ]
  },
  {
   "cell_type": "markdown",
   "metadata": {},
   "source": [
    "### Problem 2:  \n",
    "Is there a polynomial of second degree that interpolates given data? If yes, find it."
   ]
  },
  {
   "cell_type": "markdown",
   "metadata": {},
   "source": [
    "a.  \n",
    "\n",
    "|  x  |  1  |  2  |  5  |  10 |  \n",
    "| --- | --- | --- | --- | --- |  \n",
    "|  y  | -1  |  3  |  27 | 107 |  \n"
   ]
  },
  {
   "cell_type": "markdown",
   "metadata": {},
   "source": [
    "b.  \n",
    "\n",
    "|  x  |  1  |  2  |  3  |  4  |  \n",
    "| --- | --- | --- | --- | --- |  \n",
    "|  y  |  2  |  9  |  22 |  12 |  \n"
   ]
  },
  {
   "cell_type": "markdown",
   "metadata": {},
   "source": [
    "### Problem 3:  \n",
    "Verify that the polynomials \n",
    "$$ p(x) = 5x^3 -27x^2 +45x -21 $$\n",
    "$$ q(x) = x^4 - 5x^3 +8x^2 -5x +3 $$\n",
    "interpret the data\n",
    "\n",
    "|  x  |  1  |  2  |  3  |  4  |  \n",
    "| --- | --- | --- | --- | --- |  \n",
    "|  y  |  2  |  1  |  6  |  47 |  \n",
    "\n",
    "and explain why this does not violate the uniqueness part of theorem on existence of polynomial interpolation."
   ]
  },
  {
   "cell_type": "markdown",
   "metadata": {},
   "source": [
    "### Problem 4:  \n",
    "For some function f, you have a table of extended divided differences of the form  \n",
    "\n",
    "|  i  | x<sub>i</sub> | f[·]             | f[·,·]                         | f[·,·,·]                                     | f[·,·,·,·] |  \n",
    "| --- | ------------- | ---------------- | ------------------------------ | -------------------------------------------- | ---------- |  \n",
    "|  0  | 1.0           | f[x<sub>0</sub>] |                                |                                              |            |  \n",
    "|  1  | 2.0           | f[x<sub>0</sub>] | f[x<sub>0</sub>,x<sub>1</sub>] |                                              |            |  \n",
    "|  2  | 4.0           | 3.0              | 0.0                            | -2/3                                         |            |  \n",
    "|  3  | 5.0           | 4.0              | f[x<sub>0</sub>,x<sub>1</sub>] | f[x<sub>0</sub>,x<sub>1</sub>,x<sub>2</sub>] | f[x<sub>0</sub>,x<sub>1</sub>,x<sub>2</sub>,x<sub>3</sub>] |  \n",
    "\n",
    "Fill in the unknown entries in the table."
   ]
  },
  {
   "cell_type": "markdown",
   "metadata": {},
   "source": [
    "### Problem 5:  \n",
    "$$ f(x) = 2(x + 1)(x − 2)(x − 5) $$"
   ]
  },
  {
   "cell_type": "markdown",
   "metadata": {},
   "source": [
    "a. Use Newton’s form to construct the Interpolating Polynomial at the nodes x<sub>0</sub> = 1, x<sub>1</sub> = 2, x<sub>2</sub> = 3;"
   ]
  },
  {
   "cell_type": "markdown",
   "metadata": {},
   "source": [
    "b. Calculate the divided difference f [−1, 0, 1, 2]"
   ]
  },
  {
   "cell_type": "markdown",
   "metadata": {},
   "source": [
    "### Problem 6:  \n",
    "Given the four data points `(−1, 1), (0, 1), (1, 2), (2, 0)`, determine the interpolating cubic polynomial"
   ]
  },
  {
   "cell_type": "markdown",
   "metadata": {},
   "source": [
    "a. using the Lagrange form;"
   ]
  },
  {
   "cell_type": "markdown",
   "metadata": {},
   "source": [
    "b. using the Newton form."
   ]
  },
  {
   "cell_type": "markdown",
   "metadata": {},
   "source": [
    "c. Show that the two representations give the same polynomial."
   ]
  },
  {
   "cell_type": "markdown",
   "metadata": {},
   "source": [
    "### Problem 7:  \n",
    "The polynomial p(x) = 2 − (x + 1) + x(x + 1) − 2x(x + 1)(x − 1) interpolates the first four points in the table:  \n",
    "\n",
    "| x | -1 | 0 | 1 |  2 |  3 |  \n",
    "| - | -- | - | - | -- | -- |  \n",
    "| y | 2  | 1 | 2 | -7 | 10 |  \n",
    "\n",
    "By adding one additional term to p, find polynomial that interpolates the whole table"
   ]
  },
  {
   "cell_type": "markdown",
   "metadata": {},
   "source": [
    "### Problem 8:  \n",
    "Assume that P6(x) is the Interpolating Polynomial for \n",
    "$$ f(x) = ln\\left(1+ \\frac {x} {2} \\right) $$\n",
    "constructed at the nodes: \n",
    "$$ x_0 = 0,\\ x_1 = \\frac {1} {4},\\ x_2 = \\frac {1}{2},\\ x_3 = \\frac {3}{4},\\ x_4 = 1,\\ x_5 = \\frac {5}{4},\\ x_6 = 2 $$"
   ]
  },
  {
   "cell_type": "markdown",
   "metadata": {},
   "source": [
    "a. Estimate, without constructing P<sub>6</sub> explicitly, the absolute error  \n",
    "$$ \\left| f\\left(\\frac{5}{6}\\right) - P_6\\left(\\frac{5}{6}\\right)\\right| $$"
   ]
  },
  {
   "cell_type": "markdown",
   "metadata": {},
   "source": [
    "b. Estimate the global error  \n",
    "$$ \\underset {x \\in [0,2]} {max} |f(x) - P_6(x)| $$"
   ]
  },
  {
   "cell_type": "markdown",
   "metadata": {},
   "source": [
    "c. Assume we want to\n",
    "$$ \\int_0^2f(x)dx $$\n",
    "and we approximate that integral by \n",
    "$$ \\int_0^2P_6(x)dx $$\n",
    "Estimate the approximation error \n",
    "$$ \\left| \\int_0^2f(x)dx - \\int_0^2P_6(x)dx \\right|"
   ]
  },
  {
   "cell_type": "markdown",
   "metadata": {},
   "source": [
    "### Problem 9\n",
    "(Python) Armen had decided to buy stocks of a particularly promising Internet company. The\n",
    "price per share was $100, and Armen subsequently recorded the stock price at the end of each\n",
    "week. With the abscissae measured in days, the following data were acquired:\n",
    "```\n",
    "(0, 100), (7, 98), (14, 101), (21, 50), (28, 51), (35, 50)\n",
    "```\n",
    "In attempting to analyze what happened, it was desired to approximately evaluate the stock\n",
    "price a few days before the crash.\n",
    "Pass a linear interpolant through the points with abscissae 7 and 14. Then add to this data set\n",
    "the value at 0 and (separately) the value at 21 to obtain two quadratic interpolants. Evaluate\n",
    "all three interpolants at x = 12. Which one do you think is the most accurate? Explain."
   ]
  }
 ],
 "metadata": {
  "language_info": {
   "name": "python"
  },
  "orig_nbformat": 4
 },
 "nbformat": 4,
 "nbformat_minor": 2
}
