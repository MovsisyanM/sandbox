{
 "cells": [
  {
   "cell_type": "markdown",
   "metadata": {},
   "source": [
    "# Homework 5\n",
    "###### by Mher Movsisyan\n",
    "---"
   ]
  },
  {
   "cell_type": "markdown",
   "metadata": {},
   "source": [
    "### Problem 1:  \n",
    "Check if the polynomial P(x) is an Interpolating Polynomial for the given data \n",
    "$$ {(x_i, y_i) : i = 0, 1, ..., n} $$ \n",
    "or given function f(x) at the points (nodes) x<sub>i</sub>, i = 0, 1, ..., n. Explain your reasoning."
   ]
  },
  {
   "cell_type": "markdown",
   "metadata": {},
   "source": [
    "a. $$ P(x) = 5x^2 -x -1 $$  \n",
    "\n",
    "| x   | y   |  \n",
    "| --- | --- |  \n",
    "| -1  |  5  |  \n",
    "|  0  | -1  |  \n",
    "|  2  | 17  |  \n",
    "\n"
   ]
  },
  {
   "cell_type": "markdown",
   "metadata": {},
   "source": [
    "Answer:  \n",
    "$$ P(-1) = 5 + 1 - 1 = 5 $$\n",
    "$$ P(0) = 0 - 0 - 1 = -1 $$\n",
    "$$ P(2) = 20 - 2 - 1 = 17 $$\n",
    "\n",
    "Passes through all the points, is of degree 2, therefore it is an interpolating polynomial."
   ]
  },
  {
   "cell_type": "markdown",
   "metadata": {},
   "source": [
    "b. $$ P(x) = x^4 + 3x^2 $$  \n",
    "$$ f(x) = sin(2x) $$\n",
    "$$ x_0 = 0,\\ x_1 = \\pi $$"
   ]
  },
  {
   "cell_type": "markdown",
   "metadata": {},
   "source": [
    "Answer:  \n",
    "\n",
    "| x   | sin(2x) | P(x) |  \n",
    "| --- | ------- | ---- |  \n",
    "| 0   | 0       | 0    |  \n",
    "| π   | 0       | π<sup>4</sup> + 3π<sup>2</sup>    |  \n",
    "  \n",
    "The polynomial does not pass through all the points, therefore it is not an interpolating polynomial."
   ]
  },
  {
   "cell_type": "markdown",
   "metadata": {},
   "source": [
    "### Problem 2:  \n",
    "Is there a polynomial of second degree that interpolates given data? If yes, find it."
   ]
  },
  {
   "cell_type": "markdown",
   "metadata": {},
   "source": [
    "a.  \n",
    "\n",
    "|  x  |  1  |  2  |  5  |  10 |  \n",
    "| --- | --- | --- | --- | --- |  \n",
    "|  y  | -1  |  3  |  27 | 107 |  \n"
   ]
  },
  {
   "cell_type": "markdown",
   "metadata": {},
   "source": [
    "Answer:  \n",
    "For 2nd degree polynomial, we need 3 points. If the polynomial happens to pass through the fourth point, we can use it for interpolation.  \n",
    "\n",
    "Using Lagrange's interpolation formula, we can find the polynomial that interpolates `x = 1, 2, 5`.\n",
    "$$ l_0(x) = \\frac {(x - 2)(x - 5)}{(1 - 2)(1 - 5)} = \\frac {(x - 2) (x-5)}{4} $$  \n",
    "$$ l_1(x) = \\frac {(x - 1)(x - 5)}{(2 - 1)(2 - 5)} = \\frac {(x - 1)(x-5)}{-3} $$  \n",
    "$$ l_2(x) = \\frac {(x - 1)(x - 2)}{(5 - 1)(5 - 2)} = \\frac{(x-1)(x-2)}{12} $$  "
   ]
  },
  {
   "cell_type": "markdown",
   "metadata": {},
   "source": [
    "$$ P(x) = -l_0(x) + 3l_1(x) + 27l_2(x) = -\\frac {(x - 2) (x-5)}{4} - (x - 1)(x-5) + \\frac{27(x-1)(x-2)}{12} = $$\n",
    "$$ = x^2 + x - 3 $$"
   ]
  },
  {
   "cell_type": "markdown",
   "metadata": {},
   "source": [
    "$$ P(10) = 100 + 10 - 3 = 107 = f(10) $$  \n",
    "The polynomial passes through all the points, therefore we can use it for interpolation."
   ]
  },
  {
   "cell_type": "markdown",
   "metadata": {},
   "source": [
    "b.  \n",
    "\n",
    "|  x  |  1  |  2  |  3  |  4  |  \n",
    "| --- | --- | --- | --- | --- |  \n",
    "|  y  |  2  |  9  |  22 |  12 |  \n"
   ]
  },
  {
   "cell_type": "markdown",
   "metadata": {},
   "source": [
    "Using Lagrange's interpolation formula, we can find the polynomial that interpolates `x = 2, 3, 4`.\n",
    "$$ l_0(x) = \\frac {(x - 3)(x - 4)}{(3 - 2)(4 - 2)} = \\frac {(x - 3)(x-4)}{2} $$  \n",
    "$$ l_1(x) = \\frac {(x - 2)(x - 4)}{(2 - 3)(4 - 3)} = -(x - 2)(x-4) $$  \n",
    "$$ l_2(x) = \\frac {(x - 2)(x - 3)}{(2 - 4)(3 - 4)} = \\frac{(x-2)(x-3)}{2} $$  "
   ]
  },
  {
   "cell_type": "markdown",
   "metadata": {},
   "source": [
    "$$ P(x) = 9l_0(x) + 22l_1(x) + 12l_2(x) = \\frac {9(x - 3)(x-4)}{2} + 22(2 - x)(x-4) + 6(x-2)(x-3) = $$\n",
    "$$ = -\\frac {23x^2}{2} + \\frac {141x}{2} - 86 $$"
   ]
  },
  {
   "cell_type": "markdown",
   "metadata": {},
   "source": [
    "$$ P(1) = -23/2 + 141/2 - 86 = -27 \\neq 12 $$  \n",
    "The polynomial does not pass through all the points, therefore it does not interpolate the data."
   ]
  },
  {
   "cell_type": "markdown",
   "metadata": {},
   "source": [
    "### Problem 3:  \n",
    "Verify that the polynomials \n",
    "$$ p(x) = 5x^3 -27x^2 +45x -21 $$\n",
    "$$ q(x) = x^4 - 5x^3 +8x^2 -5x +3 $$\n",
    "interpret the data\n",
    "\n",
    "|  x  |  1  |  2  |  3  |  4  |  \n",
    "| --- | --- | --- | --- | --- |  \n",
    "|  y  |  2  |  1  |  6  |  47 |  \n",
    "\n",
    "and explain why this does not violate the uniqueness part of theorem on existence of polynomial interpolation."
   ]
  },
  {
   "cell_type": "markdown",
   "metadata": {},
   "source": [
    "Answer:  \n",
    "\n",
    "| x  | p(x) | q(x) |  \n",
    "| -- | ---- | ---- |  \n",
    "| 1  | 2    | 2    |  \n",
    "| 2  | 1    | 1    |  \n",
    "| 3  | 6    | 6    |  \n",
    "| 4  | 47   | 47   |  \n",
    "\n",
    "This example doesn't violate the uniqueness part of theorem on existence of polynomial interpolation because the polynomials of different degrees."
   ]
  },
  {
   "cell_type": "markdown",
   "metadata": {},
   "source": [
    "### Problem 4:  \n",
    "For some function f, you have a table of extended divided differences of the form  \n",
    "\n",
    "|  i  | x<sub>i</sub> | f[·]             | f[·,·]                         | f[·,·,·]                                     | f[·,·,·,·] |  \n",
    "| --- | ------------- | ---------------- | ------------------------------ | -------------------------------------------- | ---------- |  \n",
    "|  0  | 1.0           | f[x<sub>0</sub>] |                                |                                              |            |  \n",
    "|  1  | 2.0           | f[x<sub>0</sub>] | f[x<sub>0</sub>,x<sub>1</sub>] |                                              |            |  \n",
    "|  2  | 4.0           | 3.0              | 0.0                            | -2/3                                         |            |  \n",
    "|  3  | 5.0           | 4.0              | f[x<sub>0</sub>,x<sub>1</sub>] | f[x<sub>0</sub>,x<sub>1</sub>,x<sub>2</sub>] | f[x<sub>0</sub>,x<sub>1</sub>,x<sub>2</sub>,x<sub>3</sub>] |  \n",
    "\n",
    "Fill in the unknown entries in the table."
   ]
  },
  {
   "cell_type": "markdown",
   "metadata": {},
   "source": [
    "Answer:  \n",
    "\n",
    "| x<sub>i</sub> | f[·] | f[·,·]  | f[·,·,·] | f[·,·,·,·] |  \n",
    "| ------------- | ---- | ------- | -------- | ---------- |  \n",
    "| 1.0           | 5/3  |         |          |            |  \n",
    "| 2.0           | 3    | 4/3     |          |            |  \n",
    "| 4.0           | 3.0  | 0.0     | -4/9     |            |  \n",
    "| 5.0           | 4.0  | 1       | 1/3      | 7/36       |  "
   ]
  },
  {
   "cell_type": "markdown",
   "metadata": {},
   "source": [
    "### Problem 5:  \n",
    "$$ f(x) = 2(x + 1)(x − 2)(x − 5) $$"
   ]
  },
  {
   "cell_type": "markdown",
   "metadata": {},
   "source": [
    "a. Use Newton’s form to construct the Interpolating Polynomial at the nodes x<sub>0</sub> = 1, x<sub>1</sub> = 2, x<sub>2</sub> = 3;"
   ]
  },
  {
   "cell_type": "markdown",
   "metadata": {},
   "source": [
    "Answer:  \n",
    "\n",
    "| x | f(x) | 1st | 2nd |  \n",
    "| - | ---- | --- | --- |  \n",
    "| 1 | 16   |     |     |  \n",
    "| 2 | 0    | -16 |     |  \n",
    "| 3 | -16  | -16 | 0   |  \n",
    "\n",
    "$$ P(x) = 16 - 16(x - 1) = -16x $$"
   ]
  },
  {
   "cell_type": "markdown",
   "metadata": {},
   "source": [
    "b. Calculate the divided difference f [−1, 0, 1, 2]"
   ]
  },
  {
   "cell_type": "markdown",
   "metadata": {},
   "source": [
    "Answer:  \n",
    "\n",
    "| x  | f(x) | 1st | 2nd | 3rd |  \n",
    "| -- | ---- | --- | --- | --- |  \n",
    "| -1 | 0    |     |     |     |\n",
    "| 0  | 20   | 20  |     |     |\n",
    "| 1  | 16   | -4  | -12 |     |\n",
    "| 2  | 0    | -16 | -6  | 2   |"
   ]
  },
  {
   "cell_type": "markdown",
   "metadata": {},
   "source": [
    "### Problem 6:  \n",
    "Given the four data points `(−1, 1), (0, 1), (1, 2), (2, 0)`, determine the interpolating cubic polynomial"
   ]
  },
  {
   "cell_type": "markdown",
   "metadata": {},
   "source": [
    "a. using the Lagrange form;"
   ]
  },
  {
   "cell_type": "markdown",
   "metadata": {},
   "source": [
    "Answer:  \n",
    "$$ l_0(x) = -\\frac {x(x - 1)(x - 2)}{(0 + 1)(1 + 1)(2 + 1)} = \\frac {x(x - 1)(x - 2)}{-6} $$\n",
    "$$ l_1(x) = -\\frac {(x + 1)(x - 1)(x - 2)}{-1 * 1 * 2} = \\frac {(x + 1)(x - 1)(x - 2)}{2} $$\n",
    "$$ l_2(x) = -\\frac {x(x + 1)(x - 2)}{-(-1 - 1)(2 - 1)} = \\frac {x(x + 1)(x - 2)}{-2} $$\n",
    "$$ l_3(x) = -\\frac {x(x + 1)(x - 1)}{(-1 - 2) (-2) (1 - 2)} = \\frac {(x + 1)(x + 2)(x - 1)}{6} $$"
   ]
  },
  {
   "cell_type": "markdown",
   "metadata": {},
   "source": [
    "$$ P(x) = l_0(x) + l_1(x) + 2l_2(x) = \\frac {x(x - 1)(x - 2)}{-6} + \\frac {(x + 1)(x - 1)(x - 2)}{2} - x(x + 1)(x - 2) = $$\n",
    "$$ = -\\frac {2x^3}{3} + \\frac {x^2}{2} - \\frac {7x}{6} + 1 $$"
   ]
  },
  {
   "cell_type": "markdown",
   "metadata": {},
   "source": [
    "b. using the Newton form."
   ]
  },
  {
   "cell_type": "markdown",
   "metadata": {},
   "source": [
    "Answer:  \n",
    "\n",
    "| x  | f(x) | 1st | 2nd  | 3rd  |  \n",
    "| -- | ---- | --- | ---- | ---- |  \n",
    "| -1 | 1    |     |      |      |  \n",
    "| 0  | 1    | 0   |      |      |  \n",
    "| 1  | 2    | 1   | 1/2  |      |  \n",
    "| 2  | 0    | -2  | -3/2 | -2/3 |  \n",
    "\n",
    "$$ P(x) = 1 + \\frac {x(x + 1)}{2} + \\frac {-2x(x + 1)(x - 1)}{3} = -\\frac {2x^3}{3} + \\frac {x^2}{2} - \\frac {7x}{6} + 1 $$  "
   ]
  },
  {
   "cell_type": "markdown",
   "metadata": {},
   "source": [
    "c. Show that the two representations give the same polynomial."
   ]
  },
  {
   "cell_type": "markdown",
   "metadata": {},
   "source": [
    "$$ -\\frac {2x^3}{3} + \\frac {x^2}{2} - \\frac {7x}{6} + 1 = -\\frac {2x^3}{3} + \\frac {x^2}{2} - \\frac {7x}{6} + 1 $$"
   ]
  },
  {
   "cell_type": "markdown",
   "metadata": {},
   "source": [
    "### Problem 7:  \n",
    "The polynomial p(x) = 2 − (x + 1) + x(x + 1) − 2x(x + 1)(x − 1) interpolates the first four points in the table:  \n",
    "\n",
    "| x | -1 | 0 | 1 |  2 |  3 |  \n",
    "| - | -- | - | - | -- | -- |  \n",
    "| y | 2  | 1 | 2 | -7 | 10 |  \n",
    "\n",
    "By adding one additional term to p, find polynomial that interpolates the whole table"
   ]
  },
  {
   "cell_type": "markdown",
   "metadata": {},
   "source": [
    "Answer:  \n",
    "\n",
    "| x  | f(x) | 1st | 2nd  | 3rd  | 4th  |  \n",
    "| -- | ---- | --- | ---- | ---- | ---- |  \n",
    "| -1 | 2    |     |      |      |      |  \n",
    "| 0  | 1    | -1  |      |      |      |  \n",
    "| 1  | 2    | 1   | 1    |      |      |  \n",
    "| 2  | -7   | -9  | -5   | -2   |      |  \n",
    "| 3  | 10   | 17  | 26/3 | 41/9 | 59/9 |  \n",
    "\n",
    "$$ term = -(p(x) - \\left(2 - (x + 1) + x(x + 1) − 2x(x + 1)(x − 1) + \\frac{59x(x +1)(x-1)(x-2)}{9}\\right)) = $$\n",
    "$$ = \\frac {59x(x-2)(x-1)(x+1)}{9} $$"
   ]
  },
  {
   "cell_type": "markdown",
   "metadata": {},
   "source": [
    "### Problem 8:  \n",
    "Assume that P<sub>6</sub>(x) is the Interpolating Polynomial for \n",
    "$$ f(x) = ln\\left(1+ \\frac {x} {2} \\right) $$\n",
    "constructed at the nodes: \n",
    "$$ x_0 = 0,\\ x_1 = \\frac {1} {4},\\ x_2 = \\frac {1}{2},\\ x_3 = \\frac {3}{4},\\ x_4 = 1,\\ x_5 = \\frac {5}{4},\\ x_6 = 2 $$"
   ]
  },
  {
   "cell_type": "markdown",
   "metadata": {},
   "source": [
    "a. Estimate, without constructing P<sub>6</sub> explicitly, the absolute error  \n",
    "$$ \\left| f\\left(\\frac{5}{6}\\right) - P_6\\left(\\frac{5}{6}\\right)\\right| $$"
   ]
  },
  {
   "cell_type": "markdown",
   "metadata": {},
   "source": [
    "Answer:  \n",
    "$$ \\left| f\\left(\\frac{5}{6}\\right) - P_6\\left(\\frac{5}{6}\\right)\\right| = \\left| \\frac{f'''''''(c)}{7!}(5/6)(5/6 - 1/4)(5/6 - 1/2)(5/6-3/4)(5/6-1)(5/6-5/4)(5/6-2)\\right| \\leq $$"
   ]
  },
  {
   "cell_type": "markdown",
   "metadata": {},
   "source": [
    "$$ \\leq \\frac{M_7 1225}{5040 * 1119744} = \\frac{720 * 1225}{(x+2)^7 * 5040 * 1119744} \\leq \\frac {175} {143327232} $$ "
   ]
  },
  {
   "cell_type": "markdown",
   "metadata": {},
   "source": [
    "b. Estimate the global error  \n",
    "$$ \\underset {x \\in [0,2]} {max} |f(x) - P_6(x)| $$"
   ]
  },
  {
   "cell_type": "markdown",
   "metadata": {},
   "source": [
    "Answer:  \n",
    "$$ \\underset {x \\in [0,2]} {max} |f(x) - P_6(x)| \\leq \\frac{720}{(2)^7 * 5040} * 2^7 = \\frac {1}{7} $$"
   ]
  },
  {
   "cell_type": "markdown",
   "metadata": {},
   "source": [
    "c. Assume we want to\n",
    "$$ \\int_0^2f(x)dx $$\n",
    "and we approximate that integral by \n",
    "$$ \\int_0^2P_6(x)dx $$\n",
    "Estimate the approximation error \n",
    "$$ \\left| \\int_0^2f(x)dx - \\int_0^2P_6(x)dx \\right| $$"
   ]
  },
  {
   "cell_type": "markdown",
   "metadata": {},
   "source": [
    "Answer:  \n",
    "$$ \\left| \\int_0^2f(x)dx - \\int_0^2P_6(x)dx \\right| \\leq \\int_0^2 \\frac {1}{7} = \\frac {2}{7} $$"
   ]
  },
  {
   "cell_type": "markdown",
   "metadata": {},
   "source": [
    "### Problem 9\n",
    "(Python) Armen had decided to buy stocks of a particularly promising Internet company. The\n",
    "price per share was $100, and Armen subsequently recorded the stock price at the end of each\n",
    "week. With the abscissae measured in days, the following data were acquired:\n",
    "```\n",
    "(0, 100), (7, 98), (14, 101), (21, 50), (28, 51), (35, 50)\n",
    "```\n",
    "In attempting to analyze what happened, it was desired to approximately evaluate the stock\n",
    "price a few days before the crash.\n",
    "Pass a linear interpolant through the points with abscissae 7 and 14. Then add to this data set\n",
    "the value at 0 and (separately) the value at 21 to obtain two quadratic interpolants. Evaluate\n",
    "all three interpolants at x = 12. Which one do you think is the most accurate? Explain."
   ]
  },
  {
   "cell_type": "code",
   "execution_count": 22,
   "metadata": {},
   "outputs": [
    {
     "data": {
      "image/png": "[encoded data removed]",
      "text/plain": [
       "<Figure size 432x288 with 1 Axes>"
      ]
     },
     "metadata": {
      "needs_background": "light"
     },
     "output_type": "display_data"
    }
   ],
   "source": [
    "import numpy as np\n",
    "from scipy.interpolate import KroghInterpolator\n",
    "import matplotlib.pyplot as plt\n",
    "\n",
    "x = np.array([0, 7, 14, 21, 28, 35])\n",
    "y = np.array([100, 98, 101, 50, 51, 50])\n",
    "\n",
    "linear = np.interp(12, x[1:3], y[1:3])\n",
    "quad_with_zero = KroghInterpolator(x[:3], y[:3])(12)\n",
    "quad_with_21 = KroghInterpolator(x[1:4], y[1:4])(12)\n",
    "\n",
    "plt.scatter(x, y)\n",
    "plt.scatter([12]*3, [linear, quad_with_zero, quad_with_21], color=\"red\");"
   ]
  },
  {
   "cell_type": "code",
   "execution_count": 23,
   "metadata": {},
   "outputs": [
    {
     "data": {
      "text/plain": [
       "(100.14285714285714, array(99.63265306), array(105.65306122))"
      ]
     },
     "execution_count": 23,
     "metadata": {},
     "output_type": "execute_result"
    }
   ],
   "source": [
    "linear, quad_with_zero, quad_with_21"
   ]
  },
  {
   "cell_type": "markdown",
   "metadata": {},
   "source": [
    "The most accurate is the quadratic interpolant with 21 as one of the abscissae. This is because it accounts for crash in stock price."
   ]
  }
 ],
 "metadata": {
  "interpreter": {
   "hash": "b89b5cfaba6639976dc87ff2fec6d58faec662063367e2c229c520fe71072417"
  },
  "kernelspec": {
   "display_name": "Python 3.10.1 64-bit",
   "language": "python",
   "name": "python3"
  },
  "language_info": {
   "codemirror_mode": {
    "name": "ipython",
    "version": 3
   },
   "file_extension": ".py",
   "mimetype": "text/x-python",
   "name": "python",
   "nbconvert_exporter": "python",
   "pygments_lexer": "ipython3",
   "version": "3.10.1"
  },
  "orig_nbformat": 4
 },
 "nbformat": 4,
 "nbformat_minor": 2
}
