{
 "cells": [
  {
   "cell_type": "markdown",
   "metadata": {},
   "source": [
    "# Homework 7\n",
    "###### by Mher Movsisyan\n",
    "---"
   ]
  },
  {
   "cell_type": "markdown",
   "metadata": {},
   "source": [
    "### Problem 1  \n",
    "Show that the cost of Gaussian elimination method is O(n<sup>3</sup>)."
   ]
  },
  {
   "cell_type": "markdown",
   "metadata": {},
   "source": [
    "Answer:  \n",
    "<br>\n",
    "Let n be the number of rows and columns in the matrix, and the pseudocode below be the gaussian elimination method.\n",
    "```\n",
    "For i = 1 to n \n",
    "    For j = i+1 to n\n",
    "        a[i][j] = a[i][j]/a[i][i]\n",
    "        For k = i+1 to n\n",
    "            a[k][j] = a[k][j] - a[k][i]*a[i][j]\n",
    "```\n",
    "Here, i is the column index, j and k are the row indices, and a[i][j] is the element in the matrix at row i and column j.\n",
    "<br>\n",
    "From our pseudocode, we can see that the cost of the gaussian elimination method is O(n<sup>3</sup>) since there are operations happening in a 3 layer nested loop."
   ]
  },
  {
   "cell_type": "markdown",
   "metadata": {},
   "source": [
    "### Problem 2  \n",
    "Find LU -factorization of the matrix \n",
    "$$ A = \\begin{bmatrix}\n",
    "2 & 1 & 1 \\\\ \n",
    "-4 & -1 & 1 \\\\ \n",
    "2 & 4 & 11\n",
    "\\end{bmatrix} $$"
   ]
  },
  {
   "cell_type": "markdown",
   "metadata": {},
   "source": [
    "Answer:  \n",
    "First, we bring it to row-echelon form.\n",
    "\n",
    "$$ A = \\begin{bmatrix}\n",
    "2 & 1 & 1 \\\\ \n",
    "-4 & -1 & 1 \\\\ \n",
    "2 & 4 & 11\n",
    "\\end{bmatrix} \\overset{R_2 + 2R_1}{\\rightarrow} \\begin{bmatrix}\n",
    "2 & 1 & 1 \\\\ \n",
    "0 & 1 & 3 \\\\ \n",
    "2 & 4 & 11\n",
    "\\end{bmatrix} $$"
   ]
  },
  {
   "cell_type": "markdown",
   "metadata": {},
   "source": [
    "$$ \\begin{bmatrix}\n",
    "2 & 1 & 1 \\\\ \n",
    "0 & 1 & 3 \\\\ \n",
    "2 & 4 & 11\n",
    "\\end{bmatrix} \\overset{R_3 - R_1}{\\rightarrow} \\begin{bmatrix}\n",
    "2 & 1 & 1 \\\\ \n",
    "0 & 1 & 3 \\\\ \n",
    "0 & 3 & 10\n",
    "\\end{bmatrix} $$"
   ]
  },
  {
   "cell_type": "markdown",
   "metadata": {},
   "source": [
    "$$ \\begin{bmatrix}\n",
    "2 & 1 & 1 \\\\ \n",
    "0 & 1 & 3 \\\\ \n",
    "0 & 3 & 10\n",
    "\\end{bmatrix} \\overset{R_3 - 3R_2}{\\rightarrow} \\begin{bmatrix}\n",
    "2 & 1 & 1 \\\\\n",
    "0 & 1 & 3 \\\\\n",
    "0 & 0 & 1 \\\\\n",
    "\\end{bmatrix} $$"
   ]
  },
  {
   "cell_type": "markdown",
   "metadata": {},
   "source": [
    "Then we retrace the steps to find the LU-factorization."
   ]
  },
  {
   "cell_type": "markdown",
   "metadata": {},
   "source": [
    "$$ E_1E_2E_3A = \\begin{bmatrix}\n",
    "2 & 1 & 1 \\\\\n",
    "0 & 1 & 3 \\\\\n",
    "0 & 0 & 1 \\\\\n",
    "\\end{bmatrix} $$"
   ]
  },
  {
   "cell_type": "markdown",
   "metadata": {},
   "source": [
    "$$ L = E_3^{-1}E_2^{-1}E_1^{-1} = \\begin{bmatrix}\n",
    "1 & 0 & 0 \\\\\n",
    "-2 & 1 & 0 \\\\\n",
    "1 & 3 & 1 \\\\\n",
    "\\end{bmatrix} $$"
   ]
  },
  {
   "cell_type": "markdown",
   "metadata": {},
   "source": [
    "$$ A = \\begin{bmatrix}\n",
    "1 & 0 & 0 \\\\\n",
    "-2 & 1 & 0 \\\\\n",
    "1 & 3 & 1 \\\\\n",
    "\\end{bmatrix} \\begin{bmatrix}\n",
    "2 & 1 & 1 \\\\\n",
    "0 & 1 & 3 \\\\\n",
    "0 & 0 & 1 \\\\\n",
    "\\end{bmatrix} $$"
   ]
  },
  {
   "cell_type": "markdown",
   "metadata": {},
   "source": [
    "### Problem 3:  \n",
    "Solve the following linear system by using LU -factorization:\n",
    "$$ \\left[ \\left. \\begin{matrix}\n",
    "2 & 2 & 2 & 2 \\\\\n",
    "3 & 6 & 9 & 9 \\\\\n",
    "1 & 2 & 4 & 5 \\\\\n",
    "2 & 4 & 8 & 12 \\\\\n",
    "\\end{matrix}\\right|\\begin{matrix}\n",
    "0 \\\\ -3 \\\\ -2 \\\\ -6 \\\\\n",
    "\\end{matrix} \\right ] $$"
   ]
  },
  {
   "cell_type": "markdown",
   "metadata": {},
   "source": [
    "Answer:  \n",
    "$$ \\left[ \\left. \\begin{matrix}\n",
    "2 & 2 & 2 & 2 \\\\\n",
    "3 & 6 & 9 & 9 \\\\\n",
    "1 & 2 & 4 & 5 \\\\\n",
    "2 & 4 & 8 & 12 \\\\\n",
    "\\end{matrix}\\right|\\begin{matrix}\n",
    "0 \\\\ -3 \\\\ -2 \\\\ -6 \\\\\n",
    "\\end{matrix} \\right ] \n",
    "\\overset{\\begin{matrix} R_2 - 1.5R_1 \\\\ R_3 - 0.5R_1 \\\\ R_4 - R_1 \\\\ \\end{matrix}}{\\rightarrow} \n",
    "\\left[ \\left. \\begin{matrix}\n",
    "2 & 2 & 2 & 2 \\\\\n",
    "0 & 3 & 6 & 6 \\\\\n",
    "0 & 1 & 3 & 4 \\\\\n",
    "0 & 2 & 6 & 10 \\\\\n",
    "\\end{matrix}\\right|\\begin{matrix}\n",
    "0 \\\\ \n",
    "-3 \\\\ \n",
    "-2 \\\\ \n",
    "-6 \\\\\n",
    "\\end{matrix} \\right ]\n",
    "$$"
   ]
  },
  {
   "cell_type": "markdown",
   "metadata": {},
   "source": [
    "$$ \\left[ \\left. \\begin{matrix}\n",
    "2 & 2 & 2 & 2 \\\\\n",
    "0 & 3 & 6 & 6 \\\\\n",
    "0 & 1 & 3 & 4 \\\\\n",
    "0 & 2 & 6 & 10 \\\\\n",
    "\\end{matrix}\\right|\\begin{matrix}\n",
    "0 \\\\ \n",
    "-3 \\\\ \n",
    "-2 \\\\ \n",
    "-6 \\\\\n",
    "\\end{matrix} \\right ] \n",
    "\\overset{\\begin{matrix} R_3 - R_2/3 \\\\ R_4 - 2R_2/3 \\\\ \\end{matrix}}{\\rightarrow}\n",
    "\\left[ \\left. \\begin{matrix}\n",
    "2 & 2 & 2 & 2 \\\\\n",
    "0 & 3 & 6 & 6 \\\\\n",
    "0 & 0 & 1 & 1 \\\\\n",
    "0 & 0 & 2 & 6 \\\\\n",
    "\\end{matrix}\\right|\\begin{matrix}\n",
    "0 \\\\ \n",
    "-3 \\\\ \n",
    "-1 \\\\ \n",
    "-4 \\\\\n",
    "\\end{matrix} \\right ] $$"
   ]
  },
  {
   "cell_type": "markdown",
   "metadata": {},
   "source": [
    "$$ \\left[ \\left. \\begin{matrix}\n",
    "2 & 2 & 2 & 2 \\\\\n",
    "0 & 3 & 6 & 6 \\\\\n",
    "0 & 0 & 1 & 1 \\\\\n",
    "0 & 0 & 2 & 6 \\\\\n",
    "\\end{matrix}\\right|\\begin{matrix}\n",
    "0 \\\\ \n",
    "-3 \\\\ \n",
    "-1 \\\\ \n",
    "-4 \\\\\n",
    "\\end{matrix} \\right ] \n",
    "\\overset{\\begin{matrix} R_4 - 2R_3 \\\\ \\end{matrix}}{\\rightarrow}\n",
    "\\left[ \\left. \\begin{matrix}\n",
    "2 & 2 & 2 & 2 \\\\\n",
    "0 & 3 & 6 & 6 \\\\\n",
    "0 & 0 & 1 & 1 \\\\\n",
    "0 & 0 & 0 & 4 \\\\\n",
    "\\end{matrix}\\right|\\begin{matrix}\n",
    "0 \\\\ \n",
    "-3 \\\\ \n",
    "-1 \\\\ \n",
    "-2 \\\\\n",
    "\\end{matrix} \\right ]\n",
    "$$"
   ]
  },
  {
   "cell_type": "markdown",
   "metadata": {},
   "source": [
    "$$ U = \\begin{bmatrix}\n",
    "2 & 2 & 2 & 2 \\\\\n",
    "0 & 3 & 6 & 6 \\\\\n",
    "0 & 0 & 1 & 1 \\\\\n",
    "0 & 0 & 0 & 4 \\\\\n",
    "\\end{bmatrix}  L = \\begin{bmatrix}\n",
    "1 & 0 & 0 & 0 \\\\\n",
    "1.5 & 1 & 0 & 0 \\\\\n",
    "0.5 & 1/3 & 1 & 0 \\\\\n",
    "1 & 2/3 & 2 & 1 \\\\\n",
    "\\end{bmatrix} $$"
   ]
  },
  {
   "cell_type": "markdown",
   "metadata": {},
   "source": [
    "$$ Ly = b \\Leftrightarrow \\begin{bmatrix}\n",
    "1 & 0 & 0 & 0 \\\\\n",
    "1.5 & 1 & 0 & 0 \\\\\n",
    "0.5 & 1/3 & 1 & 0 \\\\\n",
    "1 & 2/3 & 2 & 1 \\\\\n",
    "\\end{bmatrix} \\begin{bmatrix}\n",
    "y_1 \\\\ y_2 \\\\ y_3 \\\\ y_4 \\\\\n",
    "\\end{bmatrix} = \\begin{bmatrix}\n",
    "0 \\\\ -3 \\\\ -2 \\\\ -6 \\\\\n",
    "\\end{bmatrix} $$"
   ]
  },
  {
   "cell_type": "markdown",
   "metadata": {},
   "source": [
    "$$ \\left\\{ \\begin{matrix}\n",
    "y_1 = 0 \\\\\n",
    "3y_1/2 + y_2 = -3 \\\\\n",
    "y_1/2 + y_2/3 + y_3 = -2 \\\\\n",
    "y_1 + 2y_2/3 + 2y_3 + y_4 = -6 \\\\\n",
    "\\end{matrix} \\right. \\Rightarrow\n",
    "\\left\\{ \\begin{matrix}\n",
    "y_1 = 0 \\\\\n",
    "y_2 = -3 \\\\\n",
    "y_3 = -1 \\\\\n",
    "y_4 = -2 \\\\\n",
    "\\end{matrix} \\right. $$"
   ]
  },
  {
   "cell_type": "markdown",
   "metadata": {},
   "source": [
    "$$ Ux = y \\Leftrightarrow \\begin{bmatrix}\n",
    "2 & 2 & 2 & 2 \\\\\n",
    "0 & 3 & 6 & 6 \\\\\n",
    "0 & 0 & 1 & 1 \\\\\n",
    "0 & 0 & 0 & 4 \\\\\n",
    "\\end{bmatrix} \\begin{bmatrix}\n",
    "x_1 \\\\ x_2 \\\\ x_3 \\\\ x_4 \\\\\n",
    "\\end{bmatrix} = \\begin{bmatrix}\n",
    "0 \\\\ -3 \\\\ -1 \\\\ -2 \\\\\n",
    "\\end{bmatrix} $$"
   ]
  },
  {
   "cell_type": "markdown",
   "metadata": {},
   "source": [
    "$$ \\left\\{ \\begin{matrix}\n",
    "2x_1 + 2x_2 + 2x_3 + 2x_4 = 0 \\\\\n",
    "3x_2 + 6x_3 + 6x_4= -3 \\\\\n",
    "x_3 + x_4 = -1 \\\\\n",
    "4x_4 = -2 \\\\\n",
    "\\end{matrix} \\right. \\Rightarrow\n",
    "\\left\\{ \\begin{matrix}\n",
    "x_4 = -1/2 \\\\\n",
    "x_3 = -1/2 \\\\\n",
    "x_2 = 1 \\\\\n",
    "x_1 = 0 \\\\\n",
    "\\end{matrix} \\right. $$"
   ]
  },
  {
   "cell_type": "markdown",
   "metadata": {},
   "source": [
    "### Problem 4:  \n",
    "Determine Cholesky factorization of the matrix\n",
    "$$ A = \\begin{bmatrix}\n",
    "25 & 15 & 5 \\\\\n",
    "15 & 13 & 11 \\\\\n",
    "5 & 11 & 21 \\\\\n",
    "\\end{bmatrix} $$"
   ]
  },
  {
   "cell_type": "markdown",
   "metadata": {},
   "source": [
    "Answer:  \n",
    "$$ \\begin{bmatrix}\n",
    "25 & 15 & 5 \\\\\n",
    "15 & 13 & 11 \\\\\n",
    "5 & 11 & 21 \\\\\n",
    "\\end{bmatrix}\n",
    "\\overset{\\begin{matrix} R_2 - 3R_1/5 \\\\ R_3- R_1/5 \\\\ \\end{matrix}}{\\rightarrow}\n",
    "\\begin{bmatrix}\n",
    "25 & 15 & 5 \\\\\n",
    "0 & 4 & 8 \\\\\n",
    "0 & 8 & 20 \\\\\n",
    "\\end{bmatrix}"
   ]
  },
  {
   "cell_type": "markdown",
   "metadata": {},
   "source": [
    "$$ \\begin{bmatrix}\n",
    "25 & 15 & 5 \\\\\n",
    "0 & 4 & 8 \\\\\n",
    "0 & 8 & 20 \\\\\n",
    "\\end{bmatrix}\n",
    "\\overset{\\begin{matrix} R_3 - 2R_2 \\\\ \\end{matrix}}{\\rightarrow}\n",
    "\\begin{bmatrix}\n",
    "25 & 15 & 5 \\\\\n",
    "0 & 4 & 8 \\\\\n",
    "0 & 0 & 4 \\\\\n",
    "\\end{bmatrix} = L^T\n",
    "$$"
   ]
  },
  {
   "cell_type": "markdown",
   "metadata": {},
   "source": [
    "$$ A = \\begin{bmatrix}\n",
    "25 & 15 & 5 \\\\\n",
    "0 & 4 & 8 \\\\\n",
    "0 & 0 & 4 \\\\\n",
    "\\end{bmatrix}^T\\begin{bmatrix}\n",
    "25 & 15 & 5 \\\\\n",
    "0 & 4 & 8 \\\\\n",
    "0 & 0 & 4 \\\\\n",
    "\\end{bmatrix}\n",
    "$$"
   ]
  },
  {
   "cell_type": "markdown",
   "metadata": {},
   "source": [
    "### Problem 5  \n",
    "Our aim is to solve the following system of linear equation\n",
    "$$ \\left\\{ \\begin{matrix} 3x_1 - x_2 = 1 \\\\ x_1 + 2x_2 = 5 \\\\ \\end{matrix} \\right. $$"
   ]
  },
  {
   "cell_type": "markdown",
   "metadata": {},
   "source": [
    "a. Show that Jacobi Method and Gauss-Seidel Method both are convergent for any starting\n",
    "point x<sup>(0)</sup> = [x<sub>0</sub><sup>(1)</sup>, x<sub>0</sub><sup>(2)</sup>]."
   ]
  },
  {
   "cell_type": "markdown",
   "metadata": {},
   "source": [
    "Answer:  \n",
    "$$ A =  \\begin{bmatrix} 3 & 1 \\\\ 1 & 2 \\\\ \\end{bmatrix} $$\n",
    "As we can seet he matrix `A` is a strictly diagonally dominant matrix, so the Jacobi Method and Gauss-Seidel Method are convergent for any initial point."
   ]
  },
  {
   "cell_type": "markdown",
   "metadata": {},
   "source": [
    "b. Carry out three iterations (find x<sup>(3)</sup>) of the Jacobi Method starting with x<sup>(0)</sup> = [-1, -1]."
   ]
  },
  {
   "cell_type": "markdown",
   "metadata": {},
   "source": [
    "$$ 1 - 3x_1 = x_2 $$\n",
    "$$ x_1 = 5 - 2x_2 $$"
   ]
  },
  {
   "cell_type": "markdown",
   "metadata": {},
   "source": [
    "| Iterations    |  0  |   1                |   2       |         3 |  \n",
    "| ------------  | --- | ------------------ | --------- | --------- |  \n",
    "| x<sub>1</sub> | -1  | $$ 5 - 2x_2 = 7 $$ | $$ -3 $$  |  $$ 45 $$ |  \n",
    "| x<sub>2</sub> | -1  | $$ 1-3x_1 = 4 $$   | $$ -20 $$ |  $$ 10 $$ |  "
   ]
  },
  {
   "cell_type": "markdown",
   "metadata": {},
   "source": [
    "c. Carry out three iterations (find x<sup>(3)</sup>) of the Gauss-Seidel Method starting with x<sup>(0)</sup> = [-1, -1]."
   ]
  },
  {
   "cell_type": "markdown",
   "metadata": {},
   "source": [
    "| Iterations    |  0  |   1                |   2        |         3 |  \n",
    "| ------------  | --- | ------------------ | ---------- | --------- |  \n",
    "| x<sub>1</sub> | -1  | $$ 5 - 2x_2 = 7 $$ | $$ 45 $$   | $$ 273 $$ |  \n",
    "| x<sub>2</sub> | -1  | $$ 1-3x_1 = -20 $$ | $$ -134 $$ | $$ -818 $$ |  "
   ]
  },
  {
   "cell_type": "markdown",
   "metadata": {},
   "source": [
    "### Problem 6:  \n",
    "Write a Python function `Gauss_Seidel(A, b, N)` which calculates the `N`-th approximation\n",
    "of the solution of linear system `Ax = b` using the Gauss Seidel Method. Use the written function\n",
    "to solve the following linear system\n",
    "$$ \\left\\{ \\begin{matrix} \n",
    "5x_1 - x_2 + 3x_3 = 14 \\\\\n",
    "-2x_1 + 4x_2 - x_3 = 2 \\\\\n",
    "2x_1 - 2x_2 + 5x_3 = 10 \\\\\n",
    "\\end{matrix} \\right. $$"
   ]
  },
  {
   "cell_type": "code",
   "execution_count": 8,
   "metadata": {},
   "outputs": [],
   "source": [
    "import numpy as np\n",
    "\n",
    "def Gauss_Seidel(A, b, N):\n",
    "    \"\"\"Solves the linear system Ax = b using Gauss-Seidel method.\"\"\"\n",
    "    x = np.zeros(len(b))\n",
    "    e_inverse = np.linalg.inv(np.tril(A))\n",
    "    \n",
    "    for i in range(N):\n",
    "        x += np.dot(e_inverse, b - np.dot(A, x))\n",
    "                \n",
    "    return x"
   ]
  },
  {
   "cell_type": "code",
   "execution_count": 11,
   "metadata": {},
   "outputs": [
    {
     "data": {
      "text/plain": [
       "array([2., 2., 2.])"
      ]
     },
     "execution_count": 11,
     "metadata": {},
     "output_type": "execute_result"
    }
   ],
   "source": [
    "A = np.array([\n",
    "    [5, -1, 3],\n",
    "    [-2, 4, -1],\n",
    "    [2, -2, 5]\n",
    "])\n",
    "\n",
    "b = np.array([14, 2, 10])\n",
    "\n",
    "Gauss_Seidel(A, b, 15)"
   ]
  }
 ],
 "metadata": {
  "interpreter": {
   "hash": "b89b5cfaba6639976dc87ff2fec6d58faec662063367e2c229c520fe71072417"
  },
  "kernelspec": {
   "display_name": "Python 3.10.1 64-bit",
   "language": "python",
   "name": "python3"
  },
  "language_info": {
   "codemirror_mode": {
    "name": "ipython",
    "version": 3
   },
   "file_extension": ".py",
   "mimetype": "text/x-python",
   "name": "python",
   "nbconvert_exporter": "python",
   "pygments_lexer": "ipython3",
   "version": "3.10.1"
  },
  "orig_nbformat": 4
 },
 "nbformat": 4,
 "nbformat_minor": 2
}
