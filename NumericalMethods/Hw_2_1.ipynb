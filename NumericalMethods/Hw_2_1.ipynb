{
 "cells": [
  {
   "cell_type": "markdown",
   "metadata": {},
   "source": [
    "$$ \\lim_{n \\to \\infty} \\frac {|x_{n+1} - 1|} {|x_{n} - 1|} = $$"
   ]
  },
  {
   "cell_type": "markdown",
   "metadata": {},
   "source": [
    "$$ = \\lim_{n \\to \\infty} \\frac {|\\left ( \\frac {1} {2} \\right )^{n + 1}|} {|\\left ( \\frac {1} {2} \\right )^{n}|} = \\frac {1} {2} < 1 $$"
   ]
  },
  {
   "cell_type": "markdown",
   "metadata": {},
   "source": [
    "$$ \\rarr linear\\ convergence$$"
   ]
  },
  {
   "cell_type": "markdown",
   "metadata": {},
   "source": [
    "$$ \\lim_{n \\to \\infty} \\frac {|x_{n+1} - 1|} {|x_{n} - 1|} = $$"
   ]
  },
  {
   "cell_type": "markdown",
   "metadata": {},
   "source": [
    "$$ = \\lim_{n \\to \\infty} \\frac {|\\left ( \\frac {1} {n + 1} \\right )^{n + 1}|} {|\\left ( \\frac {1} {n} \\right )^{n}|} = \\lim_{n \\to \\infty} \\frac {n^n} {(n+1)^{n+1}} \\rarr $$"
   ]
  },
  {
   "cell_type": "markdown",
   "metadata": {},
   "source": [
    "$$ \\lim_{n \\to \\infty} \\frac {1} {n} \\rarr 0 $$"
   ]
  },
  {
   "cell_type": "markdown",
   "metadata": {},
   "source": [
    "$$ superlinear\\ convergence $$"
   ]
  },
  {
   "cell_type": "markdown",
   "metadata": {},
   "source": [
    "$$ \\lim_{n \\to \\infty} \\frac {|x_{n+1} - 1|} {(x_{n} - 1)^2} = $$"
   ]
  },
  {
   "cell_type": "markdown",
   "metadata": {},
   "source": [
    "$$ = \\lim_{n \\to \\infty} \\frac {|\\left ( \\frac {1} {n + 1} \\right )^{2^{n+1}}|} {(\\left ( \\frac {1} {n} \\right )^{2^n})^2} = $$"
   ]
  },
  {
   "cell_type": "markdown",
   "metadata": {},
   "source": [
    "$$ = \\lim_{n \\to \\infty} \\frac {|\\left ( \\frac {1} {n + 1} \\right )^{2^{n+1}}|} {\\left ( \\frac {1} {n} \\right )^{2^{n+1}}} = \\lim_{n \\to \\infty} \\frac {n^{2^{n+1}}} {(n+1)^{2^{n+1}}} = $$"
   ]
  },
  {
   "cell_type": "markdown",
   "metadata": {},
   "source": [
    "$$ = \\lim_{n \\to \\infty} \\left ( 1 - \\frac {1} {(n+1)} \\right)^{2^{n+1}} \\rarr 0 $$"
   ]
  },
  {
   "cell_type": "markdown",
   "metadata": {},
   "source": [
    "$$ quadratic\\ convergence $$"
   ]
  }
 ],
 "metadata": {
  "language_info": {
   "name": "python"
  },
  "orig_nbformat": 4
 },
 "nbformat": 4,
 "nbformat_minor": 2
}
