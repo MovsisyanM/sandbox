{
 "cells": [
  {
   "cell_type": "markdown",
   "metadata": {},
   "source": [
    "## Homework 1\n",
    "###### Mher Movsisyan\n",
    "---"
   ]
  },
  {
   "cell_type": "markdown",
   "metadata": {},
   "source": [
    "### Problem 1:\n",
    "Assume $$ x = \\frac {301} {6} $$  (in base 10 representation)\n",
    "1. Write x in the normalized form\n",
    "2. Find the floating point form of x, fl(x), using both k = 4 digit chopping and rounding methods. Estimate the absolute and relative errors of these approximations."
   ]
  },
  {
   "cell_type": "markdown",
   "metadata": {},
   "source": [
    "Normalized form is $$ x = \\frac {301} {6} = 50.1\\bar{6} = 0.501\\bar{6} \\times 10^{2} $$"
   ]
  },
  {
   "cell_type": "markdown",
   "metadata": {},
   "source": [
    "Using chopping, k = 4:  \n",
    "$$ fl(x) = 0.5016 \\times 10^{2} $$  \n",
    "$$ abserr(x, fl(x)) = |x - fl(x)| = |0.501\\bar{6} - 0.5016| \\times 10^{2} = $$\n",
    "$$ = 0.0000\\bar{6} \\times 10^{2} = 0.\\bar{6} \\times 10^{-2} $$"
   ]
  },
  {
   "cell_type": "markdown",
   "metadata": {},
   "source": [
    "$$ relerr(x, fl(x)) = \\frac {abserr(x, fl(x))} {|x|} = \\frac {0.\\bar{6} \\times 10^{-2}} {0.501\\bar{6} \\times 10^{2}} = $$"
   ]
  },
  {
   "cell_type": "markdown",
   "metadata": {},
   "source": [
    "$$ \\approx 0.132890 \\times 10^{-3} $$"
   ]
  },
  {
   "cell_type": "markdown",
   "metadata": {},
   "source": [
    "Using rounding, k = 4:  \n",
    "$$ fl(x) = 0.5017 \\times 10^{2} $$"
   ]
  },
  {
   "cell_type": "markdown",
   "metadata": {},
   "source": [
    "$$ abserr(x, fl(x)) = |x - fl(x)| = |0.501\\bar{6} - 0.5017| \\times 10^{2} = $$\n",
    "$$ = 0.0000\\bar{3} \\times 10^{2} = 0.\\bar{3} \\times 10^{-2} $$"
   ]
  },
  {
   "cell_type": "markdown",
   "metadata": {},
   "source": [
    "$$ relerr(x, fl(x)) = \\frac {abserr(x, fl(x))} {|x|} = \\frac {0.\\bar{3} \\times 10^{-2}} {0.501\\bar{6} \\times 10^{2}} = $$"
   ]
  },
  {
   "cell_type": "markdown",
   "metadata": {},
   "source": [
    "$$ \\approx 0.6644518 \\times 10^{-4} $$"
   ]
  },
  {
   "cell_type": "markdown",
   "metadata": {},
   "source": [
    "### Problem 2:\n",
    "Let $$ a = 0.41; b = 0.36; c = 0.7 $$  \n",
    "Assuming a 2-digit decimal floating point arithmetic with rounding, show that \n",
    "$$ (a \\ominus b) \\oslash c \\neq a \\oslash c - b \\oslash c $$\n",
    "$$ \\left ( \\frac {a - b} {c} \\neq \\frac {a} {c} - \\frac {b} {c} \\right ) $$"
   ]
  },
  {
   "cell_type": "markdown",
   "metadata": {},
   "source": [
    "$$ (a \\ominus b) \\oslash c = (0.41 \\ominus 0.36) \\oslash 0.7 = 0.05 \\oslash 0.7 = 0.7 \\times 10^{-1}  $$"
   ]
  },
  {
   "cell_type": "markdown",
   "metadata": {},
   "source": [
    "$$ a \\oslash c - b \\oslash c = (0.41 \\oslash 0.7) - (0.36 \\oslash 0.7) = 0.59 - 0.51 = 0.8 \\times 10^{-1} $$"
   ]
  },
  {
   "cell_type": "markdown",
   "metadata": {},
   "source": [
    "$$ 0.7 \\times 10^{-1} \\neq 0.8 \\times 10^{-1} $$"
   ]
  },
  {
   "cell_type": "markdown",
   "metadata": {},
   "source": [
    "### Problem 3:\n",
    "Identify for which values of x there is subtraction of nearly equal numbers, and find alternate form that avoids the problem.\n",
    "$$ a. \\frac {1} {1 + x} - \\frac {1} {1 - x} $$\n",
    "$$ b. \\sqrt {x - \\frac {1} {x}} - \\sqrt {x + \\frac {1} {x}} $$"
   ]
  },
  {
   "cell_type": "markdown",
   "metadata": {},
   "source": [
    "a. Subtraction of nearly equal numbers when x tends to 0  \n",
    "$$ \\frac {1} {1 + x} - \\frac {1} {1 - x} = \\frac {1 - x - 1 - x} {(1 + x)(1 - x)} = \\frac {-2x} {1 - x^2} $$"
   ]
  },
  {
   "cell_type": "markdown",
   "metadata": {},
   "source": [
    "b. Subtraction of nearly equal numbers when x tends to infinity\n",
    "$$ \\sqrt {x - \\frac {1} {x}} - \\sqrt {x + \\frac {1} {x}} = \\left (\\sqrt {x - \\frac {1} {x}} - \\sqrt {x + \\frac {1} {x}} \\right ) \\times $$ \n",
    "$$ \\times \\frac {(\\sqrt {x - \\frac {1} {x}} - \\sqrt {x + \\frac {1} {x}})(\\sqrt {x - \\frac {1} {x}} + \\sqrt {x + \\frac {1} {x}})} {\\sqrt {x - \\frac {1} {x}} + \\sqrt {x + \\frac {1} {x}}} = $$\n",
    "$$ = -\\frac {2\\left (\\sqrt {x - \\frac {1} {x}} + \\sqrt {x + \\frac {1} {x}}\\right )} {x} $$"
   ]
  },
  {
   "cell_type": "markdown",
   "metadata": {},
   "source": [
    "### Problem 4:\n",
    "Assume $$ x = fl(ln12) $$ with an absolute error less than 0.01, i.e., assume $$ abserr(ln12, x) < 0.01 $$  \n",
    "Estimate the absolute error of the approximation $$ \\sqrt{x} \\approx \\sqrt{\\textup{ln12}} $$"
   ]
  },
  {
   "cell_type": "markdown",
   "metadata": {},
   "source": []
  },
  {
   "cell_type": "markdown",
   "metadata": {},
   "source": [
    "### Problem 5:\n",
    "(Python) The Stirling approximation\n",
    "$$ v = S_n = \\sqrt{2 \\pi n} \\times \\left ( \\frac {n} {e} \\right )^n $$\n",
    "is used to apprximate $$ u = n! = 1 \\times 2 \\times 3 \\times ... \\times n $$\n",
    "where $n$ is a large integer. The formula involves the constant e = 2.7182818284590452353602875... Write Python script that computes and displays n! and S<sub>n</sub>, as well their absolute and relative error, for $$ 1 \\leq n \\leq 10 $$  \n",
    "Output:  \n",
    "<br>\n",
    "<img src=\"https://github.com/MovsisyanM/sandbox/blob/main/NumericalMethods/res/hw1_output.jpg?raw=true\"></img>"
   ]
  }
 ],
 "metadata": {
  "interpreter": {
   "hash": "b89b5cfaba6639976dc87ff2fec6d58faec662063367e2c229c520fe71072417"
  },
  "kernelspec": {
   "display_name": "Python 3.10.1 64-bit",
   "language": "python",
   "name": "python3"
  },
  "language_info": {
   "name": "python",
   "version": "3.10.1"
  },
  "orig_nbformat": 4
 },
 "nbformat": 4,
 "nbformat_minor": 2
}
