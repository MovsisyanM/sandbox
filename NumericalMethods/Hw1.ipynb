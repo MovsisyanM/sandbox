{
 "cells": [
  {
   "cell_type": "markdown",
   "metadata": {},
   "source": [
    "## Homework 1\n",
    "###### Mher Movsisyan\n",
    "---"
   ]
  },
  {
   "cell_type": "markdown",
   "metadata": {},
   "source": [
    "### Problem 1:\n",
    "Assume $$ x = \\frac {301} {6} $$  (in base 10 representation)\n",
    "1. Write x in the normalized form\n",
    "2. Find the floating point form of x, fl(x), using both k = 4 digit chopping and rounding methods. Estimate the absolute and relative errors of these approximations."
   ]
  },
  {
   "cell_type": "markdown",
   "metadata": {},
   "source": [
    "Normalized form is $$ x = \\frac {301} {6} = 50.1\\bar{6} = 0.501\\bar{6} \\times 10^{2} $$"
   ]
  },
  {
   "cell_type": "markdown",
   "metadata": {},
   "source": [
    "Using chopping, k = 4:  \n",
    "$$ fl(x) = 0.5016 \\times 10^{2} $$  \n",
    "$$ abserr(x, fl(x)) = |x - fl(x)| = |0.501\\bar{6} - 0.5016| \\times 10^{2} = $$\n",
    "$$ = 0.0000\\bar{6} \\times 10^{2} = 0.\\bar{6} \\times 10^{-2} $$"
   ]
  },
  {
   "cell_type": "markdown",
   "metadata": {},
   "source": [
    "$$ relerr(x, fl(x)) = \\frac {abserr(x, fl(x))} {|x|} = \\frac {0.\\bar{6} \\times 10^{-2}} {0.501\\bar{6} \\times 10^{2}} = $$"
   ]
  },
  {
   "cell_type": "markdown",
   "metadata": {},
   "source": [
    "$$ \\approx 0.132890 \\times 10^{-3} $$"
   ]
  },
  {
   "cell_type": "markdown",
   "metadata": {},
   "source": [
    "Using rounding, k = 4:  \n",
    "$$ fl(x) = 0.5017 \\times 10^{2} $$"
   ]
  },
  {
   "cell_type": "markdown",
   "metadata": {},
   "source": [
    "$$ abserr(x, fl(x)) = |x - fl(x)| = |0.501\\bar{6} - 0.5017| \\times 10^{2} = $$\n",
    "$$ = 0.0000\\bar{3} \\times 10^{2} = 0.\\bar{3} \\times 10^{-2} $$"
   ]
  },
  {
   "cell_type": "markdown",
   "metadata": {},
   "source": [
    "$$ relerr(x, fl(x)) = \\frac {abserr(x, fl(x))} {|x|} = \\frac {0.\\bar{3} \\times 10^{-2}} {0.501\\bar{6} \\times 10^{2}} = $$"
   ]
  },
  {
   "cell_type": "markdown",
   "metadata": {},
   "source": [
    "$$ \\approx 0.6644518 \\times 10^{-4} $$"
   ]
  },
  {
   "cell_type": "markdown",
   "metadata": {},
   "source": [
    "### Problem 2:\n",
    "Let $$ a = 0.41; b = 0.36; c = 0.7 $$  \n",
    "Assuming a 2-digit decimal floating point arithmetic with rounding, show that \n",
    "$$ (a \\ominus b) \\oslash c \\neq a \\oslash c - b \\oslash c $$\n",
    "$$ \\left ( \\frac {a - b} {c} \\neq \\frac {a} {c} - \\frac {b} {c} \\right ) $$"
   ]
  },
  {
   "cell_type": "markdown",
   "metadata": {},
   "source": [
    "$$ (a \\ominus b) \\oslash c = (0.41 \\ominus 0.36) \\oslash 0.7 = 0.05 \\oslash 0.7 = 0.7 \\times 10^{-1}  $$"
   ]
  },
  {
   "cell_type": "markdown",
   "metadata": {},
   "source": [
    "$$ a \\oslash c - b \\oslash c = (0.41 \\oslash 0.7) - (0.36 \\oslash 0.7) = 0.59 - 0.51 = 0.8 \\times 10^{-1} $$"
   ]
  },
  {
   "cell_type": "markdown",
   "metadata": {},
   "source": [
    "$$ 0.7 \\times 10^{-1} \\neq 0.8 \\times 10^{-1} $$"
   ]
  },
  {
   "cell_type": "markdown",
   "metadata": {},
   "source": [
    "### Problem 3:\n",
    "Identify for which values of x there is subtraction of nearly equal numbers, and find alternate form that avoids the problem.\n",
    "$$ a. \\frac {1} {1 + x} - \\frac {1} {1 - x} $$\n",
    "$$ b. \\sqrt {x - \\frac {1} {x}} - \\sqrt {x + \\frac {1} {x}} $$"
   ]
  },
  {
   "cell_type": "markdown",
   "metadata": {},
   "source": [
    "a. Subtraction of nearly equal numbers when x tends to 0  \n",
    "$$ \\frac {1} {1 + x} - \\frac {1} {1 - x} = \\frac {1 - x - 1 - x} {(1 + x)(1 - x)} = \\frac {-2x} {1 - x^2} $$"
   ]
  },
  {
   "cell_type": "markdown",
   "metadata": {},
   "source": [
    "b. Subtraction of nearly equal numbers when x tends to infinity\n",
    "$$ \\sqrt {x - \\frac {1} {x}} - \\sqrt {x + \\frac {1} {x}} = \\left (\\sqrt {x - \\frac {1} {x}} - \\sqrt {x + \\frac {1} {x}} \\right ) \\times $$ \n",
    "$$ \\times \\frac {(\\sqrt {x - \\frac {1} {x}} - \\sqrt {x + \\frac {1} {x}})(\\sqrt {x - \\frac {1} {x}} + \\sqrt {x + \\frac {1} {x}})} {\\sqrt {x - \\frac {1} {x}} + \\sqrt {x + \\frac {1} {x}}} = $$\n",
    "$$ = -\\frac {2\\left (\\sqrt {x - \\frac {1} {x}} + \\sqrt {x + \\frac {1} {x}}\\right )} {x} $$"
   ]
  },
  {
   "cell_type": "markdown",
   "metadata": {},
   "source": [
    "### Problem 4:\n",
    "Assume $$ x = fl(ln12) $$ with an absolute error less than 0.01, i.e., assume $$ abserr(ln12, x) < 0.01 $$  \n",
    "Estimate the absolute error of the approximation $$ \\sqrt{x} \\approx \\sqrt{\\textup{ln12}} $$"
   ]
  },
  {
   "cell_type": "markdown",
   "metadata": {},
   "source": [
    "$$ |ln12 - fl(ln12)| < 0.01 $$\n",
    "$$ -0.01 < ln12 - fl(ln12) < 0.01 $$\n",
    "$$ 0.01 + ln12 > fl(ln12) > - 0.01 + ln12 $$"
   ]
  },
  {
   "cell_type": "markdown",
   "metadata": {},
   "source": [
    "$$ \\sqrt {0.01 + ln12} > \\sqrt {fl(ln12)} > \\sqrt {ln12 - 0.01} $$ \n",
    "$$ \\sqrt {0.01 + ln12} > \\sqrt {x} > \\sqrt {ln12 - 0.01} $$ \n",
    "$$ |\\sqrt {x}| < \\sqrt {0.01 + ln12} $$"
   ]
  },
  {
   "cell_type": "markdown",
   "metadata": {},
   "source": [
    "### Problem 5:\n",
    "(Python) The Stirling approximation\n",
    "$$ v = S_n = \\sqrt{2 \\pi n} \\times \\left ( \\frac {n} {e} \\right )^n $$\n",
    "is used to apprximate $$ u = n! = 1 \\times 2 \\times 3 \\times ... \\times n $$\n",
    "where $n$ is a large integer. The formula involves the constant e = 2.7182818284590452353602875... Write Python script that computes and displays n! and S<sub>n</sub>, as well their absolute and relative error, for $$ 1 \\leq n \\leq 10 $$  \n",
    "Output:  \n",
    "<br>\n",
    "<img src=\"https://github.com/MovsisyanM/sandbox/blob/main/NumericalMethods/res/hw1_output.jpg?raw=true\"></img>"
   ]
  },
  {
   "cell_type": "code",
   "execution_count": 6,
   "metadata": {},
   "outputs": [],
   "source": [
    "from math import sqrt, pi, e\n",
    "\n",
    "def approx(n: int) -> int:\n",
    "    return sqrt(2 * pi * n) * (n/e)**n    \n",
    "\n",
    "def actual(n: int) -> int:\n",
    "    return n ** n\n",
    "\n",
    "def display_errors(n: int) -> None:\n",
    "    \"\"\"Calculates the real and the stirling approximation and displays the errors\"\"\"\n",
    "    \n",
    "    est = approx(n)\n",
    "    real = actual(n)\n",
    "    abserr = abs(est - real)\n",
    "    relerr = abserr / real\n",
    "    \n",
    "    print(f\"n={n} u={real} v={est} abserr(u,v)={abserr} relerr(u,v)={relerr}\")"
   ]
  },
  {
   "cell_type": "code",
   "execution_count": 8,
   "metadata": {},
   "outputs": [
    {
     "name": "stdout",
     "output_type": "stream",
     "text": [
      "n=1 u=1 v=0.9221370088957891 abserr(u,v)=0.07786299110421091 relerr(u,v)=0.07786299110421091\n",
      "n=2 u=4 v=1.9190043514889832 abserr(u,v)=2.080995648511017 relerr(u,v)=0.5202489121277543\n",
      "n=3 u=27 v=5.836209591345864 abserr(u,v)=21.163790408654137 relerr(u,v)=0.7838440892094125\n",
      "n=4 u=256 v=23.506175132893294 abserr(u,v)=232.4938248671067 relerr(u,v)=0.9081790033871355\n",
      "n=5 u=3125 v=118.0191679575901 abserr(u,v)=3006.98083204241 relerr(u,v)=0.9622338662535712\n",
      "n=6 u=46656 v=710.078184642185 abserr(u,v)=45945.92181535782 relerr(u,v)=0.984780560171421\n",
      "n=7 u=823543 v=4980.395831612462 abserr(u,v)=818562.6041683876 relerr(u,v)=0.9939524762743264\n",
      "n=8 u=16777216 v=39902.39545265671 abserr(u,v)=16737313.604547344 relerr(u,v)=0.9976216318933573\n",
      "n=9 u=387420489 v=359536.87284194835 abserr(u,v)=387060952.12715805 relerr(u,v)=0.999071972487129\n",
      "n=10 u=10000000000 v=3598695.6187410373 abserr(u,v)=9996401304.381258 relerr(u,v)=0.9996401304381258\n"
     ]
    }
   ],
   "source": [
    "[display_errors(i) for i in range(1, 11)];"
   ]
  }
 ],
 "metadata": {
  "interpreter": {
   "hash": "b89b5cfaba6639976dc87ff2fec6d58faec662063367e2c229c520fe71072417"
  },
  "kernelspec": {
   "display_name": "Python 3.10.1 64-bit",
   "language": "python",
   "name": "python3"
  },
  "language_info": {
   "codemirror_mode": {
    "name": "ipython",
    "version": 3
   },
   "file_extension": ".py",
   "mimetype": "text/x-python",
   "name": "python",
   "nbconvert_exporter": "python",
   "pygments_lexer": "ipython3",
   "version": "3.10.1"
  },
  "orig_nbformat": 4
 },
 "nbformat": 4,
 "nbformat_minor": 2
}
