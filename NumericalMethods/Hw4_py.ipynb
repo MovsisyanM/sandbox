{
 "cells": [
  {
   "cell_type": "markdown",
   "metadata": {},
   "source": [
    "# Homework 4: Python\n",
    "###### by Mher Movsisyan\n",
    "---"
   ]
  },
  {
   "cell_type": "markdown",
   "metadata": {},
   "source": [
    "### Problem 5  \n",
    "Find an approximation to 1000<sup>1/4</sup> correct to within 10<sup>−4</sup> using Fixed point iteration method."
   ]
  },
  {
   "cell_type": "code",
   "execution_count": 1,
   "metadata": {},
   "outputs": [],
   "source": [
    "import numpy as np\n",
    "\n",
    "# Fixed point iteration method\n",
    "def FPI(g: callable, x_0: float,  tol: float, max_iter: int = 1000000) -> float:\n",
    "    \"\"\"\n",
    "    Fixed point iteration method\n",
    "    :param g: function to be solved\n",
    "    :param x_0: initial guess\n",
    "    :param tol: tolerance\n",
    "    :param max_iter: maximum number of iterations\n",
    "    :return: solution\n",
    "    \"\"\"\n",
    "    \n",
    "    x = x_0\n",
    "    for i in range(max_iter):\n",
    "        if abs(x - g(x)) < tol:\n",
    "            print(f\"Solution found after {i} iterations.\")\n",
    "            return x\n",
    "        x = g(x)\n",
    "        print(x)\n",
    "    return x"
   ]
  },
  {
   "cell_type": "code",
   "execution_count": 2,
   "metadata": {},
   "outputs": [],
   "source": [
    "g = lambda x: -2 * np.power(10, 0.75)/x + 2 + np.power(10, 0.75)"
   ]
  },
  {
   "cell_type": "code",
   "execution_count": 3,
   "metadata": {},
   "outputs": [
    {
     "name": "stdout",
     "output_type": "stream",
     "text": [
      "18.87023975571047\n",
      "7.0274045816690025\n",
      "6.022989315427093\n",
      "5.75609688874812\n",
      "5.669515198903027\n",
      "5.639676352144745\n",
      "5.629180639684554\n",
      "5.6254623557252454\n",
      "5.62414176227017\n",
      "5.623672317338707\n",
      "5.623505385804827\n",
      "Solution found after 11 iterations.\n"
     ]
    },
    {
     "data": {
      "text/plain": [
       "5.623505385804827"
      ]
     },
     "execution_count": 3,
     "metadata": {},
     "output_type": "execute_result"
    }
   ],
   "source": [
    "FPI(g, -1, 1e-4)"
   ]
  },
  {
   "cell_type": "code",
   "execution_count": 4,
   "metadata": {},
   "outputs": [
    {
     "name": "stdout",
     "output_type": "stream",
     "text": [
      "7.510944986865422\n",
      "6.126021575693029\n",
      "5.78750288742936\n",
      "5.680118065263422\n",
      "5.643379320463477\n",
      "5.630489178374564\n",
      "5.625926684128261\n",
      "5.624306769492997\n",
      "5.623730986204313\n",
      "5.623526249591895\n",
      "Solution found after 10 iterations.\n"
     ]
    },
    {
     "data": {
      "text/plain": [
       "5.623526249591895"
      ]
     },
     "execution_count": 4,
     "metadata": {},
     "output_type": "execute_result"
    }
   ],
   "source": [
    "FPI(g, 100, 1e-4)"
   ]
  }
 ],
 "metadata": {
  "interpreter": {
   "hash": "b89b5cfaba6639976dc87ff2fec6d58faec662063367e2c229c520fe71072417"
  },
  "kernelspec": {
   "display_name": "Python 3.10.1 64-bit",
   "language": "python",
   "name": "python3"
  },
  "language_info": {
   "codemirror_mode": {
    "name": "ipython",
    "version": 3
   },
   "file_extension": ".py",
   "mimetype": "text/x-python",
   "name": "python",
   "nbconvert_exporter": "python",
   "pygments_lexer": "ipython3",
   "version": "3.10.1"
  },
  "orig_nbformat": 4
 },
 "nbformat": 4,
 "nbformat_minor": 2
}
