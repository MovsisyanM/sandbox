{
 "cells": [
  {
   "cell_type": "markdown",
   "metadata": {},
   "source": [
    "# Homework 4\n",
    "###### by Mher Movsisyan\n",
    "---"
   ]
  },
  {
   "cell_type": "markdown",
   "metadata": {},
   "source": [
    "## Problem 1: Q-Q Plot  \n",
    "\n",
    "a. (6 points)  \n",
    "Using the quantiles of order α = 0.2, 0.4 and 0.6, draw the Q-Q Plot for the following Datasets:  \n",
    "`x : −4, 2, 1, 3, 2, −1, 1, 1, 13`<br>`y : 5, 5, 2, −1, −1, 3, 5.`"
   ]
  },
  {
   "cell_type": "markdown",
   "metadata": {},
   "source": [
    "Answer:  \n",
    "$$ Sort(x) = {-4, -1, 1, 1, 1, 2, 2, 3, 13} $$  \n",
    "$$ Sort(y) = {-1, -1, 2, 3, 5, 5, 5} $$  \n",
    "  \n",
    "$$ q_{0.2}^x = x_{(\\left \\lfloor 0.2 * |x| \\right \\rfloor)} = x_{(\\left \\lfloor 0.2 * 9 \\right \\rfloor)} = x_{(\\left \\lfloor 1.8 \\right \\rfloor)} = x_{(1)} = -4 $$"
   ]
  },
  {
   "cell_type": "markdown",
   "metadata": {},
   "source": [
    "$$ q_{0.2}^y = y_{(\\left \\lfloor 0.2 * |y| \\right \\rfloor)} = x_{(\\left \\lfloor 0.2 * 7 \\right \\rfloor)} = y_{(\\left \\lfloor 1.4 \\right \\rfloor)} = y_{(1)} = -1 $$"
   ]
  },
  {
   "cell_type": "markdown",
   "metadata": {},
   "source": [
    "$$ q_{0.4}^x = x_{(\\left \\lfloor 0.4 * |x| \\right \\rfloor)} = x_{(\\left \\lfloor 0.4 * 9 \\right \\rfloor)} = x_{(\\left \\lfloor 3.6 \\right \\rfloor)} = x_{(3)} = 1 $$"
   ]
  },
  {
   "cell_type": "markdown",
   "metadata": {},
   "source": [
    "$$ q_{0.4}^y = y_{(\\left \\lfloor 0.4 * |y| \\right \\rfloor)} = y_{(\\left \\lfloor 0.4 * 7 \\right \\rfloor)} = y_{(\\left \\lfloor 2.8 \\right \\rfloor)} = y_{(2)} = -1 $$"
   ]
  },
  {
   "cell_type": "markdown",
   "metadata": {},
   "source": [
    "$$ q_{0.6}^x = x_{(\\left \\lfloor 0.6 * |x| \\right \\rfloor)} = x_{(\\left \\lfloor 0.6 * 9 \\right \\rfloor)} = x_{(\\left \\lfloor 5.4 \\right \\rfloor)} = x_{(5)} = 1 $$"
   ]
  },
  {
   "cell_type": "markdown",
   "metadata": {},
   "source": [
    "$$ q_{0.6}^y = y_{(\\left \\lfloor 0.6 * |y| \\right \\rfloor)} = y_{(\\left \\lfloor 0.6 * 7 \\right \\rfloor)} = y_{(\\left \\lfloor 4.2 \\right \\rfloor)} = y_{(4)} = 3 $$"
   ]
  },
  {
   "cell_type": "markdown",
   "metadata": {},
   "source": [
    "<img src=\"https://github.com/MovsisyanM/sandbox/blob/main/Statistics/res/hw4p1.JPG?raw=true\"></img>"
   ]
  },
  {
   "cell_type": "markdown",
   "metadata": {},
   "source": [
    "b. (6 points)  \n",
    "Using the Quantiles of order α = 0.2, 0.4 and 0.6, draw the Q-Q Plot of the above x vs the Quantiles of *Unif*[0, 1]."
   ]
  },
  {
   "cell_type": "markdown",
   "metadata": {},
   "source": [
    "Answer:  \n",
    "The theoretical quantiles of `Unif[0, 1]` are `a` for any `a ∈ [0, 1]`  \n",
    "\n",
    "<img src=\"https://github.com/MovsisyanM/sandbox/blob/main/Statistics/res/hw4p2.JPG?raw=true\"></img>"
   ]
  },
  {
   "cell_type": "markdown",
   "metadata": {},
   "source": [
    "## Problem 2: Covariance and Correlation Calculation  \n",
    "a. (9 points)  \n",
    "Assume we have 3 Datasets x, y, z of the same length, and also we know that  \n",
    "$$ sd(x) = 2,\\ sd(y) = sd(z) = 5 $$  \n",
    "$$ cov(x, y) = 0,\\ cov(x, z) = 1,\\ cov(y, z) = -2 $$"
   ]
  },
  {
   "cell_type": "markdown",
   "metadata": {},
   "source": [
    "Calculate:  \n",
    "1. cor(x, z);  \n",
    "2. cov(2x − 3y, x + z);  \n",
    "3. var(x − 3y);  \n",
    "4. (Supplementary) sd(2y + z).  \n",
    "\n",
    "Note: Here again we are using the same denominator for sd, var and cov."
   ]
  },
  {
   "cell_type": "markdown",
   "metadata": {},
   "source": [
    "Answer:  \n",
    "1. $$ cor(x, z) = \\frac {cov(x, z)} {sd(x)sd(z)} = \\frac {1} {2 * 10} = 0.05 $$"
   ]
  },
  {
   "cell_type": "markdown",
   "metadata": {},
   "source": [
    "2. $$ cov(2x − 3y, x + z) = 2cov(x, x + z) - 3cov(y, x + z) = $$\n",
    "$$ = 2cov(x, x) + 2cov(x, z) - 3cov(y, x) - 3cov(y, z) = $$\n",
    "$$ = 2 \\times 2^2 + 2 - 0 + 6 = 16 $$"
   ]
  },
  {
   "cell_type": "markdown",
   "metadata": {},
   "source": [
    "3. $$ var(x − 3y) = cov(x - 3y, x - 3y) = cov(x, x-3y) -3cov(y, x-3y) = $$\n",
    "$$ = cov(x, x) -3cov(x, y) -3(cov(y, x)-3cov(y, y)) = $$\n",
    "$$ = 2^2 -0 -3(0-3 \\times 5^2) = 4 - 3 * -75 = 229 $$"
   ]
  },
  {
   "cell_type": "markdown",
   "metadata": {},
   "source": [
    "b. (8 points)  \n",
    "For a Dataset x, the Standardization of x is defined as\n",
    "$$ z = Standardize(x) = \\frac {x − \\bar x}{sd(x)} $$"
   ]
  },
  {
   "cell_type": "markdown",
   "metadata": {},
   "source": [
    "Prove that  \n",
    "1. If the Dataset z is the Standardization of a Dataset x, then  \n",
    "$$ \\bar z = 0\\ \\ \\ and\\ \\ \\ var(z) = 1 $$"
   ]
  },
  {
   "cell_type": "markdown",
   "metadata": {},
   "source": [
    "Let `m` be the mean of `x`, and `sigma` be the standard deviation of `x`.  \n",
    "Then, skipping this "
   ]
  },
  {
   "cell_type": "markdown",
   "metadata": {},
   "source": [
    "2. (Supplementary) If Datasets z<sub>x</sub> and z<sub>y</sub> are the Standardizations of Datasets x and y, respectively, then  \n",
    "$$ cor(x, y) = cov(z_x, z_y) $$"
   ]
  },
  {
   "cell_type": "markdown",
   "metadata": {},
   "source": [
    "3. (Supplementary) Let z = Standardize(x). Is it true that"
   ]
  },
  {
   "cell_type": "markdown",
   "metadata": {},
   "source": [
    "$$ −1 \\leq z_k \\leq 1\\ \\ \\  for\\ any\\ k?"
   ]
  },
  {
   "cell_type": "markdown",
   "metadata": {},
   "source": [
    "Note: Above you need to take the same denominator when calculating sd, var and cov."
   ]
  },
  {
   "cell_type": "markdown",
   "metadata": {},
   "source": [
    "## Problem 3: Convergence, Explicitly given Sequences  \n",
    "\n",
    "a. (8 points)  \n",
    "Consider the following Sample Space: Ω = {1, 2, 3, 4}, P(ω) = 0.25 for any ω ∈ Ω. We consider the sequence  \n",
    "$$ X_n(w) = \\frac {2 \\times w \\times n + 1}{n + 1} $$"
   ]
  },
  {
   "cell_type": "markdown",
   "metadata": {},
   "source": [
    "Study the convergence of Xn in the a.s., Probability and Distributions sense.  \n",
    "**Note**: Here you are free to use the property that one type of convergence implies the other one."
   ]
  },
  {
   "cell_type": "markdown",
   "metadata": {},
   "source": [
    "Answer:  \n",
    "\n",
    "| w | Xn(w)      | P(Xn(w)) |  \n",
    "| - | ---------- | -------- |  \n",
    "| 1 | 2n+1/(n+1) | 0.25     |  \n",
    "| 2 | 4n+1/(n+1) | 0.25     |  \n",
    "| 3 | 6n+1/(n+1) | 0.25     |  \n",
    "| 4 | 8n+1/(n+1) | 0.25     |  \n",
    "  \n",
    "The table above tends to the table below when `n` tends to infinity.  \n",
    "\n",
    "| lim(w) | lim(Xn(w)) | lim(P(Xn(w))) |  \n",
    "| ------ | ---------- | ------------- |  \n",
    "| 1      | 2          | 0.25          |  \n",
    "| 2      | 4          | 0.25          |  \n",
    "| 3      | 6          | 0.25          |  \n",
    "| 4      | 8          | 0.25          |  \n",
    "\n",
    "$$ X_j \\overset{\\Delta}{=} X_n(1),\\ \\ \\ X_k \\overset{\\Delta}{=} X_n(2) $$ \n",
    "$$ X_j - X_k \\to -2 \\neq 0 $$  \n",
    "Thus, we can't conclude that the sequence converges in probability sense."
   ]
  },
  {
   "cell_type": "markdown",
   "metadata": {},
   "source": []
  },
  {
   "cell_type": "markdown",
   "metadata": {},
   "source": [
    "| w | Xn(w) | P(Xn(w)) |"
   ]
  },
  {
   "cell_type": "markdown",
   "metadata": {},
   "source": [
    "b. (8 points)  \n",
    "Assume Ω = [0, 1], for any [a, b] ⊂ Ω,  \n",
    "$$ P([a, b]) = b − a $$  \n",
    "and assume  \n",
    "$$ X_n(w) = \\left ( w + \\frac {1}{n} \\right )^n,\\ \\ \\ \\ n \\in \\N $$ \n",
    "Study the convergence of this sequence in the a.s., Probability and Distributions sense.  \n",
    "**Note**: Here you are free to use the property that one type of convergence implies the other one."
   ]
  },
  {
   "cell_type": "markdown",
   "metadata": {},
   "source": []
  },
  {
   "cell_type": "markdown",
   "metadata": {},
   "source": [
    "## Problem 4: Convergence, Sequences given by Distributions  "
   ]
  },
  {
   "cell_type": "markdown",
   "metadata": {},
   "source": [
    "a. (9 points)  \n",
    "We consider the following sequence of r.v.s, defined on the same Probability Space:  \n",
    "$$ X_n \\sim Bernoulli \\left( \\frac {n - 1} {n} \\right )\\ \\ \\ \\ n \\in \\N$$"
   ]
  },
  {
   "cell_type": "markdown",
   "metadata": {},
   "source": []
  },
  {
   "cell_type": "markdown",
   "metadata": {},
   "source": [
    "b. (9 points)  \n",
    "We consider the following sequence of r.v.s, defined on the same Probability Space:  \n",
    "$$ X_n \\sim Exp(n),\\ \\ \\ \\ n \\in \\N $$  \n",
    "Check if  \n",
    "$$ X_n \\to X $$  \n",
    "in the Probability, QM and Distributions senses, where  \n",
    "$$ X \\equiv 0 $$  \n",
    "Note: For this example, do not use the property that the convergence in one sense implies the convergence in the other sense."
   ]
  },
  {
   "cell_type": "markdown",
   "metadata": {},
   "source": []
  },
  {
   "cell_type": "markdown",
   "metadata": {},
   "source": [
    "## Problem 5: Q-Q Plot  \n",
    "(R) (5 points)  \n",
    "Generate two random samples of size 1000 from two different Normal Distributions (i.e., \n",
    "from Normal Distributions with different parameters). Merge (concatenate) these samples \n",
    "and plot the QQ-Plot of the obtained Dataset vs the Standard Normal Distribution."
   ]
  },
  {
   "cell_type": "code",
   "execution_count": null,
   "metadata": {},
   "outputs": [],
   "source": []
  },
  {
   "cell_type": "markdown",
   "metadata": {},
   "source": [
    "## Problem 6, Correlation and Covariance\n",
    "(R) (8 points)\n",
    "Here we use the Animals Dataset from the MASS package. If you do not have that package,\n",
    "use install.packages(\"MASS\") to install.\n",
    "The Dataset has two variables: body and brain, measuring the average brain and body\n",
    "weights for 28 species of land animals.\n",
    "\n",
    "- Calculate the Sample Correlation Coefficient between the body and brain weights for all animals. Give also the Scatterplot. \n",
    "- In the list of Animals, we have 3 Jurassic Period animals (3 Dinosaurs). Remove the observations for that Dinosaurs, and calculate the Sample Correlation  coefficient between the body and brain weights for all other animals. Give also the Scatterplot."
   ]
  },
  {
   "cell_type": "code",
   "execution_count": null,
   "metadata": {},
   "outputs": [],
   "source": []
  }
 ],
 "metadata": {
  "kernelspec": {
   "display_name": "R",
   "language": "R",
   "name": "ir"
  },
  "language_info": {
   "name": "R"
  },
  "orig_nbformat": 4
 },
 "nbformat": 4,
 "nbformat_minor": 2
}
