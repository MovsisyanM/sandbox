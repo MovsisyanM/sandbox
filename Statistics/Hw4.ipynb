{
 "cells": [
  {
   "cell_type": "markdown",
   "metadata": {},
   "source": [
    "# Homework 4\n",
    "###### by Mher Movsisyan\n",
    "---"
   ]
  },
  {
   "cell_type": "markdown",
   "metadata": {},
   "source": [
    "## Problem 1: Q-Q Plot  \n",
    "\n",
    "a. (6 points)  \n",
    "Using the quantiles of order α = 0.2, 0.4 and 0.6, draw the Q-Q Plot for the following Datasets:  \n",
    "`x : −4, 2, 1, 3, 2, −1, 1, 1, 13`<br>`y : 5, 5, 2, −1, −1, 3, 5.`"
   ]
  },
  {
   "cell_type": "markdown",
   "metadata": {},
   "source": [
    "Answer:  \n",
    "$$ Sort(x) = {-4, -1, 1, 1, 1, 2, 2, 3, 13} $$  \n",
    "$$ Sort(y) = {-1, -1, 2, 3, 5, 5, 5} $$  \n",
    "  \n",
    "$$ q_{0.2}^x = x_{(\\left \\lfloor 0.2 * |x| \\right \\rfloor)} = x_{(\\left \\lfloor 0.2 * 9 \\right \\rfloor)} = x_{(\\left \\lfloor 1.8 \\right \\rfloor)} = x_{(1)} = -4 $$"
   ]
  },
  {
   "cell_type": "markdown",
   "metadata": {},
   "source": [
    "$$ q_{0.2}^y = y_{(\\left \\lfloor 0.2 * |y| \\right \\rfloor)} = x_{(\\left \\lfloor 0.2 * 7 \\right \\rfloor)} = y_{(\\left \\lfloor 1.4 \\right \\rfloor)} = y_{(1)} = -1 $$"
   ]
  },
  {
   "cell_type": "markdown",
   "metadata": {},
   "source": [
    "$$ q_{0.4}^x = x_{(\\left \\lfloor 0.4 * |x| \\right \\rfloor)} = x_{(\\left \\lfloor 0.4 * 9 \\right \\rfloor)} = x_{(\\left \\lfloor 3.6 \\right \\rfloor)} = x_{(3)} = 1 $$"
   ]
  },
  {
   "cell_type": "markdown",
   "metadata": {},
   "source": [
    "$$ q_{0.4}^y = y_{(\\left \\lfloor 0.4 * |y| \\right \\rfloor)} = y_{(\\left \\lfloor 0.4 * 7 \\right \\rfloor)} = y_{(\\left \\lfloor 2.8 \\right \\rfloor)} = y_{(2)} = -1 $$"
   ]
  },
  {
   "cell_type": "markdown",
   "metadata": {},
   "source": [
    "$$ q_{0.6}^x = x_{(\\left \\lfloor 0.6 * |x| \\right \\rfloor)} = x_{(\\left \\lfloor 0.6 * 9 \\right \\rfloor)} = x_{(\\left \\lfloor 5.4 \\right \\rfloor)} = x_{(5)} = 1 $$"
   ]
  },
  {
   "cell_type": "markdown",
   "metadata": {},
   "source": [
    "$$ q_{0.6}^y = y_{(\\left \\lfloor 0.6 * |y| \\right \\rfloor)} = y_{(\\left \\lfloor 0.6 * 7 \\right \\rfloor)} = y_{(\\left \\lfloor 4.2 \\right \\rfloor)} = y_{(4)} = 3 $$"
   ]
  },
  {
   "cell_type": "markdown",
   "metadata": {},
   "source": [
    "<img src=\"https://github.com/MovsisyanM/sandbox/blob/main/Statistics/res/hw4p1.JPG?raw=true\"></img>"
   ]
  },
  {
   "cell_type": "markdown",
   "metadata": {},
   "source": [
    "b. (6 points)  \n",
    "Using the Quantiles of order α = 0.2, 0.4 and 0.6, draw the Q-Q Plot of the above x vs the Quantiles of *Unif*[0, 1]."
   ]
  },
  {
   "cell_type": "markdown",
   "metadata": {},
   "source": [
    "Answer:  \n",
    "The theoretical quantiles of `Unif[0, 1]` are `a` for any `a ∈ [0, 1]`  \n",
    "\n",
    "<img src=\"https://github.com/MovsisyanM/sandbox/blob/main/Statistics/res/hw4p2.JPG?raw=true\"></img>"
   ]
  },
  {
   "cell_type": "markdown",
   "metadata": {},
   "source": [
    "## Problem 2: Covariance and Correlation Calculation  \n",
    "a. (9 points)  \n",
    "Assume we have 3 Datasets x, y, z of the same length, and also we know that  \n",
    "$$ sd(x) = 2,\\ sd(y) = sd(z) = 5 $$  \n",
    "$$ cov(x, y) = 0,\\ cov(x, z) = 1,\\ cov(y, z) = -2 $$"
   ]
  },
  {
   "cell_type": "markdown",
   "metadata": {},
   "source": [
    "Calculate:  \n",
    "1. cor(x, z);  \n",
    "2. cov(2x − 3y, x + z);  \n",
    "3. var(x − 3y);  \n",
    "4. (Supplementary) sd(2y + z).  \n",
    "\n",
    "Note: Here again we are using the same denominator for sd, var and cov."
   ]
  },
  {
   "cell_type": "markdown",
   "metadata": {},
   "source": [
    "Answer:  \n",
    "1. $$ cor(x, z) = \\frac {cov(x, z)} {sd(x)sd(z)} = \\frac {1} {2 * 10} = 0.05 $$"
   ]
  },
  {
   "cell_type": "markdown",
   "metadata": {},
   "source": [
    "2. $$ cov(2x − 3y, x + z) = 2cov(x, x + z) - 3cov(y, x + z) = $$\n",
    "$$ = 2cov(x, x) + 2cov(x, z) - 3cov(y, x) - 3cov(y, z) = $$\n",
    "$$ = 2 \\times 2^2 + 2 - 0 + 6 = 16 $$"
   ]
  },
  {
   "cell_type": "markdown",
   "metadata": {},
   "source": [
    "3. $$ var(x − 3y) = cov(x - 3y, x - 3y) = cov(x, x-3y) -3cov(y, x-3y) = $$\n",
    "$$ = cov(x, x) -3cov(x, y) -3(cov(y, x)-3cov(y, y)) = $$\n",
    "$$ = 2^2 -0 -3(0-3 \\times 5^2) = 4 - 3 * -75 = 229 $$"
   ]
  },
  {
   "cell_type": "markdown",
   "metadata": {},
   "source": [
    "b. (8 points)  \n",
    "For a Dataset x, the Standardization of x is defined as\n",
    "$$ z = Standardize(x) = \\frac {x − \\bar x}{sd(x)} $$"
   ]
  },
  {
   "cell_type": "markdown",
   "metadata": {},
   "source": [
    "Prove that  \n",
    "1. If the Dataset z is the Standardization of a Dataset x, then  \n",
    "$$ \\bar z = 0\\ \\ \\ and\\ \\ \\ var(z) = 1 $$"
   ]
  },
  {
   "cell_type": "markdown",
   "metadata": {},
   "source": [
    "Answer:  \n",
    "$$ \\bar z = E\\left (\\frac {x - \\bar x} {sd(x)}\\right ) = E\\left (\\frac {x}{sd(x)} - \\frac {\\bar x} {sd(x)} \\right ) = $$  \n",
    "$$ = \\frac {E\\left (x\\right )} {sd(x)} - \\frac {\\bar x} {sd(x)} = \\frac {\\bar x} {sd(x)} - \\frac {\\bar x} {sd(x)} = 0 $$"
   ]
  },
  {
   "cell_type": "markdown",
   "metadata": {},
   "source": [
    "$$ var(z) = var(\\frac {x - \\bar x} {sd(x)}) = var(\\frac {x}{sd(x)} - \\frac {\\bar x} {sd(x)}) = $$  \n",
    "$$ = \\frac {var(x)}{sd(x)^2} = 1 $$"
   ]
  },
  {
   "cell_type": "markdown",
   "metadata": {},
   "source": [
    "2. (Supplementary) If Datasets z<sub>x</sub> and z<sub>y</sub> are the Standardizations of Datasets x and y, respectively, then  \n",
    "$$ cor(x, y) = cov(z_x, z_y) $$"
   ]
  },
  {
   "cell_type": "markdown",
   "metadata": {},
   "source": [
    "3. (Supplementary) Let z = Standardize(x). Is it true that"
   ]
  },
  {
   "cell_type": "markdown",
   "metadata": {},
   "source": [
    "$$ −1 \\leq z_k \\leq 1\\ \\ \\  for\\ any\\ k?"
   ]
  },
  {
   "cell_type": "markdown",
   "metadata": {},
   "source": [
    "Note: Above you need to take the same denominator when calculating sd, var and cov."
   ]
  },
  {
   "cell_type": "markdown",
   "metadata": {},
   "source": [
    "## Problem 3: Convergence, Explicitly given Sequences  \n",
    "\n",
    "a. (8 points)  \n",
    "Consider the following Sample Space: Ω = {1, 2, 3, 4}, P(ω) = 0.25 for any ω ∈ Ω. We consider the sequence  \n",
    "$$ X_n(w) = \\frac {2 \\times w \\times n + 1}{n + 1} $$"
   ]
  },
  {
   "cell_type": "markdown",
   "metadata": {},
   "source": [
    "Study the convergence of Xn in the a.s., Probability and Distributions sense.  \n",
    "**Note**: Here you are free to use the property that one type of convergence implies the other one."
   ]
  },
  {
   "cell_type": "markdown",
   "metadata": {},
   "source": [
    "Answer:  \n",
    "\n",
    "| w | Xn(w)      | P(Xn(w)) |  \n",
    "| - | ---------- | -------- |  \n",
    "| 1 | 2n+1/(n+1) | 0.25     |  \n",
    "| 2 | 4n+1/(n+1) | 0.25     |  \n",
    "| 3 | 6n+1/(n+1) | 0.25     |  \n",
    "| 4 | 8n+1/(n+1) | 0.25     |  \n",
    "  \n",
    "The table above tends to the table below when `n` tends to infinity.  \n",
    "\n",
    "| lim(w) | lim(Xn(w)) | lim(P(Xn(w))) |  \n",
    "| ------ | ---------- | ------------- |  \n",
    "| 1      | 2          | 0.25          |  \n",
    "| 2      | 4          | 0.25          |  \n",
    "| 3      | 6          | 0.25          |  \n",
    "| 4      | 8          | 0.25          |  \n",
    "\n",
    "$$ X_n(w) = \\frac {n(2w + \\frac {1} {n})} {n(1+\\frac {1} {n})} \\to 2w \\Rightarrow X_n\\ converges\\ in\\ a.s\\ \\Rightarrow $$\n",
    "$$ \\Rightarrow X_n\\ converges\\ in\\ Probability\\ and\\ Distributions\\ sense.\\ $$"
   ]
  },
  {
   "cell_type": "markdown",
   "metadata": {},
   "source": [
    "b. (8 points)  \n",
    "Assume Ω = [0, 1], for any [a, b] ⊂ Ω,  \n",
    "$$ P([a, b]) = b − a $$  \n",
    "and assume  \n",
    "$$ X_n(w) = \\left ( w + \\frac {1}{n} \\right )^n,\\ \\ \\ \\ n \\in \\N $$ \n",
    "Study the convergence of this sequence in the a.s., Probability and Distributions sense.  \n",
    "**Note**: Here you are free to use the property that one type of convergence implies the other one."
   ]
  },
  {
   "cell_type": "markdown",
   "metadata": {},
   "source": [
    "Answer:  \n",
    "$$ \\sqrt[n]{X_n(w)} = \\sqrt[n]{\\left ( w + \\frac {1}{n} \\right )^n} = w + \\frac {1}{n} \\to w $$\n",
    "$$ \\Rightarrow X_n\\ \\to w^n \\to 0 \\Rightarrow Converges\\ in\\ a.s. \\Rightarrow $$\n",
    "$$ \\Rightarrow Converges\\ in\\ Probability\\ and\\ Distributions\\ sense. $$"
   ]
  },
  {
   "cell_type": "markdown",
   "metadata": {},
   "source": [
    "## Problem 4: Convergence, Sequences given by Distributions  "
   ]
  },
  {
   "cell_type": "markdown",
   "metadata": {},
   "source": [
    "a. (9 points)  \n",
    "We consider the following sequence of r.v.s, defined on the same Probability Space:  \n",
    "$$ X_n \\sim Bernoulli \\left( \\frac {n - 1} {n} \\right )\\ \\ \\ \\ n \\in \\N$$"
   ]
  },
  {
   "cell_type": "markdown",
   "metadata": {},
   "source": [
    "Check if\n",
    "$$ X_n \\to X $$\n",
    "in the Probability, QM and Distributions senses, where\n",
    "$$ X \\equiv 1 $$\n",
    "Note: For this example, do not use the property that the convergence in one sense implies\n",
    "the convergence in the other sense."
   ]
  },
  {
   "cell_type": "markdown",
   "metadata": {},
   "source": [
    "Answer:  \n",
    "\n",
    "| Xn    | 0             | 1         |  \n",
    "| ----- | ------------- | --------- |  \n",
    "| P(Xn) | 1 - (n - 1)/n | (n - 1)/n |  \n"
   ]
  },
  {
   "cell_type": "markdown",
   "metadata": {},
   "source": [
    "$$ |X_n - X| \\geq \\epsilon\\ when\\ X_n = 0 $$\n",
    "$$ \\Rightarrow P(|X_n - X| \\geq \\epsilon) = P(X_n = 0) = 1 - (n - 1)/n = 1/n $$"
   ]
  },
  {
   "cell_type": "markdown",
   "metadata": {},
   "source": [
    "$$ 1/n \\to 0 \\Rightarrow Converges\\ in\\ probability\\ sense $$"
   ]
  },
  {
   "cell_type": "markdown",
   "metadata": {},
   "source": [
    "$$ E((X_n - X)^2) \\to E(0^2) = 0 \\Rightarrow converges\\ in\\ QM $$"
   ]
  },
  {
   "cell_type": "markdown",
   "metadata": {},
   "source": [
    "The cdf tends to 0 on the interval [0, 1) when n tends to infinity. The cdf tends to 1 on the interval [1, infinity) when n tends to infinity. Thus, it converges in distributions sense."
   ]
  },
  {
   "cell_type": "markdown",
   "metadata": {},
   "source": [
    "b. (9 points)  \n",
    "We consider the following sequence of r.v.s, defined on the same Probability Space:  \n",
    "$$ X_n \\sim Exp(n),\\ \\ \\ \\ n \\in \\N $$  \n",
    "Check if  \n",
    "$$ X_n \\to X $$  \n",
    "in the Probability, QM and Distributions senses, where  \n",
    "$$ X \\equiv 0 $$  \n",
    "Note: For this example, do not use the property that the convergence in one sense implies the convergence in the other sense."
   ]
  },
  {
   "cell_type": "markdown",
   "metadata": {},
   "source": [
    "Answer:  \n",
    "$$ Exp(n) = \\lambda e^{-\\lambda n} $$"
   ]
  },
  {
   "cell_type": "markdown",
   "metadata": {},
   "source": [
    "$$ P(|X_n - X| > \\epsilon) = P(\\lambda e^{-\\lambda n} > \\epsilon) \\to 0\\ when\\ n\\ \\to \\infty \\Rightarrow $$\n",
    "$$ \\Rightarrow Converges\\ in\\ Probability $$"
   ]
  },
  {
   "cell_type": "markdown",
   "metadata": {},
   "source": [
    "$$ E((X_n - X)^2) \\to E(0^2) = 0 \\Rightarrow converges\\ in\\ QM $$"
   ]
  },
  {
   "cell_type": "markdown",
   "metadata": {},
   "source": [
    "## Problem 5: Q-Q Plot  \n",
    "(R) (5 points)  \n",
    "Generate two random samples of size 1000 from two different Normal Distributions (i.e., \n",
    "from Normal Distributions with different parameters). Merge (concatenate) these samples \n",
    "and plot the QQ-Plot of the obtained Dataset vs the Standard Normal Distribution."
   ]
  },
  {
   "cell_type": "code",
   "execution_count": 13,
   "metadata": {},
   "outputs": [
    {
     "data": {
      "image/png": "[encoded data removed]",
      "text/plain": [
       "Plot with title \"Normal Q-Q Plot\""
      ]
     },
     "metadata": {
      "image/png": {
       "height": 420,
       "width": 420
      }
     },
     "output_type": "display_data"
    }
   ],
   "source": [
    "set.seed(172)\n",
    "s1 <- rnorm(1000, mean = 5, sd = 2)\n",
    "s2 <- rnorm(1000, mean = 3, sd = 1)\n",
    "\n",
    "catted <- sort(unlist(c(s1, s2)))\n",
    "\n",
    "qqnorm(catted)"
   ]
  },
  {
   "cell_type": "markdown",
   "metadata": {},
   "source": [
    "## Problem 6, Correlation and Covariance\n",
    "(R) (8 points)\n",
    "Here we use the Animals Dataset from the MASS package. If you do not have that package,\n",
    "use install.packages(\"MASS\") to install.\n",
    "The Dataset has two variables: body and brain, measuring the average brain and body\n",
    "weights for 28 species of land animals.\n",
    "\n",
    "- Calculate the Sample Correlation Coefficient between the body and brain weights for all animals. Give also the Scatterplot. \n",
    "- In the list of Animals, we have 3 Jurassic Period animals (3 Dinosaurs). Remove the observations for that Dinosaurs, and calculate the Sample Correlation  coefficient between the body and brain weights for all other animals. Give also the Scatterplot."
   ]
  },
  {
   "cell_type": "code",
   "execution_count": 29,
   "metadata": {},
   "outputs": [
    {
     "data": {
      "text/html": [
       "<table class=\"dataframe\">\n",
       "<caption>A data.frame: 28 × 2</caption>\n",
       "<thead>\n",
       "\t<tr><th></th><th scope=col>body</th><th scope=col>brain</th></tr>\n",
       "\t<tr><th></th><th scope=col>&lt;dbl&gt;</th><th scope=col>&lt;dbl&gt;</th></tr>\n",
       "</thead>\n",
       "<tbody>\n",
       "\t<tr><th scope=row>Mountain beaver</th><td>    1.350</td><td>   8.1</td></tr>\n",
       "\t<tr><th scope=row>Cow</th><td>  465.000</td><td> 423.0</td></tr>\n",
       "\t<tr><th scope=row>Grey wolf</th><td>   36.330</td><td> 119.5</td></tr>\n",
       "\t<tr><th scope=row>Goat</th><td>   27.660</td><td> 115.0</td></tr>\n",
       "\t<tr><th scope=row>Guinea pig</th><td>    1.040</td><td>   5.5</td></tr>\n",
       "\t<tr><th scope=row>Dipliodocus</th><td>11700.000</td><td>  50.0</td></tr>\n",
       "\t<tr><th scope=row>Asian elephant</th><td> 2547.000</td><td>4603.0</td></tr>\n",
       "\t<tr><th scope=row>Donkey</th><td>  187.100</td><td> 419.0</td></tr>\n",
       "\t<tr><th scope=row>Horse</th><td>  521.000</td><td> 655.0</td></tr>\n",
       "\t<tr><th scope=row>Potar monkey</th><td>   10.000</td><td> 115.0</td></tr>\n",
       "\t<tr><th scope=row>Cat</th><td>    3.300</td><td>  25.6</td></tr>\n",
       "\t<tr><th scope=row>Giraffe</th><td>  529.000</td><td> 680.0</td></tr>\n",
       "\t<tr><th scope=row>Gorilla</th><td>  207.000</td><td> 406.0</td></tr>\n",
       "\t<tr><th scope=row>Human</th><td>   62.000</td><td>1320.0</td></tr>\n",
       "\t<tr><th scope=row>African elephant</th><td> 6654.000</td><td>5712.0</td></tr>\n",
       "\t<tr><th scope=row>Triceratops</th><td> 9400.000</td><td>  70.0</td></tr>\n",
       "\t<tr><th scope=row>Rhesus monkey</th><td>    6.800</td><td> 179.0</td></tr>\n",
       "\t<tr><th scope=row>Kangaroo</th><td>   35.000</td><td>  56.0</td></tr>\n",
       "\t<tr><th scope=row>Golden hamster</th><td>    0.120</td><td>   1.0</td></tr>\n",
       "\t<tr><th scope=row>Mouse</th><td>    0.023</td><td>   0.4</td></tr>\n",
       "\t<tr><th scope=row>Rabbit</th><td>    2.500</td><td>  12.1</td></tr>\n",
       "\t<tr><th scope=row>Sheep</th><td>   55.500</td><td> 175.0</td></tr>\n",
       "\t<tr><th scope=row>Jaguar</th><td>  100.000</td><td> 157.0</td></tr>\n",
       "\t<tr><th scope=row>Chimpanzee</th><td>   52.160</td><td> 440.0</td></tr>\n",
       "\t<tr><th scope=row>Rat</th><td>    0.280</td><td>   1.9</td></tr>\n",
       "\t<tr><th scope=row>Brachiosaurus</th><td>87000.000</td><td> 154.5</td></tr>\n",
       "\t<tr><th scope=row>Mole</th><td>    0.122</td><td>   3.0</td></tr>\n",
       "\t<tr><th scope=row>Pig</th><td>  192.000</td><td> 180.0</td></tr>\n",
       "</tbody>\n",
       "</table>\n"
      ],
      "text/latex": [
       "A data.frame: 28 × 2\n",
       "\\begin{tabular}{r|ll}\n",
       "  & body & brain\\\\\n",
       "  & <dbl> & <dbl>\\\\\n",
       "\\hline\n",
       "\tMountain beaver &     1.350 &    8.1\\\\\n",
       "\tCow &   465.000 &  423.0\\\\\n",
       "\tGrey wolf &    36.330 &  119.5\\\\\n",
       "\tGoat &    27.660 &  115.0\\\\\n",
       "\tGuinea pig &     1.040 &    5.5\\\\\n",
       "\tDipliodocus & 11700.000 &   50.0\\\\\n",
       "\tAsian elephant &  2547.000 & 4603.0\\\\\n",
       "\tDonkey &   187.100 &  419.0\\\\\n",
       "\tHorse &   521.000 &  655.0\\\\\n",
       "\tPotar monkey &    10.000 &  115.0\\\\\n",
       "\tCat &     3.300 &   25.6\\\\\n",
       "\tGiraffe &   529.000 &  680.0\\\\\n",
       "\tGorilla &   207.000 &  406.0\\\\\n",
       "\tHuman &    62.000 & 1320.0\\\\\n",
       "\tAfrican elephant &  6654.000 & 5712.0\\\\\n",
       "\tTriceratops &  9400.000 &   70.0\\\\\n",
       "\tRhesus monkey &     6.800 &  179.0\\\\\n",
       "\tKangaroo &    35.000 &   56.0\\\\\n",
       "\tGolden hamster &     0.120 &    1.0\\\\\n",
       "\tMouse &     0.023 &    0.4\\\\\n",
       "\tRabbit &     2.500 &   12.1\\\\\n",
       "\tSheep &    55.500 &  175.0\\\\\n",
       "\tJaguar &   100.000 &  157.0\\\\\n",
       "\tChimpanzee &    52.160 &  440.0\\\\\n",
       "\tRat &     0.280 &    1.9\\\\\n",
       "\tBrachiosaurus & 87000.000 &  154.5\\\\\n",
       "\tMole &     0.122 &    3.0\\\\\n",
       "\tPig &   192.000 &  180.0\\\\\n",
       "\\end{tabular}\n"
      ],
      "text/markdown": [
       "\n",
       "A data.frame: 28 × 2\n",
       "\n",
       "| <!--/--> | body &lt;dbl&gt; | brain &lt;dbl&gt; |\n",
       "|---|---|---|\n",
       "| Mountain beaver |     1.350 |    8.1 |\n",
       "| Cow |   465.000 |  423.0 |\n",
       "| Grey wolf |    36.330 |  119.5 |\n",
       "| Goat |    27.660 |  115.0 |\n",
       "| Guinea pig |     1.040 |    5.5 |\n",
       "| Dipliodocus | 11700.000 |   50.0 |\n",
       "| Asian elephant |  2547.000 | 4603.0 |\n",
       "| Donkey |   187.100 |  419.0 |\n",
       "| Horse |   521.000 |  655.0 |\n",
       "| Potar monkey |    10.000 |  115.0 |\n",
       "| Cat |     3.300 |   25.6 |\n",
       "| Giraffe |   529.000 |  680.0 |\n",
       "| Gorilla |   207.000 |  406.0 |\n",
       "| Human |    62.000 | 1320.0 |\n",
       "| African elephant |  6654.000 | 5712.0 |\n",
       "| Triceratops |  9400.000 |   70.0 |\n",
       "| Rhesus monkey |     6.800 |  179.0 |\n",
       "| Kangaroo |    35.000 |   56.0 |\n",
       "| Golden hamster |     0.120 |    1.0 |\n",
       "| Mouse |     0.023 |    0.4 |\n",
       "| Rabbit |     2.500 |   12.1 |\n",
       "| Sheep |    55.500 |  175.0 |\n",
       "| Jaguar |   100.000 |  157.0 |\n",
       "| Chimpanzee |    52.160 |  440.0 |\n",
       "| Rat |     0.280 |    1.9 |\n",
       "| Brachiosaurus | 87000.000 |  154.5 |\n",
       "| Mole |     0.122 |    3.0 |\n",
       "| Pig |   192.000 |  180.0 |\n",
       "\n"
      ],
      "text/plain": [
       "                 body      brain \n",
       "Mountain beaver      1.350    8.1\n",
       "Cow                465.000  423.0\n",
       "Grey wolf           36.330  119.5\n",
       "Goat                27.660  115.0\n",
       "Guinea pig           1.040    5.5\n",
       "Dipliodocus      11700.000   50.0\n",
       "Asian elephant    2547.000 4603.0\n",
       "Donkey             187.100  419.0\n",
       "Horse              521.000  655.0\n",
       "Potar monkey        10.000  115.0\n",
       "Cat                  3.300   25.6\n",
       "Giraffe            529.000  680.0\n",
       "Gorilla            207.000  406.0\n",
       "Human               62.000 1320.0\n",
       "African elephant  6654.000 5712.0\n",
       "Triceratops       9400.000   70.0\n",
       "Rhesus monkey        6.800  179.0\n",
       "Kangaroo            35.000   56.0\n",
       "Golden hamster       0.120    1.0\n",
       "Mouse                0.023    0.4\n",
       "Rabbit               2.500   12.1\n",
       "Sheep               55.500  175.0\n",
       "Jaguar             100.000  157.0\n",
       "Chimpanzee          52.160  440.0\n",
       "Rat                  0.280    1.9\n",
       "Brachiosaurus    87000.000  154.5\n",
       "Mole                 0.122    3.0\n",
       "Pig                192.000  180.0"
      ]
     },
     "metadata": {},
     "output_type": "display_data"
    }
   ],
   "source": [
    "animals <- read.csv(\"res/animals.csv\")\n",
    "animals"
   ]
  },
  {
   "cell_type": "code",
   "execution_count": 31,
   "metadata": {},
   "outputs": [
    {
     "data": {
      "text/html": [
       "-0.00534116256125113"
      ],
      "text/latex": [
       "-0.00534116256125113"
      ],
      "text/markdown": [
       "-0.00534116256125113"
      ],
      "text/plain": [
       "[1] -0.005341163"
      ]
     },
     "metadata": {},
     "output_type": "display_data"
    }
   ],
   "source": [
    "cor(animals$body, animals$brain)"
   ]
  },
  {
   "cell_type": "code",
   "execution_count": 35,
   "metadata": {},
   "outputs": [
    {
     "data": {
      "image/png": "[encoded data removed]",
      "text/plain": [
       "plot without title"
      ]
     },
     "metadata": {
      "image/png": {
       "height": 420,
       "width": 420
      }
     },
     "output_type": "display_data"
    }
   ],
   "source": [
    "plot(animals$brain, animals$body)"
   ]
  },
  {
   "cell_type": "code",
   "execution_count": 79,
   "metadata": {},
   "outputs": [
    {
     "data": {
      "text/html": [
       "0.931850176061753"
      ],
      "text/latex": [
       "0.931850176061753"
      ],
      "text/markdown": [
       "0.931850176061753"
      ],
      "text/plain": [
       "[1] 0.9318502"
      ]
     },
     "metadata": {},
     "output_type": "display_data"
    }
   ],
   "source": [
    "alive <- animals[!(row.names(animals) %in% c(\"Triceratops\", \"Dipliodocus\", \"Brachiosaurus\")), ]\n",
    "\n",
    "cor(alive$body, alive$brain)"
   ]
  },
  {
   "cell_type": "code",
   "execution_count": 80,
   "metadata": {},
   "outputs": [
    {
     "data": {
      "image/png": "[encoded data removed]",
      "text/plain": [
       "plot without title"
      ]
     },
     "metadata": {
      "image/png": {
       "height": 420,
       "width": 420
      }
     },
     "output_type": "display_data"
    }
   ],
   "source": [
    "plot(alive$brain, alive$body)"
   ]
  }
 ],
 "metadata": {
  "kernelspec": {
   "display_name": "R",
   "language": "R",
   "name": "ir"
  },
  "language_info": {
   "codemirror_mode": "r",
   "file_extension": ".r",
   "mimetype": "text/x-r-source",
   "name": "R",
   "pygments_lexer": "r",
   "version": "4.1.2"
  },
  "orig_nbformat": 4
 },
 "nbformat": 4,
 "nbformat_minor": 2
}
