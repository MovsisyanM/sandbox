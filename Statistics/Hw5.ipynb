{
 "cells": [
  {
   "cell_type": "markdown",
   "metadata": {},
   "source": [
    "# Homework 5\n",
    "###### by Mher Movsisyan\n",
    "---"
   ]
  },
  {
   "cell_type": "markdown",
   "metadata": {},
   "source": [
    "### Problem 1: Statistical Models, Estimators and Estimates  \n",
    "a. (15 points)  \n",
    "Write Statistical Models for the following studies, describe the Statistical Problem you want\n",
    "to solve (i.e., describe the Parameter(s) you want to Estimate, and based on what you will\n",
    "Estimate). Give 2 different Estimators for your Parameters. So you need to give:  \n",
    "- A Parametric Family of Distributions, with indication of the Parameter Set;\n",
    "- Description of the Random Sample;\n",
    "- What is the Problem you want to solve;\n",
    "- The Method of your Solution, i.e., using which Estimators you will use.  \n",
    "\n",
    "Give also some reasoning behind your choice. Note that here, at this stage, it is not necessary\n",
    "to give some very nice Estimators, just give some Estimators.\n",
    "1. We want to study (Model) the number of AUA Cafeteria visitors during the 12PM-1PM period. We want to use 14-day information to build the Model.\n",
    "2. We want to Model how much money a person is spending daily in our AUA Cafeteria. We want to ask 300 persons to obtain the Model.\n",
    "3. We want to see which percentage of AUA Cafeteria visitors are vegetarians. We want to ask 100 persons to get the Model.\n",
    "4. We want to model the time between two Khachapuri orders in our AUA Cafeteria. We will use 50 observations of “time-to-the next Khachapuri order”."
   ]
  },
  {
   "cell_type": "markdown",
   "metadata": {},
   "source": [
    "Answer:  \n",
    "1. Poisson distribution would be best for this problem. Our theta will be lambda, which we will estimate by the mean of the observations.\n",
    "2. Normal distribution would be best for this problem. Our theta will be mu and sigma, which we will estimate by the mean and standard deviation of the observations (n - 1 in the denominator).\n",
    "3. A binomial distribution would be best for this problem. Our theta will be p, which we will estimate by the proportion of observations that are 1.\n",
    "4. An exponential distribution would be best for this problem. Our theta will be 1/lambda, which we will estimate by the mean of the observations."
   ]
  },
  {
   "cell_type": "markdown",
   "metadata": {},
   "source": [
    "b. (10 points)  \n",
    "We consider the following Problem: We have the observation  \n",
    "`3, 2, 0, 1, 2, 1, 3, 4, 5, 1, 0, 1`  \n",
    "coming, supposedly, from the Poisson Distribution, and we want to Estimate the Parameter\n",
    "of our Poisson Distribution.  \n",
    "- Build the Model for this Problem, with a Random Sample;\n",
    "- use the Sample Mean as an Estimator for the Parameter;\n",
    "- Calculate the Estimate of the Parameter."
   ]
  },
  {
   "cell_type": "markdown",
   "metadata": {},
   "source": [
    "Answer:  \n",
    "$$ \\hat{\\lambda} = \\frac{X_1 + X_2 + ... + X_n}{n} $$\n",
    "$$ \\hat{\\lambda} = \\frac{3 + 2 + 0 + 1 + 2 + 1 + 3 + 4 + 5 + 1 + 0 + 1}{12} = \\frac{23}{12} $$"
   ]
  },
  {
   "cell_type": "markdown",
   "metadata": {},
   "source": [
    "c. (15 points)  \n",
    "We consider the Problem of Estimation of the Parameter p for the Geometric Distribution\n",
    "using the Random Sample\n",
    "$$ X_1, X_2, ..., X_n ∼ Geom(p). $$\n",
    "Which one of the followings are Estimators for p:\n",
    "$$ \\hat {p_1} = X_2 + X_4 $$  \n",
    "$$ \\hat {p_2} = \\frac{X_1 + X_2 + ... + X_n}{n} $$\n",
    "$$ \\hat {p_3} = \\frac{1}{3} $$\n",
    "$$ \\hat {p_4} = \\frac{p + X_n}{2} $$\n",
    "$$ \\hat {p_5} = 1000 - X_n $$\n",
    "$$ \\hat {p_6} = \\frac{X_{(1)} + 2}{X_{(n)} + 3} $$\n",
    "$$ \\hat {p_7} = Median(X_{1}, X_{2}, ..., X_{n}) $$"
   ]
  },
  {
   "cell_type": "markdown",
   "metadata": {},
   "source": [
    "For each of the Estimators, calculate the Estimate for p, if we have the following observation\n",
    "(n = 4):\n",
    "`3, 5, 1, 1`"
   ]
  },
  {
   "cell_type": "markdown",
   "metadata": {},
   "source": [
    "$$ \\hat {p_1} = X_2 + X_4 = 5 + 1 = 6 $$\n",
    "$$ \\hat {p_2} = \\frac{X_1 + X_2 + ... + X_n}{n} = \\frac{3 + 5 + 1 + 1}{4} = \\frac{10}{4} = 2.5 $$\n",
    "$$ \\hat {p_3} = \\frac{1}{3} $$\n",
    "$$ \\hat {p_4} = \\frac{p + X_n}{2} = \\frac{p + 1}{2} $$\n",
    "$$ \\hat {p_5} = 1000 - X_n = 1000 - 1 = 999 $$\n",
    "$$ \\hat {p_6} = \\frac{X_{(1)} + 2}{X_{(n)} + 3} = \\frac{3 + 2}{1 + 3} = \\frac{5}{4} $$\n",
    "$$ \\hat {p_7} = Median(X_{1}, X_{2}, ..., X_{n}) = Median(3, 5, 1, 1) = 2 $$"
   ]
  },
  {
   "cell_type": "markdown",
   "metadata": {},
   "source": [
    "### Problem 2: MSE and Comparison of Estimators  \n",
    "a. (20 points)  \n",
    "We consider a Random Sample\n",
    "$$ X_1, X_2, ..., X_{150} ∼ Bernoulli(p) $$\n",
    "Find the Risk of the following Estimators:\n",
    "$$ \\hat {p}_1 = \\frac{X_1 + X_2 + X_3 + X_4}{6} $$\n",
    "$$ \\hat {p}_2 = \\bar {X}_{150} $$\n",
    "$$ \\hat {p}_3 = \\frac{e^{X_1} + e^{X_2} + ... + e^{X_{150}}}{150e} $$"
   ]
  },
  {
   "cell_type": "markdown",
   "metadata": {},
   "source": [
    "Answer:  \n",
    "$$ E((\\hat p_1 - p)^2) = Var(\\frac{4p}{6} - p) + E(\\frac{4p}{6} - p)^2 = -\\frac{p^2}{9} $$\n",
    "$$ E((\\hat p_2 - p)^2) = Var(p - p) + E(p - p)^2 = 0 $$"
   ]
  },
  {
   "cell_type": "markdown",
   "metadata": {},
   "source": [
    "b. (20 points)  \n",
    "Assume we use the Random Sample\n",
    "$$ X_1, X_2, ..., X_n ∼ Pois(λ) $$\n",
    "to estimate the unknown Parameter λ > 0.\n",
    "To that end, we consider the following Estimator:\n",
    "$$ \\hat \\lambda = \\frac {X_1 + 2X_2 + ... + nX_n}{1 + 2 + ... + n} $$\n",
    "Calculate the Risk (MSE) when estimating λ using ^λ"
   ]
  },
  {
   "cell_type": "markdown",
   "metadata": {},
   "source": [
    "$$ E((\\hat \\lambda - \\lambda)^2) = E((\\frac {\\lambda + 2\\lambda + ... + n\\lambda}{1 + 2 + ... + n} - \\lambda)^2) = 0 $$"
   ]
  },
  {
   "cell_type": "markdown",
   "metadata": {},
   "source": [
    "c. (20 points)  \n",
    "Let X1, X2, ..., Xn be IID from a Family of Distributions with unknown Mean μ and known\n",
    "Variance σ<sup>2</sup>. We want to estimate μ, based on the observation from X1, ..., Xn.\n",
    "1. To estimate μ, we consider two Estimators:\n",
    "$$ \\hat {μ}_1 = \\frac{3X_1 + X_n}{4}\\ \\ \\ \\ \\ and\\ \\ \\ \\ \\ \\frac{X_1 + 6X_n}{7} $$\n",
    "Choose the preferable one from these two"
   ]
  },
  {
   "cell_type": "markdown",
   "metadata": {},
   "source": [
    "Answer:  \n",
    "I choose the first one."
   ]
  },
  {
   "cell_type": "markdown",
   "metadata": {},
   "source": [
    "2. Among all Estimators of the form\n",
    "$$ \\hat {μ}_a = aX_1 + (1 - a)X_n\\ \\ \\ a \\in [0,\\ 1] $$\n",
    "find the one with the minimal Risk."
   ]
  },
  {
   "cell_type": "markdown",
   "metadata": {},
   "source": [
    "a = 0.5"
   ]
  }
 ],
 "metadata": {
  "interpreter": {
   "hash": "ed5d376fdf4360769efde4162b1ec80f21d06d053258828097f7b623859dcd46"
  },
  "kernelspec": {
   "display_name": "R",
   "language": "python",
   "name": "python3"
  },
  "language_info": {
   "codemirror_mode": {
    "name": "ipython",
    "version": 3
   },
   "file_extension": ".py",
   "mimetype": "text/x-python",
   "name": "python",
   "nbconvert_exporter": "python",
   "pygments_lexer": "ipython3",
   "version": "3.6.3"
  },
  "orig_nbformat": 4
 },
 "nbformat": 4,
 "nbformat_minor": 2
}
