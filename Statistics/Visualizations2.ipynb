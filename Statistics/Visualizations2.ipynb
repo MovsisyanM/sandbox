{
 "cells": [
  {
   "cell_type": "markdown",
   "metadata": {},
   "source": [
    "## Histograms, Scatterplots, Numerical Summaries for the Central Tendency"
   ]
  },
  {
   "cell_type": "markdown",
   "metadata": {},
   "source": [
    "### Continuing on histograms\n",
    "\n",
    "Barplots for discrete or categorical vars  \n",
    "Histograms for continuous variables  \n",
    "  \n",
    "In barplots, bar width doesnt matter  \n",
    "In histograms the bars have no gaps  "
   ]
  },
  {
   "cell_type": "markdown",
   "metadata": {},
   "source": [
    "### Scatterplots"
   ]
  },
  {
   "cell_type": "code",
   "execution_count": 1,
   "metadata": {},
   "outputs": [
    {
     "data": {
      "image/png": "[encoded data removed]",
      "text/plain": [
       "plot without title"
      ]
     },
     "metadata": {
      "image/png": {
       "height": 420,
       "width": 420
      }
     },
     "output_type": "display_data"
    }
   ],
   "source": [
    "plot(mtcars$hp, mtcars$disp, col=\"blue\")"
   ]
  },
  {
   "cell_type": "code",
   "execution_count": 2,
   "metadata": {},
   "outputs": [
    {
     "name": "stdout",
     "output_type": "stream",
     "text": [
      "'data.frame':\t32 obs. of  11 variables:\n",
      " $ mpg : num  21 21 22.8 21.4 18.7 18.1 14.3 24.4 22.8 19.2 ...\n",
      " $ cyl : num  6 6 4 6 8 6 8 4 4 6 ...\n",
      " $ disp: num  160 160 108 258 360 ...\n",
      " $ hp  : num  110 110 93 110 175 105 245 62 95 123 ...\n",
      " $ drat: num  3.9 3.9 3.85 3.08 3.15 2.76 3.21 3.69 3.92 3.92 ...\n",
      " $ wt  : num  2.62 2.88 2.32 3.21 3.44 ...\n",
      " $ qsec: num  16.5 17 18.6 19.4 17 ...\n",
      " $ vs  : num  0 0 1 1 0 1 0 1 1 1 ...\n",
      " $ am  : num  1 1 1 0 0 0 0 0 0 0 ...\n",
      " $ gear: num  4 4 4 3 3 3 3 4 4 4 ...\n",
      " $ carb: num  4 4 1 1 2 1 4 2 2 4 ...\n"
     ]
    }
   ],
   "source": [
    "str(mtcars)"
   ]
  },
  {
   "cell_type": "markdown",
   "metadata": {},
   "source": [
    "### Distributions"
   ]
  },
  {
   "cell_type": "code",
   "execution_count": 3,
   "metadata": {},
   "outputs": [
    {
     "name": "stdout",
     "output_type": "stream",
     "text": [
      "Normal                  package:stats                  R Documentation\n",
      "\n",
      "_\bT_\bh_\be _\bN_\bo_\br_\bm_\ba_\bl _\bD_\bi_\bs_\bt_\br_\bi_\bb_\bu_\bt_\bi_\bo_\bn\n",
      "\n",
      "_\bD_\be_\bs_\bc_\br_\bi_\bp_\bt_\bi_\bo_\bn:\n",
      "\n",
      "     Density, distribution function, quantile function and random\n",
      "     generation for the normal distribution with mean equal to 'mean'\n",
      "     and standard deviation equal to 'sd'.\n",
      "\n",
      "_\bU_\bs_\ba_\bg_\be:\n",
      "\n",
      "     dnorm(x, mean = 0, sd = 1, log = FALSE)\n",
      "     pnorm(q, mean = 0, sd = 1, lower.tail = TRUE, log.p = FALSE)\n",
      "     qnorm(p, mean = 0, sd = 1, lower.tail = TRUE, log.p = FALSE)\n",
      "     rnorm(n, mean = 0, sd = 1)\n",
      "     \n",
      "_\bA_\br_\bg_\bu_\bm_\be_\bn_\bt_\bs:\n",
      "\n",
      "    x, q: vector of quantiles.\n",
      "\n",
      "       p: vector of probabilities.\n",
      "\n",
      "       n: number of observations. If 'length(n) > 1', the length is\n",
      "          taken to be the number required.\n",
      "\n",
      "    mean: vector of means.\n",
      "\n",
      "      sd: vector of standard deviations.\n",
      "\n",
      "log, log.p: logical; if TRUE, probabilities p are given as log(p).\n",
      "\n",
      "lower.tail: logical; if TRUE (default), probabilities are P[X <= x]\n",
      "          otherwise, P[X > x].\n",
      "\n",
      "_\bD_\be_\bt_\ba_\bi_\bl_\bs:\n",
      "\n",
      "     If 'mean' or 'sd' are not specified they assume the default values\n",
      "     of '0' and '1', respectively.\n",
      "\n",
      "     The normal distribution has density\n",
      "\n",
      "            f(x) = 1/(sqrt(2 pi) sigma) e^-((x - mu)^2/(2 sigma^2))     \n",
      "     \n",
      "     where mu is the mean of the distribution and sigma the standard\n",
      "     deviation.\n",
      "\n",
      "_\bV_\ba_\bl_\bu_\be:\n",
      "\n",
      "     'dnorm' gives the density, 'pnorm' gives the distribution\n",
      "     function, 'qnorm' gives the quantile function, and 'rnorm'\n",
      "     generates random deviates.\n",
      "\n",
      "     The length of the result is determined by 'n' for 'rnorm', and is\n",
      "     the maximum of the lengths of the numerical arguments for the\n",
      "     other functions.\n",
      "\n",
      "     The numerical arguments other than 'n' are recycled to the length\n",
      "     of the result.  Only the first elements of the logical arguments\n",
      "     are used.\n",
      "\n",
      "     For 'sd = 0' this gives the limit as 'sd' decreases to 0, a point\n",
      "     mass at 'mu'.  'sd < 0' is an error and returns 'NaN'.\n",
      "\n",
      "_\bS_\bo_\bu_\br_\bc_\be:\n",
      "\n",
      "     For 'pnorm', based on\n",
      "\n",
      "     Cody, W. D. (1993) Algorithm 715: SPECFUN - A portable FORTRAN\n",
      "     package of special function routines and test drivers.  _ACM\n",
      "     Transactions on Mathematical Software_ *19*, 22-32.\n",
      "\n",
      "     For 'qnorm', the code is a C translation of\n",
      "\n",
      "     Wichura, M. J. (1988) Algorithm AS 241: The percentage points of\n",
      "     the normal distribution.  _Applied Statistics_, *37*, 477-484.\n",
      "\n",
      "     which provides precise results up to about 16 digits.\n",
      "\n",
      "     For 'rnorm', see RNG for how to select the algorithm and for\n",
      "     references to the supplied methods.\n",
      "\n",
      "_\bR_\be_\bf_\be_\br_\be_\bn_\bc_\be_\bs:\n",
      "\n",
      "     Becker, R. A., Chambers, J. M. and Wilks, A. R. (1988) _The New S\n",
      "     Language_.  Wadsworth & Brooks/Cole.\n",
      "\n",
      "     Johnson, N. L., Kotz, S. and Balakrishnan, N. (1995) _Continuous\n",
      "     Univariate Distributions_, volume 1, chapter 13.  Wiley, New York.\n",
      "\n",
      "_\bS_\be_\be _\bA_\bl_\bs_\bo:\n",
      "\n",
      "     Distributions for other standard distributions, including 'dlnorm'\n",
      "     for the _Log_normal distribution.\n",
      "\n",
      "_\bE_\bx_\ba_\bm_\bp_\bl_\be_\bs:\n",
      "\n",
      "     require(graphics)\n",
      "     \n",
      "     dnorm(0) == 1/sqrt(2*pi)\n",
      "     dnorm(1) == exp(-1/2)/sqrt(2*pi)\n",
      "     dnorm(1) == 1/sqrt(2*pi*exp(1))\n",
      "     \n",
      "     ## Using \"log = TRUE\" for an extended range :\n",
      "     par(mfrow = c(2,1))\n",
      "     plot(function(x) dnorm(x, log = TRUE), -60, 50,\n",
      "          main = \"log { Normal density }\")\n",
      "     curve(log(dnorm(x)), add = TRUE, col = \"red\", lwd = 2)\n",
      "     mtext(\"dnorm(x, log=TRUE)\", adj = 0)\n",
      "     mtext(\"log(dnorm(x))\", col = \"red\", adj = 1)\n",
      "     \n",
      "     plot(function(x) pnorm(x, log.p = TRUE), -50, 10,\n",
      "          main = \"log { Normal Cumulative }\")\n",
      "     curve(log(pnorm(x)), add = TRUE, col = \"red\", lwd = 2)\n",
      "     mtext(\"pnorm(x, log=TRUE)\", adj = 0)\n",
      "     mtext(\"log(pnorm(x))\", col = \"red\", adj = 1)\n",
      "     \n",
      "     ## if you want the so-called 'error function'\n",
      "     erf <- function(x) 2 * pnorm(x * sqrt(2)) - 1\n",
      "     ## (see Abramowitz and Stegun 29.2.29)\n",
      "     ## and the so-called 'complementary error function'\n",
      "     erfc <- function(x) 2 * pnorm(x * sqrt(2), lower = FALSE)\n",
      "     ## and the inverses\n",
      "     erfinv <- function (x) qnorm((1 + x)/2)/sqrt(2)\n",
      "     erfcinv <- function (x) qnorm(x/2, lower = FALSE)/sqrt(2)\n",
      "     "
     ]
    }
   ],
   "source": [
    "help(dnorm)"
   ]
  },
  {
   "cell_type": "code",
   "execution_count": 3,
   "metadata": {},
   "outputs": [
    {
     "data": {
      "image/png": "[encoded data removed]",
      "text/plain": [
       "plot without title"
      ]
     },
     "metadata": {
      "image/png": {
       "height": 420,
       "width": 420
      }
     },
     "output_type": "display_data"
    }
   ],
   "source": [
    "o_dnorm <- function(x) {\n",
    "  dnorm(x, mean=2, sd=2)\n",
    "}\n",
    "plot(o_dnorm, xlim=c(-5, 5))"
   ]
  },
  {
   "cell_type": "markdown",
   "metadata": {},
   "source": [
    "### Numerical Summaries"
   ]
  },
  {
   "cell_type": "markdown",
   "metadata": {},
   "source": [
    "#### k-th Order Statistics\n",
    "\n",
    "Order the dataset, then take the k-th element."
   ]
  },
  {
   "cell_type": "markdown",
   "metadata": {},
   "source": [
    "#### Central Tendency\n",
    "\n",
    "Sample mean: Sensitive to outliers  \n",
    "Truncated sample mean: Not sensitive to outliers  \n",
    "Weighted sample mean: weights cant be 0  \n",
    "Sample median: n/2 order statistic or the mean of the floor and ceiling of n/2 order statistic, not sensitive to outliers  \n",
    "Mode: most frequent value, can be non-unique (bimodal, multimodal)  \n",
    "<br>\n",
    "Deviation from the mean = x - mean  \n",
    "Range = max - min  \n",
    "Variance = average of squared deviations from the mean  \n",
    "Standard Deviation = square root of the variance  \n",
    "MAD = Mean/median absolute deviation from the mean/median  \n",
    "$$ \\frac {\\sum_{i = 1}^{n}|x_i - \\bar{x}|} {n} $$"
   ]
  },
  {
   "cell_type": "code",
   "execution_count": 1,
   "metadata": {},
   "outputs": [
    {
     "data": {
      "text/html": [
       "<style>\n",
       ".list-inline {list-style: none; margin:0; padding: 0}\n",
       ".list-inline>li {display: inline-block}\n",
       ".list-inline>li:not(:last-child)::after {content: \"\\00b7\"; padding: 0 .5ex}\n",
       "</style>\n",
       "<ol class=list-inline><li>52</li><li>335</li></ol>\n"
      ],
      "text/latex": [
       "\\begin{enumerate*}\n",
       "\\item 52\n",
       "\\item 335\n",
       "\\end{enumerate*}\n"
      ],
      "text/markdown": [
       "1. 52\n",
       "2. 335\n",
       "\n",
       "\n"
      ],
      "text/plain": [
       "[1]  52 335"
      ]
     },
     "metadata": {},
     "output_type": "display_data"
    }
   ],
   "source": [
    "range(mtcars$hp)"
   ]
  },
  {
   "cell_type": "code",
   "execution_count": 2,
   "metadata": {},
   "outputs": [
    {
     "data": {
      "text/html": [
       "4700.86693548387"
      ],
      "text/latex": [
       "4700.86693548387"
      ],
      "text/markdown": [
       "4700.86693548387"
      ],
      "text/plain": [
       "[1] 4700.867"
      ]
     },
     "metadata": {},
     "output_type": "display_data"
    }
   ],
   "source": [
    "var(mtcars$hp)"
   ]
  },
  {
   "cell_type": "code",
   "execution_count": 4,
   "metadata": {},
   "outputs": [
    {
     "data": {
      "text/html": [
       "68.5628684893206"
      ],
      "text/latex": [
       "68.5628684893206"
      ],
      "text/markdown": [
       "68.5628684893206"
      ],
      "text/plain": [
       "[1] 68.56287"
      ]
     },
     "metadata": {},
     "output_type": "display_data"
    }
   ],
   "source": [
    "sd(mtcars$hp)"
   ]
  },
  {
   "cell_type": "markdown",
   "metadata": {},
   "source": [
    "#### Quartiles\n",
    "Median = 2nd or middle quartile  \n",
    "IQR = Q<sub>3</sub> - Q<sub>1</sub>"
   ]
  },
  {
   "cell_type": "markdown",
   "metadata": {},
   "source": [
    "#### Boxplot"
   ]
  },
  {
   "cell_type": "code",
   "execution_count": 4,
   "metadata": {},
   "outputs": [
    {
     "data": {
      "image/png": "[encoded data removed]",
      "text/plain": [
       "plot without title"
      ]
     },
     "metadata": {
      "image/png": {
       "height": 420,
       "width": 420
      }
     },
     "output_type": "display_data"
    }
   ],
   "source": [
    "boxplot(mtcars$hp)"
   ]
  }
 ],
 "metadata": {
  "kernelspec": {
   "display_name": "R",
   "language": "R",
   "name": "ir"
  },
  "language_info": {
   "codemirror_mode": "r",
   "file_extension": ".r",
   "mimetype": "text/x-r-source",
   "name": "R",
   "pygments_lexer": "r",
   "version": "4.1.2"
  },
  "orig_nbformat": 4
 },
 "nbformat": 4,
 "nbformat_minor": 2
}
