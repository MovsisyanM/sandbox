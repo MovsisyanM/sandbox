{
 "cells": [
  {
   "cell_type": "markdown",
   "metadata": {},
   "source": [
    "# Homework 9\n",
    "###### by Mher Movsisyan\n",
    "--- "
   ]
  },
  {
   "cell_type": "markdown",
   "metadata": {},
   "source": [
    "### Problem 1: Confidence Intervals  \n",
    "a. Constructing CI (10 points)  \n",
    "Assume that the results of some instructor’s recent Stat course show that there are 10 A grades among 74 students. Construct a 90% confidence interval for the probability of obtaining an A grade for the Stat course of that instructor."
   ]
  },
  {
   "cell_type": "markdown",
   "metadata": {},
   "source": [
    "Answer:  \n",
    "$$ \\bar{X} = \\frac{10}{74} \\approx 0.135 $$\n",
    "$$ ME = \\frac{1}{2\\sqrt{74 * 0.1}} = \\frac{1}{2\\sqrt{7.4}} $$\n",
    "$$ CI = (0.135 - \\frac{1}{2\\sqrt{7.4}} , 0.135 + \\frac{1}{2\\sqrt{7.4}}) $$"
   ]
  },
  {
   "cell_type": "markdown",
   "metadata": {},
   "source": [
    "b. Calculating the Sample Size (10 points)  \n",
    "Assume we want to perform a study to see which percentage of our citizens of age greater than 17 are computer literate. So we will choose randomly n persons of age greater than 17 and ask if they know some basic computer skills. How many persons do we need to ask to obtain a CI for that percentage with a Margin of Error ≤ 0.02, at the Confidence Level 95%?"
   ]
  },
  {
   "cell_type": "markdown",
   "metadata": {},
   "source": [
    "Answer:  \n",
    "$$ ME = \\frac{1}{2\\sqrt{n * 0.05}} \\leq \\frac{1}{50} $$\n",
    "$$ 2\\sqrt{n * 0.05} \\geq 50 $$\n",
    "$$ n \\geq \\frac{25^2}{0.05} = 12500 $$"
   ]
  },
  {
   "cell_type": "markdown",
   "metadata": {},
   "source": [
    "c. Constructing CI (10 points)  \n",
    "Supermarket is receiving 60 sugar bags. Suppose the weight of a bag is a Normal r.v. with Standard Deviation equal to 0.5 Kg. The total weight of 60 received bags is 3019.2 Kg. Construct the 90% CI for the mean weight of a bag. Please use the following table for quantiles:  \n",
    "<br>\n",
    "<img src=\"https://github.com/MovsisyanM/sandbox/blob/main/Statistics/res/hw9q.JPG?raw=true\" height=150>"
   ]
  },
  {
   "cell_type": "markdown",
   "metadata": {},
   "source": [
    "Answer:  \n",
    "$$ n = 60;\\ \\ \\sigma = 0.5 Kg $$\n",
    "$$ S_m = 3019.2 Kg; \\ \\ \\alpha = 1 - 0.9 = 0.1 $$"
   ]
  },
  {
   "cell_type": "markdown",
   "metadata": {},
   "source": [
    "$$ \\bar{X} = \\frac{3019.2}{60} = 50.32 Kg $$\n",
    "$$ CI = (\\bar{X} - \\frac{z_{1-a/2}\\sigma}{\\sqrt{n}} , \\bar{X} + \\frac{z_{1-a/2}\\sigma}{\\sqrt{n}}) = (50.32 - \\frac{1.64 * 0.5}{\\sqrt{60}} , 50.32 + \\frac{1.64 * 0.5}{\\sqrt{60}}) $$\n",
    "$$ CI \\approx (50.21, 50.43) $$"
   ]
  },
  {
   "cell_type": "markdown",
   "metadata": {},
   "source": [
    "d. Calculating the Sample Size (10 points)  \n",
    "Assume we want to Estimate the average weight (in Kg) of all students in Armenia<sup>1</sup>. We assume the weights are Normally Distributed, and we assume that the Standard Deviation of weights is not larger than 5Kg. We will randomly choose n students from different universities, ask their weights, and construct a 95% CI for the average weight. How many students we need to ask to have a CI with Margin of Error ≤ 0.5Kg?"
   ]
  },
  {
   "cell_type": "markdown",
   "metadata": {},
   "source": [
    "Answer:  \n",
    "$$ max(\\sigma) = 5 Kg $$\n",
    "$$ \\frac{z_{1-a/2}\\sigma}{\\sqrt{n}} \\leq 0.5 Kg $$\n",
    "$$ n \\geq 19.6^2 = 384.16 $$\n",
    "We take `n = 385`."
   ]
  },
  {
   "cell_type": "markdown",
   "metadata": {},
   "source": [
    "e. (R) Function(s) to construct CIs (10 points)  \n",
    "Write a code to construct CIs of given Confidence Level in R, for the Bernoulli Model parameter `p`, and for the Normal Model, parameter `μ`. Say, for the Bernoulli case, you can write a function `ci.bernoulli(x,a)`: the inputs are `x` - our Dataset, and `a`, the confidence level, and the output will be a CI for `p` in the `Bernoulli(p)` Model, for the given CL. The next function will be `ci.normal.mu.givensig(x,sigma, a)`, which will calculate a CI of level `a` for Normal Model `μ` in the case when `σ` is known, based on the Data `x`. Or you can do it in a clever way, writing just one function with some parameters to cover all cases, and taking CL = 95% by default."
   ]
  },
  {
   "cell_type": "code",
   "execution_count": 23,
   "metadata": {
    "vscode": {
     "languageId": "r"
    }
   },
   "outputs": [
    {
     "data": {
      "text/html": [
       "<style>\n",
       ".list-inline {list-style: none; margin:0; padding: 0}\n",
       ".list-inline>li {display: inline-block}\n",
       ".list-inline>li:not(:last-child)::after {content: \"\\00b7\"; padding: 0 .5ex}\n",
       "</style>\n",
       "<ol class=list-inline><li>0.0767620219562903</li><li>0.42323797804371</li></ol>\n"
      ],
      "text/latex": [
       "\\begin{enumerate*}\n",
       "\\item 0.0767620219562903\n",
       "\\item 0.42323797804371\n",
       "\\end{enumerate*}\n"
      ],
      "text/markdown": [
       "1. 0.0767620219562903\n",
       "2. 0.42323797804371\n",
       "\n",
       "\n"
      ],
      "text/plain": [
       "[1] 0.07676202 0.42323798"
      ]
     },
     "metadata": {},
     "output_type": "display_data"
    }
   ],
   "source": [
    "ci_generalized <- function(x, a, sigma = NULL) {\n",
    "    mle <- mean(x)\n",
    "    if (is.null(sigma)) {\n",
    "        me <- qnorm(1 - a / 2, 0, 1) * sqrt(mle * (1 - mle) / length(x))\n",
    "    } else {\n",
    "        me <- qnorm(1 - a / 2, 0, 1) * sigma / sqrt(length(x))\n",
    "    }\n",
    "    ci <- c(mle - me, mle + me)\n",
    "    return(ci)\n",
    "}\n",
    "\n",
    "x <- c(0, 0, 1, 0, 0, 0, 1, 0, 0, 0, 0, 1, 0, 1, 0, 0, 1, 0, 0, 0, 1, 0, 0, 0)\n",
    "\n",
    "ci_generalized(x, 0.05)"
   ]
  },
  {
   "cell_type": "code",
   "execution_count": 24,
   "metadata": {
    "vscode": {
     "languageId": "r"
    }
   },
   "outputs": [
    {
     "data": {
      "text/html": [
       "<style>\n",
       ".list-inline {list-style: none; margin:0; padding: 0}\n",
       ".list-inline>li {display: inline-block}\n",
       ".list-inline>li:not(:last-child)::after {content: \"\\00b7\"; padding: 0 .5ex}\n",
       "</style>\n",
       "<ol class=list-inline><li>-0.270212450377947</li><li>1.33009144174049</li></ol>\n"
      ],
      "text/latex": [
       "\\begin{enumerate*}\n",
       "\\item -0.270212450377947\n",
       "\\item 1.33009144174049\n",
       "\\end{enumerate*}\n"
      ],
      "text/markdown": [
       "1. -0.270212450377947\n",
       "2. 1.33009144174049\n",
       "\n",
       "\n"
      ],
      "text/plain": [
       "[1] -0.2702125  1.3300914"
      ]
     },
     "metadata": {},
     "output_type": "display_data"
    }
   ],
   "source": [
    "x <- rnorm(24, mean = 0.5, sd = 0.1)\n",
    "\n",
    "ci_generalized(x, 0.05, sigma = 2)"
   ]
  },
  {
   "cell_type": "markdown",
   "metadata": {},
   "source": [
    "---\n",
    "###### <sup>1</sup>At the beginning of the semester, say, not before the Exams :)"
   ]
  }
 ],
 "metadata": {
  "kernelspec": {
   "display_name": "R",
   "language": "R",
   "name": "ir"
  },
  "language_info": {
   "codemirror_mode": "r",
   "file_extension": ".r",
   "mimetype": "text/x-r-source",
   "name": "R",
   "pygments_lexer": "r",
   "version": "4.1.2"
  },
  "orig_nbformat": 4
 },
 "nbformat": 4,
 "nbformat_minor": 2
}
