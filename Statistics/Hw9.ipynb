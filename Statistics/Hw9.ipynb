{
 "cells": [
  {
   "cell_type": "markdown",
   "metadata": {},
   "source": [
    "# Homework 9\n",
    "###### by Mher Movsisyan\n",
    "--- "
   ]
  },
  {
   "cell_type": "markdown",
   "metadata": {},
   "source": [
    "### Problem 1: Confidence Intervals  \n",
    "a. Constructing CI (10 points)  \n",
    "Assume that the results of some instructor’s recent Stat course show that there are 10 A grades among 74 students. Construct a 90% confidence interval for the probability of obtaining an A grade for the Stat course of that instructor."
   ]
  },
  {
   "cell_type": "markdown",
   "metadata": {},
   "source": [
    "Answer:  \n",
    "$$ \\bar{X} = \\frac{10}{74} \\approx 0.135 $$\n",
    "$$ ME = \\frac{1}{2\\sqrt{74 * 0.1}} = \\frac{1}{2\\sqrt{7.4}} $$\n",
    "$$ CI = (0.135 - \\frac{1}{2\\sqrt{7.4}} , 0.135 + \\frac{1}{2\\sqrt{7.4}}) $$"
   ]
  },
  {
   "cell_type": "markdown",
   "metadata": {},
   "source": [
    "b. Calculating the Sample Size (10 points)  \n",
    "Assume we want to perform a study to see which percentage of our citizens of age greater than 17 are computer literate. So we will choose randomly n persons of age greater than 17 and ask if they know some basic computer skills. How many persons do we need to ask to obtain a CI for that percentage with a Margin of Error ≤ 0.02, at the Confidence Level 95%?"
   ]
  },
  {
   "cell_type": "markdown",
   "metadata": {},
   "source": [
    "$$ ME = \\frac{1}{2\\sqrt{n * 0.05}} \\leq \\frac{1}{50} $$\n",
    "$$ 2\\sqrt{n * 0.05} \\geq 50 $$\n",
    "$$ n \\geq \\frac{25^2}{0.05} = 12500 $$"
   ]
  },
  {
   "cell_type": "markdown",
   "metadata": {},
   "source": [
    "c. Constructing CI (10 points)  \n",
    "Supermarket is receiving 60 sugar bags. Suppose the weight of a bag is a Normal r.v. with Standard Deviation equal to 0.5 Kg. The total weight of 60 received bags is 3019.2 Kg. Construct the 90% CI for the mean weight of a bag. Please use the following table for quantiles:\n",
    "<img src=\"\">"
   ]
  }
 ],
 "metadata": {
  "language_info": {
   "name": "python"
  },
  "orig_nbformat": 4
 },
 "nbformat": 4,
 "nbformat_minor": 2
}
