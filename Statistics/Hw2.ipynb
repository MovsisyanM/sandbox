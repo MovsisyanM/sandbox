{
 "cells": [
  {
   "cell_type": "markdown",
   "metadata": {},
   "source": [
    "# Homework 2\n",
    "###### by Mher Movsisyan\n",
    "---"
   ]
  },
  {
   "cell_type": "markdown",
   "metadata": {},
   "source": [
    "### Problem 1: Histograms (10 Points)"
   ]
  },
  {
   "cell_type": "markdown",
   "metadata": {},
   "source": [
    "Consider the following Dataset x:  \n",
    "```\n",
    "[1] 2.25 6.50 4.93 -2.09 4.66 3.89 -0.15 -1.51 7.48 0.28 0.03 3.16  \n",
    "[13] 4.03 2.53 5.58 2.22 7.48 -1.59 8.96 -1.55  \n",
    "```  \n",
    "Break the range of x (or some interval containing the range) into 5 equal-length  bins and construct 3 Histograms: Frequency, Relative Frequency and Density."
   ]
  },
  {
   "cell_type": "markdown",
   "metadata": {},
   "source": [
    "Sorting data:  \n",
    "```-2.09 -1.55 -1.51 -0.15 0.03 0.28 2.22 2.25 2.53 3.16 3.89 4.03 4.66 4.93 5.58 5.89 6.5 7.48 8.96```"
   ]
  },
  {
   "cell_type": "markdown",
   "metadata": {},
   "source": [
    "Range: -2.09 to 8.96 (11.05)"
   ]
  },
  {
   "cell_type": "markdown",
   "metadata": {},
   "source": [
    "Bins: $$ [-2.09, 0.12), [0.12, 2.33), [2.33, 4.54), [4.54, 6.75), [6.75, 8.96] $$"
   ]
  },
  {
   "cell_type": "markdown",
   "metadata": {},
   "source": [
    "```\n",
    "A   -2.09 -1.55 -1.51 -0.15 0.03 \n",
    "B    0.28  2.22  2.25 \n",
    "C    2.53  3.16  3.89  4.03 \n",
    "D    4.66  4.93  5.58  5.89 6.50 \n",
    "E    7.48  8.96\n",
    "```  \n",
    "Constructing the Frequency Histogram:  \n",
    "| bin | Frequency | Rel. Frequency | Density |  \n",
    "|-----|-----------|----------------|---------|  \n",
    "|  A  | 5         | 0.26           | 0.0239  |  \n",
    "|  B  | 3         | 0.16           | 0.0144  |  \n",
    "|  C  | 4         | 0.21           | 0.0191  |  \n",
    "|  D  | 5         | 0.26           | 0.0239  |  \n",
    "|  E  | 2         | 0.11           | 0.0096  |  \n",
    "  \n",
    "<img src=\"https://github.com/MovsisyanM/sandbox/blob/main/Statistics/res/hw2_h1.png?raw=true\" width = 30%></img>"
   ]
  },
  {
   "cell_type": "markdown",
   "metadata": {},
   "source": [
    "### Problem 2: Measures of Central Tendency \n",
    "a. (10 Points)  \n",
    "We are given the Dataset\n",
    "```\n",
    "2, 2, 2, 5, 3, 2, 0, 0, 3, 5.\n",
    "```  \n",
    "- Find the 7-th Order Statistics of this Dataset.  \n",
    "- Calculate the Sample Mean, Median and Mode of this Dataset.  \n",
    "- Find the 25% Trimmed Mean of this Dataset.  "
   ]
  },
  {
   "cell_type": "markdown",
   "metadata": {},
   "source": [
    "Sorting the data:  \n",
    "```\n",
    "0, 0, 2, 2, 2, 2, 3, 3, 5, 5\n",
    "```"
   ]
  },
  {
   "cell_type": "markdown",
   "metadata": {},
   "source": [
    "7th order statistic is 3  \n",
    "Mean = (2 * 4 + 3 * 2 + 5 * 2) / 10 = 2.4  \n",
    "Median = 2  \n",
    "Mode = 2  \n",
    "25% Trimmed Mean = (2 * 4 + 3 * 2) / 6 = 2.33"
   ]
  },
  {
   "cell_type": "markdown",
   "metadata": {},
   "source": [
    "b. (6 Points)\n",
    "- Construct a Dataset x of size 6 with  ̄x = −3 and median(x) = 5.  \n",
    "x = [-46, 3, 4, 6, 7, 8]\n"
   ]
  },
  {
   "cell_type": "markdown",
   "metadata": {},
   "source": [
    "- (Supplementary) Construct a Dataset x of size 10 with  ̄x = −3, median(x) = 5 and a mode(x) = 4.  \n",
    "x = [-70, 4, 4, 4, 5, 5, 6, 7, 8, 9]"
   ]
  },
  {
   "cell_type": "markdown",
   "metadata": {},
   "source": [
    "### Problem 3: Histograms"
   ]
  },
  {
   "cell_type": "markdown",
   "metadata": {},
   "source": [
    "a. (R) (8 Points)  \n",
    "Consider one of the standard Datasets in R, `islands`.  \n",
    "- call the help page for this Dataset to see the description"
   ]
  },
  {
   "cell_type": "code",
   "execution_count": 5,
   "metadata": {},
   "outputs": [
    {
     "name": "stdout",
     "output_type": "stream",
     "text": [
      "islands                package:datasets                R Documentation\n",
      "\n",
      "_\bA_\br_\be_\ba_\bs _\bo_\bf _\bt_\bh_\be _\bW_\bo_\br_\bl_\bd'_\bs _\bM_\ba_\bj_\bo_\br _\bL_\ba_\bn_\bd_\bm_\ba_\bs_\bs_\be_\bs\n",
      "\n",
      "_\bD_\be_\bs_\bc_\br_\bi_\bp_\bt_\bi_\bo_\bn:\n",
      "\n",
      "     The areas in thousands of square miles of the landmasses which\n",
      "     exceed 10,000 square miles.\n",
      "\n",
      "_\bU_\bs_\ba_\bg_\be:\n",
      "\n",
      "     islands\n",
      "     \n",
      "_\bF_\bo_\br_\bm_\ba_\bt:\n",
      "\n",
      "     A named vector of length 48.\n",
      "\n",
      "_\bS_\bo_\bu_\br_\bc_\be:\n",
      "\n",
      "     The World Almanac and Book of Facts, 1975, page 406.\n",
      "\n",
      "_\bR_\be_\bf_\be_\br_\be_\bn_\bc_\be_\bs:\n",
      "\n",
      "     McNeil, D. R. (1977) _Interactive Data Analysis_.  Wiley.\n",
      "\n",
      "_\bE_\bx_\ba_\bm_\bp_\bl_\be_\bs:\n",
      "\n",
      "     require(graphics)\n",
      "     dotchart(log(islands, 10),\n",
      "        main = \"islands data: log10(area) (log10(sq. miles))\")\n",
      "     dotchart(log(islands[order(islands)], 10),\n",
      "        main = \"islands data: log10(area) (log10(sq. miles))\")\n",
      "     "
     ]
    }
   ],
   "source": [
    "help(islands)"
   ]
  },
  {
   "cell_type": "markdown",
   "metadata": {},
   "source": [
    "- print the structure of the Dataset"
   ]
  },
  {
   "cell_type": "code",
   "execution_count": 14,
   "metadata": {},
   "outputs": [
    {
     "name": "stdout",
     "output_type": "stream",
     "text": [
      " Named num [1:48] 11506 5500 16988 2968 16 ...\n",
      " - attr(*, \"names\")= chr [1:48] \"Africa\" \"Antarctica\" \"Asia\" \"Australia\" ...\n"
     ]
    }
   ],
   "source": [
    "str(islands)"
   ]
  },
  {
   "cell_type": "markdown",
   "metadata": {},
   "source": [
    "- print the head of this Dataset"
   ]
  },
  {
   "cell_type": "code",
   "execution_count": 10,
   "metadata": {},
   "outputs": [
    {
     "name": "stdout",
     "output_type": "stream",
     "text": [
      "      Africa   Antarctica         Asia    Australia Axel Heiberg       Baffin \n",
      "       11506         5500        16988         2968           16          184 \n"
     ]
    }
   ],
   "source": [
    "print(head(islands))"
   ]
  },
  {
   "cell_type": "markdown",
   "metadata": {},
   "source": [
    "- plot the Frequency Histogram for the islands with the area less than 200,000 sq miles"
   ]
  },
  {
   "cell_type": "code",
   "execution_count": 24,
   "metadata": {},
   "outputs": [
    {
     "data": {
      "image/png": "[encoded data removed]",
      "text/plain": [
       "Plot with title \"Histogram of islands[islands < 200]\""
      ]
     },
     "metadata": {
      "image/png": {
       "height": 420,
       "width": 420
      }
     },
     "output_type": "display_data"
    }
   ],
   "source": [
    "hist(islands[islands < 200])"
   ]
  },
  {
   "cell_type": "markdown",
   "metadata": {},
   "source": [
    "- plot the Density Histogram for the islands with the area less than 200,000 sq miles"
   ]
  },
  {
   "cell_type": "code",
   "execution_count": 25,
   "metadata": {},
   "outputs": [
    {
     "data": {
      "image/png": "[encoded data removed]",
      "text/plain": [
       "Plot with title \"Histogram of islands[islands < 200]\""
      ]
     },
     "metadata": {
      "image/png": {
       "height": 420,
       "width": 420
      }
     },
     "output_type": "display_data"
    }
   ],
   "source": [
    "hist(islands[islands < 200], freq=F)"
   ]
  },
  {
   "cell_type": "markdown",
   "metadata": {},
   "source": [
    "b. (R) (8 Points)\n",
    "Here we want to check that the Density Histogram is approximating well the PDF behind the data. To that end, we consider the Weibull distribution (see [Wiki](https://en.wikipedia.org/wiki/Weibull_distribution)).  \n",
    "- Take n = 1000\n",
    "- generate a sample of size n from the Weibull distribution with the shape parameter 2 (see rweibull and its parameters in R)\n",
    "- plot the Density Histogram of that sample, in cyan color\n",
    "- plot the theoretical PDF (use dweibull in R) over the previous graph, in red, and with linewidth 3."
   ]
  },
  {
   "cell_type": "code",
   "execution_count": 9,
   "metadata": {},
   "outputs": [
    {
     "data": {
      "image/png": "[encoded data removed]",
      "text/plain": [
       "Plot with title \"Histogram of weib\""
      ]
     },
     "metadata": {
      "image/png": {
       "height": 420,
       "width": 420
      }
     },
     "output_type": "display_data"
    }
   ],
   "source": [
    "n <- 1000\n",
    "weib <- rweibull(n, shape=2)\n",
    "\n",
    "dweib <- function(x, shape, scale) {\n",
    "  dweibull(x, 2, 1)\n",
    "}\n",
    "\n",
    "hist(weib, freq=F, xlim=c(0,2.6), ylim=c(0,1))\n",
    "par(new=T)\n",
    "plot(dweib, col=\"red\", xlim=c(0,2.6), ylim=c(0,1), xlab=\"\", ylab=\"\", lwd=3)"
   ]
  },
  {
   "cell_type": "markdown",
   "metadata": {},
   "source": [
    "c. (R) (8 Points)  \n",
    "Now let’s plot comparative Histograms. We will work with the R-s default `ChickWeight` Dataset.  \n",
    "- Explore the Dataset: read the description and print the first 5 rows of that Dataset;  \n",
    "- Separate in x the Weight variable for all Chicken with the Diet 1;  \n",
    "- Separate in y the Weight variable for all Chicken with the Diet 2;  \n",
    "- Calculate the Median of Weights for Chickens fed with the first diet;  \n",
    "- Calculate the difference between the Means of Weights for Chickens fed with the first and second diets;  \n",
    "- Plot the Frequency Histograms of x and y one over another. You can use transparent colors to make your graphs look nicer. For that, you can use the scales library’s alpha command:  \n",
    "```\n",
    "library(scales)\n",
    "hist(x, col = alpha(\"magenta\", 0.2))\n",
    "```  \n",
    "This will draw a histogram of x with transparent magenta color.  \n",
    "- What can be deduced from the Histograms?"
   ]
  },
  {
   "cell_type": "code",
   "execution_count": 8,
   "metadata": {},
   "outputs": [
    {
     "name": "stdout",
     "output_type": "stream",
     "text": [
      "ChickWeight              package:datasets              R Documentation\n",
      "\n",
      "_\bW_\be_\bi_\bg_\bh_\bt _\bv_\be_\br_\bs_\bu_\bs _\ba_\bg_\be _\bo_\bf _\bc_\bh_\bi_\bc_\bk_\bs _\bo_\bn _\bd_\bi_\bf_\bf_\be_\br_\be_\bn_\bt _\bd_\bi_\be_\bt_\bs\n",
      "\n",
      "_\bD_\be_\bs_\bc_\br_\bi_\bp_\bt_\bi_\bo_\bn:\n",
      "\n",
      "     The 'ChickWeight' data frame has 578 rows and 4 columns from an\n",
      "     experiment on the effect of diet on early growth of chicks.\n",
      "\n",
      "_\bU_\bs_\ba_\bg_\be:\n",
      "\n",
      "     ChickWeight\n",
      "     \n",
      "_\bF_\bo_\br_\bm_\ba_\bt:\n",
      "\n",
      "     An object of class 'c(\"nfnGroupedData\", \"nfGroupedData\",\n",
      "     \"groupedData\", \"data.frame\")' containing the following columns:\n",
      "\n",
      "     weight a numeric vector giving the body weight of the chick (gm).\n",
      "\n",
      "     Time a numeric vector giving the number of days since birth when\n",
      "          the measurement was made.\n",
      "\n",
      "     Chick an ordered factor with levels '18' < ... < '48' giving a\n",
      "          unique identifier for the chick.  The ordering of the levels\n",
      "          groups chicks on the same diet together and orders them\n",
      "          according to their final weight (lightest to heaviest) within\n",
      "          diet.\n",
      "\n",
      "     Diet a factor with levels 1, ..., 4 indicating which experimental\n",
      "          diet the chick received.\n",
      "\n",
      "_\bD_\be_\bt_\ba_\bi_\bl_\bs:\n",
      "\n",
      "     The body weights of the chicks were measured at birth and every\n",
      "     second day thereafter until day 20.  They were also measured on\n",
      "     day 21.  There were four groups on chicks on different protein\n",
      "     diets.\n",
      "\n",
      "     This dataset was originally part of package 'nlme', and that has\n",
      "     methods (including for '[', 'as.data.frame', 'plot' and 'print')\n",
      "     for its grouped-data classes.\n",
      "\n",
      "_\bS_\bo_\bu_\br_\bc_\be:\n",
      "\n",
      "     Crowder, M. and Hand, D. (1990), _Analysis of Repeated Measures_,\n",
      "     Chapman and Hall (example 5.3)\n",
      "\n",
      "     Hand, D. and Crowder, M. (1996), _Practical Longitudinal Data\n",
      "     Analysis_, Chapman and Hall (table A.2)\n",
      "\n",
      "     Pinheiro, J. C. and Bates, D. M. (2000) _Mixed-effects Models in S\n",
      "     and S-PLUS_, Springer.\n",
      "\n",
      "_\bS_\be_\be _\bA_\bl_\bs_\bo:\n",
      "\n",
      "     'SSlogis' for models fitted to this dataset.\n",
      "\n",
      "_\bE_\bx_\ba_\bm_\bp_\bl_\be_\bs:\n",
      "\n",
      "     require(graphics)\n",
      "     coplot(weight ~ Time | Chick, data = ChickWeight,\n",
      "            type = \"b\", show.given = FALSE)\n",
      "     "
     ]
    }
   ],
   "source": [
    "help(ChickWeight)"
   ]
  },
  {
   "cell_type": "code",
   "execution_count": 9,
   "metadata": {},
   "outputs": [
    {
     "data": {
      "text/html": [
       "<table class=\"dataframe\">\n",
       "<caption>A nfnGroupedData: 6 × 4</caption>\n",
       "<thead>\n",
       "\t<tr><th></th><th scope=col>weight</th><th scope=col>Time</th><th scope=col>Chick</th><th scope=col>Diet</th></tr>\n",
       "\t<tr><th></th><th scope=col>&lt;dbl&gt;</th><th scope=col>&lt;dbl&gt;</th><th scope=col>&lt;ord&gt;</th><th scope=col>&lt;fct&gt;</th></tr>\n",
       "</thead>\n",
       "<tbody>\n",
       "\t<tr><th scope=row>1</th><td>42</td><td> 0</td><td>1</td><td>1</td></tr>\n",
       "\t<tr><th scope=row>2</th><td>51</td><td> 2</td><td>1</td><td>1</td></tr>\n",
       "\t<tr><th scope=row>3</th><td>59</td><td> 4</td><td>1</td><td>1</td></tr>\n",
       "\t<tr><th scope=row>4</th><td>64</td><td> 6</td><td>1</td><td>1</td></tr>\n",
       "\t<tr><th scope=row>5</th><td>76</td><td> 8</td><td>1</td><td>1</td></tr>\n",
       "\t<tr><th scope=row>6</th><td>93</td><td>10</td><td>1</td><td>1</td></tr>\n",
       "</tbody>\n",
       "</table>\n"
      ],
      "text/latex": [
       "A nfnGroupedData: 6 × 4\n",
       "\\begin{tabular}{r|llll}\n",
       "  & weight & Time & Chick & Diet\\\\\n",
       "  & <dbl> & <dbl> & <ord> & <fct>\\\\\n",
       "\\hline\n",
       "\t1 & 42 &  0 & 1 & 1\\\\\n",
       "\t2 & 51 &  2 & 1 & 1\\\\\n",
       "\t3 & 59 &  4 & 1 & 1\\\\\n",
       "\t4 & 64 &  6 & 1 & 1\\\\\n",
       "\t5 & 76 &  8 & 1 & 1\\\\\n",
       "\t6 & 93 & 10 & 1 & 1\\\\\n",
       "\\end{tabular}\n"
      ],
      "text/markdown": [
       "\n",
       "A nfnGroupedData: 6 × 4\n",
       "\n",
       "| <!--/--> | weight &lt;dbl&gt; | Time &lt;dbl&gt; | Chick &lt;ord&gt; | Diet &lt;fct&gt; |\n",
       "|---|---|---|---|---|\n",
       "| 1 | 42 |  0 | 1 | 1 |\n",
       "| 2 | 51 |  2 | 1 | 1 |\n",
       "| 3 | 59 |  4 | 1 | 1 |\n",
       "| 4 | 64 |  6 | 1 | 1 |\n",
       "| 5 | 76 |  8 | 1 | 1 |\n",
       "| 6 | 93 | 10 | 1 | 1 |\n",
       "\n"
      ],
      "text/plain": [
       "  weight Time Chick Diet\n",
       "1 42      0   1     1   \n",
       "2 51      2   1     1   \n",
       "3 59      4   1     1   \n",
       "4 64      6   1     1   \n",
       "5 76      8   1     1   \n",
       "6 93     10   1     1   "
      ]
     },
     "metadata": {},
     "output_type": "display_data"
    }
   ],
   "source": [
    "head(ChickWeight)"
   ]
  },
  {
   "cell_type": "code",
   "execution_count": 32,
   "metadata": {},
   "outputs": [],
   "source": [
    "x <- ChickWeight[ChickWeight$Diet == 1,]\n",
    "y <- ChickWeight[ChickWeight$Diet == 2,]"
   ]
  },
  {
   "cell_type": "code",
   "execution_count": 33,
   "metadata": {},
   "outputs": [
    {
     "data": {
      "text/html": [
       "88"
      ],
      "text/latex": [
       "88"
      ],
      "text/markdown": [
       "88"
      ],
      "text/plain": [
       "[1] 88"
      ]
     },
     "metadata": {},
     "output_type": "display_data"
    }
   ],
   "source": [
    "median(x$weight)"
   ]
  },
  {
   "cell_type": "code",
   "execution_count": 34,
   "metadata": {},
   "outputs": [
    {
     "data": {
      "text/html": [
       "-19.9712121212121"
      ],
      "text/latex": [
       "-19.9712121212121"
      ],
      "text/markdown": [
       "-19.9712121212121"
      ],
      "text/plain": [
       "[1] -19.97121"
      ]
     },
     "metadata": {},
     "output_type": "display_data"
    }
   ],
   "source": [
    "mean(x$weight) - mean(y$weight)"
   ]
  },
  {
   "cell_type": "code",
   "execution_count": 47,
   "metadata": {},
   "outputs": [
    {
     "data": {
      "image/png": "[encoded data removed]",
      "text/plain": [
       "Plot with title \"Histogram comparing diet 1 (red) and 2 (blue)\""
      ]
     },
     "metadata": {
      "image/png": {
       "height": 420,
       "width": 420
      }
     },
     "output_type": "display_data"
    }
   ],
   "source": [
    "library(scales)\n",
    "hist(x$weight, col=alpha(\"#ff0000\", 0.2), xlim=c(0, 350), ylim=c(0, 90), ylab=\"\", xlab=\"\", main = \"\")\n",
    "par(new=T)\n",
    "hist(y$weight, col=alpha(\"#0084ff\", 0.2), xlim=c(0, 350), ylim=c(0, 90), main=\"Histogram comparing diet 1 (red) and 2 (blue)\")"
   ]
  },
  {
   "cell_type": "markdown",
   "metadata": {},
   "source": [
    "We can conclude that the weight of chickens following the 2nd diet has higher variance, and the right tail is fatter (so are the chickens)"
   ]
  },
  {
   "cell_type": "markdown",
   "metadata": {},
   "source": [
    "### Problem 4: Scatterplot"
   ]
  },
  {
   "cell_type": "markdown",
   "metadata": {},
   "source": [
    "a. (R) (5 Points)  \n",
    "Plot the following points:  \n",
    "$$ (0, 2),\\ (3, −1),\\ (4, 2),\\ (5, 5),\\ (−1, 2) $$"
   ]
  },
  {
   "cell_type": "code",
   "execution_count": 51,
   "metadata": {},
   "outputs": [
    {
     "data": {
      "image/png": "[encoded data removed]",
      "text/plain": [
       "plot without title"
      ]
     },
     "metadata": {
      "image/png": {
       "height": 420,
       "width": 420
      }
     },
     "output_type": "display_data"
    }
   ],
   "source": [
    "x <- c(0, 3, 4, 5, -1)\n",
    "y <- c(2, -1, 2, 5, 2)\n",
    "\n",
    "plot(x, y, lwd = 5)"
   ]
  },
  {
   "cell_type": "markdown",
   "metadata": {},
   "source": [
    "b. (R) (5 Points)  \n",
    "R-s `pressure` Dataset consists of 2 Variables. Give the ScatterPlot of these Variables."
   ]
  },
  {
   "cell_type": "code",
   "execution_count": 53,
   "metadata": {},
   "outputs": [
    {
     "data": {
      "image/png": "[encoded data removed]",
      "text/plain": [
       "plot without title"
      ]
     },
     "metadata": {
      "image/png": {
       "height": 420,
       "width": 420
      }
     },
     "output_type": "display_data"
    }
   ],
   "source": [
    "plot(pressure, lwd=5)"
   ]
  },
  {
   "cell_type": "markdown",
   "metadata": {},
   "source": [
    "### Problem 5: Apple Stock Weekly Returns Histogram (R)\n",
    "(10 Points)  "
   ]
  },
  {
   "cell_type": "markdown",
   "metadata": {},
   "source": [
    "Go to Yahoo Finance page, navigate to the Apple Stock page (Apple’s symbol (ticker) is AAPL, make a search for it), then choose Historical Data, 5 years time period, and weekly frequency. Download that Data. It will be in .csv format.\n",
    "- Using the R `read.csv` command, extract the Adjusted Close Prices (“Adj Close” column), calculate weekly returns of the Apple stock 1.  \n",
    "\n",
    "Note: To read a .csv file into a DataFrame, you can use the following:  \n",
    "```aapl <- read.csv(file.choose())```  \n",
    "Instead of `file.choose()` you can give the exact path of your downloaded .csv file. But I prefer to have an Open dialog instead.\n",
    "- Plot the histogram of weekly returns;\n",
    "- Describe the results."
   ]
  },
  {
   "cell_type": "code",
   "execution_count": 59,
   "metadata": {},
   "outputs": [],
   "source": [
    "aapl <- read.csv(\"https://query1.finance.yahoo.com/v7/finance/download/AAPL?period1=1486684800&period2=1644451200&interval=1wk&events=history&includeAdjustedClose=true\")\n",
    "aapl <− transform(aapl, Date=as.Date(as.character(Date),\"%Y-%m-%d\"))"
   ]
  },
  {
   "cell_type": "code",
   "execution_count": 60,
   "metadata": {},
   "outputs": [
    {
     "data": {
      "text/html": [
       "<table class=\"dataframe\">\n",
       "<caption>A data.frame: 6 × 7</caption>\n",
       "<thead>\n",
       "\t<tr><th></th><th scope=col>Date</th><th scope=col>Open</th><th scope=col>High</th><th scope=col>Low</th><th scope=col>Close</th><th scope=col>Adj.Close</th><th scope=col>Volume</th></tr>\n",
       "\t<tr><th></th><th scope=col>&lt;date&gt;</th><th scope=col>&lt;dbl&gt;</th><th scope=col>&lt;dbl&gt;</th><th scope=col>&lt;dbl&gt;</th><th scope=col>&lt;dbl&gt;</th><th scope=col>&lt;dbl&gt;</th><th scope=col>&lt;int&gt;</th></tr>\n",
       "</thead>\n",
       "<tbody>\n",
       "\t<tr><th scope=row>1</th><td>2017-02-06</td><td>32.9125</td><td>33.2350</td><td>32.7800</td><td>33.0300</td><td>31.05098</td><td>193661600</td></tr>\n",
       "\t<tr><th scope=row>2</th><td>2017-02-13</td><td>33.2700</td><td>34.0675</td><td>33.1875</td><td>33.9300</td><td>32.03535</td><td>546670000</td></tr>\n",
       "\t<tr><th scope=row>3</th><td>2017-02-20</td><td>34.0575</td><td>34.3700</td><td>33.8200</td><td>34.1650</td><td>32.25722</td><td>351635600</td></tr>\n",
       "\t<tr><th scope=row>4</th><td>2017-02-27</td><td>34.2850</td><td>35.0700</td><td>34.0700</td><td>34.9450</td><td>32.99367</td><td>509896000</td></tr>\n",
       "\t<tr><th scope=row>5</th><td>2017-03-06</td><td>34.8425</td><td>34.9950</td><td>34.2625</td><td>34.7850</td><td>32.84261</td><td>398688800</td></tr>\n",
       "\t<tr><th scope=row>6</th><td>2017-03-13</td><td>34.7125</td><td>35.2550</td><td>34.7050</td><td>34.9975</td><td>33.04324</td><td>486158400</td></tr>\n",
       "</tbody>\n",
       "</table>\n"
      ],
      "text/latex": [
       "A data.frame: 6 × 7\n",
       "\\begin{tabular}{r|lllllll}\n",
       "  & Date & Open & High & Low & Close & Adj.Close & Volume\\\\\n",
       "  & <date> & <dbl> & <dbl> & <dbl> & <dbl> & <dbl> & <int>\\\\\n",
       "\\hline\n",
       "\t1 & 2017-02-06 & 32.9125 & 33.2350 & 32.7800 & 33.0300 & 31.05098 & 193661600\\\\\n",
       "\t2 & 2017-02-13 & 33.2700 & 34.0675 & 33.1875 & 33.9300 & 32.03535 & 546670000\\\\\n",
       "\t3 & 2017-02-20 & 34.0575 & 34.3700 & 33.8200 & 34.1650 & 32.25722 & 351635600\\\\\n",
       "\t4 & 2017-02-27 & 34.2850 & 35.0700 & 34.0700 & 34.9450 & 32.99367 & 509896000\\\\\n",
       "\t5 & 2017-03-06 & 34.8425 & 34.9950 & 34.2625 & 34.7850 & 32.84261 & 398688800\\\\\n",
       "\t6 & 2017-03-13 & 34.7125 & 35.2550 & 34.7050 & 34.9975 & 33.04324 & 486158400\\\\\n",
       "\\end{tabular}\n"
      ],
      "text/markdown": [
       "\n",
       "A data.frame: 6 × 7\n",
       "\n",
       "| <!--/--> | Date &lt;date&gt; | Open &lt;dbl&gt; | High &lt;dbl&gt; | Low &lt;dbl&gt; | Close &lt;dbl&gt; | Adj.Close &lt;dbl&gt; | Volume &lt;int&gt; |\n",
       "|---|---|---|---|---|---|---|---|\n",
       "| 1 | 2017-02-06 | 32.9125 | 33.2350 | 32.7800 | 33.0300 | 31.05098 | 193661600 |\n",
       "| 2 | 2017-02-13 | 33.2700 | 34.0675 | 33.1875 | 33.9300 | 32.03535 | 546670000 |\n",
       "| 3 | 2017-02-20 | 34.0575 | 34.3700 | 33.8200 | 34.1650 | 32.25722 | 351635600 |\n",
       "| 4 | 2017-02-27 | 34.2850 | 35.0700 | 34.0700 | 34.9450 | 32.99367 | 509896000 |\n",
       "| 5 | 2017-03-06 | 34.8425 | 34.9950 | 34.2625 | 34.7850 | 32.84261 | 398688800 |\n",
       "| 6 | 2017-03-13 | 34.7125 | 35.2550 | 34.7050 | 34.9975 | 33.04324 | 486158400 |\n",
       "\n"
      ],
      "text/plain": [
       "  Date       Open    High    Low     Close   Adj.Close Volume   \n",
       "1 2017-02-06 32.9125 33.2350 32.7800 33.0300 31.05098  193661600\n",
       "2 2017-02-13 33.2700 34.0675 33.1875 33.9300 32.03535  546670000\n",
       "3 2017-02-20 34.0575 34.3700 33.8200 34.1650 32.25722  351635600\n",
       "4 2017-02-27 34.2850 35.0700 34.0700 34.9450 32.99367  509896000\n",
       "5 2017-03-06 34.8425 34.9950 34.2625 34.7850 32.84261  398688800\n",
       "6 2017-03-13 34.7125 35.2550 34.7050 34.9975 33.04324  486158400"
      ]
     },
     "metadata": {},
     "output_type": "display_data"
    }
   ],
   "source": [
    "head(aapl)"
   ]
  },
  {
   "cell_type": "code",
   "execution_count": 63,
   "metadata": {},
   "outputs": [
    {
     "data": {
      "image/png": "[encoded data removed]",
      "text/plain": [
       "plot without title"
      ]
     },
     "metadata": {
      "image/png": {
       "height": 420,
       "width": 420
      }
     },
     "output_type": "display_data"
    }
   ],
   "source": [
    "plot(aapl$Date, aapl$\"Adj.Close\")"
   ]
  },
  {
   "cell_type": "code",
   "execution_count": 64,
   "metadata": {},
   "outputs": [
    {
     "data": {
      "image/png": "[encoded data removed]",
      "text/plain": [
       "Plot with title \"Histogram of aapl$Adj.Close\""
      ]
     },
     "metadata": {
      "image/png": {
       "height": 420,
       "width": 420
      }
     },
     "output_type": "display_data"
    }
   ],
   "source": [
    "hist(aapl$\"Adj.Close\")"
   ]
  },
  {
   "cell_type": "markdown",
   "metadata": {},
   "source": [
    "Bimodal"
   ]
  }
 ],
 "metadata": {
  "kernelspec": {
   "display_name": "R",
   "language": "R",
   "name": "ir"
  },
  "language_info": {
   "codemirror_mode": "r",
   "file_extension": ".r",
   "mimetype": "text/x-r-source",
   "name": "R",
   "pygments_lexer": "r",
   "version": "4.1.2"
  },
  "orig_nbformat": 4
 },
 "nbformat": 4,
 "nbformat_minor": 2
}
