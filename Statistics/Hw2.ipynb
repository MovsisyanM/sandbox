{
 "cells": [
  {
   "cell_type": "markdown",
   "metadata": {},
   "source": [
    "# Homework 2\n",
    "###### by Mher Movsisyan\n",
    "---"
   ]
  },
  {
   "cell_type": "markdown",
   "metadata": {},
   "source": [
    "### Problem 1: Histograms (10 Points)"
   ]
  },
  {
   "cell_type": "markdown",
   "metadata": {},
   "source": [
    "Consider the following Dataset x:  \n",
    "```\n",
    "[1] 2.25 6.50 4.93 -2.09 4.66 3.89 -0.15 -1.51 7.48 0.28 0.03 3.16  \n",
    "[13] 4.03 2.53 5.58 2.22 7.48 -1.59 8.96 -1.55  \n",
    "```  \n",
    "Break the range of x (or some interval containing the range) into 5 equal-length  bins and construct 3 Histograms: Frequency, Relative Frequency and Density."
   ]
  },
  {
   "cell_type": "markdown",
   "metadata": {},
   "source": [
    "Sorting data:  \n",
    "```-2.09 -1.55 -1.51 -0.15 0.03 0.28 2.22 2.25 2.53 3.16 3.89 4.03 4.66 4.93 5.58 5.89 6.5 7.48 8.96```"
   ]
  },
  {
   "cell_type": "markdown",
   "metadata": {},
   "source": [
    "Range: -2.09 to 8.96 (11.05)"
   ]
  },
  {
   "cell_type": "markdown",
   "metadata": {},
   "source": [
    "Bins: $$ [-2.09, 0.12), [0.12, 2.33), [2.33, 4.54), [4.54, 6.75), [6.75, 8.96] $$"
   ]
  },
  {
   "cell_type": "markdown",
   "metadata": {},
   "source": [
    "```\n",
    "A   -2.09 -1.55 -1.51 -0.15 0.03 \n",
    "B    0.28  2.22  2.25 \n",
    "C    2.53  3.16  3.89  4.03 \n",
    "D    4.66  4.93  5.58  5.89 6.50 \n",
    "E    7.48  8.96\n",
    "```  \n",
    "Constructing the Frequency Histogram:  \n",
    "| bin | Frequency | Rel. Frequency | Density |\n",
    "|-----|-----------|----------------|---------|\n",
    "|  A  | 5         | 0.26           | 0.0239  |\n",
    "|  B  | 3         | 0.16           | 0.0144  |\n",
    "|  C  | 4         | 0.21           | 0.0191  |\n",
    "|  D  | 5         | 0.26           | 0.0239  |\n",
    "|  E  | 2         | 0.11           | 0.0096  |\n",
    "  \n",
    "<img src=\"https://github.com/MovsisyanM/sandbox/blob/main/Statistics/res/hw2_h1.png?raw=true\" width = 30%></img>"
   ]
  },
  {
   "cell_type": "markdown",
   "metadata": {},
   "source": [
    "### Problem 2: Measures of Central Tendency \n",
    "a. (10 Points)  \n",
    "We are given the Dataset\n",
    "```\n",
    "2, 2, 2, 5, 3, 2, 0, 0, 3, 5.\n",
    "```  \n",
    "- Find the 7-th Order Statistics of this Dataset.  \n",
    "- Calculate the Sample Mean, Median and Mode of this Dataset.  \n",
    "- Find the 25% Trimmed Mean of this Dataset.  "
   ]
  },
  {
   "cell_type": "markdown",
   "metadata": {},
   "source": [
    "Sorting the data:  \n",
    "```\n",
    "0, 0, 2, 2, 2, 2, 3, 3, 5, 5\n",
    "```"
   ]
  },
  {
   "cell_type": "markdown",
   "metadata": {},
   "source": [
    "7th order statistic is 3  \n",
    "Mean = (2 * 4 + 3 * 2 + 5 * 2) / 10 = 2.4  \n",
    "Median = 2  \n",
    "Mode = 2  \n",
    "25% Trimmed Mean = (2 * 4 + 3 * 2) / 6 = 2.33"
   ]
  },
  {
   "cell_type": "markdown",
   "metadata": {},
   "source": [
    "b. (6 Points)\n",
    "- Construct a Dataset x of size 6 with  ̄x = −3 and median(x) = 5.  \n",
    "x = [-46, 3, 4, 6, 7, 8]\n"
   ]
  },
  {
   "cell_type": "markdown",
   "metadata": {},
   "source": [
    "- (Supplementary) Construct a Dataset x of size 10 with  ̄x = −3, median(x) = 5 and a mode(x) = 4.  \n",
    "x = [-70, 4, 4, 4, 5, 5, 6, 7, 8, 9]"
   ]
  },
  {
   "cell_type": "markdown",
   "metadata": {},
   "source": [
    "### Problem 3: Histograms"
   ]
  },
  {
   "cell_type": "markdown",
   "metadata": {},
   "source": [
    "a. (R) (8 Points)  \n",
    "Consider one of the standard Datasets in R, `islands`.  \n",
    "- call the help page for this Dataset to see the description"
   ]
  },
  {
   "cell_type": "code",
   "execution_count": 5,
   "metadata": {},
   "outputs": [
    {
     "name": "stdout",
     "output_type": "stream",
     "text": [
      "islands                package:datasets                R Documentation\n",
      "\n",
      "_\bA_\br_\be_\ba_\bs _\bo_\bf _\bt_\bh_\be _\bW_\bo_\br_\bl_\bd'_\bs _\bM_\ba_\bj_\bo_\br _\bL_\ba_\bn_\bd_\bm_\ba_\bs_\bs_\be_\bs\n",
      "\n",
      "_\bD_\be_\bs_\bc_\br_\bi_\bp_\bt_\bi_\bo_\bn:\n",
      "\n",
      "     The areas in thousands of square miles of the landmasses which\n",
      "     exceed 10,000 square miles.\n",
      "\n",
      "_\bU_\bs_\ba_\bg_\be:\n",
      "\n",
      "     islands\n",
      "     \n",
      "_\bF_\bo_\br_\bm_\ba_\bt:\n",
      "\n",
      "     A named vector of length 48.\n",
      "\n",
      "_\bS_\bo_\bu_\br_\bc_\be:\n",
      "\n",
      "     The World Almanac and Book of Facts, 1975, page 406.\n",
      "\n",
      "_\bR_\be_\bf_\be_\br_\be_\bn_\bc_\be_\bs:\n",
      "\n",
      "     McNeil, D. R. (1977) _Interactive Data Analysis_.  Wiley.\n",
      "\n",
      "_\bE_\bx_\ba_\bm_\bp_\bl_\be_\bs:\n",
      "\n",
      "     require(graphics)\n",
      "     dotchart(log(islands, 10),\n",
      "        main = \"islands data: log10(area) (log10(sq. miles))\")\n",
      "     dotchart(log(islands[order(islands)], 10),\n",
      "        main = \"islands data: log10(area) (log10(sq. miles))\")\n",
      "     "
     ]
    }
   ],
   "source": [
    "help(islands)"
   ]
  },
  {
   "cell_type": "markdown",
   "metadata": {},
   "source": [
    "- print the structure of the Dataset"
   ]
  },
  {
   "cell_type": "code",
   "execution_count": null,
   "metadata": {},
   "outputs": [],
   "source": []
  },
  {
   "cell_type": "markdown",
   "metadata": {},
   "source": [
    "- print the head of this Dataset"
   ]
  },
  {
   "cell_type": "code",
   "execution_count": null,
   "metadata": {},
   "outputs": [],
   "source": []
  },
  {
   "cell_type": "markdown",
   "metadata": {},
   "source": [
    "- plot the Frequency Histogram for the islands with the area less than 200,000 sq miles"
   ]
  },
  {
   "cell_type": "code",
   "execution_count": null,
   "metadata": {},
   "outputs": [],
   "source": []
  },
  {
   "cell_type": "markdown",
   "metadata": {},
   "source": [
    "- plot the Density Histogram for the islands with the area less than 200,000 sq miles"
   ]
  },
  {
   "cell_type": "code",
   "execution_count": null,
   "metadata": {},
   "outputs": [],
   "source": []
  },
  {
   "cell_type": "markdown",
   "metadata": {},
   "source": [
    "b. (R) (8 Points)\n",
    "Here we want to check that the Density Histogram is approximating well the PDF behind the data. To that end, we consider the Weibull distribution (see [Wiki](https://en.wikipedia.org/wiki/Weibull_distribution)).  \n",
    "- Take n = 1000\n",
    "- generate a sample of size n from the Weibull distribution with the shape parameter 2 (see rweibull and its parameters in R)\n",
    "- plot the Density Histogram of that sample, in cyan color\n",
    "- plot the theoretical PDF (use dweibull in R) over the previous graph, in red, and with linewidth 3."
   ]
  },
  {
   "cell_type": "markdown",
   "metadata": {},
   "source": [
    "c. (R) (8 Points)  \n",
    "Now let’s plot comparative Histograms. We will work with the R-s default `ChickWeight` Dataset.  \n",
    "- Explore the Dataset: read the description and print the first 5 rows of that Dataset;  \n",
    "- Separate in x the Weight variable for all Chicken with the Diet 1;  \n",
    "- Separate in y the Weight variable for all Chicken with the Diet 2;  \n",
    "- Calculate the Median of Weights for Chickens fed with the first diet;  \n",
    "- Calculate the difference between the Means of Weights for Chickens fed with the first and second diets;  \n",
    "- Plot the Frequency Histograms of x and y one over another. You can use transparent colors to make your graphs look nicer. For that, you can use the scales library’s alpha command:  \n",
    "```\n",
    "library(scales)\n",
    "hist(x, col = alpha(\"magenta\", 0.2))\n",
    "```  \n",
    "This will draw a histogram of x with transparent magenta color.  \n",
    "- What can be deduced from the Histograms?"
   ]
  },
  {
   "cell_type": "markdown",
   "metadata": {},
   "source": [
    "### Problem 4: Scatterplot"
   ]
  },
  {
   "cell_type": "markdown",
   "metadata": {},
   "source": [
    "a. (R) (5 Points)  \n",
    "Plot the following points:  \n",
    "$$ (0, 2),\\ (3, −1),\\ (4, 2),\\ (5, 5),\\ (−1, 2) $$"
   ]
  },
  {
   "cell_type": "markdown",
   "metadata": {},
   "source": [
    "b. (R) (5 Points)  \n",
    "R-s `pressure` Dataset consists of 2 Variables. Give the ScatterPlot of these Variables."
   ]
  },
  {
   "cell_type": "markdown",
   "metadata": {},
   "source": [
    "### Problem 5: Apple Stock Weekly Returns Histogram (R)\n",
    "(10 Points)  "
   ]
  },
  {
   "cell_type": "markdown",
   "metadata": {},
   "source": [
    "Go to Yahoo Finance page, navigate to the Apple Stock page (Apple’s symbol (ticker) is AAPL, make a search for it), then choose Historical Data, 5 years time period, and weekly frequency. Download that Data. It will be in .csv format.\n",
    "- Using the R `read.csv` command, extract the Adjusted Close Prices (“Adj Close” column), calculate weekly returns of the Apple stock 1.  \n",
    "\n",
    "Note: To read a .csv file into a DataFrame, you can use the following:  \n",
    "```aapl <- read.csv(file.choose())```  \n",
    "Instead of `file.choose()` you can give the exact path of your downloaded .csv file. But I prefer to have an Open dialog instead.\n",
    "- Plot the histogram of weekly returns;\n",
    "- Describe the results."
   ]
  }
 ],
 "metadata": {
  "kernelspec": {
   "display_name": "R",
   "language": "R",
   "name": "ir"
  },
  "language_info": {
   "codemirror_mode": "r",
   "file_extension": ".r",
   "mimetype": "text/x-r-source",
   "name": "R",
   "pygments_lexer": "r",
   "version": "4.1.2"
  },
  "orig_nbformat": 4
 },
 "nbformat": 4,
 "nbformat_minor": 2
}
