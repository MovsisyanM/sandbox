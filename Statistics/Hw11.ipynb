{
 "cells": [
  {
   "cell_type": "markdown",
   "metadata": {},
   "source": [
    "# Homework 11\n",
    "###### by Mher Movsisyan\n",
    "---"
   ]
  },
  {
   "cell_type": "markdown",
   "metadata": {},
   "source": [
    "### Problem 01: Test for the equality of Means  \n",
    "(20 points)  \n",
    "Assume we want to assess if a full-time job is affecting negatively on the average grade for\n",
    "Statistics. Say, our survey shows the following results:  \n",
    "\n",
    "| f/t job | No. of Students | Average Grade | Grades sd |  \n",
    "| ------- | --------------- | ------------- | --------- |  \n",
    "| True    |              34 |          78.5 |      19.4 |  \n",
    "| False   |              25 |          75.6 |      15.9 |  \n",
    "\n",
    "- Test, at the 5% level, our Hypothesis, by showing your calculations;"
   ]
  },
  {
   "cell_type": "markdown",
   "metadata": {},
   "source": [
    "Answer:  \n",
    "$$ v = floor(\\frac{(19.4^2/34 + 15.9^2/25)^2} {(19.4^2/34)^2/(33) + (15.9^2/25)^2/(24)}) = 56 $$"
   ]
  },
  {
   "cell_type": "markdown",
   "metadata": {},
   "source": [
    "$$ t = \\frac{78.5 - 75.6} {\\sqrt{19.4^2/34 + 15.9^2/25}} = 0.63 $$"
   ]
  },
  {
   "cell_type": "markdown",
   "metadata": {},
   "source": [
    "$$ t(v) = 1.673 $$\n",
    "$$ t(v) > t \\Rightarrow we\\ fail\\ to\\ reject"
   ]
  },
  {
   "cell_type": "markdown",
   "metadata": {},
   "source": [
    "### Problem 02: Test on the Normal Variance  \n",
    "(15 points)  \n",
    "Assume we have an algorithm which has some randomness in it (say, we are doing iterative\n",
    "approximations with random initial approximation). The mean running time for our\n",
    "algorithm on some data is 10s. We want to test if the Standard Deviation of running times\n",
    "of our algorithm is smaller than 2s or not. To that end we run our algorithm several times,\n",
    "and obtain the following result:  "
   ]
  },
  {
   "cell_type": "markdown",
   "metadata": {},
   "source": [
    "```\n",
    "## [1] 8.85 5.01 7.94 10.57 8.98 10.47 10.14 8.10 11.22 9.93 9.51 13.00\n",
    "## [13] 7.44 8.75 13.03 10.69 12.17 8.86 9.73 13.56 13.10 7.31 9.30 9.98\n",
    "## [25] 8.70 10.85 9.89 9.47 10.41 10.92 4.87 9.70 14.56 11.43 7.26 10.28\n",
    "## [37] 11.65 13.19 11.06 11.95 8.96 8.11 8.93\n",
    "```"
   ]
  },
  {
   "cell_type": "markdown",
   "metadata": {},
   "source": [
    "Assuming that the running time is Normally Distributed, test the above Hypothesis at 5%\n",
    "significance level."
   ]
  },
  {
   "cell_type": "markdown",
   "metadata": {},
   "source": [
    "Answer:  \n",
    "Will do this one using R"
   ]
  },
  {
   "cell_type": "markdown",
   "metadata": {},
   "source": [
    "### Problem 03: p-Value  \n",
    "a. (20 points)  \n",
    "Assume we have a Dataset x coming from N(μ, 1.2<sup>2</sup>), and we want to test the Hypothesis\n",
    "$$ H_0: \\mu = -1\\ \\ \\ vs \\ \\ \\ H_1: \\mu \\neq -1 $$\n",
    "Here is the summary for the Dataset x:\n",
    "```\n",
    "##    Min. 1st Qu.  Median    Mean 3rd Qu.   Max.\n",
    "## -3.7030 -2.0097 -1.1000 -1.1264 -0.2517 1.6373\n",
    "```\n",
    "here are some calculations:\n",
    "```\n",
    "c(       mad(x),   var(x), mean(abs(x)),   IQR(x))\n",
    "## [1] 1.311086  1.487392      1.351176   1.758003\n",
    "```\n",
    "and the Frequency Histogram:\n",
    "\n",
    "![Histogram](https://github.com/MovsisyanM/sandbox/blob/main/Statistics/res/hw11hist.JPG?raw=true)"
   ]
  },
  {
   "cell_type": "markdown",
   "metadata": {},
   "source": [
    "1. Calculate the p-Value of the Test;"
   ]
  },
  {
   "cell_type": "markdown",
   "metadata": {},
   "source": [
    "Answer:  \n",
    "$$ z = \\frac{\\bar{X} - μ}{\\sigma} = (-1.1264 + 1) / 1.2 \\approx -0.105 $$"
   ]
  },
  {
   "cell_type": "markdown",
   "metadata": {},
   "source": [
    "$$ p = F_z(-0.105) = 0.458 $$"
   ]
  },
  {
   "cell_type": "markdown",
   "metadata": {},
   "source": [
    "2. For which values of Significance Level the Null Hypothesis will not be Rejected?"
   ]
  },
  {
   "cell_type": "markdown",
   "metadata": {},
   "source": [
    "Answer:  \n",
    "For any significance level lower than 0.458, the Null Hypothesis will be Rejected."
   ]
  },
  {
   "cell_type": "markdown",
   "metadata": {},
   "source": [
    "### Problem 04: Pearson’s χ<sup>2</sup>-Test (GoF Test)  \n",
    "(20 points)  \n",
    "There was an election for the mayor of one town, with 4 candidates, and the results are\n",
    "showing the following distribution of votes:  \n",
    "  \n",
    "| Candidate | Votes |  \n",
    "| --------- | ----- |  \n",
    "| A         |   37  |  \n",
    "| B         |   12  |  \n",
    "| C         |   21  |  \n",
    "| D         |   30  |\n",
    "  \n",
    "The Candidate B-s team does not believe in the results, so organizes a poll by asking\n",
    "randomly and anonymously 1000 persons about their votes. Here are the results:\n",
    "\n",
    "  \n",
    "| Candidate | Votes |  \n",
    "| --------- | ----- |  \n",
    "| A         |  431  |  \n",
    "| B         |  211  |  \n",
    "| C         |  144  |  \n",
    "\n",
    "Is this Data supporting the claim of the Candidate B-s team, at 6% Significance Level?"
   ]
  },
  {
   "cell_type": "markdown",
   "metadata": {},
   "source": [
    "Answer:  \n",
    "\n",
    "| Type     | A     |     B |     C |     D |  \n",
    "| -------- | ----- | ----- | ----- | ----- |  \n",
    "| Observed | 431   | 211   | 144   | 214   |  \n",
    "| Expected | 370   | 120   | 210   | 300   |  \n",
    "  "
   ]
  },
  {
   "cell_type": "markdown",
   "metadata": {},
   "source": [
    "$$ \\Chi^2 = \\frac{(431-370)^2}{370} + \\frac{(211-120)^2}{120} + \\frac{(144-210)^2}{210} + \\frac{(214-300)^2}{300} = 124.46 $$"
   ]
  },
  {
   "cell_type": "markdown",
   "metadata": {},
   "source": [
    "$$ p \\approx 0 \\Rightarrow H_0\\ rejected $$"
   ]
  }
 ],
 "metadata": {
  "kernelspec": {
   "display_name": "R",
   "language": "R",
   "name": "ir"
  },
  "language_info": {
   "name": "R"
  },
  "orig_nbformat": 4
 },
 "nbformat": 4,
 "nbformat_minor": 2
}
