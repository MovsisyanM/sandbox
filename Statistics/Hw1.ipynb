{
 "cells": [
  {
   "cell_type": "markdown",
   "metadata": {},
   "source": [
    "# Homework 1\n",
    "###### Mher Movsisyan\n",
    "---"
   ]
  },
  {
   "cell_type": "markdown",
   "metadata": {},
   "source": [
    "Here we consider the mtcars dataset in R."
   ]
  },
  {
   "cell_type": "markdown",
   "metadata": {},
   "source": [
    "Question 1:  \n",
    "How many  variables do we have in this dataset?"
   ]
  },
  {
   "cell_type": "code",
   "execution_count": 2,
   "metadata": {},
   "outputs": [
    {
     "data": {
      "text/html": [
       "11"
      ],
      "text/latex": [
       "11"
      ],
      "text/markdown": [
       "11"
      ],
      "text/plain": [
       "[1] 11"
      ]
     },
     "metadata": {},
     "output_type": "display_data"
    }
   ],
   "source": [
    "length(mtcars)"
   ]
  },
  {
   "cell_type": "markdown",
   "metadata": {},
   "source": [
    "Question 2:  \n",
    "What is the third observation's qsec variable's value?"
   ]
  },
  {
   "cell_type": "code",
   "execution_count": 3,
   "metadata": {},
   "outputs": [
    {
     "data": {
      "text/html": [
       "18.61"
      ],
      "text/latex": [
       "18.61"
      ],
      "text/markdown": [
       "18.61"
      ],
      "text/plain": [
       "[1] 18.61"
      ]
     },
     "metadata": {},
     "output_type": "display_data"
    }
   ],
   "source": [
    "mtcars[3, \"qsec\"]"
   ]
  },
  {
   "cell_type": "markdown",
   "metadata": {},
   "source": [
    "Question 3:  \n",
    "What is the Frequency of the value 5 in the vs variable?"
   ]
  },
  {
   "cell_type": "code",
   "execution_count": 4,
   "metadata": {},
   "outputs": [
    {
     "data": {
      "text/plain": [
       "\n",
       " 0  1 \n",
       "18 14 "
      ]
     },
     "metadata": {},
     "output_type": "display_data"
    }
   ],
   "source": [
    "table(mtcars$vs) # 0"
   ]
  },
  {
   "cell_type": "markdown",
   "metadata": {},
   "source": [
    "Question 4:  \n",
    "What is the Frequency of the value 1 in the vs variable?"
   ]
  },
  {
   "cell_type": "code",
   "execution_count": 5,
   "metadata": {},
   "outputs": [
    {
     "data": {
      "text/plain": [
       "\n",
       " 0  1 \n",
       "18 14 "
      ]
     },
     "metadata": {},
     "output_type": "display_data"
    }
   ],
   "source": [
    "table(mtcars$vs) # 14"
   ]
  },
  {
   "cell_type": "markdown",
   "metadata": {},
   "source": [
    "Question 5:  \n",
    "What is the Relative Frequency of the value 3 in the gear variable? Please write the answer as a decimal number, with at least 2 digits after the period."
   ]
  },
  {
   "cell_type": "code",
   "execution_count": 6,
   "metadata": {},
   "outputs": [
    {
     "data": {
      "text/plain": [
       "\n",
       "      3       4       5 \n",
       "0.46875 0.37500 0.15625 "
      ]
     },
     "metadata": {},
     "output_type": "display_data"
    }
   ],
   "source": [
    "# normalized frequency table of mtcars$gear\n",
    "table(mtcars$gear)/length(mtcars$gear)"
   ]
  },
  {
   "cell_type": "markdown",
   "metadata": {},
   "source": [
    "Question 6:  \n",
    "What is the type of the hp variable: categorical or numerical?"
   ]
  },
  {
   "cell_type": "code",
   "execution_count": 7,
   "metadata": {},
   "outputs": [
    {
     "data": {
      "text/html": [
       "<style>\n",
       ".list-inline {list-style: none; margin:0; padding: 0}\n",
       ".list-inline>li {display: inline-block}\n",
       ".list-inline>li:not(:last-child)::after {content: \"\\00b7\"; padding: 0 .5ex}\n",
       "</style>\n",
       "<ol class=list-inline><li>110</li><li>110</li><li>93</li><li>110</li><li>175</li><li>105</li><li>245</li><li>62</li><li>95</li><li>123</li><li>123</li><li>180</li><li>180</li><li>180</li><li>205</li><li>215</li><li>230</li><li>66</li><li>52</li><li>65</li><li>97</li><li>150</li><li>150</li><li>245</li><li>175</li><li>66</li><li>91</li><li>113</li><li>264</li><li>175</li><li>335</li><li>109</li></ol>\n"
      ],
      "text/latex": [
       "\\begin{enumerate*}\n",
       "\\item 110\n",
       "\\item 110\n",
       "\\item 93\n",
       "\\item 110\n",
       "\\item 175\n",
       "\\item 105\n",
       "\\item 245\n",
       "\\item 62\n",
       "\\item 95\n",
       "\\item 123\n",
       "\\item 123\n",
       "\\item 180\n",
       "\\item 180\n",
       "\\item 180\n",
       "\\item 205\n",
       "\\item 215\n",
       "\\item 230\n",
       "\\item 66\n",
       "\\item 52\n",
       "\\item 65\n",
       "\\item 97\n",
       "\\item 150\n",
       "\\item 150\n",
       "\\item 245\n",
       "\\item 175\n",
       "\\item 66\n",
       "\\item 91\n",
       "\\item 113\n",
       "\\item 264\n",
       "\\item 175\n",
       "\\item 335\n",
       "\\item 109\n",
       "\\end{enumerate*}\n"
      ],
      "text/markdown": [
       "1. 110\n",
       "2. 110\n",
       "3. 93\n",
       "4. 110\n",
       "5. 175\n",
       "6. 105\n",
       "7. 245\n",
       "8. 62\n",
       "9. 95\n",
       "10. 123\n",
       "11. 123\n",
       "12. 180\n",
       "13. 180\n",
       "14. 180\n",
       "15. 205\n",
       "16. 215\n",
       "17. 230\n",
       "18. 66\n",
       "19. 52\n",
       "20. 65\n",
       "21. 97\n",
       "22. 150\n",
       "23. 150\n",
       "24. 245\n",
       "25. 175\n",
       "26. 66\n",
       "27. 91\n",
       "28. 113\n",
       "29. 264\n",
       "30. 175\n",
       "31. 335\n",
       "32. 109\n",
       "\n",
       "\n"
      ],
      "text/plain": [
       " [1] 110 110  93 110 175 105 245  62  95 123 123 180 180 180 205 215 230  66  52\n",
       "[20]  65  97 150 150 245 175  66  91 113 264 175 335 109"
      ]
     },
     "metadata": {},
     "output_type": "display_data"
    }
   ],
   "source": [
    "mtcars$hp # numerical"
   ]
  },
  {
   "cell_type": "markdown",
   "metadata": {},
   "source": [
    "Question 7:  \n",
    "What is the value of the Frequency Histogram of the hp variable at the point 120?"
   ]
  },
  {
   "cell_type": "code",
   "execution_count": 8,
   "metadata": {},
   "outputs": [
    {
     "data": {
      "image/png": "[encoded data removed]",
      "text/plain": [
       "Plot with title \"Histogram of mtcars$hp\""
      ]
     },
     "metadata": {
      "image/png": {
       "height": 420,
       "width": 420
      }
     },
     "output_type": "display_data"
    }
   ],
   "source": [
    "hist(mtcars$hp)\n",
    "# 10 at 120"
   ]
  },
  {
   "cell_type": "code",
   "execution_count": 21,
   "metadata": {},
   "outputs": [
    {
     "data": {
      "image/png": "[encoded data removed]",
      "text/plain": [
       "Plot with title \"Histogram of mtcars$hp\""
      ]
     },
     "metadata": {
      "image/png": {
       "height": 420,
       "width": 420
      }
     },
     "output_type": "display_data"
    }
   ],
   "source": [
    "hist(mtcars$hp, breaks = 300)"
   ]
  },
  {
   "cell_type": "markdown",
   "metadata": {},
   "source": [
    "---\n",
    "Here is the BarPlot of some Dataset.  \n",
    "<br>\n",
    "<img src=\"https://github.com/MovsisyanM/sandbox/blob/main/Statistics/res/hw01p01.jpg?raw=true\" width=\"30%\"></img>"
   ]
  },
  {
   "cell_type": "markdown",
   "metadata": {},
   "source": [
    "Question 8:  \n",
    "How many observations do we have?"
   ]
  },
  {
   "cell_type": "code",
   "execution_count": 9,
   "metadata": {},
   "outputs": [
    {
     "data": {
      "text/html": [
       "22"
      ],
      "text/latex": [
       "22"
      ],
      "text/markdown": [
       "22"
      ],
      "text/plain": [
       "[1] 22"
      ]
     },
     "metadata": {},
     "output_type": "display_data"
    }
   ],
   "source": [
    "# Assuming the barplot is a histogram\n",
    "3 + 5 + 1 + 2 + 2 + 7 + 2"
   ]
  },
  {
   "cell_type": "markdown",
   "metadata": {},
   "source": [
    "Question 9:  \n",
    "What is the most frequent value in the dataset?  \n",
    "<br>\n",
    "4 (7 observations)"
   ]
  },
  {
   "cell_type": "markdown",
   "metadata": {},
   "source": [
    "Question 10:  \n",
    "What is the frequency of the value -1?  \n",
    "<br>\n",
    "5"
   ]
  },
  {
   "cell_type": "markdown",
   "metadata": {},
   "source": [
    "Question 11:  \n",
    "What is the Relative Frequency of the value -2 ? Give in the decimal form, keeping at least 2 decimal points after the period."
   ]
  },
  {
   "cell_type": "code",
   "execution_count": 10,
   "metadata": {},
   "outputs": [
    {
     "data": {
      "text/html": [
       "0.136363636363636"
      ],
      "text/latex": [
       "0.136363636363636"
      ],
      "text/markdown": [
       "0.136363636363636"
      ],
      "text/plain": [
       "[1] 0.1363636"
      ]
     },
     "metadata": {},
     "output_type": "display_data"
    }
   ],
   "source": [
    "3/22"
   ]
  },
  {
   "cell_type": "markdown",
   "metadata": {},
   "source": [
    "Question 12:  \n",
    "We want to construct the Density Histogram for this Dataset, using the following Bins:  \n",
    "$$ [-2, 0); [0, 3); [3, 5] $$  \n",
    "Find the value of the Density Histogram on the first Bin [-2,0)."
   ]
  },
  {
   "cell_type": "code",
   "execution_count": 11,
   "metadata": {},
   "outputs": [
    {
     "data": {
      "text/html": [
       "0.275862068965517"
      ],
      "text/latex": [
       "0.275862068965517"
      ],
      "text/markdown": [
       "0.275862068965517"
      ],
      "text/plain": [
       "[1] 0.2758621"
      ]
     },
     "metadata": {},
     "output_type": "display_data"
    }
   ],
   "source": [
    "b1 <- 3 + 5\n",
    "b2 <- 1 + 2 + 2\n",
    "b3 <- 7 + 2\n",
    "\n",
    "b1_area <- b1 * 2\n",
    "b2_area <- b2 * 3\n",
    "b3_area <- b3 * 3\n",
    "\n",
    "tot_area <- (b1_area + b2_area + b3_area)\n",
    "\n",
    "b1_area_norm <- b1_area / tot_area\n",
    "b2_area_norm <- b2_area / tot_area\n",
    "b3_area_norm <- b3_area / tot_area\n",
    "\n",
    "b1_area_norm"
   ]
  },
  {
   "cell_type": "markdown",
   "metadata": {},
   "source": [
    "We are given the Dataset\n",
    "\n",
    "$$ 2, 2, 2, 5, 3, 2, 0, 0, 3, 5. $$"
   ]
  },
  {
   "cell_type": "code",
   "execution_count": 12,
   "metadata": {},
   "outputs": [],
   "source": [
    "x <- c(2, 2, 2, 5, 3, 2, 0, 0, 3, 5)"
   ]
  },
  {
   "cell_type": "markdown",
   "metadata": {},
   "source": [
    "Question 13:  \n",
    "Find the value of the ECDF of this Dataset at the point 15, i.e. find ECDF(15)."
   ]
  },
  {
   "cell_type": "code",
   "execution_count": 13,
   "metadata": {},
   "outputs": [
    {
     "data": {
      "image/png": "[encoded data removed]",
      "text/plain": [
       "Plot with title \"ecdf(x)\""
      ]
     },
     "metadata": {
      "image/png": {
       "height": 420,
       "width": 420
      }
     },
     "output_type": "display_data"
    }
   ],
   "source": [
    "plot(ecdf(x), xlim = c(0, 18), ylim = c(0, 1))\n",
    "abline(v = 15,  untf = T, col = \"red\")"
   ]
  },
  {
   "cell_type": "markdown",
   "metadata": {},
   "source": [
    "Question 14:  \n",
    "Find ECDF(-2.3)."
   ]
  },
  {
   "cell_type": "code",
   "execution_count": 14,
   "metadata": {},
   "outputs": [
    {
     "data": {
      "image/png": "[encoded data removed]",
      "text/plain": [
       "Plot with title \"ecdf(x)\""
      ]
     },
     "metadata": {
      "image/png": {
       "height": 420,
       "width": 420
      }
     },
     "output_type": "display_data"
    }
   ],
   "source": [
    "plot(ecdf(x), xlim = c(-3, 7), ylim = c(0, 1))\n",
    "abline(v = -2.3,  untf = T, col = \"red\")"
   ]
  },
  {
   "cell_type": "markdown",
   "metadata": {},
   "source": [
    "Question 15:  \n",
    "Find ECDF(2.3)."
   ]
  },
  {
   "cell_type": "code",
   "execution_count": 15,
   "metadata": {},
   "outputs": [
    {
     "data": {
      "image/png": "[encoded data removed]",
      "text/plain": [
       "Plot with title \"ecdf(x)\""
      ]
     },
     "metadata": {
      "image/png": {
       "height": 420,
       "width": 420
      }
     },
     "output_type": "display_data"
    }
   ],
   "source": [
    "plot(ecdf(x))\n",
    "abline(v = 2.3,  untf = T, col = \"red\")"
   ]
  },
  {
   "cell_type": "markdown",
   "metadata": {},
   "source": [
    "---\n",
    "Below is the graph of the ECDF of some Dataset with 20 elements:  \n",
    "<br>\n",
    "<img src=\"https://github.com/MovsisyanM/sandbox/blob/main/Statistics/res/hw01p04.jpeg?raw=true\"></img>"
   ]
  },
  {
   "cell_type": "markdown",
   "metadata": {},
   "source": [
    "Question 16:  \n",
    "Find the Relative Frequency of the Element 2 in the Dataset."
   ]
  },
  {
   "cell_type": "code",
   "execution_count": 16,
   "metadata": {},
   "outputs": [
    {
     "data": {
      "text/html": [
       "0.4"
      ],
      "text/latex": [
       "0.4"
      ],
      "text/markdown": [
       "0.4"
      ],
      "text/plain": [
       "[1] 0.4"
      ]
     },
     "metadata": {},
     "output_type": "display_data"
    }
   ],
   "source": [
    "0.6 - 0.2"
   ]
  },
  {
   "cell_type": "markdown",
   "metadata": {},
   "source": [
    "Question 17:  \n",
    "Find the Frequency of the Element 2 in the Dataset."
   ]
  },
  {
   "cell_type": "code",
   "execution_count": 17,
   "metadata": {},
   "outputs": [
    {
     "data": {
      "text/html": [
       "8"
      ],
      "text/latex": [
       "8"
      ],
      "text/markdown": [
       "8"
      ],
      "text/plain": [
       "[1] 8"
      ]
     },
     "metadata": {},
     "output_type": "display_data"
    }
   ],
   "source": [
    "0.4 * 20"
   ]
  },
  {
   "cell_type": "markdown",
   "metadata": {},
   "source": [
    "Question 18:  \n",
    "It is possible to construct the Barplot of this Dataset.  \n",
    "<br>\n",
    "Depends on the kind of barplot. If it is a normal barplot, then no, because the ecdf doesn't preserve the origianl order of the data. But if we want to make a histogram, then yes."
   ]
  },
  {
   "cell_type": "markdown",
   "metadata": {},
   "source": [
    "Question 19:  \n",
    "Information about the number of elements in the Dataset is necessary to reconstruct the Dataset from the ECDF graph.  \n",
    "<br>\n",
    "Yes"
   ]
  },
  {
   "cell_type": "markdown",
   "metadata": {},
   "source": [
    "Question 19.5 (Supplementary):\n",
    "Draw the Barplot of this Dataset."
   ]
  },
  {
   "cell_type": "code",
   "execution_count": 18,
   "metadata": {},
   "outputs": [
    {
     "data": {
      "image/png": "[encoded data removed]",
      "text/plain": [
       "Plot with title \"Histogram of x\""
      ]
     },
     "metadata": {
      "image/png": {
       "height": 420,
       "width": 420
      }
     },
     "output_type": "display_data"
    }
   ],
   "source": [
    "x <- c(rep(-5, 0.2 * 20), rep(2, 0.4 * 20), rep(3, 0.3 * 20), rep(4, 0.1 * 20))\n",
    "hist(x, breaks = 20)"
   ]
  },
  {
   "cell_type": "markdown",
   "metadata": {},
   "source": [
    "Question 20:  \n",
    "We are given the following Frequency/Relative Frequency Table, where some part of information is missing. Find the value of x.  \n",
    "<br>\n",
    "| Unique Values | Frequency | Relative Frequency |\n",
    "| ------------- | --------- | ------------------ |\n",
    "| 1             | 20        | 0.4                |\n",
    "| 2             | x         |                    |\n",
    "| 3             |           | 0.1                |"
   ]
  },
  {
   "cell_type": "code",
   "execution_count": 19,
   "metadata": {},
   "outputs": [
    {
     "data": {
      "text/html": [
       "25"
      ],
      "text/latex": [
       "25"
      ],
      "text/markdown": [
       "25"
      ],
      "text/plain": [
       "[1] 25"
      ]
     },
     "metadata": {},
     "output_type": "display_data"
    }
   ],
   "source": [
    "total = 20 / 0.4\n",
    "x <- (1 - 0.4 - 0.1) * total\n",
    "x"
   ]
  },
  {
   "cell_type": "markdown",
   "metadata": {},
   "source": [
    "(Supplementary) Prove that the Area under any Density Histogram is 1.  \n",
    "<br>\n",
    "No"
   ]
  },
  {
   "cell_type": "markdown",
   "metadata": {},
   "source": [
    "(Supplementary) Write an R code (function, if you know how to write functions in R) that will make the Relative Frequency Table for a given 1D numerical Dataset x."
   ]
  },
  {
   "cell_type": "code",
   "execution_count": 22,
   "metadata": {},
   "outputs": [],
   "source": [
    "# Write an R function that will make the Relative\n",
    "# Frequency Table for a given 1D numerical Dataset x.\n",
    "\n",
    "rel_tab <- function(x) {\n",
    "  x_tab <- table(x)\n",
    "  x_tab_norm <- x_tab / length(x)\n",
    "  x_tab_norm\n",
    "}"
   ]
  },
  {
   "cell_type": "code",
   "execution_count": 24,
   "metadata": {},
   "outputs": [
    {
     "data": {
      "text/plain": [
       "x\n",
       "        1         2         3 \n",
       "0.2857143 0.2857143 0.4285714 "
      ]
     },
     "metadata": {},
     "output_type": "display_data"
    }
   ],
   "source": [
    "rel_tab(c(1, 1, 2, 2, 3, 3, 3))"
   ]
  }
 ],
 "metadata": {
  "kernelspec": {
   "display_name": "R",
   "language": "R",
   "name": "ir"
  },
  "language_info": {
   "codemirror_mode": "r",
   "file_extension": ".r",
   "mimetype": "text/x-r-source",
   "name": "R",
   "pygments_lexer": "r",
   "version": "4.1.2"
  },
  "orig_nbformat": 4
 },
 "nbformat": 4,
 "nbformat_minor": 2
}
