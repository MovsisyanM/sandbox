{
 "cells": [
  {
   "cell_type": "markdown",
   "metadata": {},
   "source": [
    "# Homework 6\n",
    "###### by Mher Movsisyan\n",
    "---"
   ]
  },
  {
   "cell_type": "markdown",
   "metadata": {},
   "source": [
    "### Problem 1: Properties of Estimators  \n",
    "a. (20 points)  \n",
    "Assume we are given a distribution with a known mean μ. We want to Estimate the Variance\n",
    "of that Distribution, using the Random Sample\n",
    "$$ X_1, X_2, \\ldots, X_n $$\n",
    "coming from that Distribution.  \n",
    "To Estimate the Variance σ<sup>2</sup>, we want to use the Estimator\n",
    "$$ \\hat{\\sigma}^2 = \\frac{1}{n} \\sum_{k=1}^n (X_k - \\mu)^2 $$  \n",
    "1. Calculate the Bias of ̂ σ<sup>2</sup> and deduce if it is Unbiased or not;"
   ]
  },
  {
   "cell_type": "markdown",
   "metadata": {},
   "source": [
    "$$ E(\\hat\\sigma^2) = \\frac{1}{n} \\sum_{k=1}^n E((X_k - \\mu)^2) = $$\n",
    "$$ = \\frac {1}{n} \\sum_{k=1}^n(Var(X_k - \\mu) + E(X_k - \\mu)^2) = $$\n",
    "$$ = \\frac {1}{n} \\sum_{k=1}^n(Var(X_k)) = Var(X_k) = \\sigma^2 $$"
   ]
  },
  {
   "cell_type": "markdown",
   "metadata": {},
   "source": [
    "Thus, the Bias is 0."
   ]
  },
  {
   "cell_type": "markdown",
   "metadata": {},
   "source": [
    "2. Prove that ̂ σ<sup>2</sup> is a Consistent Estimator for σ<sup>2</sup>."
   ]
  },
  {
   "cell_type": "markdown",
   "metadata": {},
   "source": [
    "$$ Bias(\\hat\\sigma^2, \\sigma^2) = E(\\hat\\sigma^2) - \\sigma^2 = 0 $$\n",
    "$$ \\Rightarrow \\hat\\sigma^2 \\underset{n \\to \\infty}{\\to} \\sigma^2\\ \\ by\\ \\ W.L.L.N. $$"
   ]
  },
  {
   "cell_type": "markdown",
   "metadata": {},
   "source": [
    "3. Prove that $$ \\hat{\\sigma} = \\sqrt{\\frac{\\sum_{k=1}^n(X_k-\\mu)^2}{n}} $$ is a Consistent Estimator for σ"
   ]
  },
  {
   "cell_type": "markdown",
   "metadata": {},
   "source": [
    "From the proof above, $$ \\hat\\sigma^2 \\underset{n \\to \\infty}{\\to} \\sigma^2 \\Rightarrow \\hat\\sigma = \\sqrt{\\frac{\\sum_{k=1}^n(X_k-\\mu)^2}{n}} \\underset{n \\to \\infty}{\\to} \\sigma $$"
   ]
  },
  {
   "cell_type": "markdown",
   "metadata": {},
   "source": [
    "4. In general, without any additional information, it is not possible to calculate the \n",
    "$$ MSE(\\hat\\sigma^2, σ^2) $$ \n",
    "So for this part, assume that \n",
    "$$ X_1, X_2, \\ldots, X_n \\sim \\N(\\mu, \\sigma^2) $$\n",
    "Calculate the $$ MSE(\\hat\\sigma^2, σ^2) $$ in this case.\n",
    "Note: You can use the following property: if X ∼ N(0, σ<sup>2</sup>)\n",
    "$$ E[X^4] = 3σ^4 $$"
   ]
  },
  {
   "cell_type": "markdown",
   "metadata": {},
   "source": [
    "The estimator is unbiased, so X<sub>1</sub>, X<sub>2</sub>, ..., X<sub>n</sub> ∼ N(0, σ<sup>2</sup>)\n",
    "$$ MSE(\\hat\\sigma^2, \\sigma^2) = Var(\\hat\\sigma^2) = Var(\\frac{1}{n} \\sum_{k=1}^n (X_k - \\mu)^2) = $$\n",
    "$$ = Var((X_k - \\mu)^2) = Var(X_k^2 + 2\\mu X_k + \\mu^2) = $$\n",
    "$$ = Var(X_k^2) + 4Cov(X_k^2, X_k) + 4Var(X_k) = $$"
   ]
  },
  {
   "cell_type": "markdown",
   "metadata": {},
   "source": []
  },
  {
   "cell_type": "markdown",
   "metadata": {},
   "source": [
    "b. (10 points)\n",
    "Assume we want to Estimate λ in the Exponential Model: we take a Random Sample\n",
    "$$ X_1, X_2, \\ldots, X_n Ex(\\lambda) $$"
   ]
  },
  {
   "cell_type": "markdown",
   "metadata": {},
   "source": []
  }
 ],
 "metadata": {
  "interpreter": {
   "hash": "b89b5cfaba6639976dc87ff2fec6d58faec662063367e2c229c520fe71072417"
  },
  "kernelspec": {
   "display_name": "R",
   "language": "R",
   "name": "ir"
  },
  "language_info": {
   "name": "R",
   "version": "3.10.1"
  },
  "orig_nbformat": 4
 },
 "nbformat": 4,
 "nbformat_minor": 2
}
