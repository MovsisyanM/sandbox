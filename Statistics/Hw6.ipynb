{
 "cells": [
  {
   "cell_type": "markdown",
   "metadata": {},
   "source": [
    "# Homework 6\n",
    "###### by Mher Movsisyan\n",
    "---"
   ]
  },
  {
   "cell_type": "markdown",
   "metadata": {},
   "source": [
    "### Problem 1: Properties of Estimators  \n",
    "a. (20 points)  \n",
    "Assume we are given a distribution with a known mean μ. We want to Estimate the Variance\n",
    "of that Distribution, using the Random Sample\n",
    "$$ X_1, X_2, \\ldots, X_n $$\n",
    "coming from that Distribution.  \n",
    "To Estimate the Variance σ<sup>2</sup>, we want to use the Estimator\n",
    "$$ \\hat{\\sigma}^2 = \\frac{1}{n} \\sum_{k=1}^n (X_k - \\mu)^2 $$  \n",
    "1. Calculate the Bias of ̂ σ<sup>2</sup> and deduce if it is Unbiased or not;"
   ]
  },
  {
   "cell_type": "markdown",
   "metadata": {},
   "source": [
    "$$ E(\\hat\\sigma^2) = \\frac{1}{n} \\sum_{k=1}^n E((X_k - \\mu)^2) = $$\n",
    "$$ = \\frac {1}{n} \\sum_{k=1}^n(Var(X_k - \\mu) + E(X_k - \\mu)^2) = $$\n",
    "$$ = \\frac {1}{n} \\sum_{k=1}^n(Var(X_k)) = Var(X_k) = \\sigma^2 $$"
   ]
  },
  {
   "cell_type": "markdown",
   "metadata": {},
   "source": [
    "Thus, the Bias is 0."
   ]
  },
  {
   "cell_type": "markdown",
   "metadata": {},
   "source": [
    "2. Prove that ̂ σ<sup>2</sup> is a Consistent Estimator for σ<sup>2</sup>."
   ]
  },
  {
   "cell_type": "markdown",
   "metadata": {},
   "source": [
    "$$ Bias(\\hat\\sigma^2, \\sigma^2) = E(\\hat\\sigma^2) - \\sigma^2 = 0 $$\n",
    "$$ \\Rightarrow \\hat\\sigma^2 \\underset{n \\to \\infty}{\\to} \\sigma^2\\ \\ by\\ \\ W.L.L.N. $$"
   ]
  },
  {
   "cell_type": "markdown",
   "metadata": {},
   "source": [
    "3. Prove that $$ \\hat{\\sigma} = \\sqrt{\\frac{\\sum_{k=1}^n(X_k-\\mu)^2}{n}} $$ is a Consistent Estimator for σ"
   ]
  },
  {
   "cell_type": "markdown",
   "metadata": {},
   "source": [
    "From the proof above, $$ \\hat\\sigma^2 \\underset{n \\to \\infty}{\\to} \\sigma^2 \\Rightarrow \\hat\\sigma = \\sqrt{\\frac{\\sum_{k=1}^n(X_k-\\mu)^2}{n}} \\underset{n \\to \\infty}{\\to} \\sigma $$"
   ]
  },
  {
   "cell_type": "markdown",
   "metadata": {},
   "source": [
    "4. In general, without any additional information, it is not possible to calculate the \n",
    "$$ MSE(\\hat\\sigma^2, σ^2) $$ \n",
    "So for this part, assume that \n",
    "$$ X_1, X_2, \\ldots, X_n \\sim \\N (\\mu, \\sigma^2) $$\n",
    "Calculate the $$ MSE(\\hat\\sigma^2, σ^2) $$ in this case.\n",
    "Note: You can use the following property: if X ∼ N(0, σ<sup>2</sup>)\n",
    "$$ E[X^4] = 3σ^4 $$"
   ]
  },
  {
   "cell_type": "markdown",
   "metadata": {},
   "source": [
    "The estimator is unbiased, so X<sub>1</sub>, X<sub>2</sub>, ..., X<sub>n</sub> ∼ N(0, σ<sup>2</sup>)\n",
    "$$ MSE(\\hat\\sigma^2, \\sigma^2) = Var(\\hat\\sigma^2) = Var(\\frac{1}{n} \\sum_{k=1}^n (X_k - \\mu)^2) = $$\n",
    "$$ = Var((X_k - \\mu)^2) = Var(X_k^2 + 2\\mu X_k + \\mu^2) = $$\n",
    "$$ = Var(X_k^2) + 4Cov(X_k^2, X_k) + 4Var(X_k) = $$"
   ]
  },
  {
   "cell_type": "markdown",
   "metadata": {},
   "source": [
    "$$ = Var(X_k^2) + 4E(X_k)E(X_k^2)E(X_k^3) + 4Var(X_k) = $$"
   ]
  },
  {
   "cell_type": "markdown",
   "metadata": {},
   "source": [
    "$$ = Var(X_k^2) + 4\\sigma^2 \\approx 4E(X_k)^2Var(X_k) + 4\\sigma^2 = 4\\sigma^2 $$"
   ]
  },
  {
   "cell_type": "markdown",
   "metadata": {},
   "source": [
    "b. (10 points)\n",
    "Assume we want to Estimate λ in the Exponential Model: we take a Random Sample\n",
    "$$ X_1, X_2, \\ldots, X_n Ex(\\lambda) $$\n",
    "and use the Estimator\n",
    "$$ \\hat{\\lambda} = \\frac{n}{\\sum_{k=1}^n X_k}  $$\n",
    "to Estimate λ. Show that ˆλ<sub>n</sub> is a Consistent Estimator for λ"
   ]
  },
  {
   "cell_type": "markdown",
   "metadata": {},
   "source": [
    "$$ \\frac{n}{\\sum_{k=1}^n X_k} \\to \\frac {1}{\\lambda} = E (X_k) \\Rightarrow \\hat\\lambda\\ is\\ consistent $$"
   ]
  },
  {
   "cell_type": "markdown",
   "metadata": {},
   "source": [
    "c. (R, 20 points)  \n",
    "We want to check the results of the Problem 1b, using R. To see the Consistency,\n",
    "- Fix some value of λ; this will be the true value of our parameter (for simulations, we assume we know it);\n",
    "- Take large n;\n",
    "- Generate a random sample of size n from the Exp(λ) Distribution;\n",
    "- For each `k = 1, 2, 3, ..., n`, calculate ˆλ<sub>k</sub>, and plot these points on the graph against k, joining the points with lines (use the type = \"l\" as a parameter in plot command); by this, we want to “see” to what ˆλ<sub>k</sub> is approaching;\n",
    "- Now, do the 3-rd step several times, and plot on the previous plot, each time using a different color; by this, we want to see that for different observations, the limit will be the same;\n",
    "- Finally, add a horizontal line `y = λ`, passing through the real value of λ. If your code is running correctly, and n is large, the curves for the values of ˆλ<sub>k</sub> need to approach this line, showing the Consistency of ˆλ<sub>k</sub>."
   ]
  },
  {
   "cell_type": "code",
   "execution_count": 24,
   "metadata": {},
   "outputs": [
    {
     "data": {
      "image/png": "[encoded data removed]",
      "text/plain": [
       "plot without title"
      ]
     },
     "metadata": {
      "image/png": {
       "height": 420,
       "width": 420
      }
     },
     "output_type": "display_data"
    }
   ],
   "source": [
    "lambda <- 2.3567\n",
    "n <- 10000\n",
    "sample <- rexp(n, lambda)\n",
    "sample_2 <- rexp(n, lambda)\n",
    "sample_3 <- rexp(n, lambda)\n",
    "\n",
    "lambda_hat <- function (sample) {\n",
    "  return (length(sample)/sum(sample))\n",
    "}\n",
    "\n",
    "lambda_hats <- vector()\n",
    "\n",
    "for (i in 0:n) {\n",
    "    lambda_hats[i] <- lambda_hat(sample[1:i])\n",
    "}\n",
    "\n",
    "lambda_hats_2 <- vector()\n",
    "\n",
    "for (i in 0:n) {\n",
    "    lambda_hats_2[i] <- lambda_hat(sample_2[1:i])\n",
    "}\n",
    "\n",
    "lambda_hats_3 <- vector()\n",
    "\n",
    "for (i in 0:n) {\n",
    "    lambda_hats_3[i] <- lambda_hat(sample_3[1:i])\n",
    "}\n",
    "\n",
    "plot(c(0:(n-1)), lambda_hats, type = \"l\", col=\"blue\", xlim=c(0, n-1), ylim=c(0.5, 4.5), xlab=\"n\", ylab=\"lambda_hat\")\n",
    "par(new=T)\n",
    "plot(c(0:(n-1)), lambda_hats_2, type = \"l\", col=\"green\", xlim=c(0, n-1), ylim=c(0.5, 4.5), xlab=\"n\", ylab=\"lambda_hat\")\n",
    "par(new=T)\n",
    "plot(c(0:(n-1)), lambda_hats_3, type = \"l\", col=\"orange\", xlim=c(0, n-1), ylim=c(0.5, 4.5), xlab=\"n\", ylab=\"lambda_hat\")\n",
    "\n",
    "lines(c(0, (n-1)), c(lambda, lambda), col = \"red\")"
   ]
  }
 ],
 "metadata": {
  "interpreter": {
   "hash": "b89b5cfaba6639976dc87ff2fec6d58faec662063367e2c229c520fe71072417"
  },
  "kernelspec": {
   "display_name": "R",
   "language": "R",
   "name": "ir"
  },
  "language_info": {
   "codemirror_mode": "r",
   "file_extension": ".r",
   "mimetype": "text/x-r-source",
   "name": "R",
   "pygments_lexer": "r",
   "version": "4.1.2"
  },
  "orig_nbformat": 4
 },
 "nbformat": 4,
 "nbformat_minor": 2
}
