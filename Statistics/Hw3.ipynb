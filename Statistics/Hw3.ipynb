{
 "cells": [
  {
   "cell_type": "markdown",
   "metadata": {},
   "source": [
    "## Homework 3\n",
    "###### by Mher Movsisyan\n",
    "---"
   ]
  },
  {
   "cell_type": "markdown",
   "metadata": {},
   "source": [
    "### Problem 1: Measures for the Spread/Variability  \n",
    "5 points"
   ]
  },
  {
   "cell_type": "markdown",
   "metadata": {},
   "source": [
    "For the Dataset  \n",
    "`x: -1,3,4`  \n",
    "calculate\n",
    "- The Range `range(x)`\n",
    "- The Sample Variance `var(x)`, using n in the denominator\n",
    "- The Sample Standard Deviation `sd(x)`, using n - 1 in the denominator\n",
    "- The Mean Absolute Deviation `MAD(x)` from the Mean."
   ]
  },
  {
   "cell_type": "markdown",
   "metadata": {},
   "source": [
    "$$ range(x) = max(x) - min(x) = 4 + 1 = 5 $$"
   ]
  },
  {
   "cell_type": "markdown",
   "metadata": {},
   "source": [
    "$$ var(x) = \\frac {(-1)^2 + 3^2 + 4^2} {3} = \\frac {26} {3} $$"
   ]
  },
  {
   "cell_type": "markdown",
   "metadata": {},
   "source": [
    "$$ sd(x) = \\sqrt{var(x)} = \\sqrt{\\frac {26} {2}} = \\sqrt{13} $$"
   ]
  },
  {
   "cell_type": "markdown",
   "metadata": {},
   "source": [
    "$$ MAD(x) = Mean(|\\bar{x} - x|) = Mean(3, 1, 2) = 2 $$  "
   ]
  },
  {
   "cell_type": "markdown",
   "metadata": {},
   "source": [
    "### Problem 2: Quartiles  \n",
    "(5 points)"
   ]
  },
  {
   "cell_type": "markdown",
   "metadata": {},
   "source": [
    "For the Datasets  \n",
    "`x : −6, 15, 0, 5, 17, −4, 1, −9, −9, 13`,  \n",
    "`y : 0.0, 3.6, 2.7, −1.5, 5.7, 1.5, −3.0, 4.5, 6.0`  \n",
    "- Calculate all three Quartiles;\n",
    "- Calculate the IQR;\n",
    "- Check if these Datasets have outliers (in the BoxPlot sense)."
   ]
  },
  {
   "cell_type": "markdown",
   "metadata": {},
   "source": [
    "$$ sorted(x) = -9, -9, -6, -4, 0, 1, 5, 13, 15, 17 $$"
   ]
  },
  {
   "cell_type": "markdown",
   "metadata": {},
   "source": [
    "$$ Q_1(x) = x_3 = -6 $$"
   ]
  },
  {
   "cell_type": "markdown",
   "metadata": {},
   "source": [
    "$$ Q_2(x) = Mean(x_5, x_6) = 0.5 $$"
   ]
  },
  {
   "cell_type": "markdown",
   "metadata": {},
   "source": [
    "$$ Q_3(x) = x_8 = 13 $$"
   ]
  },
  {
   "cell_type": "markdown",
   "metadata": {},
   "source": [
    "$$ IQR(x) = Q_3(x) - Q_1(x) = 19 $$"
   ]
  },
  {
   "cell_type": "markdown",
   "metadata": {},
   "source": [
    "$$ W_1(x) = x_1 \\in (Q_1(x) - 1.5 * IQR(x),\\ \\infty) = x_1 \\in (-6 - 1.5 * 19,\\ \\infty) = -9 $$\n",
    "$$ W_2(x) = x_\\infty \\in (-\\infty,\\ Q_3(x) + 1.5 * IQR(x)) = x_\\infty \\in (-\\infty,\\ 13 + 1.5 * 19) = 17 $$"
   ]
  },
  {
   "cell_type": "markdown",
   "metadata": {},
   "source": [
    "`x` has no outliers."
   ]
  },
  {
   "cell_type": "markdown",
   "metadata": {},
   "source": [
    "$$ sorted(y) = -3,\\ -1.5,\\ 0,\\ 1.5,\\ 2.7,\\ 3.6,\\ 4.5,\\ 5.7,\\ 6 $$"
   ]
  },
  {
   "cell_type": "markdown",
   "metadata": {},
   "source": [
    "$$ Q_1(y) = y_3 = 0 $$"
   ]
  },
  {
   "cell_type": "markdown",
   "metadata": {},
   "source": [
    "$$ Q_2(y) = y_5 = 2.7 $$"
   ]
  },
  {
   "cell_type": "markdown",
   "metadata": {},
   "source": [
    "$$ Q_3(y) = y_7 = 4.5 $$"
   ]
  },
  {
   "cell_type": "markdown",
   "metadata": {},
   "source": [
    "$$ IQR(y) = Q_3(y) - Q_1(y) = 4.5 $$"
   ]
  },
  {
   "cell_type": "markdown",
   "metadata": {},
   "source": [
    "$$ W_1(y) = x_1 \\in (Q_1(y) - 1.5 * IQR(y),\\ \\infty) = x_1 \\in (0 - 1.5 * 4.5,\\ \\infty) = -3 $$  \n",
    "$$ W_2(y) = x_\\infty \\in (-\\infty,\\ Q_3(y) + 1.5 * IQR(y)) = x_\\infty \\in (-\\infty,\\ 4.5 + 1.5 * 4.5) = 6 $$"
   ]
  },
  {
   "cell_type": "markdown",
   "metadata": {},
   "source": [
    "`y` has no outliers."
   ]
  },
  {
   "cell_type": "markdown",
   "metadata": {},
   "source": [
    "### Problem 3: Boxplot  \n",
    "a. (7 points)  \n",
    "Construct (with calculations) a boxplot for the Dataset  \n",
    "`25 -10 3 1 2 8 4 0 -1 7 7 2 -1 2 -6 5 0`"
   ]
  },
  {
   "cell_type": "markdown",
   "metadata": {},
   "source": [
    "$$ sorted = -10,\\ -6,\\ -1,\\ -1,\\ 0,\\ 0,\\ 1,\\ 2,\\ 2,\\ 2,\\ 3,\\ 4,\\ 5,\\ 7,\\ 7,\\ 8,\\ 25 $$"
   ]
  },
  {
   "cell_type": "markdown",
   "metadata": {},
   "source": [
    "$$ Q_1 = 0 $$  \n",
    "$$ Q_2 = 2 $$  \n",
    "$$ Q_3 = 5 $$\n",
    "$$ IQR = 5 $$\n",
    "$$ W_1 = -6 $$  \n",
    "$$ W_2 = 9 $$\n",
    "$$ Outliers = {-10,\\ 25}"
   ]
  },
  {
   "cell_type": "markdown",
   "metadata": {},
   "source": [
    "b. (3 points)  \n",
    "Here is the summary of some Dataset `res`"
   ]
  },
  {
   "cell_type": "code",
   "execution_count": null,
   "metadata": {},
   "outputs": [],
   "source": [
    "summary(res)"
   ]
  },
  {
   "cell_type": "markdown",
   "metadata": {},
   "source": [
    "```\n",
    "   Min. 1st Qu. Median   Mean 3rd Qu.   Max.\n",
    "-2.9076 -0.9472 1.0096 1.0548  3.0159 4.9607\n",
    "```"
   ]
  },
  {
   "cell_type": "markdown",
   "metadata": {},
   "source": [
    "Construct the Boxplot of `res`."
   ]
  },
  {
   "cell_type": "markdown",
   "metadata": {},
   "source": [
    "$$ IQR = 3.0159 - -0.9472 = 3.9631 $$  \n",
    "$$ W_1 = -2.9076 $$  \n",
    "$$ W_2 = 4.9607 $$  \n",
    "no outliers"
   ]
  },
  {
   "cell_type": "markdown",
   "metadata": {},
   "source": [
    "### Problem 4: Sample Quantiles  \n",
    "(4 points)  \n",
    "Find the 10%, 15%, 80% Quantiles (using our lecture definition) of the following Dataset:  \n",
    "`x : −1, 2, 3, 2, 0, 2, 1, −1, 1, 5, 4`"
   ]
  },
  {
   "cell_type": "markdown",
   "metadata": {},
   "source": [
    "$$ sorted(x) = -1,-1,0,1,1,2,2,2,3,4,5 $$"
   ]
  },
  {
   "cell_type": "markdown",
   "metadata": {},
   "source": [
    "$$ q_{10}(x) = x_{[1.1]} = -1 $$\n",
    "$$ q_{15}(x) = x_{[1.61]} = -1 $$\n",
    "$$ q_{80}(x) = x_{[8.8]} = 2 $$"
   ]
  },
  {
   "cell_type": "markdown",
   "metadata": {},
   "source": [
    "### Problem 5: Theoretical Quantiles  \n",
    "a. (6 points)  \n",
    "Find the 27% Quantile of the Exponential Distribution `Exp(3)`"
   ]
  },
  {
   "cell_type": "markdown",
   "metadata": {},
   "source": [
    "$$ \\int_{0}^{q_{27}} 1 - e^{-\\lambda x} dx = 0.27 $$"
   ]
  },
  {
   "cell_type": "markdown",
   "metadata": {},
   "source": [
    "$$ 1 - e^{-3q_{27}} = 0.27 $$"
   ]
  },
  {
   "cell_type": "markdown",
   "metadata": {},
   "source": [
    "$$ ln(0.73) = -3q_{27} $$"
   ]
  },
  {
   "cell_type": "markdown",
   "metadata": {},
   "source": [
    "$$ q_{27} \\approx 0.105 $$"
   ]
  },
  {
   "cell_type": "markdown",
   "metadata": {},
   "source": [
    "b. (5 points)  \n",
    "Find, for any α ∈ (0, 1), the α-Quantile of *Unif*[a, b] Distribution."
   ]
  },
  {
   "cell_type": "markdown",
   "metadata": {},
   "source": [
    "$$ q_{\\alpha} = (b - a)\\alpha + a $$"
   ]
  },
  {
   "cell_type": "markdown",
   "metadata": {},
   "source": [
    "c. (5 points)  \n",
    "Find the 10% Quantile of the Distribution with the PDF  \n",
    "$$ f(x) = \\frac {24} {7x^4};\\ \\ \\ x \\in [1,2] $$"
   ]
  },
  {
   "cell_type": "markdown",
   "metadata": {},
   "source": [
    "$$ \\int_1^{q_{10}} \\frac {24} {7x^4} dx = \\frac {-8} {7x^3} |_{1}^{q_{10}} = $$"
   ]
  },
  {
   "cell_type": "markdown",
   "metadata": {},
   "source": [
    "$$ \\frac {-8} {7q_{10}^3} - \\frac {-8} {7} \\rightarrow $$"
   ]
  },
  {
   "cell_type": "markdown",
   "metadata": {},
   "source": [
    "$$ q_{10} = \\frac {4} {7^{2/3}} $$"
   ]
  },
  {
   "cell_type": "markdown",
   "metadata": {},
   "source": [
    "## R Coding Part  \n",
    "### Problem 6  \n",
    "a. (4 points)\n",
    "- Write a function mad1 which will calculate the Mean Absolute Deviation from the Mean. Run it on each of the cars Dataset Variables;  \n",
    "- Write a function mad2 which will calculate the Mean Absolute Deviation from the Median. Test it on the same Dataset as above;  \n",
    "- (Supplementary) Join the previous functions into one, so that the user will be able to choose the Center Measure (like we can choose in the R built-in mad function)."
   ]
  },
  {
   "cell_type": "code",
   "execution_count": 62,
   "metadata": {},
   "outputs": [],
   "source": [
    "mad1 <- function(x) {\n",
    "    mean(abs(x - mean(x)))\n",
    "}"
   ]
  },
  {
   "cell_type": "code",
   "execution_count": 63,
   "metadata": {},
   "outputs": [
    {
     "data": {
      "text/html": [
       "20.6968"
      ],
      "text/latex": [
       "20.6968"
      ],
      "text/markdown": [
       "20.6968"
      ],
      "text/plain": [
       "[1] 20.6968"
      ]
     },
     "metadata": {},
     "output_type": "display_data"
    }
   ],
   "source": [
    "mad1(cars$dist)"
   ]
  },
  {
   "cell_type": "code",
   "execution_count": 64,
   "metadata": {},
   "outputs": [
    {
     "data": {
      "text/html": [
       "4.336"
      ],
      "text/latex": [
       "4.336"
      ],
      "text/markdown": [
       "4.336"
      ],
      "text/plain": [
       "[1] 4.336"
      ]
     },
     "metadata": {},
     "output_type": "display_data"
    }
   ],
   "source": [
    "mad1(cars$speed)"
   ]
  },
  {
   "cell_type": "code",
   "execution_count": 68,
   "metadata": {},
   "outputs": [],
   "source": [
    "mad2 <- function(x) {\n",
    "    mean(abs(x - median(x)))\n",
    "}"
   ]
  },
  {
   "cell_type": "code",
   "execution_count": 71,
   "metadata": {},
   "outputs": [
    {
     "data": {
      "text/html": [
       "20.14"
      ],
      "text/latex": [
       "20.14"
      ],
      "text/markdown": [
       "20.14"
      ],
      "text/plain": [
       "[1] 20.14"
      ]
     },
     "metadata": {},
     "output_type": "display_data"
    }
   ],
   "source": [
    "mad2(cars$dist)"
   ]
  },
  {
   "cell_type": "code",
   "execution_count": 72,
   "metadata": {},
   "outputs": [
    {
     "data": {
      "text/html": [
       "4.32"
      ],
      "text/latex": [
       "4.32"
      ],
      "text/markdown": [
       "4.32"
      ],
      "text/plain": [
       "[1] 4.32"
      ]
     },
     "metadata": {},
     "output_type": "display_data"
    }
   ],
   "source": [
    "mad2(cars$speed)"
   ]
  },
  {
   "cell_type": "code",
   "execution_count": 73,
   "metadata": {},
   "outputs": [],
   "source": [
    "mad3 <- function(x, central_measure = median) {\n",
    "    mean(abs(x - central_measure(x)))\n",
    "}"
   ]
  },
  {
   "cell_type": "code",
   "execution_count": 74,
   "metadata": {},
   "outputs": [
    {
     "data": {
      "text/html": [
       "20.14"
      ],
      "text/latex": [
       "20.14"
      ],
      "text/markdown": [
       "20.14"
      ],
      "text/plain": [
       "[1] 20.14"
      ]
     },
     "metadata": {},
     "output_type": "display_data"
    }
   ],
   "source": [
    "mad3(cars$dist)"
   ]
  },
  {
   "cell_type": "code",
   "execution_count": 75,
   "metadata": {},
   "outputs": [
    {
     "data": {
      "text/html": [
       "4.336"
      ],
      "text/latex": [
       "4.336"
      ],
      "text/markdown": [
       "4.336"
      ],
      "text/plain": [
       "[1] 4.336"
      ]
     },
     "metadata": {},
     "output_type": "display_data"
    }
   ],
   "source": [
    "mad3(cars$speed, mean)"
   ]
  },
  {
   "cell_type": "markdown",
   "metadata": {},
   "source": [
    "### Problem 7: Boxplot  \n",
    "a. (3 points)  \n",
    "Construct the Boxplot of the Paperwork part Problem 3a. Dataset using R, in a horizontal position, with the green color.  "
   ]
  },
  {
   "cell_type": "code",
   "execution_count": 76,
   "metadata": {},
   "outputs": [
    {
     "data": {
      "image/png": "[encoded data removed]",
      "text/plain": [
       "plot without title"
      ]
     },
     "metadata": {
      "image/png": {
       "height": 420,
       "width": 420
      }
     },
     "output_type": "display_data"
    }
   ],
   "source": [
    "x <- c(25, -10, 3, 1, 2, 8, 4, 0, -1, 7, 7, 2, -1, 2, -6, 5, 0)\n",
    "boxplot(x, horizontal = TRUE, col = \"green\")"
   ]
  },
  {
   "cell_type": "markdown",
   "metadata": {},
   "source": [
    "b. (R) (3 points)  \n",
    "Construct, on the same graph, the Boxplots for the Petal.Width variable for each type of the Species in the iris Dataset. Give some information you can read from this comparative plot.  "
   ]
  },
  {
   "cell_type": "code",
   "execution_count": 89,
   "metadata": {},
   "outputs": [
    {
     "data": {
      "image/png": "[encoded data removed]",
      "text/plain": [
       "plot without title"
      ]
     },
     "metadata": {
      "image/png": {
       "height": 420,
       "width": 420
      }
     },
     "output_type": "display_data"
    }
   ],
   "source": [
    "boxplot(Petal.Width~Species, data=iris, horizontal = T)"
   ]
  },
  {
   "cell_type": "markdown",
   "metadata": {},
   "source": [
    "The setosa species has the narrowest petals, the virginica has the widest, and the versicolor is in the middle. Setosa has a few outliers"
   ]
  },
  {
   "cell_type": "markdown",
   "metadata": {},
   "source": [
    "### Problem 8: Sample Quantiles"
   ]
  },
  {
   "cell_type": "code",
   "execution_count": 90,
   "metadata": {},
   "outputs": [],
   "source": [
    "sample_quantile <- function(x, p) {\n",
    "    x[floor(p * length(x))]\n",
    "}"
   ]
  },
  {
   "cell_type": "code",
   "execution_count": 91,
   "metadata": {},
   "outputs": [
    {
     "data": {
      "text/html": [
       "26"
      ],
      "text/latex": [
       "26"
      ],
      "text/markdown": [
       "26"
      ],
      "text/plain": [
       "[1] 26"
      ]
     },
     "metadata": {},
     "output_type": "display_data"
    }
   ],
   "source": [
    "sample_quantile(cars$dist, 0.5)"
   ]
  }
 ],
 "metadata": {
  "kernelspec": {
   "display_name": "R",
   "language": "R",
   "name": "ir"
  },
  "language_info": {
   "codemirror_mode": "r",
   "file_extension": ".r",
   "mimetype": "text/x-r-source",
   "name": "R",
   "pygments_lexer": "r",
   "version": "4.1.2"
  },
  "orig_nbformat": 4
 },
 "nbformat": 4,
 "nbformat_minor": 2
}
