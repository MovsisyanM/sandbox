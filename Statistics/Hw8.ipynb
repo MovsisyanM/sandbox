{
 "cells": [
  {
   "cell_type": "markdown",
   "metadata": {},
   "source": [
    "# Homework 8\n",
    "###### by Mher Movsisyan\n",
    "---"
   ]
  },
  {
   "cell_type": "markdown",
   "metadata": {},
   "source": [
    "### Problem 1: MLE  \n",
    "a. (25 points) For a Discrete Distribution  \n",
    "We consider the family of Distributions given by their PMFs:  \n",
    "\n",
    "| X | -3 | 0 | 5 |  \n",
    "|---|---|---|---|  \n",
    "| P | 0.3θ | 0.5θ | 1 - 0.8θ |  \n",
    "\n",
    "Here θ ∈ [0, 5/4]. Construct the ML Estimator for θ. What is the ML Estimate if we have the following observations:  \n",
    "$$ 0, 5, −3, −3, 5, 0, −3, 5, 0, 0, −3, −3 $$"
   ]
  },
  {
   "cell_type": "markdown",
   "metadata": {},
   "source": [
    "Answer:  \n",
    "$$ Indicator(x) \\overset{\\Delta}{=} \\begin{cases} 1 & if\\ x\\ is\\ True \\\\ 0 & if\\ x\\ is\\ False \\end{cases} $$\n",
    "$$ count(v, x) \\overset{\\Delta}{=} \\sum_{i=1}^nIndicator(x_i = v) $$\n",
    "$$ l(\\theta, x) = count(-3, x)ln(0.3\\theta) + count(0, x)ln(0.5\\theta) + count(5, x)ln(1-0.8\\theta) $$"
   ]
  },
  {
   "cell_type": "markdown",
   "metadata": {},
   "source": [
    "$$ \\frac{dl}{d\\theta} = \\frac{count(-3, x)}{\\theta} + \\frac{count(0, x)}{\\theta} - \\frac{8count(5, x)}{8\\theta-10} = $$"
   ]
  },
  {
   "cell_type": "markdown",
   "metadata": {},
   "source": [
    "$$ \\frac{(8\\theta-10)(count(-3, x) + count(0, x)) - 8\\theta count(5, x)}{8\\theta^2 - 10\\theta} $$"
   ]
  },
  {
   "cell_type": "markdown",
   "metadata": {},
   "source": [
    "$$ \\frac{dl}{d\\theta} = 0 \\Leftrightarrow 8\\theta(count(-3, x) + count(0, x) - count(5, x)) - 10(count(-3, x) + count(0, x))  $$"
   ]
  },
  {
   "cell_type": "markdown",
   "metadata": {},
   "source": [
    "$$ \\Leftrightarrow \\theta = \\frac{10(count(-3, x) + count(0, x))}{8(count(-3, x) + count(0, x) - count(5, x))} $$"
   ]
  },
  {
   "cell_type": "markdown",
   "metadata": {},
   "source": [
    "$$ \\frac{dl}{d\\theta^2} < 0 $$"
   ]
  },
  {
   "cell_type": "markdown",
   "metadata": {},
   "source": [
    "$$ \\hat{\\theta}^{MLE}(x) = \\frac{10(count(-3, x) + count(0, x))}{8(count(-3, x) + count(0, x) - count(5, x))} $$"
   ]
  },
  {
   "cell_type": "markdown",
   "metadata": {},
   "source": [
    "$$ \\hat{\\theta}^{MLE}(data) = \\frac{10 * (4 + 5)}{8*(4+5-3)} = 15/8 $$"
   ]
  },
  {
   "cell_type": "markdown",
   "metadata": {},
   "source": [
    "b. (25 points) For the Beta(α, 1) Distribution  \n",
    "Consider a Parametric family of Distributions with PDF (α ∈ (0, +∞))  \n",
    "$$ f(x|a) = \\begin{cases} ax^{a-1}, & x \\in (0, 1) \\\\ 0, & otherwise \\end{cases} $$"
   ]
  },
  {
   "cell_type": "markdown",
   "metadata": {},
   "source": [
    "Find the ML Estimator for α.  \n",
    "Note: This Distribution is a particular case of the <a href=\"https://en.wikipedia.org/wiki/Beta_distribution\">Beta-Distribution</a> Beta(α, β), when β = 1."
   ]
  },
  {
   "cell_type": "markdown",
   "metadata": {},
   "source": [
    "Answer:  \n",
    "$$ l(a|x) = ln(\\prod_{i=1}^n ax_i^{a-1}) = ln(a^n(\\prod_{i=1}^n x_i)^{a-1}) = (a-1)\\sum_{i=1}^n ln(x_i) + nln(a) $$"
   ]
  },
  {
   "cell_type": "markdown",
   "metadata": {},
   "source": [
    "$$ \\frac {dl}{da} = \\frac{n}{a} + \\sum_{i=1}^n ln(x_i) $$"
   ]
  },
  {
   "cell_type": "markdown",
   "metadata": {},
   "source": [
    "$$ \\frac {dl}{da} = 0 \\Leftrightarrow a = -\\frac{n}{\\sum_{i=1}^n ln(x_i)} $$"
   ]
  },
  {
   "cell_type": "markdown",
   "metadata": {},
   "source": [
    "$$ \\frac{dl}{da^2} = -\\frac {n}{a^2} < 0 $$"
   ]
  },
  {
   "cell_type": "markdown",
   "metadata": {},
   "source": [
    "$$ \\hat{a}^{MLE}(x) = -\\frac{n}{\\sum_{i=1}^n ln(x_i)} $$"
   ]
  },
  {
   "cell_type": "markdown",
   "metadata": {},
   "source": [
    "c. (25 points) For the Binomial Distribution  \n",
    "In fact, the Binomial Distribution is 2D-parametric Distribution, where the Parameters are\n",
    "`m`, the number of repetitions of a Trial, and `p`, the Probability of Success in one Trial. To\n",
    "simplify things, let us assume that `m` is known and fixed, and our aim is to Estimate `p`.  \n",
    "So we consider the model `Binom(m, p)`, with `m` known and fixed. Assuming we have a\n",
    "Random Sample $$ X_1, X_2, ..., X_n \\sim Binom(m, p) $$\n",
    "find the ML Estimator for `p`."
   ]
  },
  {
   "cell_type": "markdown",
   "metadata": {},
   "source": [
    "Answer:  \n",
    "$$ o \\overset{\\Delta}{=} number\\ of\\ successes $$\n",
    "$$ f(m, p) = \\frac{m!}{o!(m-o)!} p^o (1-p)^{m-o} $$"
   ]
  },
  {
   "cell_type": "markdown",
   "metadata": {},
   "source": [
    "$$ l(p | m, x) = ln(\\prod_{i=1}^n \\frac{m!}{o_i!(m-o)!} p^{o_i} (1-p)^{m-o_i}) = nln(m!) - $$\n",
    "$$ - \\sum_{i=1}^nln(o_i!(m-o_i)!) + ln(p)\\sum_{i=1}^n(o_i) + ln(1-p)nm - ln(1-p)\\sum_{i=1}^n(o_i) $$"
   ]
  },
  {
   "cell_type": "markdown",
   "metadata": {},
   "source": [
    "$$ \\frac {dl}{dp} = \\frac{\\sum_{i=1}^n(o_i)}{p} - \\frac{nm-\\sum_{i=1}^n(o_i)}{1-p} $$"
   ]
  },
  {
   "cell_type": "markdown",
   "metadata": {},
   "source": [
    "$$ \\frac {dl}{dp} = 0 \\Leftrightarrow p = \\frac{\\sum_{i=1}^n(o_i)}{nm}  $$"
   ]
  },
  {
   "cell_type": "markdown",
   "metadata": {},
   "source": [
    "$$ \\frac {dl}{dp^2} = -\\frac{\\sum_{i=1}^n(o_i)}{p^2} - \\frac{nm-\\sum_{i=1}^n(o_i)}{(1-p)^2} < 0 $$"
   ]
  },
  {
   "cell_type": "markdown",
   "metadata": {},
   "source": [
    "$$ \\hat{p}^{MLE}(m, x) = \\frac{\\sum_{i=1}^n(o_i)}{nm} $$"
   ]
  },
  {
   "cell_type": "markdown",
   "metadata": {},
   "source": [
    "d. (25 points)  \n",
    "We consider a family of Distributions with the following PDF (θ ∈ (0, +∞))\n",
    "$$ f(x|\\theta) = \\begin{cases} 9\\theta^9x^{-10}, & x \\geq \\theta \\\\ 0, & otherwise \\end{cases} $$\n",
    "Find the ML Estimator for θ."
   ]
  },
  {
   "cell_type": "markdown",
   "metadata": {},
   "source": [
    "$$ l(\\theta|x) = nln(\\frac{9\\theta^9}{x^{10}}) = nln(9) + 9nln(\\theta) - 10ln(x) $$ "
   ]
  },
  {
   "cell_type": "markdown",
   "metadata": {},
   "source": [
    "$$ \\frac {dl}{d\\theta} = \\frac{9n}{\\theta} > 0 $$"
   ]
  },
  {
   "cell_type": "markdown",
   "metadata": {},
   "source": [
    "$$ \\hat{\\theta}^{MLE}(x) = min(x) $$"
   ]
  }
 ],
 "metadata": {
  "language_info": {
   "name": "python"
  },
  "orig_nbformat": 4
 },
 "nbformat": 4,
 "nbformat_minor": 2
}
