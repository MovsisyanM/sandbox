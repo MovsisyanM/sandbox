{
 "cells": [
  {
   "cell_type": "markdown",
   "metadata": {},
   "source": [
    "# Homework 8\n",
    "###### by Mher Movsisyan\n",
    "---"
   ]
  },
  {
   "cell_type": "markdown",
   "metadata": {},
   "source": [
    "### Problem 1: MLE  \n",
    "a. (25 points) For a Discrete Distribution  \n",
    "We consider the family of Distributions given by their PMFs:  \n",
    "\n",
    "| X | -3 | 0 | 5 |  \n",
    "|---|---|---|---|  \n",
    "| P | 0.3θ | 0.5θ | 1 - 0.8θ |  \n",
    "\n",
    "Here θ ∈ [0, 5/4]. Construct the ML Estimator for θ. What is the ML Estimate if we have the following observations:  \n",
    "$$ 0, 5, −3, −3, 5, 0, −3, 5, 0, 0, −3, −3 $$"
   ]
  },
  {
   "cell_type": "markdown",
   "metadata": {},
   "source": [
    "Answer:  \n",
    "$$ Indicator(x) \\overset{\\Delta}{=} \\begin{cases} 1 & if\\ x\\ is\\ True \\\\ 0 & if\\ x\\ is\\ False \\end{cases} $$\n",
    "$$ count(v, x) \\overset{\\Delta}{=} \\sum_{i=1}^nIndicator(x_i = v) $$\n",
    "$$ l(\\theta, x) = count(-3, x)ln(0.3\\theta) + count(0, x)ln(0.5\\theta) + count(5, x)ln(1-0.8\\theta) $$"
   ]
  },
  {
   "cell_type": "markdown",
   "metadata": {},
   "source": [
    "$$ \\frac{dl}{d\\theta} = \\frac{count(-3, x)}{0.3\\theta} + \\frac{count(0, x)}{0.5\\theta} - \\frac{count(5, x)}{1-0.8\\theta} = $$"
   ]
  },
  {
   "cell_type": "markdown",
   "metadata": {},
   "source": [
    "$$ = \\frac{0.5\\theta count(-3, x) + 0.3\\theta count(0, x)}{0.15\\theta^2} - \\frac{count(5, x)}{1-0.8\\theta} = $$\n",
    "$$ = \\frac{0.5count(-3, x) + 0.3count(0, x) - 0.15\\theta count(5, x)}{0.15\\theta - 0.12\\theta^2} $$"
   ]
  },
  {
   "cell_type": "markdown",
   "metadata": {},
   "source": [
    "$$ \\frac{dl}{d\\theta} = 0 \\Leftrightarrow \\frac{0.5count(-3, x) + 0.3count(0, x)}{0.15count(5, x)} - \\theta = 0  $$"
   ]
  },
  {
   "cell_type": "markdown",
   "metadata": {},
   "source": [
    "$$ \\frac{dl}{d\\theta^2} = -\\frac{count(-3, x)}{0.3\\theta^2} - \\frac{count(0, x)}{0.5\\theta^2} + \\frac{count(5, x)}{(1-0.8\\theta)^2} < 0\\ since\\ \\theta \\in [0, \\frac{5}{4}] $$"
   ]
  },
  {
   "cell_type": "markdown",
   "metadata": {},
   "source": [
    "$$ \\hat{\\theta}^{MLE}(x) = \\frac{0.5count(-3, x) + 0.3count(0, x)}{0.15count(5, x)} $$"
   ]
  },
  {
   "cell_type": "markdown",
   "metadata": {},
   "source": [
    "$$ \\hat{\\theta}^{MLE}(data) = \\frac{2.5 + 1.2)}{0.45} = 8.\\bar{2} $$"
   ]
  },
  {
   "cell_type": "markdown",
   "metadata": {},
   "source": [
    "b. (25 points) For the Beta(α, 1) Distribution  \n",
    "Consider a Parametric family of Distributions with PDF (α ∈ (0, +∞))  \n",
    "$$ f(x|a) = \\begin{cases} ax^{a-1}, & x \\in (0, 1) \\\\ 0, & otherwise \\end{cases} $$"
   ]
  },
  {
   "cell_type": "markdown",
   "metadata": {},
   "source": [
    "Find the ML Estimator for α.  \n",
    "Note: This Distribution is a particular case of the <a href=\"https://en.wikipedia.org/wiki/Beta_distribution\">Beta-Distribution</a> Beta(α, β), when β = 1."
   ]
  },
  {
   "cell_type": "markdown",
   "metadata": {},
   "source": [
    "Answer:  \n",
    "$$ l(a|x) = nln(ax^{a-1}) = nln(a) + n(a-1)ln(x) $$"
   ]
  },
  {
   "cell_type": "markdown",
   "metadata": {},
   "source": [
    "$$ \\frac {dl}{da} = \\frac{n}{a} + nln(x) $$"
   ]
  },
  {
   "cell_type": "markdown",
   "metadata": {},
   "source": [
    "$$ \\frac {dl}{da} = 0 \\Leftrightarrow a = -\\frac{1}{ln(x)} $$"
   ]
  },
  {
   "cell_type": "markdown",
   "metadata": {},
   "source": [
    "$$ \\frac{dl}{da^2} = -\\frac {n}{a^2} < 0 $$"
   ]
  },
  {
   "cell_type": "markdown",
   "metadata": {},
   "source": [
    "$$ \\hat{a}^{MLE}(x) = -\\frac{1}{ln(x)} $$"
   ]
  },
  {
   "cell_type": "markdown",
   "metadata": {},
   "source": [
    "c. (25 points) For the Binomial Distribution  \n",
    "In fact, the Binomial Distribution is 2D-parametric Distribution, where the Parameters are\n",
    "`m`, the number of repetitions of a Trial, and `p`, the Probability of Success in one Trial. To\n",
    "simplify things, let us assume that `m` is known and fixed, and our aim is to Estimate `p`.  \n",
    "So we consider the model `Binom(m, p)`, with `m` known and fixed. Assuming we have a\n",
    "Random Sample $$ X_1, X_2, ..., X_n \\sim Binom(m, p) $$\n",
    "find the ML Estimator for `p`."
   ]
  },
  {
   "cell_type": "markdown",
   "metadata": {},
   "source": [
    "Answer:  \n",
    "$$ o \\overset{\\Delta}{=} number\\ of\\ successes $$\n",
    "$$ f(m, p) = \\frac{m!}{o!(m-o)!} p^o (1-p)^{m-o} $$"
   ]
  },
  {
   "cell_type": "markdown",
   "metadata": {},
   "source": [
    "$$ l(p | m, x) = nln(f(m, p)) = nln(m!) - nln(o!(m-o)!) + o \\times nln(p) + (m-o) \\times nln(1-p) $$"
   ]
  },
  {
   "cell_type": "markdown",
   "metadata": {},
   "source": [
    "$$ \\frac {dl}{dp} = \\frac{o\\times n}{p} - \\frac{(m-o)n}{1-p} $$"
   ]
  },
  {
   "cell_type": "markdown",
   "metadata": {},
   "source": [
    "$$ \\frac {dl}{dp} = 0 \\Leftrightarrow p(m-o)n = o(1-p)n \\Leftrightarrow pm - op = o - op \\Leftrightarrow p = \\frac{o}{m}  $$"
   ]
  },
  {
   "cell_type": "markdown",
   "metadata": {},
   "source": [
    "$$ \\frac {dl}{dp^2} = -\\frac{o\\times n}{p^2} - \\frac{(m-o)n}{(1-p)^2} < 0 $$"
   ]
  },
  {
   "cell_type": "markdown",
   "metadata": {},
   "source": [
    "$$ \\hat{p}^{MLE}(m, x) = \\frac{o}{m} $$"
   ]
  },
  {
   "cell_type": "markdown",
   "metadata": {},
   "source": [
    "d. (25 points)  \n",
    "We consider a family of Distributions with the following PDF3 (θ ∈ (0, +∞))\n",
    "$$ f(x|\\theta) = \\begin{cases} 9\\theta^9x^{-10}, & x \\geq \\theta \\\\ 0, & otherwise \\end{cases} $$\n",
    "Find the ML Estimator for θ."
   ]
  },
  {
   "cell_type": "markdown",
   "metadata": {},
   "source": []
  }
 ],
 "metadata": {
  "language_info": {
   "name": "python"
  },
  "orig_nbformat": 4
 },
 "nbformat": 4,
 "nbformat_minor": 2
}
