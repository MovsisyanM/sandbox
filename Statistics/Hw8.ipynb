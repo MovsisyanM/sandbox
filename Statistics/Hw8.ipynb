{
 "cells": [
  {
   "cell_type": "markdown",
   "metadata": {},
   "source": [
    "# Homework 8\n",
    "###### by Mher Movsisyan\n",
    "---"
   ]
  },
  {
   "cell_type": "markdown",
   "metadata": {},
   "source": [
    "### Problem 1: MLE  \n",
    "a. (25 points) For a Discrete Distribution  \n",
    "We consider the family of Distributions given by their PMFs:  \n",
    "\n",
    "| X | -3 | 0 | 5 |  \n",
    "|---|---|---|---|  \n",
    "| P | 0.3θ | 0.5θ | 1 - 0.8θ |  \n",
    "\n",
    "Here θ ∈ [0, 5/4]. Construct the ML Estimator for θ. What is the ML Estimate if we have the following observations:  \n",
    "$$ 0, 5, −3, −3, 5, 0, −3, 5, 0, 0, −3, −3 $$"
   ]
  },
  {
   "cell_type": "markdown",
   "metadata": {},
   "source": [
    "Answer:  \n",
    "$$ Indicator(x) \\overset{\\Delta}{=} \\begin{cases} 1 & if\\ x\\ is\\ True \\\\ 0 & if\\ x\\ is\\ False \\end{cases} $$\n",
    "$$ count(v, x) \\overset{\\Delta}{=} \\sum_{i=1}^nIndicator(x_i = v) $$\n",
    "$$ l(\\theta, x) = count(-3, x)ln(0.3\\theta) + count(0, x)ln(0.5\\theta) + count(5, x)ln(1-0.8\\theta) $$"
   ]
  },
  {
   "cell_type": "markdown",
   "metadata": {},
   "source": [
    "$$ \\frac{dl}{d\\theta} = \\frac{count(-3, x)}{0.3\\theta} + \\frac{count(0, x)}{0.5\\theta} + \\frac{count(5, x)}{1-0.8\\theta} = $$\n",
    "$$ = \\frac{(0.5\\theta - 0.4\\theta^2)count(-3, x) + (0.3\\theta - 0.24\\theta^2)count(0, x) + (0.15\\theta^2)(n - count(0,x) - count(-3, x))}{0.15\\theta - 0.12\\theta^2} = $$\n",
    "$$ = \\frac{(0.5\\theta - 0.55\\theta^2)count(-3, x) + (0.3\\theta - 0.39\\theta^2)count(0, x) + 0.15\\theta^2n}{0.15\\theta - 0.12\\theta^2} = $$"
   ]
  },
  {
   "cell_type": "markdown",
   "metadata": {},
   "source": [
    "$$ \\frac{dl}{d\\theta} = 0 \\Leftrightarrow (0.5\\theta - 0.55\\theta^2)count(-3, x) + (0.3\\theta - 0.39\\theta^2)count(0, x) + 0.15\\theta^2n = 0 $$"
   ]
  },
  {
   "cell_type": "markdown",
   "metadata": {},
   "source": [
    "$$ \\underset{\\theta \\in [0, 5/4]}{argmax} (l(\\theta|x)) = $$"
   ]
  },
  {
   "cell_type": "markdown",
   "metadata": {},
   "source": [
    "b. (25 points) For the Beta(α, 1) Distribution  \n",
    "Consider a Parametric family of Distributions with PDF (α ∈ (0, +∞))  \n",
    "$$ f(x|a) = \\begin{cases} ax^{a-1}, & x \\in (0, 1) \\\\ 0, & otherwise \\end{cases} $$"
   ]
  },
  {
   "cell_type": "markdown",
   "metadata": {},
   "source": [
    "Find the ML Estimator for α.  \n",
    "Note: This Distribution is a particular case of the <a href=\"https://en.wikipedia.org/wiki/Beta_distribution\">Beta-Distribution</a> Beta(α, β), when β = 1."
   ]
  },
  {
   "cell_type": "markdown",
   "metadata": {},
   "source": []
  },
  {
   "cell_type": "markdown",
   "metadata": {},
   "source": [
    "c. (25 points) For the Binomial Distribution  \n",
    "In fact, the Binomial Distribution is 2D-parametric Distribution, where the Parameters are\n",
    "`m`, the number of repetitions of a Trial, and `p`, the Probability of Success in one Trial. To\n",
    "simplify things, let us assume that `m` is known and fixed, and our aim is to Estimate `p`.  \n",
    "So we consider the model `Binom(m, p)`, with `m` known and fixed. Assuming we have a\n",
    "Random Sample $$ X_1, X_2, ..., X_n \\sim Binom(m, p) $$\n",
    "find the ML Estimator for `p`."
   ]
  },
  {
   "cell_type": "markdown",
   "metadata": {},
   "source": []
  },
  {
   "cell_type": "markdown",
   "metadata": {},
   "source": [
    "d. (25 points)  \n",
    "We consider a family of Distributions with the following PDF3 (θ ∈ (0, +∞))\n",
    "$$ f(x|\\theta) = \\begin{cases} 9\\theta^9x^{-10}, & x \\geq \\theta \\\\ 0, & otherwise \\end{cases} $$\n",
    "Find the ML Estimator for θ."
   ]
  },
  {
   "cell_type": "markdown",
   "metadata": {},
   "source": []
  }
 ],
 "metadata": {
  "language_info": {
   "name": "python"
  },
  "orig_nbformat": 4
 },
 "nbformat": 4,
 "nbformat_minor": 2
}
