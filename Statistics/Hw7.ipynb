{
 "cells": [
  {
   "cell_type": "markdown",
   "metadata": {},
   "source": [
    "# Homework 7\n",
    "###### by Mher Movsisyan\n",
    "---"
   ]
  },
  {
   "cell_type": "markdown",
   "metadata": {},
   "source": [
    "### Problem 1: Fisher Information, MoM and MVUE  \n",
    "a. (20 points) For a Discrete Distribution  \n",
    "We consider the family of Distributions given by their PMFs:\n",
    "\n",
    "| X | -3 | 0 | 5 |  \n",
    "|---|----|---|---|  \n",
    "| P(X = x) | 0.3θ | 0.5θ | 1 - 0.8θ |  \n",
    "\n",
    "Here θ ∈ [0, 5/4]  \n",
    "- Find the Fisher Information for θ;\n",
    "- Construct the MoM Estimator ˆθ<sup>MoM</sup> for θ;\n",
    "- Check if the MoM Estimator is Unbiased, Consistent, Efficient."
   ]
  },
  {
   "cell_type": "markdown",
   "metadata": {},
   "source": [
    "$$ I(\\theta) = -E\\left(\\frac{\\delta^2}{\\delta\\theta^2} ln(f|\\theta) \\right)"
   ]
  },
  {
   "cell_type": "markdown",
   "metadata": {},
   "source": [
    "$$ f(X|\\theta) = \\left\\{ \\begin{matrix} 0.3\\theta, x = -3 \\\\ 0.5\\theta, x = 0 \\\\ 1-0.8\\theta, x = 5 \\end{matrix} \\right. $$"
   ]
  },
  {
   "cell_type": "markdown",
   "metadata": {},
   "source": [
    "$$ ln(f(X|\\theta)) = \\left\\{ \\begin{matrix} \n",
    "ln(0.3\\theta), x = -3 \\\\ \n",
    "ln(0.5\\theta), x = 0 \\\\ \n",
    "ln(1-0.8\\theta), x = 5 \n",
    "\\end{matrix} \\right. $$"
   ]
  },
  {
   "cell_type": "markdown",
   "metadata": {},
   "source": [
    "$$ ln(f(X|\\theta))' = \\left\\{ \\begin{matrix} \n",
    "1/\\theta, x = -3 \\\\ \n",
    "1/\\theta, x = 0 \\\\ \n",
    "\\frac{4}{4\\theta-5}, x = 5 \n",
    "\\end{matrix} \\right. $$"
   ]
  },
  {
   "cell_type": "markdown",
   "metadata": {},
   "source": [
    "$$ ln(f(X|\\theta))'' = \\left\\{ \\begin{matrix} \n",
    "-\\frac{1}{\\theta^2}, x = -3 \\\\ \\\\\n",
    "-\\frac{1}{\\theta^2}, x = 0 \\\\ \\\\\n",
    "-\\frac{16}{(4\\theta-5)^2}, x = 5 \n",
    "\\end{matrix} \\right. $$"
   ]
  },
  {
   "cell_type": "markdown",
   "metadata": {},
   "source": [
    "| $$ ln(f(X\\|\\theta))'' $$ | $$ -\\frac{1}{\\theta^2} $$ | $$ -\\frac{1}{\\theta^2} $$ | $$ -\\frac{16}{(4\\theta-5)^2} $$ |  \n",
    "| ----------------------- | ------------------------- | ------------------------- | ------------------------------- |  \n",
    "| p                       | $$ 0.3\\theta $$           |           $$ 0.5\\theta $$ |               $$ 1-0.8\\theta $$ |  \n"
   ]
  },
  {
   "cell_type": "markdown",
   "metadata": {},
   "source": [
    "$$ I(\\theta) = {-3}{\\theta} + 0 + \\frac{16 - 12.8\\theta}{(4\\theta-5)^2} $$"
   ]
  },
  {
   "cell_type": "markdown",
   "metadata": {},
   "source": [
    "Constructing the MoM estimator:  \n",
    "$$ E(X) = \\bar{X} = -3 * 0.3\\theta + 0 * 0.5\\theta + 5 * (1-0.8\\theta) = 5 - 4.9\\theta = \\hat{\\theta}^{MoM} $$"
   ]
  },
  {
   "cell_type": "markdown",
   "metadata": {},
   "source": []
  }
 ],
 "metadata": {
  "language_info": {
   "name": "python"
  },
  "orig_nbformat": 4
 },
 "nbformat": 4,
 "nbformat_minor": 2
}
