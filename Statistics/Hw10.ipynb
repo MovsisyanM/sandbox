{
 "cells": [
  {
   "cell_type": "markdown",
   "metadata": {},
   "source": [
    "# Homework 10\n",
    "###### by Mher Movsisyan\n",
    "---"
   ]
  },
  {
   "cell_type": "markdown",
   "metadata": {},
   "source": [
    "### Problem 1:  \n",
    "a. (R) Synthetic Data Variance CI (15 points)\n",
    "Here we want to construct a CI for the Variance of some generated data from Normal\n",
    "Distribution. To that end,\n",
    "1. Fix the Random Number Generator’s Seed to 1234567;\n",
    "2. Generate a Sample x of size 74 from N(−2, 3.72<sup>2</sup>) (so the true parameters are μ = −2 and σ<sup>2</sup> = 3.72<sup>2</sup>);\n",
    "3. For a moment, let’s forget that we know the true value of σ<sup>2</sup>, and assume that our Sample comes from N(−2, σ<sup>2</sup>). Construct a CI of 95% level for σ<sup>2</sup> and check if the true value of σ<sup>2</sup> is in that Interval.\n",
    "4. Next, assume also that we do not know the true mean of the Distribution, so here assume we just know that our Sample is from some Normal Distribution. Construct a CI of 95% level for σ<sup>2</sup> and check if the true value of σ<sup>2</sup> is in that Interval.\n",
    "5. For the above case, construct a 95% CI for the Standard Deviation σ;\n",
    "6. Solve Part ‘d.‘ using ‘varTest‘ function for ‘EnvStat‘ package."
   ]
  },
  {
   "cell_type": "code",
   "execution_count": 15,
   "metadata": {
    "vscode": {
     "languageId": "r"
    }
   },
   "outputs": [
    {
     "data": {
      "text/html": [
       "<style>\n",
       ".list-inline {list-style: none; margin:0; padding: 0}\n",
       ".list-inline>li {display: inline-block}\n",
       ".list-inline>li:not(:last-child)::after {content: \"\\00b7\"; padding: 0 .5ex}\n",
       "</style>\n",
       "<ol class=list-inline><li>8.68804918941495</li><li>16.695937733134</li></ol>\n"
      ],
      "text/latex": [
       "\\begin{enumerate*}\n",
       "\\item 8.68804918941495\n",
       "\\item 16.695937733134\n",
       "\\end{enumerate*}\n"
      ],
      "text/markdown": [
       "1. 8.68804918941495\n",
       "2. 16.695937733134\n",
       "\n",
       "\n"
      ],
      "text/plain": [
       "[1]  8.688049 16.695938"
      ]
     },
     "metadata": {},
     "output_type": "display_data"
    }
   ],
   "source": [
    "# a.1\n",
    "set.seed(1234567);\n",
    "\n",
    "# a.2\n",
    "mu <- -2;\n",
    "a <- 0.05;\n",
    "n <- 74;\n",
    "x <- rnorm(n, mu, 3.72);\n",
    "\n",
    "# a.3\n",
    "devar <- sum((x - mu) ** 2);\n",
    "\n",
    "c(devar / qchisq(1 - a / 2, n - 1), devar / qchisq(a / 2, n - 1));"
   ]
  },
  {
   "cell_type": "code",
   "execution_count": 16,
   "metadata": {
    "vscode": {
     "languageId": "r"
    }
   },
   "outputs": [
    {
     "data": {
      "text/html": [
       "13.8384"
      ],
      "text/latex": [
       "13.8384"
      ],
      "text/markdown": [
       "13.8384"
      ],
      "text/plain": [
       "[1] 13.8384"
      ]
     },
     "metadata": {},
     "output_type": "display_data"
    }
   ],
   "source": [
    "3.72 ** 2"
   ]
  },
  {
   "cell_type": "markdown",
   "metadata": {},
   "source": [
    "Yes, the true value of σ<sup>2</sup> is in the CI of 95% level for σ<sup>2</sup>."
   ]
  },
  {
   "cell_type": "code",
   "execution_count": 17,
   "metadata": {
    "vscode": {
     "languageId": "r"
    }
   },
   "outputs": [
    {
     "data": {
      "text/html": [
       "<style>\n",
       ".list-inline {list-style: none; margin:0; padding: 0}\n",
       ".list-inline>li {display: inline-block}\n",
       ".list-inline>li:not(:last-child)::after {content: \"\\00b7\"; padding: 0 .5ex}\n",
       "</style>\n",
       "<ol class=list-inline><li>8.52988879489882</li><li>16.3919988348706</li></ol>\n"
      ],
      "text/latex": [
       "\\begin{enumerate*}\n",
       "\\item 8.52988879489882\n",
       "\\item 16.3919988348706\n",
       "\\end{enumerate*}\n"
      ],
      "text/markdown": [
       "1. 8.52988879489882\n",
       "2. 16.3919988348706\n",
       "\n",
       "\n"
      ],
      "text/plain": [
       "[1]  8.529889 16.391999"
      ]
     },
     "metadata": {},
     "output_type": "display_data"
    }
   ],
   "source": [
    "devar <- sum((x - mean(x)) ** 2);\n",
    "\n",
    "c(devar / qchisq(1 - a / 2, n - 1), devar / qchisq(a / 2, n - 1)) ;"
   ]
  },
  {
   "cell_type": "code",
   "execution_count": 18,
   "metadata": {
    "vscode": {
     "languageId": "r"
    }
   },
   "outputs": [
    {
     "data": {
      "text/html": [
       "<style>\n",
       ".list-inline {list-style: none; margin:0; padding: 0}\n",
       ".list-inline>li {display: inline-block}\n",
       ".list-inline>li:not(:last-child)::after {content: \"\\00b7\"; padding: 0 .5ex}\n",
       "</style>\n",
       "<ol class=list-inline><li>2.92059733528928</li><li>4.04870335229325</li></ol>\n"
      ],
      "text/latex": [
       "\\begin{enumerate*}\n",
       "\\item 2.92059733528928\n",
       "\\item 4.04870335229325\n",
       "\\end{enumerate*}\n"
      ],
      "text/markdown": [
       "1. 2.92059733528928\n",
       "2. 4.04870335229325\n",
       "\n",
       "\n"
      ],
      "text/plain": [
       "[1] 2.920597 4.048703"
      ]
     },
     "metadata": {},
     "output_type": "display_data"
    }
   ],
   "source": [
    "sqrt(c(devar / qchisq(1 - a / 2, n - 1), devar / qchisq(a / 2, n - 1)));"
   ]
  },
  {
   "cell_type": "code",
   "execution_count": 21,
   "metadata": {
    "vscode": {
     "languageId": "r"
    }
   },
   "outputs": [
    {
     "data": {
      "text/html": [
       "<style>\n",
       ".dl-inline {width: auto; margin:0; padding: 0}\n",
       ".dl-inline>dt, .dl-inline>dd {float: none; width: auto; display: inline-block}\n",
       ".dl-inline>dt::after {content: \":\\0020\"; padding-right: .5ex}\n",
       ".dl-inline>dt:not(:first-of-type) {padding-left: .5ex}\n",
       "</style><dl class=dl-inline><dt>LCL</dt><dd>8.52988879489882</dd><dt>UCL</dt><dd>16.3919988348706</dd></dl>\n"
      ],
      "text/latex": [
       "\\begin{description*}\n",
       "\\item[LCL] 8.52988879489882\n",
       "\\item[UCL] 16.3919988348706\n",
       "\\end{description*}\n"
      ],
      "text/markdown": [
       "LCL\n",
       ":   8.52988879489882UCL\n",
       ":   16.3919988348706\n",
       "\n"
      ],
      "text/plain": [
       "      LCL       UCL \n",
       " 8.529889 16.391999 \n",
       "attr(,\"conf.level\")\n",
       "[1] 0.95"
      ]
     },
     "metadata": {},
     "output_type": "display_data"
    }
   ],
   "source": [
    "library(EnvStats, verbose=0);\n",
    "varTest(x)$conf.int;"
   ]
  },
  {
   "cell_type": "markdown",
   "metadata": {},
   "source": []
  }
 ],
 "metadata": {
  "kernelspec": {
   "display_name": "R",
   "language": "R",
   "name": "ir"
  },
  "language_info": {
   "codemirror_mode": "r",
   "file_extension": ".r",
   "mimetype": "text/x-r-source",
   "name": "R",
   "pygments_lexer": "r",
   "version": "4.1.2"
  },
  "orig_nbformat": 4
 },
 "nbformat": 4,
 "nbformat_minor": 2
}
