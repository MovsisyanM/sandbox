{
 "cells": [
  {
   "cell_type": "markdown",
   "metadata": {},
   "source": [
    "# Homework 10\n",
    "###### by Mher Movsisyan\n",
    "---"
   ]
  },
  {
   "cell_type": "markdown",
   "metadata": {},
   "source": [
    "### Problem 1:  \n",
    "a. (R) Synthetic Data Variance CI (15 points)\n",
    "Here we want to construct a CI for the Variance of some generated data from Normal\n",
    "Distribution. To that end,\n",
    "1. Fix the Random Number Generator’s Seed to 1234567;\n",
    "2. Generate a Sample x of size 74 from N(−2, 3.72<sup>2</sup>) (so the true parameters are μ = −2 and σ<sup>2</sup> = 3.72<sup>2</sup>);\n",
    "3. For a moment, let’s forget that we know the true value of σ<sup>2</sup>, and assume that our Sample comes from N(−2, σ<sup>2</sup>). Construct a CI of 95% level for σ<sup>2</sup> and check if the true value of σ<sup>2</sup> is in that Interval.\n",
    "4. Next, assume also that we do not know the true mean of the Distribution, so here assume we just know that our Sample is from some Normal Distribution. Construct a CI of 95% level for σ<sup>2</sup> and check if the true value of σ<sup>2</sup> is in that Interval.\n",
    "5. For the above case, construct a 95% CI for the Standard Deviation σ;\n",
    "6. Solve Part ‘d.‘ using ‘varTest‘ function for ‘EnvStat‘ package."
   ]
  },
  {
   "cell_type": "markdown",
   "metadata": {},
   "source": [
    "Answer:  "
   ]
  },
  {
   "cell_type": "code",
   "execution_count": 3,
   "metadata": {
    "vscode": {
     "languageId": "r"
    }
   },
   "outputs": [
    {
     "data": {
      "text/html": [
       "<style>\n",
       ".list-inline {list-style: none; margin:0; padding: 0}\n",
       ".list-inline>li {display: inline-block}\n",
       ".list-inline>li:not(:last-child)::after {content: \"\\00b7\"; padding: 0 .5ex}\n",
       "</style>\n",
       "<ol class=list-inline><li>8.68804918941495</li><li>16.695937733134</li></ol>\n"
      ],
      "text/latex": [
       "\\begin{enumerate*}\n",
       "\\item 8.68804918941495\n",
       "\\item 16.695937733134\n",
       "\\end{enumerate*}\n"
      ],
      "text/markdown": [
       "1. 8.68804918941495\n",
       "2. 16.695937733134\n",
       "\n",
       "\n"
      ],
      "text/plain": [
       "[1]  8.688049 16.695938"
      ]
     },
     "metadata": {},
     "output_type": "display_data"
    }
   ],
   "source": [
    "# a.1\n",
    "set.seed(1234567);\n",
    "\n",
    "# a.2\n",
    "mu <- -2;\n",
    "a <- 0.05;\n",
    "n <- 74;\n",
    "x <- rnorm(n, mu, 3.72);\n",
    "\n",
    "# a.3\n",
    "devar <- sum((x - mu) ** 2);\n",
    "\n",
    "c(devar / qchisq(1 - a / 2, n - 1), devar / qchisq(a / 2, n - 1));"
   ]
  },
  {
   "cell_type": "code",
   "execution_count": 4,
   "metadata": {
    "vscode": {
     "languageId": "r"
    }
   },
   "outputs": [
    {
     "data": {
      "text/html": [
       "13.8384"
      ],
      "text/latex": [
       "13.8384"
      ],
      "text/markdown": [
       "13.8384"
      ],
      "text/plain": [
       "[1] 13.8384"
      ]
     },
     "metadata": {},
     "output_type": "display_data"
    }
   ],
   "source": [
    "3.72 ** 2"
   ]
  },
  {
   "cell_type": "markdown",
   "metadata": {},
   "source": [
    "Yes, the true value of σ<sup>2</sup> is in the CI of 95% level for σ<sup>2</sup>."
   ]
  },
  {
   "cell_type": "code",
   "execution_count": 5,
   "metadata": {
    "vscode": {
     "languageId": "r"
    }
   },
   "outputs": [
    {
     "data": {
      "text/html": [
       "<style>\n",
       ".list-inline {list-style: none; margin:0; padding: 0}\n",
       ".list-inline>li {display: inline-block}\n",
       ".list-inline>li:not(:last-child)::after {content: \"\\00b7\"; padding: 0 .5ex}\n",
       "</style>\n",
       "<ol class=list-inline><li>8.52988879489882</li><li>16.3919988348706</li></ol>\n"
      ],
      "text/latex": [
       "\\begin{enumerate*}\n",
       "\\item 8.52988879489882\n",
       "\\item 16.3919988348706\n",
       "\\end{enumerate*}\n"
      ],
      "text/markdown": [
       "1. 8.52988879489882\n",
       "2. 16.3919988348706\n",
       "\n",
       "\n"
      ],
      "text/plain": [
       "[1]  8.529889 16.391999"
      ]
     },
     "metadata": {},
     "output_type": "display_data"
    }
   ],
   "source": [
    "# a.4\n",
    "devar <- sum((x - mean(x)) ** 2);\n",
    "\n",
    "c(devar / qchisq(1 - a / 2, n - 1), devar / qchisq(a / 2, n - 1)) ;"
   ]
  },
  {
   "cell_type": "code",
   "execution_count": 6,
   "metadata": {
    "vscode": {
     "languageId": "r"
    }
   },
   "outputs": [
    {
     "data": {
      "text/html": [
       "<style>\n",
       ".list-inline {list-style: none; margin:0; padding: 0}\n",
       ".list-inline>li {display: inline-block}\n",
       ".list-inline>li:not(:last-child)::after {content: \"\\00b7\"; padding: 0 .5ex}\n",
       "</style>\n",
       "<ol class=list-inline><li>2.92059733528928</li><li>4.04870335229325</li></ol>\n"
      ],
      "text/latex": [
       "\\begin{enumerate*}\n",
       "\\item 2.92059733528928\n",
       "\\item 4.04870335229325\n",
       "\\end{enumerate*}\n"
      ],
      "text/markdown": [
       "1. 2.92059733528928\n",
       "2. 4.04870335229325\n",
       "\n",
       "\n"
      ],
      "text/plain": [
       "[1] 2.920597 4.048703"
      ]
     },
     "metadata": {},
     "output_type": "display_data"
    }
   ],
   "source": [
    "# a.5\n",
    "sqrt(c(devar / qchisq(1 - a / 2, n - 1), devar / qchisq(a / 2, n - 1)));"
   ]
  },
  {
   "cell_type": "code",
   "execution_count": 7,
   "metadata": {
    "vscode": {
     "languageId": "r"
    }
   },
   "outputs": [
    {
     "name": "stderr",
     "output_type": "stream",
     "text": [
      "Warning message:\n",
      "\"package 'EnvStats' was built under R version 4.1.3\"\n",
      "\n",
      "Attaching package: 'EnvStats'\n",
      "\n",
      "\n",
      "The following objects are masked from 'package:stats':\n",
      "\n",
      "    predict, predict.lm\n",
      "\n",
      "\n",
      "The following object is masked from 'package:base':\n",
      "\n",
      "    print.default\n",
      "\n",
      "\n"
     ]
    },
    {
     "data": {
      "text/html": [
       "<style>\n",
       ".dl-inline {width: auto; margin:0; padding: 0}\n",
       ".dl-inline>dt, .dl-inline>dd {float: none; width: auto; display: inline-block}\n",
       ".dl-inline>dt::after {content: \":\\0020\"; padding-right: .5ex}\n",
       ".dl-inline>dt:not(:first-of-type) {padding-left: .5ex}\n",
       "</style><dl class=dl-inline><dt>LCL</dt><dd>8.52988879489882</dd><dt>UCL</dt><dd>16.3919988348706</dd></dl>\n"
      ],
      "text/latex": [
       "\\begin{description*}\n",
       "\\item[LCL] 8.52988879489882\n",
       "\\item[UCL] 16.3919988348706\n",
       "\\end{description*}\n"
      ],
      "text/markdown": [
       "LCL\n",
       ":   8.52988879489882UCL\n",
       ":   16.3919988348706\n",
       "\n"
      ],
      "text/plain": [
       "      LCL       UCL \n",
       " 8.529889 16.391999 \n",
       "attr(,\"conf.level\")\n",
       "[1] 0.95"
      ]
     },
     "metadata": {},
     "output_type": "display_data"
    }
   ],
   "source": [
    "# a.6\n",
    "library(EnvStats, verbose = 0);\n",
    "varTest(x)$conf.int;"
   ]
  },
  {
   "cell_type": "markdown",
   "metadata": {},
   "source": [
    "b. Chechil cheese case (8 points)  \n",
    "Here are some weights of BioKat Chechil Cheese package weights, in Grams:\n",
    "```\n",
    "[1] 135.21 136.39 123.55 132.78 136.78 130.78 140.84 136.82 135.80 134.46\n",
    "[11] 142.94 141.38 137.17 135.41 137.03 131.59 133.65 137.95 134.79 141.10\n",
    "```\n",
    "We assume that the weights are Normally Distributed. Construct a 90% CI for Standard\n",
    "Deviation of the package Weight."
   ]
  },
  {
   "cell_type": "markdown",
   "metadata": {},
   "source": [
    "Answer:  "
   ]
  },
  {
   "cell_type": "code",
   "execution_count": 8,
   "metadata": {
    "vscode": {
     "languageId": "r"
    }
   },
   "outputs": [
    {
     "data": {
      "text/html": [
       "<style>\n",
       ".list-inline {list-style: none; margin:0; padding: 0}\n",
       ".list-inline>li {display: inline-block}\n",
       ".list-inline>li:not(:last-child)::after {content: \"\\00b7\"; padding: 0 .5ex}\n",
       "</style>\n",
       "<ol class=list-inline><li>3.4366198152683</li><li>5.93201675680561</li></ol>\n"
      ],
      "text/latex": [
       "\\begin{enumerate*}\n",
       "\\item 3.4366198152683\n",
       "\\item 5.93201675680561\n",
       "\\end{enumerate*}\n"
      ],
      "text/markdown": [
       "1. 3.4366198152683\n",
       "2. 5.93201675680561\n",
       "\n",
       "\n"
      ],
      "text/plain": [
       "[1] 3.436620 5.932017"
      ]
     },
     "metadata": {},
     "output_type": "display_data"
    }
   ],
   "source": [
    "x <- c(135.21, 136.39, 123.55, 132.78, 141.10,\n",
    "    136.78, 130.78, 140.84, 136.82, 135.80,\n",
    "    134.46, 142.94, 141.38, 137.17, 135.41,\n",
    "    137.03, 131.59, 133.65, 137.95, 134.79)\n",
    "\n",
    "a <- 0.1;\n",
    "n <- length(x);\n",
    "x_bar <- mean(x);\n",
    "ssum <- sum((x - x_bar) ** 2);\n",
    "ld <- qchisq(1 - a / 2, n - 1);\n",
    "ud <- qchisq(a / 2, n - 1);\n",
    "\n",
    "lb <- sqrt(ssum / ld);\n",
    "ub <- sqrt(ssum / ud);\n",
    "\n",
    "c(lb, ub);"
   ]
  },
  {
   "cell_type": "markdown",
   "metadata": {},
   "source": [
    "### Problem 2:\n",
    "a. (R) NBA Players data (10 points)\n",
    "Using the following <a href=\"https://drive.google.com/file/d/1oRzEx3jvQ20l6jMLfUgxtvThClpZN47h/view\">link</a>, please download the NBA Players data for 1996 - 2019.\n",
    "1. Plot the histogram of the heights of players;\n",
    "2. Estimate the mean of the player’s height;\n",
    "3. Construct an Asymptotic CI of level 0.95 for the mean height"
   ]
  },
  {
   "cell_type": "markdown",
   "metadata": {},
   "source": [
    "Answer:  "
   ]
  },
  {
   "cell_type": "code",
   "execution_count": 17,
   "metadata": {
    "vscode": {
     "languageId": "r"
    }
   },
   "outputs": [
    {
     "data": {
      "image/png": "[encoded data removed]",
      "text/plain": [
       "Plot with title \"Histogram of data$player_height\""
      ]
     },
     "metadata": {
      "image/png": {
       "height": 420,
       "width": 420
      }
     },
     "output_type": "display_data"
    }
   ],
   "source": [
    "# a.1\n",
    "data <- read.csv(\"res/all_seasons.csv\");\n",
    "hist(data$player_height);"
   ]
  },
  {
   "cell_type": "code",
   "execution_count": 18,
   "metadata": {
    "vscode": {
     "languageId": "r"
    }
   },
   "outputs": [
    {
     "data": {
      "text/html": [
       "200.812818304172"
      ],
      "text/latex": [
       "200.812818304172"
      ],
      "text/markdown": [
       "200.812818304172"
      ],
      "text/plain": [
       "[1] 200.8128"
      ]
     },
     "metadata": {},
     "output_type": "display_data"
    }
   ],
   "source": [
    "# a.2\n",
    "\n",
    "x_bar <- mean(data$player_height);\n",
    "x_bar"
   ]
  },
  {
   "cell_type": "code",
   "execution_count": 19,
   "metadata": {
    "vscode": {
     "languageId": "r"
    }
   },
   "outputs": [
    {
     "data": {
      "text/html": [
       "<style>\n",
       ".list-inline {list-style: none; margin:0; padding: 0}\n",
       ".list-inline>li {display: inline-block}\n",
       ".list-inline>li:not(:last-child)::after {content: \"\\00b7\"; padding: 0 .5ex}\n",
       "</style>\n",
       "<ol class=list-inline><li>200.642164199661</li><li>200.983472408683</li></ol>\n"
      ],
      "text/latex": [
       "\\begin{enumerate*}\n",
       "\\item 200.642164199661\n",
       "\\item 200.983472408683\n",
       "\\end{enumerate*}\n"
      ],
      "text/markdown": [
       "1. 200.642164199661\n",
       "2. 200.983472408683\n",
       "\n",
       "\n"
      ],
      "text/plain": [
       "[1] 200.6422 200.9835"
      ]
     },
     "metadata": {},
     "output_type": "display_data"
    }
   ],
   "source": [
    "# a.3\n",
    "\n",
    "n <- length(data$player_height);\n",
    "standard_dev <- sd(data$player_height);\n",
    "a <- 0.05;\n",
    "me <- qt(1 - a / 2, n - 1) * standard_dev / sqrt(n);\n",
    "\n",
    "c(x_bar - me, x_bar + me);"
   ]
  },
  {
   "cell_type": "markdown",
   "metadata": {},
   "source": [
    "b. Asymptotic CI (20 points)  \n",
    "Assume we are given a Random Sample from the Family of Parametric Distributions given\n",
    "by their PDFs\n",
    "$$ f (x|\\lambda) = \\lambda · x^{\\lambda−1}, x \\in [0, 1],\\ \\ \\ and\\ \\ \\ f(x|\\lambda) = 0, x \\notin [0, 1] $$\n",
    "1. Find the Fisher Information for λ;\n",
    "2. Find the MLE Estimator for λ, based in the Random Sample X1, X2, ..., Xn;\n",
    "3. Check if MLE is Consistent;\n",
    "4. Construct an Asymptotic CI of Level 1 − α for the λ in this Model."
   ]
  },
  {
   "cell_type": "markdown",
   "metadata": {},
   "source": [
    "Answer:  \n",
    "1. $$ I(\\lambda) = -\\Epsilon \\left ( ln''(f(x|\\lambda)) \\right ) $$"
   ]
  },
  {
   "cell_type": "markdown",
   "metadata": {},
   "source": [
    "$$ ln(f(x|\\lambda)) = ln(\\lambda) + (\\lambda−1)ln(x) $$"
   ]
  },
  {
   "cell_type": "markdown",
   "metadata": {},
   "source": [
    "$$ ln'(f(x|\\lambda)) = \\frac {1}{\\lambda} + ln(x) $$"
   ]
  },
  {
   "cell_type": "markdown",
   "metadata": {},
   "source": [
    "$$ ln''(f(x|\\lambda)) = -\\frac {1}{\\lambda^2} $$"
   ]
  },
  {
   "cell_type": "markdown",
   "metadata": {},
   "source": [
    "$$ I(\\lambda) = -\\Epsilon \\left ( -\\frac {1} {\\lambda^2} \\right ) =  \\frac {1} {Var(\\lambda) + E(\\lambda)^2} $$"
   ]
  },
  {
   "cell_type": "markdown",
   "metadata": {},
   "source": [
    "2. $$ l = nln(\\lambda) + (\\lambda - 1) \\sum_{i=1}^{n}ln(x_i) $$"
   ]
  },
  {
   "cell_type": "markdown",
   "metadata": {},
   "source": [
    "$$ l' = \\frac {n}{\\lambda} + \\sum_{i=1}^{n}ln(x_i) $$"
   ]
  },
  {
   "cell_type": "markdown",
   "metadata": {},
   "source": [
    "$$ l' = 0 \\Leftrightarrow \\lambda = -\\frac {n}{\\sum_{i=1}^{n}x_i} $$"
   ]
  },
  {
   "cell_type": "markdown",
   "metadata": {},
   "source": [
    "$$ l'' = -\\frac {n}{\\lambda^2} < 0 $$"
   ]
  },
  {
   "cell_type": "markdown",
   "metadata": {},
   "source": [
    "$$ \\hat{\\lambda}^{MLE} = -\\frac {n}{\\sum_{i=1}^{n}x_i} $$"
   ]
  },
  {
   "cell_type": "markdown",
   "metadata": {},
   "source": [
    "3. $$ E(\\lambda) = \\int_{0}^{1} xf(x|\\lambda) dx = \\frac{\\lambda x^{\\lambda + 1}}{\\lambda+1}|^{1}_0 = 1 - \\frac{1}{\\lambda + 1} $$"
   ]
  },
  {
   "cell_type": "markdown",
   "metadata": {},
   "source": [
    "$$ \\bar{X} = 1 - \\frac{1}{\\lambda + 1} $$"
   ]
  },
  {
   "cell_type": "markdown",
   "metadata": {},
   "source": [
    "$$ \\lambda = \\frac{1}{\\bar{X} - 1} - 1 \\rightarrow \\frac{1}{1 - \\frac{1}{\\lambda + 1} - 1} - 1= \\lambda \\Rightarrow Consistent$$"
   ]
  },
  {
   "cell_type": "markdown",
   "metadata": {},
   "source": [
    "4. $$ ACI\\ for\\ \\lambda = -\\frac {n}{\\sum_{i=1}^{n}x_i} \\pm z_{1-a/2}\\sqrt{\\frac{Var(\\hat{\\lambda}) + E(\\hat{\\lambda})^2}{n}} $$"
   ]
  },
  {
   "cell_type": "markdown",
   "metadata": {},
   "source": [
    "### Problem 3: Hypothesis Testing  \n",
    "**Significance and Power (15 points)**  \n",
    "Assume x<sub>1</sub>, ..., x<sub>100</sub> is an Observation from the model N(μ, 4). We want to test the hypothesis\n",
    "$$ H_0: μ = 0\\ \\ \\  vs\\ \\ \\ H_1: μ = 1 $$\n",
    "We chose the rejection region \n",
    "$$ RR = \\{ \\bar{X} > 0.5\\} $$\n",
    "The Sample Mean of our Observations x<sub>k</sub> is 0.32.\n",
    "1. What is the Decision of the Test?"
   ]
  },
  {
   "cell_type": "markdown",
   "metadata": {},
   "source": [
    "Answer:  \n",
    "We fail to reject the Null Hypothesis."
   ]
  },
  {
   "cell_type": "markdown",
   "metadata": {},
   "source": [
    "2. Calculate the Type I Error Probability;"
   ]
  },
  {
   "cell_type": "markdown",
   "metadata": {},
   "source": [
    "Answer:  \n",
    "$$ \\bar{X} \\sim N \\left (\\mu, \\frac{2^2}{\\sqrt{n}} \\right ) = N\\left(\\mu, \\frac{2}{5}\\right) $$"
   ]
  },
  {
   "cell_type": "markdown",
   "metadata": {},
   "source": [
    "\n",
    "$$ P(Type\\ I\\ Error) = a = 1 - F_{\\bar{X}|\\mu = 0}(0.5)  $$"
   ]
  },
  {
   "cell_type": "markdown",
   "metadata": {},
   "source": [
    "$$ a = 1 - F_{z}\\left (\\frac{0.5}{\\sqrt{2/5}} \\right ) \\approx 0.3 $$"
   ]
  },
  {
   "cell_type": "markdown",
   "metadata": {},
   "source": [
    "3. Calculate the Type II Error Probability"
   ]
  },
  {
   "cell_type": "markdown",
   "metadata": {},
   "source": [
    "Answer:  \n",
    "$$ P(Type\\ II\\ Error) = b = F_{\\bar{X}|\\mu = 1}(0.5) $$"
   ]
  },
  {
   "cell_type": "markdown",
   "metadata": {},
   "source": [
    "$$ b = F_{z}\\left (-\\frac{0.5}{\\sqrt{2/5}} \\right ) \\approx 0.3 $$"
   ]
  },
  {
   "cell_type": "markdown",
   "metadata": {},
   "source": [
    "4. Calculate the power of the test."
   ]
  },
  {
   "cell_type": "markdown",
   "metadata": {},
   "source": [
    "Answer:  \n",
    "$$ Power = 1 - b = 0.7 $$"
   ]
  },
  {
   "cell_type": "markdown",
   "metadata": {},
   "source": [
    "### Problem 4: Testing in Practice\n",
    "a. Testing for the Normal Mean (10 points)  \n",
    "On a new highway, the speed limit is set to 70 km/h. The police department is claiming that\n",
    "the average speed is higher than 70 km/h on that highway, and wants to put an aragachaph.\n",
    "In support of their claim, the department is providing data from randomly chosen 10 cars:\n",
    "the recorded speeds are (in km/h):\n",
    "$$ 66, 79, 80, 74, 81, 79, 65, 78, 77, 69 $$\n",
    "s this data providing a sufficient evidence against the Hypothesis that the average speed\n",
    "is 70 km/h? Use 1% significance level. You can assume that the car speeds are normally\n",
    "distributed.\n",
    "1. Do the Testing by hand, i.e., by calculating Test Statistics value and comparing with Critical Values;"
   ]
  },
  {
   "cell_type": "markdown",
   "metadata": {},
   "source": [
    "Answer:  \n",
    "$$ a = 0.01 $$\n",
    "$$ H_0: μ = 70\\ \\ \\  vs\\ \\ \\ H_1: μ > 70 $$\n",
    "$$ \\bar{X} = sum(66, 79, 80, 74, 81, 79, 65, 78, 77, 69) - / 10 = 74.8 $$"
   ]
  },
  {
   "cell_type": "markdown",
   "metadata": {},
   "source": [
    "$$ sr^2(x) = (74.8 - 66)^2 + (74.8 - 79)^2 + (74.8 - 80)^2 + (74.8 - 74)^2 + $$\n",
    "$$ + (74.8 - 81)^2 + (74.8 - 79)^2 + (74.8 - 65)^2 + (74.8 - 78)^2 + (74.8 - 77)^2 + (74.8 - 69)^2 = 323.6 $$"
   ]
  },
  {
   "cell_type": "markdown",
   "metadata": {},
   "source": [
    "$$ S = \\sqrt(323.6 / 9 )\\approx 6 $$"
   ]
  },
  {
   "cell_type": "markdown",
   "metadata": {},
   "source": [
    "$$ t = \\frac{74.8 - 70}{6/\\sqrt{9}} \\approx 2.4 $$"
   ]
  },
  {
   "cell_type": "markdown",
   "metadata": {},
   "source": [
    "$$ t_{1-\\alpha} = 2.821 $$"
   ]
  },
  {
   "cell_type": "markdown",
   "metadata": {},
   "source": [
    "$$ t < t_{1-\\alpha} \\Rightarrow We\\ fail\\ to\\ reject\\ H_0 $$"
   ]
  },
  {
   "cell_type": "markdown",
   "metadata": {},
   "source": [
    "2. (R) Do the Testing using CIs;"
   ]
  },
  {
   "cell_type": "markdown",
   "metadata": {},
   "source": [
    "Answer:  "
   ]
  },
  {
   "cell_type": "code",
   "execution_count": 33,
   "metadata": {
    "vscode": {
     "languageId": "r"
    }
   },
   "outputs": [
    {
     "name": "stdout",
     "output_type": "stream",
     "text": [
      "[1] \"t at 1 - a\"       \"2.82143792502581\"\n",
      "[1] \"t-value\"          \"2.53138519416467\"\n"
     ]
    }
   ],
   "source": [
    "a <- 0.01\n",
    "x <- c(66, 79, 80, 74, 81, 79, 65, 78, 77, 69);\n",
    "print(c(\"t at 1 - a\", qt(1 - a, 9)));\n",
    "print(c(\n",
    "    \"t-value\",\n",
    "    toString(t.test(x, mu = 70, alternative = \"greater\")$statistic)\n",
    "));"
   ]
  },
  {
   "cell_type": "markdown",
   "metadata": {},
   "source": [
    "t-value < t<sub>1 - a</sub>, so we fail to reject the hypothesis"
   ]
  },
  {
   "cell_type": "markdown",
   "metadata": {},
   "source": [
    "3. (R) Do the Testing using p-Values."
   ]
  },
  {
   "cell_type": "markdown",
   "metadata": {},
   "source": [
    "Answer:  "
   ]
  },
  {
   "cell_type": "code",
   "execution_count": 37,
   "metadata": {
    "vscode": {
     "languageId": "r"
    }
   },
   "outputs": [
    {
     "data": {
      "text/html": [
       "0.0160810952783473"
      ],
      "text/latex": [
       "0.0160810952783473"
      ],
      "text/markdown": [
       "0.0160810952783473"
      ],
      "text/plain": [
       "[1] 0.0160811"
      ]
     },
     "metadata": {},
     "output_type": "display_data"
    }
   ],
   "source": [
    "t.test(x, mu = 70, alternative = \"greater\")$p.value"
   ]
  },
  {
   "cell_type": "markdown",
   "metadata": {},
   "source": [
    "p-value > a, so we fail to reject the hypothesis"
   ]
  },
  {
   "cell_type": "markdown",
   "metadata": {},
   "source": [
    "b. Testing for the Proportion (7 points)  \n",
    "A company claims that 83% of customers buying their product are satisfied with that\n",
    "product. Assume we have a sample of 74 persons, chosen randomly, who bought their\n",
    "product, and only 52 of them are satisfied. Perform a Test of Significance Level 0.05 to see if\n",
    "the data is supporting the company’s claim."
   ]
  },
  {
   "cell_type": "markdown",
   "metadata": {},
   "source": [
    "Answer:  \n",
    "$$ \\bar{X} = 52/74 = 0.7;\\ \\ \\ \\ a = 0.05 $$\n",
    "$$ H_0: p = 0.83\\ \\ \\ H_1: p \\neq 0.83 $$\n",
    "$$ W = \\frac{0.7 - 0.83}{\\sqrt{\\frac{0.7 * 0.3}{74}}} \\approx - 0.007 $$\n",
    "$$ z_{1-a/2} \\approx 2.75 $$"
   ]
  },
  {
   "cell_type": "markdown",
   "metadata": {},
   "source": [
    "$$ |W| < z_{1-a/2} \\Rightarrow We\\ fail\\ to\\ reject\\ H_0 $$"
   ]
  },
  {
   "cell_type": "markdown",
   "metadata": {},
   "source": [
    "c. Z-test (7 points)  \n",
    "Every day I feed my cat Wolfie with dry food. The daily portion needs to be 60 grams, but,\n",
    "of course, the actual portion weight is never equal to 60. I want to see if I am underfeeding\n",
    "my cat. To that end, I have weighted the portions for 2 weeks:\n",
    "```\n",
    "[1] 66.8 60.9 62.2 59.0 55.1 63.8 59.1 60.0 68.3 56.7 57.6 56.1 59.0 61.5\n",
    "```\n",
    "Assuming that the distribution of daily portions is Normal with standard deviation 5, test\n",
    "the Hypothesis that I am underfeeding Wolfie."
   ]
  },
  {
   "cell_type": "markdown",
   "metadata": {},
   "source": [
    "Answer:  \n",
    "$$ \\bar{X} \\approx 60.44 $$\n",
    "Since the mean of our sample is 60.44, there is no point in testing the hypothesis, we cannot reject that the cat is being fed an adequate amount (60 grams). Point `d` of this problem tests this hypothesis."
   ]
  },
  {
   "cell_type": "markdown",
   "metadata": {},
   "source": [
    "d. (R) Z-test (8 points)  \n",
    "Write the z.test function in the analogue of t.test. Test your function on some Data."
   ]
  },
  {
   "cell_type": "markdown",
   "metadata": {},
   "source": [
    "Answer:  "
   ]
  },
  {
   "cell_type": "code",
   "execution_count": 3,
   "metadata": {
    "vscode": {
     "languageId": "r"
    }
   },
   "outputs": [
    {
     "data": {
      "text/html": [
       "<dl>\n",
       "\t<dt>$statistic</dt>\n",
       "\t\t<dd>0.326058715133156</dd>\n",
       "\t<dt>$p.value</dt>\n",
       "\t\t<dd>0.627810033962734</dd>\n",
       "\t<dt>$conf.int</dt>\n",
       "\t\t<dd><style>\n",
       ".list-inline {list-style: none; margin:0; padding: 0}\n",
       ".list-inline>li {display: inline-block}\n",
       ".list-inline>li:not(:last-child)::after {content: \"\\00b7\"; padding: 0 .5ex}\n",
       "</style>\n",
       "<ol class=list-inline><li>58.2376861701983</li><li>62.6337424012303</li></ol>\n",
       "</dd>\n",
       "\t<dt>$estimate</dt>\n",
       "\t\t<dd>60.4357142857143</dd>\n",
       "\t<dt>$null.value</dt>\n",
       "\t\t<dd>60</dd>\n",
       "\t<dt>$alternative</dt>\n",
       "\t\t<dd>'less'</dd>\n",
       "</dl>\n"
      ],
      "text/latex": [
       "\\begin{description}\n",
       "\\item[\\$statistic] 0.326058715133156\n",
       "\\item[\\$p.value] 0.627810033962734\n",
       "\\item[\\$conf.int] \\begin{enumerate*}\n",
       "\\item 58.2376861701983\n",
       "\\item 62.6337424012303\n",
       "\\end{enumerate*}\n",
       "\n",
       "\\item[\\$estimate] 60.4357142857143\n",
       "\\item[\\$null.value] 60\n",
       "\\item[\\$alternative] 'less'\n",
       "\\end{description}\n"
      ],
      "text/markdown": [
       "$statistic\n",
       ":   0.326058715133156\n",
       "$p.value\n",
       ":   0.627810033962734\n",
       "$conf.int\n",
       ":   1. 58.2376861701983\n",
       "2. 62.6337424012303\n",
       "\n",
       "\n",
       "\n",
       "$estimate\n",
       ":   60.4357142857143\n",
       "$null.value\n",
       ":   60\n",
       "$alternative\n",
       ":   'less'\n",
       "\n",
       "\n"
      ],
      "text/plain": [
       "$statistic\n",
       "[1] 0.3260587\n",
       "\n",
       "$p.value\n",
       "[1] 0.62781\n",
       "\n",
       "$conf.int\n",
       "[1] 58.23769 62.63374\n",
       "\n",
       "$estimate\n",
       "[1] 60.43571\n",
       "\n",
       "$null.value\n",
       "[1] 60\n",
       "\n",
       "$alternative\n",
       "[1] \"less\"\n"
      ]
     },
     "metadata": {},
     "output_type": "display_data"
    }
   ],
   "source": [
    "z_test <- function(x, sigma, mu, conf_level = 0.95, alternative = \"two.sided\") {\n",
    "    a <- 1 - conf_level\n",
    "\n",
    "    if (alternative == \"two.sided\") {\n",
    "        z <- qnorm(1 - a / 2);\n",
    "    } else if (alternative == \"less\") {\n",
    "        z <- qnorm(1 - a);\n",
    "    } else if (alternative == \"greater\") {\n",
    "        z <- qnorm(a);\n",
    "    } else {\n",
    "        stop(\"Invalid alternative\");\n",
    "    }\n",
    "\n",
    "    n <- length(x);\n",
    "\n",
    "    z_value <- (mean(x) - mu) / (sigma / sqrt(n));\n",
    "\n",
    "    result <- list(\n",
    "        statistic = z_value,\n",
    "        p.value = pnorm(z_value),\n",
    "        conf.int = c(\n",
    "            mean(x) - z * sigma / sqrt(n),\n",
    "            mean(x) + z * sigma / sqrt(n)\n",
    "        ),\n",
    "        estimate = mean(x),\n",
    "        null.value = mu,\n",
    "        alternative = alternative\n",
    "    );\n",
    "\n",
    "    return(result);\n",
    "}\n",
    "\n",
    "z_test(c(66.8, 60.9, 62.2, 59.0,\n",
    "    55.1, 63.8, 59.1, 60.0, 68.3,\n",
    "    56.7, 57.6, 56.1, 59.0, 61.5),\n",
    "    sigma = 5, mu = 60, alternative = \"less\")"
   ]
  }
 ],
 "metadata": {
  "kernelspec": {
   "display_name": "R",
   "language": "R",
   "name": "ir"
  },
  "language_info": {
   "codemirror_mode": "r",
   "file_extension": ".r",
   "mimetype": "text/x-r-source",
   "name": "R",
   "pygments_lexer": "r",
   "version": "4.1.2"
  },
  "orig_nbformat": 4
 },
 "nbformat": 4,
 "nbformat_minor": 2
}
