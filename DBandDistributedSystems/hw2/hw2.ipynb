{
 "cells": [
  {
   "cell_type": "markdown",
   "metadata": {},
   "source": [
    "# Homework 2\n",
    "###### by Mher Movsisyan\n",
    "---"
   ]
  },
  {
   "cell_type": "markdown",
   "metadata": {},
   "source": [
    "### 1. Postgres Data Setup (5 pts)\n",
    "Use the SQL scripts and set up sample data in your local installation of PostgreSQL Server.  \n",
    "\n",
    "- https://www.db-book.com/university-lab-dir/sample_tables-dir/DDL.sql  \n",
    "- https://www.db-book.com/university-lab-dir/sample_tables-dir/smallRelations/smallRelationsInsertFile.sql  \n",
    "\n",
    "When set up is complete, connect to your database via pgAdmin, select some data to make sure that the data setup is complete. Take a screenshot (it has to be a screenshot, not a photo using the phone) and include it in your answers."
   ]
  },
  {
   "cell_type": "markdown",
   "metadata": {},
   "source": [
    "<img src=\"https://github.com/MovsisyanM/sandbox/blob/main/DBandDistributedSystems/hw2/Screenshot%20(1).png?raw=true\"></img>"
   ]
  },
  {
   "cell_type": "markdown",
   "metadata": {},
   "source": [
    "### 2. SQL Queries (5 pts)  \n",
    "(a) Find the title of all the courses that may be taken after CS-101"
   ]
  },
  {
   "cell_type": "code",
   "execution_count": null,
   "metadata": {},
   "outputs": [],
   "source": [
    "select title \n",
    "from course \n",
    "where course_id in (\n",
    "    select course_id \n",
    "    from prereq \n",
    "    where prereq_id = 'CS-101'\n",
    ");"
   ]
  },
  {
   "cell_type": "markdown",
   "metadata": {},
   "source": [
    "Output:  \n",
    "  \n",
    "| title                     |  \n",
    "| ------------------------- |  \n",
    "| Game Design     \t        |  \n",
    "| Robotics                  |  \n",
    "| Image Processing          |  \n",
    "| Database System Concepts  |  \n",
    "  \n",
    "  "
   ]
  },
  {
   "cell_type": "markdown",
   "metadata": {},
   "source": [
    "(b) Find the instructor names that teach at least one course in Spring 2018."
   ]
  },
  {
   "cell_type": "code",
   "execution_count": null,
   "metadata": {},
   "outputs": [],
   "source": [
    "\n",
    "select name \n",
    "from instructor\n",
    "where id in (\n",
    "    select distinct id\n",
    "    from teaches\n",
    "    where year = '2018'\n",
    "    and semester = 'Spring'\n",
    ");"
   ]
  },
  {
   "cell_type": "markdown",
   "metadata": {},
   "source": [
    "Output:  \n",
    "  \n",
    "| name       |  \n",
    "| ---------- |  \n",
    "| Srinivasan |  \n",
    "| Wu\t     |  \n",
    "| Mozart\t |  \n",
    "| El Said\t |  \n",
    "| Katz  \t |  \n",
    "| Brandt     |  \n",
    "  "
   ]
  },
  {
   "cell_type": "markdown",
   "metadata": {},
   "source": [
    "(c) Find the name of all the students that have taken any course that “Shankar” (student with ID 12345) has taken."
   ]
  },
  {
   "cell_type": "code",
   "execution_count": null,
   "metadata": {},
   "outputs": [],
   "source": [
    "select name\n",
    "from student\n",
    "where id in (\n",
    "    select distinct id\n",
    "    from takes\n",
    "    where course_id in (\n",
    "        select course_id \n",
    "        from takes \n",
    "        where id = '12345'));"
   ]
  },
  {
   "cell_type": "markdown",
   "metadata": {},
   "source": [
    "Output:  \n",
    "  \n",
    "| name       |  \n",
    "| ---------- |  \n",
    "| Zhang\t     |  \n",
    "| Shankar    |  \n",
    "| Levy\t     |  \n",
    "| Williams   |  \n",
    "| Brown\t     |  \n",
    "| Bourikas   |  \n",
    "  "
   ]
  },
  {
   "cell_type": "markdown",
   "metadata": {},
   "source": [
    "### 3. Foreign Key Constraints (5 pts)  \n",
    "What is the difference between the DDL statements in (a) and (b)? Demonstrate how each one behaves when deleting data and include an screenshot of the results in your answers.  "
   ]
  },
  {
   "cell_type": "markdown",
   "metadata": {},
   "source": [
    "(a)"
   ]
  },
  {
   "cell_type": "code",
   "execution_count": null,
   "metadata": {},
   "outputs": [],
   "source": [
    "DROP TABLE IF EXISTS table_b;\n",
    "DROP TABLE IF EXISTS table_a;\n",
    "\n",
    "CREATE TABLE table_a (\n",
    "    col_a INTEGER NOT NULL,\n",
    "    col_b VARCHAR(10) UNIQUE\n",
    ");\n",
    "\n",
    "CREATE TABLE table_b (\n",
    "    col_c NUMERIC,\n",
    "    col_d VARCHAR(10) REFERENCES table_a(col_b)\n",
    ");"
   ]
  },
  {
   "cell_type": "markdown",
   "metadata": {},
   "source": [
    "(b)"
   ]
  },
  {
   "cell_type": "code",
   "execution_count": null,
   "metadata": {},
   "outputs": [],
   "source": [
    "DROP TABLE IF EXISTS table_b;\n",
    "DROP TABLE IF EXISTS table_a;\n",
    "\n",
    "CREATE TABLE table_a (\n",
    "    col_a INTEGER NOT NULL,\n",
    "    col_b VARCHAR(10) UNIQUE\n",
    ");\n",
    "\n",
    "CREATE TABLE table_b (\n",
    "    col_c NUMERIC,\n",
    "    col_d VARCHAR(10) REFERENCES table_a(col_b) ON DELETE CASCADE\n",
    ");"
   ]
  },
  {
   "cell_type": "markdown",
   "metadata": {},
   "source": [
    "In case of (b), when we delete data from table_a, the data in table_b will be deleted as well. Yet, in case of (a), when we delete data from table_a, it will result in an error."
   ]
  },
  {
   "cell_type": "markdown",
   "metadata": {},
   "source": [
    "(a)  \n",
    "<img src=\"https://github.com/MovsisyanM/sandbox/blob/main/DBandDistributedSystems/hw2/Screenshot%20(2).png?raw=true\"></img>"
   ]
  },
  {
   "cell_type": "markdown",
   "metadata": {},
   "source": [
    "(b)  \n",
    "<img src=\"https://github.com/MovsisyanM/sandbox/blob/main/DBandDistributedSystems/hw2/Screenshot%20(3).png?raw=true\"></img>"
   ]
  },
  {
   "cell_type": "markdown",
   "metadata": {},
   "source": [
    "### 4. SQL DDL (5 pts)\n",
    "Given the following relational schema:  \n",
    "<img src=\"https://github.com/MovsisyanM/sandbox/blob/main/DBandDistributedSystems/hw2/schma.PNG?raw=true\"></img>"
   ]
  },
  {
   "cell_type": "markdown",
   "metadata": {},
   "source": [
    "(a) Write SQL statements that create tables to implement relational schema. Make sure that primary, foreign key, and unique constraints are implemented as necessary."
   ]
  },
  {
   "cell_type": "markdown",
   "metadata": {},
   "source": [
    "Add at least three different users and two phone numbers for each user. Write the following queries and include a screenshot of the results in your answers."
   ]
  },
  {
   "cell_type": "code",
   "execution_count": null,
   "metadata": {},
   "outputs": [],
   "source": [
    "drop table if exists \"User\", \"Phone\", \"Address\";\n",
    "\n",
    "create table \"Address\"(\n",
    "    address_id serial primary key,\n",
    "    city varchar(20),\n",
    "    street varchar(40),\n",
    "    aptNo int\n",
    ");\n",
    "\n",
    "create table \"User\"(\n",
    "    user_id serial primary key,\n",
    "    email varchar(55) unique,\n",
    "    fullname varchar(40),\n",
    "    address_id serial references \"Address\"(address_id)\n",
    ");\n",
    "\n",
    "create table \"Phone\"(\n",
    "    user_id serial not null references \"User\"(user_id),\n",
    "    number varchar(16) primary key\n",
    ");\n",
    "\n",
    "insert into \"Address\"(city, street, aptNo)\n",
    "values ('Yerevan', '7th Sky', 42);\n",
    "insert into \"Address\"(city, street, aptNo)\n",
    "values ('Yerevan', 'Imagination Ave.', 3);\n",
    "\n",
    "insert into \"User\"(email, fullname, address_id) \n",
    "values ('mher@movsisyan.info', 'Mher Movsisyan', 1);\n",
    "insert into \"User\"(email, fullname, address_id) \n",
    "values ('bob@gmail.com', 'Bob Buildovich', 2);\n",
    "insert into \"User\"(email, fullname, address_id) \n",
    "values ('bubert@gmail.com', 'Bubert Scareman', 2);\n",
    "\n",
    "insert into \"Phone\"(user_id, number)\n",
    "values (1, '+374412023222');\n",
    "insert into \"Phone\"(user_id, number)\n",
    "values (2, '+37477060172');"
   ]
  },
  {
   "cell_type": "markdown",
   "metadata": {},
   "source": [
    "<img src=\"https://github.com/MovsisyanM/sandbox/blob/main/DBandDistributedSystems/hw2/Screenshot%20(4).png?raw=true\"></img>"
   ]
  },
  {
   "cell_type": "markdown",
   "metadata": {},
   "source": [
    "(b) Find the users that live in the same city."
   ]
  },
  {
   "cell_type": "code",
   "execution_count": null,
   "metadata": {},
   "outputs": [],
   "source": [
    "-- Exercise 4.b\n",
    "-- Find the users that live in the same city.\n",
    "select * \n",
    "from \"User\"\n",
    "where address_id in (\n",
    "    select address_id\n",
    "    from (\n",
    "            select city, count(city)\n",
    "            from \"Address\"\n",
    "            group by city\n",
    "        ) cityCounts \n",
    "    inner join \"Address\" \n",
    "        on \"Address\".city = cityCounts.city\n",
    "    where cityCounts.count > 1\n",
    ");"
   ]
  },
  {
   "cell_type": "markdown",
   "metadata": {},
   "source": [
    "Output:  \n",
    "<img src=\"https://github.com/MovsisyanM/sandbox/blob/main/DBandDistributedSystems/hw2/Screenshot%20(5).png?raw=true\"></img>"
   ]
  },
  {
   "cell_type": "markdown",
   "metadata": {},
   "source": [
    "(c) Find the users that live in the city of Yerevan."
   ]
  },
  {
   "cell_type": "code",
   "execution_count": null,
   "metadata": {},
   "outputs": [],
   "source": [
    "-- Excercise 4.c\n",
    "-- Find the users that live in Yerevan.\n",
    "select * \n",
    "from \"User\"\n",
    "where \"User\".address_id in (\n",
    "    select \"Address\".address_id\n",
    "    from \"Address\"\n",
    "    where \"Address\".city = 'Yerevan'\n",
    ");"
   ]
  },
  {
   "cell_type": "markdown",
   "metadata": {},
   "source": [
    "Output:  \n",
    "<img src=\"https://github.com/MovsisyanM/sandbox/blob/main/DBandDistributedSystems/hw2/Screenshot%20(6).png?raw=true\"></img>"
   ]
  }
 ],
 "metadata": {
  "interpreter": {
   "hash": "b3ba2566441a7c06988d0923437866b63cedc61552a5af99d1f4fb67d367b25f"
  },
  "kernelspec": {
   "display_name": "R",
   "language": "python",
   "name": "python3"
  },
  "language_info": {
   "codemirror_mode": {
    "name": "ipython",
    "version": 3
   },
   "file_extension": ".py",
   "mimetype": "text/x-python",
   "name": "python",
   "nbconvert_exporter": "python",
   "pygments_lexer": "ipython3",
   "version": "3.8.8"
  },
  "orig_nbformat": 4
 },
 "nbformat": 4,
 "nbformat_minor": 2
}
