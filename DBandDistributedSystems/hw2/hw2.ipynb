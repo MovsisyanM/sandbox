{
 "cells": [
  {
   "cell_type": "markdown",
   "metadata": {},
   "source": [
    "# Homework 2\n",
    "###### by Mher Movsisyan\n",
    "---"
   ]
  },
  {
   "cell_type": "markdown",
   "metadata": {},
   "source": [
    "### 1. Postgres Data Setup (5 pts)\n",
    "Use the SQL scripts and set up sample data in your local installation of PostgreSQL Server.  \n",
    "\n",
    "- https://www.db-book.com/university-lab-dir/sample_tables-dir/DDL.sql  \n",
    "- https://www.db-book.com/university-lab-dir/sample_tables-dir/smallRelations/smallRelationsInsertFile.sql  \n",
    "\n",
    "When set up is complete, connect to your database via pgAdmin, select some data to make sure that the data setup is complete. Take a screenshot (it has to be a screenshot, not a photo using the phone) and include it in your answers."
   ]
  },
  {
   "cell_type": "markdown",
   "metadata": {},
   "source": [
    "<img src=\"https://github.com/MovsisyanM/sandbox/blob/main/DBandDistributedSystems/hw2/Screenshot%20(1).png?raw=true\"></img>"
   ]
  },
  {
   "cell_type": "markdown",
   "metadata": {},
   "source": [
    "### 2. SQL Queries (5 pts)  \n",
    "(a) Find the title of all the courses that may be taken after CS-101"
   ]
  },
  {
   "cell_type": "markdown",
   "metadata": {},
   "source": [
    "> ```select title \n",
    "> from course \n",
    "> where course_id in (\n",
    ">     select course_id \n",
    ">     from prereq \n",
    ">     where prereq_id = 'CS-101'\n",
    "> );\n",
    "```"
   ]
  },
  {
   "cell_type": "markdown",
   "metadata": {},
   "source": [
    "Output:  \n",
    "  \n",
    "| title                     |  \n",
    "| ------------------------- |  \n",
    "| Game Design     \t        |  \n",
    "| Robotics                  |  \n",
    "| Image Processing          |  \n",
    "| Database System Concepts  |  \n",
    "  \n",
    "  "
   ]
  },
  {
   "cell_type": "markdown",
   "metadata": {},
   "source": [
    "(b) Find the instructor names that teach at least one course in Spring 2018."
   ]
  },
  {
   "cell_type": "markdown",
   "metadata": {},
   "source": [
    "\n",
    "> ```select name \n",
    "> from instructor\n",
    "> where id in (\n",
    ">     select distinct id\n",
    ">     from teaches\n",
    ">     where year = '2018'\n",
    ">     and semester = 'Spring'\n",
    "> );\n",
    "\n",
    "```"
   ]
  },
  {
   "cell_type": "markdown",
   "metadata": {},
   "source": [
    "Output:  \n",
    "  \n",
    "| name       |  \n",
    "| ---------- |  \n",
    "| Srinivasan |  \n",
    "| Wu\t     |  \n",
    "| Mozart\t |  \n",
    "| El Said\t |  \n",
    "| Katz  \t |  \n",
    "| Brandt     |  \n",
    "  "
   ]
  },
  {
   "cell_type": "markdown",
   "metadata": {},
   "source": [
    "(c) Find the name of all the students that have taken any course that “Shankar” (student with ID 12345) has taken."
   ]
  },
  {
   "cell_type": "markdown",
   "metadata": {},
   "source": [
    "> ```select name\n",
    "> from student\n",
    "> where id in (\n",
    ">     select distinct id\n",
    ">     from takes\n",
    ">     where course_id in (\n",
    ">         select course_id \n",
    ">         from takes \n",
    ">         where id = '12345'));\n",
    "```"
   ]
  },
  {
   "cell_type": "markdown",
   "metadata": {},
   "source": [
    "Output:  \n",
    "  \n",
    "| name       |  \n",
    "| ---------- |  \n",
    "| Zhang\t     |  \n",
    "| Shankar    |  \n",
    "| Levy\t     |  \n",
    "| Williams   |  \n",
    "| Brown\t     |  \n",
    "| Bourikas   |  \n",
    "  "
   ]
  },
  {
   "cell_type": "markdown",
   "metadata": {},
   "source": [
    "### 3. Foreign Key Constraints (5 pts)  \n",
    "What is the difference between the DDL statements in (a) and (b)? Demonstrate how each one behaves when deleting data and include an screenshot of the results in your answers.  "
   ]
  },
  {
   "cell_type": "markdown",
   "metadata": {},
   "source": [
    "(a)  \n",
    "\n",
    "```\n",
    "DROP TABLE IF EXISTS table_b;\n",
    "DROP TABLE IF EXISTS table_a;\n",
    "\n",
    "CREATE TABLE table_a (\n",
    "    col_a INTEGER NOT NULL,\n",
    "    col_b VARCHAR(10) UNIQUE\n",
    ");\n",
    "\n",
    "CREATE TABLE table_b (\n",
    "    col_c NUMERIC,\n",
    "    col_d VARCHAR(10) REFERENCES table_a(col_b)\n",
    ");\n",
    "```\n"
   ]
  },
  {
   "cell_type": "markdown",
   "metadata": {},
   "source": [
    "(b)  \n",
    "\n",
    "```\n",
    "DROP TABLE IF EXISTS table_b;\n",
    "DROP TABLE IF EXISTS table_a;\n",
    "\n",
    "CREATE TABLE table_a (\n",
    "    col_a INTEGER NOT NULL,\n",
    "    col_b VARCHAR(10) UNIQUE\n",
    ");\n",
    "\n",
    "CREATE TABLE table_b (\n",
    "    col_c NUMERIC,\n",
    "    col_d VARCHAR(10) REFERENCES table_a(col_b) ON DELETE CASCADE\n",
    ");\n",
    "```"
   ]
  },
  {
   "cell_type": "markdown",
   "metadata": {},
   "source": [
    "In case of (b), when we delete data from table_a, the data in table_b will be deleted as well. Yet, in case of (a), when we delete data from table_a, it will result in an error."
   ]
  },
  {
   "cell_type": "markdown",
   "metadata": {},
   "source": [
    "(a)  \n",
    "<img src=\"https://github.com/MovsisyanM/sandbox/blob/main/DBandDistributedSystems/hw2/Screenshot%20(2).png?raw=true\"></img>"
   ]
  },
  {
   "cell_type": "markdown",
   "metadata": {},
   "source": [
    "(b)  \n",
    "<img src=\"https://github.com/MovsisyanM/sandbox/blob/main/DBandDistributedSystems/hw2/Screenshot%20(3).png?raw=true\"></img>"
   ]
  },
  {
   "cell_type": "markdown",
   "metadata": {},
   "source": [
    "### 4. SQL DDL (5 pts)\n",
    "Given the following relational schema:  \n",
    "<img src=\"https://github.com/MovsisyanM/sandbox/blob/main/DBandDistributedSystems/hw2/schma.PNG?raw=true\"></img>"
   ]
  },
  {
   "cell_type": "markdown",
   "metadata": {},
   "source": [
    "(a) Write SQL statements that create tables to implement relational schema. Make sure that primary, foreign key, and unique constraints are implemented as necessary."
   ]
  },
  {
   "cell_type": "markdown",
   "metadata": {},
   "source": [
    "Add at least three different users and two phone numbers for each user. Write the following queries and include a screenshot of the results in your answers."
   ]
  },
  {
   "cell_type": "markdown",
   "metadata": {},
   "source": [
    "(b) Find the users that live in the same city."
   ]
  },
  {
   "cell_type": "markdown",
   "metadata": {},
   "source": [
    "(c) Find the users that live in the city of Yerevan."
   ]
  }
 ],
 "metadata": {
  "interpreter": {
   "hash": "b3ba2566441a7c06988d0923437866b63cedc61552a5af99d1f4fb67d367b25f"
  },
  "kernelspec": {
   "display_name": "R",
   "language": "python",
   "name": "python3"
  },
  "language_info": {
   "codemirror_mode": {
    "name": "ipython",
    "version": 3
   },
   "file_extension": ".py",
   "mimetype": "text/x-python",
   "name": "python",
   "nbconvert_exporter": "python",
   "pygments_lexer": "ipython3",
   "version": "3.8.8"
  },
  "orig_nbformat": 4
 },
 "nbformat": 4,
 "nbformat_minor": 2
}
