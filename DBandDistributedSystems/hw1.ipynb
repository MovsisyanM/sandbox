{
 "cells": [
  {
   "cell_type": "markdown",
   "metadata": {},
   "source": [
    "# Homework 1\n",
    "###### by [Movsisyan Mher](https://movsisyan.info/?redir=https://movsisyan.info?src=dbandds-hw1)\n",
    "---"
   ]
  },
  {
   "cell_type": "markdown",
   "metadata": {},
   "source": [
    "### 1. Relational schema design (5 pts)\n",
    "In the first session, we ran a survey and collected your responses. The file “Database-Welcome.xlsx” is uploaded to\n",
    "Moodle, in the current assignment.  \n",
    "<br>\n",
    "Use the data from the “Database-Welcome.xlsx” file to define relational schemas.  \n",
    "Define the schemas in the relational style, similar to the example used in class S = (ID, name, department).  \n",
    "For every attribute in the schema, specify its domain.  \n",
    "For each schema specify the primary key that you chose. Explain why it works as a primary key.  "
   ]
  },
  {
   "cell_type": "code",
   "execution_count": 1,
   "metadata": {},
   "outputs": [
    {
     "data": {
      "text/html": [
       "<div>\n",
       "<style scoped>\n",
       "    .dataframe tbody tr th:only-of-type {\n",
       "        vertical-align: middle;\n",
       "    }\n",
       "\n",
       "    .dataframe tbody tr th {\n",
       "        vertical-align: top;\n",
       "    }\n",
       "\n",
       "    .dataframe thead th {\n",
       "        text-align: right;\n",
       "    }\n",
       "</style>\n",
       "<table border=\"1\" class=\"dataframe\">\n",
       "  <thead>\n",
       "    <tr style=\"text-align: right;\">\n",
       "      <th></th>\n",
       "      <th>Date</th>\n",
       "      <th>Session</th>\n",
       "      <th>Voter</th>\n",
       "      <th>Welcome to DS 205!:</th>\n",
       "      <th>What are your interests out of studies?:</th>\n",
       "      <th>Which year of studies are you in?:</th>\n",
       "      <th>Which one describes your knowledge and experience with databases?:</th>\n",
       "      <th>Which programming languages do you know?:</th>\n",
       "      <th>What are your expectations from this course?: 1</th>\n",
       "      <th>Can you bring a laptop computer to the class?:</th>\n",
       "      <th>Thank you:</th>\n",
       "    </tr>\n",
       "  </thead>\n",
       "  <tbody>\n",
       "    <tr>\n",
       "      <th>0</th>\n",
       "      <td>2022-01-20</td>\n",
       "      <td>4</td>\n",
       "      <td>4</td>\n",
       "      <td>Heart</td>\n",
       "      <td>Basketball Drawing_portraits Coding</td>\n",
       "      <td>3rd (Junior)</td>\n",
       "      <td>Intermediate</td>\n",
       "      <td>Python Julia</td>\n",
       "      <td>Pass this course\\nIf possible learn some funda...</td>\n",
       "      <td>Yes</td>\n",
       "      <td>Heart</td>\n",
       "    </tr>\n",
       "    <tr>\n",
       "      <th>1</th>\n",
       "      <td>2022-01-20</td>\n",
       "      <td>4</td>\n",
       "      <td>5</td>\n",
       "      <td>NaN</td>\n",
       "      <td>NaN</td>\n",
       "      <td>2nd (Sophomore)</td>\n",
       "      <td>Advanced</td>\n",
       "      <td>Python T-Sql</td>\n",
       "      <td>Gain advanced knowledge of databases from A-Z</td>\n",
       "      <td>Yes</td>\n",
       "      <td>NaN</td>\n",
       "    </tr>\n",
       "    <tr>\n",
       "      <th>2</th>\n",
       "      <td>2022-01-20</td>\n",
       "      <td>4</td>\n",
       "      <td>6</td>\n",
       "      <td>Heart</td>\n",
       "      <td>Reading Piano Classical_music</td>\n",
       "      <td>2nd (Sophomore)</td>\n",
       "      <td>Beginner</td>\n",
       "      <td>Python R JS</td>\n",
       "      <td>NaN</td>\n",
       "      <td>Yes</td>\n",
       "      <td>Heart</td>\n",
       "    </tr>\n",
       "    <tr>\n",
       "      <th>3</th>\n",
       "      <td>2022-01-20</td>\n",
       "      <td>4</td>\n",
       "      <td>7</td>\n",
       "      <td>NaN</td>\n",
       "      <td>Playing_the_guitar Hiking</td>\n",
       "      <td>2nd (Sophomore)</td>\n",
       "      <td>Beginner</td>\n",
       "      <td>Python JS</td>\n",
       "      <td>NaN</td>\n",
       "      <td>Yes</td>\n",
       "      <td>NaN</td>\n",
       "    </tr>\n",
       "    <tr>\n",
       "      <th>4</th>\n",
       "      <td>2022-01-20</td>\n",
       "      <td>4</td>\n",
       "      <td>8</td>\n",
       "      <td>NaN</td>\n",
       "      <td>NaN</td>\n",
       "      <td>NaN</td>\n",
       "      <td>Beginner</td>\n",
       "      <td>Python CSharp</td>\n",
       "      <td>NaN</td>\n",
       "      <td>Yes</td>\n",
       "      <td>Heart</td>\n",
       "    </tr>\n",
       "  </tbody>\n",
       "</table>\n",
       "</div>"
      ],
      "text/plain": [
       "         Date  Session  Voter Welcome to DS 205!:  \\\n",
       "0  2022-01-20        4      4               Heart   \n",
       "1  2022-01-20        4      5                 NaN   \n",
       "2  2022-01-20        4      6               Heart   \n",
       "3  2022-01-20        4      7                 NaN   \n",
       "4  2022-01-20        4      8                 NaN   \n",
       "\n",
       "  What are your interests out of studies?: Which year of studies are you in?:  \\\n",
       "0      Basketball Drawing_portraits Coding                       3rd (Junior)   \n",
       "1                                      NaN                    2nd (Sophomore)   \n",
       "2            Reading Piano Classical_music                    2nd (Sophomore)   \n",
       "3                Playing_the_guitar Hiking                    2nd (Sophomore)   \n",
       "4                                      NaN                                NaN   \n",
       "\n",
       "  Which one describes your knowledge and experience with databases?:  \\\n",
       "0                                       Intermediate                   \n",
       "1                                           Advanced                   \n",
       "2                                           Beginner                   \n",
       "3                                           Beginner                   \n",
       "4                                           Beginner                   \n",
       "\n",
       "  Which programming languages do you know?:  \\\n",
       "0                              Python Julia   \n",
       "1                              Python T-Sql   \n",
       "2                               Python R JS   \n",
       "3                                 Python JS   \n",
       "4                             Python CSharp   \n",
       "\n",
       "     What are your expectations from this course?: 1  \\\n",
       "0  Pass this course\\nIf possible learn some funda...   \n",
       "1      Gain advanced knowledge of databases from A-Z   \n",
       "2                                                NaN   \n",
       "3                                                NaN   \n",
       "4                                                NaN   \n",
       "\n",
       "  Can you bring a laptop computer to the class?: Thank you:  \n",
       "0                                            Yes      Heart  \n",
       "1                                            Yes        NaN  \n",
       "2                                            Yes      Heart  \n",
       "3                                            Yes        NaN  \n",
       "4                                            Yes      Heart  "
      ]
     },
     "execution_count": 1,
     "metadata": {},
     "output_type": "execute_result"
    }
   ],
   "source": [
    "import pandas as pd\n",
    "import numpy as np\n",
    "\n",
    "# readin data\n",
    "df = pd.read_excel('data\\Database-Welcome.xlsx')\n",
    "\n",
    "df.head()"
   ]
  },
  {
   "cell_type": "markdown",
   "metadata": {},
   "source": [
    "Dropping unnecessary columns"
   ]
  },
  {
   "cell_type": "code",
   "execution_count": 2,
   "metadata": {},
   "outputs": [
    {
     "data": {
      "text/html": [
       "<div>\n",
       "<style scoped>\n",
       "    .dataframe tbody tr th:only-of-type {\n",
       "        vertical-align: middle;\n",
       "    }\n",
       "\n",
       "    .dataframe tbody tr th {\n",
       "        vertical-align: top;\n",
       "    }\n",
       "\n",
       "    .dataframe thead th {\n",
       "        text-align: right;\n",
       "    }\n",
       "</style>\n",
       "<table border=\"1\" class=\"dataframe\">\n",
       "  <thead>\n",
       "    <tr style=\"text-align: right;\">\n",
       "      <th></th>\n",
       "      <th>Voter</th>\n",
       "      <th>What are your interests out of studies?:</th>\n",
       "      <th>Which year of studies are you in?:</th>\n",
       "      <th>Which one describes your knowledge and experience with databases?:</th>\n",
       "      <th>Which programming languages do you know?:</th>\n",
       "      <th>What are your expectations from this course?: 1</th>\n",
       "      <th>Can you bring a laptop computer to the class?:</th>\n",
       "    </tr>\n",
       "  </thead>\n",
       "  <tbody>\n",
       "    <tr>\n",
       "      <th>0</th>\n",
       "      <td>4</td>\n",
       "      <td>Basketball Drawing_portraits Coding</td>\n",
       "      <td>3rd (Junior)</td>\n",
       "      <td>Intermediate</td>\n",
       "      <td>Python Julia</td>\n",
       "      <td>Pass this course\\nIf possible learn some funda...</td>\n",
       "      <td>Yes</td>\n",
       "    </tr>\n",
       "    <tr>\n",
       "      <th>1</th>\n",
       "      <td>5</td>\n",
       "      <td>NaN</td>\n",
       "      <td>2nd (Sophomore)</td>\n",
       "      <td>Advanced</td>\n",
       "      <td>Python T-Sql</td>\n",
       "      <td>Gain advanced knowledge of databases from A-Z</td>\n",
       "      <td>Yes</td>\n",
       "    </tr>\n",
       "    <tr>\n",
       "      <th>2</th>\n",
       "      <td>6</td>\n",
       "      <td>Reading Piano Classical_music</td>\n",
       "      <td>2nd (Sophomore)</td>\n",
       "      <td>Beginner</td>\n",
       "      <td>Python R JS</td>\n",
       "      <td>NaN</td>\n",
       "      <td>Yes</td>\n",
       "    </tr>\n",
       "    <tr>\n",
       "      <th>3</th>\n",
       "      <td>7</td>\n",
       "      <td>Playing_the_guitar Hiking</td>\n",
       "      <td>2nd (Sophomore)</td>\n",
       "      <td>Beginner</td>\n",
       "      <td>Python JS</td>\n",
       "      <td>NaN</td>\n",
       "      <td>Yes</td>\n",
       "    </tr>\n",
       "    <tr>\n",
       "      <th>4</th>\n",
       "      <td>8</td>\n",
       "      <td>NaN</td>\n",
       "      <td>NaN</td>\n",
       "      <td>Beginner</td>\n",
       "      <td>Python CSharp</td>\n",
       "      <td>NaN</td>\n",
       "      <td>Yes</td>\n",
       "    </tr>\n",
       "  </tbody>\n",
       "</table>\n",
       "</div>"
      ],
      "text/plain": [
       "   Voter What are your interests out of studies?:  \\\n",
       "0      4      Basketball Drawing_portraits Coding   \n",
       "1      5                                      NaN   \n",
       "2      6            Reading Piano Classical_music   \n",
       "3      7                Playing_the_guitar Hiking   \n",
       "4      8                                      NaN   \n",
       "\n",
       "  Which year of studies are you in?:  \\\n",
       "0                       3rd (Junior)   \n",
       "1                    2nd (Sophomore)   \n",
       "2                    2nd (Sophomore)   \n",
       "3                    2nd (Sophomore)   \n",
       "4                                NaN   \n",
       "\n",
       "  Which one describes your knowledge and experience with databases?:  \\\n",
       "0                                       Intermediate                   \n",
       "1                                           Advanced                   \n",
       "2                                           Beginner                   \n",
       "3                                           Beginner                   \n",
       "4                                           Beginner                   \n",
       "\n",
       "  Which programming languages do you know?:  \\\n",
       "0                              Python Julia   \n",
       "1                              Python T-Sql   \n",
       "2                               Python R JS   \n",
       "3                                 Python JS   \n",
       "4                             Python CSharp   \n",
       "\n",
       "     What are your expectations from this course?: 1  \\\n",
       "0  Pass this course\\nIf possible learn some funda...   \n",
       "1      Gain advanced knowledge of databases from A-Z   \n",
       "2                                                NaN   \n",
       "3                                                NaN   \n",
       "4                                                NaN   \n",
       "\n",
       "  Can you bring a laptop computer to the class?:  \n",
       "0                                            Yes  \n",
       "1                                            Yes  \n",
       "2                                            Yes  \n",
       "3                                            Yes  \n",
       "4                                            Yes  "
      ]
     },
     "execution_count": 2,
     "metadata": {},
     "output_type": "execute_result"
    }
   ],
   "source": [
    "df.drop([\"Date\", \"Session\", \"Welcome to DS 205!:\", \"Thank you:\"], axis=1, inplace=True)\n",
    "df.head()"
   ]
  },
  {
   "cell_type": "markdown",
   "metadata": {},
   "source": [
    "Defining a schema for the survey results:  \n",
    "<br>\n",
    "$$ Voters = (ID, yearOfStudy, priori, laptop) $$\n",
    "Voters.year_of_study is not timeless, but I'll ignore that. It is the \"Which year of studies are you in?:\" column.  \n",
    "Voters.ID is a primary key, it is the \"Voter\" column in the data because it is unique and an obvious choice.  \n",
    "Voters.priori is the level of knowledge and experience of the voter, is the \"Which one describes your knowledge and experience with databases?:\" column in the data.  \n",
    "Voters.laptop is the \"Can you bring a laptop computer to the class?:\" column in the data.\n",
    "<br>\n",
    "$$ Interests = (ID, voter, interest) $$  \n",
    "Interests.ID is a primary key, it is generated from the segmentation process.  \n",
    "Interests.voter is a foreign key that references Voters.ID\n",
    "<br>\n",
    "$$ LanguageKnowers = (ID, voter, language) $$\n",
    "LanguageKnowers.ID is a primary key, it is generated from the segmentation process.  \n",
    "LanguageKnowers.voter is a foreign key that references Voters.ID  \n",
    "LanguageKnowers.language is the individual cleaned-up language from the \"Which programming languages do you know?:\" column in the data"
   ]
  },
  {
   "cell_type": "markdown",
   "metadata": {},
   "source": [
    "### 2. Data clean up (4 pts)\n",
    "Think of a method to identify the data items that have the same meaning. For example, JS and JavaScript and Java script have the same semantics, however written in slightly different ways. Describe your approach of solving this issue in simple words.  \n",
    "Design a function that receives a token (e.g. JS) as the input and returns an output which is unique for all the variants.  \n",
    "<br>\n",
    "For example, given the function f(x) it should require that:  \n",
    "$$ f (“JavaScript”) = f (“JavaScript”) = f (“JS”) = “JS” $$\n",
    "and  \n",
    "$$ f (“py”) = f (“P ython”) = f (“python”) = “Python” $$\n",
    "and so on.  \n",
    "Implement the body of the function in your preferred language, or using pseudo-code."
   ]
  },
  {
   "cell_type": "code",
   "execution_count": 3,
   "metadata": {},
   "outputs": [
    {
     "data": {
      "text/plain": [
       "0                  Python Julia\n",
       "1                  Python T-Sql\n",
       "2                   Python R JS\n",
       "3                     Python JS\n",
       "4                 Python CSharp\n",
       "5     Python C_sharp Javascript\n",
       "6                      Python R\n",
       "7           Javascript Python R\n",
       "8                   python r js\n",
       "9                      python R\n",
       "10                       Python\n",
       "11                          NaN\n",
       "12                     Python R\n",
       "13                R Python Java\n",
       "14          Python R Javascript\n",
       "15            Python Javascript\n",
       "16                          NaN\n",
       "17                       python\n",
       "18                          NaN\n",
       "Name: Which programming languages do you know?:, dtype: object"
      ]
     },
     "execution_count": 3,
     "metadata": {},
     "output_type": "execute_result"
    }
   ],
   "source": [
    "# looking at the column in interest\n",
    "df.iloc[:, 4]"
   ]
  },
  {
   "cell_type": "code",
   "execution_count": 4,
   "metadata": {},
   "outputs": [
    {
     "data": {
      "text/plain": [
       "python        16\n",
       "r              8\n",
       "javascript     4\n",
       "js             3\n",
       "none           3\n",
       "julia          1\n",
       "t-sql          1\n",
       "csharp         1\n",
       "c_sharp        1\n",
       "java           1\n",
       "dtype: int64"
      ]
     },
     "execution_count": 4,
     "metadata": {},
     "output_type": "execute_result"
    }
   ],
   "source": [
    "# getting (almost) unique entries for the known languages\n",
    "p_lang_entries = [[*i.split(' ')] for i in df.iloc[:, 4].fillna('None')]\n",
    "p_langs = pd.Series([x for l in p_lang_entries for x in l]).str.lower()\n",
    "p_langs.value_counts()"
   ]
  },
  {
   "cell_type": "code",
   "execution_count": 5,
   "metadata": {},
   "outputs": [
    {
     "name": "stderr",
     "output_type": "stream",
     "text": [
      "C:\\Users\\zolobrine\\AppData\\Roaming\\Python\\Python310\\site-packages\\fuzzywuzzy\\fuzz.py:11: UserWarning: Using slow pure-python SequenceMatcher. Install python-Levenshtein to remove this warning\n",
      "  warnings.warn('Using slow pure-python SequenceMatcher. Install python-Levenshtein to remove this warning')\n"
     ]
    },
    {
     "data": {
      "text/html": [
       "<div>\n",
       "<style scoped>\n",
       "    .dataframe tbody tr th:only-of-type {\n",
       "        vertical-align: middle;\n",
       "    }\n",
       "\n",
       "    .dataframe tbody tr th {\n",
       "        vertical-align: top;\n",
       "    }\n",
       "\n",
       "    .dataframe thead th {\n",
       "        text-align: right;\n",
       "    }\n",
       "</style>\n",
       "<table border=\"1\" class=\"dataframe\">\n",
       "  <thead>\n",
       "    <tr style=\"text-align: right;\">\n",
       "      <th></th>\n",
       "      <th>python</th>\n",
       "      <th>julia</th>\n",
       "      <th>t-sql</th>\n",
       "      <th>r</th>\n",
       "      <th>js</th>\n",
       "      <th>csharp</th>\n",
       "      <th>c_sharp</th>\n",
       "      <th>javascript</th>\n",
       "      <th>none</th>\n",
       "      <th>java</th>\n",
       "    </tr>\n",
       "  </thead>\n",
       "  <tbody>\n",
       "    <tr>\n",
       "      <th>python</th>\n",
       "      <td>100</td>\n",
       "      <td>0</td>\n",
       "      <td>18</td>\n",
       "      <td>0</td>\n",
       "      <td>0</td>\n",
       "      <td>17</td>\n",
       "      <td>15</td>\n",
       "      <td>25</td>\n",
       "      <td>40</td>\n",
       "      <td>0</td>\n",
       "    </tr>\n",
       "    <tr>\n",
       "      <th>julia</th>\n",
       "      <td>0</td>\n",
       "      <td>100</td>\n",
       "      <td>20</td>\n",
       "      <td>0</td>\n",
       "      <td>29</td>\n",
       "      <td>18</td>\n",
       "      <td>17</td>\n",
       "      <td>27</td>\n",
       "      <td>0</td>\n",
       "      <td>44</td>\n",
       "    </tr>\n",
       "    <tr>\n",
       "      <th>t-sql</th>\n",
       "      <td>18</td>\n",
       "      <td>20</td>\n",
       "      <td>100</td>\n",
       "      <td>0</td>\n",
       "      <td>29</td>\n",
       "      <td>18</td>\n",
       "      <td>17</td>\n",
       "      <td>13</td>\n",
       "      <td>0</td>\n",
       "      <td>0</td>\n",
       "    </tr>\n",
       "    <tr>\n",
       "      <th>r</th>\n",
       "      <td>0</td>\n",
       "      <td>0</td>\n",
       "      <td>0</td>\n",
       "      <td>100</td>\n",
       "      <td>0</td>\n",
       "      <td>29</td>\n",
       "      <td>25</td>\n",
       "      <td>18</td>\n",
       "      <td>0</td>\n",
       "      <td>0</td>\n",
       "    </tr>\n",
       "    <tr>\n",
       "      <th>js</th>\n",
       "      <td>0</td>\n",
       "      <td>29</td>\n",
       "      <td>29</td>\n",
       "      <td>0</td>\n",
       "      <td>100</td>\n",
       "      <td>25</td>\n",
       "      <td>22</td>\n",
       "      <td>33</td>\n",
       "      <td>0</td>\n",
       "      <td>33</td>\n",
       "    </tr>\n",
       "    <tr>\n",
       "      <th>csharp</th>\n",
       "      <td>17</td>\n",
       "      <td>18</td>\n",
       "      <td>18</td>\n",
       "      <td>29</td>\n",
       "      <td>25</td>\n",
       "      <td>100</td>\n",
       "      <td>92</td>\n",
       "      <td>38</td>\n",
       "      <td>0</td>\n",
       "      <td>20</td>\n",
       "    </tr>\n",
       "    <tr>\n",
       "      <th>c_sharp</th>\n",
       "      <td>15</td>\n",
       "      <td>17</td>\n",
       "      <td>17</td>\n",
       "      <td>25</td>\n",
       "      <td>22</td>\n",
       "      <td>92</td>\n",
       "      <td>100</td>\n",
       "      <td>35</td>\n",
       "      <td>0</td>\n",
       "      <td>18</td>\n",
       "    </tr>\n",
       "    <tr>\n",
       "      <th>javascript</th>\n",
       "      <td>25</td>\n",
       "      <td>27</td>\n",
       "      <td>13</td>\n",
       "      <td>18</td>\n",
       "      <td>33</td>\n",
       "      <td>38</td>\n",
       "      <td>35</td>\n",
       "      <td>100</td>\n",
       "      <td>0</td>\n",
       "      <td>57</td>\n",
       "    </tr>\n",
       "    <tr>\n",
       "      <th>none</th>\n",
       "      <td>40</td>\n",
       "      <td>0</td>\n",
       "      <td>0</td>\n",
       "      <td>0</td>\n",
       "      <td>0</td>\n",
       "      <td>0</td>\n",
       "      <td>0</td>\n",
       "      <td>0</td>\n",
       "      <td>100</td>\n",
       "      <td>0</td>\n",
       "    </tr>\n",
       "    <tr>\n",
       "      <th>java</th>\n",
       "      <td>0</td>\n",
       "      <td>44</td>\n",
       "      <td>0</td>\n",
       "      <td>0</td>\n",
       "      <td>33</td>\n",
       "      <td>20</td>\n",
       "      <td>18</td>\n",
       "      <td>57</td>\n",
       "      <td>0</td>\n",
       "      <td>100</td>\n",
       "    </tr>\n",
       "  </tbody>\n",
       "</table>\n",
       "</div>"
      ],
      "text/plain": [
       "            python  julia  t-sql    r   js  csharp  c_sharp  javascript  none  \\\n",
       "python         100      0     18    0    0      17       15          25    40   \n",
       "julia            0    100     20    0   29      18       17          27     0   \n",
       "t-sql           18     20    100    0   29      18       17          13     0   \n",
       "r                0      0      0  100    0      29       25          18     0   \n",
       "js               0     29     29    0  100      25       22          33     0   \n",
       "csharp          17     18     18   29   25     100       92          38     0   \n",
       "c_sharp         15     17     17   25   22      92      100          35     0   \n",
       "javascript      25     27     13   18   33      38       35         100     0   \n",
       "none            40      0      0    0    0       0        0           0   100   \n",
       "java             0     44      0    0   33      20       18          57     0   \n",
       "\n",
       "            java  \n",
       "python         0  \n",
       "julia         44  \n",
       "t-sql          0  \n",
       "r              0  \n",
       "js            33  \n",
       "csharp        20  \n",
       "c_sharp       18  \n",
       "javascript    57  \n",
       "none           0  \n",
       "java         100  "
      ]
     },
     "execution_count": 5,
     "metadata": {},
     "output_type": "execute_result"
    }
   ],
   "source": [
    "from fuzzywuzzy import fuzz\n",
    "import warnings\n",
    "\n",
    "warnings.filterwarnings(\"ignore\")\n",
    "\n",
    "# creating a fuzz-ratio matrix of already known languages\n",
    "lang_fuzz = pd.DataFrame(columns = p_langs.unique(), index = p_langs.unique()).fillna(0)\n",
    "\n",
    "# filling the matrix with the fuzzy-ratio values\n",
    "for i, col in lang_fuzz.iteritems():\n",
    "    for j, row in col.iteritems():\n",
    "        lang_fuzz.loc[i, j] = fuzz.ratio(i, j)\n",
    "\n",
    "lang_fuzz"
   ]
  },
  {
   "cell_type": "markdown",
   "metadata": {},
   "source": [
    "Writing the function"
   ]
  },
  {
   "cell_type": "code",
   "execution_count": 6,
   "metadata": {},
   "outputs": [],
   "source": [
    "languages = [\n",
    "    \"python\", \"csharp\", \"julia\", \n",
    "    \"none\", \"java\", \"javascript\", \n",
    "    \"r\", \"scala\", \"matlab\", \"go\", \n",
    "    \"c\", \"c++\", \"ruby\", \"perl\", \"py\",\n",
    "    \"php\", \"swift\", \"haskell\", \"js\",\"lua\", \n",
    "    \"rust\", \"visual_basic\", \"sql\", # gonna treat t-sql, postgresql, mysql as the same\n",
    "    \"assembly\", \"ecmascript\", \"c#\"\n",
    "    ]\n",
    "\n",
    "def match_lang(x, threshold = 74, known = languages):\n",
    "    \"\"\"Matches a string to a given programming language. If it fails \n",
    "    to do so, it creates a new entry in the list of languages\"\"\"\n",
    "    \n",
    "    # making it lowercase\n",
    "    lower_x = x.lower()\n",
    "    # creating a dict that will store the fuzzy ratios\n",
    "    scores = {i:0 for i in known}\n",
    "    \n",
    "    # checking fuzzy ratio for each registered language\n",
    "    for lang in known:\n",
    "        scores[lang] = fuzz.ratio(lang, lower_x)\n",
    "    \n",
    "    # print(\"Best match:\", max(scores, key=scores.get), max(scores.values()))\n",
    "    \n",
    "    if max(scores.values()) < threshold:\n",
    "        print(\"Adding new language:\", x)\n",
    "        known.append(x)\n",
    "        # insert new language into the languages table\n",
    "        \n",
    "        return x\n",
    "    else:\n",
    "        # get best match\n",
    "        best_x = max(scores, key=scores.get)\n",
    "        \n",
    "        # check if it is a known short form\n",
    "        if best_x == \"js\" or best_x == \"ecmascript\":\n",
    "            return \"javascript\"\n",
    "        elif best_x == \"py\":\n",
    "            return \"python\"\n",
    "        elif best_x == \"c#\":\n",
    "            return \"csharp\"\n",
    "        \n",
    "        # return the best match\n",
    "        return best_x"
   ]
  },
  {
   "cell_type": "code",
   "execution_count": 7,
   "metadata": {},
   "outputs": [
    {
     "data": {
      "text/plain": [
       "'r'"
      ]
     },
     "execution_count": 7,
     "metadata": {},
     "output_type": "execute_result"
    }
   ],
   "source": [
    "match_lang(\"r\")"
   ]
  },
  {
   "cell_type": "code",
   "execution_count": 8,
   "metadata": {},
   "outputs": [
    {
     "data": {
      "text/plain": [
       "'javascript'"
      ]
     },
     "execution_count": 8,
     "metadata": {},
     "output_type": "execute_result"
    }
   ],
   "source": [
    "match_lang(\"js\")"
   ]
  },
  {
   "cell_type": "code",
   "execution_count": 9,
   "metadata": {},
   "outputs": [
    {
     "data": {
      "text/plain": [
       "'javascript'"
      ]
     },
     "execution_count": 9,
     "metadata": {},
     "output_type": "execute_result"
    }
   ],
   "source": [
    "match_lang(\"jaAVASCRIPT\")"
   ]
  },
  {
   "cell_type": "code",
   "execution_count": 10,
   "metadata": {},
   "outputs": [
    {
     "data": {
      "text/plain": [
       "'csharp'"
      ]
     },
     "execution_count": 10,
     "metadata": {},
     "output_type": "execute_result"
    }
   ],
   "source": [
    "match_lang(\"C#\")"
   ]
  },
  {
   "cell_type": "code",
   "execution_count": 11,
   "metadata": {},
   "outputs": [
    {
     "data": {
      "text/plain": [
       "'python'"
      ]
     },
     "execution_count": 11,
     "metadata": {},
     "output_type": "execute_result"
    }
   ],
   "source": [
    "match_lang(\"py\")"
   ]
  },
  {
   "cell_type": "markdown",
   "metadata": {},
   "source": [
    "### 3. Data population (2 pts)\n",
    "Visualize the schema instances as tables and populate the data from the Excel file into the tables as rows, so that\n",
    "they obey the relational schema format"
   ]
  },
  {
   "cell_type": "code",
   "execution_count": 25,
   "metadata": {},
   "outputs": [],
   "source": [
    "languages = []\n",
    "\n",
    "df.fillna('None', inplace=True)\n",
    "lang_id = 0\n",
    "\n",
    "for voter in df.iterrows():\n",
    "    for lang in voter[1][4].split(\" \"):\n",
    "        match = match_lang(lang)\n",
    "        if match != \"none\":\n",
    "            languages.append((lang_id, voter[1][0], match))\n",
    "            lang_id += 1"
   ]
  },
  {
   "cell_type": "code",
   "execution_count": 26,
   "metadata": {},
   "outputs": [
    {
     "data": {
      "text/plain": [
       "[(0, 4, 'python'),\n",
       " (1, 4, 'julia'),\n",
       " (2, 5, 'python'),\n",
       " (3, 5, 'sql'),\n",
       " (4, 6, 'python'),\n",
       " (5, 6, 'r'),\n",
       " (6, 6, 'javascript'),\n",
       " (7, 7, 'python'),\n",
       " (8, 7, 'javascript'),\n",
       " (9, 8, 'python'),\n",
       " (10, 8, 'csharp'),\n",
       " (11, 9, 'python'),\n",
       " (12, 9, 'csharp'),\n",
       " (13, 9, 'javascript'),\n",
       " (14, 10, 'python'),\n",
       " (15, 10, 'r'),\n",
       " (16, 11, 'javascript'),\n",
       " (17, 11, 'python'),\n",
       " (18, 11, 'r'),\n",
       " (19, 12, 'python'),\n",
       " (20, 12, 'r'),\n",
       " (21, 12, 'javascript'),\n",
       " (22, 13, 'python'),\n",
       " (23, 13, 'r'),\n",
       " (24, 14, 'python'),\n",
       " (25, 16, 'python'),\n",
       " (26, 16, 'r'),\n",
       " (27, 17, 'r'),\n",
       " (28, 17, 'python'),\n",
       " (29, 17, 'java'),\n",
       " (30, 18, 'python'),\n",
       " (31, 18, 'r'),\n",
       " (32, 18, 'javascript'),\n",
       " (33, 19, 'python'),\n",
       " (34, 19, 'javascript'),\n",
       " (35, 21, 'python')]"
      ]
     },
     "execution_count": 26,
     "metadata": {},
     "output_type": "execute_result"
    }
   ],
   "source": [
    "languages"
   ]
  },
  {
   "cell_type": "markdown",
   "metadata": {},
   "source": []
  }
 ],
 "metadata": {
  "interpreter": {
   "hash": "b89b5cfaba6639976dc87ff2fec6d58faec662063367e2c229c520fe71072417"
  },
  "kernelspec": {
   "display_name": "Python 3.10.1 64-bit",
   "language": "python",
   "name": "python3"
  },
  "language_info": {
   "codemirror_mode": {
    "name": "ipython",
    "version": 3
   },
   "file_extension": ".py",
   "mimetype": "text/x-python",
   "name": "python",
   "nbconvert_exporter": "python",
   "pygments_lexer": "ipython3",
   "version": "3.10.1"
  },
  "orig_nbformat": 4
 },
 "nbformat": 4,
 "nbformat_minor": 2
}
