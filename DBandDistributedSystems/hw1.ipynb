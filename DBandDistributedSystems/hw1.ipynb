{
 "cells": [
  {
   "cell_type": "code",
   "execution_count": 54,
   "metadata": {},
   "outputs": [
    {
     "data": {
      "text/plain": [
       "0                  Python Julia\n",
       "1                  Python T-Sql\n",
       "2                   Python R JS\n",
       "3                     Python JS\n",
       "4                 Python CSharp\n",
       "5     Python C_sharp Javascript\n",
       "6                      Python R\n",
       "7           Javascript Python R\n",
       "8                   python r js\n",
       "9                      python R\n",
       "10                       Python\n",
       "11                          NaN\n",
       "12                     Python R\n",
       "13                R Python Java\n",
       "14          Python R Javascript\n",
       "15            Python Javascript\n",
       "16                          NaN\n",
       "17                       python\n",
       "18                          NaN\n",
       "Name: Which programming languages do you know?:, dtype: object"
      ]
     },
     "execution_count": 54,
     "metadata": {},
     "output_type": "execute_result"
    }
   ],
   "source": [
    "import pandas as pd\n",
    "import numpy as np\n",
    "\n",
    "# readin data\n",
    "df = pd.read_excel('data\\Database-Welcome.xlsx')\n",
    "# looking at the column in interest\n",
    "df.iloc[:, 7]"
   ]
  },
  {
   "cell_type": "code",
   "execution_count": 55,
   "metadata": {},
   "outputs": [
    {
     "data": {
      "text/plain": [
       "python        16\n",
       "r              8\n",
       "javascript     4\n",
       "js             3\n",
       "none           3\n",
       "julia          1\n",
       "t-sql          1\n",
       "csharp         1\n",
       "c_sharp        1\n",
       "java           1\n",
       "dtype: int64"
      ]
     },
     "execution_count": 55,
     "metadata": {},
     "output_type": "execute_result"
    }
   ],
   "source": [
    "# getting (almost) unique entries for the known languages\n",
    "p_lang_entries = [[*i.split(' ')] for i in df.iloc[:, 7].fillna('None')]\n",
    "p_langs = pd.Series([x for l in p_lang_entries for x in l]).str.lower()\n",
    "p_langs.value_counts()"
   ]
  },
  {
   "cell_type": "code",
   "execution_count": 38,
   "metadata": {},
   "outputs": [],
   "source": [
    "from fuzzywuzzy import fuzz\n",
    "\n",
    "# creating a fuzz-ratio matrix of already known languages\n",
    "lang_fuzz = pd.DataFrame(columns = p_langs.unique(), index = p_langs.unique()).fillna(0)\n",
    "\n",
    "# filling the matrix with the fuzzy-ratio values\n",
    "for i, col in lang_fuzz.iteritems():\n",
    "    for j, row in col.iteritems():\n",
    "        lang_fuzz.loc[i, j] = fuzz.ratio(i, j)\n",
    "\n",
    "lang_fuzz"
   ]
  },
  {
   "cell_type": "markdown",
   "metadata": {},
   "source": [
    "Writing the function"
   ]
  },
  {
   "cell_type": "code",
   "execution_count": 53,
   "metadata": {},
   "outputs": [],
   "source": [
    "languages = [\n",
    "    \"python\", \"csharp\", \"julia\", \n",
    "    \"none\", \"java\", \"javascript\", \n",
    "    \"r\", \"scala\", \"matlab\", \"go\", \n",
    "    \"c\", \"c++\", \"ruby\", \"perl\", \"py\",\n",
    "    \"php\", \"swift\", \"haskell\", \"js\",\n",
    "    \"clojure\", \"erlang\", \"lua\", \n",
    "    \"rust\", \"d\", \"dart\", \"ocaml\", \n",
    "    \"prolog\", \"f#\", \"fortran\", \n",
    "    \"vb.net\", \"visual_basic\", \"sql\", # gonna treat t-sql, postgresql, mysql as the same\n",
    "    \"assembly\", \"erl\", \"elixir\", \"elm\"\n",
    "    ]\n",
    "\n",
    "def match_lang(x, threshold = 74):\n",
    "    \"\"\"Matches a string to a given programming language. If it fails \n",
    "    to do so, it creates a new entry in the list of languages\"\"\"\n",
    "    \n",
    "    # making it lowercase\n",
    "    lower_x = x.lower()\n",
    "    # creating a dict that will store the fuzzy ratios\n",
    "    scores = {i:0 for i in languages}\n",
    "    \n",
    "    # checking fuzzy ratio for each registered language\n",
    "    for lang in languages:\n",
    "        scores[lang] = fuzz.ratio(lang, lower_x)\n",
    "    \n",
    "    # print(\"Best match:\", max(scores, key=scores.get), max(scores.values()))\n",
    "    \n",
    "    if max(scores.values()) < threshold:\n",
    "        print(\"Adding new language:\", x)\n",
    "        languages.append(x)\n",
    "        \n",
    "        return x\n",
    "    else:\n",
    "        # get best match\n",
    "        best_x = max(scores, key=scores.get)\n",
    "        \n",
    "        # check if it is a known short form\n",
    "        if best_x == \"js\":\n",
    "            return \"javascript\"\n",
    "        elif best_x == \"py\":\n",
    "            return \"python\"\n",
    "        \n",
    "        # return the best match\n",
    "        return best_x"
   ]
  },
  {
   "cell_type": "code",
   "execution_count": 52,
   "metadata": {},
   "outputs": [
    {
     "name": "stdout",
     "output_type": "stream",
     "text": [
      "r 100\n"
     ]
    }
   ],
   "source": [
    "match_lang(\"r\")"
   ]
  },
  {
   "cell_type": "code",
   "execution_count": null,
   "metadata": {},
   "outputs": [],
   "source": []
  }
 ],
 "metadata": {
  "interpreter": {
   "hash": "b89b5cfaba6639976dc87ff2fec6d58faec662063367e2c229c520fe71072417"
  },
  "kernelspec": {
   "display_name": "Python 3.10.1 64-bit",
   "language": "python",
   "name": "python3"
  },
  "language_info": {
   "codemirror_mode": {
    "name": "ipython",
    "version": 3
   },
   "file_extension": ".py",
   "mimetype": "text/x-python",
   "name": "python",
   "nbconvert_exporter": "python",
   "pygments_lexer": "ipython3",
   "version": "3.10.1"
  },
  "orig_nbformat": 4
 },
 "nbformat": 4,
 "nbformat_minor": 2
}
