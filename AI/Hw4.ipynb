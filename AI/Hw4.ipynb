{
 "cells": [
  {
   "cell_type": "markdown",
   "metadata": {},
   "source": [
    "# Homework 3\n",
    "###### by Mher Movsisyan\n",
    "---\n",
    "\n",
    "### Problem 1 (35 points)  \n",
    "Consider trials 1, 2, 4, 6 and 8 of the “Ladies or Tigers?” problems from The *Lady Or The Tiger* logical puzzles book by Raymond Smullyan (see attached inside the moodle assignment). Let us represent the existence of a Lady behind door 1 by literal L<sub>1</sub> and the existence of a Lady behind door 2 by literal L<sub>2</sub>.  \n",
    "\n",
    "(a) Based on the rules described by the King, propositionalise each trial using these two literals and the regular connectives (i.e. construct the KB for the problem).  \n",
    "\n",
    "Answer:  \n",
    "- Puzzle 1:  \n",
    "Environment rule: xor  \n",
    "$$ Door_1: L_1 \\wedge \\neg L_2 $$  \n",
    "$$ Door_2: (L_1 \\vee L_2)  \\wedge (\\neg L_1 \\vee \\neg L_2) $$  \n",
    "$$ KB: (L_1 \\wedge \\neg L_2) \\vee ((L_1 \\vee L_2)  \\wedge (\\neg L_1 \\vee \\neg L_2)) $$  \n",
    "$$ \\neg (L_1 \\wedge \\neg L_2) \\vee \\neg ((L_1 \\vee L_2)  \\wedge (\\neg L_1 \\vee \\neg L_2)) $$  "
   ]
  },
  {
   "cell_type": "markdown",
   "metadata": {},
   "source": [
    "- Puzzle 2:  \n",
    "Environment rule: negated xor  \n",
    "$$ Door_1: L_1 \\vee L_2 $$\n",
    "$$ Door_2: \\neg L_1 $$\n",
    "$$ KB: \\neg(((L_1 \\vee L_2) \\vee (\\neg L_1)) \\wedge (\\neg (L_1 \\vee L_2) \\vee \\neg (\\neg L_1))) $$  "
   ]
  },
  {
   "cell_type": "markdown",
   "metadata": {},
   "source": [
    "- Puzzle 4:  \n",
    "$$ \\text{Environment rule}: (\\neg L_1 \\vee Door_1) \\wedge (\\neg Door_1 \\vee L_1) \\wedge \\\\(\\neg L_2 \\vee \\neg Door_2) \\wedge (\\neg \\neg Door_2 \\vee L_2) $$  \n",
    "$$ Door_1: L_1 \\wedge L_2 $$  \n",
    "$$ Door_2: L_1 \\wedge L_2 $$  \n",
    "$$ KB: (\\neg L_1 \\vee (L_1 \\wedge L_2)) \\wedge (\\neg (L_1 \\wedge L_2) \\vee L_1) \\wedge \\\\(\\neg L_2 \\vee \\neg (L_1 \\wedge L_2)) \\wedge (\\neg \\neg (L_1 \\wedge L_2) \\vee L_2) $$  "
   ]
  },
  {
   "cell_type": "markdown",
   "metadata": {},
   "source": [
    "- Puzzle 6:  \n",
    "$$ \\text{Environment rule}: (\\neg L_1 \\vee Door_1) \\wedge (\\neg Door_1 \\vee L_1) \\wedge \\\\(\\neg L_2 \\vee \\neg Door_2) \\wedge (\\neg \\neg Door_2 \\vee L_2) $$  \n",
    "$$ Door_1: (L_1 \\wedge L_2) \\vee (\\neg L_1 \\wedge \\neg L_2) $$  \n",
    "$$ Door_2: L_1 $$  \n",
    "$$ KB: (\\neg L_1 \\vee ((L_1 \\wedge L_2) \\vee (\\neg L_1 \\wedge \\neg L_2))) \\wedge \\\\ (\\neg ((L_1 \\wedge L_2) \\vee (\\neg L_1 \\wedge \\neg L_2)) \\vee L_1) \\wedge \\\\(\\neg L_2 \\vee \\neg L_1) \\wedge \\\\(\\neg \\neg L_1 \\vee L_2) $$  "
   ]
  },
  {
   "cell_type": "markdown",
   "metadata": {},
   "source": [
    "- Puzzle 8:  \n",
    "$$ \\text{Environment rule}: (\\neg L_1 \\vee Door_1) \\wedge (\\neg Door_1 \\vee L_1) \\wedge \\\\(\\neg L_2 \\vee \\neg Door_2) \\wedge (\\neg \\neg Door_2 \\vee L_2) $$  \n",
    "  \n",
    "If $ S_1 $ is on door 1:\n",
    "$$ D_1: \\neg L_1 $$  \n",
    "$$ D_2: \\neg L_1 \\wedge \\neg L_2 $$  \n",
    "$$ \\text{KB}: (\\neg L_1 \\vee (\\neg L_1)) \\wedge \\\\\n",
    "    (\\neg (\\neg L_1) \\vee L_1) \\wedge \\\\\n",
    "    (\\neg L_2 \\vee \\neg (\\neg L_1 \\wedge \\neg L_2)) \\wedge \\\\\n",
    "    (\\neg \\neg (\\neg L_1 \\wedge \\neg L_2) \\vee L_2) $$\n",
    "\n",
    "If $ S_1 $ is on door 2:\n",
    "\n",
    "$$ D_2: \\neg L_1 \\wedge \\neg L_2 $$  \n",
    "$$ D_1: \\neg L_2 $$  \n",
    "$$ \\text{KB}: (\\neg L_1 \\vee (\\neg L_1 \\wedge \\neg L_2)) \\wedge \\\\\n",
    "    (\\neg (\\neg L_1 \\wedge \\neg L_2) \\vee L_1) \\wedge \\\\\n",
    "    (\\neg L_2 \\vee \\neg (\\neg L_2)) \\wedge \\\\\n",
    "    (\\neg \\neg (\\neg L_2) \\vee L_2) $$\n"
   ]
  },
  {
   "cell_type": "markdown",
   "metadata": {},
   "source": [
    "(b) Using truth tables find out the locations of ladies and/or tigers for each trial. The tables must have columns for both propositional symbols, all sentences in the knowledge base, and the conjunction of these sentences (the KB itself).  \n",
    "\n",
    "Answer:  \n",
    "- Puzzle 1:  \n",
    "\n",
    "not doing all of this by hand\n",
    "$$ P_1 =  L_1 \\wedge \\neg L_2 $$   \n",
    "$$ P_2 =  (L_1 \\vee L_2)  \\wedge (\\neg L_1 \\vee \\neg L_2) $$   "
   ]
  },
  {
   "cell_type": "code",
   "execution_count": 2,
   "metadata": {},
   "outputs": [
    {
     "name": "stdout",
     "output_type": "stream",
     "text": [
      "|  L1  |  L2  |  P1  |  P2  |  KB  |\n",
      "|   1  |   1  |   0  |   1  |   0  |\n",
      "|   1  |   0  |   1  |   0  |   0  |\n",
      "|   0  |   1  |   1  |   1  |   1  |\n",
      "|   0  |   0  |   0  |   1  |   0  |\n"
     ]
    }
   ],
   "source": [
    "def p1(l1, l2):\n",
    "    return l1 and (not l2)\n",
    "\n",
    "def p2(l1, l2):\n",
    "    return (l1 or l2) and ((not l1) or (not l2))\n",
    "\n",
    "def sentance1(l1, l2):\n",
    "    return p1(l1, l2) or p2(l1, l2)\n",
    "    \n",
    "def sentance2(l1, l2):\n",
    "    return (not p1(l1, l2)) or (not p2(l1, l2))\n",
    "\n",
    "def kb(l1, l2, sentances):\n",
    "    return all([sentance(l1, l2) for sentance in sentances])\n",
    "\n",
    "def display_table(sentances):\n",
    "    print(f\"|  L1  |  L2  {''.join([f'|  P{i+1}  ' for i in range(len(sentances))])}|  KB  |\")\n",
    "    for l1 in [True, False]:\n",
    "        for l2 in [True, False]:\n",
    "            print(f\"|  {l1:2}  |  {l2:2}  {''.join([f'|  {p(l1, l2):2}  ' for p in sentances])}|  {kb(l1, l2, sentances):2}  |\")\n",
    "            \n",
    "display_table([sentance1, sentance2])"
   ]
  },
  {
   "cell_type": "markdown",
   "metadata": {},
   "source": [
    "- Puzzle 2  \n",
    "$$ P_1: \\neg(((L_1 \\vee L_2) \\vee (\\neg L_1)) \\wedge (\\neg (L_1 \\vee L_2) \\vee \\neg (\\neg L_1))) $$"
   ]
  },
  {
   "cell_type": "code",
   "execution_count": 3,
   "metadata": {},
   "outputs": [
    {
     "name": "stdout",
     "output_type": "stream",
     "text": [
      "|  L1  |  L2  |  P1  |  KB  |\n",
      "|   1  |   1  |   0  |   0  |\n",
      "|   1  |   0  |   0  |   0  |\n",
      "|   0  |   1  |   1  |   1  |\n",
      "|   0  |   0  |   0  |   0  |\n"
     ]
    }
   ],
   "source": [
    "def door1(l1, l2):\n",
    "    return l1 or l2\n",
    "\n",
    "def door2(l1, l2):\n",
    "    return not l1\n",
    "\n",
    "def xor(a, b):\n",
    "    return (a or b) and (not a or not b)\n",
    "\n",
    "def sentance(l1, l2):\n",
    "    return not xor(door1(l1, l2), door2(l1, l2))\n",
    "\n",
    "display_table([sentance])"
   ]
  },
  {
   "cell_type": "markdown",
   "metadata": {},
   "source": [
    "- Puzzle 4  \n",
    "$$ P_1: \\neg L_1 \\vee (L_1 \\wedge L_2) $$  \n",
    "$$ P_2: \\neg (L_1 \\wedge L_2) \\vee L_1 $$\n",
    "$$ P_3: \\neg L_2 \\vee \\neg (L_1 \\wedge L_2) $$\n",
    "$$ P_4: (L_1 \\wedge L_2) \\vee L_2 $$\n"
   ]
  },
  {
   "cell_type": "code",
   "execution_count": 4,
   "metadata": {},
   "outputs": [
    {
     "name": "stdout",
     "output_type": "stream",
     "text": [
      "|  L1  |  L2  |  P1  |  P2  |  P3  |  P4  |  KB  |\n",
      "|   1  |   1  |   1  |   1  |   0  |   1  |   0  |\n",
      "|   1  |   0  |   0  |   1  |   1  |   0  |   0  |\n",
      "|   0  |   1  |   1  |   1  |   1  |   1  |   1  |\n",
      "|   0  |   0  |   1  |   1  |   1  |   0  |   0  |\n"
     ]
    }
   ],
   "source": [
    "def door1(l1, l2):\n",
    "    return l1 and l2\n",
    "\n",
    "def door2(l1, l2):\n",
    "    return l1 and l2\n",
    "\n",
    "def sentance1(l1, l2):\n",
    "    return ((not l1) or door1(l1, l2))\n",
    "\n",
    "def sentance2(l1, l2):\n",
    "    return (not door1(l1, l2)) or l1\n",
    "\n",
    "def sentance3(l1, l2):\n",
    "    return (not l2) or (not door2(l1, l2))\n",
    "\n",
    "def sentance4(l1, l2):\n",
    "    return l2 or door2(l1, l2)\n",
    "\n",
    "display_table([sentance1, sentance2, sentance3, sentance4])"
   ]
  },
  {
   "cell_type": "markdown",
   "metadata": {},
   "source": [
    "- Puzzle 6  \n",
    "$$ P_1: \\neg L_1 \\vee ((L_1 \\wedge L_2) \\vee (\\neg L_1 \\wedge \\neg L_2)) $$  \n",
    "$$ P_2: \\neg ((L_1 \\wedge L_2) \\vee (\\neg L_1 \\wedge \\neg L_2)) \\vee L_1 $$  \n",
    "$$ P_3: \\neg L_2 \\vee \\neg L_1 $$  \n",
    "$$ P_4: L_1 \\vee L_2 $$  \n"
   ]
  },
  {
   "cell_type": "code",
   "execution_count": 5,
   "metadata": {},
   "outputs": [
    {
     "name": "stdout",
     "output_type": "stream",
     "text": [
      "|  L1  |  L2  |  P1  |  P2  |  P3  |  P4  |  KB  |\n",
      "|   1  |   1  |   1  |   1  |   0  |   1  |   0  |\n",
      "|   1  |   0  |   0  |   1  |   1  |   1  |   0  |\n",
      "|   0  |   1  |   1  |   1  |   1  |   1  |   1  |\n",
      "|   0  |   0  |   1  |   0  |   1  |   0  |   0  |\n"
     ]
    }
   ],
   "source": [
    "def door1(l1, l2):\n",
    "    return (l1 and l2) or ((not l1) and (not l2))\n",
    "\n",
    "def door2(l1, l2):\n",
    "    return l1\n",
    "\n",
    "def sentance1(l1, l2):\n",
    "    return ((not l1) or door1(l1, l2))\n",
    "\n",
    "def sentance2(l1, l2):\n",
    "    return (not door1(l1, l2)) or l1\n",
    "\n",
    "def sentance3(l1, l2):\n",
    "    return (not l2) or (not door2(l1, l2))\n",
    "\n",
    "def sentance4(l1, l2):\n",
    "    return l2 or door2(l1, l2)\n",
    "\n",
    "\n",
    "display_table([sentance1, sentance2, sentance3, sentance4])"
   ]
  },
  {
   "cell_type": "markdown",
   "metadata": {},
   "source": [
    "- Puzzle 8  \n",
    "$$ P_1: \\neg L_1 \\vee \\neg L_1 $$  \n",
    "$$ P_2: L_1 \\vee L_1 $$  \n",
    "$$ P_3: \\neg L_2 \\vee \\neg (\\neg L_1 \\wedge \\neg L_2) $$  \n",
    "$$ P_4: (\\neg \\neg (\\neg L_1 \\wedge \\neg L_2) \\vee L_2) \\vee \\\\\\bigg((\\neg L_1 \\vee (\\neg L_1 \\wedge \\neg L_2)) \\wedge (\\neg (\\neg L_1 \\wedge \\neg L_2) \\vee \\\\ L_1) \\wedge (\\neg L_2 \\vee \\neg (\\neg L_1)) \\wedge \\\\((\\neg L_1) \\vee L_2)\\bigg) $$  \n"
   ]
  },
  {
   "cell_type": "code",
   "execution_count": 6,
   "metadata": {},
   "outputs": [
    {
     "name": "stdout",
     "output_type": "stream",
     "text": [
      "|  L1  |  L2  |  P1  |  P2  |  P3  |  P4  |  KB  |\n",
      "|   1  |   1  |   0  |   1  |   1  |   1  |   0  |\n",
      "|   1  |   0  |   0  |   1  |   1  |   1  |   0  |\n",
      "|   0  |   1  |   1  |   0  |   0  |   1  |   0  |\n",
      "|   0  |   0  |   1  |   0  |   1  |   1  |   0  |\n"
     ]
    }
   ],
   "source": [
    "# region S1 belongs to Door 1\n",
    "\n",
    "def door11(l1, l2):\n",
    "    return not l1\n",
    "\n",
    "def door12(l1, l2):\n",
    "    return not l1 or not l2\n",
    "\n",
    "def sentance11(l1, l2):\n",
    "    return ((not l1) or door11(l1, l2))\n",
    "\n",
    "def sentance12(l1, l2):\n",
    "    return (not door11(l1, l2)) or l1\n",
    "\n",
    "def sentance13(l1, l2):\n",
    "    return (not l2) or (not door12(l1, l2))\n",
    "\n",
    "def sentance14(l1, l2):\n",
    "    return l2 or door12(l1, l2)\n",
    "\n",
    "# endregion S1 belongs to Door 1\n",
    "\n",
    "# region S1 belongs to Door 2\n",
    "\n",
    "def door21(l1, l2):\n",
    "    return not l1 or not l2\n",
    "\n",
    "def door22(l1, l2):\n",
    "    return not l2\n",
    "\n",
    "\n",
    "def sentance21(l1, l2):\n",
    "    return ((not l1) or door21(l1, l2))\n",
    "\n",
    "def sentance22(l1, l2):\n",
    "    return (not door21(l1, l2)) or l1\n",
    "\n",
    "def sentance23(l1, l2):\n",
    "    return (not l2) or (not door22(l1, l2))\n",
    "\n",
    "def sentance24(l1, l2):\n",
    "    return l2 or door22(l1, l2)\n",
    "\n",
    "# endregion S1 belongs to Door 2\n",
    "\n",
    "display_table([sentance11, sentance12, sentance13, sentance14])"
   ]
  },
  {
   "cell_type": "code",
   "execution_count": 7,
   "metadata": {},
   "outputs": [
    {
     "name": "stdout",
     "output_type": "stream",
     "text": [
      "|  L1  |  L2  |  P1  |  P2  |  P3  |  P4  |  KB  |\n",
      "|   1  |   1  |   0  |   1  |   1  |   1  |   0  |\n",
      "|   1  |   0  |   1  |   1  |   1  |   1  |   1  |\n",
      "|   0  |   1  |   1  |   0  |   1  |   1  |   0  |\n",
      "|   0  |   0  |   1  |   0  |   1  |   1  |   0  |\n"
     ]
    }
   ],
   "source": [
    "display_table([sentance21, sentance22, sentance23, sentance24])"
   ]
  },
  {
   "cell_type": "markdown",
   "metadata": {},
   "source": [
    "### Problem 2 (15 points)  \n",
    "Assume you have a CNF with m different propositional symbols.  \n",
    "(a) How many two-member clauses can be constructed given the restriction that no two clauses can be logically equivalent?"
   ]
  },
  {
   "cell_type": "markdown",
   "metadata": {},
   "source": [
    "Answer:  \n",
    "For the first symbol, it can pair up with itself and every other symbol including their negation (`2m` pairs). For the second symbol, it can pair with `(m - 1) * 2` symbols, and so on untill the last symbol can only pair with itself (`1` pair). Thus the total sums to `2 * !m - m` two-member clauses possesing different logical meaning."
   ]
  },
  {
   "cell_type": "markdown",
   "metadata": {},
   "source": [
    "(b) Prove that when given a CNF that contains only two-member clauses the runtime of propositional resolution algorithm is a polynomial in `m`."
   ]
  },
  {
   "cell_type": "markdown",
   "metadata": {},
   "source": [
    "Answer:  \n",
    "Let's assume that the runtime of propositional resolution algo is polynomial in `m`. The `PL-Resolution` algorithm we covered in class has one loop that iterates over all the `!m` two-member clauses. If we assume the worst case, then for each pair of symbols there will not be an empty clause untill the very last clause, (we ignore the fact that we add even more clauses as we go since it'll make for even more iters) and the algo would iterate over at least `2 * !m - m` times before terminating. This is a contradiction to the first statement, therefore it is not polinomial in `m`."
   ]
  },
  {
   "cell_type": "markdown",
   "metadata": {},
   "source": [
    "(c) Assume that we are now dealing with CNFs where each clause is of size > 2 (all clauses are\n",
    "still logically non-equivalent). Will the runtime of propositional resolution algorithm still be\n",
    "polynomial in m?  "
   ]
  },
  {
   "cell_type": "markdown",
   "metadata": {},
   "source": [
    "Answer:  \n",
    "But it's not polynomial even in =2 clause size... "
   ]
  },
  {
   "cell_type": "markdown",
   "metadata": {},
   "source": [
    "### Problem 3 (35 points)  \n",
    "Consider the following slightly modified version of a logic puzzle created by Lewis Carroll:  \n",
    "```\n",
    "No hoofed mammals, except giraffes, are 20 feet high.\n",
    "There are no hoofed mammals here that belong to anyone but me.\n",
    "All giraffes like San Diego.\n",
    "I have no hoofed mammals less than 20 feet high.\n",
    "Melman is a hoofed mammal that is here.\n",
    "```  \n",
    "\n",
    "(a) Translate the given KB into first-order definite clauses. Use predicates `Hoofed(x)`, `Giraffe(x)`,\n",
    "`Tall(x)`, `Here(x)`, `Mine(x)`, `LikesSanDiego(x)` and the constant symbol `MELMAN`."
   ]
  },
  {
   "cell_type": "markdown",
   "metadata": {},
   "source": [
    "Answer:  \n",
    "\n",
    "$$ \\text{KB: } 1.Giraffe(x) \\implies Tall(x)\\\\\n",
    "2.\\ Tall(x) \\implies Giraffe(x)\\\\\n",
    "3.\\ Here(x) \\wedge Hoofed(x) \\implies Mine(x)\\\\\n",
    "4.\\ Giraffe(x) \\implies LikesSanDiego(x)\\\\\n",
    "5.\\ Mine(x) \\wedge Hoofed(x) \\implies Tall(x)\\\\\n",
    "6.\\ Hoofed(MELMAN)\\\\\n",
    "7.\\ Here(MELMAN)\n",
    "$$"
   ]
  },
  {
   "cell_type": "markdown",
   "metadata": {},
   "source": [
    "(b) Use the forward-chaining inference algorithm to prove that Melman likes San Diego. Indicate\n",
    "which conclusions were added to the KB at each iteration (don’t forget to show that all necessary\n",
    "premises were satisfied in each case of addition)."
   ]
  },
  {
   "cell_type": "markdown",
   "metadata": {},
   "source": [
    "Answer:  \n",
    "Rule 1 has unsatisfied premises  \n",
    "Rule 2 has unsatisfied premises  \n",
    "Rule 3 is satisfied with {`x`/`MELMAN`} and $ Mine(MELMAN) $ is added. (6, 7)  \n",
    "Rule 4 has unsatisfied premises  \n",
    "Rule 5 is satisfied with {`x`/`MELMAN`} and $ Tall(MELMAN) $ is added. (6, Rule 3)  \n",
    "Rule 1 has unsatisfied premises  \n",
    "Rule 2 is satisfied with {`x`/`MELMAN`} and $ Giraffe(MELMAN) $ is added. (Rule 5)  \n",
    "Rule 4 is satisfied with {`x`/`MELMAN`} and $ LikesSanDiego(MELMAN) $ is added. (Rule 2)  "
   ]
  },
  {
   "cell_type": "markdown",
   "metadata": {},
   "source": [
    "(c) Draw the proof tree that is generated by the procedure in (b)."
   ]
  },
  {
   "cell_type": "markdown",
   "metadata": {},
   "source": [
    "Answer:  \n",
    "<img src=\"https://www.movsisyan.info/resources/hw/graphDeMelman.png\" width=400></img>"
   ]
  },
  {
   "cell_type": "markdown",
   "metadata": {},
   "source": [
    "(d) Use FOL resolution algorithm to prove that Melman likes San Diego."
   ]
  },
  {
   "cell_type": "markdown",
   "metadata": {},
   "source": [
    "Answer:  \n",
    "$$ Hoofed(MELMAN) \\wedge Here(MELMAN) \\\\\n",
    "|\\\\\n",
    "\\neg (Here(x) \\wedge Hoofed(x)) \\vee Mine(x)\\\\\n",
    "|\\\\\n",
    "\\neg (Mine(x) \\wedge Hoofed(x)) \\vee Tall(x)\\\\\n",
    "|\\\\\n",
    "\\neg Tall(x) \\vee Giraffe(x) \\\\\n",
    "|\\\\\n",
    "\\neg Giraffe(x) \\vee LikesSanDiego(x) $$"
   ]
  },
  {
   "cell_type": "markdown",
   "metadata": {},
   "source": [
    "### Problem 4 (15 points)  \n",
    "Consider another logic puzzle by Lewis Carroll:  \n",
    "\n",
    "```\n",
    "All hummingbirds are richly colored.\n",
    "No large birds live on honey.\n",
    "Birds that do not live on honey are dull in color.\n",
    "```  \n",
    "\n",
    "(a) Translate the given KB into first-order language. Instead of using negation, introduce new predicates when needed.  "
   ]
  },
  {
   "cell_type": "markdown",
   "metadata": {},
   "source": [
    "Answer:  \n",
    "$$ Bird(x) \\wedge Humming(x) \\implies RichlyColored(x)\\\\\n",
    "Bird(x) \\wedge Large(x) \\implies DoesntLiveOnHoney(x)\\\\\n",
    "Bird(x) \\wedge DoesntLiveOnHoney(x) \\implies Dull(x) $$"
   ]
  },
  {
   "cell_type": "markdown",
   "metadata": {},
   "source": [
    "(b) What can you infer from the knowledge that you have? Use contrapositions when needed."
   ]
  },
  {
   "cell_type": "markdown",
   "metadata": {},
   "source": [
    "Answer:  \n",
    "Hummingbirds are small birds who don't live on honey and are not dull in color."
   ]
  }
 ],
 "metadata": {
  "kernelspec": {
   "display_name": "Python 3.10.1 64-bit",
   "language": "python",
   "name": "python3"
  },
  "language_info": {
   "codemirror_mode": {
    "name": "ipython",
    "version": 3
   },
   "file_extension": ".py",
   "mimetype": "text/x-python",
   "name": "python",
   "nbconvert_exporter": "python",
   "pygments_lexer": "ipython3",
   "version": "3.10.1"
  },
  "orig_nbformat": 4,
  "vscode": {
   "interpreter": {
    "hash": "26de051ba29f2982a8de78e945f0abaf191376122a1563185a90213a26c5da77"
   }
  }
 },
 "nbformat": 4,
 "nbformat_minor": 2
}
