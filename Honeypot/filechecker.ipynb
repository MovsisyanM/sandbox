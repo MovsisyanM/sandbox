{
 "cells": [
  {
   "cell_type": "code",
   "execution_count": 2,
   "metadata": {},
   "outputs": [],
   "source": [
    "import pathlib\n",
    "\n",
    "def getTimestamps(filename):\n",
    "    fname = pathlib.Path(filename)\n",
    "    stats = fname.stat()\n",
    "    if not fname.exists(): # File deleted\n",
    "        return []\n",
    "    return(stats.st_ctime,stats.st_mtime,stats.st_atime)"
   ]
  },
  {
   "cell_type": "code",
   "execution_count": 3,
   "metadata": {},
   "outputs": [
    {
     "data": {
      "text/plain": [
       "((1684777168.0393884, 1684777261.817369, 1684783481.7637384),\n",
       " (1684777939.907251, 1684778025.6209767, 1684783983.2813993))"
      ]
     },
     "execution_count": 3,
     "metadata": {},
     "output_type": "execute_result"
    }
   ],
   "source": [
    "getTimestamps(r\"C:\\Users\\mherm\\Desktop\\Bank data.xlsx\"), getTimestamps(r\"C:\\Users\\mherm\\Desktop\\All customer credit scores.xlsx\")"
   ]
  },
  {
   "cell_type": "code",
   "execution_count": 4,
   "metadata": {},
   "outputs": [],
   "source": [
    "def checkTimestamps(filename,create,modify,access):\n",
    "    stats = getTimestamps(filename)\n",
    "    if len(stats) == 0:\n",
    "        return False # File deleted\n",
    "    (ctime,mtime,atime) = stats\n",
    "    if float(create) != float(ctime):\n",
    "        return False    # File creation time is incorrect\n",
    "    elif float(modify) != float(mtime):\n",
    "        return False    # File modify time is incorrect\n",
    "    elif float(access) != float(atime):\n",
    "        return False    # File access time is incorrect\n",
    "    return True"
   ]
  },
  {
   "cell_type": "code",
   "execution_count": 6,
   "metadata": {},
   "outputs": [
    {
     "data": {
      "text/plain": [
       "True"
      ]
     },
     "execution_count": 6,
     "metadata": {},
     "output_type": "execute_result"
    }
   ],
   "source": [
    "checkTimestamps(r\"C:\\Users\\mherm\\Desktop\\All customer credit scores.xlsx\", 1684777939.907251, 1684778025.6209767, 1684783983.2813993)"
   ]
  },
  {
   "cell_type": "code",
   "execution_count": null,
   "metadata": {},
   "outputs": [],
   "source": []
  }
 ],
 "metadata": {
  "kernelspec": {
   "display_name": "Python 3",
   "language": "python",
   "name": "python3"
  },
  "language_info": {
   "codemirror_mode": {
    "name": "ipython",
    "version": 3
   },
   "file_extension": ".py",
   "mimetype": "text/x-python",
   "name": "python",
   "nbconvert_exporter": "python",
   "pygments_lexer": "ipython3",
   "version": "3.11.3"
  },
  "orig_nbformat": 4
 },
 "nbformat": 4,
 "nbformat_minor": 2
}
