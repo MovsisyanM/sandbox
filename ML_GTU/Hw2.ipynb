{
 "cells": [
  {
   "attachments": {},
   "cell_type": "markdown",
   "metadata": {},
   "source": [
    "# Homework 2\n",
    "###### by Mher Movsisyan\n",
    "---"
   ]
  },
  {
   "attachments": {},
   "cell_type": "markdown",
   "metadata": {},
   "source": [
    "### 1: Conceptual questions  \n",
    "1. Please explain why the first principle component direction (the weight vector) corresponds to the largest eigenvector of the sample covariance matrix."
   ]
  },
  {
   "attachments": {},
   "cell_type": "markdown",
   "metadata": {},
   "source": [
    "Answer:  \n",
    "It spans the most variance in the data."
   ]
  },
  {
   "attachments": {},
   "cell_type": "markdown",
   "metadata": {},
   "source": [
    "2. What is the relationship between SVD and eigendecomposition?"
   ]
  },
  {
   "attachments": {},
   "cell_type": "markdown",
   "metadata": {},
   "source": [
    "Answer:  \n",
    "They are both matrix decomposition methods."
   ]
  },
  {
   "attachments": {},
   "cell_type": "markdown",
   "metadata": {},
   "source": [
    "3. Explain the three key ideas in ISOMAP (for manifold learning and non-linear dimensionality reduction)."
   ]
  },
  {
   "attachments": {},
   "cell_type": "markdown",
   "metadata": {},
   "source": [
    "Answer:  \n",
    "ISOMAP takes account the geometric structure of the data, and rather than using simple n-dimensional euclidean distance to cluster points it uses nearest neighbors (weighted) to construct a graph (similar to spectral clustering). After constructing the graph it finds the closest path from point to point and approximates the k-dimensional  euclidean distance that way."
   ]
  },
  {
   "attachments": {},
   "cell_type": "markdown",
   "metadata": {},
   "source": [
    "### Problem 2:  \n",
    "Eigenfaces - done during the interview process, will just review peers works"
   ]
  },
  {
   "attachments": {},
   "cell_type": "markdown",
   "metadata": {},
   "source": [
    "### Problem 3: Order of faces using ISOMAP"
   ]
  },
  {
   "attachments": {},
   "cell_type": "markdown",
   "metadata": {},
   "source": [
    "This question aims to reproduce the ISOMAP algorithm results in the original paper for ISOMAP, J.B.\n",
    "Tenenbaum, V. de Silva, and J.C. Langford, Science 290 (2000) 2319-2323 that we have also seen in the\n",
    "lecture as an exercise (isn’t this exciting to go through the process of generating results for a high-impact\n",
    "research paper!)  \n",
    "\n",
    "The file `isomap.mat` (or `isomap.dat`) contains 698 images, corresponding to different poses of the same\n",
    "face. Each image is given as a 64 × 64 luminosity map, hence represented as a vector in $ R^{4096} $. This vector\n",
    "is stored as a row in the file. (This is one of the datasets used in the original paper.) In this question, you\n",
    "are expected to implement the ISOMAP algorithm by coding it up yourself. You may find the shortest path\n",
    "(required by one step of the algorithm), using [this link](https://scikit-learn.org/stable/modules/generated/sklearn.utils.graph_shortest_path.graph_shortest_path.html).  \n",
    "\n",
    "Using Euclidean distance (i.e., in this case, a distance in $ R^{4096} $) to construct the $ \\epsilon $-ISOMAP (follow the\n",
    "instructions in the slides.) You will tune the $ \\epsilon $ parameter to achieve the most reasonable performance. Please\n",
    "note that this is different from K-ISOMAP, where each node has exactly K nearest neighbors.\n"
   ]
  },
  {
   "cell_type": "markdown",
   "metadata": {},
   "source": []
  }
 ],
 "metadata": {
  "language_info": {
   "name": "python"
  },
  "orig_nbformat": 4
 },
 "nbformat": 4,
 "nbformat_minor": 2
}
