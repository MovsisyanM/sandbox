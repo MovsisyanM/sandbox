{
 "cells": [
  {
   "attachments": {},
   "cell_type": "markdown",
   "metadata": {},
   "source": [
    "# Homework 1\n",
    "###### by Mher Movsisyan\n",
    "---"
   ]
  },
  {
   "attachments": {},
   "cell_type": "markdown",
   "metadata": {},
   "source": [
    "### 1 Conception questions  \n",
    "Please provide a brief answer to each question\n",
    "- What’s the main difference between supervised and unsupervised learning?"
   ]
  },
  {
   "attachments": {},
   "cell_type": "markdown",
   "metadata": {},
   "source": [
    "Answer:  \n",
    "In supervised learning, the models receive labels, in unsupervised learning this is not the case."
   ]
  },
  {
   "attachments": {},
   "cell_type": "markdown",
   "metadata": {},
   "source": [
    "- Will different initializations for k-means lead to different results?"
   ]
  },
  {
   "attachments": {},
   "cell_type": "markdown",
   "metadata": {},
   "source": [
    "Answer:  \n"
   ]
  },
  {
   "attachments": {},
   "cell_type": "markdown",
   "metadata": {},
   "source": [
    "Yes"
   ]
  },
  {
   "attachments": {},
   "cell_type": "markdown",
   "metadata": {},
   "source": [
    "- Give a short proof (can be in words but using correct logic) why k-means algorithm will converge in finite number of iterations."
   ]
  },
  {
   "attachments": {},
   "cell_type": "markdown",
   "metadata": {},
   "source": [
    "Answer:  \n",
    "Since there are a finite number of data points, there are a finite number of ways they can be arranged in clusters. Additionally, since we always take a step if it results in a lower objective value, we can only improve and we won't oscillate."
   ]
  },
  {
   "attachments": {},
   "cell_type": "markdown",
   "metadata": {},
   "source": [
    "- What is he main difference between k-means and generalized k-means algorithm"
   ]
  },
  {
   "attachments": {},
   "cell_type": "markdown",
   "metadata": {},
   "source": [
    "Answer:  \n",
    "k-means assumes euclidian distance, while the generalized version let's you use any distance metric that is valid through the triangle inequality. "
   ]
  },
  {
   "attachments": {},
   "cell_type": "markdown",
   "metadata": {},
   "source": [
    "- Consider the following simple graph  \n",
    "$$\n",
    "\\begin{bmatrix}\n",
    "0 & 1 & 1 & 0 & 0 \\\\\n",
    "1 & 0 & 1 & 0 & 0 \\\\\n",
    "1 & 1 & 0 & 0 & 0 \\\\\n",
    "0 & 0 & 0 & 0 & 1 \\\\\n",
    "0 & 0 & 0 & 1 & 0\n",
    "\\end{bmatrix}\n",
    "$$"
   ]
  },
  {
   "attachments": {},
   "cell_type": "markdown",
   "metadata": {},
   "source": [
    "Write down the graph Laplacian matrix and find the eigenvectors associated with the zero eigenvalue. Explain how do you find out the number of disconnected clusters in graph and identify these disconnected clusters using these eigenvectors."
   ]
  },
  {
   "attachments": {},
   "cell_type": "markdown",
   "metadata": {},
   "source": [
    "Answer:  \n",
    "$$ \n",
    "L = \\begin{bmatrix}\n",
    "2 & -1 & -1 & 0 & 0 \\\\\n",
    "-1 & 2 & -1 & 0 & 0 \\\\\n",
    "-1 & -1 & 2 & 0 & 0 \\\\\n",
    "0 & 0 & 0 & 1 & -1 \\\\\n",
    "0 & 0 & 0 & -1 & 1\n",
    "\\end{bmatrix}\n",
    "$$  \n",
    "\n",
    "$$ \\text{Subtracting a (scalar * Identity)} $$\n",
    "$$ \\downarrow $$\n",
    "\n",
    "$$ \n",
    "\\begin{bmatrix}\n",
    "2 - \\lambda & -1 & -1 & 0 & 0 \\\\\n",
    "-1 & 2 - \\lambda & -1 & 0 & 0 \\\\\n",
    "-1 & -1 & 2 - \\lambda & 0 & 0 \\\\\n",
    "0 & 0 & 0 & 1 - \\lambda & -1 \\\\\n",
    "0 & 0 & 0 & -1 & 1 - \\lambda\n",
    "\\end{bmatrix}\n",
    "$$  \n",
    "\n"
   ]
  },
  {
   "attachments": {},
   "cell_type": "markdown",
   "metadata": {},
   "source": [
    "$$ \\begin{align*}det(L - (\\lambda I)) &= 0 = \\\\\n",
    "&= (1 - \\lambda)\\begin{vmatrix}\n",
    "2 - \\lambda & -1 & -1 & 0 \\\\\n",
    "-1 & 2 - \\lambda & -1 & 0 \\\\\n",
    "-1 & -1 & 2 - \\lambda & 0 \\\\\n",
    "0 & 0 & 0 & 1 - \\lambda\n",
    "\\end{vmatrix} +  \\begin{vmatrix}\n",
    "2 - \\lambda & -1 & -1 & 0 \\\\\n",
    "-1 & 2 - \\lambda & -1 & 0 \\\\\n",
    "-1 & -1 & 2 - \\lambda & 0 \\\\\n",
    "0 & 0 & 0 & -1 \n",
    "\\end{vmatrix} \\\\\n",
    "&= (1 - \\lambda)((1 - \\lambda)\\begin{vmatrix}\n",
    "2 - \\lambda & -1 & -1 \\\\\n",
    "-1 & 2 - \\lambda & -1 \\\\\n",
    "-1 & -1 & 2 - \\lambda \\\\\n",
    "\\end{vmatrix}) - \\begin{vmatrix}\n",
    "2 - \\lambda & -1 & -1 \\\\\n",
    "-1 & 2 - \\lambda & -1 \\\\\n",
    "-1 & -1 & 2 - \\lambda \n",
    "\\end{vmatrix} \\\\\n",
    "&= (1 - \\lambda)(1 - \\lambda)((2 - \\lambda)^3 - 1 - 1 - 3(2 - \\lambda)) - ((2 - \\lambda)^3 - 1 - 1 - 3(2 - \\lambda)) \\\\\n",
    "&= ((1 - \\lambda)(1 - \\lambda) - 1)((2 - \\lambda)^3 - 1 - 1 - 3(2 - \\lambda)) \\\\\n",
    "&= (- 2\\lambda + \\lambda^2)(-\\lambda^3 + 6\\lambda^2 -9\\lambda) \\\\\n",
    "&= \\lambda(\\lambda - 2)(\\lambda - 3)(\\lambda - 3)\\lambda\n",
    "\\end{align*} $$"
   ]
  },
  {
   "attachments": {},
   "cell_type": "markdown",
   "metadata": {},
   "source": [
    "$$ \\lambda = 1;\\ \\ \\ \\ \\lambda = 2;\\ \\ \\ \\ \\lambda = 0; $$"
   ]
  },
  {
   "attachments": {},
   "cell_type": "markdown",
   "metadata": {},
   "source": [
    "- $ \\lambda = 0 $  \n",
    "$$ \\begin{bmatrix}\n",
    "2 & -1 & -1 & 0 & 0 \\\\\n",
    "-1 & 2 & -1 & 0 & 0 \\\\\n",
    "-1 & -1 & 2 & 0 & 0 \\\\\n",
    "0 & 0 & 0 & 1 & -1  \\\\\n",
    "0 & 0 & 0 & -1 & 1 \n",
    "\\end{bmatrix}\n",
    "$$"
   ]
  },
  {
   "attachments": {},
   "cell_type": "markdown",
   "metadata": {},
   "source": [
    "$$ x_4 = x_5 $$\n",
    "$$ \\begin{bmatrix}\n",
    "2 & -1 & -1 \\\\\n",
    "-1 & 2 & -1 \\\\\n",
    "-1 & -1 & 2 \\\\\n",
    "\\end{bmatrix} \\overset{R_2 * 2; \\ \\ \\ \\ R_3 * 2}{\\rightarrow} \n",
    "\\begin{bmatrix}\n",
    "2 & -1 & -1 \\\\\n",
    "-2 & 4 & -2 \\\\\n",
    "-2 & -2 & 4 \\\\\n",
    "\\end{bmatrix} \\overset{R_2 + R_1;\\ \\ \\ \\ R_3 + R_1}{\\rightarrow} \n",
    "\\begin{bmatrix}\n",
    "2 & -1 & -1 \\\\\n",
    "0 & 3 & -3 \\\\\n",
    "0 & -3 & 3 \\\\\n",
    "\\end{bmatrix}\n",
    "$$"
   ]
  },
  {
   "attachments": {},
   "cell_type": "markdown",
   "metadata": {},
   "source": [
    "$$ x_1 = 2x_2; x_2 = x_3 $$"
   ]
  },
  {
   "attachments": {},
   "cell_type": "markdown",
   "metadata": {},
   "source": [
    "$$ E_{\\lambda=0} = \\left\\{ \\begin{bmatrix} x_1 \\\\ x_2 \\\\ x_3 \\\\ x_4 \\\\\n",
    "x_5 \\end{bmatrix} = a\\begin{bmatrix} 2 \\\\ 1 \\\\ 1 \\\\ 0 \\\\\n",
    "0 \\end{bmatrix} + b\\begin{bmatrix} 0 \\\\ 0 \\\\ 0 \\\\ 1 \\\\\n",
    "1 \\end{bmatrix} \\right\\} $$"
   ]
  },
  {
   "attachments": {},
   "cell_type": "markdown",
   "metadata": {},
   "source": [
    "We see two disconnected graphs because the eigenvector of $ \\lambda = 0 $ can be expressed through two coordinates (`a` and `b`)."
   ]
  },
  {
   "attachments": {},
   "cell_type": "markdown",
   "metadata": {},
   "source": [
    "### 2: Image compression using clustering  "
   ]
  },
  {
   "attachments": {},
   "cell_type": "markdown",
   "metadata": {},
   "source": [
    "In this programming assignment, you are going to apply clustering algorithms for image compression. Your task is implementing K-means for this purpose. It is required you implementing the algorithms yourself rather than calling k-means from a package. However, it is ok to use standard packages such as file i/o, linear algebra, and visualization.\n",
    "\n",
    "##### Formatting instruction\n",
    "\n",
    "Input  \n",
    "- `pixels`: the input image representation. Each row contains one data point (pixel). For image dataset, it contains 3 columns, each column corresponding to Red, Green, and Blue component. Each component has an integer value between 0 and 255.  \n",
    "- `k`: the number of desired clusters. Too high value of K may result in empty cluster error. Then, you need to reduce it.  \n",
    "\n",
    "Output  \n",
    "- `class`: cluster assignment of each data point in pixels. The assignment should be 1, 2, 3, etc. For k = 5, for example, each cell of class should be either 1, 2, 3, 4, or 5. The output should be a column vector with size(pixels, 1) elements.\n",
    "- `centroid`: location of k centroids (or representatives) in your result. With images, each centroid corresponds to the representative color of each cluster. The output should be a matrix with K rows and 3 columns. The range of values should be [0, 255], possibly floating point numbers"
   ]
  },
  {
   "cell_type": "code",
   "execution_count": 24,
   "metadata": {},
   "outputs": [
    {
     "data": {
      "text/plain": [
       "array([[185,  65, 193],\n",
       "       [ 65, 175,  58],\n",
       "       [ 55, 121, 187],\n",
       "       [148,  59,  57],\n",
       "       [188, 200, 136]])"
      ]
     },
     "execution_count": 24,
     "metadata": {},
     "output_type": "execute_result"
    }
   ],
   "source": [
    "import numpy as np\n",
    "import matplotlib.pyplot as plt\n",
    "\n",
    "seed = 173\n",
    "\n",
    "def distance(x, y):\n",
    "    return np.sqrt(np.sum(np.square(x - y), axis=1))\n",
    "\n",
    "\n",
    "def k_means(pixels, k, seed=seed):\n",
    "    \"\"\"Input  \n",
    "    `pixels`: the input image representation. Each row contains one data point (pixel). \n",
    "        For image dataset, it contains 3 columns, each column corresponding to Red, \n",
    "        Green, and Blue component. Each component has an integer value between 0 and 255.  \n",
    "    `k`: the number of desired clusters. Too high value of K may result in empty cluster \n",
    "        error. Then, you need to reduce it.  \n",
    "    `seed`: random seed to feed to the pseudo-random number generator.  \n",
    "\n",
    "    Output  \n",
    "    `classes`: cluster assignment of each data point in pixels. The assignment should be \n",
    "        1, 2, 3, etc. For k = 5, for example, each cell of class should be either 1, \n",
    "        2, 3, 4, or 5. The output should be a column vector with size(pixels, 1) elements.\n",
    "    `centroids`: location of k centroids (or representatives) in your result. With images, \n",
    "        each centroid corresponds to the representative color of each cluster. The output \n",
    "        should be a matrix with K rows and 3 columns. The range of values should be \n",
    "        [0, 255], possibly floating point numbers\"\"\"\n",
    "        \n",
    "    assert k <= 25500, \"Too high of a `k`. Try with less clusters\"\n",
    "    assert pixels.shape[1] == 3, \"Columns must represent the RGB schema\"\n",
    "    np.random.seed(seed)\n",
    "    finished = False\n",
    "    \n",
    "    # First iteration, generate random cluster centers\n",
    "    centroids = np.random.randint(low=0, high=255, size=(k, 3), dtype=\"int\")\n",
    "    classes = np.zeros((pixels.shape[0],), dtype=\"int\") # to clarify scope\n",
    "    \n",
    "    # Memory-intensive but fast assuming k << n\n",
    "    while not finished:\n",
    "        distances = np.zeros((pixels.shape[0], k), dtype=\"int\")\n",
    "        \n",
    "        # calculating distances\n",
    "        for cluster in range(k):\n",
    "            dist = distance(pixels, centroids[cluster])\n",
    "            distances[:, cluster] = dist\n",
    "            \n",
    "        # assigning clusters\n",
    "        classes = np.argmin(distances, axis=1)\n",
    "        \n",
    "        old_centroids = centroids.copy()\n",
    "        # calculate new cluster centers\n",
    "        for cluster in range(k):\n",
    "            cluster_points = classes == cluster\n",
    "            centroids[cluster] = np.mean(pixels[cluster_points], axis=0)\n",
    "            \n",
    "        # check if clusters didn't change\n",
    "        if (old_centroids == centroids).all():\n",
    "            finished = True\n",
    "    \n",
    "    return classes, centroids\n",
    "\n",
    "k_means(np.random.randint(0, 255, (10000, 3)), 5)[1]"
   ]
  },
  {
   "attachments": {},
   "cell_type": "markdown",
   "metadata": {},
   "source": [
    "#### Hand-in  \n",
    "Both of your code and report will be evaluated. Upload them together as a zip file. In your report, answer to the following questions:  \n",
    "1. (20 points) Use k-means with squared-2 norm as a metric, for `GeorgiaTech.bmp` and `football.bmp` and also choose a third picture of your own to work on. We recommend size of 320 × 240 or smaller.\n",
    "Run your k-means implementation with these pictures, with several different k = 2, 4, 8, 16.\n",
    "Run your k-means implementation (with squared-`2 norm) with random initialization centroids. Please\n",
    "try multiple time and report the best one (in terms of the image quality).\n",
    "Please write in your report, how long does it take to converge for each k (report the number of\n",
    "iterations) and also include the resulted compressed pictures for each k.\n",
    "2. (20 points) Now try your k-means with the Manhattan distance (or `1 distance) and repeat the same\n",
    "steps in Part (1). Please note that the assignment of data point should be based on the Manhattan\n",
    "distance, and the cluster centroid (by minimizing the sum of deviance – as a result o fusing the\n",
    "Manhattan distance) will be taken as the “median” of each cluster. Comment on the difference of\n",
    "image compression results using the two methods.\n",
    "Note\n",
    "• You may see some error message about empty clusters when you use too large k. Your implementation\n",
    "should treat this exception as well. That is, do not terminate even if you have an empty cluster, but\n",
    "use smaller number of clusters in that case.\n",
    "• We recommend you to test your code with several different pictures so that you can detect some\n",
    "problems that might happen occasionally.\n",
    "• If we detect copy from any other student’s code or from the web, you will not be eligible for any credit\n",
    "for the entire homework, not just for the programming part. Also, directly calling built-in functions\n",
    "or from other package functions is not allowed."
   ]
  },
  {
   "cell_type": "code",
   "execution_count": 13,
   "metadata": {},
   "outputs": [
    {
     "data": {
      "text/plain": [
       "array([2, 2, 2, 2, 2, 2, 2, 2, 2, 2, 2, 2, 2, 2, 2, 2, 2, 2, 2, 2, 2, 2,\n",
       "       2, 2, 2, 2, 2, 2, 2, 2, 2, 2, 2, 2, 2, 2, 2, 2, 2, 2, 2, 2, 2, 2,\n",
       "       2, 2, 2, 2, 2, 2, 2, 2, 2, 2, 2, 2, 2, 2, 2, 2, 2, 2, 2, 2, 2, 2,\n",
       "       2, 2, 2, 2, 2, 2, 2, 2, 2, 2, 2, 2, 2, 2, 2, 2, 2, 2, 2, 2, 2, 2,\n",
       "       2, 2, 2, 2, 2, 2, 2, 2, 2, 2, 2, 2])"
      ]
     },
     "execution_count": 13,
     "metadata": {},
     "output_type": "execute_result"
    }
   ],
   "source": [
    "np.array([2]*100)[[True]*100]"
   ]
  },
  {
   "cell_type": "code",
   "execution_count": null,
   "metadata": {},
   "outputs": [],
   "source": []
  }
 ],
 "metadata": {
  "kernelspec": {
   "display_name": "Python 3",
   "language": "python",
   "name": "python3"
  },
  "language_info": {
   "codemirror_mode": {
    "name": "ipython",
    "version": 3
   },
   "file_extension": ".py",
   "mimetype": "text/x-python",
   "name": "python",
   "nbconvert_exporter": "python",
   "pygments_lexer": "ipython3",
   "version": "3.10.1"
  },
  "orig_nbformat": 4,
  "vscode": {
   "interpreter": {
    "hash": "26de051ba29f2982a8de78e945f0abaf191376122a1563185a90213a26c5da77"
   }
  }
 },
 "nbformat": 4,
 "nbformat_minor": 2
}
