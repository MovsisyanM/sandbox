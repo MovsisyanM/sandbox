{
 "cells": [
  {
   "cell_type": "code",
   "execution_count": 1,
   "metadata": {},
   "outputs": [],
   "source": [
    "import numpy as np\n",
    "import matplotlib.pyplot as plt\n",
    "\n",
    "from sklearn.datasets import load_digits\n",
    "from sklearn.model_selection import train_test_split\n",
    "from sklearn.preprocessing import label_binarize\n",
    "from sklearn.metrics import accuracy_score\n",
    "\n",
    "from scipy.special import softmax"
   ]
  },
  {
   "cell_type": "code",
   "execution_count": 2,
   "metadata": {},
   "outputs": [],
   "source": [
    "X, y = load_digits(return_X_y=True)\n",
    "# Convert a categorical vector y (shape [N]) into a one-hot encoded matrix (shape [N, K])\n",
    "Y = label_binarize(y, classes=np.unique(y)).astype(np.float64)\n",
    "\n",
    "np.random.seed(123)\n",
    "X_train, X_test, Y_train, Y_test = train_test_split(X, Y, test_size=0.25)"
   ]
  },
  {
   "cell_type": "code",
   "execution_count": 3,
   "metadata": {},
   "outputs": [],
   "source": [
    "N, K = Y.shape  # N - num_samples, K - num_classes\n",
    "D = X.shape[1] # num_features"
   ]
  },
  {
   "cell_type": "markdown",
   "metadata": {},
   "source": [
    "Remember from the PSS:\n",
    "1. No for loops! Use matrix multiplication and broadcasting whenever possible.\n",
    "2. Think about numerical stability"
   ]
  },
  {
   "cell_type": "code",
   "execution_count": 4,
   "metadata": {},
   "outputs": [],
   "source": [
    "import nn_utils  # module containing helper functions for checking the correctness of your code"
   ]
  },
  {
   "cell_type": "markdown",
   "metadata": {},
   "source": [
    "## Task 1: Affine layer\n",
    "Implement `forward` and `backward` functions for `Affine` layer"
   ]
  },
  {
   "cell_type": "code",
   "execution_count": 19,
   "metadata": {},
   "outputs": [],
   "source": [
    "class Affine:\n",
    "    def forward(self, inputs, weight, bias):\n",
    "        \"\"\"Forward pass of an affine (fully connected) layer.\n",
    "\n",
    "        Args:\n",
    "            inputs: input matrix, shape (N, D)\n",
    "            weight: weight matrix, shape (D, H)\n",
    "            bias: bias vector, shape (H)\n",
    "\n",
    "        Returns\n",
    "            out: output matrix, shape (N, H)\n",
    "        \"\"\"\n",
    "        self.cache = (inputs, weight, bias)\n",
    "        #############################################################\n",
    "        out = inputs.dot(weight) + bias\n",
    "\n",
    "        #############################################################\n",
    "        assert out.shape[0] == inputs.shape[0]\n",
    "        assert out.shape[1] == weight.shape[1] == bias.shape[0]\n",
    "        return out\n",
    "\n",
    "    def backward(self, d_out):\n",
    "        \"\"\"Backward pass of an affine (fully connected) layer.\n",
    "\n",
    "        Args:\n",
    "            d_out: incoming derivaties, shape (N, H)\n",
    "\n",
    "        Returns:\n",
    "            d_inputs: gradient w.r.t. the inputs, shape (N, D)\n",
    "            d_weight: gradient w.r.t. the weight, shape (D, H)\n",
    "            d_bias: gradient w.r.t. the bias, shape (H)\n",
    "        \"\"\"\n",
    "        inputs, weight, bias = self.cache\n",
    "        #############################################################\n",
    "        d_inputs = d_out.dot(weight.T)\n",
    "        d_weight = inputs.T.dot(d_out)\n",
    "        d_bias = np.sum(d_out, axis=0)\n",
    "\n",
    "        #############################################################\n",
    "        assert np.all(d_inputs.shape == inputs.shape)\n",
    "        assert np.all(d_weight.shape == weight.shape)\n",
    "        assert np.all(d_bias.shape == bias.shape)\n",
    "        return d_inputs, d_weight, d_bias"
   ]
  },
  {
   "cell_type": "code",
   "execution_count": 20,
   "metadata": {},
   "outputs": [
    {
     "name": "stdout",
     "output_type": "stream",
     "text": [
      "All checks passed succesfully!\n"
     ]
    }
   ],
   "source": [
    "affine = Affine()\n",
    "nn_utils.check_affine(affine)"
   ]
  },
  {
   "cell_type": "markdown",
   "metadata": {},
   "source": [
    "## Task 2: ReLU layer\n",
    "Implement `forward` and `backward` functions for `ReLU` layer"
   ]
  },
  {
   "cell_type": "code",
   "execution_count": 23,
   "metadata": {},
   "outputs": [],
   "source": [
    "class ReLU:\n",
    "    def forward(self, inputs):\n",
    "        \"\"\"Forward pass of a ReLU layer.\n",
    "\n",
    "        Args:\n",
    "            inputs: input matrix, arbitrary shape\n",
    "\n",
    "        Returns:\n",
    "            out: output matrix, has same shape as inputs\n",
    "        \"\"\"\n",
    "        self.cache = inputs\n",
    "        #############################################################\n",
    "        out = np.maximum(0, inputs)\n",
    "\n",
    "        #############################################################\n",
    "        assert np.all(out.shape == inputs.shape)\n",
    "        return out\n",
    "\n",
    "    def backward(self, d_out):\n",
    "        \"\"\"Backward pass of an ReLU layer.\n",
    "\n",
    "        Args:\n",
    "            d_out: incoming derivatives, same shape as inputs in forward\n",
    "\n",
    "        Returns:\n",
    "            d_inputs: gradient w.r.t. the inputs, same shape as d_out\n",
    "        \"\"\"\n",
    "        inputs = self.cache\n",
    "        #############################################################\n",
    "        d_inputs = d_out * (inputs > 0)\n",
    "\n",
    "        #############################################################\n",
    "        assert np.all(d_inputs.shape == inputs.shape)\n",
    "        return d_inputs"
   ]
  },
  {
   "cell_type": "code",
   "execution_count": 24,
   "metadata": {
    "scrolled": true
   },
   "outputs": [
    {
     "name": "stdout",
     "output_type": "stream",
     "text": [
      "All checks passed succesfully!\n"
     ]
    }
   ],
   "source": [
    "relu = ReLU()\n",
    "nn_utils.check_relu(relu)"
   ]
  },
  {
   "cell_type": "markdown",
   "metadata": {},
   "source": [
    "## Task 3: CategoricalCrossEntropy layer\n",
    "Implement `forward` and `backward` for `CategoricalCrossEntropy` layer"
   ]
  },
  {
   "cell_type": "code",
   "execution_count": 31,
   "metadata": {},
   "outputs": [],
   "source": [
    "class CategoricalCrossEntropy:\n",
    "    def forward(self, logits, labels):\n",
    "        \"\"\"Compute categorical cross-entropy loss.\n",
    "\n",
    "        Args:\n",
    "            logits: class logits, shape (N, K)\n",
    "            labels: target labels in one-hot format, shape (N, K)\n",
    "\n",
    "        Returns:\n",
    "            loss: loss value, float (a single number)\n",
    "        \"\"\"\n",
    "        #############################################################\n",
    "        probs = softmax(logits, axis=1)\n",
    "        loss = -np.sum(labels * np.log(probs)) / logits.shape[0]\n",
    "        \n",
    "        #############################################################\n",
    "        # probs is the (N, K) matrix of class probabilities\n",
    "        self.cache = (probs, labels)\n",
    "        assert isinstance(loss, float)\n",
    "        return loss\n",
    "\n",
    "    def backward(self, d_out=1.0):\n",
    "        \"\"\"Backward pass of the Cross Entropy loss.\n",
    "\n",
    "        Args:\n",
    "            d_out: Incoming derivatives. We set this value to 1.0 by default,\n",
    "                since this is the terminal node of our computational graph\n",
    "                (i.e. we usually want to compute gradients of loss w.r.t.\n",
    "                other model parameters).\n",
    "\n",
    "        Returns:\n",
    "            d_logits: gradient w.r.t. the logits, shape (N, K)\n",
    "            d_labels: gradient w.r.t. the labels\n",
    "                we don't need d_labels for our models, so we don't\n",
    "                compute it and set it to None. It's only included in the\n",
    "                function definition for consistency with other layers.\n",
    "        \"\"\"\n",
    "        probs, labels = self.cache\n",
    "        #############################################################\n",
    "        d_logits = (probs - labels) / labels.shape[0] * d_out\n",
    "        \n",
    "        #############################################################\n",
    "        d_labels = None\n",
    "        assert np.all(d_logits.shape == probs.shape == labels.shape)\n",
    "        return d_logits, d_labels"
   ]
  },
  {
   "cell_type": "code",
   "execution_count": 32,
   "metadata": {},
   "outputs": [
    {
     "name": "stdout",
     "output_type": "stream",
     "text": [
      "All checks passed succesfully!\n"
     ]
    }
   ],
   "source": [
    "cross_entropy = CategoricalCrossEntropy()\n",
    "nn_utils.check_cross_entropy(cross_entropy)"
   ]
  },
  {
   "cell_type": "markdown",
   "metadata": {},
   "source": [
    "# Logistic regression (with backpropagation) --- nothing to do in this section"
   ]
  },
  {
   "cell_type": "code",
   "execution_count": 33,
   "metadata": {},
   "outputs": [],
   "source": [
    "class LogisticRegression:\n",
    "    def __init__(self, num_features, num_classes, learning_rate=1e-2):\n",
    "        \"\"\"Logistic regression model.\n",
    "        Gradients are computed with backpropagation.\n",
    "\n",
    "\n",
    "        The model consists of the following sequence of opeartions:\n",
    "        \n",
    "        input -> affine -> softmax\n",
    "        \"\"\"\n",
    "        self.learning_rate = learning_rate\n",
    "        \n",
    "        # Initialize the model parameters\n",
    "        self.params = {\n",
    "            'W': np.zeros([num_features, num_classes]),\n",
    "            'b': np.zeros([num_classes])\n",
    "        }\n",
    "        \n",
    "        # Define layers\n",
    "        self.affine = Affine()\n",
    "        self.cross_entropy = CategoricalCrossEntropy()\n",
    "    \n",
    "    def predict(self, X):\n",
    "        \"\"\"Generate predictions for one minibatch.\n",
    "        \n",
    "        Args:\n",
    "            X: data matrix, shape (N, D)\n",
    "            \n",
    "        Returns:\n",
    "            Y_pred: predicted class probabilities, shape (N, D)\n",
    "            Y_pred[n, k] = probability that sample n belongs to class k\n",
    "        \"\"\"\n",
    "        logits = self.affine.forward(X,self.params['W'], self.params['b'])\n",
    "        Y_pred = softmax(logits, axis=1)\n",
    "        return Y_pred\n",
    "    \n",
    "    def step(self, X, Y):\n",
    "        \"\"\"Perform one step of gradient descent on the minibatch of data.\n",
    "        \n",
    "        1. Compute the cross-entropy loss for given (X, Y).\n",
    "        2. Compute the gradients of the loss w.r.t. model parameters.\n",
    "        3. Update the model parameters using the gradients.\n",
    "        \n",
    "        Args:\n",
    "            X: data matrix, shape (N, D)\n",
    "            Y: target labels in one-hot format, shape (N, K)\n",
    "            \n",
    "        Returns:\n",
    "            loss: loss for (X, Y), float, (a single number)\n",
    "        \"\"\"\n",
    "        # Forward pass - compute the loss on training data\n",
    "        logits = self.affine.forward(X, self.params['W'], self.params['b'])\n",
    "        loss = self.cross_entropy.forward(logits, Y)\n",
    "        \n",
    "        # Backward pass - compute the gradients of loss w.r.t. all the model parameters\n",
    "        grads = {}\n",
    "        d_logits, _ = self.cross_entropy.backward()\n",
    "        _, grads['W'], grads['b'] = self.affine.backward(d_logits)\n",
    "        \n",
    "        # Apply the gradients\n",
    "        for p in self.params:\n",
    "            self.params[p] = self.params[p] - self.learning_rate * grads[p]\n",
    "        return loss"
   ]
  },
  {
   "cell_type": "code",
   "execution_count": 34,
   "metadata": {},
   "outputs": [],
   "source": [
    "# Specify optimization parameters\n",
    "learning_rate = 1e-2\n",
    "max_epochs = 501\n",
    "report_frequency = 50"
   ]
  },
  {
   "cell_type": "code",
   "execution_count": 35,
   "metadata": {},
   "outputs": [],
   "source": [
    "log_reg = LogisticRegression(num_features=D, num_classes=K)"
   ]
  },
  {
   "cell_type": "code",
   "execution_count": 36,
   "metadata": {
    "scrolled": true
   },
   "outputs": [
    {
     "name": "stdout",
     "output_type": "stream",
     "text": [
      "Epoch    0, loss = 2.3026\n",
      "Epoch   50, loss = 0.2275\n",
      "Epoch  100, loss = 0.1599\n",
      "Epoch  150, loss = 0.1306\n",
      "Epoch  200, loss = 0.1130\n",
      "Epoch  250, loss = 0.1009\n",
      "Epoch  300, loss = 0.0918\n",
      "Epoch  350, loss = 0.0846\n",
      "Epoch  400, loss = 0.0788\n",
      "Epoch  450, loss = 0.0738\n",
      "Epoch  500, loss = 0.0696\n"
     ]
    }
   ],
   "source": [
    "for epoch in range(max_epochs):\n",
    "    loss = log_reg.step(X_train, Y_train)\n",
    "    if epoch % report_frequency == 0:\n",
    "        print(f'Epoch {epoch:4d}, loss = {loss:.4f}')"
   ]
  },
  {
   "cell_type": "code",
   "execution_count": 37,
   "metadata": {},
   "outputs": [],
   "source": [
    "y_test_pred = log_reg.predict(X_test).argmax(1)\n",
    "y_test_true = Y_test.argmax(1)"
   ]
  },
  {
   "cell_type": "code",
   "execution_count": 38,
   "metadata": {},
   "outputs": [
    {
     "name": "stdout",
     "output_type": "stream",
     "text": [
      "test set accuracy = 0.953\n"
     ]
    }
   ],
   "source": [
    "print(f'test set accuracy = {accuracy_score(y_test_true, y_test_pred):.3f}')"
   ]
  },
  {
   "cell_type": "markdown",
   "metadata": {},
   "source": [
    "# Feed-forward neural network (with backpropagation)"
   ]
  },
  {
   "cell_type": "code",
   "execution_count": 39,
   "metadata": {},
   "outputs": [],
   "source": [
    "def xavier_init(shape):\n",
    "    \"\"\"Initialize a weight matrix according to Xavier initialization.\n",
    "    \n",
    "    See pytorch.org/docs/stable/nn.init#torch.nn.init.xavier_uniform_ for details.\n",
    "    \"\"\"\n",
    "    a = np.sqrt(6.0 / float(np.sum(shape)))\n",
    "    return np.random.uniform(low=-a, high=a, size=shape)"
   ]
  },
  {
   "cell_type": "markdown",
   "metadata": {},
   "source": [
    "## Task 4: Implement a two-layer `FeedForwardNeuralNet` model\n",
    "You can use the `LogisticRegression` class for reference"
   ]
  },
  {
   "cell_type": "code",
   "execution_count": 50,
   "metadata": {},
   "outputs": [],
   "source": [
    "class FeedforwardNeuralNet:\n",
    "    def __init__(self, input_size, hidden_size, output_size, learning_rate=1e-2):\n",
    "        \"\"\"A two-layer feedforward neural network with ReLU activations.\n",
    "        \n",
    "        (input_layer -> hidden_layer -> output_layer)\n",
    "        \n",
    "        \n",
    "        The model consists of the following sequence of opeartions:\n",
    "        \n",
    "        input -> affine -> relu -> affine -> softmax\n",
    "        \n",
    "        \"\"\"\n",
    "        self.learning_rate = learning_rate\n",
    "        \n",
    "        # Initialize the model parameters\n",
    "        self.params = {\n",
    "            'W1': xavier_init([input_size, hidden_size]),\n",
    "            'b1': np.zeros([hidden_size]),\n",
    "            'W2': xavier_init([hidden_size, output_size]),\n",
    "            'b2': np.zeros([output_size]),\n",
    "        }\n",
    "        \n",
    "        # Define layers\n",
    "        ############################################################\n",
    "        self.affine_1 = Affine()\n",
    "        self.relu = ReLU()\n",
    "        self.affine_2 = Affine()\n",
    "        self.cross_entropy = CategoricalCrossEntropy()\n",
    "        \n",
    "        \n",
    "        ############################################################\n",
    "    \n",
    "    def predict(self, X):\n",
    "        \"\"\"Generate predictions for one minibatch.\n",
    "        \n",
    "        Args:\n",
    "            X: data matrix, shape (N, D)\n",
    "            \n",
    "        Returns:\n",
    "            Y_pred: predicted class probabilities, shape (N, D)\n",
    "            Y_pred[n, k] = probability that sample n belongs to class k\n",
    "        \"\"\"\n",
    "        ############################################################\n",
    "        x = self.affine_1.forward(X, self.params['W1'], self.params['b1'])\n",
    "        x = self.relu.forward(x)\n",
    "        x = self.affine_2.forward(x, self.params['W2'], self.params['b2'])\n",
    "        Y_pred = softmax(x, axis=1)\n",
    "        \n",
    "        ############################################################\n",
    "        return Y_pred\n",
    "    \n",
    "    def step(self, X, Y):\n",
    "        \"\"\"Perform one step of gradient descent on the minibatch of data.\n",
    "        \n",
    "        1. Compute the cross-entropy loss for given (X, Y).\n",
    "        2. Compute the gradients of the loss w.r.t. model parameters.\n",
    "        3. Update the model parameters using the gradients.\n",
    "        \n",
    "        Args:\n",
    "            X: data matrix, shape (N, D)\n",
    "            Y: target labels in one-hot format, shape (N, K)\n",
    "            \n",
    "        Returns:\n",
    "            loss: loss for (X, Y), float, (a single number)\n",
    "        \"\"\"\n",
    "        ############################################################\n",
    "        # Forward pass - compute the loss on training data\n",
    "        x = self.affine_1.forward(X, self.params['W1'], self.params['b1'])\n",
    "        x = self.relu.forward(x)\n",
    "        logits = self.affine_2.forward(x, self.params['W2'], self.params['b2'])\n",
    "        loss = self.cross_entropy.forward(logits, Y)\n",
    "        \n",
    "        # Backward pass - compute the gradients of loss w.r.t. all the model parameters\n",
    "        grads = {}\n",
    "        d_logits, _ = self.cross_entropy.backward()\n",
    "        dx, grads['W2'], grads['b2'] = self.affine_2.backward(d_logits)\n",
    "        dx = self.relu.backward(dx)\n",
    "        dx, grads['W1'], grads['b1'] = self.affine_1.backward(dx)\n",
    "        \n",
    "        # Apply the gradients\n",
    "        for p in self.params:\n",
    "            self.params[p] = self.params[p] - self.learning_rate * grads[p]\n",
    "            \n",
    "        ############################################################\n",
    "        return loss"
   ]
  },
  {
   "cell_type": "code",
   "execution_count": 51,
   "metadata": {},
   "outputs": [],
   "source": [
    "H = 32  # size of the hidden layer\n",
    "\n",
    "# Specify optimization parameters\n",
    "learning_rate = 1e-2\n",
    "max_epochs = 501\n",
    "report_frequency = 50"
   ]
  },
  {
   "cell_type": "code",
   "execution_count": 52,
   "metadata": {},
   "outputs": [],
   "source": [
    "model = FeedforwardNeuralNet(input_size=D, hidden_size=H, output_size=K, learning_rate=learning_rate)"
   ]
  },
  {
   "cell_type": "code",
   "execution_count": 53,
   "metadata": {},
   "outputs": [
    {
     "name": "stdout",
     "output_type": "stream",
     "text": [
      "Epoch    0, loss = 15.0621\n",
      "Epoch   50, loss = 0.5679\n",
      "Epoch  100, loss = 0.3352\n",
      "Epoch  150, loss = 0.2420\n",
      "Epoch  200, loss = 0.1906\n",
      "Epoch  250, loss = 0.1574\n",
      "Epoch  300, loss = 0.1336\n",
      "Epoch  350, loss = 0.1156\n",
      "Epoch  400, loss = 0.1016\n",
      "Epoch  450, loss = 0.0903\n",
      "Epoch  500, loss = 0.0810\n"
     ]
    }
   ],
   "source": [
    "for epoch in range(max_epochs):\n",
    "    loss = model.step(X_train, Y_train)\n",
    "    if epoch % report_frequency == 0:\n",
    "        print(f'Epoch {epoch:4d}, loss = {loss:.4f}')"
   ]
  },
  {
   "cell_type": "code",
   "execution_count": 54,
   "metadata": {},
   "outputs": [],
   "source": [
    "y_test_pred = model.predict(X_test).argmax(1)\n",
    "y_test_true = Y_test.argmax(1)"
   ]
  },
  {
   "cell_type": "code",
   "execution_count": 55,
   "metadata": {
    "scrolled": true
   },
   "outputs": [
    {
     "name": "stdout",
     "output_type": "stream",
     "text": [
      "test set accuracy = 0.947\n"
     ]
    }
   ],
   "source": [
    "print(f'test set accuracy = {accuracy_score(y_test_true, y_test_pred):.3f}')"
   ]
  }
 ],
 "metadata": {
  "kernelspec": {
   "display_name": "Python 3 (ipykernel)",
   "language": "python",
   "name": "python3"
  },
  "language_info": {
   "codemirror_mode": {
    "name": "ipython",
    "version": 3
   },
   "file_extension": ".py",
   "mimetype": "text/x-python",
   "name": "python",
   "nbconvert_exporter": "python",
   "pygments_lexer": "ipython3",
   "version": "3.11.2"
  }
 },
 "nbformat": 4,
 "nbformat_minor": 2
}
