{
 "cells": [
  {
   "attachments": {},
   "cell_type": "markdown",
   "metadata": {},
   "source": [
    "# Homework 7\n",
    "###### by Mher Movsisyan\n",
    "---"
   ]
  },
  {
   "attachments": {},
   "cell_type": "markdown",
   "metadata": {},
   "source": [
    "### Problem 1:  \n",
    "In machine learning you often come across problems which contain the following quantity\n",
    "$$ y = log\\sum_{i=1}^{N}e^{x_i} $$\n",
    "For example if we want to calculate the log-likelihood of neural network with a softmax output we get this\n",
    "quantity due to the normalization constant. If you try to calculate it naively, you will quickly encounter\n",
    "underflows or overflows, depending on the scale of $ x_i $. Despite working in log-space, the limited precision\n",
    "of computers is not enough and the result will be $ \\infty $ or $ -\\infty $.  \n",
    "\n",
    "To combat this issue we typically use the following identity:\n",
    "$$ y = log\\sum_{i=1}^{N}e^{x_i} = a + log\\sum_{i=1}^Ne^{x_i - a} $$\n",
    "for an arbitrary a. This means, you can shift the center of the exponential sum. A typical value is setting\n",
    "$ a $ to the maximum ($ a = max_i x_i $), which forces the greatest value to be zero and even if the other values\n",
    "would underflow, you get a reasonable result.  \n",
    "\n",
    "Your task is to show that the identity holds."
   ]
  },
  {
   "attachments": {},
   "cell_type": "markdown",
   "metadata": {},
   "source": [
    "Answer:  \n",
    "$$ log\\sum_{i=1}^{N}e^{x_i} = log\\sum_{i=1}^{N}e^{x_i-a}e^a = \\\n",
    "log(e^a) + log\\sum_{i=1}^{N}e^{x_i-a} = a + log\\sum_{i=1}^Ne^{x_i - a} $$"
   ]
  },
  {
   "attachments": {},
   "cell_type": "markdown",
   "metadata": {},
   "source": [
    "### Problem 2:  \n",
    "Similar to the previous exercise we can compute the output of the softmax function \n",
    "$ \\pi_i = \\frac{e^{x_i}}{\\sum_{i=1}^{N}e^{x_i}} $ \n",
    "in a numerically stable way by shifting by an arbitrary constant a:\n",
    "$$ \\frac{e^{x_i}}{\\sum_{i=1}^{N}e^{x_i}} = \\frac{e^{x_i-1}}{\\sum_{i=1}^{N}e^{x_i-1}} $$"
   ]
  },
  {
   "attachments": {},
   "cell_type": "markdown",
   "metadata": {},
   "source": [
    "Answer:  \n",
    "$$ \\frac{e^{x_i}}{\\sum_{i=1}^{N}e^{x_i}} = \\frac{e^{x_i-a}e^a}{e^a\\sum_{i=1}^{N}e^{x_i-a}} = \\frac{e^{x_i-a}}{\\sum_{i=1}^{N}e^{x_i-a}} $$"
   ]
  }
 ],
 "metadata": {
  "language_info": {
   "name": "python"
  },
  "orig_nbformat": 4
 },
 "nbformat": 4,
 "nbformat_minor": 2
}
