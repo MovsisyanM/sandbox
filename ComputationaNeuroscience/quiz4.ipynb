{
 "cells": [
  {
   "attachments": {},
   "cell_type": "markdown",
   "metadata": {},
   "source": [
    "# Computational Neuroscience\n",
    "### Week 4 quiz\n",
    "###### by Mher Movsisyan"
   ]
  },
  {
   "cell_type": "code",
   "execution_count": 1,
   "metadata": {},
   "outputs": [],
   "source": [
    "import numpy as np\n",
    "import pandas as pd\n",
    "from matplotlib import pyplot as plt"
   ]
  },
  {
   "cell_type": "code",
   "execution_count": 2,
   "metadata": {},
   "outputs": [
    {
     "data": {
      "text/plain": [
       "0.4689955935892812"
      ]
     },
     "execution_count": 2,
     "metadata": {},
     "output_type": "execute_result"
    }
   ],
   "source": [
    "# question 1:\n",
    "\n",
    "\n",
    "entropy_binom = lambda p: -((np.log2(p) * p) + (np.log2(1-p) * (1-p)))\n",
    "F_p = 0.1\n",
    "\n",
    "entropy_binom(F_p)"
   ]
  },
  {
   "cell_type": "code",
   "execution_count": 4,
   "metadata": {},
   "outputs": [
    {
     "data": {
      "text/plain": [
       "0.3253687071873599"
      ]
     },
     "execution_count": 4,
     "metadata": {},
     "output_type": "execute_result"
    }
   ],
   "source": [
    "# question 2\n",
    "S_p = 0.1 # probability of stimulus\n",
    "F_p_s = 0.5 # probability of neuron firing given stimulus\n",
    "F_p_ns = 1/18 # prob of neuron firing given no stim\n",
    "def mutual_info(stim_p, p_s, p_ns): \n",
    "    running_information = 0\n",
    "    stimulus_ps = [1 - stim_p, stim_p]\n",
    "    response_ps_s = [[1 - p_ns, p_ns],\n",
    "                     [1 - p_s, p_s]]\n",
    "    joint_pdf = lambda s, p: s * p\n",
    "    p_r = np.sum([response_ps_s[s][1] for s in [0, 1]])\n",
    "\n",
    "    for s in [0, 1]:\n",
    "        for r in [0, 1]:\n",
    "            running_information += (p_sr := joint_pdf(\n",
    "                    (p_s := stimulus_ps[s]), \n",
    "                    (response_ps_s[s][r]))\n",
    "                ) * np.log(p_sr/(p_r * p_s))\n",
    "\n",
    "    return running_information\n",
    "\n",
    "mutual_info(S_p, F_p_s, F_p_ns)"
   ]
  },
  {
   "cell_type": "code",
   "execution_count": null,
   "metadata": {},
   "outputs": [],
   "source": []
  }
 ],
 "metadata": {
  "kernelspec": {
   "display_name": "Python 3",
   "language": "python",
   "name": "python3"
  },
  "language_info": {
   "codemirror_mode": {
    "name": "ipython",
    "version": 3
   },
   "file_extension": ".py",
   "mimetype": "text/x-python",
   "name": "python",
   "nbconvert_exporter": "python",
   "pygments_lexer": "ipython3",
   "version": "3.11.4"
  },
  "orig_nbformat": 4
 },
 "nbformat": 4,
 "nbformat_minor": 2
}
