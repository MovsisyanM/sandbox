{
 "cells": [
  {
   "cell_type": "code",
   "execution_count": 1,
   "metadata": {},
   "outputs": [],
   "source": [
    "import requests\n",
    "from datetime import datetime\n",
    "from sqlalchemy import create_engine, text\n",
    "from quicknotifier import notify"
   ]
  },
  {
   "cell_type": "code",
   "execution_count": 9,
   "metadata": {},
   "outputs": [
    {
     "name": "stdout",
     "output_type": "stream",
     "text": [
      "2023-04-19 22:31:26.040606 200 35 https://www.movsisyan.info\n"
     ]
    }
   ],
   "source": [
    "endpoints = [\"https://www.movsisyan.info\"]\n",
    "\n",
    "with open(\"secret4.txt\") as f:\n",
    "    secret4 = f.read()\n",
    "\n",
    "engine = create_engine(\n",
    "    f\"mysql+mysqlconnector://{secret4}@movsisyan.info/movsisya_dashboard\")\n",
    "\n",
    "with engine.connect() as connection:\n",
    "    for endpoint in endpoints:\n",
    "        start = datetime.now()\n",
    "        r = requests.get(endpoint)\n",
    "        end = datetime.now()\n",
    "\n",
    "        ms = int((end - start).microseconds /1000)\n",
    "        print(start, r.status_code, ms, endpoint)\n",
    "        connection.execute(text(\n",
    "            f\"INSERT INTO `uptime_log`(`time`, `status_code`, `ms`, `endpoint`) \\\n",
    "                VALUES ('{start.strftime('%Y/%m/%d %H:%M:%S')}','{r.status_code}','{ms}','{endpoint}')\"))\n",
    "        if r.status_code != 200:\n",
    "            notify(f\"Status code {r.status_code} while checking uptime of {endpoint}. {r.content}\")\n",
    "        if ms > 2000:\n",
    "            notify(f\"High response time {ms}ms while checking uptime of {endpoint}.\")\n",
    "        "
   ]
  },
  {
   "cell_type": "code",
   "execution_count": 26,
   "metadata": {},
   "outputs": [],
   "source": [
    "import requests\n",
    "from datetime import datetime\n",
    "from sqlalchemy import create_engine, text\n",
    "from sqlalchemy.exc import ResourceClosedError\n",
    "from quicknotifier import notify\n",
    "import os\n",
    "\n",
    "endpoints = [\"https://www.movsisyan.info\"]\n",
    "\n",
    "with open(\"secret.txt\") as f:\n",
    "    engine = create_engine(\n",
    "        f\"mysql+mysqlconnector://{f.read()}@movsisyan.info/movsisya_dashboard\")\n",
    "\n",
    "sql_scripts = {}\n",
    "for script in os.listdir(\"scripts\"):\n",
    "    with open(\"scripts/\" + script) as f:\n",
    "        sql_scripts[script] = f.read()\n",
    "\n",
    "with engine.connect() as connection:\n",
    "    for script in sorted(sql_scripts.keys()):\n",
    "        try: \n",
    "            result = connection.execute(text(sql_scripts[script]))\n",
    "            data = {key: [] for key in result.keys()}\n",
    "            for i, row in enumerate(result):\n",
    "                [data[list(data.keys())[col]].append(value)\n",
    "                for col, value in enumerate(row)]\n",
    "            \n",
    "            if \"ms\" in data.keys():\n",
    "                notify(f\"Latency today:\\n\\t\\tMin\\t{str(data['ms'][0]).rjust(5)}ms,\\n\\t\\t25%\" +\n",
    "                       f\"\\t{str(data['ms'][1]).rjust(5)}ms\\n\\t\\t50%\\t{str(data['ms'][2]).rjust(5)}ms\" +\n",
    "                       f\"\\n\\t\\t75%\\t{str(data['ms'][3]).rjust(5)}ms\\n\\t\\tMax\\t{str(data['ms'][4]).rjust(5)}ms\")\n",
    "        except ResourceClosedError as e:\n",
    "            continue"
   ]
  },
  {
   "cell_type": "code",
   "execution_count": null,
   "metadata": {},
   "outputs": [],
   "source": []
  }
 ],
 "metadata": {
  "kernelspec": {
   "display_name": "Python 3",
   "language": "python",
   "name": "python3"
  },
  "language_info": {
   "codemirror_mode": {
    "name": "ipython",
    "version": 3
   },
   "file_extension": ".py",
   "mimetype": "text/x-python",
   "name": "python",
   "nbconvert_exporter": "python",
   "pygments_lexer": "ipython3",
   "version": "3.11.3"
  },
  "orig_nbformat": 4
 },
 "nbformat": 4,
 "nbformat_minor": 2
}
