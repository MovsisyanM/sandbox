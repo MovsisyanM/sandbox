{
 "cells": [
  {
   "cell_type": "code",
   "execution_count": 1,
   "id": "343d6db2",
   "metadata": {
    "_cell_guid": "b1076dfc-b9ad-4769-8c92-a6c4dae69d19",
    "_uuid": "8f2839f25d086af736a60e9eeb907d3b93b6e0e5",
    "execution": {
     "iopub.execute_input": "2021-11-02T18:57:15.196436Z",
     "iopub.status.busy": "2021-11-02T18:57:15.194367Z",
     "iopub.status.idle": "2021-11-02T18:57:16.159943Z",
     "shell.execute_reply": "2021-11-02T18:57:16.159084Z",
     "shell.execute_reply.started": "2021-11-02T18:28:49.789269Z"
    },
    "papermill": {
     "duration": 0.979543,
     "end_time": "2021-11-02T18:57:16.160171",
     "exception": false,
     "start_time": "2021-11-02T18:57:15.180628",
     "status": "completed"
    },
    "tags": []
   },
   "outputs": [],
   "source": [
    "import numpy as np\n",
    "import pandas as pd\n",
    "from sklearn.datasets import load_wine\n",
    "from sklearn.model_selection import train_test_split"
   ]
  },
  {
   "cell_type": "code",
   "execution_count": 2,
   "id": "44c40f71",
   "metadata": {
    "execution": {
     "iopub.execute_input": "2021-11-02T18:57:16.180959Z",
     "iopub.status.busy": "2021-11-02T18:57:16.179894Z",
     "iopub.status.idle": "2021-11-02T18:57:16.215763Z",
     "shell.execute_reply": "2021-11-02T18:57:16.215165Z",
     "shell.execute_reply.started": "2021-11-02T18:28:51.456536Z"
    },
    "papermill": {
     "duration": 0.048359,
     "end_time": "2021-11-02T18:57:16.215911",
     "exception": false,
     "start_time": "2021-11-02T18:57:16.167552",
     "status": "completed"
    },
    "tags": []
   },
   "outputs": [
    {
     "data": {
      "text/plain": [
       "(     alcohol  malic_acid   ash  alcalinity_of_ash  magnesium  total_phenols  \\\n",
       " 0      14.23        1.71  2.43               15.6      127.0           2.80   \n",
       " 1      13.20        1.78  2.14               11.2      100.0           2.65   \n",
       " 2      13.16        2.36  2.67               18.6      101.0           2.80   \n",
       " 3      14.37        1.95  2.50               16.8      113.0           3.85   \n",
       " 4      13.24        2.59  2.87               21.0      118.0           2.80   \n",
       " ..       ...         ...   ...                ...        ...            ...   \n",
       " 173    13.71        5.65  2.45               20.5       95.0           1.68   \n",
       " 174    13.40        3.91  2.48               23.0      102.0           1.80   \n",
       " 175    13.27        4.28  2.26               20.0      120.0           1.59   \n",
       " 176    13.17        2.59  2.37               20.0      120.0           1.65   \n",
       " 177    14.13        4.10  2.74               24.5       96.0           2.05   \n",
       " \n",
       "      flavanoids  nonflavanoid_phenols  proanthocyanins  color_intensity   hue  \\\n",
       " 0          3.06                  0.28             2.29             5.64  1.04   \n",
       " 1          2.76                  0.26             1.28             4.38  1.05   \n",
       " 2          3.24                  0.30             2.81             5.68  1.03   \n",
       " 3          3.49                  0.24             2.18             7.80  0.86   \n",
       " 4          2.69                  0.39             1.82             4.32  1.04   \n",
       " ..          ...                   ...              ...              ...   ...   \n",
       " 173        0.61                  0.52             1.06             7.70  0.64   \n",
       " 174        0.75                  0.43             1.41             7.30  0.70   \n",
       " 175        0.69                  0.43             1.35            10.20  0.59   \n",
       " 176        0.68                  0.53             1.46             9.30  0.60   \n",
       " 177        0.76                  0.56             1.35             9.20  0.61   \n",
       " \n",
       "      od280/od315_of_diluted_wines  proline  \n",
       " 0                            3.92   1065.0  \n",
       " 1                            3.40   1050.0  \n",
       " 2                            3.17   1185.0  \n",
       " 3                            3.45   1480.0  \n",
       " 4                            2.93    735.0  \n",
       " ..                            ...      ...  \n",
       " 173                          1.74    740.0  \n",
       " 174                          1.56    750.0  \n",
       " 175                          1.56    835.0  \n",
       " 176                          1.62    840.0  \n",
       " 177                          1.60    560.0  \n",
       " \n",
       " [178 rows x 13 columns],\n",
       " 0      0\n",
       " 1      0\n",
       " 2      0\n",
       " 3      0\n",
       " 4      0\n",
       "       ..\n",
       " 173    2\n",
       " 174    2\n",
       " 175    2\n",
       " 176    2\n",
       " 177    2\n",
       " Length: 178, dtype: int64)"
      ]
     },
     "execution_count": 2,
     "metadata": {},
     "output_type": "execute_result"
    }
   ],
   "source": [
    "data = load_wine()\n",
    "x = pd.DataFrame(data[\"data\"], columns = data[\"feature_names\"])\n",
    "y = pd.Series(data[\"target\"])\n",
    "x, y"
   ]
  },
  {
   "cell_type": "code",
   "execution_count": 3,
   "id": "e5f3b6c8",
   "metadata": {
    "execution": {
     "iopub.execute_input": "2021-11-02T18:57:16.234228Z",
     "iopub.status.busy": "2021-11-02T18:57:16.233517Z",
     "iopub.status.idle": "2021-11-02T18:57:24.825095Z",
     "shell.execute_reply": "2021-11-02T18:57:24.826540Z",
     "shell.execute_reply.started": "2021-11-02T18:28:52.591352Z"
    },
    "papermill": {
     "duration": 8.60324,
     "end_time": "2021-11-02T18:57:24.826827",
     "exception": false,
     "start_time": "2021-11-02T18:57:16.223587",
     "status": "completed"
    },
    "tags": []
   },
   "outputs": [
    {
     "name": "stdout",
     "output_type": "stream",
     "text": [
      "Checking whether there is an H2O instance running at http://localhost:54321 ..... not found.\n",
      "Attempting to start a local H2O server...\n",
      "  Java Version: openjdk version \"11.0.11\" 2021-04-20; OpenJDK Runtime Environment (build 11.0.11+9-Ubuntu-0ubuntu2.18.04); OpenJDK 64-Bit Server VM (build 11.0.11+9-Ubuntu-0ubuntu2.18.04, mixed mode, sharing)\n",
      "  Starting server from /opt/conda/lib/python3.7/site-packages/h2o/backend/bin/h2o.jar\n",
      "  Ice root: /tmp/tmpnezm3shi\n",
      "  JVM stdout: /tmp/tmpnezm3shi/h2o_unknownUser_started_from_python.out\n",
      "  JVM stderr: /tmp/tmpnezm3shi/h2o_unknownUser_started_from_python.err\n",
      "  Server is running at http://127.0.0.1:54321\n",
      "Connecting to H2O server at http://127.0.0.1:54321 ... successful.\n"
     ]
    },
    {
     "data": {
      "text/html": [
       "<div style=\"overflow:auto\"><table style=\"width:50%\"><tr><td>H2O_cluster_uptime:</td>\n",
       "<td>02 secs</td></tr>\n",
       "<tr><td>H2O_cluster_timezone:</td>\n",
       "<td>Etc/UTC</td></tr>\n",
       "<tr><td>H2O_data_parsing_timezone:</td>\n",
       "<td>UTC</td></tr>\n",
       "<tr><td>H2O_cluster_version:</td>\n",
       "<td>3.34.0.3</td></tr>\n",
       "<tr><td>H2O_cluster_version_age:</td>\n",
       "<td>26 days </td></tr>\n",
       "<tr><td>H2O_cluster_name:</td>\n",
       "<td>H2O_from_python_unknownUser_lalelh</td></tr>\n",
       "<tr><td>H2O_cluster_total_nodes:</td>\n",
       "<td>1</td></tr>\n",
       "<tr><td>H2O_cluster_free_memory:</td>\n",
       "<td>4 Gb</td></tr>\n",
       "<tr><td>H2O_cluster_total_cores:</td>\n",
       "<td>4</td></tr>\n",
       "<tr><td>H2O_cluster_allowed_cores:</td>\n",
       "<td>4</td></tr>\n",
       "<tr><td>H2O_cluster_status:</td>\n",
       "<td>locked, healthy</td></tr>\n",
       "<tr><td>H2O_connection_url:</td>\n",
       "<td>http://127.0.0.1:54321</td></tr>\n",
       "<tr><td>H2O_connection_proxy:</td>\n",
       "<td>{\"http\": null, \"https\": null}</td></tr>\n",
       "<tr><td>H2O_internal_security:</td>\n",
       "<td>False</td></tr>\n",
       "<tr><td>H2O_API_Extensions:</td>\n",
       "<td>Amazon S3, XGBoost, Algos, AutoML, Core V3, TargetEncoder, Core V4</td></tr>\n",
       "<tr><td>Python_version:</td>\n",
       "<td>3.7.10 final</td></tr></table></div>"
      ],
      "text/plain": [
       "--------------------------  ------------------------------------------------------------------\n",
       "H2O_cluster_uptime:         02 secs\n",
       "H2O_cluster_timezone:       Etc/UTC\n",
       "H2O_data_parsing_timezone:  UTC\n",
       "H2O_cluster_version:        3.34.0.3\n",
       "H2O_cluster_version_age:    26 days\n",
       "H2O_cluster_name:           H2O_from_python_unknownUser_lalelh\n",
       "H2O_cluster_total_nodes:    1\n",
       "H2O_cluster_free_memory:    4 Gb\n",
       "H2O_cluster_total_cores:    4\n",
       "H2O_cluster_allowed_cores:  4\n",
       "H2O_cluster_status:         locked, healthy\n",
       "H2O_connection_url:         http://127.0.0.1:54321\n",
       "H2O_connection_proxy:       {\"http\": null, \"https\": null}\n",
       "H2O_internal_security:      False\n",
       "H2O_API_Extensions:         Amazon S3, XGBoost, Algos, AutoML, Core V3, TargetEncoder, Core V4\n",
       "Python_version:             3.7.10 final\n",
       "--------------------------  ------------------------------------------------------------------"
      ]
     },
     "metadata": {},
     "output_type": "display_data"
    },
    {
     "name": "stdout",
     "output_type": "stream",
     "text": [
      "Parse progress: |████████████████████████████████████████████████████████████████| (done) 100%\n"
     ]
    }
   ],
   "source": [
    "import h2o\n",
    "from h2o.automl import H2OAutoML\n",
    "df = pd.concat([x, pd.DataFrame(y.fillna(0), columns=[\"target\"])], axis=1)\n",
    "h2o.init()\n",
    "hf = h2o.H2OFrame(df)"
   ]
  },
  {
   "cell_type": "code",
   "execution_count": 4,
   "id": "a5e56ae2",
   "metadata": {
    "execution": {
     "iopub.execute_input": "2021-11-02T18:57:24.876016Z",
     "iopub.status.busy": "2021-11-02T18:57:24.874988Z",
     "iopub.status.idle": "2021-11-02T18:57:25.012534Z",
     "shell.execute_reply": "2021-11-02T18:57:25.013464Z",
     "shell.execute_reply.started": "2021-11-02T18:30:11.342531Z"
    },
    "papermill": {
     "duration": 0.163037,
     "end_time": "2021-11-02T18:57:25.013740",
     "exception": false,
     "start_time": "2021-11-02T18:57:24.850703",
     "status": "completed"
    },
    "tags": []
   },
   "outputs": [
    {
     "data": {
      "text/html": [
       "<table>\n",
       "<thead>\n",
       "<tr><th style=\"text-align: right;\">  alcohol</th><th style=\"text-align: right;\">  malic_acid</th><th style=\"text-align: right;\">  ash</th><th style=\"text-align: right;\">  alcalinity_of_ash</th><th style=\"text-align: right;\">  magnesium</th><th style=\"text-align: right;\">  total_phenols</th><th style=\"text-align: right;\">  flavanoids</th><th style=\"text-align: right;\">  nonflavanoid_phenols</th><th style=\"text-align: right;\">  proanthocyanins</th><th style=\"text-align: right;\">  color_intensity</th><th style=\"text-align: right;\">  hue</th><th style=\"text-align: right;\">  od280/od315_of_diluted_wines</th><th style=\"text-align: right;\">  proline</th><th style=\"text-align: right;\">  target</th></tr>\n",
       "</thead>\n",
       "<tbody>\n",
       "<tr><td style=\"text-align: right;\">    13.58</td><td style=\"text-align: right;\">        2.58</td><td style=\"text-align: right;\"> 2.69</td><td style=\"text-align: right;\">               24.5</td><td style=\"text-align: right;\">        105</td><td style=\"text-align: right;\">           1.55</td><td style=\"text-align: right;\">        0.84</td><td style=\"text-align: right;\">                  0.39</td><td style=\"text-align: right;\">             1.54</td><td style=\"text-align: right;\">             8.66</td><td style=\"text-align: right;\"> 0.74</td><td style=\"text-align: right;\">                          1.8 </td><td style=\"text-align: right;\">      750</td><td style=\"text-align: right;\">       2</td></tr>\n",
       "<tr><td style=\"text-align: right;\">    13.4 </td><td style=\"text-align: right;\">        4.6 </td><td style=\"text-align: right;\"> 2.86</td><td style=\"text-align: right;\">               25  </td><td style=\"text-align: right;\">        112</td><td style=\"text-align: right;\">           1.98</td><td style=\"text-align: right;\">        0.96</td><td style=\"text-align: right;\">                  0.27</td><td style=\"text-align: right;\">             1.11</td><td style=\"text-align: right;\">             8.5 </td><td style=\"text-align: right;\"> 0.67</td><td style=\"text-align: right;\">                          1.92</td><td style=\"text-align: right;\">      630</td><td style=\"text-align: right;\">       2</td></tr>\n",
       "<tr><td style=\"text-align: right;\">    12.2 </td><td style=\"text-align: right;\">        3.03</td><td style=\"text-align: right;\"> 2.32</td><td style=\"text-align: right;\">               19  </td><td style=\"text-align: right;\">         96</td><td style=\"text-align: right;\">           1.25</td><td style=\"text-align: right;\">        0.49</td><td style=\"text-align: right;\">                  0.4 </td><td style=\"text-align: right;\">             0.73</td><td style=\"text-align: right;\">             5.5 </td><td style=\"text-align: right;\"> 0.66</td><td style=\"text-align: right;\">                          1.83</td><td style=\"text-align: right;\">      510</td><td style=\"text-align: right;\">       2</td></tr>\n",
       "<tr><td style=\"text-align: right;\">    12.77</td><td style=\"text-align: right;\">        2.39</td><td style=\"text-align: right;\"> 2.28</td><td style=\"text-align: right;\">               19.5</td><td style=\"text-align: right;\">         86</td><td style=\"text-align: right;\">           1.39</td><td style=\"text-align: right;\">        0.51</td><td style=\"text-align: right;\">                  0.48</td><td style=\"text-align: right;\">             0.64</td><td style=\"text-align: right;\">             9.9 </td><td style=\"text-align: right;\"> 0.57</td><td style=\"text-align: right;\">                          1.63</td><td style=\"text-align: right;\">      470</td><td style=\"text-align: right;\">       2</td></tr>\n",
       "<tr><td style=\"text-align: right;\">    14.16</td><td style=\"text-align: right;\">        2.51</td><td style=\"text-align: right;\"> 2.48</td><td style=\"text-align: right;\">               20  </td><td style=\"text-align: right;\">         91</td><td style=\"text-align: right;\">           1.68</td><td style=\"text-align: right;\">        0.7 </td><td style=\"text-align: right;\">                  0.44</td><td style=\"text-align: right;\">             1.24</td><td style=\"text-align: right;\">             9.7 </td><td style=\"text-align: right;\"> 0.62</td><td style=\"text-align: right;\">                          1.71</td><td style=\"text-align: right;\">      660</td><td style=\"text-align: right;\">       2</td></tr>\n",
       "<tr><td style=\"text-align: right;\">    13.71</td><td style=\"text-align: right;\">        5.65</td><td style=\"text-align: right;\"> 2.45</td><td style=\"text-align: right;\">               20.5</td><td style=\"text-align: right;\">         95</td><td style=\"text-align: right;\">           1.68</td><td style=\"text-align: right;\">        0.61</td><td style=\"text-align: right;\">                  0.52</td><td style=\"text-align: right;\">             1.06</td><td style=\"text-align: right;\">             7.7 </td><td style=\"text-align: right;\"> 0.64</td><td style=\"text-align: right;\">                          1.74</td><td style=\"text-align: right;\">      740</td><td style=\"text-align: right;\">       2</td></tr>\n",
       "<tr><td style=\"text-align: right;\">    13.4 </td><td style=\"text-align: right;\">        3.91</td><td style=\"text-align: right;\"> 2.48</td><td style=\"text-align: right;\">               23  </td><td style=\"text-align: right;\">        102</td><td style=\"text-align: right;\">           1.8 </td><td style=\"text-align: right;\">        0.75</td><td style=\"text-align: right;\">                  0.43</td><td style=\"text-align: right;\">             1.41</td><td style=\"text-align: right;\">             7.3 </td><td style=\"text-align: right;\"> 0.7 </td><td style=\"text-align: right;\">                          1.56</td><td style=\"text-align: right;\">      750</td><td style=\"text-align: right;\">       2</td></tr>\n",
       "<tr><td style=\"text-align: right;\">    13.27</td><td style=\"text-align: right;\">        4.28</td><td style=\"text-align: right;\"> 2.26</td><td style=\"text-align: right;\">               20  </td><td style=\"text-align: right;\">        120</td><td style=\"text-align: right;\">           1.59</td><td style=\"text-align: right;\">        0.69</td><td style=\"text-align: right;\">                  0.43</td><td style=\"text-align: right;\">             1.35</td><td style=\"text-align: right;\">            10.2 </td><td style=\"text-align: right;\"> 0.59</td><td style=\"text-align: right;\">                          1.56</td><td style=\"text-align: right;\">      835</td><td style=\"text-align: right;\">       2</td></tr>\n",
       "<tr><td style=\"text-align: right;\">    13.17</td><td style=\"text-align: right;\">        2.59</td><td style=\"text-align: right;\"> 2.37</td><td style=\"text-align: right;\">               20  </td><td style=\"text-align: right;\">        120</td><td style=\"text-align: right;\">           1.65</td><td style=\"text-align: right;\">        0.68</td><td style=\"text-align: right;\">                  0.53</td><td style=\"text-align: right;\">             1.46</td><td style=\"text-align: right;\">             9.3 </td><td style=\"text-align: right;\"> 0.6 </td><td style=\"text-align: right;\">                          1.62</td><td style=\"text-align: right;\">      840</td><td style=\"text-align: right;\">       2</td></tr>\n",
       "<tr><td style=\"text-align: right;\">    14.13</td><td style=\"text-align: right;\">        4.1 </td><td style=\"text-align: right;\"> 2.74</td><td style=\"text-align: right;\">               24.5</td><td style=\"text-align: right;\">         96</td><td style=\"text-align: right;\">           2.05</td><td style=\"text-align: right;\">        0.76</td><td style=\"text-align: right;\">                  0.56</td><td style=\"text-align: right;\">             1.35</td><td style=\"text-align: right;\">             9.2 </td><td style=\"text-align: right;\"> 0.61</td><td style=\"text-align: right;\">                          1.6 </td><td style=\"text-align: right;\">      560</td><td style=\"text-align: right;\">       2</td></tr>\n",
       "</tbody>\n",
       "</table>"
      ]
     },
     "metadata": {},
     "output_type": "display_data"
    },
    {
     "data": {
      "text/plain": []
     },
     "execution_count": 4,
     "metadata": {},
     "output_type": "execute_result"
    }
   ],
   "source": [
    "hf.tail()"
   ]
  },
  {
   "cell_type": "code",
   "execution_count": 5,
   "id": "847616f5",
   "metadata": {
    "execution": {
     "iopub.execute_input": "2021-11-02T18:57:25.048989Z",
     "iopub.status.busy": "2021-11-02T18:57:25.048282Z",
     "iopub.status.idle": "2021-11-02T18:57:25.306883Z",
     "shell.execute_reply": "2021-11-02T18:57:25.307962Z",
     "shell.execute_reply.started": "2021-11-02T18:40:35.619026Z"
    },
    "papermill": {
     "duration": 0.276006,
     "end_time": "2021-11-02T18:57:25.308282",
     "exception": false,
     "start_time": "2021-11-02T18:57:25.032276",
     "status": "completed"
    },
    "tags": []
   },
   "outputs": [
    {
     "data": {
      "text/html": [
       "<table>\n",
       "<thead>\n",
       "<tr><th style=\"text-align: right;\">  alcohol</th><th style=\"text-align: right;\">  malic_acid</th><th style=\"text-align: right;\">  ash</th><th style=\"text-align: right;\">  alcalinity_of_ash</th><th style=\"text-align: right;\">  magnesium</th><th style=\"text-align: right;\">  total_phenols</th><th style=\"text-align: right;\">  flavanoids</th><th style=\"text-align: right;\">  nonflavanoid_phenols</th><th style=\"text-align: right;\">  proanthocyanins</th><th style=\"text-align: right;\">  color_intensity</th><th style=\"text-align: right;\">  hue</th><th style=\"text-align: right;\">  od280/od315_of_diluted_wines</th><th style=\"text-align: right;\">  proline</th><th style=\"text-align: right;\">  target</th></tr>\n",
       "</thead>\n",
       "<tbody>\n",
       "<tr><td style=\"text-align: right;\">    14.23</td><td style=\"text-align: right;\">        1.71</td><td style=\"text-align: right;\"> 2.43</td><td style=\"text-align: right;\">               15.6</td><td style=\"text-align: right;\">        127</td><td style=\"text-align: right;\">           2.8 </td><td style=\"text-align: right;\">        3.06</td><td style=\"text-align: right;\">                  0.28</td><td style=\"text-align: right;\">             2.29</td><td style=\"text-align: right;\">             5.64</td><td style=\"text-align: right;\"> 1.04</td><td style=\"text-align: right;\">                          3.92</td><td style=\"text-align: right;\">     1065</td><td style=\"text-align: right;\">       0</td></tr>\n",
       "<tr><td style=\"text-align: right;\">    13.2 </td><td style=\"text-align: right;\">        1.78</td><td style=\"text-align: right;\"> 2.14</td><td style=\"text-align: right;\">               11.2</td><td style=\"text-align: right;\">        100</td><td style=\"text-align: right;\">           2.65</td><td style=\"text-align: right;\">        2.76</td><td style=\"text-align: right;\">                  0.26</td><td style=\"text-align: right;\">             1.28</td><td style=\"text-align: right;\">             4.38</td><td style=\"text-align: right;\"> 1.05</td><td style=\"text-align: right;\">                          3.4 </td><td style=\"text-align: right;\">     1050</td><td style=\"text-align: right;\">       0</td></tr>\n",
       "<tr><td style=\"text-align: right;\">    13.16</td><td style=\"text-align: right;\">        2.36</td><td style=\"text-align: right;\"> 2.67</td><td style=\"text-align: right;\">               18.6</td><td style=\"text-align: right;\">        101</td><td style=\"text-align: right;\">           2.8 </td><td style=\"text-align: right;\">        3.24</td><td style=\"text-align: right;\">                  0.3 </td><td style=\"text-align: right;\">             2.81</td><td style=\"text-align: right;\">             5.68</td><td style=\"text-align: right;\"> 1.03</td><td style=\"text-align: right;\">                          3.17</td><td style=\"text-align: right;\">     1185</td><td style=\"text-align: right;\">       0</td></tr>\n",
       "<tr><td style=\"text-align: right;\">    14.37</td><td style=\"text-align: right;\">        1.95</td><td style=\"text-align: right;\"> 2.5 </td><td style=\"text-align: right;\">               16.8</td><td style=\"text-align: right;\">        113</td><td style=\"text-align: right;\">           3.85</td><td style=\"text-align: right;\">        3.49</td><td style=\"text-align: right;\">                  0.24</td><td style=\"text-align: right;\">             2.18</td><td style=\"text-align: right;\">             7.8 </td><td style=\"text-align: right;\"> 0.86</td><td style=\"text-align: right;\">                          3.45</td><td style=\"text-align: right;\">     1480</td><td style=\"text-align: right;\">       0</td></tr>\n",
       "<tr><td style=\"text-align: right;\">    13.24</td><td style=\"text-align: right;\">        2.59</td><td style=\"text-align: right;\"> 2.87</td><td style=\"text-align: right;\">               21  </td><td style=\"text-align: right;\">        118</td><td style=\"text-align: right;\">           2.8 </td><td style=\"text-align: right;\">        2.69</td><td style=\"text-align: right;\">                  0.39</td><td style=\"text-align: right;\">             1.82</td><td style=\"text-align: right;\">             4.32</td><td style=\"text-align: right;\"> 1.04</td><td style=\"text-align: right;\">                          2.93</td><td style=\"text-align: right;\">      735</td><td style=\"text-align: right;\">       0</td></tr>\n",
       "<tr><td style=\"text-align: right;\">    14.2 </td><td style=\"text-align: right;\">        1.76</td><td style=\"text-align: right;\"> 2.45</td><td style=\"text-align: right;\">               15.2</td><td style=\"text-align: right;\">        112</td><td style=\"text-align: right;\">           3.27</td><td style=\"text-align: right;\">        3.39</td><td style=\"text-align: right;\">                  0.34</td><td style=\"text-align: right;\">             1.97</td><td style=\"text-align: right;\">             6.75</td><td style=\"text-align: right;\"> 1.05</td><td style=\"text-align: right;\">                          2.85</td><td style=\"text-align: right;\">     1450</td><td style=\"text-align: right;\">       0</td></tr>\n",
       "<tr><td style=\"text-align: right;\">    14.39</td><td style=\"text-align: right;\">        1.87</td><td style=\"text-align: right;\"> 2.45</td><td style=\"text-align: right;\">               14.6</td><td style=\"text-align: right;\">         96</td><td style=\"text-align: right;\">           2.5 </td><td style=\"text-align: right;\">        2.52</td><td style=\"text-align: right;\">                  0.3 </td><td style=\"text-align: right;\">             1.98</td><td style=\"text-align: right;\">             5.25</td><td style=\"text-align: right;\"> 1.02</td><td style=\"text-align: right;\">                          3.58</td><td style=\"text-align: right;\">     1290</td><td style=\"text-align: right;\">       0</td></tr>\n",
       "<tr><td style=\"text-align: right;\">    14.06</td><td style=\"text-align: right;\">        2.15</td><td style=\"text-align: right;\"> 2.61</td><td style=\"text-align: right;\">               17.6</td><td style=\"text-align: right;\">        121</td><td style=\"text-align: right;\">           2.6 </td><td style=\"text-align: right;\">        2.51</td><td style=\"text-align: right;\">                  0.31</td><td style=\"text-align: right;\">             1.25</td><td style=\"text-align: right;\">             5.05</td><td style=\"text-align: right;\"> 1.06</td><td style=\"text-align: right;\">                          3.58</td><td style=\"text-align: right;\">     1295</td><td style=\"text-align: right;\">       0</td></tr>\n",
       "<tr><td style=\"text-align: right;\">    14.83</td><td style=\"text-align: right;\">        1.64</td><td style=\"text-align: right;\"> 2.17</td><td style=\"text-align: right;\">               14  </td><td style=\"text-align: right;\">         97</td><td style=\"text-align: right;\">           2.8 </td><td style=\"text-align: right;\">        2.98</td><td style=\"text-align: right;\">                  0.29</td><td style=\"text-align: right;\">             1.98</td><td style=\"text-align: right;\">             5.2 </td><td style=\"text-align: right;\"> 1.08</td><td style=\"text-align: right;\">                          2.85</td><td style=\"text-align: right;\">     1045</td><td style=\"text-align: right;\">       0</td></tr>\n",
       "<tr><td style=\"text-align: right;\">    13.86</td><td style=\"text-align: right;\">        1.35</td><td style=\"text-align: right;\"> 2.27</td><td style=\"text-align: right;\">               16  </td><td style=\"text-align: right;\">         98</td><td style=\"text-align: right;\">           2.98</td><td style=\"text-align: right;\">        3.15</td><td style=\"text-align: right;\">                  0.22</td><td style=\"text-align: right;\">             1.85</td><td style=\"text-align: right;\">             7.22</td><td style=\"text-align: right;\"> 1.01</td><td style=\"text-align: right;\">                          3.55</td><td style=\"text-align: right;\">     1045</td><td style=\"text-align: right;\">       0</td></tr>\n",
       "</tbody>\n",
       "</table>"
      ]
     },
     "metadata": {},
     "output_type": "display_data"
    },
    {
     "data": {
      "text/html": [
       "<table>\n",
       "<thead>\n",
       "<tr><th style=\"text-align: right;\">  alcohol</th><th style=\"text-align: right;\">  malic_acid</th><th style=\"text-align: right;\">  ash</th><th style=\"text-align: right;\">  alcalinity_of_ash</th><th style=\"text-align: right;\">  magnesium</th><th style=\"text-align: right;\">  total_phenols</th><th style=\"text-align: right;\">  flavanoids</th><th style=\"text-align: right;\">  nonflavanoid_phenols</th><th style=\"text-align: right;\">  proanthocyanins</th><th style=\"text-align: right;\">  color_intensity</th><th style=\"text-align: right;\">  hue</th><th style=\"text-align: right;\">  od280/od315_of_diluted_wines</th><th style=\"text-align: right;\">  proline</th><th style=\"text-align: right;\">  target</th></tr>\n",
       "</thead>\n",
       "<tbody>\n",
       "<tr><td style=\"text-align: right;\">    14.1 </td><td style=\"text-align: right;\">        2.16</td><td style=\"text-align: right;\"> 2.3 </td><td style=\"text-align: right;\">               18  </td><td style=\"text-align: right;\">        105</td><td style=\"text-align: right;\">           2.95</td><td style=\"text-align: right;\">        3.32</td><td style=\"text-align: right;\">                  0.22</td><td style=\"text-align: right;\">             2.38</td><td style=\"text-align: right;\">             5.75</td><td style=\"text-align: right;\"> 1.25</td><td style=\"text-align: right;\">                          3.17</td><td style=\"text-align: right;\">     1510</td><td style=\"text-align: right;\">       0</td></tr>\n",
       "<tr><td style=\"text-align: right;\">    13.75</td><td style=\"text-align: right;\">        1.73</td><td style=\"text-align: right;\"> 2.41</td><td style=\"text-align: right;\">               16  </td><td style=\"text-align: right;\">         89</td><td style=\"text-align: right;\">           2.6 </td><td style=\"text-align: right;\">        2.76</td><td style=\"text-align: right;\">                  0.29</td><td style=\"text-align: right;\">             1.81</td><td style=\"text-align: right;\">             5.6 </td><td style=\"text-align: right;\"> 1.15</td><td style=\"text-align: right;\">                          2.9 </td><td style=\"text-align: right;\">     1320</td><td style=\"text-align: right;\">       0</td></tr>\n",
       "<tr><td style=\"text-align: right;\">    14.38</td><td style=\"text-align: right;\">        1.87</td><td style=\"text-align: right;\"> 2.38</td><td style=\"text-align: right;\">               12  </td><td style=\"text-align: right;\">        102</td><td style=\"text-align: right;\">           3.3 </td><td style=\"text-align: right;\">        3.64</td><td style=\"text-align: right;\">                  0.29</td><td style=\"text-align: right;\">             2.96</td><td style=\"text-align: right;\">             7.5 </td><td style=\"text-align: right;\"> 1.2 </td><td style=\"text-align: right;\">                          3   </td><td style=\"text-align: right;\">     1547</td><td style=\"text-align: right;\">       0</td></tr>\n",
       "<tr><td style=\"text-align: right;\">    13.63</td><td style=\"text-align: right;\">        1.81</td><td style=\"text-align: right;\"> 2.7 </td><td style=\"text-align: right;\">               17.2</td><td style=\"text-align: right;\">        112</td><td style=\"text-align: right;\">           2.85</td><td style=\"text-align: right;\">        2.91</td><td style=\"text-align: right;\">                  0.3 </td><td style=\"text-align: right;\">             1.46</td><td style=\"text-align: right;\">             7.3 </td><td style=\"text-align: right;\"> 1.28</td><td style=\"text-align: right;\">                          2.88</td><td style=\"text-align: right;\">     1310</td><td style=\"text-align: right;\">       0</td></tr>\n",
       "<tr><td style=\"text-align: right;\">    13.64</td><td style=\"text-align: right;\">        3.1 </td><td style=\"text-align: right;\"> 2.56</td><td style=\"text-align: right;\">               15.2</td><td style=\"text-align: right;\">        116</td><td style=\"text-align: right;\">           2.7 </td><td style=\"text-align: right;\">        3.03</td><td style=\"text-align: right;\">                  0.17</td><td style=\"text-align: right;\">             1.66</td><td style=\"text-align: right;\">             5.1 </td><td style=\"text-align: right;\"> 0.96</td><td style=\"text-align: right;\">                          3.36</td><td style=\"text-align: right;\">      845</td><td style=\"text-align: right;\">       0</td></tr>\n",
       "<tr><td style=\"text-align: right;\">    13.71</td><td style=\"text-align: right;\">        1.86</td><td style=\"text-align: right;\"> 2.36</td><td style=\"text-align: right;\">               16.6</td><td style=\"text-align: right;\">        101</td><td style=\"text-align: right;\">           2.61</td><td style=\"text-align: right;\">        2.88</td><td style=\"text-align: right;\">                  0.27</td><td style=\"text-align: right;\">             1.69</td><td style=\"text-align: right;\">             3.8 </td><td style=\"text-align: right;\"> 1.11</td><td style=\"text-align: right;\">                          4   </td><td style=\"text-align: right;\">     1035</td><td style=\"text-align: right;\">       0</td></tr>\n",
       "<tr><td style=\"text-align: right;\">    12.85</td><td style=\"text-align: right;\">        1.6 </td><td style=\"text-align: right;\"> 2.52</td><td style=\"text-align: right;\">               17.8</td><td style=\"text-align: right;\">         95</td><td style=\"text-align: right;\">           2.48</td><td style=\"text-align: right;\">        2.37</td><td style=\"text-align: right;\">                  0.26</td><td style=\"text-align: right;\">             1.46</td><td style=\"text-align: right;\">             3.93</td><td style=\"text-align: right;\"> 1.09</td><td style=\"text-align: right;\">                          3.63</td><td style=\"text-align: right;\">     1015</td><td style=\"text-align: right;\">       0</td></tr>\n",
       "<tr><td style=\"text-align: right;\">    13.5 </td><td style=\"text-align: right;\">        1.81</td><td style=\"text-align: right;\"> 2.61</td><td style=\"text-align: right;\">               20  </td><td style=\"text-align: right;\">         96</td><td style=\"text-align: right;\">           2.53</td><td style=\"text-align: right;\">        2.61</td><td style=\"text-align: right;\">                  0.28</td><td style=\"text-align: right;\">             1.66</td><td style=\"text-align: right;\">             3.52</td><td style=\"text-align: right;\"> 1.12</td><td style=\"text-align: right;\">                          3.82</td><td style=\"text-align: right;\">      845</td><td style=\"text-align: right;\">       0</td></tr>\n",
       "<tr><td style=\"text-align: right;\">    13.3 </td><td style=\"text-align: right;\">        1.72</td><td style=\"text-align: right;\"> 2.14</td><td style=\"text-align: right;\">               17  </td><td style=\"text-align: right;\">         94</td><td style=\"text-align: right;\">           2.4 </td><td style=\"text-align: right;\">        2.19</td><td style=\"text-align: right;\">                  0.27</td><td style=\"text-align: right;\">             1.35</td><td style=\"text-align: right;\">             3.95</td><td style=\"text-align: right;\"> 1.02</td><td style=\"text-align: right;\">                          2.77</td><td style=\"text-align: right;\">     1285</td><td style=\"text-align: right;\">       0</td></tr>\n",
       "<tr><td style=\"text-align: right;\">    13.58</td><td style=\"text-align: right;\">        1.66</td><td style=\"text-align: right;\"> 2.36</td><td style=\"text-align: right;\">               19.1</td><td style=\"text-align: right;\">        106</td><td style=\"text-align: right;\">           2.86</td><td style=\"text-align: right;\">        3.19</td><td style=\"text-align: right;\">                  0.22</td><td style=\"text-align: right;\">             1.95</td><td style=\"text-align: right;\">             6.9 </td><td style=\"text-align: right;\"> 1.09</td><td style=\"text-align: right;\">                          2.88</td><td style=\"text-align: right;\">     1515</td><td style=\"text-align: right;\">       0</td></tr>\n",
       "</tbody>\n",
       "</table>"
      ]
     },
     "metadata": {},
     "output_type": "display_data"
    },
    {
     "data": {
      "text/plain": [
       "(, )"
      ]
     },
     "execution_count": 5,
     "metadata": {},
     "output_type": "execute_result"
    }
   ],
   "source": [
    "train, test = hf.split_frame([0.7], seed=42)\n",
    "train, test"
   ]
  },
  {
   "cell_type": "code",
   "execution_count": 6,
   "id": "211fc58d",
   "metadata": {
    "execution": {
     "iopub.execute_input": "2021-11-02T18:57:25.353612Z",
     "iopub.status.busy": "2021-11-02T18:57:25.352850Z",
     "iopub.status.idle": "2021-11-02T18:59:42.344508Z",
     "shell.execute_reply": "2021-11-02T18:59:42.345120Z",
     "shell.execute_reply.started": "2021-11-02T18:49:23.604393Z"
    },
    "papermill": {
     "duration": 137.011059,
     "end_time": "2021-11-02T18:59:42.345328",
     "exception": false,
     "start_time": "2021-11-02T18:57:25.334269",
     "status": "completed"
    },
    "tags": []
   },
   "outputs": [
    {
     "name": "stdout",
     "output_type": "stream",
     "text": [
      "AutoML progress: |█\n",
      "18:57:28.653: Skipping training of model GBM_1_AutoML_1_20211102_185725 due to exception: water.exceptions.H2OModelBuilderIllegalArgumentException: Illegal argument(s) for GBM model: GBM_1_AutoML_1_20211102_185725.  Details: ERRR on field: _min_rows: The dataset size is too small to split for min_rows=100.0: must have at least 200.0 (weighted) rows, but have only 129.0.\n",
      "\n",
      "\n",
      "██████████████████████████████████████████████████████████████| (done) 100%\n",
      "CPU times: user 8.85 s, sys: 353 ms, total: 9.2 s\n",
      "Wall time: 2min 16s\n",
      "Model Details\n",
      "=============\n",
      "H2OStackedEnsembleEstimator :  Stacked Ensemble\n",
      "Model Key:  StackedEnsemble_AllModels_7_AutoML_1_20211102_185725\n",
      "\n",
      "No model summary for this model\n",
      "\n",
      "ModelMetricsRegressionGLM: stackedensemble\n",
      "** Reported on train data. **\n",
      "\n",
      "MSE: 0.0021578186514686895\n",
      "RMSE: 0.046452326652910395\n",
      "MAE: 0.03808219720908039\n",
      "RMSLE: 0.04041627467405666\n",
      "R^2: 0.9963552314069133\n",
      "Mean Residual Deviance: 0.0021578186514686895\n",
      "Null degrees of freedom: 128\n",
      "Residual degrees of freedom: 116\n",
      "Null deviance: 76.37209302325594\n",
      "Residual deviance: 0.27835860603946094\n",
      "AIC: -397.8006696304313\n",
      "\n",
      "ModelMetricsRegressionGLM: stackedensemble\n",
      "** Reported on cross-validation data. **\n",
      "\n",
      "MSE: 0.025400161097895727\n",
      "RMSE: 0.15937427991334024\n",
      "MAE: 0.09381671466124772\n",
      "RMSLE: 0.09694601203610971\n",
      "R^2: 0.9570966219214289\n",
      "Mean Residual Deviance: 0.025400161097895727\n",
      "Null degrees of freedom: 128\n",
      "Residual degrees of freedom: 114\n",
      "Null deviance: 77.33702276359314\n",
      "Residual deviance: 3.276620781628549\n",
      "AIC: -75.73082780097309\n"
     ]
    },
    {
     "data": {
      "text/plain": []
     },
     "execution_count": 6,
     "metadata": {},
     "output_type": "execute_result"
    }
   ],
   "source": [
    "aml = H2OAutoML(max_models=25, max_runtime_secs_per_model=30, seed=42)\n",
    "\n",
    "%time aml.train(x=list(x.columns), y=\"target\", training_frame=train)"
   ]
  },
  {
   "cell_type": "markdown",
   "id": "39879002",
   "metadata": {
    "papermill": {
     "duration": 0.034,
     "end_time": "2021-11-02T18:59:42.414155",
     "exception": false,
     "start_time": "2021-11-02T18:59:42.380155",
     "status": "completed"
    },
    "tags": []
   },
   "source": [
    "That was too easy..."
   ]
  }
 ],
 "metadata": {
  "kernelspec": {
   "display_name": "Python 3",
   "language": "python",
   "name": "python3"
  },
  "language_info": {
   "codemirror_mode": {
    "name": "ipython",
    "version": 3
   },
   "file_extension": ".py",
   "mimetype": "text/x-python",
   "name": "python",
   "nbconvert_exporter": "python",
   "pygments_lexer": "ipython3",
   "version": "3.7.10"
  },
  "papermill": {
   "default_parameters": {},
   "duration": 157.831526,
   "end_time": "2021-11-02T18:59:43.763378",
   "environment_variables": {},
   "exception": null,
   "input_path": "__notebook__.ipynb",
   "output_path": "__notebook__.ipynb",
   "parameters": {},
   "start_time": "2021-11-02T18:57:05.931852",
   "version": "2.3.3"
  }
 },
 "nbformat": 4,
 "nbformat_minor": 5
}
