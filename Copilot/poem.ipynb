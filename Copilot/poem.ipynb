{
 "cells": [
  {
   "cell_type": "markdown",
   "metadata": {},
   "source": [
    "write a poem about IT workers"
   ]
  },
  {
   "cell_type": "markdown",
   "metadata": {},
   "source": [
    "A poem about IT workers  \n",
    "\n",
    "It is a poem about IT workers  \n",
    "who are working in IT  \n",
    "They are working in IT  \n",
    "But they are not IT workers  \n",
    "\n",
    "They are working in IT  \n",
    "But they are not IT workers  "
   ]
  }
 ],
 "metadata": {
  "language_info": {
   "name": "python"
  },
  "orig_nbformat": 4
 },
 "nbformat": 4,
 "nbformat_minor": 2
}
