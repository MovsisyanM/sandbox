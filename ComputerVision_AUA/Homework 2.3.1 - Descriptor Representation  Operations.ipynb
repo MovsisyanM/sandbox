{
 "cells": [
  {
   "cell_type": "markdown",
   "id": "98c1764a",
   "metadata": {},
   "source": [
    "## Installations and Requirements"
   ]
  },
  {
   "cell_type": "code",
   "execution_count": null,
   "id": "9df7d79d",
   "metadata": {},
   "outputs": [],
   "source": [
    "!pip install opencv-python\n",
    "!pip install matplotlib\n",
    "!pip install numpy"
   ]
  },
  {
   "cell_type": "markdown",
   "id": "9a4088ae",
   "metadata": {},
   "source": [
    "# Imports"
   ]
  },
  {
   "cell_type": "code",
   "execution_count": null,
   "id": "b00067ce",
   "metadata": {},
   "outputs": [],
   "source": [
    "import cv2\n",
    "import numpy as np\n",
    "from matplotlib import pyplot as plot\n",
    "from PIL import Image"
   ]
  },
  {
   "cell_type": "markdown",
   "id": "a4887803",
   "metadata": {},
   "source": [
    "# Read Image"
   ]
  },
  {
   "cell_type": "markdown",
   "id": "e11e0c51",
   "metadata": {},
   "source": [
    "### Read image.jpg from the folder (using OpenCV)"
   ]
  },
  {
   "cell_type": "code",
   "execution_count": null,
   "id": "b22e2b71",
   "metadata": {},
   "outputs": [],
   "source": [
    "image_bgr = cv2.imread('./image.jpg')"
   ]
  },
  {
   "cell_type": "markdown",
   "id": "b9680676",
   "metadata": {},
   "source": [
    "### Convert it to Gray (using OpenCV)"
   ]
  },
  {
   "cell_type": "code",
   "execution_count": null,
   "id": "e4d06047",
   "metadata": {},
   "outputs": [],
   "source": [
    "image = cv2.cvtColor(image_bgr, cv2.COLOR_BGR2GRAY)"
   ]
  },
  {
   "cell_type": "markdown",
   "id": "0a043c69",
   "metadata": {},
   "source": [
    "# Descriptor Representations & Operations"
   ]
  },
  {
   "cell_type": "markdown",
   "id": "490ace92",
   "metadata": {},
   "source": [
    "### Implement HOG Descriptor (Using OpenCV)"
   ]
  },
  {
   "cell_type": "code",
   "execution_count": null,
   "id": "3026a901",
   "metadata": {},
   "outputs": [],
   "source": []
  },
  {
   "cell_type": "markdown",
   "id": "a5b6650b",
   "metadata": {},
   "source": [
    "### Implement HOG Descriptor (From Scratch Without OpenCV)"
   ]
  },
  {
   "cell_type": "code",
   "execution_count": null,
   "id": "089d5aa1",
   "metadata": {},
   "outputs": [],
   "source": []
  },
  {
   "cell_type": "code",
   "execution_count": null,
   "id": "e53682a4",
   "metadata": {},
   "outputs": [],
   "source": []
  },
  {
   "cell_type": "code",
   "execution_count": null,
   "id": "d11915fb",
   "metadata": {},
   "outputs": [],
   "source": []
  },
  {
   "cell_type": "code",
   "execution_count": null,
   "id": "10c6969c",
   "metadata": {},
   "outputs": [],
   "source": []
  },
  {
   "cell_type": "code",
   "execution_count": null,
   "id": "4ff0fc0e",
   "metadata": {},
   "outputs": [],
   "source": []
  }
 ],
 "metadata": {
  "kernelspec": {
   "display_name": "Python 3 (ipykernel)",
   "language": "python",
   "name": "python3"
  },
  "language_info": {
   "codemirror_mode": {
    "name": "ipython",
    "version": 3
   },
   "file_extension": ".py",
   "mimetype": "text/x-python",
   "name": "python",
   "nbconvert_exporter": "python",
   "pygments_lexer": "ipython3",
   "version": "3.11.4"
  }
 },
 "nbformat": 4,
 "nbformat_minor": 5
}
