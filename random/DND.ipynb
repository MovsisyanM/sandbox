{
 "cells": [
  {
   "cell_type": "code",
   "execution_count": 54,
   "metadata": {},
   "outputs": [],
   "source": [
    "import random\n",
    "import pandas as pd\n",
    "\n",
    "random.seed(69)\n",
    "\n",
    "player_strength = {\n",
    "    \"Tiko\": 2,\n",
    "    \"Hrach\": 5,\n",
    "    \"Mher\": 3,\n",
    "    \"Garegin\": 2,\n",
    "    \"Vahan\": 0,\n",
    "    \"Alice\": 2,\n",
    "    \"Artur\": 1\n",
    "}\n",
    "\n",
    "player_luck = {\n",
    "    \"Tiko\": 3,\n",
    "    \"Hrach\": 2,\n",
    "    \"Mher\": 2,\n",
    "    \"Garegin\": 3,\n",
    "    \"Vahan\": 3,\n",
    "    \"Alice\": 2,\n",
    "    \"Artur\": 1\n",
    "}\n",
    "\n",
    "player_magic = {\n",
    "    \"Tiko\": 0,\n",
    "    \"Hrach\": 0,\n",
    "    \"Mher\": 0,\n",
    "    \"Garegin\": 3,\n",
    "    \"Vahan\": 2,\n",
    "    \"Alice\": 0,\n",
    "    \"Artur\": 0\n",
    "}\n",
    "\n",
    "player_trust = {}\n",
    "\n",
    "max_roll = 27"
   ]
  },
  {
   "attachments": {},
   "cell_type": "markdown",
   "metadata": {},
   "source": [
    "Attack roll:"
   ]
  },
  {
   "cell_type": "code",
   "execution_count": 66,
   "metadata": {},
   "outputs": [
    {
     "name": "stdout",
     "output_type": "stream",
     "text": [
      "Rolled: 18/27\n",
      "Physical damage: 1.83\n",
      "Magic damage: 2.50\n"
     ]
    }
   ],
   "source": [
    "player = \"Garegin\"\n",
    "print(f\"Rolled: {(roll := random.randint(1, max_roll))}/{max_roll}\")\n",
    "strength = player_strength[player]\n",
    "m_strength = player_magic[player]\n",
    "print(f\"Physical damage: {(strength * roll / max_roll) + (0.5 if player_luck[player] > 2 else 0):.2f}\")\n",
    "print(f\"Magic damage: {(m_strength * roll / max_roll) + (0.5 if player_luck[player] > 2 else 0):.2f}\")"
   ]
  },
  {
   "attachments": {},
   "cell_type": "markdown",
   "metadata": {},
   "source": [
    "Monster agrow"
   ]
  },
  {
   "cell_type": "code",
   "execution_count": 48,
   "metadata": {},
   "outputs": [
    {
     "name": "stdout",
     "output_type": "stream",
     "text": [
      "Monster chooses to attack: Nigo\n"
     ]
    }
   ],
   "source": [
    "if (roll := random.randint(1, max_roll)) <= (max_roll * 0.7):\n",
    "    print(f\"Monster chooses to attack: {min(player_luck, key=player_luck.get)}\")\n",
    "else:\n",
    "    print(f\"Monster chooses to attack: {random.choice(list(player_luck.keys()))}\")"
   ]
  },
  {
   "cell_type": "code",
   "execution_count": null,
   "metadata": {},
   "outputs": [],
   "source": []
  }
 ],
 "metadata": {
  "kernelspec": {
   "display_name": "Python 3",
   "language": "python",
   "name": "python3"
  },
  "language_info": {
   "codemirror_mode": {
    "name": "ipython",
    "version": 3
   },
   "file_extension": ".py",
   "mimetype": "text/x-python",
   "name": "python",
   "nbconvert_exporter": "python",
   "pygments_lexer": "ipython3"
  },
  "orig_nbformat": 4,
  "vscode": {
   "interpreter": {
    "hash": "26de051ba29f2982a8de78e945f0abaf191376122a1563185a90213a26c5da77"
   }
  }
 },
 "nbformat": 4,
 "nbformat_minor": 2
}
