{
 "cells": [
  {
   "cell_type": "markdown",
   "metadata": {},
   "source": [
    "# Creating a deepstream pipeline"
   ]
  },
  {
   "cell_type": "code",
   "execution_count": 1,
   "metadata": {},
   "outputs": [],
   "source": [
    "import sys\n",
    "sys.path.append('../')\n",
    "import gi\n",
    "import configparser\n",
    "gi.require_version('Gst', '1.0')\n",
    "from gi.repository import GLib, Gst\n",
    "from ctypes import *\n",
    "import time\n",
    "import sys\n",
    "import math\n",
    "import platform\n",
    "from common.is_aarch_64 import is_aarch64\n",
    "from common.bus_call import bus_call\n",
    "from common.FPS import PERF_DATA\n",
    "\n",
    "import cv2\n",
    "import numpy as np"
   ]
  },
  {
   "cell_type": "code",
   "execution_count": 2,
   "metadata": {},
   "outputs": [],
   "source": [
    "import pyds"
   ]
  },
  {
   "cell_type": "code",
   "execution_count": 3,
   "metadata": {},
   "outputs": [],
   "source": [
    "import gi\n",
    "\n",
    "perf_data = None\n",
    "\n",
    "MAX_DISPLAY_LEN=64\n",
    "pgie_classes_str= [\"Vehicle\", \"Person\", \"Bike\", \"Roadsign\"]\n",
    "\n",
    "MUXER_OUTPUT_WIDTH=1920\n",
    "MUXER_OUTPUT_HEIGHT=1080\n",
    "MUXER_BATCH_TIMEOUT_USEC=4000000\n",
    "\n",
    "TILED_OUTPUT_WIDTH=1280\n",
    "TILED_OUTPUT_HEIGHT=720\n",
    "\n",
    "GST_CAPS_FEATURES_NVMM=\"memory:NVMM\"\n",
    "\n",
    "OSD_PROCESS_MODE= 0\n",
    "OSD_DISPLAY_TEXT= 1\n",
    "\n",
    "args = [\"testing.py\", \"/opt/nvidia/deepstream/deepstream-6.1/samples/streams/sample_qHD.h264\", \"/home/mher/projects/counter/sample_pyout.h264\"]"
   ]
  },
  {
   "cell_type": "code",
   "execution_count": 4,
   "metadata": {},
   "outputs": [],
   "source": [
    "from common.is_aarch_64 import is_aarch64\n",
    "from common.bus_call import bus_call\n",
    "from common.FPS import PERF_DATA\n",
    "\n",
    "PGIE_CLASS_ID_VEHICLE = 2\n",
    "PGIE_CLASS_ID_PERSON = 0\n",
    "PGIE_CLASS_ID_BICYCLE = 1\n",
    "PGIE_CLASS_ID_ROADSIGN = 3\n",
    "\n",
    "TILED_OUTPUT_WIDTH = 1920\n",
    "TILED_OUTPUT_HEIGHT = 1080"
   ]
  },
  {
   "cell_type": "code",
   "execution_count": 5,
   "metadata": {},
   "outputs": [],
   "source": [
    "def osd_sink_pad_buffer_probe(pad,info,u_data):\n",
    "    frame_number=0\n",
    "    #Intiallizing object counter with 0.\n",
    "    obj_counter = {\n",
    "        PGIE_CLASS_ID_VEHICLE:0,\n",
    "        PGIE_CLASS_ID_PERSON:0,\n",
    "        PGIE_CLASS_ID_BICYCLE:0,\n",
    "        PGIE_CLASS_ID_ROADSIGN:0\n",
    "    }\n",
    "    num_rects=0\n",
    "\n",
    "    gst_buffer = info.get_buffer()\n",
    "    if not gst_buffer:\n",
    "        print(\"Unable to get GstBuffer \")\n",
    "        return\n",
    "\n",
    "    # Retrieve batch metadata from the gst_buffer\n",
    "    # Note that pyds.gst_buffer_get_nvds_batch_meta() expects the\n",
    "    # C address of gst_buffer as input, which is obtained with hash(gst_buffer)\n",
    "    batch_meta = pyds.gst_buffer_get_nvds_batch_meta(hash(gst_buffer))\n",
    "    l_frame = batch_meta.frame_meta_list\n",
    "    while l_frame is not None:\n",
    "        try:\n",
    "            # Note that l_frame.data needs a cast to pyds.NvDsFrameMeta\n",
    "            # The casting is done by pyds.glist_get_nvds_frame_meta()\n",
    "            # The casting also keeps ownership of the underlying memory\n",
    "            # in the C code, so the Python garbage collector will leave\n",
    "            # it alone.\n",
    "            #frame_meta = pyds.glist_get_nvds_frame_meta(l_frame.data)\n",
    "            frame_meta = pyds.NvDsFrameMeta.cast(l_frame.data)\n",
    "        except StopIteration:\n",
    "            break\n",
    "\n",
    "        frame_number=frame_meta.frame_num\n",
    "        num_rects = frame_meta.num_obj_meta\n",
    "        l_obj=frame_meta.obj_meta_list\n",
    "        while l_obj is not None:\n",
    "            try:\n",
    "                # Casting l_obj.data to pyds.NvDsObjectMeta\n",
    "                #obj_meta=pyds.glist_get_nvds_object_meta(l_obj.data)\n",
    "                obj_meta=pyds.NvDsObjectMeta.cast(l_obj.data)\n",
    "            except StopIteration:\n",
    "                break\n",
    "            obj_counter[obj_meta.class_id] += 1\n",
    "#             print(f\"Detected {pgie_classes_str[obj_meta.class_id]}\")\n",
    "            obj_meta.rect_params.border_color.set(0.0, 0.0, 1.0, 0.0)\n",
    "            try: \n",
    "                l_obj=l_obj.next\n",
    "            except StopIteration:\n",
    "                break\n",
    "\n",
    "        # Acquiring a display meta object. The memory ownership remains in\n",
    "        # the C code so downstream plugins can still access it. Otherwise\n",
    "        # the garbage collector will claim it when this probe function exits.\n",
    "        display_meta=pyds.nvds_acquire_display_meta_from_pool(batch_meta)\n",
    "        display_meta.num_labels = 1\n",
    "        py_nvosd_text_params = display_meta.text_params[0]\n",
    "        # Setting display text to be shown on screen\n",
    "        # Note that the pyds module allocates a buffer for the string, and the\n",
    "        # memory will not be claimed by the garbage collector.\n",
    "        # Reading the display_text field here will return the C address of the\n",
    "        # allocated string. Use pyds.get_string() to get the string content.\n",
    "        py_nvosd_text_params.display_text = \"Frame Number={} Number of Objects={} Vehicle_count={} Person_count={}\".format(frame_number, num_rects, obj_counter[PGIE_CLASS_ID_VEHICLE], obj_counter[PGIE_CLASS_ID_PERSON])\n",
    "\n",
    "        # Now set the offsets where the string should appear\n",
    "        py_nvosd_text_params.x_offset = 10\n",
    "        py_nvosd_text_params.y_offset = 12\n",
    "\n",
    "        # Font , font-color and font-size\n",
    "        py_nvosd_text_params.font_params.font_name = \"Serif\"\n",
    "        py_nvosd_text_params.font_params.font_size = 10\n",
    "        # set(red, green, blue, alpha); set to White\n",
    "        py_nvosd_text_params.font_params.font_color.set(1.0, 1.0, 1.0, 1.0)\n",
    "\n",
    "        # Text background color\n",
    "        py_nvosd_text_params.set_bg_clr = 1\n",
    "        # set(red, green, blue, alpha); set to Black\n",
    "        py_nvosd_text_params.text_bg_clr.set(0.0, 0.0, 0.0, 1.0)\n",
    "        # Using pyds.get_string() to get display_text as string\n",
    "        print(pyds.get_string(py_nvosd_text_params.display_text))\n",
    "        pyds.nvds_add_display_meta_to_frame(frame_meta, display_meta)\n",
    "        try:\n",
    "            l_frame=l_frame.next\n",
    "        except StopIteration:\n",
    "            break\n",
    "\n",
    "    return Gst.PadProbeReturn.OK"
   ]
  },
  {
   "cell_type": "code",
   "execution_count": 6,
   "metadata": {},
   "outputs": [
    {
     "name": "stdout",
     "output_type": "stream",
     "text": [
      "Creating Pipeline \n",
      " \n"
     ]
    }
   ],
   "source": [
    "# Standard GStreamer initialization\n",
    "Gst.init(None)\n",
    "\n",
    "# Create gstreamer elements\n",
    "# Create Pipeline element that will form a connection of other elements\n",
    "print(\"Creating Pipeline \\n \")\n",
    "pipeline = Gst.Pipeline()\n",
    "if not pipeline:\n",
    "        print(\" Unable to create Pipeline \\n\")"
   ]
  },
  {
   "cell_type": "code",
   "execution_count": 7,
   "metadata": {},
   "outputs": [
    {
     "name": "stdout",
     "output_type": "stream",
     "text": [
      "Creating Source \n",
      " \n"
     ]
    }
   ],
   "source": [
    "# Source element for reading from the file\n",
    "print(\"Creating Source \\n \")\n",
    "source = Gst.ElementFactory.make(\"filesrc\", \"file-source\")\n",
    "if not source:\n",
    "    print(\" Unable to create Source \\n\")"
   ]
  },
  {
   "cell_type": "code",
   "execution_count": 8,
   "metadata": {},
   "outputs": [
    {
     "name": "stdout",
     "output_type": "stream",
     "text": [
      "Creating H264Parser \n",
      "\n"
     ]
    }
   ],
   "source": [
    "# Since the data format in the input file is elementary h264 stream,\n",
    "# we need a h264parser\n",
    "print(\"Creating H264Parser \\n\")\n",
    "h264parser = Gst.ElementFactory.make(\"h264parse\", \"h264-parser\")\n",
    "if not h264parser:\n",
    "    print(\" Unable to create h264 parser \\n\")"
   ]
  },
  {
   "cell_type": "code",
   "execution_count": 9,
   "metadata": {},
   "outputs": [
    {
     "name": "stdout",
     "output_type": "stream",
     "text": [
      "Creating Decoder \n",
      "\n"
     ]
    }
   ],
   "source": [
    "# Use nvdec_h264 for hardware accelerated decode on GPU\n",
    "print(\"Creating Decoder \\n\")\n",
    "decoder = Gst.ElementFactory.make(\"nvv4l2decoder\", \"nvv4l2-decoder\")\n",
    "if not decoder:\n",
    "    print(\" Unable to create Nvv4l2 Decoder \\n\")"
   ]
  },
  {
   "cell_type": "code",
   "execution_count": 10,
   "metadata": {},
   "outputs": [
    {
     "name": "stdout",
     "output_type": "stream",
     "text": [
      "Creating Muxer \n",
      "\n"
     ]
    }
   ],
   "source": [
    "# Create nvstreammux instance to form batches from one or more sources.\n",
    "print(\"Creating Muxer \\n\")\n",
    "streammux = Gst.ElementFactory.make(\"nvstreammux\", \"Stream-muxer\")\n",
    "if not streammux:\n",
    "    print(\" Unable to create NvStreamMux \\n\")"
   ]
  },
  {
   "cell_type": "code",
   "execution_count": 11,
   "metadata": {},
   "outputs": [
    {
     "name": "stdout",
     "output_type": "stream",
     "text": [
      "Creating pgie\n"
     ]
    }
   ],
   "source": [
    "# Use nvinfer to run inferencing on decoder's output,\n",
    "# behaviour of inferencing is set through config file\n",
    "print(\"Creating pgie\")\n",
    "pgie = Gst.ElementFactory.make(\"nvinfer\", \"primary-inference\")\n",
    "if not pgie:\n",
    "    print(\" Unable to create pgie \\n\")"
   ]
  },
  {
   "cell_type": "code",
   "execution_count": 12,
   "metadata": {},
   "outputs": [
    {
     "name": "stdout",
     "output_type": "stream",
     "text": [
      "Creating nvvidconv\n"
     ]
    }
   ],
   "source": [
    "# Use convertor to convert from NV12 to RGBA as required by nvosd\n",
    "print(\"Creating nvvidconv\")\n",
    "nvvidconv = Gst.ElementFactory.make(\"nvvideoconvert\", \"convertor\")\n",
    "if not nvvidconv:\n",
    "    print(\" Unable to create nvvidconv \\n\")"
   ]
  },
  {
   "cell_type": "code",
   "execution_count": 13,
   "metadata": {},
   "outputs": [
    {
     "name": "stdout",
     "output_type": "stream",
     "text": [
      "Creating OSD\n"
     ]
    }
   ],
   "source": [
    "# Create OSD to draw on the converted RGBA buffer\n",
    "print(\"Creating OSD\")\n",
    "nvosd = Gst.ElementFactory.make(\"nvdsosd\", \"onscreendisplay\")\n",
    "if not nvosd:\n",
    "        print(\" Unable to create nvosd \\n\")"
   ]
  },
  {
   "cell_type": "code",
   "execution_count": 14,
   "metadata": {},
   "outputs": [
    {
     "name": "stdout",
     "output_type": "stream",
     "text": [
      "Creating encoder\n",
      "Creating File sink \n",
      "\n"
     ]
    }
   ],
   "source": [
    "# Use convertor to convert from something to something\n",
    "print(\"Creating encoder\")\n",
    "enc = Gst.ElementFactory.make(\"nvv4l2h264enc\", \"nvv4l2h264enc\")\n",
    "if not nvvidconv:\n",
    "    print(\" Unable to create nvvidconv \\n\")\n",
    "    \n",
    "# # Use convertor to convert from something to something\n",
    "# print(\"Creating encoder\")\n",
    "# nvvidconv2 = Gst.ElementFactory.make(\"nvvideoconvert\", \"nvv4l2h264enc\")\n",
    "# if not nvvidconv:\n",
    "#     print(\" Unable to create nvvidconv \\n\")\n",
    "\n",
    "print(\"Creating File sink \\n\")\n",
    "sink = Gst.ElementFactory.make(\"filesink\", \"nvvideo-renderer\")\n",
    "if not sink:\n",
    "    print(\" Unable to create file sink \\n\")\n",
    "\n",
    "# print(\"Creating EGL sink \\n\")\n",
    "# sink = Gst.ElementFactory.make(\"nveglglessink\", \"nvvideo-renderer\")\n",
    "# if not sink:\n",
    "#     print(\" Unable to create egl sink \\n\")\n",
    "\n",
    "# print(\"Creating fake sink \\n\")\n",
    "# sink = Gst.ElementFactory.make(\"fakesink\", \"nvvideo-renderer\")\n",
    "# if not sink:\n",
    "#     print(\" Unable to create fake sink \\n\")"
   ]
  },
  {
   "cell_type": "code",
   "execution_count": 15,
   "metadata": {},
   "outputs": [
    {
     "name": "stdout",
     "output_type": "stream",
     "text": [
      "Playing file /opt/nvidia/deepstream/deepstream-6.1/samples/streams/sample_qHD.h264 \n",
      "Adding elements to Pipeline \n",
      "\n"
     ]
    },
    {
     "data": {
      "text/plain": [
       "True"
      ]
     },
     "execution_count": 15,
     "metadata": {},
     "output_type": "execute_result"
    }
   ],
   "source": [
    "print(\"Playing file %s \" %args[1])\n",
    "source.set_property('location', args[1])\n",
    "sink.set_property(\"location\", args[2])\n",
    "streammux.set_property('width', 1920)\n",
    "streammux.set_property('height', 1080)\n",
    "streammux.set_property('batch-size', 1)\n",
    "streammux.set_property('batched-push-timeout', 4000000)\n",
    "pgie.set_property('config-file-path', \"/home/mher/projects/counter/deepstream-analytics/dsnvanalytics_pgie_config.txt\")\n",
    "\n",
    "\n",
    "print(\"Adding elements to Pipeline \\n\")\n",
    "pipeline.add(source)\n",
    "pipeline.add(h264parser)\n",
    "pipeline.add(decoder)\n",
    "pipeline.add(streammux)\n",
    "pipeline.add(pgie)\n",
    "pipeline.add(nvvidconv)\n",
    "pipeline.add(nvosd)\n",
    "pipeline.add(enc)\n",
    "pipeline.add(sink)\n",
    "# if is_aarch64():\n",
    "#     pipeline.add(transform)"
   ]
  },
  {
   "cell_type": "code",
   "execution_count": 16,
   "metadata": {},
   "outputs": [
    {
     "name": "stdout",
     "output_type": "stream",
     "text": [
      "Linking elements in the Pipeline \n",
      "\n"
     ]
    },
    {
     "data": {
      "text/plain": [
       "True"
      ]
     },
     "execution_count": 16,
     "metadata": {},
     "output_type": "execute_result"
    }
   ],
   "source": [
    "# we link the elements together\n",
    "# file-source -> h264-parser -> nvh264-decoder ->\n",
    "# nvinfer -> nvvidconv -> nvosd -> video-renderer\n",
    "print(\"Linking elements in the Pipeline \\n\")\n",
    "\n",
    "source.link(h264parser)\n",
    "h264parser.link(decoder)\n",
    "\n",
    "sinkpad = streammux.get_request_pad(\"sink_0\")\n",
    "if not sinkpad:\n",
    "    print(\" Unable to get the sink pad of streammux \\n\")\n",
    "    \n",
    "srcpad = decoder.get_static_pad(\"src\")\n",
    "if not srcpad:\n",
    "    print(\" Unable to get source pad of decoder \\n\")\n",
    "    \n",
    "srcpad.link(sinkpad)\n",
    "streammux.link(pgie)\n",
    "pgie.link(nvvidconv)\n",
    "\n",
    "# nvvidconv.link(sink)\n",
    "# nvosd.link(sink)\n",
    "nvvidconv.link(nvosd)\n",
    "nvosd.link(enc)\n",
    "enc.link(sink)"
   ]
  },
  {
   "cell_type": "code",
   "execution_count": 17,
   "metadata": {},
   "outputs": [
    {
     "data": {
      "text/plain": [
       "1"
      ]
     },
     "execution_count": 17,
     "metadata": {},
     "output_type": "execute_result"
    }
   ],
   "source": [
    "# create an event loop and feed gstreamer bus mesages to it\n",
    "loop = GLib.MainLoop()\n",
    "bus = pipeline.get_bus()\n",
    "bus.add_signal_watch()\n",
    "bus.connect(\"message\", bus_call, loop)"
   ]
  },
  {
   "cell_type": "code",
   "execution_count": 18,
   "metadata": {},
   "outputs": [
    {
     "data": {
      "text/plain": [
       "1"
      ]
     },
     "execution_count": 18,
     "metadata": {},
     "output_type": "execute_result"
    }
   ],
   "source": [
    "# Lets add probe to get informed of the meta data generated, we add probe to\n",
    "# the sink pad of the osd element, since by that time, the buffer would have\n",
    "# had got all the metadata.\n",
    "osdsinkpad = nvosd.get_static_pad(\"sink\")\n",
    "if not osdsinkpad:\n",
    "    print(\" Unable to get sink pad of nvosd \\n\")\n",
    "\n",
    "osdsinkpad.add_probe(Gst.PadProbeType.BUFFER, osd_sink_pad_buffer_probe, 0)"
   ]
  },
  {
   "cell_type": "code",
   "execution_count": 19,
   "metadata": {},
   "outputs": [
    {
     "name": "stdout",
     "output_type": "stream",
     "text": [
      "Starting pipeline \n",
      "\n",
      "Frame Number=0 Number of Objects=6 Vehicle_count=1 Person_count=4\n",
      "Frame Number=1 Number of Objects=6 Vehicle_count=1 Person_count=4\n"
     ]
    },
    {
     "name": "stderr",
     "output_type": "stream",
     "text": [
      "Error: gst-stream-error-quark: Internal data stream error. (1): gstnvinfer.cpp(2299): gst_nvinfer_output_loop (): /GstPipeline:pipeline0/GstNvInfer:primary-inference:\n",
      "streaming stopped, reason not-linked (-1)\n"
     ]
    },
    {
     "data": {
      "text/plain": [
       "<enum GST_STATE_CHANGE_SUCCESS of type Gst.StateChangeReturn>"
      ]
     },
     "execution_count": 19,
     "metadata": {},
     "output_type": "execute_result"
    }
   ],
   "source": [
    "# start play back and listen to events\n",
    "print(\"Starting pipeline \\n\")\n",
    "pipeline.set_state(Gst.State.PLAYING)\n",
    "try:\n",
    "    loop.run()\n",
    "except Exception as e:\n",
    "    print(e)\n",
    "# cleanup\n",
    "pipeline.set_state(Gst.State.NULL)"
   ]
  },
  {
   "cell_type": "code",
   "execution_count": 20,
   "metadata": {},
   "outputs": [
    {
     "data": {
      "text/plain": [
       "['__class__',\n",
       " '__copy__',\n",
       " '__deepcopy__',\n",
       " '__delattr__',\n",
       " '__dict__',\n",
       " '__dir__',\n",
       " '__doc__',\n",
       " '__eq__',\n",
       " '__format__',\n",
       " '__gdoc__',\n",
       " '__ge__',\n",
       " '__getattribute__',\n",
       " '__gpointer__',\n",
       " '__grefcount__',\n",
       " '__gsignals__',\n",
       " '__gt__',\n",
       " '__gtype__',\n",
       " '__hash__',\n",
       " '__info__',\n",
       " '__init__',\n",
       " '__init_subclass__',\n",
       " '__le__',\n",
       " '__lt__',\n",
       " '__module__',\n",
       " '__ne__',\n",
       " '__new__',\n",
       " '__reduce__',\n",
       " '__reduce_ex__',\n",
       " '__repr__',\n",
       " '__setattr__',\n",
       " '__sizeof__',\n",
       " '__str__',\n",
       " '__subclasshook__',\n",
       " '__weakref__',\n",
       " '_force_floating',\n",
       " '_gst_reserved',\n",
       " '_ref',\n",
       " '_ref_sink',\n",
       " '_unref',\n",
       " '_unsupported_data_method',\n",
       " '_unsupported_method',\n",
       " 'abort_state',\n",
       " 'add',\n",
       " 'add_control_binding',\n",
       " 'add_metadata',\n",
       " 'add_pad',\n",
       " 'add_pad_template',\n",
       " 'add_property_deep_notify_watch',\n",
       " 'add_property_notify_watch',\n",
       " 'add_static_metadata',\n",
       " 'add_static_pad_template',\n",
       " 'add_static_pad_template_with_gtype',\n",
       " 'auto_clock',\n",
       " 'base_time',\n",
       " 'bin',\n",
       " 'bind_property',\n",
       " 'bind_property_full',\n",
       " 'bus',\n",
       " 'call_async',\n",
       " 'chain',\n",
       " 'change_state',\n",
       " 'check_uniqueness',\n",
       " 'child_added',\n",
       " 'child_bus',\n",
       " 'child_removed',\n",
       " 'children',\n",
       " 'children_cookie',\n",
       " 'clock',\n",
       " 'clock_dirty',\n",
       " 'clock_provider',\n",
       " 'compat_control',\n",
       " 'connect',\n",
       " 'connect_after',\n",
       " 'connect_data',\n",
       " 'connect_object',\n",
       " 'connect_object_after',\n",
       " 'contexts',\n",
       " 'continue_state',\n",
       " 'control_bindings',\n",
       " 'control_rate',\n",
       " 'create_all_pads',\n",
       " 'current_state',\n",
       " 'default_deep_notify',\n",
       " 'default_error',\n",
       " 'delay',\n",
       " 'disconnect',\n",
       " 'disconnect_by_func',\n",
       " 'do_add_element',\n",
       " 'do_change_state',\n",
       " 'do_deep_element_added',\n",
       " 'do_deep_element_removed',\n",
       " 'do_deep_notify',\n",
       " 'do_do_latency',\n",
       " 'do_element_added',\n",
       " 'do_element_removed',\n",
       " 'do_get_state',\n",
       " 'do_handle_message',\n",
       " 'do_no_more_pads',\n",
       " 'do_pad_added',\n",
       " 'do_pad_removed',\n",
       " 'do_post_message',\n",
       " 'do_provide_clock',\n",
       " 'do_query',\n",
       " 'do_release_pad',\n",
       " 'do_remove_element',\n",
       " 'do_request_new_pad',\n",
       " 'do_send_event',\n",
       " 'do_set_bus',\n",
       " 'do_set_clock',\n",
       " 'do_set_context',\n",
       " 'do_set_state',\n",
       " 'do_state_changed',\n",
       " 'element',\n",
       " 'emit',\n",
       " 'emit_stop_by_name',\n",
       " 'find_property',\n",
       " 'find_unlinked_pad',\n",
       " 'fixed_clock',\n",
       " 'flags',\n",
       " 'force_floating',\n",
       " 'foreach_pad',\n",
       " 'foreach_sink_pad',\n",
       " 'foreach_src_pad',\n",
       " 'freeze_notify',\n",
       " 'g_type_instance',\n",
       " 'get_auto_flush_bus',\n",
       " 'get_base_time',\n",
       " 'get_bus',\n",
       " 'get_by_interface',\n",
       " 'get_by_name',\n",
       " 'get_by_name_recurse_up',\n",
       " 'get_child_by_index',\n",
       " 'get_child_by_name',\n",
       " 'get_children_count',\n",
       " 'get_clock',\n",
       " 'get_compatible_pad',\n",
       " 'get_compatible_pad_template',\n",
       " 'get_context',\n",
       " 'get_context_unlocked',\n",
       " 'get_contexts',\n",
       " 'get_control_binding',\n",
       " 'get_control_rate',\n",
       " 'get_data',\n",
       " 'get_delay',\n",
       " 'get_factory',\n",
       " 'get_g_value_array',\n",
       " 'get_latency',\n",
       " 'get_metadata',\n",
       " 'get_name',\n",
       " 'get_pad_template',\n",
       " 'get_pad_template_list',\n",
       " 'get_parent',\n",
       " 'get_path_string',\n",
       " 'get_pipeline_clock',\n",
       " 'get_properties',\n",
       " 'get_property',\n",
       " 'get_qdata',\n",
       " 'get_request_pad',\n",
       " 'get_start_time',\n",
       " 'get_state',\n",
       " 'get_static_pad',\n",
       " 'get_suppressed_flags',\n",
       " 'get_value',\n",
       " 'getv',\n",
       " 'handler_block',\n",
       " 'handler_block_by_func',\n",
       " 'handler_disconnect',\n",
       " 'handler_is_connected',\n",
       " 'handler_unblock',\n",
       " 'handler_unblock_by_func',\n",
       " 'has_active_control_bindings',\n",
       " 'has_ancestor',\n",
       " 'has_as_ancestor',\n",
       " 'has_as_parent',\n",
       " 'install_properties',\n",
       " 'install_property',\n",
       " 'interface_find_property',\n",
       " 'interface_install_property',\n",
       " 'interface_list_properties',\n",
       " 'is_floating',\n",
       " 'is_locked_state',\n",
       " 'iterate_all_by_interface',\n",
       " 'iterate_elements',\n",
       " 'iterate_pads',\n",
       " 'iterate_recurse',\n",
       " 'iterate_sink_pads',\n",
       " 'iterate_sinks',\n",
       " 'iterate_sorted',\n",
       " 'iterate_sources',\n",
       " 'iterate_src_pads',\n",
       " 'last_return',\n",
       " 'last_sync',\n",
       " 'link',\n",
       " 'link_filtered',\n",
       " 'link_pads',\n",
       " 'link_pads_filtered',\n",
       " 'link_pads_full',\n",
       " 'list_properties',\n",
       " 'lock',\n",
       " 'lookup',\n",
       " 'lost_state',\n",
       " 'make_from_uri',\n",
       " 'message_full',\n",
       " 'message_full_with_details',\n",
       " 'messages',\n",
       " 'name',\n",
       " 'new',\n",
       " 'newv',\n",
       " 'next_state',\n",
       " 'no_more_pads',\n",
       " 'notify',\n",
       " 'notify_by_pspec',\n",
       " 'numchildren',\n",
       " 'numpads',\n",
       " 'numsinkpads',\n",
       " 'numsrcpads',\n",
       " 'object',\n",
       " 'override_property',\n",
       " 'pads',\n",
       " 'pads_cookie',\n",
       " 'parent',\n",
       " 'pending_state',\n",
       " 'polling',\n",
       " 'post_message',\n",
       " 'priv',\n",
       " 'props',\n",
       " 'provide_clock',\n",
       " 'provided_clock',\n",
       " 'qdata',\n",
       " 'query',\n",
       " 'query_convert',\n",
       " 'query_duration',\n",
       " 'query_position',\n",
       " 'recalculate_latency',\n",
       " 'ref',\n",
       " 'ref_count',\n",
       " 'ref_sink',\n",
       " 'register',\n",
       " 'release_request_pad',\n",
       " 'remove',\n",
       " 'remove_control_binding',\n",
       " 'remove_pad',\n",
       " 'remove_property_notify_watch',\n",
       " 'replace',\n",
       " 'replace_data',\n",
       " 'replace_qdata',\n",
       " 'request_pad',\n",
       " 'run_dispose',\n",
       " 'seek',\n",
       " 'seek_simple',\n",
       " 'send_event',\n",
       " 'set_auto_flush_bus',\n",
       " 'set_base_time',\n",
       " 'set_bus',\n",
       " 'set_clock',\n",
       " 'set_context',\n",
       " 'set_control_binding_disabled',\n",
       " 'set_control_bindings_disabled',\n",
       " 'set_control_rate',\n",
       " 'set_data',\n",
       " 'set_delay',\n",
       " 'set_latency',\n",
       " 'set_locked_state',\n",
       " 'set_metadata',\n",
       " 'set_name',\n",
       " 'set_parent',\n",
       " 'set_properties',\n",
       " 'set_property',\n",
       " 'set_start_time',\n",
       " 'set_state',\n",
       " 'set_static_metadata',\n",
       " 'set_suppressed_flags',\n",
       " 'sinkpads',\n",
       " 'srcpads',\n",
       " 'start_time',\n",
       " 'state_change_return_get_name',\n",
       " 'state_cond',\n",
       " 'state_cookie',\n",
       " 'state_dirty',\n",
       " 'state_get_name',\n",
       " 'state_lock',\n",
       " 'steal_data',\n",
       " 'steal_qdata',\n",
       " 'stop_emission',\n",
       " 'stop_emission_by_name',\n",
       " 'stream_time',\n",
       " 'suggest_next_sync',\n",
       " 'sync_children_states',\n",
       " 'sync_state_with_parent',\n",
       " 'sync_values',\n",
       " 'target_state',\n",
       " 'thaw_notify',\n",
       " 'unlink',\n",
       " 'unlink_pads',\n",
       " 'unparent',\n",
       " 'unref',\n",
       " 'use_clock',\n",
       " 'watch_closure',\n",
       " 'weak_ref']"
      ]
     },
     "execution_count": 20,
     "metadata": {},
     "output_type": "execute_result"
    }
   ],
   "source": [
    "# from os.path import exists\n",
    "\n",
    "# file_exists = exists(path_to_file)\n",
    "\n",
    "dir(pipeline)"
   ]
  },
  {
   "cell_type": "code",
   "execution_count": 21,
   "metadata": {},
   "outputs": [
    {
     "name": "stdout",
     "output_type": "stream",
     "text": [
      "<__gi__.GstFileSink object at 0x7f6649102940 (GstFileSink at 0x36e49f0)>\n",
      "<__gi__.nvv4l2h264enc object at 0x7f66491023c0 (nvv4l2h264enc at 0x36de470)>\n",
      "<__gi__.GstNvDsOsd object at 0x7f66490fddc0 (GstNvDsOsd at 0x362b8d0)>\n",
      "<__gi__.Gstnvvideoconvert object at 0x7f66490fd880 (Gstnvvideoconvert at 0x35e91c0)>\n",
      "<__gi__.GstNvInfer object at 0x7f66490fd2c0 (GstNvInfer at 0x35e2ba0)>\n",
      "<__gi__.GstNvStreamMux object at 0x7f66490f3bc0 (GstNvStreamMux at 0x2a54160)>\n",
      "<__gi__.nvv4l2decoder object at 0x7f66490f3600 (nvv4l2decoder at 0x2945140)>\n",
      "<__gi__.GstH264Parse object at 0x7f6649104fc0 (GstH264Parse at 0x2939f90)>\n",
      "<__gi__.GstFileSrc object at 0x7f6649104a40 (GstFileSrc at 0x2932170)>\n"
     ]
    }
   ],
   "source": [
    "for i in range(pipeline.get_children_count()):\n",
    "    print(pipeline.get_child_by_index(i))"
   ]
  },
  {
   "cell_type": "code",
   "execution_count": null,
   "metadata": {},
   "outputs": [],
   "source": []
  }
 ],
 "metadata": {
  "kernelspec": {
   "display_name": "Python 3",
   "language": "python",
   "name": "python3"
  },
  "language_info": {
   "codemirror_mode": {
    "name": "ipython",
    "version": 3
   },
   "file_extension": ".py",
   "mimetype": "text/x-python",
   "name": "python",
   "nbconvert_exporter": "python",
   "pygments_lexer": "ipython3",
   "version": "3.8.10"
  }
 },
 "nbformat": 4,
 "nbformat_minor": 4
}
