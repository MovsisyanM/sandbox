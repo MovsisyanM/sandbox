{
 "cells": [
  {
   "cell_type": "markdown",
   "metadata": {},
   "source": [
    "# NLP - Armenian news articles\n",
    "\n",
    "[Dataset](https://www.kaggle.com/movsisyanm/armenian-news-articles-tertam)"
   ]
  },
  {
   "cell_type": "code",
   "execution_count": 10,
   "metadata": {},
   "outputs": [
    {
     "name": "stdout",
     "output_type": "stream",
     "text": [
      "Python version: 3.10.1 (tags/v3.10.1:2cd268a, Dec  6 2021, 19:10:37) [MSC v.1929 64 bit (AMD64)]\n"
     ]
    }
   ],
   "source": [
    "import numpy as np\n",
    "import pandas as pd\n",
    "from sys import version\n",
    "\n",
    "print(f\"Python version: {version}\")"
   ]
  },
  {
   "cell_type": "markdown",
   "metadata": {},
   "source": [
    "Loading data..."
   ]
  },
  {
   "cell_type": "code",
   "execution_count": 11,
   "metadata": {},
   "outputs": [
    {
     "data": {
      "text/plain": [
       "0        Առողջապահության նախարարի՝ հոկտեմբերի 1-ից ուժի...\n",
       "1        Ադրբեջանը շարունակում է թաքցնել գերիների իրակա...\n",
       "2        Այն, որ ՀՀ-ն հիմա ՀԱՊԿ նախագահող է, մեզ լրացու...\n",
       "3        Փաշինյան-Էրդողան հանդիպում նախատեսված չէ. Սուր...\n",
       "4        Ֆրենկ Փալոնը շնորհավորել է Անկախության տոնի կա...\n",
       "                               ...                        \n",
       "21310    Թրամփ-Պուտին հանդիպման թարգմանիչները կարող են ...\n",
       "21311    131 կողմ ձայնով ԱԺ նախագահ ընտրվեց «Իմ քայլը» ...\n",
       "21312    ԱԺ փոխնախագահի պաշտոնում ներկայացվեց Ալեն Սիմո...\n",
       "21313    Բոլորը հարգանք պիտի դրսևորեն իրենց ստացած քվեի...\n",
       "21314    Առաջարկում ենք կալանավորման 1 օրը հավասարեցնել...\n",
       "Name: title, Length: 21315, dtype: object"
      ]
     },
     "execution_count": 11,
     "metadata": {},
     "output_type": "execute_result"
    }
   ],
   "source": [
    "df = pd.read_csv(\"data\\politics.csv\").iloc[:, 0]\n",
    "df"
   ]
  },
  {
   "cell_type": "markdown",
   "metadata": {},
   "source": [
    "Cleaning up..."
   ]
  },
  {
   "cell_type": "code",
   "execution_count": 12,
   "metadata": {},
   "outputs": [],
   "source": [
    "import nltk\n",
    "from nltk.corpus import stopwords\n",
    "from nltk.tokenize import word_tokenize\n",
    "\n",
    "stop_words = set([\n",
    "    \"այդ\",\"այլ\",\"այն\",\"այս\",\n",
    "    \"դու\",\"դուք\",\n",
    "    \"եմ\",\"են\",\"ենք\",\"ես\",\"եք\",\n",
    "    \"է\",\"էի\",\"էին\",\"էինք\",\"էիր\",\"էիք\",\"էր\",\n",
    "    \"ըստ\",\n",
    "    \"թ\",\n",
    "    \"ի\",\"ին\",\"իսկ\",\"իր\",\n",
    "    \"կամ\",\n",
    "    \"համար\",\"հետ\",\"հետո\",\n",
    "    \"մենք\",\"մեջ\",\"մի\",\n",
    "    \"ն\",\"նա\",\"նաև\",\"նրա\",\"նրանք\",\n",
    "    \"որ\",\"որը\",\"որոնք\",\"որպես\",\n",
    "    \"ու\",\"ում\",\"պիտի\",\n",
    "    \"վրա\",\n",
    "    \"և\"\n",
    "])"
   ]
  },
  {
   "cell_type": "code",
   "execution_count": 13,
   "metadata": {},
   "outputs": [
    {
     "data": {
      "text/plain": [
       "0        [Առողջապահության, նախարարի՝, հոկտեմբերի, 1-ից,...\n",
       "1        [Ադրբեջանը, շարունակում, թաքցնել, գերիների, իր...\n",
       "2        [Այն, ,, ՀՀ-ն, հիմա, ՀԱՊԿ, նախագահող, ,, մեզ, ...\n",
       "3        [Փաշինյան-Էրդողան, հանդիպում, նախատեսված, չէ, ...\n",
       "4        [Ֆրենկ, Փալոնը, շնորհավորել, Անկախության, տոնի...\n",
       "                               ...                        \n",
       "21310    [Թրամփ-Պուտին, հանդիպման, թարգմանիչները, կարող...\n",
       "21311    [131, կողմ, ձայնով, ԱԺ, նախագահ, ընտրվեց, «, Ի...\n",
       "21312    [ԱԺ, փոխնախագահի, պաշտոնում, ներկայացվեց, Ալեն...\n",
       "21313    [Բոլորը, հարգանք, դրսևորեն, իրենց, ստացած, քվե...\n",
       "21314    [Առաջարկում, կալանավորման, 1, օրը, հավասարեցնե...\n",
       "Name: title, Length: 21315, dtype: object"
      ]
     },
     "execution_count": 13,
     "metadata": {},
     "output_type": "execute_result"
    }
   ],
   "source": [
    "stop_words_filter = lambda x: [word for word in x if word not in stop_words]\n",
    "words = df.apply(lambda x: stop_words_filter(word_tokenize(x)))\n",
    "words"
   ]
  },
  {
   "cell_type": "code",
   "execution_count": 14,
   "metadata": {},
   "outputs": [
    {
     "data": {
      "text/plain": [
       "0        [Առողջապահության, նախարարի, հոկտեմբերի, 1-ից, ...\n",
       "1        [Ադրբեջան, շարունակում, թաքցնել, գերիների, իրա...\n",
       "2        [Այն, ,, ՀՀ, հիմա, ՀԱՊԿ, նախագահող, ,, մեզ, լր...\n",
       "3        [Փաշինյան-Էրդողան, հանդիպում, նախատեսված, չէ, ...\n",
       "4        [Ֆրենկ, Փալոն, շնորհավորել, Անկախության, տոնի,...\n",
       "                               ...                        \n",
       "21310    [Թրամփ-Պուտին, հանդիպման, թարգմանիչներ, կարող,...\n",
       "21311    [131, կողմ, ձայնով, ԱԺ, նախագահ, ընտրվեց, «, Ի...\n",
       "21312    [ԱԺ, փոխնախագահի, պաշտոնում, ներկայացվեց, Ալեն...\n",
       "21313    [Բոլոր, հարգանք, դրսևորեն, իրենց, ստացած, քվեի...\n",
       "21314    [Առաջարկում, կալանավորման, 1, օր, հավասարեցնել...\n",
       "Name: title, Length: 21315, dtype: object"
      ]
     },
     "execution_count": 14,
     "metadata": {},
     "output_type": "execute_result"
    }
   ],
   "source": [
    "# Simple stemming\n",
    "import re\n",
    "\n",
    "stemmed_words = words.apply(lambda x: [re.sub(\"(ություն)*(ը|-ն)*՝*$\", \"\", word) for word in x])\n",
    "stemmed_words"
   ]
  },
  {
   "cell_type": "code",
   "execution_count": 15,
   "metadata": {},
   "outputs": [
    {
     "name": "stdout",
     "output_type": "stream",
     "text": [
      "['ուրախ', 'հայ', 'ությունակերտ', 'ՀՀ', 'նախարարի']\n"
     ]
    }
   ],
   "source": [
    "examples = [\"ուրախությունը\", \"հայություն\", \"ությունակերտը\", \"ՀՀ-ն\", \"նախարարի՝\"]\n",
    "\n",
    "print([re.sub(\"(ություն)*(ը|-ն)*՝*$\", \"\", word) for word in examples])"
   ]
  },
  {
   "cell_type": "code",
   "execution_count": 16,
   "metadata": {},
   "outputs": [
    {
     "name": "stdout",
     "output_type": "stream",
     "text": [
      "C:\\Users\\zolobrine\\AppData\\Roaming\\Python\\Python310\\site-packages\\nltk\\__init__.py\n"
     ]
    }
   ],
   "source": [
    "print(nltk.__file__)"
   ]
  }
 ],
 "metadata": {
  "interpreter": {
   "hash": "b89b5cfaba6639976dc87ff2fec6d58faec662063367e2c229c520fe71072417"
  },
  "kernelspec": {
   "display_name": "Python 3.10.1 64-bit",
   "language": "python",
   "name": "python3"
  },
  "language_info": {
   "codemirror_mode": {
    "name": "ipython",
    "version": 3
   },
   "file_extension": ".py",
   "mimetype": "text/x-python",
   "name": "python",
   "nbconvert_exporter": "python",
   "pygments_lexer": "ipython3",
   "version": "3.10.1"
  },
  "orig_nbformat": 4
 },
 "nbformat": 4,
 "nbformat_minor": 2
}
