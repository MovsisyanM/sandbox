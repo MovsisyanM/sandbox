{
 "cells": [
  {
   "cell_type": "code",
   "execution_count": 1,
   "metadata": {},
   "outputs": [],
   "source": [
    "from zenml.client import Client\n",
    "\n",
    "pipeline_model = Client().get_pipeline(\"simple_ml_pipeline\")"
   ]
  },
  {
   "cell_type": "code",
   "execution_count": 3,
   "metadata": {},
   "outputs": [],
   "source": [
    "runs = pipeline_model.runs"
   ]
  },
  {
   "cell_type": "code",
   "execution_count": 5,
   "metadata": {},
   "outputs": [],
   "source": [
    "last_run = pipeline_model.last_run"
   ]
  },
  {
   "cell_type": "code",
   "execution_count": 10,
   "metadata": {},
   "outputs": [
    {
     "data": {
      "text/plain": [
       "1"
      ]
     },
     "execution_count": 10,
     "metadata": {},
     "output_type": "execute_result"
    }
   ],
   "source": [
    "len(last_run.artifact_versions)"
   ]
  },
  {
   "cell_type": "code",
   "execution_count": 20,
   "metadata": {},
   "outputs": [
    {
     "data": {
      "text/plain": [
       "ArtifactVersionResponse(id=UUID('199bbed8-ff76-4394-9d2a-d42a0b15ce07'), permission_denied=False, body=ArtifactVersionResponseBody(created=datetime.datetime(2024, 1, 20, 17, 54, 22, 234306), updated=datetime.datetime(2024, 1, 20, 17, 54, 22, 234306), user=UserResponse(id=UUID('27e26820-7101-4ae8-b44c-15f820bf53a8'), permission_denied=False, body=UserResponseBody(created=datetime.datetime(2024, 1, 20, 17, 51, 26, 59145), updated=datetime.datetime(2024, 1, 20, 17, 51, 26, 59145), active=True, activation_token=None, full_name='', email_opted_in=None, is_service_account=False), metadata=None, name='default'), artifact=ArtifactResponse(id=UUID('a423a9a2-47ed-45b4-bebe-f95cb6d3e3b6'), permission_denied=False, body=ArtifactResponseBody(created=datetime.datetime(2024, 1, 20, 17, 54, 22, 219910), updated=datetime.datetime(2024, 1, 20, 17, 54, 22, 219910), tags=[]), metadata=None, name='simple_ml_pipeline::load_data::output'), version='1', uri='C:/Users/mherm/AppData/Roaming/zenml/local_stores/a8a05cc4-a245-44d0-a7ea-70060aa3e50f/load_data/output/f57887fe-d974-4cf1-ab5d-b9703dc0686b', type=<ArtifactType.BASE: 'BaseArtifact'>, materializer=Source(module='zenml.materializers.built_in_materializer', attribute='BuiltInContainerMaterializer', type=<SourceType.INTERNAL: 'internal'>), data_type=Source(module='builtins', attribute='dict', type=<SourceType.BUILTIN: 'builtin'>), tags=[]), metadata=ArtifactVersionResponseMetadata(workspace=WorkspaceResponse(id=UUID('90a2d61b-3baf-40dc-b7fe-bb2ff2f5f629'), permission_denied=False, body=WorkspaceResponseBody(created=datetime.datetime(2024, 1, 20, 17, 51, 25, 664083), updated=datetime.datetime(2024, 1, 20, 17, 51, 25, 664083)), metadata=None, name='default'), artifact_store_id=UUID('a8a05cc4-a245-44d0-a7ea-70060aa3e50f'), producer_step_run_id=UUID('f57887fe-d974-4cf1-ab5d-b9703dc0686b'), visualizations=[], run_metadata={'storage_size': RunMetadataResponse(id=UUID('20c0799e-192d-4642-b849-ced1a3859ed9'), permission_denied=False, body=RunMetadataResponseBody(created=datetime.datetime(2024, 1, 20, 17, 54, 22, 251997), updated=datetime.datetime(2024, 1, 20, 17, 54, 22, 251997), user=UserResponse(id=UUID('27e26820-7101-4ae8-b44c-15f820bf53a8'), permission_denied=False, body=UserResponseBody(created=datetime.datetime(2024, 1, 20, 17, 51, 26, 59145), updated=datetime.datetime(2024, 1, 20, 17, 51, 26, 59145), active=True, activation_token=None, full_name='', email_opted_in=None, is_service_account=False), metadata=None, name='default'), key='storage_size', value=59, type='StorageSize'), metadata=None), 'length': RunMetadataResponse(id=UUID('c286ee80-8aca-4f50-abed-5ade1ac7b75f'), permission_denied=False, body=RunMetadataResponseBody(created=datetime.datetime(2024, 1, 20, 17, 54, 22, 263292), updated=datetime.datetime(2024, 1, 20, 17, 54, 22, 263292), user=UserResponse(id=UUID('27e26820-7101-4ae8-b44c-15f820bf53a8'), permission_denied=False, body=UserResponseBody(created=datetime.datetime(2024, 1, 20, 17, 51, 26, 59145), updated=datetime.datetime(2024, 1, 20, 17, 51, 26, 59145), active=True, activation_token=None, full_name='', email_opted_in=None, is_service_account=False), metadata=None, name='default'), key='length', value=2, type='int'), metadata=None)}))"
      ]
     },
     "execution_count": 20,
     "metadata": {},
     "output_type": "execute_result"
    }
   ],
   "source": [
    "last_run.steps[\"load_data\"].output"
   ]
  },
  {
   "cell_type": "code",
   "execution_count": null,
   "metadata": {},
   "outputs": [],
   "source": []
  }
 ],
 "metadata": {
  "kernelspec": {
   "display_name": ".venv",
   "language": "python",
   "name": "python3"
  },
  "language_info": {
   "codemirror_mode": {
    "name": "ipython",
    "version": 3
   },
   "file_extension": ".py",
   "mimetype": "text/x-python",
   "name": "python",
   "nbconvert_exporter": "python",
   "pygments_lexer": "ipython3",
   "version": "3.11.3"
  }
 },
 "nbformat": 4,
 "nbformat_minor": 2
}
