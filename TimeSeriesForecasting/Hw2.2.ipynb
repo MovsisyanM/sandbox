{
 "cells": [
  {
   "attachments": {},
   "cell_type": "markdown",
   "metadata": {},
   "source": [
    "# Homework 2.2\n",
    "###### by Mher Movsisyan\n",
    "---"
   ]
  },
  {
   "attachments": {},
   "cell_type": "markdown",
   "metadata": {},
   "source": [
    "### Problem 1:  \n",
    "Find the $ \\psi $ s of linear solution for the following ARMA model\n",
    "$$ x_t = 0.7x_{t-1} - 0.1225x_{t-2} + w_t - 0.35w_{w_t-1} $$  \n",
    "a) Write down ARMA model using backshift operators.\n"
   ]
  },
  {
   "attachments": {},
   "cell_type": "markdown",
   "metadata": {},
   "source": [
    "Answer:  \n",
    "$$ x_t(1 - 0.7B + 0.1225B^2) = w_t(1 - 0.35B) $$"
   ]
  },
  {
   "attachments": {},
   "cell_type": "markdown",
   "metadata": {},
   "source": [
    "b) Find the roots of characteristic equations."
   ]
  },
  {
   "attachments": {},
   "cell_type": "markdown",
   "metadata": {},
   "source": [
    "Answer:  \n",
    "The polynomial on the AR part is quadratic convex,\n",
    "$$ f'(B) = 0.245B - 0.7 $$\n",
    "Setting it = 0 will yield  \n",
    "$$ B \\approx 2.857 $$"
   ]
  },
  {
   "attachments": {},
   "cell_type": "markdown",
   "metadata": {},
   "source": [
    "It has one root, as we do the same with the MA part we get the same root"
   ]
  }
 ],
 "metadata": {
  "language_info": {
   "name": "python"
  },
  "orig_nbformat": 4
 },
 "nbformat": 4,
 "nbformat_minor": 2
}
