{
  "cells": [
    {
      "cell_type": "markdown",
      "metadata": {
        "id": "7zXqiQ7GNKOO"
      },
      "source": [
        "# Estimation\n",
        "\n",
        "**1. Method of Moments**\n",
        "**2. Maximum Likelihood** \n",
        "**3. Least Squares** "
      ]
    },
    {
      "cell_type": "code",
      "execution_count": 25,
      "metadata": {
        "id": "GkJVArEkNKOV"
      },
      "outputs": [],
      "source": [
        "import numpy as np\n",
        "import pandas as pd\n",
        "import matplotlib.pyplot as plt\n",
        "\n",
        "from datetime import datetime\n",
        "\n",
        "#import os\n",
        "#os.chdir(\"C:\\\\Users\\\\Aram\\\\Documents\\\\Work\\\\AUA\\\\Time Series Forecasting\\\\Slides\\\\Lecture 6\\\\\")"
      ]
    },
    {
      "cell_type": "code",
      "execution_count": 26,
      "metadata": {
        "colab": {
          "base_uri": "https://localhost:8080/",
          "height": 206
        },
        "id": "hJaV03aANKOX",
        "outputId": "121bc54d-9770-4923-cb95-22dd1171a14d"
      },
      "outputs": [
        {
          "output_type": "execute_result",
          "data": {
            "text/plain": [
              "     index  value\n",
              "0  1960 Q1   0.71\n",
              "1  1960 Q2   0.63\n",
              "2  1960 Q3   0.85\n",
              "3  1960 Q4   0.44\n",
              "4  1961 Q1   0.61"
            ],
            "text/html": [
              "\n",
              "  <div id=\"df-08372ce3-1b98-4140-8221-f495db133df1\">\n",
              "    <div class=\"colab-df-container\">\n",
              "      <div>\n",
              "<style scoped>\n",
              "    .dataframe tbody tr th:only-of-type {\n",
              "        vertical-align: middle;\n",
              "    }\n",
              "\n",
              "    .dataframe tbody tr th {\n",
              "        vertical-align: top;\n",
              "    }\n",
              "\n",
              "    .dataframe thead th {\n",
              "        text-align: right;\n",
              "    }\n",
              "</style>\n",
              "<table border=\"1\" class=\"dataframe\">\n",
              "  <thead>\n",
              "    <tr style=\"text-align: right;\">\n",
              "      <th></th>\n",
              "      <th>index</th>\n",
              "      <th>value</th>\n",
              "    </tr>\n",
              "  </thead>\n",
              "  <tbody>\n",
              "    <tr>\n",
              "      <th>0</th>\n",
              "      <td>1960 Q1</td>\n",
              "      <td>0.71</td>\n",
              "    </tr>\n",
              "    <tr>\n",
              "      <th>1</th>\n",
              "      <td>1960 Q2</td>\n",
              "      <td>0.63</td>\n",
              "    </tr>\n",
              "    <tr>\n",
              "      <th>2</th>\n",
              "      <td>1960 Q3</td>\n",
              "      <td>0.85</td>\n",
              "    </tr>\n",
              "    <tr>\n",
              "      <th>3</th>\n",
              "      <td>1960 Q4</td>\n",
              "      <td>0.44</td>\n",
              "    </tr>\n",
              "    <tr>\n",
              "      <th>4</th>\n",
              "      <td>1961 Q1</td>\n",
              "      <td>0.61</td>\n",
              "    </tr>\n",
              "  </tbody>\n",
              "</table>\n",
              "</div>\n",
              "      <button class=\"colab-df-convert\" onclick=\"convertToInteractive('df-08372ce3-1b98-4140-8221-f495db133df1')\"\n",
              "              title=\"Convert this dataframe to an interactive table.\"\n",
              "              style=\"display:none;\">\n",
              "        \n",
              "  <svg xmlns=\"http://www.w3.org/2000/svg\" height=\"24px\"viewBox=\"0 0 24 24\"\n",
              "       width=\"24px\">\n",
              "    <path d=\"M0 0h24v24H0V0z\" fill=\"none\"/>\n",
              "    <path d=\"M18.56 5.44l.94 2.06.94-2.06 2.06-.94-2.06-.94-.94-2.06-.94 2.06-2.06.94zm-11 1L8.5 8.5l.94-2.06 2.06-.94-2.06-.94L8.5 2.5l-.94 2.06-2.06.94zm10 10l.94 2.06.94-2.06 2.06-.94-2.06-.94-.94-2.06-.94 2.06-2.06.94z\"/><path d=\"M17.41 7.96l-1.37-1.37c-.4-.4-.92-.59-1.43-.59-.52 0-1.04.2-1.43.59L10.3 9.45l-7.72 7.72c-.78.78-.78 2.05 0 2.83L4 21.41c.39.39.9.59 1.41.59.51 0 1.02-.2 1.41-.59l7.78-7.78 2.81-2.81c.8-.78.8-2.07 0-2.86zM5.41 20L4 18.59l7.72-7.72 1.47 1.35L5.41 20z\"/>\n",
              "  </svg>\n",
              "      </button>\n",
              "      \n",
              "  <style>\n",
              "    .colab-df-container {\n",
              "      display:flex;\n",
              "      flex-wrap:wrap;\n",
              "      gap: 12px;\n",
              "    }\n",
              "\n",
              "    .colab-df-convert {\n",
              "      background-color: #E8F0FE;\n",
              "      border: none;\n",
              "      border-radius: 50%;\n",
              "      cursor: pointer;\n",
              "      display: none;\n",
              "      fill: #1967D2;\n",
              "      height: 32px;\n",
              "      padding: 0 0 0 0;\n",
              "      width: 32px;\n",
              "    }\n",
              "\n",
              "    .colab-df-convert:hover {\n",
              "      background-color: #E2EBFA;\n",
              "      box-shadow: 0px 1px 2px rgba(60, 64, 67, 0.3), 0px 1px 3px 1px rgba(60, 64, 67, 0.15);\n",
              "      fill: #174EA6;\n",
              "    }\n",
              "\n",
              "    [theme=dark] .colab-df-convert {\n",
              "      background-color: #3B4455;\n",
              "      fill: #D2E3FC;\n",
              "    }\n",
              "\n",
              "    [theme=dark] .colab-df-convert:hover {\n",
              "      background-color: #434B5C;\n",
              "      box-shadow: 0px 1px 3px 1px rgba(0, 0, 0, 0.15);\n",
              "      filter: drop-shadow(0px 1px 2px rgba(0, 0, 0, 0.3));\n",
              "      fill: #FFFFFF;\n",
              "    }\n",
              "  </style>\n",
              "\n",
              "      <script>\n",
              "        const buttonEl =\n",
              "          document.querySelector('#df-08372ce3-1b98-4140-8221-f495db133df1 button.colab-df-convert');\n",
              "        buttonEl.style.display =\n",
              "          google.colab.kernel.accessAllowed ? 'block' : 'none';\n",
              "\n",
              "        async function convertToInteractive(key) {\n",
              "          const element = document.querySelector('#df-08372ce3-1b98-4140-8221-f495db133df1');\n",
              "          const dataTable =\n",
              "            await google.colab.kernel.invokeFunction('convertToInteractive',\n",
              "                                                     [key], {});\n",
              "          if (!dataTable) return;\n",
              "\n",
              "          const docLinkHtml = 'Like what you see? Visit the ' +\n",
              "            '<a target=\"_blank\" href=https://colab.research.google.com/notebooks/data_table.ipynb>data table notebook</a>'\n",
              "            + ' to learn more about interactive tables.';\n",
              "          element.innerHTML = '';\n",
              "          dataTable['output_type'] = 'display_data';\n",
              "          await google.colab.output.renderOutput(dataTable, element);\n",
              "          const docLink = document.createElement('div');\n",
              "          docLink.innerHTML = docLinkHtml;\n",
              "          element.appendChild(docLink);\n",
              "        }\n",
              "      </script>\n",
              "    </div>\n",
              "  </div>\n",
              "  "
            ]
          },
          "metadata": {},
          "execution_count": 26
        }
      ],
      "source": [
        "jonson = pd.read_csv(r'jj.csv') # Jonson & Jonson\n",
        "jonson.head()"
      ]
    },
    {
      "cell_type": "code",
      "source": [],
      "metadata": {
        "id": "vKnIkXb-hj3-"
      },
      "execution_count": null,
      "outputs": []
    },
    {
      "cell_type": "code",
      "execution_count": 27,
      "metadata": {
        "colab": {
          "base_uri": "https://localhost:8080/",
          "height": 206
        },
        "id": "GjDk4XmQNKOY",
        "outputId": "fb4d4966-fcec-4d3c-cdee-4c199b7cd2c9"
      },
      "outputs": [
        {
          "output_type": "execute_result",
          "data": {
            "text/plain": [
              "     index     value\n",
              "1  1960 Q2 -0.119545\n",
              "2  1960 Q3  0.299517\n",
              "3  1960 Q4 -0.658462\n",
              "4  1961 Q1  0.326684\n",
              "5  1961 Q2  0.123233"
            ],
            "text/html": [
              "\n",
              "  <div id=\"df-6771c219-2c2a-43d0-9e52-579a815b19cd\">\n",
              "    <div class=\"colab-df-container\">\n",
              "      <div>\n",
              "<style scoped>\n",
              "    .dataframe tbody tr th:only-of-type {\n",
              "        vertical-align: middle;\n",
              "    }\n",
              "\n",
              "    .dataframe tbody tr th {\n",
              "        vertical-align: top;\n",
              "    }\n",
              "\n",
              "    .dataframe thead th {\n",
              "        text-align: right;\n",
              "    }\n",
              "</style>\n",
              "<table border=\"1\" class=\"dataframe\">\n",
              "  <thead>\n",
              "    <tr style=\"text-align: right;\">\n",
              "      <th></th>\n",
              "      <th>index</th>\n",
              "      <th>value</th>\n",
              "    </tr>\n",
              "  </thead>\n",
              "  <tbody>\n",
              "    <tr>\n",
              "      <th>1</th>\n",
              "      <td>1960 Q2</td>\n",
              "      <td>-0.119545</td>\n",
              "    </tr>\n",
              "    <tr>\n",
              "      <th>2</th>\n",
              "      <td>1960 Q3</td>\n",
              "      <td>0.299517</td>\n",
              "    </tr>\n",
              "    <tr>\n",
              "      <th>3</th>\n",
              "      <td>1960 Q4</td>\n",
              "      <td>-0.658462</td>\n",
              "    </tr>\n",
              "    <tr>\n",
              "      <th>4</th>\n",
              "      <td>1961 Q1</td>\n",
              "      <td>0.326684</td>\n",
              "    </tr>\n",
              "    <tr>\n",
              "      <th>5</th>\n",
              "      <td>1961 Q2</td>\n",
              "      <td>0.123233</td>\n",
              "    </tr>\n",
              "  </tbody>\n",
              "</table>\n",
              "</div>\n",
              "      <button class=\"colab-df-convert\" onclick=\"convertToInteractive('df-6771c219-2c2a-43d0-9e52-579a815b19cd')\"\n",
              "              title=\"Convert this dataframe to an interactive table.\"\n",
              "              style=\"display:none;\">\n",
              "        \n",
              "  <svg xmlns=\"http://www.w3.org/2000/svg\" height=\"24px\"viewBox=\"0 0 24 24\"\n",
              "       width=\"24px\">\n",
              "    <path d=\"M0 0h24v24H0V0z\" fill=\"none\"/>\n",
              "    <path d=\"M18.56 5.44l.94 2.06.94-2.06 2.06-.94-2.06-.94-.94-2.06-.94 2.06-2.06.94zm-11 1L8.5 8.5l.94-2.06 2.06-.94-2.06-.94L8.5 2.5l-.94 2.06-2.06.94zm10 10l.94 2.06.94-2.06 2.06-.94-2.06-.94-.94-2.06-.94 2.06-2.06.94z\"/><path d=\"M17.41 7.96l-1.37-1.37c-.4-.4-.92-.59-1.43-.59-.52 0-1.04.2-1.43.59L10.3 9.45l-7.72 7.72c-.78.78-.78 2.05 0 2.83L4 21.41c.39.39.9.59 1.41.59.51 0 1.02-.2 1.41-.59l7.78-7.78 2.81-2.81c.8-.78.8-2.07 0-2.86zM5.41 20L4 18.59l7.72-7.72 1.47 1.35L5.41 20z\"/>\n",
              "  </svg>\n",
              "      </button>\n",
              "      \n",
              "  <style>\n",
              "    .colab-df-container {\n",
              "      display:flex;\n",
              "      flex-wrap:wrap;\n",
              "      gap: 12px;\n",
              "    }\n",
              "\n",
              "    .colab-df-convert {\n",
              "      background-color: #E8F0FE;\n",
              "      border: none;\n",
              "      border-radius: 50%;\n",
              "      cursor: pointer;\n",
              "      display: none;\n",
              "      fill: #1967D2;\n",
              "      height: 32px;\n",
              "      padding: 0 0 0 0;\n",
              "      width: 32px;\n",
              "    }\n",
              "\n",
              "    .colab-df-convert:hover {\n",
              "      background-color: #E2EBFA;\n",
              "      box-shadow: 0px 1px 2px rgba(60, 64, 67, 0.3), 0px 1px 3px 1px rgba(60, 64, 67, 0.15);\n",
              "      fill: #174EA6;\n",
              "    }\n",
              "\n",
              "    [theme=dark] .colab-df-convert {\n",
              "      background-color: #3B4455;\n",
              "      fill: #D2E3FC;\n",
              "    }\n",
              "\n",
              "    [theme=dark] .colab-df-convert:hover {\n",
              "      background-color: #434B5C;\n",
              "      box-shadow: 0px 1px 3px 1px rgba(0, 0, 0, 0.15);\n",
              "      filter: drop-shadow(0px 1px 2px rgba(0, 0, 0, 0.3));\n",
              "      fill: #FFFFFF;\n",
              "    }\n",
              "  </style>\n",
              "\n",
              "      <script>\n",
              "        const buttonEl =\n",
              "          document.querySelector('#df-6771c219-2c2a-43d0-9e52-579a815b19cd button.colab-df-convert');\n",
              "        buttonEl.style.display =\n",
              "          google.colab.kernel.accessAllowed ? 'block' : 'none';\n",
              "\n",
              "        async function convertToInteractive(key) {\n",
              "          const element = document.querySelector('#df-6771c219-2c2a-43d0-9e52-579a815b19cd');\n",
              "          const dataTable =\n",
              "            await google.colab.kernel.invokeFunction('convertToInteractive',\n",
              "                                                     [key], {});\n",
              "          if (!dataTable) return;\n",
              "\n",
              "          const docLinkHtml = 'Like what you see? Visit the ' +\n",
              "            '<a target=\"_blank\" href=https://colab.research.google.com/notebooks/data_table.ipynb>data table notebook</a>'\n",
              "            + ' to learn more about interactive tables.';\n",
              "          element.innerHTML = '';\n",
              "          dataTable['output_type'] = 'display_data';\n",
              "          await google.colab.output.renderOutput(dataTable, element);\n",
              "          const docLink = document.createElement('div');\n",
              "          docLink.innerHTML = docLinkHtml;\n",
              "          element.appendChild(docLink);\n",
              "        }\n",
              "      </script>\n",
              "    </div>\n",
              "  </div>\n",
              "  "
            ]
          },
          "metadata": {},
          "execution_count": 27
        }
      ],
      "source": [
        "# The log difference to make data stationary\n",
        "jonson['value'] = np.log(jonson['value'])           # log of values\n",
        "jonson['value'] = jonson['value'].diff()            # Take first difference\n",
        "jonson = jonson.drop(jonson.index[0])               # Remove first observation\n",
        "jonson.head()"
      ]
    },
    {
      "cell_type": "markdown",
      "metadata": {
        "id": "lEY2tjVrNKOZ"
      },
      "source": [
        "### Method of Moments Estimation\n",
        "\n",
        "While discussing method of moments, we will assume $\\mu=0 .$ We consider the case in which the method leads to optimal (efficient) estimators, that is, AR $(p)$ models,\n",
        "\n",
        "$$\n",
        "x_{t}=\\phi_{1} x_{t-1}+\\cdots+\\phi_{p} x_{t-p}+w_{t}\n",
        "$$\n",
        "\n",
        "where the first $p+1$ equations of ACF (TS, p. 97) lead to the following:\n",
        "\n",
        "**Definition:** The Yule-Walker equations are given by\n",
        "\n",
        "$$\n",
        "\\begin{aligned}\n",
        "\\gamma(h) &=\\phi_{1} \\gamma(h-1)+\\cdots+\\phi_{p} \\gamma(h-p), \\quad h=1,2, \\ldots, p \\\\\n",
        "\\sigma_{w}^{2} &=\\gamma(0)-\\phi_{1} \\gamma(1)-\\cdots-\\phi_{p} \\gamma(p)\n",
        "\\end{aligned}\n",
        "$$\n",
        "\n",
        "In matrix notation, the Yule-Walker equations are\n",
        "\n",
        "$$\n",
        "\\Gamma_{p} \\phi=\\gamma_{p}, \\quad \\sigma_{w}^{2}=\\gamma(0)-\\phi^{\\prime} \\gamma_{p}\n",
        "$$\n",
        "\n",
        "where $\\Gamma_{p}=\\{\\gamma(k-j)\\}_{j, k=1}^{p}$ is a $p \\times p$ matrix, $\\phi=\\left(\\phi_{1}, \\ldots, \\phi_{p}\\right)^{\\prime}$ is a $p \\times 1$ vector, and $\\gamma_{p}=(\\gamma(1), \\ldots, \\gamma(p))^{\\prime}$ is a $p \\times 1$ vector. Using the **method of moments**, we replace $\\gamma(h)$ by $\\hat{\\gamma}(h)$ and solve\n",
        "\n",
        "$$\n",
        "\\hat{\\phi}=\\hat{\\Gamma}_{p}^{-1} \\hat{\\gamma}_{p}, \\quad \\hat{\\sigma}_{w}^{2}=\\hat{\\gamma}(0)-\\hat{\\gamma}_{p}^{\\prime} \\hat{\\Gamma}_{p}^{-1} \\hat{\\gamma}_{p}\n",
        "$$\n",
        "\n",
        "These estimators are typically called the **Yule-Walker estimators**. \n",
        "\n",
        "For $\\mathrm{AR}(p)$ models, if the sample size is large, the Yule-Walker estimators are approximately normally distributed, and $\\hat{\\sigma}_{w}^{2}$ is close to the true value of $\\sigma_{w}^{2}$. \n",
        "\n",
        "**Property** Large Sample Results for Yule-Walker Estimators The asymptotic $(n \\rightarrow \\infty)$ behavior of the Yule-Walker estimators in the case of causal AR(p) processes is as follows:\n",
        "\n",
        "$$\n",
        "\\sqrt{n}(\\hat{\\phi}-\\phi) \\stackrel{d}{\\rightarrow} N\\left(0, \\sigma_{w}^{2} \\Gamma_{p}^{-1}\\right), \\quad \\hat{\\sigma}_{w}^{2} \\stackrel{p}{\\rightarrow} \\sigma_{w}^{2}\n",
        "$$\n",
        "\n",
        "The Durbin-Levinson algorithm can be used to calculate $\\hat{\\phi}$ without inverting $\\hat{\\Gamma}_{p}$ or $\\hat{R}_{p},$ by replacing $\\gamma(h)$ by $\\hat{\\gamma}(h)$ in the algorithm. \n",
        "\n",
        "\n",
        "https://www.statsmodels.org/stable/generated/statsmodels.regression.linear_model.yule_walker.html"
      ]
    },
    {
      "cell_type": "code",
      "execution_count": 28,
      "metadata": {
        "id": "FtbW15YONKOa"
      },
      "outputs": [],
      "source": [
        "import statsmodels.api as sm\n",
        "from statsmodels.datasets.sunspots import load\n",
        "phi, sigma = sm.regression.yule_walker(jonson['value'], order=3)"
      ]
    },
    {
      "cell_type": "code",
      "execution_count": 29,
      "metadata": {
        "colab": {
          "base_uri": "https://localhost:8080/"
        },
        "id": "g5zwbgCKNKOa",
        "outputId": "239ea3bd-aeec-40dc-8641-625cecdc5bbd"
      },
      "outputs": [
        {
          "output_type": "execute_result",
          "data": {
            "text/plain": [
              "array([-0.84414085, -0.74496406, -0.74206656])"
            ]
          },
          "metadata": {},
          "execution_count": 29
        }
      ],
      "source": [
        "# parameters of AR(3)\n",
        "phi"
      ]
    },
    {
      "cell_type": "code",
      "execution_count": 30,
      "metadata": {
        "colab": {
          "base_uri": "https://localhost:8080/"
        },
        "id": "d2iYN6vlNKOb",
        "outputId": "26c42eff-79b9-4ef2-e9c6-6ae9532d1a09"
      },
      "outputs": [
        {
          "output_type": "execute_result",
          "data": {
            "text/plain": [
              "0.11596548431764246"
            ]
          },
          "metadata": {},
          "execution_count": 30
        }
      ],
      "source": [
        "# residual (innovations) standard deviation\n",
        "sigma"
      ]
    },
    {
      "cell_type": "markdown",
      "metadata": {
        "id": "4nZO9u3cNKOb"
      },
      "source": [
        "## Maximum Likelihood Estimation\n",
        "\n",
        "To fix ideas, we first focus on the causal AR(1) case. Let\n",
        "\n",
        "$$\n",
        "x_{t}=\\mu+\\phi\\left(x_{t-1}-\\mu\\right)+w_{t}\n",
        "$$\n",
        "\n",
        "where $|\\phi|<1$ and $w_{t} \\sim \\operatorname{iid} \\mathrm{N}\\left(0, \\sigma_{w}^{2}\\right) .$ Given data $x_{1}, x_{2}, \\ldots, x_{n},$ we seek the likelihood\n",
        "\n",
        "$$\n",
        "L\\left(\\mu, \\phi, \\sigma_{w}^{2}\\right)=f\\left(x_{1}, x_{2}, \\ldots, x_{n} \\mid \\mu, \\phi, \\sigma_{w}^{2}\\right)\n",
        "$$\n",
        "\n",
        "In the case of an AR(1), we may write the likelihood as\n",
        "\n",
        "$$\n",
        "L\\left(\\mu, \\phi, \\sigma_{w}^{2}\\right)=f\\left(x_{1}\\right) f\\left(x_{2} \\mid x_{1}\\right) \\cdots f\\left(x_{n} \\mid x_{n-1}\\right)\n",
        "$$\n",
        "\n",
        "where we have dropped the parameters in the densities, $f(\\cdot),$ to ease the notation. Because $x_{t} \\mid x_{t-1} \\sim \\mathrm{N}\\left(\\mu+\\phi\\left(x_{t-1}-\\mu\\right), \\sigma_{w}^{2}\\right),$ we have\n",
        "\n",
        "$$\n",
        "f\\left(x_{t} \\mid x_{t-1}\\right)=f_{w}\\left[\\left(x_{t}-\\mu\\right)-\\phi\\left(x_{t-1}-\\mu\\right)\\right]\n",
        "$$\n",
        "\n",
        "where $f_{w}(\\cdot)$ is the density of $w_{t},$ that is, the normal density with mean zero and variance $\\sigma_{w}^{2}$. We may then write the likelihood as\n",
        "\n",
        "$$\n",
        "L\\left(\\mu, \\phi, \\sigma_{w}\\right)=f\\left(x_{1}\\right) \\prod_{t=2}^{n} f_{w}\\left[\\left(x_{t}-\\mu\\right)-\\phi\\left(x_{t-1}-\\mu\\right)\\right] .\n",
        "$$\n",
        "\n",
        "To find $f\\left(x_{1}\\right),$ we can use the causal representation\n",
        "\n",
        "$$\n",
        "x_{1}=\\mu+\\sum_{j=0}^{\\infty} \\phi^{j} w_{1-j}\n",
        "$$\n",
        "\n",
        "to see that $x_{1}$ is normal, with mean $\\mu$ and variance $\\sigma_{w}^{2} /\\left(1-\\phi^{2}\\right)$. Finally, for an AR(1), the likelihood is\n",
        "\n",
        "$$\n",
        "L\\left(\\mu, \\phi, \\sigma_{w}^{2}\\right)=\\left(2 \\pi \\sigma_{w}^{2}\\right)^{-n / 2}\\left(1-\\phi^{2}\\right)^{1 / 2} \\exp \\left[-\\frac{S(\\mu, \\phi)}{2 \\sigma_{w}^{2}}\\right],\n",
        "$$\n",
        "where\n",
        "\n",
        "$$\n",
        "S(\\mu, \\phi)=\\left(1-\\phi^{2}\\right)\\left(x_{1}-\\mu\\right)^{2}+\\sum_{t=2}^{n}\\left[\\left(x_{t}-\\mu\\right)-\\phi\\left(x_{t-1}-\\mu\\right)\\right]^{2}\n",
        "$$\n",
        "\n",
        "Typically, $S(\\mu, \\phi)$ is called the unconditional sum of squares. \n",
        "\n",
        "Taking the partial derlvative of the log of likelihood function with respect to $\\sigma_{w}^{2}$ and setting the result equal to zero, we get that for any given values of $\\mu$ and $\\phi$ in the parameter space, $\\sigma_{w}^{2}=n^{-1} S(\\mu, \\phi)$ maximizes the likelihood. Thus, the maximum likelihood estimate of $\\sigma_{w}^{2}$ is\n",
        "$$\n",
        "\\hat{\\sigma}_{w}^{2}=n^{-1} S(\\hat{\\mu}, \\hat{\\phi}),\n",
        "$$\n",
        "where $\\hat{\\mu}$ and $\\hat{\\phi}$ are the MLEs of $\\mu$ and $\\phi$, respectively. \n",
        " \n",
        "To have more convenient variant of linkelihood function, $l(\\mu, \\phi)$, we replace $\\sigma_{w}^{2}$ by $\\hat{\\sigma}_{w}^{2}$, take logs and ignore constants. Because $l(\\mu, \\phi)$ and $S(\\mu, \\phi)$ are complicated functions of the parameters, the minimization is accomplished numerically. \n",
        "\n",
        "\n",
        "In the case of AR models, we have the advantage that, conditional on inital values, they are linear models. That is, we can drop the term in the likelihood that causes the nonlinearity. Conditioning on $x_{1},$ the conditional likelihood becomes\n",
        "\n",
        "$$\n",
        "\\begin{aligned}\n",
        "L\\left(\\mu, \\phi, \\sigma_{w}^{2} \\mid x_{1}\\right) &=\\prod_{t=2}^{n} f_{w}\\left[\\left(x_{t}-\\mu\\right)-\\phi\\left(x_{t-1}-\\mu\\right)\\right] \\\\\n",
        "&=\\left(2 \\pi \\sigma_{w}^{2}\\right)^{-(n-1) / 2} \\exp \\left[-\\frac{S_{c}(\\mu, \\phi)}{2 \\sigma_{w}^{2}}\\right]\n",
        "\\end{aligned}\n",
        "$$\n",
        "\n",
        "where the conditional sum of squares is\n",
        "\n",
        "$$\n",
        "S_{c}(\\mu, \\phi)=\\sum_{t=2}^{n}\\left[\\left(x_{t}-\\mu\\right)-\\phi\\left(x_{t-1}-\\mu\\right)\\right]^{2}\n",
        "$$\n",
        "\n",
        "The conditional MLE of $\\sigma_{w}^{2}$ is\n",
        "\n",
        "$$\n",
        "\\hat{\\sigma}_{w}^{2}=S_{c}(\\hat{\\mu}, \\hat{\\phi}) /(n-1)\n",
        "$$\n",
        "\n",
        "and $\\hat{\\mu}$ and $\\hat{\\phi}$ are the values that minimize the conditional sum of squares, $S_{c}(\\mu, \\phi)$. \n",
        "\n"
      ]
    },
    {
      "cell_type": "code",
      "source": [
        "#help(ARIMA)"
      ],
      "metadata": {
        "id": "BsS6H1XVkB2K"
      },
      "execution_count": 22,
      "outputs": []
    },
    {
      "cell_type": "code",
      "source": [
        "from statsmodels.tsa.arima.model import ARIMA\n",
        "mod_mle = ARIMA(jonson['value'], order=(3,0,0))\n",
        "result_mle = mod_mle.fit()\n",
        "print(result_mle.summary())"
      ],
      "metadata": {
        "colab": {
          "base_uri": "https://localhost:8080/"
        },
        "id": "SFXTgdQKpAAD",
        "outputId": "85c0f5a9-c550-4322-f234-360ea51efdf1"
      },
      "execution_count": 35,
      "outputs": [
        {
          "output_type": "stream",
          "name": "stdout",
          "text": [
            "                               SARIMAX Results                                \n",
            "==============================================================================\n",
            "Dep. Variable:                  value   No. Observations:                   83\n",
            "Model:                 ARIMA(3, 0, 0)   Log Likelihood                  77.908\n",
            "Date:                Sun, 19 Mar 2023   AIC                           -145.815\n",
            "Time:                        20:52:10   BIC                           -133.721\n",
            "Sample:                             0   HQIC                          -140.957\n",
            "                                 - 83                                         \n",
            "Covariance Type:                  opg                                         \n",
            "==============================================================================\n",
            "                 coef    std err          z      P>|z|      [0.025      0.975]\n",
            "------------------------------------------------------------------------------\n",
            "const          0.0389      0.003     12.743      0.000       0.033       0.045\n",
            "ar.L1         -0.9194      0.054    -17.115      0.000      -1.025      -0.814\n",
            "ar.L2         -0.8470      0.081    -10.427      0.000      -1.006      -0.688\n",
            "ar.L3         -0.8906      0.044    -20.314      0.000      -0.977      -0.805\n",
            "sigma2         0.0084      0.001      6.614      0.000       0.006       0.011\n",
            "===================================================================================\n",
            "Ljung-Box (L1) (Q):                   5.15   Jarque-Bera (JB):                 1.99\n",
            "Prob(Q):                              0.02   Prob(JB):                         0.37\n",
            "Heteroskedasticity (H):               0.53   Skew:                            -0.14\n",
            "Prob(H) (two-sided):                  0.10   Kurtosis:                         3.71\n",
            "===================================================================================\n",
            "\n",
            "Warnings:\n",
            "[1] Covariance matrix calculated using the outer product of gradients (complex-step).\n"
          ]
        }
      ]
    },
    {
      "cell_type": "code",
      "execution_count": 31,
      "metadata": {
        "scrolled": true,
        "colab": {
          "base_uri": "https://localhost:8080/"
        },
        "id": "vnbkKaOvNKOc",
        "outputId": "56d862cf-621d-4653-b350-b06e524c8421"
      },
      "outputs": [
        {
          "output_type": "stream",
          "name": "stdout",
          "text": [
            "                               SARIMAX Results                                \n",
            "==============================================================================\n",
            "Dep. Variable:                  value   No. Observations:                   83\n",
            "Model:                 ARIMA(3, 0, 0)   Log Likelihood                  77.908\n",
            "Date:                Sun, 19 Mar 2023   AIC                           -145.817\n",
            "Time:                        20:50:48   BIC                           -133.723\n",
            "Sample:                             0   HQIC                          -140.958\n",
            "                                 - 83                                         \n",
            "Covariance Type:                  opg                                         \n",
            "==============================================================================\n",
            "                 coef    std err          z      P>|z|      [0.025      0.975]\n",
            "------------------------------------------------------------------------------\n",
            "const          0.0389      0.003     12.733      0.000       0.033       0.045\n",
            "ar.L1         -0.9198      0.054    -17.116      0.000      -1.025      -0.814\n",
            "ar.L2         -0.8457      0.081    -10.407      0.000      -1.005      -0.686\n",
            "ar.L3         -0.8896      0.044    -20.283      0.000      -0.976      -0.804\n",
            "sigma2         0.0084      0.001      6.612      0.000       0.006       0.011\n",
            "===================================================================================\n",
            "Ljung-Box (L1) (Q):                   5.14   Jarque-Bera (JB):                 2.02\n",
            "Prob(Q):                              0.02   Prob(JB):                         0.36\n",
            "Heteroskedasticity (H):               0.53   Skew:                            -0.14\n",
            "Prob(H) (two-sided):                  0.10   Kurtosis:                         3.71\n",
            "===================================================================================\n",
            "\n",
            "Warnings:\n",
            "[1] Covariance matrix calculated using the outer product of gradients (complex-step).\n"
          ]
        }
      ],
      "source": [
        "from statsmodels.tsa.arima.model import ARIMA\n",
        "mod_mle = ARIMA(jonson['value'], order=(3,0,0))\n",
        "result_mle = mod_mle.fit(method = \"innovations_mle\")\n",
        "print(result_mle.summary())"
      ]
    },
    {
      "cell_type": "markdown",
      "metadata": {
        "id": "JRkReShjNKOd"
      },
      "source": [
        "## Least Squares Estimation\n",
        "\n",
        "We could have also considered the estimation of $\\mu$ and $\\phi$ using unconditional least squares, that is, estimatlon by minimizing $S(\\mu, \\phi)$.\n",
        "\n",
        "\n",
        "Letting $\\alpha=\\mu(1-\\phi)$, the conditional sum of squares can be written as\n",
        "\n",
        "$$\n",
        "S_{c}(\\mu, \\phi)=\\sum_{t=2}^{n}\\left[x_{t}-\\left(\\alpha+\\phi x_{t-1}\\right)\\right]^{2}\n",
        "$$\n",
        "\n",
        "The problem is now the linear regression problem (Section 2.1, TS). Following the results from least squares estimation, we have $\\hat{\\alpha}=\\bar{x}_{(2)}-\\hat{\\phi} \\bar{x}_{(1)},$ where $\\bar{x}_{(1)}=$ $(n-1)^{-1} \\sum_{t-1}^{n-1} x_{t},$ and $\\bar{x}_{(2)}=(n-1)^{-1} \\sum_{t-2}^{n} x_{t},$ and the conditional estimates are then\n",
        "\n",
        "$$\n",
        "\\begin{array}{c}\n",
        "\\hat{\\mu}=\\frac{\\bar{x}_{(2)}-\\hat{\\phi} \\bar{x}_{(1)}}{1-\\hat{\\phi}} \\\\\n",
        "\\hat{\\phi}=\\frac{\\sum_{t-2}^{n}\\left(x_{I}-\\bar{x}_{(2)}\\right)\\left(x_{t-1}-\\bar{x}_{(1)}\\right)}{\\sum_{t-2}^{n}\\left(x_{t-1}-\\bar{x}_{(1)}\\right)^{2}}\n",
        "\\end{array}\n",
        "$$\n",
        "\n",
        "\n",
        "\n",
        "From the last two equations, we see that $\\hat{\\mu} \\approx \\bar{x}$ and $\\hat{\\phi} \\approx \\hat{\\rho}(1) .$ That is, the Yule-Walker estimators and the conditional least squares estimators are approximately the same. The only difference is the inclusion or exclusion of terms involving the endpoints, $x_{1}$ and $x_{n}$. We can also adjust the estimate of $\\sigma_{w}^{2}$ to be equivalent to the least squares estimator, that is, divide $S_{c}(\\hat{\\mu}, \\hat{\\phi})$ by $(n-3)$ instead of $(n-1)$ in $\\hat{\\sigma}_{w}^{2}=S_{c}(\\hat{\\mu}, \\hat{\\phi}) /(n-1)$."
      ]
    },
    {
      "cell_type": "code",
      "execution_count": 36,
      "metadata": {
        "id": "CnOClF5vNKOe"
      },
      "outputs": [],
      "source": [
        "# generate lag = 1,2,3 as a new columns in dataframe \n",
        "jonson['lag1'] = jonson['value'].shift(1)\n",
        "jonson['lag2'] = jonson['value'].shift(2)\n",
        "jonson['lag3'] = jonson['value'].shift(3)"
      ]
    },
    {
      "cell_type": "code",
      "execution_count": 37,
      "metadata": {
        "colab": {
          "base_uri": "https://localhost:8080/"
        },
        "id": "A-Z9dJunNKOe",
        "outputId": "d6aac438-08fe-4194-cc82-80f11a038808"
      },
      "outputs": [
        {
          "output_type": "stream",
          "name": "stdout",
          "text": [
            "                            OLS Regression Results                            \n",
            "==============================================================================\n",
            "Dep. Variable:                  value   R-squared:                       0.802\n",
            "Model:                            OLS   Adj. R-squared:                  0.794\n",
            "Method:                 Least Squares   F-statistic:                     102.5\n",
            "Date:                Sun, 19 Mar 2023   Prob (F-statistic):           1.24e-26\n",
            "Time:                        20:52:34   Log-Likelihood:                 81.942\n",
            "No. Observations:                  80   AIC:                            -155.9\n",
            "Df Residuals:                      76   BIC:                            -146.4\n",
            "Df Model:                           3                                         \n",
            "Covariance Type:            nonrobust                                         \n",
            "==============================================================================\n",
            "                 coef    std err          t      P>|t|      [0.025      0.975]\n",
            "------------------------------------------------------------------------------\n",
            "Intercept      0.1358      0.012     11.765      0.000       0.113       0.159\n",
            "lag1          -0.8562      0.059    -14.495      0.000      -0.974      -0.739\n",
            "lag2          -0.8184      0.068    -11.950      0.000      -0.955      -0.682\n",
            "lag3          -0.8001      0.059    -13.643      0.000      -0.917      -0.683\n",
            "==============================================================================\n",
            "Omnibus:                        0.332   Durbin-Watson:                   1.621\n",
            "Prob(Omnibus):                  0.847   Jarque-Bera (JB):                0.049\n",
            "Skew:                          -0.020   Prob(JB):                        0.976\n",
            "Kurtosis:                       3.114   Cond. No.                         8.94\n",
            "==============================================================================\n",
            "\n",
            "Notes:\n",
            "[1] Standard Errors assume that the covariance matrix of the errors is correctly specified.\n"
          ]
        }
      ],
      "source": [
        "# linear regression via OLS\n",
        "mod_ols = sm.formula.ols(formula = \"value ~ lag1 + lag2+lag3\", \n",
        "                 data=jonson, missing='drop')\n",
        "res_ols = mod_ols.fit()\n",
        "print(res_ols.summary())"
      ]
    },
    {
      "cell_type": "code",
      "execution_count": 38,
      "metadata": {
        "colab": {
          "base_uri": "https://localhost:8080/"
        },
        "id": "LIJ3KnQ6NKOe",
        "outputId": "3e38c1c2-9242-4ffd-8f01-efc34eb5d2a3"
      },
      "outputs": [
        {
          "output_type": "execute_result",
          "data": {
            "text/plain": [
              "0.007643872860016219"
            ]
          },
          "metadata": {},
          "execution_count": 38
        }
      ],
      "source": [
        "res_ols.resid.var()"
      ]
    },
    {
      "cell_type": "markdown",
      "metadata": {
        "id": "TqJEBsY4NKOe"
      },
      "source": [
        "## Application of methods\n",
        "\n",
        "Method of moments estimation is efficient in case of AR(p) processes, least squares and maximum likelihood methods for the ARMA(p,q) and MA(q) processes. By default built in functions use conditional sum of squares and maximum likelihood methods for estimation of ARMA(p,q) processes. Solvers like Newton-Ramphson are used in estimation since the optimization functions are complicated. \n",
        "\n",
        "After the estimation step, **residual diagnostics** can be done, to check the model validity (see the residual plots below). "
      ]
    },
    {
      "cell_type": "code",
      "execution_count": 39,
      "metadata": {
        "colab": {
          "base_uri": "https://localhost:8080/"
        },
        "id": "HXooRh3qNKOf",
        "outputId": "8a62da71-b008-42e6-bb3e-59e863cf0cc8"
      },
      "outputs": [
        {
          "output_type": "stream",
          "name": "stdout",
          "text": [
            "                               SARIMAX Results                                \n",
            "==============================================================================\n",
            "Dep. Variable:                  value   No. Observations:                   83\n",
            "Model:                 ARIMA(3, 0, 0)   Log Likelihood                  77.908\n",
            "Date:                Sun, 19 Mar 2023   AIC                           -145.815\n",
            "Time:                        21:04:13   BIC                           -133.721\n",
            "Sample:                             0   HQIC                          -140.957\n",
            "                                 - 83                                         \n",
            "Covariance Type:                  opg                                         \n",
            "==============================================================================\n",
            "                 coef    std err          z      P>|z|      [0.025      0.975]\n",
            "------------------------------------------------------------------------------\n",
            "const          0.0389      0.003     12.743      0.000       0.033       0.045\n",
            "ar.L1         -0.9194      0.054    -17.115      0.000      -1.025      -0.814\n",
            "ar.L2         -0.8470      0.081    -10.427      0.000      -1.006      -0.688\n",
            "ar.L3         -0.8906      0.044    -20.314      0.000      -0.977      -0.805\n",
            "sigma2         0.0084      0.001      6.614      0.000       0.006       0.011\n",
            "===================================================================================\n",
            "Ljung-Box (L1) (Q):                   5.15   Jarque-Bera (JB):                 1.99\n",
            "Prob(Q):                              0.02   Prob(JB):                         0.37\n",
            "Heteroskedasticity (H):               0.53   Skew:                            -0.14\n",
            "Prob(H) (two-sided):                  0.10   Kurtosis:                         3.71\n",
            "===================================================================================\n",
            "\n",
            "Warnings:\n",
            "[1] Covariance matrix calculated using the outer product of gradients (complex-step).\n"
          ]
        }
      ],
      "source": [
        "from statsmodels.tsa.arima.model import ARIMA\n",
        "mod = ARIMA(jonson['value'], order=(3,0,0))\n",
        "result = mod.fit()\n",
        "print(result.summary())"
      ]
    },
    {
      "cell_type": "code",
      "execution_count": 40,
      "metadata": {
        "colab": {
          "base_uri": "https://localhost:8080/",
          "height": 458
        },
        "id": "AD5uViB3NKOf",
        "outputId": "aa75b666-9ab6-47ed-e1e7-62084187de79"
      },
      "outputs": [
        {
          "output_type": "display_data",
          "data": {
            "text/plain": [
              "<Figure size 864x504 with 4 Axes>"
            ],
            "image/png": "[encoded data removed]"
          },
          "metadata": {
            "needs_background": "light"
          }
        }
      ],
      "source": [
        "result.plot_diagnostics(figsize=(12,7))\n",
        "plt.show()"
      ]
    },
    {
      "cell_type": "markdown",
      "metadata": {
        "id": "V776Q4WnNKOf"
      },
      "source": [
        "It looks like ACF(1) is significantly differs from zero and residuals diverge from fitted line in Q-Q plot. Hence, there is room for improvement. As we know from our previous analysis AR(4) gives better results (has smaller AIC). Though it's not the best model, you can find one considering AIC's or BIC's for different combinations of p and q."
      ]
    },
    {
      "cell_type": "code",
      "execution_count": 41,
      "metadata": {
        "colab": {
          "base_uri": "https://localhost:8080/"
        },
        "id": "NRAMord8NKOg",
        "outputId": "0c7951dc-a0a3-4325-e41c-cf1a0871ee21"
      },
      "outputs": [
        {
          "output_type": "stream",
          "name": "stdout",
          "text": [
            "                               SARIMAX Results                                \n",
            "==============================================================================\n",
            "Dep. Variable:                  value   No. Observations:                   83\n",
            "Model:                 ARIMA(4, 0, 0)   Log Likelihood                  80.624\n",
            "Date:                Sun, 19 Mar 2023   AIC                           -149.248\n",
            "Time:                        21:05:16   BIC                           -134.735\n",
            "Sample:                             0   HQIC                          -143.417\n",
            "                                 - 83                                         \n",
            "Covariance Type:                  opg                                         \n",
            "==============================================================================\n",
            "                 coef    std err          z      P>|z|      [0.025      0.975]\n",
            "------------------------------------------------------------------------------\n",
            "const          0.0384      0.004      9.575      0.000       0.031       0.046\n",
            "ar.L1         -0.6830      0.113     -6.040      0.000      -0.905      -0.461\n",
            "ar.L2         -0.6099      0.117     -5.206      0.000      -0.840      -0.380\n",
            "ar.L3         -0.6221      0.126     -4.941      0.000      -0.869      -0.375\n",
            "ar.L4          0.2823      0.127      2.216      0.027       0.033       0.532\n",
            "sigma2         0.0078      0.001      6.538      0.000       0.005       0.010\n",
            "===================================================================================\n",
            "Ljung-Box (L1) (Q):                   0.03   Jarque-Bera (JB):                 1.94\n",
            "Prob(Q):                              0.85   Prob(JB):                         0.38\n",
            "Heteroskedasticity (H):               0.51   Skew:                            -0.23\n",
            "Prob(H) (two-sided):                  0.08   Kurtosis:                         3.60\n",
            "===================================================================================\n",
            "\n",
            "Warnings:\n",
            "[1] Covariance matrix calculated using the outer product of gradients (complex-step).\n"
          ]
        },
        {
          "output_type": "stream",
          "name": "stderr",
          "text": [
            "/usr/local/lib/python3.9/dist-packages/statsmodels/base/model.py:604: ConvergenceWarning: Maximum Likelihood optimization failed to converge. Check mle_retvals\n",
            "  warnings.warn(\"Maximum Likelihood optimization failed to \"\n"
          ]
        }
      ],
      "source": [
        "from statsmodels.tsa.arima.model import ARIMA\n",
        "mod = ARIMA(jonson['value'], order=(4,0,0))\n",
        "result = mod.fit()\n",
        "print(result.summary())"
      ]
    },
    {
      "cell_type": "code",
      "execution_count": 42,
      "metadata": {
        "colab": {
          "base_uri": "https://localhost:8080/",
          "height": 458
        },
        "id": "rcJNOC5vNKOh",
        "outputId": "60c58d40-2549-407f-8592-0882cd04abb5"
      },
      "outputs": [
        {
          "output_type": "display_data",
          "data": {
            "text/plain": [
              "<Figure size 864x504 with 4 Axes>"
            ],
            "image/png": "[encoded data removed]"
          },
          "metadata": {
            "needs_background": "light"
          }
        }
      ],
      "source": [
        "result.plot_diagnostics(figsize=(12,7))\n",
        "plt.show()"
      ]
    }
  ],
  "metadata": {
    "kernelspec": {
      "display_name": "Python 3",
      "language": "python",
      "name": "python3"
    },
    "language_info": {
      "codemirror_mode": {
        "name": "ipython",
        "version": 3
      },
      "file_extension": ".py",
      "mimetype": "text/x-python",
      "name": "python",
      "nbconvert_exporter": "python",
      "pygments_lexer": "ipython3",
      "version": "3.7.4"
    },
    "colab": {
      "provenance": []
    }
  },
  "nbformat": 4,
  "nbformat_minor": 0
}