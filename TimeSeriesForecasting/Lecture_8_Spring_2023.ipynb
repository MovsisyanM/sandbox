{
  "cells": [
    {
      "cell_type": "markdown",
      "metadata": {
        "id": "ZyV5UF-WqzOc"
      },
      "source": [
        "### 1. Augmented Dickey-Fuller (ADF) test \n",
        "\n",
        "### 2.  Kwiatkowski–Phillips–Schmidt–Shin (KPSS) test \n",
        "\n",
        "### 3. Seasonal Autoregressive Integrated Moving Average (SARIMA) process\n",
        "\n",
        "### 4. auto_arima from pmdarima package"
      ]
    },
    {
      "cell_type": "code",
      "execution_count": 1,
      "metadata": {
        "id": "ltEilAbXqzOe"
      },
      "outputs": [],
      "source": [
        "import numpy as np\n",
        "import pandas as pd\n",
        "import matplotlib.pyplot as plt\n",
        "\n",
        "#import os\n",
        "#os.chdir(\"C:\\\\Users\\\\Aram\\\\Documents\\\\Work\\\\AUA\\\\Time Series Forecasting\\\\Slides\\\\Lecture 8\\\\\")"
      ]
    },
    {
      "cell_type": "markdown",
      "metadata": {
        "id": "uEXIrjTxqzOf"
      },
      "source": [
        "### Air Passengers data"
      ]
    },
    {
      "cell_type": "code",
      "execution_count": 2,
      "metadata": {
        "colab": {
          "base_uri": "https://localhost:8080/",
          "height": 237
        },
        "id": "d3iEcxBvqzOg",
        "outputId": "50f5b74d-83a9-4f43-e1b4-2b1954a75c58"
      },
      "outputs": [
        {
          "output_type": "execute_result",
          "data": {
            "text/plain": [
              "            value\n",
              "index            \n",
              "1949-01-01    112\n",
              "1949-02-01    118\n",
              "1949-03-01    132\n",
              "1949-04-01    129\n",
              "1949-05-01    121"
            ],
            "text/html": [
              "\n",
              "  <div id=\"df-2855c9c9-5b48-490f-a03d-a62a95dcbe69\">\n",
              "    <div class=\"colab-df-container\">\n",
              "      <div>\n",
              "<style scoped>\n",
              "    .dataframe tbody tr th:only-of-type {\n",
              "        vertical-align: middle;\n",
              "    }\n",
              "\n",
              "    .dataframe tbody tr th {\n",
              "        vertical-align: top;\n",
              "    }\n",
              "\n",
              "    .dataframe thead th {\n",
              "        text-align: right;\n",
              "    }\n",
              "</style>\n",
              "<table border=\"1\" class=\"dataframe\">\n",
              "  <thead>\n",
              "    <tr style=\"text-align: right;\">\n",
              "      <th></th>\n",
              "      <th>value</th>\n",
              "    </tr>\n",
              "    <tr>\n",
              "      <th>index</th>\n",
              "      <th></th>\n",
              "    </tr>\n",
              "  </thead>\n",
              "  <tbody>\n",
              "    <tr>\n",
              "      <th>1949-01-01</th>\n",
              "      <td>112</td>\n",
              "    </tr>\n",
              "    <tr>\n",
              "      <th>1949-02-01</th>\n",
              "      <td>118</td>\n",
              "    </tr>\n",
              "    <tr>\n",
              "      <th>1949-03-01</th>\n",
              "      <td>132</td>\n",
              "    </tr>\n",
              "    <tr>\n",
              "      <th>1949-04-01</th>\n",
              "      <td>129</td>\n",
              "    </tr>\n",
              "    <tr>\n",
              "      <th>1949-05-01</th>\n",
              "      <td>121</td>\n",
              "    </tr>\n",
              "  </tbody>\n",
              "</table>\n",
              "</div>\n",
              "      <button class=\"colab-df-convert\" onclick=\"convertToInteractive('df-2855c9c9-5b48-490f-a03d-a62a95dcbe69')\"\n",
              "              title=\"Convert this dataframe to an interactive table.\"\n",
              "              style=\"display:none;\">\n",
              "        \n",
              "  <svg xmlns=\"http://www.w3.org/2000/svg\" height=\"24px\"viewBox=\"0 0 24 24\"\n",
              "       width=\"24px\">\n",
              "    <path d=\"M0 0h24v24H0V0z\" fill=\"none\"/>\n",
              "    <path d=\"M18.56 5.44l.94 2.06.94-2.06 2.06-.94-2.06-.94-.94-2.06-.94 2.06-2.06.94zm-11 1L8.5 8.5l.94-2.06 2.06-.94-2.06-.94L8.5 2.5l-.94 2.06-2.06.94zm10 10l.94 2.06.94-2.06 2.06-.94-2.06-.94-.94-2.06-.94 2.06-2.06.94z\"/><path d=\"M17.41 7.96l-1.37-1.37c-.4-.4-.92-.59-1.43-.59-.52 0-1.04.2-1.43.59L10.3 9.45l-7.72 7.72c-.78.78-.78 2.05 0 2.83L4 21.41c.39.39.9.59 1.41.59.51 0 1.02-.2 1.41-.59l7.78-7.78 2.81-2.81c.8-.78.8-2.07 0-2.86zM5.41 20L4 18.59l7.72-7.72 1.47 1.35L5.41 20z\"/>\n",
              "  </svg>\n",
              "      </button>\n",
              "      \n",
              "  <style>\n",
              "    .colab-df-container {\n",
              "      display:flex;\n",
              "      flex-wrap:wrap;\n",
              "      gap: 12px;\n",
              "    }\n",
              "\n",
              "    .colab-df-convert {\n",
              "      background-color: #E8F0FE;\n",
              "      border: none;\n",
              "      border-radius: 50%;\n",
              "      cursor: pointer;\n",
              "      display: none;\n",
              "      fill: #1967D2;\n",
              "      height: 32px;\n",
              "      padding: 0 0 0 0;\n",
              "      width: 32px;\n",
              "    }\n",
              "\n",
              "    .colab-df-convert:hover {\n",
              "      background-color: #E2EBFA;\n",
              "      box-shadow: 0px 1px 2px rgba(60, 64, 67, 0.3), 0px 1px 3px 1px rgba(60, 64, 67, 0.15);\n",
              "      fill: #174EA6;\n",
              "    }\n",
              "\n",
              "    [theme=dark] .colab-df-convert {\n",
              "      background-color: #3B4455;\n",
              "      fill: #D2E3FC;\n",
              "    }\n",
              "\n",
              "    [theme=dark] .colab-df-convert:hover {\n",
              "      background-color: #434B5C;\n",
              "      box-shadow: 0px 1px 3px 1px rgba(0, 0, 0, 0.15);\n",
              "      filter: drop-shadow(0px 1px 2px rgba(0, 0, 0, 0.3));\n",
              "      fill: #FFFFFF;\n",
              "    }\n",
              "  </style>\n",
              "\n",
              "      <script>\n",
              "        const buttonEl =\n",
              "          document.querySelector('#df-2855c9c9-5b48-490f-a03d-a62a95dcbe69 button.colab-df-convert');\n",
              "        buttonEl.style.display =\n",
              "          google.colab.kernel.accessAllowed ? 'block' : 'none';\n",
              "\n",
              "        async function convertToInteractive(key) {\n",
              "          const element = document.querySelector('#df-2855c9c9-5b48-490f-a03d-a62a95dcbe69');\n",
              "          const dataTable =\n",
              "            await google.colab.kernel.invokeFunction('convertToInteractive',\n",
              "                                                     [key], {});\n",
              "          if (!dataTable) return;\n",
              "\n",
              "          const docLinkHtml = 'Like what you see? Visit the ' +\n",
              "            '<a target=\"_blank\" href=https://colab.research.google.com/notebooks/data_table.ipynb>data table notebook</a>'\n",
              "            + ' to learn more about interactive tables.';\n",
              "          element.innerHTML = '';\n",
              "          dataTable['output_type'] = 'display_data';\n",
              "          await google.colab.output.renderOutput(dataTable, element);\n",
              "          const docLink = document.createElement('div');\n",
              "          docLink.innerHTML = docLinkHtml;\n",
              "          element.appendChild(docLink);\n",
              "        }\n",
              "      </script>\n",
              "    </div>\n",
              "  </div>\n",
              "  "
            ]
          },
          "metadata": {},
          "execution_count": 2
        }
      ],
      "source": [
        "from datetime import datetime\n",
        "\n",
        "Passengers = pd.read_csv(r'AirPassengers.csv') # Air Passengers\n",
        "Passengers.index = pd.to_datetime(Passengers['index'],format=\"%Y %b\") \n",
        "del Passengers[\"index\"]\n",
        "Passengers.head()"
      ]
    },
    {
      "cell_type": "code",
      "execution_count": 3,
      "metadata": {
        "scrolled": true,
        "colab": {
          "base_uri": "https://localhost:8080/",
          "height": 265
        },
        "id": "tThImD5-qzOi",
        "outputId": "815820c1-20d5-46ca-c1ab-ba73b36b7519"
      },
      "outputs": [
        {
          "output_type": "display_data",
          "data": {
            "text/plain": [
              "<Figure size 432x288 with 1 Axes>"
            ],
            "image/png": "[encoded data removed]"
          },
          "metadata": {
            "needs_background": "light"
          }
        }
      ],
      "source": [
        "plt.plot(Passengers.index,Passengers.value)         # plot series\n",
        "plt.show();"
      ]
    },
    {
      "cell_type": "markdown",
      "metadata": {
        "id": "yTOQlR6-qzOj"
      },
      "source": [
        "### 1. ADF\n",
        "\n",
        "\n",
        "\n",
        "The Augmented Dickey-Fuller test can be used to test for a unit root in a\n",
        "univariate process in the presence of serial correlation.\n",
        "\n",
        "#### DF for AR(1)\n",
        "\n",
        "Consider the simple AR(1) case, $ x_t =\\phi x_{t-1}+w_t$. When $\\phi = 1$ there is a unit root, when $|\\phi| < 1$ we have causality (stationarity). An obvious test statistic would be to consider $(\\hat{\\phi} -1)$, to test it we can modify the equation substracting $x_{t-1}$ from both sides and regressing $\\nabla x_t$ on $x_{t-1}$ (the derivation of test statistic is more complicated but it follows the logic described, check TS, pp. 250-252).\n",
        "\n",
        "\n",
        "$$ \\nabla x_t = (\\phi-1)x_{t-1}+w_t=\\gamma x_{t-1}+w_t $$\n",
        "\n",
        "$$\\pmb{H_0}: \\gamma = 0 \\quad \\quad\\pmb{H_1}: \\gamma < 0 $$\n",
        "\n",
        "The null hypothesis of the Dickey-Fuller is that there is a unit root, with the alternative that there is no unit root. If the pvalue is above a critical size, then we cannot reject that there is a unit root.\n",
        "\n",
        "#### ADF for AR(2)\n",
        "\n",
        "Now consider ADF for AR(2) model. Note that we can represent AR(2) model in the following form\n",
        "\n",
        "$$x_t = \\phi_1x_{t-1}+\\phi_2x_{t-2}+w_t + \\phi_2x_{t-1}-\\phi_2x_{t-1}= (\\phi_1+\\phi_2)x_{t-1}- \\phi_2(x_{t-1}-x_{t-2})+w_t$$\n",
        "\n",
        "Substracting $x_{t-1}$ from both sides of equation, we get\n",
        "\n",
        "$$x_t-x_{t-1} = (\\phi_1+\\phi_2-1)x_{t-1}- \\phi_2(x_{t-1}-x_{t-2})+w_t \\Rightarrow$$\n",
        "\n",
        "\n",
        "$$\\nabla x_t = \\gamma x_{t-1}- \\phi_2\\nabla x_{t-1}+w_t \\quad where \\quad \\gamma = \\phi_1+\\phi_2-1 $$\n",
        "\n",
        "\n",
        "$$\\pmb{H_0}: \\gamma = 0 \\quad \\quad\\pmb{H_1}: \\gamma < 0 $$\n",
        "\n",
        "In the case of AR(2), we regress $\\nabla x_t$ on $x_{t-1}$ and $\\nabla x_{t-1}$. The null and alternative hypothesis are the same. Here, $\\gamma=0$ is equivalent to $\\phi(z) = 0$, when $z=1$, i.e. $z=1$ is the root of polynomial (unit root).  \n",
        "\n",
        "#### ADF for AR(p)\n",
        "\n",
        "For the general case to accommodate AR( $p$ ) models, $x_{t}=\\sum_{j=1}^{p} \\phi_{j} x_{t-j}+w_{t},$ subtract $x_{t-1}$ from both sides of AR(p) to obtain\n",
        "\n",
        "$$\n",
        "\\nabla x_{t}=\\gamma x_{t-1}+\\sum_{j=1}^{p-1} \\psi_{j} \\nabla x_{t-j}+w_{t}\n",
        "$$\n",
        "\n",
        "where $\\gamma=\\sum_{j=1}^{p} \\phi_{j}-1$ and $\\psi_{j}=-\\sum_{i=j}^{p} \\phi_{i}$ for $j=2, \\ldots, p .$ To test the hypothesis that the process has a unit root at 1 (i.e., the AR polynoimial $\\phi(z)=0$ when $z=1$ ), we can test $H_{0}: \\gamma=0$ by estimating $\\gamma$ in the regression of $\\nabla x_{t}$ on $x_{t-1}, \\nabla x_{t-1}, \\ldots, \\nabla x_{t-p+1},$ and forming a Wald test based on $t_{\\gamma}=\\hat{\\gamma} / \\operatorname{se}(\\hat{\\gamma}) .$ This test leads to the so-called augmented Dickey-Fuller test $(\\mathrm{ADF})$ While the calculations for obtaining the asymptotic null distribution change, the basic ideas and machinery remain the same as in the simple case. The choice of $p$ is crucial. For $\\operatorname{ARMA}(p, q)$ models, the ADF test can be used by assuming $p$ is large enough to capture the essential correlation structure.\n",
        "\n",
        "\n",
        "The null hypothesis of the Augmented Dickey-Fuller is that there is a unit root, with the alternative that there is no unit root. If the pvalue is above a critical size, then we cannot reject that there is a unit root.\n"
      ]
    },
    {
      "cell_type": "code",
      "execution_count": 4,
      "metadata": {
        "id": "mHqnuvkzqzOj"
      },
      "outputs": [],
      "source": [
        "from statsmodels.tsa.stattools import adfuller"
      ]
    },
    {
      "cell_type": "markdown",
      "metadata": {
        "id": "Cj06lRHGqzOj"
      },
      "source": [
        "The **adfuller** command choses maximum number of lags to consider following the rule 12*(nobs/100)^{1/4}. Among these lags it choses the lag of the process by one of the criteries (AIC, BIC, t-statistic). Default is AIC. The idea is the following, it increases number of lags one by one and checks the significanse of the last lag included or minimizes the AIC's of the models.\n",
        "\n",
        "For more details check Econometrics by Greene, link is below (p 637):\n",
        "\n",
        "https://spu.fem.uniag.sk/cvicenia/ksov/obtulovic/Mana%C5%BE.%20%C5%A1tatistika%20a%20ekonometria/EconometricsGREENE.pdf\n",
        "\n",
        "Documentation of adfuller command:\n",
        "\n",
        "https://www.statsmodels.org/stable/generated/statsmodels.tsa.stattools.adfuller.html"
      ]
    },
    {
      "cell_type": "code",
      "execution_count": 5,
      "metadata": {
        "colab": {
          "base_uri": "https://localhost:8080/"
        },
        "id": "JQbIoSAyqzOk",
        "outputId": "34151c80-6533-4226-a670-b281fb954755"
      },
      "outputs": [
        {
          "output_type": "stream",
          "name": "stdout",
          "text": [
            "ADF Statistic: 0.815369\n",
            "p-value: 0.991880\n",
            "Critical Values:\n",
            "\t1%: -3.482\n",
            "\t5%: -2.884\n",
            "\t10%: -2.579\n"
          ]
        }
      ],
      "source": [
        "X = Passengers.values\n",
        "result =adfuller(X)\n",
        "print('ADF Statistic: %f' % result[0])\n",
        "print('p-value: %f' % result[1])\n",
        "print('Critical Values:')\n",
        "for key, value in result[4].items():\n",
        "    print('\\t%s: %.3f' % (key, value))"
      ]
    },
    {
      "cell_type": "markdown",
      "metadata": {
        "id": "z9sqgOzSqzOk"
      },
      "source": [
        "We can see that in this case lag is equal to 13."
      ]
    },
    {
      "cell_type": "code",
      "execution_count": 6,
      "metadata": {
        "colab": {
          "base_uri": "https://localhost:8080/"
        },
        "id": "6hxN5WOFqzOk",
        "outputId": "bebe8535-85b6-4cbc-e781-38c16b388934"
      },
      "outputs": [
        {
          "output_type": "stream",
          "name": "stdout",
          "text": [
            "ADF Statistic: 0.815369\n",
            "p-value: 0.991880\n",
            "Critical Values:\n",
            "\t1%: -3.482\n",
            "\t5%: -2.884\n",
            "\t10%: -2.579\n"
          ]
        }
      ],
      "source": [
        "X = Passengers.values\n",
        "result =adfuller(X, maxlag = 13)\n",
        "print('ADF Statistic: %f' % result[0])\n",
        "print('p-value: %f' % result[1])\n",
        "print('Critical Values:')\n",
        "for key, value in result[4].items():\n",
        "    print('\\t%s: %.3f' % (key, value))"
      ]
    },
    {
      "cell_type": "markdown",
      "metadata": {
        "id": "-v5NzvWNqzOk"
      },
      "source": [
        "#### P-value is greater than, let's say $\\alpha = 0.05$, threshold, hence we cannot reject the null hypothesis and conclude that time series possess unit root. "
      ]
    },
    {
      "cell_type": "markdown",
      "metadata": {
        "id": "qAb3gwwvqzOl"
      },
      "source": [
        "### Modifications of ADF\n",
        "\n",
        "#### We can include 1. constant, 2. constant and trend, 3. constant, trend, and quadratic trend into regression. \n",
        "\n",
        "#### As a result, alternativie hypothesis would be 1. stationary and $\\mu$ is different from zero, 2. stationary, $\\mu$ is different from zero, and there is a trend, 3. stationary, $\\mu$ is different from zero, there is a trend and it is quadratic.\n",
        "\n",
        "By defauls adfuller command includes constant, since in practice the mean of the series is rarely equal to zero. The rest of the options are \n",
        "\n",
        "“ct” : constant and trend.\n",
        "\n",
        "“ctt” : constant, and linear and quadratic trend.\n",
        "\n",
        "“nc” : no constant, no trend."
      ]
    },
    {
      "cell_type": "markdown",
      "metadata": {
        "id": "JZkTr9aTqzOl"
      },
      "source": [
        "### To check how modifications work let's generate the ARMA(2,2) series"
      ]
    },
    {
      "cell_type": "code",
      "execution_count": 7,
      "metadata": {
        "colab": {
          "base_uri": "https://localhost:8080/",
          "height": 269
        },
        "id": "TxZskxggqzOl",
        "outputId": "891860df-dfd3-477f-8849-c52be9c819b9"
      },
      "outputs": [
        {
          "output_type": "display_data",
          "data": {
            "text/plain": [
              "<Figure size 432x288 with 1 Axes>"
            ],
            "image/png": "[encoded data removed]"
          },
          "metadata": {
            "needs_background": "light"
          }
        }
      ],
      "source": [
        "from statsmodels.tsa.arima_process import arma_generate_sample\n",
        "arparams = np.array([.75, -.25])  # AR parameter values\n",
        "maparams = np.array([.65, .35])   # MA parameter values\n",
        "\n",
        "arparams = np.r_[1, -arparams]    # add zero-lag and negate\n",
        "maparams = np.r_[1, maparams]     # add zero-lag\n",
        "nobs = 250                        # number of observations\n",
        "y = arma_generate_sample(arparams, maparams, nobs)                 # generate series\n",
        "dates = pd.date_range('1980-1-1', freq=\"M\", periods=nobs)          # generate dates\n",
        "plt.plot(dates,y);"
      ]
    },
    {
      "cell_type": "code",
      "execution_count": 8,
      "metadata": {
        "colab": {
          "base_uri": "https://localhost:8080/"
        },
        "id": "lPLLQkK3qzOl",
        "outputId": "8ae7723f-843b-4ceb-d913-36bbb7c6acc1"
      },
      "outputs": [
        {
          "output_type": "stream",
          "name": "stdout",
          "text": [
            "ADF Statistic: -5.813368\n",
            "p-value: 0.000000\n",
            "Critical Values:\n",
            "\t1%: -2.575\n",
            "\t5%: -1.942\n",
            "\t10%: -1.616\n"
          ]
        }
      ],
      "source": [
        "X = y\n",
        "result =adfuller(X, regression = None)\n",
        "print('ADF Statistic: %f' % result[0])\n",
        "print('p-value: %f' % result[1])\n",
        "print('Critical Values:')\n",
        "for key, value in result[4].items():\n",
        "    print('\\t%s: %.3f' % (key, value))"
      ]
    },
    {
      "cell_type": "markdown",
      "metadata": {
        "id": "4i2SFhq7qzOm"
      },
      "source": [
        "#### P-value is smaller than, let's say $\\alpha = 0.05$, threshold, hence we reject the null hypothesis and conclude that time series is stationary and $\\mu$ is different from zero. \n",
        "\n",
        "For the next example we change the mean of the series by adding 5 to each observation."
      ]
    },
    {
      "cell_type": "code",
      "execution_count": 9,
      "metadata": {
        "colab": {
          "base_uri": "https://localhost:8080/",
          "height": 265
        },
        "id": "K-FpXy54qzOm",
        "outputId": "b9137f3a-858a-4c68-a136-460578a42c1b"
      },
      "outputs": [
        {
          "output_type": "display_data",
          "data": {
            "text/plain": [
              "<Figure size 432x288 with 1 Axes>"
            ],
            "image/png": "[encoded data removed]"
          },
          "metadata": {
            "needs_background": "light"
          }
        }
      ],
      "source": [
        "y = y +5\n",
        "plt.plot(dates,y);"
      ]
    },
    {
      "cell_type": "code",
      "execution_count": 10,
      "metadata": {
        "colab": {
          "base_uri": "https://localhost:8080/"
        },
        "id": "6DyVUKpcqzOm",
        "outputId": "7d5631ec-1980-4302-8ee8-b56e8a2978b3"
      },
      "outputs": [
        {
          "output_type": "stream",
          "name": "stdout",
          "text": [
            "ADF Statistic: -5.817361\n",
            "p-value: 0.000000\n",
            "Critical Values:\n",
            "\t1%: -3.457\n",
            "\t5%: -2.873\n",
            "\t10%: -2.573\n"
          ]
        }
      ],
      "source": [
        "X = y\n",
        "result =adfuller(X, regression = \"c\")\n",
        "print('ADF Statistic: %f' % result[0])\n",
        "print('p-value: %f' % result[1])\n",
        "print('Critical Values:')\n",
        "for key, value in result[4].items():\n",
        "    print('\\t%s: %.3f' % (key, value))"
      ]
    },
    {
      "cell_type": "markdown",
      "metadata": {
        "id": "kQwdtkiOqzOm"
      },
      "source": [
        "#### P-value is smaller than, let's say $\\alpha = 0.05$, threshold, hence we reject the null hypothesis and conclude that time series is stationary. \n",
        "\n",
        "In this case, you can check that when we exclude the constant test suggests that it is not stationary. \n",
        "\n",
        "For the next example we add the trend."
      ]
    },
    {
      "cell_type": "code",
      "execution_count": null,
      "metadata": {
        "id": "uZfqwgIqqzOm",
        "outputId": "da2ae276-aca2-4bc0-9e05-7410c1a78856"
      },
      "outputs": [
        {
          "data": {
            "image/png": "[encoded data removed]",
            "text/plain": [
              "<Figure size 432x288 with 1 Axes>"
            ]
          },
          "metadata": {
            "needs_background": "light"
          },
          "output_type": "display_data"
        }
      ],
      "source": [
        "z = np.arange(0,25,0.1)\n",
        "y = y + z\n",
        "plt.plot(dates,y);"
      ]
    },
    {
      "cell_type": "code",
      "execution_count": null,
      "metadata": {
        "id": "1QD-GNWgqzOn",
        "outputId": "a0f6af8f-0357-464a-a294-f3ff796093ae"
      },
      "outputs": [
        {
          "name": "stdout",
          "output_type": "stream",
          "text": [
            "ADF Statistic: -6.851844\n",
            "p-value: 0.000000\n",
            "Critical Values:\n",
            "\t1%: -3.996\n",
            "\t5%: -3.428\n",
            "\t10%: -3.138\n"
          ]
        }
      ],
      "source": [
        "X = y\n",
        "result =adfuller(X, regression = \"ct\")\n",
        "print('ADF Statistic: %f' % result[0])\n",
        "print('p-value: %f' % result[1])\n",
        "print('Critical Values:')\n",
        "for key, value in result[4].items():\n",
        "    print('\\t%s: %.3f' % (key, value))"
      ]
    },
    {
      "cell_type": "markdown",
      "metadata": {
        "id": "qD43mch2qzOn"
      },
      "source": [
        "#### P-value is smaller than, let's say $\\alpha = 0.05$, threshold, hence we reject the null hypothesis and conclude that time series is stationary, $\\mu$ is different from zero, and there is a trend,\n",
        "\n",
        "In this case, you can check that when we exclude the trend, constant or both test suggests that it is not stationary. \n",
        "\n"
      ]
    },
    {
      "cell_type": "markdown",
      "metadata": {
        "id": "Qbb6bC7_qzOn"
      },
      "source": [
        "### 2. KPSS\n",
        "\n",
        "### Null: hypothesis that series is level or trend stationary\n",
        "### Alternative: unit root"
      ]
    },
    {
      "cell_type": "code",
      "execution_count": 11,
      "metadata": {
        "colab": {
          "base_uri": "https://localhost:8080/"
        },
        "id": "HuKf9HL3qzOn",
        "outputId": "c4fcbae8-7190-4d5c-d337-ba4a130fe1d2"
      },
      "outputs": [
        {
          "output_type": "stream",
          "name": "stderr",
          "text": [
            "/usr/local/lib/python3.9/dist-packages/statsmodels/tsa/stattools.py:2018: InterpolationWarning: The test statistic is outside of the range of p-values available in the\n",
            "look-up table. The actual p-value is smaller than the p-value returned.\n",
            "\n",
            "  warnings.warn(\n"
          ]
        }
      ],
      "source": [
        "from pandas import read_csv\n",
        "from statsmodels.tsa.stattools import kpss\n",
        "X = Passengers.values\n",
        "result =kpss(X)"
      ]
    },
    {
      "cell_type": "code",
      "execution_count": null,
      "metadata": {
        "id": "K__8_4ahqzOo",
        "outputId": "25be032c-6f08-49ec-b525-188c01ead219"
      },
      "outputs": [
        {
          "data": {
            "text/plain": [
              "(1.0521750110135095,\n",
              " 0.01,\n",
              " 14,\n",
              " {'10%': 0.347, '5%': 0.463, '2.5%': 0.574, '1%': 0.739})"
            ]
          },
          "execution_count": 7,
          "metadata": {},
          "output_type": "execute_result"
        }
      ],
      "source": [
        "result"
      ]
    },
    {
      "cell_type": "code",
      "execution_count": 12,
      "metadata": {
        "colab": {
          "base_uri": "https://localhost:8080/"
        },
        "id": "QeMg2q1vqzOo",
        "outputId": "5e3f9de1-3a20-479e-d61d-0bbef7bb11ca"
      },
      "outputs": [
        {
          "output_type": "stream",
          "name": "stdout",
          "text": [
            "KPSS Statistic: 1.651312\n",
            "p-value: 0.010000\n",
            "number of lags: 8.000000\n",
            "Critical Values:\n",
            "\t10%: 0.347\n",
            "\t5%: 0.463\n",
            "\t2.5%: 0.574\n",
            "\t1%: 0.739\n"
          ]
        }
      ],
      "source": [
        "print('KPSS Statistic: %f' % result[0])\n",
        "print('p-value: %f' % result[1])\n",
        "print('number of lags: %f' % result[2])\n",
        "\n",
        "print('Critical Values:')\n",
        "for key, value in result[3].items():\n",
        "    print('\\t%s: %.3f' % (key, value))"
      ]
    },
    {
      "cell_type": "markdown",
      "metadata": {
        "id": "sdnXysU4qzOo"
      },
      "source": [
        "### ARIMA model for Air Passengers data"
      ]
    },
    {
      "cell_type": "code",
      "source": [
        "!pip install pmdarima"
      ],
      "metadata": {
        "colab": {
          "base_uri": "https://localhost:8080/"
        },
        "id": "HAab2F754ErV",
        "outputId": "a552e89c-a934-452f-9db2-42f9ece86577"
      },
      "execution_count": 14,
      "outputs": [
        {
          "output_type": "stream",
          "name": "stdout",
          "text": [
            "Looking in indexes: https://pypi.org/simple, https://us-python.pkg.dev/colab-wheels/public/simple/\n",
            "Collecting pmdarima\n",
            "  Downloading pmdarima-2.0.3-cp39-cp39-manylinux_2_17_x86_64.manylinux2014_x86_64.manylinux_2_28_x86_64.whl (1.9 MB)\n",
            "\u001b[2K     \u001b[90m━━━━━━━━━━━━━━━━━━━━━━━━━━━━━━━━━━━━━━━━\u001b[0m \u001b[32m1.9/1.9 MB\u001b[0m \u001b[31m40.2 MB/s\u001b[0m eta \u001b[36m0:00:00\u001b[0m\n",
            "\u001b[?25hRequirement already satisfied: joblib>=0.11 in /usr/local/lib/python3.9/dist-packages (from pmdarima) (1.1.1)\n",
            "Requirement already satisfied: pandas>=0.19 in /usr/local/lib/python3.9/dist-packages (from pmdarima) (1.4.4)\n",
            "Requirement already satisfied: numpy>=1.21.2 in /usr/local/lib/python3.9/dist-packages (from pmdarima) (1.22.4)\n",
            "Requirement already satisfied: statsmodels>=0.13.2 in /usr/local/lib/python3.9/dist-packages (from pmdarima) (0.13.5)\n",
            "Requirement already satisfied: urllib3 in /usr/local/lib/python3.9/dist-packages (from pmdarima) (1.26.15)\n",
            "Requirement already satisfied: scipy>=1.3.2 in /usr/local/lib/python3.9/dist-packages (from pmdarima) (1.10.1)\n",
            "Requirement already satisfied: scikit-learn>=0.22 in /usr/local/lib/python3.9/dist-packages (from pmdarima) (1.2.2)\n",
            "Requirement already satisfied: Cython!=0.29.18,!=0.29.31,>=0.29 in /usr/local/lib/python3.9/dist-packages (from pmdarima) (0.29.33)\n",
            "Requirement already satisfied: setuptools!=50.0.0,>=38.6.0 in /usr/local/lib/python3.9/dist-packages (from pmdarima) (67.6.0)\n",
            "Requirement already satisfied: python-dateutil>=2.8.1 in /usr/local/lib/python3.9/dist-packages (from pandas>=0.19->pmdarima) (2.8.2)\n",
            "Requirement already satisfied: pytz>=2020.1 in /usr/local/lib/python3.9/dist-packages (from pandas>=0.19->pmdarima) (2022.7.1)\n",
            "Requirement already satisfied: threadpoolctl>=2.0.0 in /usr/local/lib/python3.9/dist-packages (from scikit-learn>=0.22->pmdarima) (3.1.0)\n",
            "Requirement already satisfied: patsy>=0.5.2 in /usr/local/lib/python3.9/dist-packages (from statsmodels>=0.13.2->pmdarima) (0.5.3)\n",
            "Requirement already satisfied: packaging>=21.3 in /usr/local/lib/python3.9/dist-packages (from statsmodels>=0.13.2->pmdarima) (23.0)\n",
            "Requirement already satisfied: six in /usr/local/lib/python3.9/dist-packages (from patsy>=0.5.2->statsmodels>=0.13.2->pmdarima) (1.16.0)\n",
            "Installing collected packages: pmdarima\n",
            "Successfully installed pmdarima-2.0.3\n"
          ]
        }
      ]
    },
    {
      "cell_type": "code",
      "execution_count": 15,
      "metadata": {
        "colab": {
          "base_uri": "https://localhost:8080/"
        },
        "id": "fYZKGF2aqzOo",
        "outputId": "2c939fe0-b550-4849-d296-9e8f68604962"
      },
      "outputs": [
        {
          "output_type": "stream",
          "name": "stdout",
          "text": [
            "Performing stepwise search to minimize aic\n",
            " ARIMA(1,0,1)(0,0,0)[0]             : AIC=1412.973, Time=0.19 sec\n",
            " ARIMA(0,0,0)(0,0,0)[0]             : AIC=2057.847, Time=0.04 sec\n",
            " ARIMA(1,0,0)(0,0,0)[0]             : AIC=inf, Time=0.06 sec\n",
            " ARIMA(0,0,1)(0,0,0)[0]             : AIC=inf, Time=0.08 sec\n",
            " ARIMA(2,0,1)(0,0,0)[0]             : AIC=1410.569, Time=0.21 sec\n",
            " ARIMA(2,0,0)(0,0,0)[0]             : AIC=1417.450, Time=0.08 sec\n",
            " ARIMA(3,0,1)(0,0,0)[0]             : AIC=1411.319, Time=0.29 sec\n",
            " ARIMA(2,0,2)(0,0,0)[0]             : AIC=1411.135, Time=0.15 sec\n",
            " ARIMA(1,0,2)(0,0,0)[0]             : AIC=1413.093, Time=0.16 sec\n",
            " ARIMA(3,0,0)(0,0,0)[0]             : AIC=inf, Time=0.19 sec\n",
            " ARIMA(3,0,2)(0,0,0)[0]             : AIC=inf, Time=0.43 sec\n",
            " ARIMA(2,0,1)(0,0,0)[0] intercept   : AIC=1408.249, Time=0.25 sec\n",
            " ARIMA(1,0,1)(0,0,0)[0] intercept   : AIC=1409.748, Time=0.11 sec\n",
            " ARIMA(2,0,0)(0,0,0)[0] intercept   : AIC=1413.639, Time=0.18 sec\n",
            " ARIMA(3,0,1)(0,0,0)[0] intercept   : AIC=1408.287, Time=0.31 sec\n",
            " ARIMA(2,0,2)(0,0,0)[0] intercept   : AIC=1408.344, Time=0.44 sec\n",
            " ARIMA(1,0,0)(0,0,0)[0] intercept   : AIC=1428.179, Time=0.11 sec\n",
            " ARIMA(1,0,2)(0,0,0)[0] intercept   : AIC=1411.050, Time=0.34 sec\n",
            " ARIMA(3,0,0)(0,0,0)[0] intercept   : AIC=1410.342, Time=0.80 sec\n",
            " ARIMA(3,0,2)(0,0,0)[0] intercept   : AIC=inf, Time=2.05 sec\n",
            "\n",
            "Best model:  ARIMA(2,0,1)(0,0,0)[0] intercept\n",
            "Total fit time: 6.504 seconds\n",
            "                               SARIMAX Results                                \n",
            "==============================================================================\n",
            "Dep. Variable:                      y   No. Observations:                  144\n",
            "Model:               SARIMAX(2, 0, 1)   Log Likelihood                -699.125\n",
            "Date:                Fri, 24 Mar 2023   AIC                           1408.249\n",
            "Time:                        09:08:53   BIC                           1423.098\n",
            "Sample:                    01-01-1949   HQIC                          1414.283\n",
            "                         - 12-01-1960                                         \n",
            "Covariance Type:                  opg                                         \n",
            "==============================================================================\n",
            "                 coef    std err          z      P>|z|      [0.025      0.975]\n",
            "------------------------------------------------------------------------------\n",
            "intercept     19.6007     12.051      1.627      0.104      -4.018      43.219\n",
            "ar.L1          0.4990      0.131      3.822      0.000       0.243       0.755\n",
            "ar.L2          0.4314      0.124      3.466      0.001       0.187       0.675\n",
            "ma.L1          0.8565      0.081     10.540      0.000       0.697       1.016\n",
            "sigma2       942.2492    107.314      8.780      0.000     731.917    1152.582\n",
            "===================================================================================\n",
            "Ljung-Box (L1) (Q):                   0.23   Jarque-Bera (JB):                 0.89\n",
            "Prob(Q):                              0.63   Prob(JB):                         0.64\n",
            "Heteroskedasticity (H):               6.30   Skew:                             0.16\n",
            "Prob(H) (two-sided):                  0.00   Kurtosis:                         3.22\n",
            "===================================================================================\n",
            "\n",
            "Warnings:\n",
            "[1] Covariance matrix calculated using the outer product of gradients (complex-step).\n"
          ]
        }
      ],
      "source": [
        "import pmdarima as pm\n",
        "\n",
        "model = pm.auto_arima(Passengers.value, start_p=1, start_q=1,\n",
        "                      test='adf',       # use adftest to find optimal 'd'\n",
        "                      max_p=3, max_q=3, # maximum p and q\n",
        "                      m=1,              # frequency of series\n",
        "                      d=None,           # let model determine 'd'\n",
        "                      seasonal=False,   # No Seasonality\n",
        "                      start_P=0, \n",
        "                      D=0, \n",
        "                      trace=True,\n",
        "                      error_action='ignore',  \n",
        "                      suppress_warnings=True, \n",
        "                      stepwise=True)\n",
        "\n",
        "print(model.summary())"
      ]
    },
    {
      "cell_type": "markdown",
      "metadata": {
        "id": "3DqtUUTeqzOo"
      },
      "source": [
        "## 3. How to Configure SARIMA\n",
        "\n",
        "Configuring a SARIMA requires selecting hyperparameters for both the trend and seasonal elements of the series.\n",
        "\n",
        "Trend Elements\n",
        "There are three trend elements that require configuration.\n",
        "\n",
        "They are the same as the ARIMA model; specifically:\n",
        "\n",
        "p: Trend autoregression order.\n",
        "d: Trend difference order.\n",
        "q: Trend moving average order.\n",
        "Seasonal Elements\n",
        "There are four seasonal elements that are not part of ARIMA that must be configured; they are:\n",
        "\n",
        "P: Seasonal autoregressive order.\n",
        "D: Seasonal difference order.\n",
        "Q: Seasonal moving average order.\n",
        "m: The number of time steps for a single seasonal period."
      ]
    },
    {
      "cell_type": "markdown",
      "metadata": {
        "id": "jKwETaDWqzOo"
      },
      "source": [
        "### Air Passengers data (cont.)"
      ]
    },
    {
      "cell_type": "code",
      "execution_count": null,
      "metadata": {
        "id": "NLoa4W2fqzOp",
        "outputId": "4c6e484f-8557-4f02-a56d-137c24857206"
      },
      "outputs": [
        {
          "name": "stdout",
          "output_type": "stream",
          "text": [
            "Performing stepwise search to minimize aic\n",
            " ARIMA(1,0,1)(0,0,1)[12] intercept   : AIC=1309.141, Time=0.84 sec\n",
            " ARIMA(0,0,0)(0,0,0)[12] intercept   : AIC=1790.368, Time=0.01 sec\n",
            " ARIMA(1,0,0)(1,0,0)[12] intercept   : AIC=inf, Time=0.74 sec\n",
            " ARIMA(0,0,1)(0,0,1)[12] intercept   : AIC=inf, Time=0.46 sec\n",
            " ARIMA(0,0,0)(0,0,0)[12]             : AIC=2057.847, Time=0.00 sec\n",
            " ARIMA(1,0,1)(0,0,0)[12] intercept   : AIC=1409.748, Time=0.15 sec\n",
            " ARIMA(1,0,1)(1,0,1)[12] intercept   : AIC=1158.762, Time=1.16 sec\n",
            " ARIMA(1,0,1)(1,0,0)[12] intercept   : AIC=1157.611, Time=0.74 sec\n",
            " ARIMA(1,0,1)(2,0,0)[12] intercept   : AIC=1158.451, Time=1.77 sec\n",
            " ARIMA(1,0,1)(2,0,1)[12] intercept   : AIC=inf, Time=2.40 sec\n",
            " ARIMA(0,0,1)(1,0,0)[12] intercept   : AIC=1360.856, Time=1.04 sec\n",
            " ARIMA(2,0,1)(1,0,0)[12] intercept   : AIC=inf, Time=1.01 sec\n",
            " ARIMA(1,0,2)(1,0,0)[12] intercept   : AIC=1159.219, Time=0.99 sec\n",
            " ARIMA(0,0,0)(1,0,0)[12] intercept   : AIC=inf, Time=0.66 sec\n",
            " ARIMA(0,0,2)(1,0,0)[12] intercept   : AIC=inf, Time=1.49 sec\n",
            " ARIMA(2,0,0)(1,0,0)[12] intercept   : AIC=inf, Time=1.03 sec\n",
            " ARIMA(2,0,2)(1,0,0)[12] intercept   : AIC=inf, Time=1.48 sec\n",
            " ARIMA(1,0,1)(1,0,0)[12]             : AIC=1157.298, Time=0.91 sec\n",
            " ARIMA(1,0,1)(0,0,0)[12]             : AIC=1412.973, Time=0.13 sec\n",
            " ARIMA(1,0,1)(2,0,0)[12]             : AIC=1157.797, Time=1.56 sec\n",
            " ARIMA(1,0,1)(1,0,1)[12]             : AIC=1158.174, Time=0.78 sec\n",
            " ARIMA(1,0,1)(0,0,1)[12]             : AIC=1312.901, Time=0.35 sec\n",
            " ARIMA(1,0,1)(2,0,1)[12]             : AIC=inf, Time=1.83 sec\n",
            " ARIMA(0,0,1)(1,0,0)[12]             : AIC=inf, Time=0.39 sec\n",
            " ARIMA(1,0,0)(1,0,0)[12]             : AIC=inf, Time=0.67 sec\n",
            " ARIMA(2,0,1)(1,0,0)[12]             : AIC=1158.342, Time=1.11 sec\n",
            " ARIMA(1,0,2)(1,0,0)[12]             : AIC=1159.023, Time=1.13 sec\n",
            " ARIMA(0,0,0)(1,0,0)[12]             : AIC=inf, Time=0.23 sec\n",
            " ARIMA(0,0,2)(1,0,0)[12]             : AIC=inf, Time=1.19 sec\n",
            " ARIMA(2,0,0)(1,0,0)[12]             : AIC=inf, Time=0.89 sec\n",
            " ARIMA(2,0,2)(1,0,0)[12]             : AIC=inf, Time=2.42 sec\n",
            "\n",
            "Best model:  ARIMA(1,0,1)(1,0,0)[12]          \n",
            "Total fit time: 29.601 seconds\n",
            "                                      SARIMAX Results                                      \n",
            "===========================================================================================\n",
            "Dep. Variable:                                   y   No. Observations:                  144\n",
            "Model:             SARIMAX(1, 0, 1)x(1, 0, [], 12)   Log Likelihood                -574.649\n",
            "Date:                             Tue, 23 Mar 2021   AIC                           1157.298\n",
            "Time:                                     12:45:05   BIC                           1169.177\n",
            "Sample:                                          0   HQIC                          1162.125\n",
            "                                             - 144                                         \n",
            "Covariance Type:                               opg                                         \n",
            "==============================================================================\n",
            "                 coef    std err          z      P>|z|      [0.025      0.975]\n",
            "------------------------------------------------------------------------------\n",
            "ar.L1          0.9720      0.016     61.540      0.000       0.941       1.003\n",
            "ma.L1         -0.2371      0.068     -3.504      0.000      -0.370      -0.104\n",
            "ar.S.L12       0.9622      0.019     50.279      0.000       0.925       1.000\n",
            "sigma2       133.4623     14.465      9.227      0.000     105.111     161.813\n",
            "===================================================================================\n",
            "Ljung-Box (L1) (Q):                   0.12   Jarque-Bera (JB):                12.31\n",
            "Prob(Q):                              0.72   Prob(JB):                         0.00\n",
            "Heteroskedasticity (H):               3.70   Skew:                             0.15\n",
            "Prob(H) (two-sided):                  0.00   Kurtosis:                         4.40\n",
            "===================================================================================\n",
            "\n",
            "Warnings:\n",
            "[1] Covariance matrix calculated using the outer product of gradients (complex-step).\n"
          ]
        }
      ],
      "source": [
        "import pmdarima as pm\n",
        "\n",
        "model = pm.auto_arima(Passengers.value, start_p=1, start_q=1,\n",
        "                      test='adf',       # use adftest to find optimal 'd'\n",
        "                      max_p=3, max_q=3, # maximum p and q\n",
        "                      m=12,              # frequency of series\n",
        "                      d=None,           # let model determine 'd'\n",
        "                      seasonal=True,   # No Seasonality\n",
        "                      start_P=0, \n",
        "                      D=0, \n",
        "                      trace=True,\n",
        "                      error_action='ignore',  \n",
        "                      suppress_warnings=True, \n",
        "                      stepwise=True)\n",
        "\n",
        "print(model.summary())"
      ]
    },
    {
      "cell_type": "markdown",
      "metadata": {
        "id": "UFB5WH-EqzOp"
      },
      "source": [
        "### Jonson & Jonson data"
      ]
    },
    {
      "cell_type": "code",
      "execution_count": null,
      "metadata": {
        "id": "EmDhcGSvqzOp",
        "outputId": "9b2a566d-cd94-4f8e-ed16-9d8729037bbd"
      },
      "outputs": [
        {
          "data": {
            "text/html": [
              "<div>\n",
              "<style scoped>\n",
              "    .dataframe tbody tr th:only-of-type {\n",
              "        vertical-align: middle;\n",
              "    }\n",
              "\n",
              "    .dataframe tbody tr th {\n",
              "        vertical-align: top;\n",
              "    }\n",
              "\n",
              "    .dataframe thead th {\n",
              "        text-align: right;\n",
              "    }\n",
              "</style>\n",
              "<table border=\"1\" class=\"dataframe\">\n",
              "  <thead>\n",
              "    <tr style=\"text-align: right;\">\n",
              "      <th></th>\n",
              "      <th>index</th>\n",
              "      <th>value</th>\n",
              "    </tr>\n",
              "  </thead>\n",
              "  <tbody>\n",
              "    <tr>\n",
              "      <th>0</th>\n",
              "      <td>1960 Q1</td>\n",
              "      <td>0.71</td>\n",
              "    </tr>\n",
              "    <tr>\n",
              "      <th>1</th>\n",
              "      <td>1960 Q2</td>\n",
              "      <td>0.63</td>\n",
              "    </tr>\n",
              "    <tr>\n",
              "      <th>2</th>\n",
              "      <td>1960 Q3</td>\n",
              "      <td>0.85</td>\n",
              "    </tr>\n",
              "    <tr>\n",
              "      <th>3</th>\n",
              "      <td>1960 Q4</td>\n",
              "      <td>0.44</td>\n",
              "    </tr>\n",
              "    <tr>\n",
              "      <th>4</th>\n",
              "      <td>1961 Q1</td>\n",
              "      <td>0.61</td>\n",
              "    </tr>\n",
              "  </tbody>\n",
              "</table>\n",
              "</div>"
            ],
            "text/plain": [
              "     index  value\n",
              "0  1960 Q1   0.71\n",
              "1  1960 Q2   0.63\n",
              "2  1960 Q3   0.85\n",
              "3  1960 Q4   0.44\n",
              "4  1961 Q1   0.61"
            ]
          },
          "execution_count": 11,
          "metadata": {},
          "output_type": "execute_result"
        }
      ],
      "source": [
        "jonson = pd.read_csv(r'jj.csv') # Jonson & Jonson\n",
        "jonson.head()"
      ]
    },
    {
      "cell_type": "code",
      "execution_count": null,
      "metadata": {
        "id": "kzFXzidMqzOp",
        "outputId": "0ebfb7e3-74aa-49e9-c077-edc5386d51bf"
      },
      "outputs": [
        {
          "name": "stdout",
          "output_type": "stream",
          "text": [
            "Performing stepwise search to minimize aic\n",
            " ARIMA(1,True,1)(0,0,1)[12] intercept   : AIC=227.003, Time=0.27 sec\n",
            " ARIMA(0,True,0)(0,0,0)[12] intercept   : AIC=297.285, Time=0.00 sec\n",
            " ARIMA(1,True,0)(1,0,0)[12] intercept   : AIC=213.961, Time=0.37 sec\n",
            " ARIMA(0,True,1)(0,0,1)[12] intercept   : AIC=239.009, Time=0.32 sec\n",
            " ARIMA(0,True,0)(0,0,0)[12]             : AIC=295.995, Time=0.01 sec\n",
            " ARIMA(1,True,0)(0,0,0)[12] intercept   : AIC=264.953, Time=0.05 sec\n",
            " ARIMA(1,True,0)(2,0,0)[12] intercept   : AIC=212.051, Time=0.57 sec\n",
            " ARIMA(1,True,0)(2,0,1)[12] intercept   : AIC=212.585, Time=1.52 sec\n",
            " ARIMA(1,True,0)(1,0,1)[12] intercept   : AIC=213.532, Time=0.44 sec\n",
            " ARIMA(0,True,0)(2,0,0)[12] intercept   : AIC=274.081, Time=0.49 sec\n",
            " ARIMA(2,True,0)(2,0,0)[12] intercept   : AIC=213.500, Time=1.29 sec\n",
            " ARIMA(1,True,1)(2,0,0)[12] intercept   : AIC=208.040, Time=1.41 sec\n",
            " ARIMA(1,True,1)(1,0,0)[12] intercept   : AIC=208.630, Time=0.34 sec\n",
            " ARIMA(1,True,1)(2,0,1)[12] intercept   : AIC=208.143, Time=2.23 sec\n",
            " ARIMA(1,True,1)(1,0,1)[12] intercept   : AIC=209.079, Time=0.80 sec\n",
            " ARIMA(0,True,1)(2,0,0)[12] intercept   : AIC=225.507, Time=1.11 sec\n",
            " ARIMA(2,True,1)(2,0,0)[12] intercept   : AIC=209.530, Time=1.54 sec\n",
            " ARIMA(1,True,2)(2,0,0)[12] intercept   : AIC=197.191, Time=1.59 sec\n",
            " ARIMA(1,True,2)(1,0,0)[12] intercept   : AIC=196.950, Time=0.95 sec\n",
            " ARIMA(1,True,2)(0,0,0)[12] intercept   : AIC=238.454, Time=0.22 sec\n",
            " ARIMA(1,True,2)(1,0,1)[12] intercept   : AIC=197.893, Time=0.88 sec\n",
            " ARIMA(1,True,2)(0,0,1)[12] intercept   : AIC=213.710, Time=1.17 sec\n",
            " ARIMA(1,True,2)(2,0,1)[12] intercept   : AIC=197.284, Time=4.25 sec\n",
            " ARIMA(0,True,2)(1,0,0)[12] intercept   : AIC=198.678, Time=0.51 sec\n",
            " ARIMA(2,True,2)(1,0,0)[12] intercept   : AIC=198.847, Time=1.65 sec\n",
            " ARIMA(1,True,3)(1,0,0)[12] intercept   : AIC=194.227, Time=0.93 sec\n",
            " ARIMA(1,True,3)(0,0,0)[12] intercept   : AIC=228.486, Time=0.47 sec\n",
            " ARIMA(1,True,3)(2,0,0)[12] intercept   : AIC=195.304, Time=2.64 sec\n",
            " ARIMA(1,True,3)(1,0,1)[12] intercept   : AIC=195.547, Time=1.41 sec\n",
            " ARIMA(1,True,3)(0,0,1)[12] intercept   : AIC=204.635, Time=1.32 sec\n",
            " ARIMA(1,True,3)(2,0,1)[12] intercept   : AIC=inf, Time=4.54 sec\n",
            " ARIMA(0,True,3)(1,0,0)[12] intercept   : AIC=200.676, Time=0.99 sec\n",
            " ARIMA(2,True,3)(1,0,0)[12] intercept   : AIC=181.837, Time=1.66 sec\n",
            " ARIMA(2,True,3)(0,0,0)[12] intercept   : AIC=inf, Time=0.70 sec\n",
            " ARIMA(2,True,3)(2,0,0)[12] intercept   : AIC=183.124, Time=4.92 sec\n",
            " ARIMA(2,True,3)(1,0,1)[12] intercept   : AIC=183.389, Time=1.47 sec\n",
            " ARIMA(2,True,3)(0,0,1)[12] intercept   : AIC=inf, Time=2.33 sec\n",
            " ARIMA(2,True,3)(2,0,1)[12] intercept   : AIC=inf, Time=3.70 sec\n",
            " ARIMA(3,True,3)(1,0,0)[12] intercept   : AIC=138.126, Time=0.89 sec\n",
            " ARIMA(3,True,3)(0,0,0)[12] intercept   : AIC=142.654, Time=0.45 sec\n",
            " ARIMA(3,True,3)(2,0,0)[12] intercept   : AIC=138.877, Time=2.66 sec\n",
            " ARIMA(3,True,3)(1,0,1)[12] intercept   : AIC=139.580, Time=1.24 sec\n",
            " ARIMA(3,True,3)(0,0,1)[12] intercept   : AIC=140.385, Time=0.86 sec\n",
            " ARIMA(3,True,3)(2,0,1)[12] intercept   : AIC=140.460, Time=2.33 sec\n",
            " ARIMA(3,True,2)(1,0,0)[12] intercept   : AIC=139.349, Time=0.80 sec\n",
            " ARIMA(3,True,3)(1,0,0)[12]             : AIC=149.591, Time=0.83 sec\n",
            "\n",
            "Best model:  ARIMA(3,True,3)(1,0,0)[12] intercept\n",
            "Total fit time: 61.260 seconds\n",
            "                                      SARIMAX Results                                      \n",
            "===========================================================================================\n",
            "Dep. Variable:                                   y   No. Observations:                   84\n",
            "Model:             SARIMAX(3, 1, 3)x(1, 0, [], 12)   Log Likelihood                 -60.063\n",
            "Date:                             Tue, 23 Mar 2021   AIC                            138.126\n",
            "Time:                                     12:46:06   BIC                            159.896\n",
            "Sample:                                          0   HQIC                           146.872\n",
            "                                              - 84                                         \n",
            "Covariance Type:                               opg                                         \n",
            "==============================================================================\n",
            "                 coef    std err          z      P>|z|      [0.025      0.975]\n",
            "------------------------------------------------------------------------------\n",
            "intercept      0.4301      0.168      2.554      0.011       0.100       0.760\n",
            "ar.L1         -1.0009      0.047    -21.270      0.000      -1.093      -0.909\n",
            "ar.L2         -0.9915      0.063    -15.699      0.000      -1.115      -0.868\n",
            "ar.L3         -0.9686      0.045    -21.628      0.000      -1.056      -0.881\n",
            "ma.L1          0.2346      0.133      1.760      0.078      -0.027       0.496\n",
            "ma.L2          0.4972      0.160      3.117      0.002       0.185       0.810\n",
            "ma.L3          0.1925      0.114      1.694      0.090      -0.030       0.415\n",
            "ar.S.L12       0.3980      0.186      2.145      0.032       0.034       0.762\n",
            "sigma2         0.2164      0.032      6.738      0.000       0.153       0.279\n",
            "===================================================================================\n",
            "Ljung-Box (L1) (Q):                   0.17   Jarque-Bera (JB):                45.74\n",
            "Prob(Q):                              0.68   Prob(JB):                         0.00\n",
            "Heteroskedasticity (H):               8.54   Skew:                             1.30\n",
            "Prob(H) (two-sided):                  0.00   Kurtosis:                         5.54\n",
            "===================================================================================\n",
            "\n",
            "Warnings:\n",
            "[1] Covariance matrix calculated using the outer product of gradients (complex-step).\n"
          ]
        }
      ],
      "source": [
        "import pmdarima as pm\n",
        "\n",
        "model = pm.auto_arima(jonson.value, start_p=1, start_q=1,\n",
        "                      test='adf',       # use adftest to find optimal 'd'\n",
        "                      max_p=3, max_q=3, # maximum p and q\n",
        "                      m=12,              # frequency of series\n",
        "                      d=True,           # let model determine 'd'\n",
        "                      seasonal=True,   # No Seasonality\n",
        "                      start_P=0, \n",
        "                      D=0, \n",
        "                      trace=True,\n",
        "                      error_action='ignore',  \n",
        "                      suppress_warnings=True, \n",
        "                      stepwise=True)\n",
        "\n",
        "print(model.summary())"
      ]
    },
    {
      "cell_type": "markdown",
      "metadata": {
        "id": "iIbzRio4qzOp"
      },
      "source": [
        "### 4. auto_arima from pmdarima package"
      ]
    },
    {
      "cell_type": "code",
      "execution_count": null,
      "metadata": {
        "id": "R5uSNThhqzOp",
        "outputId": "db751eed-e7d1-4333-f5fc-0569b4bca38e"
      },
      "outputs": [
        {
          "name": "stdout",
          "output_type": "stream",
          "text": [
            "Help on function auto_arima in module pmdarima.arima.auto:\n",
            "\n",
            "auto_arima(y, X=None, start_p=2, d=None, start_q=2, max_p=5, max_d=2, max_q=5, start_P=1, D=None, start_Q=1, max_P=2, max_D=1, max_Q=2, max_order=5, m=1, seasonal=True, stationary=False, information_criterion='aic', alpha=0.05, test='kpss', seasonal_test='ocsb', stepwise=True, n_jobs=1, start_params=None, trend=None, method='lbfgs', maxiter=50, offset_test_args=None, seasonal_test_args=None, suppress_warnings=True, error_action='trace', trace=False, random=False, random_state=None, n_fits=10, return_valid_fits=False, out_of_sample_size=0, scoring='mse', scoring_args=None, with_intercept='auto', sarimax_kwargs=None, **fit_args)\n",
            "    Automatically discover the optimal order for an ARIMA model.\n",
            "    \n",
            "    The auto-ARIMA process seeks to identify the most optimal\n",
            "    parameters for an ``ARIMA`` model, settling on a single fitted ARIMA model.\n",
            "    This process is based on the commonly-used R function,\n",
            "    ``forecast::auto.arima`` [3].\n",
            "    \n",
            "    Auto-ARIMA works by conducting differencing tests (i.e.,\n",
            "    Kwiatkowski–Phillips–Schmidt–Shin, Augmented Dickey-Fuller or\n",
            "    Phillips–Perron) to determine the order of differencing, ``d``, and then\n",
            "    fitting models within ranges of defined ``start_p``, ``max_p``,\n",
            "    ``start_q``, ``max_q`` ranges. If the ``seasonal`` optional is enabled,\n",
            "    auto-ARIMA also seeks to identify the optimal ``P`` and ``Q`` hyper-\n",
            "    parameters after conducting the Canova-Hansen to determine the optimal\n",
            "    order of seasonal differencing, ``D``.\n",
            "    \n",
            "    In order to find the best model, auto-ARIMA optimizes for a given\n",
            "    ``information_criterion``, one of ('aic', 'aicc', 'bic', 'hqic', 'oob')\n",
            "    (Akaike Information Criterion, Corrected Akaike Information Criterion,\n",
            "    Bayesian Information Criterion, Hannan-Quinn Information Criterion, or\n",
            "    \"out of bag\"--for validation scoring--respectively) and returns the ARIMA\n",
            "    which minimizes the value.\n",
            "    \n",
            "    Note that due to stationarity issues, auto-ARIMA might not find a\n",
            "    suitable model that will converge. If this is the case, a ``ValueError``\n",
            "    will be thrown suggesting stationarity-inducing measures be taken prior\n",
            "    to re-fitting or that a new range of ``order`` values be selected. Non-\n",
            "    stepwise (i.e., essentially a grid search) selection can be slow,\n",
            "    especially for seasonal data. Stepwise algorithm is outlined in Hyndman and\n",
            "    Khandakar (2008).\n",
            "    \n",
            "    Parameters\n",
            "    ----------\n",
            "    y : array-like or iterable, shape=(n_samples,)\n",
            "        The time-series to which to fit the ``ARIMA`` estimator. This may\n",
            "        either be a Pandas ``Series`` object (statsmodels can internally\n",
            "        use the dates in the index), or a numpy array. This should be a\n",
            "        one-dimensional array of floats, and should not contain any\n",
            "        ``np.nan`` or ``np.inf`` values.\n",
            "    \n",
            "    X : array-like, shape=[n_obs, n_vars], optional (default=None)\n",
            "        An optional 2-d array of exogenous variables. If provided, these\n",
            "        variables are used as additional features in the regression\n",
            "        operation. This should not include a constant or trend. Note that\n",
            "        if an ``ARIMA`` is fit on exogenous features, it must be provided\n",
            "        exogenous features for making predictions.\n",
            "    \n",
            "    start_p : int, optional (default=2)\n",
            "        The starting value of ``p``, the order (or number of time lags)\n",
            "        of the auto-regressive (\"AR\") model. Must be a positive integer.\n",
            "    \n",
            "    d : int, optional (default=None)\n",
            "        The order of first-differencing. If None (by default), the value\n",
            "        will automatically be selected based on the results of the ``test``\n",
            "        (i.e., either the Kwiatkowski–Phillips–Schmidt–Shin, Augmented\n",
            "        Dickey-Fuller or the Phillips–Perron test will be conducted to find\n",
            "        the most probable value). Must be a positive integer or None. Note\n",
            "        that if ``d`` is None, the runtime could be significantly longer.\n",
            "    \n",
            "    start_q : int, optional (default=2)\n",
            "        The starting value of ``q``, the order of the moving-average\n",
            "        (\"MA\") model. Must be a positive integer.\n",
            "    \n",
            "    max_p : int, optional (default=5)\n",
            "        The maximum value of ``p``, inclusive. Must be a positive integer\n",
            "        greater than or equal to ``start_p``.\n",
            "    \n",
            "    max_d : int, optional (default=2)\n",
            "        The maximum value of ``d``, or the maximum number of non-seasonal\n",
            "        differences. Must be a positive integer greater than or equal to ``d``.\n",
            "    \n",
            "    max_q : int, optional (default=5)\n",
            "        The maximum value of ``q``, inclusive. Must be a positive integer\n",
            "        greater than ``start_q``.\n",
            "    \n",
            "    start_P : int, optional (default=1)\n",
            "        The starting value of ``P``, the order of the auto-regressive portion\n",
            "        of the seasonal model.\n",
            "    \n",
            "    D : int, optional (default=None)\n",
            "        The order of the seasonal differencing. If None (by default, the value\n",
            "        will automatically be selected based on the results of the\n",
            "        ``seasonal_test``. Must be a positive integer or None.\n",
            "    \n",
            "    start_Q : int, optional (default=1)\n",
            "        The starting value of ``Q``, the order of the moving-average portion\n",
            "        of the seasonal model.\n",
            "    \n",
            "    max_P : int, optional (default=2)\n",
            "        The maximum value of ``P``, inclusive. Must be a positive integer\n",
            "        greater than ``start_P``.\n",
            "    \n",
            "    max_D : int, optional (default=1)\n",
            "        The maximum value of ``D``. Must be a positive integer greater\n",
            "        than ``D``.\n",
            "    \n",
            "    max_Q : int, optional (default=2)\n",
            "        The maximum value of ``Q``, inclusive. Must be a positive integer\n",
            "        greater than ``start_Q``.\n",
            "    \n",
            "    max_order : int, optional (default=5)\n",
            "        Maximum value of p+q+P+Q if model selection is not stepwise.\n",
            "        If the sum of ``p`` and ``q`` is >= ``max_order``, a model will\n",
            "        *not* be fit with those parameters, but will progress to the next\n",
            "        combination. Default is 5. If ``max_order`` is None, it means there\n",
            "        are no constraints on maximum order.\n",
            "    \n",
            "    m : int, optional (default=1)\n",
            "        The period for seasonal differencing, ``m`` refers to the number of\n",
            "        periods in each season. For example, ``m`` is 4 for quarterly data, 12\n",
            "        for monthly data, or 1 for annual (non-seasonal) data. Default is 1.\n",
            "        Note that if ``m`` == 1 (i.e., is non-seasonal), ``seasonal`` will be\n",
            "        set to False. For more information on setting this parameter, see\n",
            "        :ref:`period`.\n",
            "    \n",
            "    seasonal : bool, optional (default=True)\n",
            "        Whether to fit a seasonal ARIMA. Default is True. Note that if\n",
            "        ``seasonal`` is True and ``m`` == 1, ``seasonal`` will be set to False.\n",
            "    \n",
            "    stationary : bool, optional (default=False)\n",
            "        Whether the time-series is stationary and ``d`` should be set to zero.\n",
            "    \n",
            "    information_criterion : str, optional (default='aic')\n",
            "        The information criterion used to select the best ARIMA model. One of\n",
            "        ``pmdarima.arima.auto_arima.VALID_CRITERIA``, ('aic', 'bic', 'hqic',\n",
            "        'oob').\n",
            "    \n",
            "    alpha : float, optional (default=0.05)\n",
            "        Level of the test for testing significance.\n",
            "    \n",
            "    test : str, optional (default='kpss')\n",
            "        Type of unit root test to use in order to detect stationarity if\n",
            "        ``stationary`` is False and ``d`` is None. Default is 'kpss'\n",
            "        (Kwiatkowski–Phillips–Schmidt–Shin).\n",
            "    \n",
            "    seasonal_test : str, optional (default='ocsb')\n",
            "        This determines which seasonal unit root test is used if ``seasonal``\n",
            "        is True and ``D`` is None. Default is 'OCSB'.\n",
            "    \n",
            "    stepwise : bool, optional (default=True)\n",
            "        Whether to use the stepwise algorithm outlined in Hyndman and Khandakar\n",
            "        (2008) to identify the optimal model parameters. The stepwise algorithm\n",
            "        can be significantly faster than fitting all (or a ``random`` subset\n",
            "        of) hyper-parameter combinations and is less likely to over-fit\n",
            "        the model.\n",
            "    \n",
            "    n_jobs : int, optional (default=1)\n",
            "        The number of models to fit in parallel in the case of a grid search\n",
            "        (``stepwise=False``). Default is 1, but -1 can be used to designate\n",
            "        \"as many as possible\".\n",
            "    \n",
            "    start_params : array-like, optional (default=None)\n",
            "        Starting parameters for ``ARMA(p,q)``.  If None, the default is given\n",
            "        by ``ARMA._fit_start_params``.\n",
            "    \n",
            "    method : str, optional (default='lbfgs')\n",
            "        The ``method`` determines which solver from ``scipy.optimize``\n",
            "        is used, and it can be chosen from among the following strings:\n",
            "    \n",
            "        - 'newton' for Newton-Raphson\n",
            "        - 'nm' for Nelder-Mead\n",
            "        - 'bfgs' for Broyden-Fletcher-Goldfarb-Shanno (BFGS)\n",
            "        - 'lbfgs' for limited-memory BFGS with optional box constraints\n",
            "        - 'powell' for modified Powell's method\n",
            "        - 'cg' for conjugate gradient\n",
            "        - 'ncg' for Newton-conjugate gradient\n",
            "        - 'basinhopping' for global basin-hopping solver\n",
            "    \n",
            "        The explicit arguments in ``fit`` are passed to the solver,\n",
            "        with the exception of the basin-hopping solver. Each\n",
            "        solver has several optional arguments that are not the same across\n",
            "        solvers. These can be passed as **fit_kwargs\n",
            "    \n",
            "    trend : str or None, optional (default=None)\n",
            "        The trend parameter. If ``with_intercept`` is True, ``trend`` will be\n",
            "        used. If ``with_intercept`` is False, the trend will be set to a no-\n",
            "        intercept value.\n",
            "    \n",
            "    maxiter : int, optional (default=50)\n",
            "        The maximum number of function evaluations. Default is 50.\n",
            "    \n",
            "    offset_test_args : dict, optional (default=None)\n",
            "        The args to pass to the constructor of the offset (``d``) test. See\n",
            "        ``pmdarima.arima.stationarity`` for more details.\n",
            "    \n",
            "    seasonal_test_args : dict, optional (default=None)\n",
            "        The args to pass to the constructor of the seasonal offset (``D``)\n",
            "        test. See ``pmdarima.arima.seasonality`` for more details.\n",
            "    \n",
            "    suppress_warnings : bool, optional (default=True)\n",
            "        Many warnings might be thrown inside of statsmodels. If\n",
            "        ``suppress_warnings`` is True, all of the warnings coming from\n",
            "        ``ARIMA`` will be squelched. Note that this will not suppress\n",
            "        UserWarnings created by bad argument combinations.\n",
            "    \n",
            "    error_action : str, optional (default='warn')\n",
            "        If unable to fit an ``ARIMA`` for whatever reason, this controls the\n",
            "        error-handling behavior. Model fits can fail for linear algebra errors,\n",
            "        convergence errors, or any number of problems related to stationarity\n",
            "        or input data.\n",
            "            - 'warn': Warns when an error is encountered (default)\n",
            "            - 'raise': Raises when an error is encountered\n",
            "            - 'ignore': Ignores errors (not recommended)\n",
            "            - 'trace': Logs the entire error stacktrace and continues the\n",
            "               search. This is the best option when trying to determine why a\n",
            "               model is failing.\n",
            "    \n",
            "    trace : bool or int, optional (default=False)\n",
            "        Whether to print status on the fits. A value of False will print no\n",
            "        debugging information. A value of True will print some. Integer values\n",
            "        exceeding 1 will print increasing amounts of debug information at each\n",
            "        fit.\n",
            "    \n",
            "    random : bool, optional (default=False)\n",
            "        Similar to grid searches, ``auto_arima`` provides the capability to\n",
            "        perform a \"random search\" over a hyper-parameter space. If ``random``\n",
            "        is True, rather than perform an exhaustive search or ``stepwise``\n",
            "        search, only ``n_fits`` ARIMA models will be fit (``stepwise`` must be\n",
            "        False for this option to do anything).\n",
            "    \n",
            "    random_state : int, long or numpy ``RandomState``, optional (default=None)\n",
            "        The PRNG for when ``random=True``. Ensures replicable testing and\n",
            "        results.\n",
            "    \n",
            "    n_fits : int, optional (default=10)\n",
            "        If ``random`` is True and a \"random search\" is going to be performed,\n",
            "        ``n_iter`` is the number of ARIMA models to be fit.\n",
            "    \n",
            "    return_valid_fits : bool, optional (default=False)\n",
            "        If True, will return all valid ARIMA fits in a list. If False (by\n",
            "        default), will only return the best fit.\n",
            "    \n",
            "    out_of_sample_size : int, optional (default=0)\n",
            "        The ``ARIMA`` class can fit only a portion of the data if specified,\n",
            "        in order to retain an \"out of bag\" sample score. This is the\n",
            "        number of examples from the tail of the time series to hold out\n",
            "        and use as validation examples. The model will not be fit on these\n",
            "        samples, but the observations will be added into the model's ``endog``\n",
            "        and ``exog`` arrays so that future forecast values originate from the\n",
            "        end of the endogenous vector.\n",
            "    \n",
            "        For instance::\n",
            "    \n",
            "            y = [0, 1, 2, 3, 4, 5, 6]\n",
            "            out_of_sample_size = 2\n",
            "    \n",
            "            > Fit on: [0, 1, 2, 3, 4]\n",
            "            > Score on: [5, 6]\n",
            "            > Append [5, 6] to end of self.arima_res_.data.endog values\n",
            "    \n",
            "    scoring : str, optional (default='mse')\n",
            "        If performing validation (i.e., if ``out_of_sample_size`` > 0), the\n",
            "        metric to use for scoring the out-of-sample data. One of ('mse', 'mae')\n",
            "    \n",
            "    scoring_args : dict, optional (default=None)\n",
            "        A dictionary of key-word arguments to be passed to the ``scoring``\n",
            "        metric.\n",
            "    \n",
            "    with_intercept : bool or str, optional (default=\"auto\")\n",
            "        Whether to include an intercept term. Default is \"auto\" which behaves\n",
            "        like True until a point in the search where the sum of differencing\n",
            "        terms will explicitly set it to True or False.\n",
            "    \n",
            "    \n",
            "    sarimax_kwargs : dict or None, optional (default=None)\n",
            "        Keyword arguments to pass to the ARIMA constructor.\n",
            "    \n",
            "    \n",
            "    **fit_args : dict, optional (default=None)\n",
            "        A dictionary of keyword arguments to pass to the :func:`ARIMA.fit`\n",
            "        method.\n",
            "    \n",
            "    See Also\n",
            "    --------\n",
            "    :func:`pmdarima.arima.ARIMA`\n",
            "    \n",
            "    Notes\n",
            "    -----\n",
            "    * Fitting with `stepwise=False` can prove slower, especially when\n",
            "      `seasonal=True`.\n",
            "    \n",
            "    References\n",
            "    ----------\n",
            "    .. [1] https://wikipedia.org/wiki/Autoregressive_integrated_moving_average\n",
            "    .. [2] R's auto-arima source code: https://github.com/robjhyndman/forecast/blob/master/R/arima.R\n",
            "    .. [3] R's auto-arima documentation: https://www.rdocumentation.org/packages/forecast\n",
            "\n"
          ]
        }
      ],
      "source": [
        "help(pm.auto_arima)"
      ]
    }
  ],
  "metadata": {
    "kernelspec": {
      "display_name": "Python 3",
      "language": "python",
      "name": "python3"
    },
    "language_info": {
      "codemirror_mode": {
        "name": "ipython",
        "version": 3
      },
      "file_extension": ".py",
      "mimetype": "text/x-python",
      "name": "python",
      "nbconvert_exporter": "python",
      "pygments_lexer": "ipython3",
      "version": "3.7.4"
    },
    "colab": {
      "provenance": []
    }
  },
  "nbformat": 4,
  "nbformat_minor": 0
}