{
 "cells": [
  {
   "cell_type": "code",
   "execution_count": 8,
   "metadata": {},
   "outputs": [],
   "source": [
    "def modif(arr):\n",
    "    arr = arr.copy()\n",
    "    arr[2] = 3\n",
    "\n",
    "a = [0,1,1,1]\n",
    "modif(a)"
   ]
  },
  {
   "cell_type": "code",
   "execution_count": 9,
   "metadata": {},
   "outputs": [
    {
     "data": {
      "text/plain": [
       "[0, 1, 1, 1]"
      ]
     },
     "execution_count": 9,
     "metadata": {},
     "output_type": "execute_result"
    }
   ],
   "source": [
    "a"
   ]
  },
  {
   "cell_type": "code",
   "execution_count": 23,
   "metadata": {},
   "outputs": [
    {
     "name": "stdout",
     "output_type": "stream",
     "text": [
      "1 0 0\n",
      "1 1 0\n",
      "1 2 0\n",
      "1 3 1\n",
      "1 4 1\n",
      "2 0 0 1 0\n",
      "2 0 0 2 0\n",
      "2 0 0 3 1\n",
      "2 0 0 4 1\n",
      "2 1 0 0 0\n",
      "2 1 0 2 0\n",
      "2 1 0 3 1\n",
      "2 1 0 4 1\n",
      "2 2 0 0 0\n",
      "2 2 0 1 0\n",
      "2 2 0 3 1\n",
      "2 2 0 4 1\n",
      "2 3 1 0 0\n",
      "2 3 1 1 0\n",
      "2 3 1 2 0\n",
      "2 3 1 4 1\n",
      "2 4 1 0 0\n",
      "2 4 1 1 0\n",
      "2 4 1 2 0\n",
      "2 4 1 3 1\n"
     ]
    }
   ],
   "source": [
    "vm_locations = [0,0,0,1,1]\n",
    "for second_move in range(2):\n",
    "    for l in range(3):\n",
    "        for h in range(5):\n",
    "            if vm_locations[h] != l:\n",
    "                continue\n",
    "            \n",
    "            if not second_move:\n",
    "                print(1, h, l)\n",
    "            else:\n",
    "                for f in range(3):\n",
    "                    for k in range(5):\n",
    "                        if vm_locations[k] != f or (h, l) == (k, f):\n",
    "                            continue\n",
    "                        \n",
    "                        print(2, h, l, k, f)"
   ]
  },
  {
   "cell_type": "code",
   "execution_count": 18,
   "metadata": {},
   "outputs": [],
   "source": [
    "test = {}\n",
    "test[2] = 0"
   ]
  },
  {
   "cell_type": "code",
   "execution_count": 20,
   "metadata": {},
   "outputs": [
    {
     "data": {
      "text/plain": [
       "0"
      ]
     },
     "execution_count": 20,
     "metadata": {},
     "output_type": "execute_result"
    }
   ],
   "source": [
    "test[2]"
   ]
  },
  {
   "cell_type": "code",
   "execution_count": 3,
   "metadata": {},
   "outputs": [
    {
     "data": {
      "text/plain": [
       "3"
      ]
     },
     "execution_count": 3,
     "metadata": {},
     "output_type": "execute_result"
    }
   ],
   "source": [
    "def argmax(arr):\n",
    "    m = max(arr)\n",
    "    for index, item in enumerate(arr):\n",
    "        if item == m:\n",
    "            return index\n",
    "\n",
    "argmax([0,2,1,3,3,0,0,-5])"
   ]
  },
  {
   "cell_type": "code",
   "execution_count": 4,
   "metadata": {},
   "outputs": [
    {
     "data": {
      "text/plain": [
       "5.289999999999999"
      ]
     },
     "execution_count": 4,
     "metadata": {},
     "output_type": "execute_result"
    }
   ],
   "source": [
    "2.3 ** 2"
   ]
  },
  {
   "cell_type": "code",
   "execution_count": 14,
   "metadata": {},
   "outputs": [
    {
     "data": {
      "text/plain": [
       "[0, 0, 0, 0]"
      ]
     },
     "execution_count": 14,
     "metadata": {},
     "output_type": "execute_result"
    }
   ],
   "source": [
    "data = [*list(range(7))]*4\n",
    "pred = []\n",
    "for i, obs in enumerate(data):\n",
    "    pred.append(obs) if not (i % 7) else None\n",
    "    \n",
    "[obs for i, obs in enumerate(data) if not (i % 7)]"
   ]
  },
  {
   "cell_type": "code",
   "execution_count": 18,
   "metadata": {},
   "outputs": [
    {
     "data": {
      "text/plain": [
       "2.0"
      ]
     },
     "execution_count": 18,
     "metadata": {},
     "output_type": "execute_result"
    }
   ],
   "source": [
    "arrayy = list(range(5))\n",
    "def mean(arr):\n",
    "    return sum(arr) / len(arr)\n",
    "    \n",
    "mean(arrayy)"
   ]
  },
  {
   "cell_type": "code",
   "execution_count": 21,
   "metadata": {},
   "outputs": [
    {
     "data": {
      "text/plain": [
       "{0.2: 'a'}"
      ]
     },
     "execution_count": 21,
     "metadata": {},
     "output_type": "execute_result"
    }
   ],
   "source": [
    "test = {}\n",
    "test[0.2] = \"a\"\n",
    "test"
   ]
  },
  {
   "cell_type": "code",
   "execution_count": 22,
   "metadata": {},
   "outputs": [
    {
     "data": {
      "text/plain": [
       "True"
      ]
     },
     "execution_count": 22,
     "metadata": {},
     "output_type": "execute_result"
    }
   ],
   "source": [
    "bool(test)"
   ]
  },
  {
   "cell_type": "code",
   "execution_count": 23,
   "metadata": {},
   "outputs": [
    {
     "data": {
      "text/plain": [
       "False"
      ]
     },
     "execution_count": 23,
     "metadata": {},
     "output_type": "execute_result"
    }
   ],
   "source": [
    "bool({})"
   ]
  },
  {
   "cell_type": "code",
   "execution_count": null,
   "metadata": {},
   "outputs": [],
   "source": []
  }
 ],
 "metadata": {
  "kernelspec": {
   "display_name": "Python 3.10.1 64-bit",
   "language": "python",
   "name": "python3"
  },
  "language_info": {
   "codemirror_mode": {
    "name": "ipython",
    "version": 3
   },
   "file_extension": ".py",
   "mimetype": "text/x-python",
   "name": "python",
   "nbconvert_exporter": "python",
   "pygments_lexer": "ipython3",
   "version": "3.10.1"
  },
  "orig_nbformat": 4,
  "vscode": {
   "interpreter": {
    "hash": "26de051ba29f2982a8de78e945f0abaf191376122a1563185a90213a26c5da77"
   }
  }
 },
 "nbformat": 4,
 "nbformat_minor": 2
}
