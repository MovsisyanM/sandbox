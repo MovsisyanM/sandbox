{
 "cells": [
  {
   "cell_type": "markdown",
   "metadata": {},
   "source": [
    "# Homework 7\n",
    "by Mher Movsisyan\n",
    "---"
   ]
  },
  {
   "cell_type": "markdown",
   "metadata": {},
   "source": [
    "### Problem 1 (10 points) \n",
    "Let 𝑋 and 𝑌 be continuous random variables with joint density function with a constant 𝑐:  \n",
    "  \n",
    "f(x, y) = x + cy<sup>2</sup> when 0 < x < 1 and 0 < y < 1"
   ]
  },
  {
   "cell_type": "markdown",
   "metadata": {},
   "source": [
    "a) Find the value of c (2 points)\n",
    "  \n",
    "$$ \\iint_{0}^{1}(x + cy^2)dxdy = 1 $$  \n",
    "  \n",
    "$$ \\int_{0}^{1}\\frac{2cy^2 + 1} {2}dy = 1 $$  \n",
    "  \n",
    "$$ \\frac{2c + 3} {6} = 1 $$  \n",
    "  \n",
    "$$ c = 1.5 $$"
   ]
  },
  {
   "cell_type": "markdown",
   "metadata": {},
   "source": [
    "b) Calculate f<sub>X|Y</sub>(x, y) (4 points)  \n",
    "  \n",
    "$$ f_{X|Y}(x, y) = \\frac{f(x, y)} {f_y(y)} $$  \n",
    "  \n",
    "$$ f_y(y) = \\int_{0}^{1}(x + 1.5y^2)dx = \\frac{3y^2+1} {2} $$  \n",
    "\n",
    "$$ f_{X|Y}(x, y) = \\frac{2x + 3y^2} {3y^2+1} $$"
   ]
  },
  {
   "cell_type": "markdown",
   "metadata": {},
   "source": [
    "c) Calculate f<sub>X|Y = 0.5</sub>(x) (4 points)\n",
    "\n",
    "$$ f_{X|Y = 0.5}(x, y) = \\frac{2x + 3 * 0.25} {3 * 0.25+1} = \\frac{2x + 0.75} {1.75} $$"
   ]
  },
  {
   "cell_type": "markdown",
   "metadata": {},
   "source": [
    "### Problem 2 (10 points)  \n",
    "Consider two random variables 𝑋 and 𝑌 with joint PMF given in below:  \n",
    "  \n",
    "| X\\Y |   0  |   2  |   3  |  \n",
    "| --- | ---- | ---- | ---- |  \n",
    "|  1  |  0.1 |  0.2 |  0.1 |  \n",
    "|  2  |  0.1 |  0.1 |  0.2 |  \n",
    "|  3  | 0.05 | 0.05 |  0.1 |  "
   ]
  },
  {
   "cell_type": "markdown",
   "metadata": {},
   "source": [
    "a) Calculate Cov(x, y) (5 points)\n",
    "\n",
    "$$ E(x) = 0.4 * 1 + 0.4 * 2 + 0.2 * 3 = 1.8 $$  \n",
    "\n",
    "$$ E(y) = 2 * 0.35 + 3 * 0.4 = 1.9 $$\n",
    "\n",
    "$$ E(xy) = 2 * 1 * 0.2 + 2 * 2 * 0.1 + 2 * 3 * 0.05 + 3 * 1 * 0.1 + 3 * 2 * 0.2 + 3 * 3 * 0.1 = 0.4 + 0.4 + 0.3 + 0.3 + 1.2 + 0.9 = 3.5 $$\n",
    "\n",
    "$$ Cov(x, y) = E(xy) - E(x)E(y) = 3.5 - 1.9 * 1.8 = 0.08 $$"
   ]
  },
  {
   "cell_type": "markdown",
   "metadata": {},
   "source": [
    "b) Calculate p(x, y) (Correlation) (5 points)\n",
    "\n",
    "$$ Var(x) = E(x^2) - E(x)^2 = (0.4 * 1 + 0.4 * 4 + 0.2 * 9) - 1.8^2 = 0.56 $$\n",
    "\n",
    "$$ Var(x) = E(x^2) - E(x)^2 = (4 * 0.35 + 9 * 0.4) - 1.9^2 = 1.39 $$\n",
    "\n",
    "$$ p(x, y) = \\frac{Cov(x, y)} {\\sqrt{Var(x)Var(y)}} = \\frac{0.08} {\\sqrt{1.39 * 0.56}} = 0.1028 $$"
   ]
  },
  {
   "cell_type": "markdown",
   "metadata": {},
   "source": [
    "### Problem 3 (25 points)  \n",
    "In Armenia average height of Male is 171.5 cm and standard deviation is 8 cm. For females it is 159.2 cm and standard deviation is 8.  We are taking female group of size 50 and the male group of size 70."
   ]
  },
  {
   "cell_type": "markdown",
   "metadata": {},
   "source": [
    "a) Approximate the probability that the average height in the group of females exceed 160. (5 points)\n",
    "\n",
    "Using the central limit theorem:\n",
    "$$ P(\\frac{X_1 + ... + X_{50} - 50 * 159.2} {8 \\sqrt{50}} \\leqslant a) \\approx \\phi(a) $$\n",
    "\n",
    "$$ P(\\frac{X_1 + ... + X_{50} - 50 * 159.2} {8 \\sqrt{50}} \\geqslant a) \\approx 1 - \\phi(a) $$\n",
    "\n",
    "$$ P(\\frac{X_1 + ... + X_{50}} {50} \\geqslant \\frac{8 * a} {\\sqrt{50}} + 159.2) \\approx 1 - \\phi(a) $$\n",
    "\n",
    "$$ \\frac{8 * a} {\\sqrt{50}} + 159.2 = 160 $$  \n",
    "\n",
    "$$ a = 0.707107 $$\n",
    "\n",
    "$$ P(\\frac{X_1 + ... + X_{50}} {50} \\geqslant 160) \\approx 1 - \\phi(0.707107) \\approx 1 - 0.76 = 0.24 $$"
   ]
  },
  {
   "cell_type": "markdown",
   "metadata": {},
   "source": [
    "b) Approximate the probability that the average height in the men group exceeds that of the other group by over 15 cm. (10 points)\n",
    "\n",
    "$$ P(\\frac{X_1 + ... + X_{70} - 70 * 171.5} {8 \\sqrt{70}} \\geqslant 159.2 + 15) $$\n",
    "\n",
    "$$ P(\\frac{X_1 + ... + X_{70}} {70} \\geqslant \\frac{a * 8} {\\sqrt{70}} + 171.5) = 1 - \\phi(a) $$\n",
    "\n",
    "$$ \\frac{a * 8} {\\sqrt{70}} + 171.5 = 159.2 + 15 $$\n",
    "\n",
    "$$ a = 2.82 $$\n",
    "\n",
    "$$ P(\\frac{X_1 + ... + X_{70}} {70} \\geqslant 159.2 + 15) = 1 - \\phi(2.82) = 1 - 0.9976 = 0.0024 $$"
   ]
  },
  {
   "cell_type": "markdown",
   "metadata": {},
   "source": [
    "c) Approximate the probability that the difference between average height of female group and the average height of group of males is less than 10. (10 points)\n",
    "\n",
    "$$ Let: \\mu_x = \\frac{X_1 + ... + X_{70}} {70} $$\n",
    "\n",
    "$$ Let: \\mu_y = \\frac{Y_1 + ... + Y_{50}} {50} $$\n",
    "\n",
    "$$ P(|\\mu_x - \\mu_y| \\leqslant 10) = P(-10 \\leqslant \\mu_x - \\mu_y \\leqslant 10) $$\n",
    "\n",
    "$$ P(-10 \\leqslant \\mu_x - \\mu_y \\leqslant 10) = P(\\mu_x - \\mu_y \\leqslant 10) - P(-10 \\leqslant \\mu_x - \\mu_y) $$\n",
    "\n",
    "Let's try computing it"
   ]
  },
  {
   "cell_type": "code",
   "execution_count": 54,
   "metadata": {},
   "outputs": [
    {
     "name": "stdout",
     "output_type": "stream",
     "text": [
      "The mean of M is 12.292390462594723 and the standard deviation is 1.4774510383987165\n"
     ]
    }
   ],
   "source": [
    "# Import necessary library, set a seed for the random generator\n",
    "import numpy as np\n",
    "import  seaborn as sns\n",
    "from scipy.stats import norm\n",
    "import matplotlib.pyplot as plt\n",
    "from matplotlib.lines import Line2D\n",
    "%matplotlib inline\n",
    "np.random.seed(173)\n",
    "\n",
    "# Create a place to store the difference of the means\n",
    "mean_diffs = np.zeros(10000)\n",
    "\n",
    "for i in range(10000):\n",
    "    # Take two random samples, doesn't matter much which distribution we draw from\n",
    "    X = np.random.normal(171.5, 8, 70)\n",
    "    Y = np.random.normal(159.2, 8, 50)\n",
    "\n",
    "    # Compute and store the difference of means\n",
    "    mean_diffs[i] = np.mean(X) - np.mean(Y)\n",
    "\n",
    "mean_diffs.sort()\n",
    "print(\"The mean of M is\", np.mean(mean_diffs), \"and the standard deviation is\", np.std(mean_diffs))"
   ]
  },
  {
   "cell_type": "markdown",
   "metadata": {},
   "source": [
    "From the central limit theorem, we know that the means of X and Y are normally distributed, let's see if the new variable M (mean differences) is normally distributed or not."
   ]
  },
  {
   "cell_type": "code",
   "execution_count": 59,
   "metadata": {},
   "outputs": [
    {
     "data": {
      "image/png": "[encoded data removed]",
      "text/plain": [
       "<Figure size 432x288 with 1 Axes>"
      ]
     },
     "metadata": {
      "needs_background": "light"
     },
     "output_type": "display_data"
    }
   ],
   "source": [
    "x = np.arange(\n",
    "    norm.ppf(0.01, np.mean(mean_diffs), np.std(mean_diffs)),\n",
    "    norm.ppf(0.99, np.mean(mean_diffs), np.std(mean_diffs)),\n",
    "    step = 0.001)\n",
    "\n",
    "fig, ax = plt.subplots()\n",
    "sns.histplot(x = mean_diffs, ax=ax, fill=False, stat=\"density\")\n",
    "sns.lineplot(x = x, y = norm.pdf(x, np.mean(mean_diffs), np.std(mean_diffs)), linewidth=2, ax=ax)\n",
    "plt.axvline(x=10, color=\"red\")\n",
    "\n",
    "custom_lines = [Line2D([0], [0], color=\"Blue\", lw=4),\n",
    "                Line2D([0], [0], color=\"Orange\", lw=4),\n",
    "                Line2D([0], [0], color=\"Red\", lw=4)]\n",
    "ax.legend(custom_lines, [\"M\", \"Normal\", \"Threshold\"]);"
   ]
  },
  {
   "cell_type": "markdown",
   "metadata": {},
   "source": [
    "The new variable M is indeed normally distributed, now let's compute the probability of M being less than 10"
   ]
  },
  {
   "cell_type": "code",
   "execution_count": 61,
   "metadata": {},
   "outputs": [
    {
     "data": {
      "text/plain": [
       "0.0624"
      ]
     },
     "execution_count": 61,
     "metadata": {},
     "output_type": "execute_result"
    }
   ],
   "source": [
    "np.sum(mean_diffs < 10) / len(mean_diffs)"
   ]
  },
  {
   "cell_type": "markdown",
   "metadata": {},
   "source": [
    "### Problem 4 (15 points)\n",
    "The number of exercises a student is doing during the week is a random variable with mean 45.  \n",
    "  \n",
    "a) What can be said about the probability that this week's student will do at least 115 exercises? (7 points)\n",
    "\n",
    "Since we only have the mean, we can use Markov's inequality\n",
    "\n",
    "$$ P(X \\geqslant 115) \\leqslant \\frac{45} {115} \\approx 0.39 $$"
   ]
  },
  {
   "cell_type": "markdown",
   "metadata": {},
   "source": [
    "b) If the variance of a week's exercises is known to equal 100, can we obtain a better bound for (a)? (8 points)\n",
    "\n",
    "Now we can use Chebyshev's almighty inequality.\n",
    "\n",
    "$$ P(X \\geqslant 115) = 0.5 * P(|X - 45| \\geqslant 70) \\leqslant \\frac{100 * 0.5} {70^2} $$\n",
    "\n",
    "$$ P(X \\geqslant 115)  \\leqslant \\frac{1} {98} \\approx 0.01 $$"
   ]
  },
  {
   "cell_type": "markdown",
   "metadata": {},
   "source": [
    "### Problem 5 (15 points)  \n",
    "Suppose someone gives you a die and claims that this die is biased (that it gave 6 only 15% of the time).  You decide to test the die by yourself and draw the die 70 times. Find a probability that there will be less than 9 six in the all 70 trials."
   ]
  },
  {
   "cell_type": "markdown",
   "metadata": {},
   "source": [
    "### Problem 6 (25 points)\n",
    "In The university a distribution of the final exam grade of students has a mean of 82 (in a range from 0 to 100) and a variance 144. You randomly select 40 students from the population of students. "
   ]
  },
  {
   "cell_type": "markdown",
   "metadata": {},
   "source": [
    "a) Find the probability that the sample mean is between 78 and 90. (10 points) "
   ]
  },
  {
   "cell_type": "markdown",
   "metadata": {},
   "source": [
    "b) Find the value of final exam score that is two standard deviations above the population mean, 82, of the sample mean. (5 points)"
   ]
  },
  {
   "cell_type": "markdown",
   "metadata": {},
   "source": [
    "c) How many students should be selected to be 95% confident, that the sample mean will not be differ from the population mean by ± 5 points. (10 points) "
   ]
  }
 ],
 "metadata": {
  "interpreter": {
   "hash": "b392b17bb912b79173c898bc62d419cb26a8919549a0a618478fecf805bb844e"
  },
  "kernelspec": {
   "display_name": "Python 3.9.9 64-bit (windows store)",
   "name": "python3"
  },
  "language_info": {
   "codemirror_mode": {
    "name": "ipython",
    "version": 3
   },
   "file_extension": ".py",
   "mimetype": "text/x-python",
   "name": "python",
   "nbconvert_exporter": "python",
   "pygments_lexer": "ipython3",
   "version": "3.9.1"
  },
  "orig_nbformat": 4
 },
 "nbformat": 4,
 "nbformat_minor": 2
}
