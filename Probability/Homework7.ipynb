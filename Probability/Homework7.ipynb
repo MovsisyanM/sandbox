{
 "cells": [
  {
   "cell_type": "markdown",
   "metadata": {},
   "source": [
    "# Homework 7\n",
    "by Mher Movsisyan\n",
    "---"
   ]
  },
  {
   "cell_type": "markdown",
   "metadata": {},
   "source": [
    "### Problem 1 (10 points) \n",
    "Let 𝑋 and 𝑌 be continuous random variables with joint density function with a constant 𝑐:  \n",
    "  \n",
    "f(x, y) = x + cy<sup>2</sup> when 0 < x < 1 and 0 < y < 1"
   ]
  },
  {
   "cell_type": "markdown",
   "metadata": {},
   "source": [
    "a) Find the value of c (2 points)\n",
    "  \n",
    "$$ \\iint_{0}^{1}(x + cy^2)dxdy = 1 $$  \n",
    "  \n",
    "$$ \\int_{0}^{1}\\frac{2cy^2 + 1} {2}dy = 1 $$  \n",
    "  \n",
    "$$ \\frac{2c + 3} {6} = 1 $$  \n",
    "  \n",
    "$$ c = 1.5 $$"
   ]
  },
  {
   "cell_type": "markdown",
   "metadata": {},
   "source": [
    "b) Calculate f<sub>X|Y</sub>(x, y) (4 points)  \n",
    "  \n",
    "$$ f_{X|Y}(x, y) = \\frac{f(x, y)} {f_y(y)} $$  \n",
    "  \n",
    "$$ f_y(y) = \\int_{0}^{1}(x + 1.5y^2)dx = \\frac{3y^2+1} {2} $$  \n",
    "\n",
    "$$ f_{X|Y}(x, y) = \\frac{2x + 3y^2} {3y^2+1} $$"
   ]
  },
  {
   "cell_type": "markdown",
   "metadata": {},
   "source": [
    "c) Calculate f<sub>X|Y = 0.5</sub>(x) (4 points)\n",
    "\n",
    "$$ f_{X|Y = 0.5}(x, y) = \\frac{2x + 3 * 0.25} {3 * 0.25+1} = \\frac{2x + 0.75} {1.75} $$"
   ]
  },
  {
   "cell_type": "markdown",
   "metadata": {},
   "source": [
    "### Problem 2 (10 points)  \n",
    "Consider two random variables 𝑋 and 𝑌 with joint PMF given in below:  \n",
    "  \n",
    "| X\\Y |   0  |   2  |   3  |  \n",
    "| --- | ---- | ---- | ---- |  \n",
    "|  1  |  0.1 |  0.2 |  0.1 |  \n",
    "|  2  |  0.1 |  0.1 |  0.2 |  \n",
    "|  3  | 0.05 | 0.05 |  0.1 |  "
   ]
  },
  {
   "cell_type": "markdown",
   "metadata": {},
   "source": [
    "a) Calculate Cov(x, y) (5 points)"
   ]
  },
  {
   "cell_type": "markdown",
   "metadata": {},
   "source": [
    "b) Calculate p(x, y) (Correlation) (5 points)"
   ]
  },
  {
   "cell_type": "markdown",
   "metadata": {},
   "source": [
    "### Problem 3 (25 points)  \n",
    "In Armenia average height of Male is 171.5 cm and standard deviation is 8 cm. For females it is 159.2 cm and standard deviation is 8.  We are taking female group of size 50 and the male group of size 70."
   ]
  },
  {
   "cell_type": "markdown",
   "metadata": {},
   "source": [
    "a) Approximate the probability that the average height in the group of females exceed 160. (5 points)"
   ]
  },
  {
   "cell_type": "markdown",
   "metadata": {},
   "source": [
    "b) Approximate the probability that the average height in the men group exceeds that of the other group by over 15 cm. (10 points)"
   ]
  },
  {
   "cell_type": "markdown",
   "metadata": {},
   "source": [
    "c) Approximate the probability that the difference between average height of female group and the average height of group of males is less than 10. (10 points)"
   ]
  },
  {
   "cell_type": "markdown",
   "metadata": {},
   "source": [
    "### Problem 4 (15 points)\n",
    "The number of exercises a student is doing during the week is a random variable with mean 45.  \n",
    "  \n",
    "a) What can be said about the probability that this week's student will do at least 115 exercises? (7 points)"
   ]
  },
  {
   "cell_type": "markdown",
   "metadata": {},
   "source": [
    "b) If the variance of a week's exercises is known to equal 100, can we obtain a better bound for (a)? (8 points)"
   ]
  },
  {
   "cell_type": "markdown",
   "metadata": {},
   "source": [
    "### Problem 5 (15 points)  \n",
    "Suppose someone gives you a die and claims that this die is biased (that it gave 6 only 15% of the time).  You decide to test the die by yourself and draw the die 70 times. Find a probability that there will be less than 9 six in the all 70 trials."
   ]
  },
  {
   "cell_type": "markdown",
   "metadata": {},
   "source": [
    "### Problem 6 (25 points)\n",
    "In The university a distribution of the final exam grade of students has a mean of 82 (in a range from 0 to 100) and a variance 144. You randomly select 40 students from the population of students. "
   ]
  },
  {
   "cell_type": "markdown",
   "metadata": {},
   "source": [
    "a) Find the probability that the sample mean is between 78 and 90. (10 points) "
   ]
  },
  {
   "cell_type": "markdown",
   "metadata": {},
   "source": [
    "b) Find the value of final exam score that is two standard deviations above the population mean, 82, of the sample mean. (5 points)"
   ]
  },
  {
   "cell_type": "markdown",
   "metadata": {},
   "source": [
    "c) How many students should be selected to be 95% confident, that the sample mean will not be differ from the population mean by ± 5 points. (10 points) "
   ]
  }
 ],
 "metadata": {
  "interpreter": {
   "hash": "b392b17bb912b79173c898bc62d419cb26a8919549a0a618478fecf805bb844e"
  },
  "kernelspec": {
   "display_name": "Python 3.9.9 64-bit (windows store)",
   "name": "python3"
  },
  "language_info": {
   "name": "python",
   "version": "3.9.9"
  },
  "orig_nbformat": 4
 },
 "nbformat": 4,
 "nbformat_minor": 2
}
