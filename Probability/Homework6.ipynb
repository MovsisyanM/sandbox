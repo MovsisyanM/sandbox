{
 "cells": [
  {
   "cell_type": "markdown",
   "metadata": {},
   "source": [
    "# CS 107, Probability, Fall 2021\n",
    "## Homework 6 by Mher Movsisyan\n",
    "---"
   ]
  },
  {
   "cell_type": "markdown",
   "metadata": {},
   "source": [
    "### Problem 1\n",
    "A MOH (ministry of health) of RA recently issued a report that suggested 25% of all PSR tests in 2022 will be positive. Suppose 1100 tests are selected at random."
   ]
  },
  {
   "cell_type": "markdown",
   "metadata": {},
   "source": [
    "- Find the parameters of the normal approximation to the described binomial random variable. (3 points)"
   ]
  },
  {
   "cell_type": "markdown",
   "metadata": {},
   "source": [
    "E(x) = np = 1100 * 0.25 = 275 = μ  \n",
    "Var(x) = 275 * (1 - 0.25)) = 206.25 = σ<sup>2</sup>"
   ]
  },
  {
   "cell_type": "code",
   "execution_count": 1,
   "metadata": {},
   "outputs": [],
   "source": [
    "import numpy as np\n",
    "from scipy.stats import norm, binom, expon\n",
    "import matplotlib.pyplot as plt\n",
    "import  seaborn as sns\n",
    "from matplotlib.lines import Line2D\n",
    "from math import e"
   ]
  },
  {
   "cell_type": "code",
   "execution_count": 2,
   "metadata": {},
   "outputs": [
    {
     "data": {
      "image/png": "[encoded data removed]",
      "text/plain": [
       "<Figure size 432x288 with 1 Axes>"
      ]
     },
     "metadata": {
      "needs_background": "light"
     },
     "output_type": "display_data"
    }
   ],
   "source": [
    "n, p = 1100, 0.25\n",
    "x = np.arange(binom.ppf(0.01, n, p),binom.ppf(0.99, n, p))\n",
    "fig, ax = plt.subplots()\n",
    "sns.lineplot(x = x, y = binom.pmf(x, n, p), linewidth=5, ax=ax)\n",
    "sns.lineplot(x = x, y = norm.pdf(x, 275, np.sqrt(206.25)), linewidth=2, ax=ax)\n",
    "\n",
    "custom_lines = [Line2D([0], [0], color=\"Blue\", lw=4),\n",
    "                Line2D([0], [0], color=\"Orange\", lw=4)]\n",
    "ax.legend(custom_lines, [\"Binomial\", \"Normal\"]);"
   ]
  },
  {
   "cell_type": "markdown",
   "metadata": {},
   "source": [
    "- Find the probability that at most 300 of the tests will be positive. (5 points)"
   ]
  },
  {
   "cell_type": "code",
   "execution_count": 3,
   "metadata": {},
   "outputs": [
    {
     "data": {
      "text/plain": [
       "0.9611145977631907"
      ]
     },
     "execution_count": 3,
     "metadata": {},
     "output_type": "execute_result"
    }
   ],
   "source": [
    "binom.cdf(300, 1100, 0.25)"
   ]
  },
  {
   "cell_type": "code",
   "execution_count": 4,
   "metadata": {},
   "outputs": [
    {
     "data": {
      "text/plain": [
       "0.9591386238506704"
      ]
     },
     "execution_count": 4,
     "metadata": {},
     "output_type": "execute_result"
    }
   ],
   "source": [
    "norm.cdf(300, 275, np.sqrt(206.25))"
   ]
  },
  {
   "cell_type": "markdown",
   "metadata": {},
   "source": [
    "- Find the probability that at exactly 300 of the test will be positive. (7  points)"
   ]
  },
  {
   "cell_type": "code",
   "execution_count": 5,
   "metadata": {},
   "outputs": [
    {
     "data": {
      "text/plain": [
       "0.006108981245967196"
      ]
     },
     "execution_count": 5,
     "metadata": {},
     "output_type": "execute_result"
    }
   ],
   "source": [
    "binom.pmf(300, 1100, 0.25)"
   ]
  },
  {
   "cell_type": "code",
   "execution_count": 6,
   "metadata": {},
   "outputs": [
    {
     "data": {
      "text/plain": [
       "0.006107580610902774"
      ]
     },
     "execution_count": 6,
     "metadata": {},
     "output_type": "execute_result"
    }
   ],
   "source": [
    "norm.cdf(300.5, 275, np.sqrt(206.25)) - norm.cdf(299.5, 275, np.sqrt(206.25))"
   ]
  },
  {
   "cell_type": "markdown",
   "metadata": {},
   "source": [
    "### Problem 2 (20 points):\n",
    "On average, a certain butterfly lives 11 days.  The butterfly’s life is exponentially distributed.  \n",
    "- What is the probability that butterfly will live more than 12 days? (6 points) "
   ]
  },
  {
   "cell_type": "markdown",
   "metadata": {},
   "source": [
    "lambda = 1/11  \n",
    "P(x > 12) = 1 - P(x < 12)"
   ]
  },
  {
   "cell_type": "code",
   "execution_count": 7,
   "metadata": {},
   "outputs": [
    {
     "data": {
      "text/plain": [
       "0.3359109812391624"
      ]
     },
     "execution_count": 7,
     "metadata": {},
     "output_type": "execute_result"
    }
   ],
   "source": [
    "1 - expon.cdf(12, scale=11)"
   ]
  },
  {
   "cell_type": "code",
   "execution_count": 8,
   "metadata": {},
   "outputs": [
    {
     "data": {
      "text/plain": [
       "0.3359109812391624"
      ]
     },
     "execution_count": 8,
     "metadata": {},
     "output_type": "execute_result"
    }
   ],
   "source": [
    "e**((-1/11)*(12))"
   ]
  },
  {
   "cell_type": "markdown",
   "metadata": {},
   "source": [
    "- At least in how many days do the 70% of butterfly will die? (6 points)"
   ]
  },
  {
   "cell_type": "code",
   "execution_count": 9,
   "metadata": {},
   "outputs": [
    {
     "data": {
      "text/plain": [
       "14.0"
      ]
     },
     "execution_count": 9,
     "metadata": {},
     "output_type": "execute_result"
    }
   ],
   "source": [
    "np.ceil(expon.ppf(0.7, scale=11))"
   ]
  },
  {
   "cell_type": "markdown",
   "metadata": {},
   "source": [
    "- What is the probability that a butterfly life lasts between 4 and 5 days? (8 points) "
   ]
  },
  {
   "cell_type": "code",
   "execution_count": 10,
   "metadata": {},
   "outputs": [
    {
     "data": {
      "text/plain": [
       "0.06040750945859685"
      ]
     },
     "execution_count": 10,
     "metadata": {},
     "output_type": "execute_result"
    }
   ],
   "source": [
    "expon.cdf(5, scale=11) - expon.cdf(4, scale=11)"
   ]
  },
  {
   "cell_type": "markdown",
   "metadata": {},
   "source": [
    "### Problem 3 (20 points):\n",
    "Consider two random variables 𝑋 and 𝑌 with joint PMF given below. We define a new random variable 𝒁=𝑿∗𝒀.  \n",
    "| X\\Y |  1  |  2  |  4  |\n",
    "| --- | --- | --- | --- |\n",
    "|  2  | 0.1 | 0.2 | 0.3 |\n",
    "|  4  | 0.1 |  0  | 0.3 |"
   ]
  },
  {
   "cell_type": "markdown",
   "metadata": {},
   "source": [
    "- Find the PMF of 𝑍. (5 points) \n",
    "\n",
    "|  Z | P(Z) |\n",
    "| -- | ---- |\n",
    "|  2 | 0.1  |\n",
    "|  4 | 0.3  |\n",
    "|  8 | 0.3  |\n",
    "| 16 | 0.3  |"
   ]
  },
  {
   "cell_type": "markdown",
   "metadata": {},
   "source": [
    "- Find the CDF of 𝑍. (5 points)\n",
    "\n",
    "|  Z | CDF(Z) |\n",
    "| -- | ------ |\n",
    "|  2 | 0.1 |\n",
    "|  4 | 0.4 |\n",
    "|  8 | 0.7 |\n",
    "| 16 | 1.0 |"
   ]
  },
  {
   "cell_type": "markdown",
   "metadata": {},
   "source": [
    "- Find 𝑃(𝑋=2 | 𝑍 =8). (10 points)\n",
    "\n",
    "0.3"
   ]
  },
  {
   "cell_type": "markdown",
   "metadata": {},
   "source": [
    "### Problem 4 (20 points):\n",
    "Let 𝑋 and 𝑌 be continuous random variables with joint density function with a constant 𝑎:\n",
    "|                      | f(x, y)         |\n",
    "| -------------------- | --------------- |\n",
    "| 0 < x < 2, 0 < y < 1 | axy<sup>2</sup> |\n",
    "| otherwise | 0 |"
   ]
  },
  {
   "cell_type": "markdown",
   "metadata": {},
   "source": [
    "- What is the value of a? (5 points)\n",
    "\n",
    "![Integral of joint pdf = 1](https://latex.codecogs.com/png.latex?%5Cdpi%7B150%7D%20%5Cbg_white%20%5Clarge%20%5Cint_%7B0%7D%5E%7B1%7D%5Cint_%7B0%7D%5E%7B2%7Daxy%5E2dxdy%20%3D%201)\n",
    "\n",
    "![Integral of joint pdf = 1 step 2](https://latex.codecogs.com/png.latex?%5Cdpi%7B150%7D%20%5Cbg_white%20%5Clarge%202a%5Cint_%7B0%7D%5E%7B1%7Dy%5E2dy%20%3D%201)\n",
    "\n",
    "![Integral of joint pdf = 1 step 3](https://latex.codecogs.com/png.latex?%5Cdpi%7B150%7D%20%5Cbg_white%20%5Clarge%20%5Cfrac%7B2a%7D%7B3%7D%20%3D%201)  \n",
    "a = 3/2"
   ]
  },
  {
   "cell_type": "markdown",
   "metadata": {},
   "source": [
    "- Find the marginal PMF of 𝑋. (5 points)\n",
    "\n",
    "![Integral of marginal pdf x](https://latex.codecogs.com/png.latex?%5Cdpi%7B150%7D%20%5Cbg_white%20%5Clarge%20f_%7Bx%7D%28x%29%20%3D%20%5Cint_%7B-%5Cinfty%7D%5E%7B%5Cinfty%7Df%28x%2C%20y%29dy)\n",
    "\n",
    "![Integral of marginal pdf x step 1](https://latex.codecogs.com/png.latex?%5Cdpi%7B150%7D%20%5Cbg_white%20%5Clarge%20%5Cint_%7B0%7D%5E%7B1%7D%5Cfrac%7B3xy%5E2%7D%7B2%7Ddy)\n",
    "\n",
    "![Integral of marginal pdf x step 2](https://latex.codecogs.com/png.latex?%5Cdpi%7B150%7D%20%5Cbg_white%20%5Clarge%20%5Cfrac%7Bx%7D%7B2%7D)"
   ]
  },
  {
   "cell_type": "markdown",
   "metadata": {},
   "source": [
    "- Find the marginal PMF of 𝑌. (5 points)\n",
    "\n",
    "![Integral of marginal pdf y](https://latex.codecogs.com/png.latex?%5Cdpi%7B150%7D%20%5Cbg_white%20%5Clarge%20f_%7By%7D%28y%29%20%3D%20%5Cint_%7B-%5Cinfty%7D%5E%7B%5Cinfty%7Df%28x%2C%20y%29dx)\n",
    "\n",
    "![Integral of marginal pdf y step 1](https://latex.codecogs.com/png.latex?%5Cdpi%7B150%7D%20%5Cbg_white%20%5Clarge%20%5Cint_%7B0%7D%5E%7B2%7D%5Cfrac%7B3xy%5E2%7D%7B2%7Ddx)\n",
    "\n",
    "![Integral of marginal pdf y step 2](https://latex.codecogs.com/png.latex?%5Cdpi%7B150%7D%20%5Cbg_white%20%5Clarge%203y%5E2)"
   ]
  },
  {
   "cell_type": "markdown",
   "metadata": {},
   "source": [
    "- Find 𝑃{𝑋 + 𝑌 > 1}. (5 points)\n",
    "\n",
    "![Integral of restricted joint](https://latex.codecogs.com/png.latex?%5Cdpi%7B150%7D%20%5Cbg_white%20%5Clarge%20f%28x%2C%20y%29%20%3D%20%5Cint_%7B0%7D%5E%7B1%7D%5Cint_%7By%7D%5E%7B1%7D%5Cfrac%7B3xy%5E2%7D%7B2%7Ddxdy)\n",
    "\n",
    "![Integral of restricted joint step 1](https://latex.codecogs.com/png.latex?%5Cdpi%7B150%7D%20%5Cbg_white%20%5Clarge%20%5Cint_%7B0%7D%5E%7B1%7D%5Cfrac%7B%28-3y%5E2%29%28y%5E2-1%29%7D%7B4%7Ddy)\n",
    "\n",
    "![Integral of restricted joint step 2](https://latex.codecogs.com/png.latex?%5Cdpi%7B150%7D%20%5Cbg_white%20%5Clarge%20%5Cfrac%7B1%7D%7B10%7D)"
   ]
  },
  {
   "cell_type": "markdown",
   "metadata": {},
   "source": [
    "### Problem 5 (25 points):\n",
    "\n",
    "The random variables 𝑋 and 𝑌 have joint density function\n",
    "|                      |                 f(x, y) |\n",
    "| -------------------- | ----------------------- |\n",
    "| 0 < x < 1, 0 < y < 1 | 18yx<sup>2</sup>(1 - y) |\n",
    "|            otherwise |                       0 |"
   ]
  },
  {
   "cell_type": "markdown",
   "metadata": {},
   "source": [
    "- Are 𝑋 and 𝑌 independent? (5 points)\n",
    "\n",
    "The question above is equivalent to \"Does f(x, y) == f<sub>x</sub>(x)f<sub>y</sub>(y)\"  \n",
    "\n",
    "![formula](https://latex.codecogs.com/png.latex?%5Cdpi%7B150%7D%20%5Cbg_white%20%5Clarge%20%5Cint_%7B0%7D%5E%7B1%7D18yx%5E2%281%20-%20y%29dx%20%5Ctimes%20%5Cint_%7B0%7D%5E%7B1%7D18yx%5E2%281%20-%20y%29dy%20%3D%2018yx%5E2%281-y%29)\n",
    "\n",
    "![formula part 2](https://latex.codecogs.com/png.latex?%5Cdpi%7B150%7D%20%5Cbg_white%20%5Clarge%206%281%20-%20y%29y%5C%3A%5Ctimes%203x%5E2%20%3D%2018yx%5E2%281%20-%20y%29)\n",
    "\n",
    "![formula part 3](https://latex.codecogs.com/png.latex?%5Cdpi%7B150%7D%20%5Cbg_white%20%5Clarge%2018yx%5E2%281-y%29%20%3D%2018yx%5E2%281-y%29)\n",
    "  \n",
    "Conclusion: Yes, they are independent"
   ]
  },
  {
   "cell_type": "markdown",
   "metadata": {},
   "source": [
    "- Find E[X] (5 points)\n",
    "\n",
    "![Expected value of marginal x](https://latex.codecogs.com/png.latex?%5Cdpi%7B150%7D%20%5Cbg_white%20%5Clarge%20E%5BX%5D%20%3D%20%5Cint_%7B0%7D%5E%7B1%7D3x%5E3dx%20%3D%200.75)"
   ]
  },
  {
   "cell_type": "markdown",
   "metadata": {},
   "source": [
    "- Find E[Y] (5 points)\n",
    "\n",
    "![Expected value of marginal y](https://latex.codecogs.com/png.latex?%5Cdpi%7B150%7D%20%5Cbg_white%20%5Clarge%20E%5BY%5D%20%3D%20%5Cint_%7B0%7D%5E%7B1%7D6%281-y%29y%5E2dy%20%3D%200.5)"
   ]
  },
  {
   "cell_type": "markdown",
   "metadata": {},
   "source": [
    "- Find 𝑉𝑎𝑟(𝑋). (5 points)\n",
    "\n",
    "![Variance x](https://latex.codecogs.com/png.latex?%5Cdpi%7B150%7D%20%5Cbg_white%20%5Clarge%20Var%5BX%5D%20%3D%20%5Cint_%7B0%7D%5E%7B1%7D3x%5E2%28x%20-%200.75%29%5E2dx%20%3D%20%5Cfrac%7B3%7D%7B80%7D)"
   ]
  },
  {
   "cell_type": "markdown",
   "metadata": {},
   "source": [
    "- Find Var(Y) (5 points)\n",
    "\n",
    "![Variance x](https://latex.codecogs.com/png.latex?%5Cdpi%7B150%7D%20%5Cbg_white%20%5Clarge%20Var%5BY%5D%20%3D%20%5Cint_%7B0%7D%5E%7B1%7D6y%281%20-%20y%29%28y%20-%200.5%29%5E2dy%20%3D%20%5Cfrac%7B1%7D%7B20%7D)"
   ]
  }
 ],
 "metadata": {
  "interpreter": {
   "hash": "ac59ebe37160ed0dfa835113d9b8498d9f09ceb179beaac4002f036b9467c963"
  },
  "kernelspec": {
   "display_name": "Python 3.9.1 64-bit",
   "name": "python3"
  },
  "language_info": {
   "codemirror_mode": {
    "name": "ipython",
    "version": 3
   },
   "file_extension": ".py",
   "mimetype": "text/x-python",
   "name": "python",
   "nbconvert_exporter": "python",
   "pygments_lexer": "ipython3",
   "version": "3.9.1"
  },
  "orig_nbformat": 4
 },
 "nbformat": 4,
 "nbformat_minor": 2
}
