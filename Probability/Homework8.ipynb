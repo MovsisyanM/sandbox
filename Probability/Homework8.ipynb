{
 "cells": [
  {
   "cell_type": "markdown",
   "metadata": {},
   "source": [
    "# Homework 8\n",
    "#### by Mher Movsisyan"
   ]
  },
  {
   "cell_type": "markdown",
   "metadata": {},
   "source": [
    "### Problem 1 (20 points)  \n",
    "Consider the Markov chain with two states 𝑆 = {1,2}, that has the state transition matrix shown below:  \n",
    "  \n",
    "  \n",
    "| S |  1  |  2  |\n",
    "| - |  -  |  -  |  \n",
    "| 1 | 0.6 | 0.4 |  \n",
    "| 2 | 0.5 | 0.5 |  \n",
    "  \n",
    "Suppose P(X<sub>1</sub> = 1) = 1/2"
   ]
  },
  {
   "cell_type": "markdown",
   "metadata": {},
   "source": [
    "a) Find P(X<sub>4</sub> = 1 | X<sub>3</sub> = 2) (5 points)  \n",
    "  \n",
    "P(X<sub>4</sub> = 1 | X<sub>3</sub> = 2)) = 0.5"
   ]
  },
  {
   "cell_type": "markdown",
   "metadata": {},
   "source": [
    "b) Find 𝑃(𝑋<sub>1</sub> = 1, 𝑋<sub>2</sub> = 2, 𝑋<sub>3</sub> = 1) (5 points)  \n",
    "  \n",
    "1/2 * 0.4 * 0.5 = 0.1  "
   ]
  },
  {
   "cell_type": "markdown",
   "metadata": {},
   "source": [
    "c) Find 𝑃(𝑋1 = 1, 𝑋3 = 1) (5 points)  \n",
    "1/2 * 0.6 * 0.6 + 1/2 * 0.4 * 0.5 = 0.28"
   ]
  },
  {
   "cell_type": "markdown",
   "metadata": {},
   "source": [
    "d) Find the stationary distribution. (5 points)\n",
    "\n",
    "$$ X_1\\begin{pmatrix}\n",
    "0.6 & 0.4\\\\ \n",
    "0.5 & 0.5\n",
    "\\end{pmatrix} = X_2 $$\n",
    "\n",
    "$$ \\begin{pmatrix}\n",
    "5/9 \\\\\n",
    "4/9\n",
    "\\end{pmatrix} $$"
   ]
  },
  {
   "cell_type": "markdown",
   "metadata": {},
   "source": [
    "### Problem 2 (20 points)  \n",
    "If the day is sunny the probability that the next day will be sunny is 90 percent and 10 percent will\n",
    "be cloudy, if the day is cloudy the probability that the next day will be cloudy is 50 percent and the\n",
    "rest split evenly between sunny and rainy days. If the day is rainy the probability that the next day is\n",
    "rainy is 30 percent and 70 percent is cloudy.  \n",
    "  \n",
    "|  T  |   S  |   C  |   R  |  \n",
    "| --- | ---- | ---- | ---- |  \n",
    "|  S  |  0.9 |  0.1 |    0 |  \n",
    "|  C  | 0.25 |  0.5 | 0.25 |  \n",
    "|  R  |    0 |  0.7 |  0.3 |  \n",
    "\n",
    "(a) Find the probability that two day after a sunny day is a sunny day. (10 points)  \n",
    "\n",
    "(b) Find the probability that two day after a sunny day is a rainy day. (10 points)"
   ]
  },
  {
   "cell_type": "markdown",
   "metadata": {},
   "source": [
    "a) 0.9 * 0.9 + 0.1 * 0.25 = 0.835  \n",
    "  \n",
    "b) 0.1 * 0.25 = 0.025"
   ]
  },
  {
   "cell_type": "markdown",
   "metadata": {},
   "source": [
    "### Problem 3 (20 points)  \n",
    "The number of emails that I get in a weekday (Monday through Friday) can be modeled by a Poisson\n",
    "distribution with an average of 240 emails per day. The number of emails that I receive on weekends\n",
    "(Saturday and Sunday) can be modeled by a Poisson distribution with an average of 48 emails per day.  \n",
    "\n",
    "(a) What is the probability that I get no emails in an interval of length 6 hours on a Sunday? (8\n",
    "points)  \n",
    "(b) A random day is chosen (all days of the week are equally likely to be selected), and a random\n",
    "interval of length one hour is selected on the chosen day. It is observed that I did not receive\n",
    "any emails in that interval. What is the probability that the chosen day is a weekend? (12 points)  "
   ]
  },
  {
   "cell_type": "markdown",
   "metadata": {},
   "source": [
    "a) 0  \n",
    "  \n",
    "b) $$ \\frac{2} {2 + 5e^{-8}} $$"
   ]
  },
  {
   "cell_type": "markdown",
   "metadata": {},
   "source": [
    "Problem 4 (20 points)\n",
    "Let 𝑋 and 𝑌 be jointly normal random variables with parameters\n",
    "$$ \\mu_𝑋 = −1, \\sigma_𝑋^2 = 4, \\mu_𝑌 = 1, \\sigma_𝑌^2 = 1, \\rho = \\frac{1} {2}$$"
   ]
  },
  {
   "cell_type": "markdown",
   "metadata": {},
   "source": [
    "a) $$ Var(X + Y) = 7 $$  \n",
    "b) $$ P(X + 3Y \\leqslant 5) \\approx 0.75 $$  \n",
    "c) $$ Cov(X - Y, X + Y) = 3 $$"
   ]
  },
  {
   "cell_type": "markdown",
   "metadata": {},
   "source": [
    "### Problem 5 (20 points)  \n",
    "Yerevan Children's railway’s length is 1 km. The train is moving from the station to the end in 15 minutes\n",
    "staying 1 minute there and returning in 15 minutes stopping for 30 minutes and again starts moving. You are\n",
    "staying near the tunnel which is in the 400th meter of the road from the station,  \n",
    "\n",
    "a) What is the probability that you will meet the train when it returns?  \n",
    "19/61  \n",
    "b) What is the probability that you will meet the train when it returns, if you know that train is\n",
    "not in the main station?  \n",
    "19/31 \n",
    "c) What is the probability that train will pass during 5 minutes?  \n",
    "10/61  \n",
    "d) What is the probability that train will pass during 7 minutes, if you know that train is not in\n",
    "the main station?  \n",
    "14/31 "
   ]
  }
 ],
 "metadata": {
  "language_info": {
   "name": "python"
  },
  "orig_nbformat": 4
 },
 "nbformat": 4,
 "nbformat_minor": 2
}
